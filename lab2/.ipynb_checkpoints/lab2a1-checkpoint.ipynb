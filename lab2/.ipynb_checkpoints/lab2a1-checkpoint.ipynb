{
 "cells": [
  {
   "cell_type": "code",
   "execution_count": 1,
   "id": "c65b0fbc-ca5e-40a2-9c8e-46db4748f3eb",
   "metadata": {},
   "outputs": [],
   "source": [
    "import pandas as pd"
   ]
  },
  {
   "cell_type": "code",
   "execution_count": 3,
   "id": "7716c88e-90a1-4994-9133-97595d0bf368",
   "metadata": {},
   "outputs": [
    {
     "data": {
      "text/html": [
       "<div>\n",
       "<style scoped>\n",
       "    .dataframe tbody tr th:only-of-type {\n",
       "        vertical-align: middle;\n",
       "    }\n",
       "\n",
       "    .dataframe tbody tr th {\n",
       "        vertical-align: top;\n",
       "    }\n",
       "\n",
       "    .dataframe thead th {\n",
       "        text-align: right;\n",
       "    }\n",
       "</style>\n",
       "<table border=\"1\" class=\"dataframe\">\n",
       "  <thead>\n",
       "    <tr style=\"text-align: right;\">\n",
       "      <th></th>\n",
       "      <th>a</th>\n",
       "      <th>b</th>\n",
       "      <th>c</th>\n",
       "    </tr>\n",
       "  </thead>\n",
       "  <tbody>\n",
       "    <tr>\n",
       "      <th>0</th>\n",
       "      <td>1</td>\n",
       "      <td>2</td>\n",
       "      <td>3</td>\n",
       "    </tr>\n",
       "    <tr>\n",
       "      <th>1</th>\n",
       "      <td>4</td>\n",
       "      <td>5</td>\n",
       "      <td>6</td>\n",
       "    </tr>\n",
       "  </tbody>\n",
       "</table>\n",
       "</div>"
      ],
      "text/plain": [
       "   a  b  c\n",
       "0  1  2  3\n",
       "1  4  5  6"
      ]
     },
     "execution_count": 3,
     "metadata": {},
     "output_type": "execute_result"
    }
   ],
   "source": [
    "import numpy as np\n",
    "import pandas as pd\n",
    "arr=np.array([[1,2,3],[4,5,6]])\n",
    "df=pd.DataFrame(arr,columns=[\"a\",\"b\",\"c\"])\n",
    "df"
   ]
  },
  {
   "cell_type": "code",
   "execution_count": 3,
   "id": "7b6031a4-4de6-416d-9b94-de0924da5a04",
   "metadata": {},
   "outputs": [
    {
     "name": "stdout",
     "output_type": "stream",
     "text": [
      "Requirement already satisfied: openpyxl in /home/rguktrkvalley/test/notebookenv/lib/python3.8/site-packages (3.1.2)\n",
      "Requirement already satisfied: et-xmlfile in /home/rguktrkvalley/test/notebookenv/lib/python3.8/site-packages (from openpyxl) (1.1.0)\n",
      "Note: you may need to restart the kernel to use updated packages.\n"
     ]
    }
   ],
   "source": [
    "pip install openpyxl"
   ]
  },
  {
   "cell_type": "code",
   "execution_count": 4,
   "id": "30a3fba8-709e-4fc7-8be9-f9f12bc04dc8",
   "metadata": {},
   "outputs": [
    {
     "name": "stdout",
     "output_type": "stream",
     "text": [
      "  product name  Quarter 1  Quarter 2  Quarter 3\n",
      "0        apple        450        330        872\n",
      "1       banana        186        680        698\n",
      "2        mango        123        870        780\n",
      "3       orange        158        960        980\n",
      "4       grapes        148        360        750\n",
      "5    pineapple        654        450        785\n",
      "6      avocado        896        658        950\n",
      "7       olives        325        550        650\n",
      "8        total       3815       5616       6915\n"
     ]
    }
   ],
   "source": [
    "df=pd.read_excel(\"/home/rguktrkvalley/Desktop/sales.xlsx\")\n",
    "print(df)"
   ]
  },
  {
   "cell_type": "code",
   "execution_count": 5,
   "id": "dcdfdb29-9933-4874-b0a5-4e451de0738f",
   "metadata": {},
   "outputs": [
    {
     "name": "stdout",
     "output_type": "stream",
     "text": [
      "the index for above file is:  RangeIndex(start=0, stop=9, step=1)\n"
     ]
    }
   ],
   "source": [
    "print(\"the index for above file is: \",df.index)"
   ]
  },
  {
   "cell_type": "code",
   "execution_count": 8,
   "id": "b00d4992-af5c-4b1a-9dc3-c08ae2d91440",
   "metadata": {},
   "outputs": [
    {
     "name": "stdout",
     "output_type": "stream",
     "text": [
      "column names are:  Index(['product name', 'Quarter 1', 'Quarter 2', 'Quarter 3'], dtype='object')\n"
     ]
    }
   ],
   "source": [
    "print(\"column names are: \",df.columns)"
   ]
  },
  {
   "cell_type": "code",
   "execution_count": 9,
   "id": "e4dccdbd-27e9-4d70-9a70-2f5bb43b7581",
   "metadata": {},
   "outputs": [
    {
     "name": "stdout",
     "output_type": "stream",
     "text": [
      "  product name  Quarter 1  Quarter 2  Quarter 3\n",
      "0        apple        450        330        872\n",
      "1       banana        186        680        698\n",
      "2        mango        123        870        780\n"
     ]
    }
   ],
   "source": [
    "print(df.head(3))"
   ]
  },
  {
   "cell_type": "code",
   "execution_count": 7,
   "id": "3ef41129-6909-43e0-83e2-f4d2963534d9",
   "metadata": {},
   "outputs": [
    {
     "data": {
      "text/html": [
       "<div>\n",
       "<style scoped>\n",
       "    .dataframe tbody tr th:only-of-type {\n",
       "        vertical-align: middle;\n",
       "    }\n",
       "\n",
       "    .dataframe tbody tr th {\n",
       "        vertical-align: top;\n",
       "    }\n",
       "\n",
       "    .dataframe thead th {\n",
       "        text-align: right;\n",
       "    }\n",
       "</style>\n",
       "<table border=\"1\" class=\"dataframe\">\n",
       "  <thead>\n",
       "    <tr style=\"text-align: right;\">\n",
       "      <th></th>\n",
       "      <th>product name</th>\n",
       "      <th>Quarter 1</th>\n",
       "      <th>Quarter 2</th>\n",
       "      <th>Quarter 3</th>\n",
       "    </tr>\n",
       "  </thead>\n",
       "  <tbody>\n",
       "    <tr>\n",
       "      <th>zero</th>\n",
       "      <td>apple</td>\n",
       "      <td>450</td>\n",
       "      <td>330</td>\n",
       "      <td>872</td>\n",
       "    </tr>\n",
       "    <tr>\n",
       "      <th>1</th>\n",
       "      <td>banana</td>\n",
       "      <td>186</td>\n",
       "      <td>680</td>\n",
       "      <td>698</td>\n",
       "    </tr>\n",
       "    <tr>\n",
       "      <th>2</th>\n",
       "      <td>mango</td>\n",
       "      <td>123</td>\n",
       "      <td>870</td>\n",
       "      <td>780</td>\n",
       "    </tr>\n",
       "    <tr>\n",
       "      <th>3</th>\n",
       "      <td>orange</td>\n",
       "      <td>158</td>\n",
       "      <td>960</td>\n",
       "      <td>980</td>\n",
       "    </tr>\n",
       "    <tr>\n",
       "      <th>4</th>\n",
       "      <td>grapes</td>\n",
       "      <td>148</td>\n",
       "      <td>360</td>\n",
       "      <td>750</td>\n",
       "    </tr>\n",
       "    <tr>\n",
       "      <th>5</th>\n",
       "      <td>pineapple</td>\n",
       "      <td>654</td>\n",
       "      <td>450</td>\n",
       "      <td>785</td>\n",
       "    </tr>\n",
       "    <tr>\n",
       "      <th>6</th>\n",
       "      <td>avocado</td>\n",
       "      <td>896</td>\n",
       "      <td>658</td>\n",
       "      <td>950</td>\n",
       "    </tr>\n",
       "    <tr>\n",
       "      <th>7</th>\n",
       "      <td>olives</td>\n",
       "      <td>325</td>\n",
       "      <td>550</td>\n",
       "      <td>650</td>\n",
       "    </tr>\n",
       "    <tr>\n",
       "      <th>8</th>\n",
       "      <td>total</td>\n",
       "      <td>3815</td>\n",
       "      <td>5616</td>\n",
       "      <td>6915</td>\n",
       "    </tr>\n",
       "  </tbody>\n",
       "</table>\n",
       "</div>"
      ],
      "text/plain": [
       "     product name  Quarter 1  Quarter 2  Quarter 3\n",
       "zero        apple        450        330        872\n",
       "1          banana        186        680        698\n",
       "2           mango        123        870        780\n",
       "3          orange        158        960        980\n",
       "4          grapes        148        360        750\n",
       "5       pineapple        654        450        785\n",
       "6         avocado        896        658        950\n",
       "7          olives        325        550        650\n",
       "8           total       3815       5616       6915"
      ]
     },
     "execution_count": 7,
     "metadata": {},
     "output_type": "execute_result"
    }
   ],
   "source": [
    "#renaming row\n",
    "df.rename({0:\"zero\"},axis=0)"
   ]
  },
  {
   "cell_type": "code",
   "execution_count": 12,
   "id": "62dfd546-9aae-495a-8c54-76b9ebad00ee",
   "metadata": {},
   "outputs": [
    {
     "name": "stdout",
     "output_type": "stream",
     "text": [
      "              0          1          2          3\n",
      "0  product name  Quarter 1  Quarter 2  Quarter 3\n",
      "1         apple        450        330        872\n",
      "2        banana        186        680        698\n",
      "3         mango        123        870        780\n",
      "4        orange        158        960        980\n",
      "5        grapes        148        360        750\n",
      "6     pineapple        654        450        785\n",
      "7       avocado        896        658        950\n",
      "8        olives        325        550        650\n",
      "9         total       3815       5616       6915\n"
     ]
    }
   ],
   "source": [
    "#to select - particular column\n",
    "df1=pd.read_excel(\"/home/rguktrkvalley/Desktop/sales.xlsx\", header= None )\n",
    "print(df1)"
   ]
  },
  {
   "cell_type": "code",
   "execution_count": 13,
   "id": "acefa821-2219-47c4-ac1f-580195960fce",
   "metadata": {},
   "outputs": [
    {
     "name": "stdout",
     "output_type": "stream",
     "text": [
      "  product name  Quarter 1  Quarter 2  Quarter 3\n",
      "0        apple      450.0        330        872\n",
      "1       banana      186.0        680        698\n",
      "2        mango      123.0        870        780\n",
      "3       orange      158.0        960        980\n",
      "4       grapes      148.0        360        750\n",
      "5    pineapple      654.0        450        785\n",
      "6      avocado      896.0        658        950\n",
      "7       olives      325.0        550        650\n",
      "8        total     3815.0       5616       6915\n"
     ]
    }
   ],
   "source": [
    "#to change datatype of particular column\n",
    "df2=pd.read_excel(\"/home/rguktrkvalley/Desktop/sales.xlsx\", dtype={\"Quarter 1\":float})\n",
    "print(df2)"
   ]
  },
  {
   "cell_type": "code",
   "execution_count": null,
   "id": "93fc9990-48b1-4a99-9f2b-5dc88ef0cd3d",
   "metadata": {},
   "outputs": [],
   "source": [
    "#creating csv file and printing it"
   ]
  },
  {
   "cell_type": "code",
   "execution_count": 14,
   "id": "5034343b-33ef-4ceb-b48a-d451e052aca0",
   "metadata": {},
   "outputs": [
    {
     "name": "stdout",
     "output_type": "stream",
     "text": [
      "   textbooks  quantity  cost  revenue\n",
      "0      maths       321   250    16050\n",
      "1    english       500   180    72000\n",
      "2      hindi       200   120    18000\n",
      "3    physics       620   420   133080\n",
      "4  chemistry       500   300    13500\n",
      "5    biology       300   128     9500\n",
      "6   accounts       200   200    16050\n",
      "7  economics       180   250  1015000\n"
     ]
    }
   ],
   "source": [
    "df3=pd.read_csv(\"/home/rguktrkvalley/Desktop/books.csv\")\n",
    "print(df3)"
   ]
  },
  {
   "cell_type": "code",
   "execution_count": 15,
   "id": "4784a5fe-0a86-4a17-9543-1f6b2d7a4ae4",
   "metadata": {},
   "outputs": [
    {
     "name": "stdout",
     "output_type": "stream",
     "text": [
      "   textbooks  quantity  cost  revenue\n",
      "6   accounts       200   200    16050\n",
      "7  economics       180   250  1015000\n"
     ]
    }
   ],
   "source": [
    "print(df3.tail(2))"
   ]
  },
  {
   "cell_type": "code",
   "execution_count": 16,
   "id": "5a5eab0c-1fe0-4463-9fac-c0ce1d862ab4",
   "metadata": {},
   "outputs": [
    {
     "name": "stdout",
     "output_type": "stream",
     "text": [
      "  textbooks  quantity  cost  revenue\n",
      "0     maths       321   250    16050\n",
      "1   english       500   180    72000\n"
     ]
    }
   ],
   "source": [
    "print(df3.head(2))"
   ]
  },
  {
   "cell_type": "code",
   "execution_count": 17,
   "id": "76713a26-b782-47b7-8bd0-682dc45fb526",
   "metadata": {},
   "outputs": [
    {
     "name": "stdout",
     "output_type": "stream",
     "text": [
      "   textbooks  quantity  price  revenue\n",
      "0      maths       321    250    16050\n",
      "1    english       500    180    72000\n",
      "2      hindi       200    120    18000\n",
      "3    physics       620    420   133080\n",
      "4  chemistry       500    300    13500\n",
      "5    biology       300    128     9500\n",
      "6   accounts       200    200    16050\n",
      "7  economics       180    250  1015000\n"
     ]
    }
   ],
   "source": [
    "df3=df3.rename({\"cost\":\"price\"},axis=1)\n",
    "print(df3)"
   ]
  },
  {
   "cell_type": "code",
   "execution_count": 18,
   "id": "226d4920-edb6-4fcd-9733-269e72f391f2",
   "metadata": {},
   "outputs": [
    {
     "name": "stdout",
     "output_type": "stream",
     "text": [
      "0        maths\n",
      "1      english\n",
      "2        hindi\n",
      "3      physics\n",
      "4    chemistry\n",
      "5      biology\n",
      "6     accounts\n",
      "7    economics\n",
      "Name: textbooks, dtype: object\n"
     ]
    }
   ],
   "source": [
    "#printing single column\n",
    "print(df3[\"textbooks\"])"
   ]
  },
  {
   "cell_type": "code",
   "execution_count": 19,
   "id": "717cebf9-4bf1-4bf5-942e-0ef806032254",
   "metadata": {},
   "outputs": [
    {
     "name": "stdout",
     "output_type": "stream",
     "text": [
      "(8, 4)\n"
     ]
    }
   ],
   "source": [
    "print(df3.shape)"
   ]
  },
  {
   "cell_type": "code",
   "execution_count": 20,
   "id": "05873df0-e228-451f-aa95-20f13c69e2c1",
   "metadata": {},
   "outputs": [
    {
     "name": "stdout",
     "output_type": "stream",
     "text": [
      "   textbooks  quantity  price  revenue\n",
      "0      maths       321    250    16050\n",
      "1    english       500    180    72000\n",
      "2      hindi       200    120    18000\n",
      "3    physics       620    420   133080\n",
      "4  chemistry       500    300    13500\n",
      "5    biology       300    128     9500\n",
      "6   accounts       200    200    16050\n",
      "7  economics       180    250  1015000\n",
      "8     social       300    200    60000\n"
     ]
    }
   ],
   "source": [
    "#adding column or row\n",
    "df3.loc[8]=[\"social\",300,200,60000]\n",
    "print(df3)"
   ]
  },
  {
   "cell_type": "code",
   "execution_count": 21,
   "id": "e3426786-5119-49e8-b67f-ce4974ffb535",
   "metadata": {},
   "outputs": [
    {
     "name": "stdout",
     "output_type": "stream",
     "text": [
      "     Duration  Pulse  Maxpulse  Calories\n",
      "0          60    110       130     409.1\n",
      "1          60    117       145     479.0\n",
      "2          60    103       135     340.0\n",
      "3          45    109       175     282.4\n",
      "4          45    117       148     406.0\n",
      "..        ...    ...       ...       ...\n",
      "164        60    105       140     290.8\n",
      "165        60    110       145     300.0\n",
      "166        60    115       145     310.2\n",
      "167        75    120       150     320.4\n",
      "168        75    125       150     330.4\n",
      "\n",
      "[169 rows x 4 columns]\n"
     ]
    }
   ],
   "source": [
    "#downloding dataframe from kaggle and impotinig it\n",
    "df4=pd.read_csv(\"/home/rguktrkvalley/Desktop/data.csv\")\n",
    "print(df4)"
   ]
  },
  {
   "cell_type": "code",
   "execution_count": 22,
   "id": "d01110fc-60c8-4c2c-87fb-a6f3a36c546b",
   "metadata": {},
   "outputs": [
    {
     "data": {
      "text/html": [
       "<div>\n",
       "<style scoped>\n",
       "    .dataframe tbody tr th:only-of-type {\n",
       "        vertical-align: middle;\n",
       "    }\n",
       "\n",
       "    .dataframe tbody tr th {\n",
       "        vertical-align: top;\n",
       "    }\n",
       "\n",
       "    .dataframe thead th {\n",
       "        text-align: right;\n",
       "    }\n",
       "</style>\n",
       "<table border=\"1\" class=\"dataframe\">\n",
       "  <thead>\n",
       "    <tr style=\"text-align: right;\">\n",
       "      <th></th>\n",
       "      <th>Duration</th>\n",
       "      <th>Pulse</th>\n",
       "      <th>Maxpulse</th>\n",
       "      <th>Calories</th>\n",
       "    </tr>\n",
       "  </thead>\n",
       "  <tbody>\n",
       "    <tr>\n",
       "      <th>0</th>\n",
       "      <td>60</td>\n",
       "      <td>110</td>\n",
       "      <td>130</td>\n",
       "      <td>409.1</td>\n",
       "    </tr>\n",
       "    <tr>\n",
       "      <th>1</th>\n",
       "      <td>60</td>\n",
       "      <td>117</td>\n",
       "      <td>145</td>\n",
       "      <td>479.0</td>\n",
       "    </tr>\n",
       "  </tbody>\n",
       "</table>\n",
       "</div>"
      ],
      "text/plain": [
       "   Duration  Pulse  Maxpulse  Calories\n",
       "0        60    110       130     409.1\n",
       "1        60    117       145     479.0"
      ]
     },
     "execution_count": 22,
     "metadata": {},
     "output_type": "execute_result"
    }
   ],
   "source": [
    "df4.head(2)"
   ]
  },
  {
   "cell_type": "code",
   "execution_count": 17,
   "id": "f8da222c-9edb-4f70-a70d-7218054e8d5e",
   "metadata": {},
   "outputs": [
    {
     "data": {
      "text/html": [
       "<div>\n",
       "<style scoped>\n",
       "    .dataframe tbody tr th:only-of-type {\n",
       "        vertical-align: middle;\n",
       "    }\n",
       "\n",
       "    .dataframe tbody tr th {\n",
       "        vertical-align: top;\n",
       "    }\n",
       "\n",
       "    .dataframe thead th {\n",
       "        text-align: right;\n",
       "    }\n",
       "</style>\n",
       "<table border=\"1\" class=\"dataframe\">\n",
       "  <thead>\n",
       "    <tr style=\"text-align: right;\">\n",
       "      <th></th>\n",
       "      <th>Duration</th>\n",
       "      <th>Pulse</th>\n",
       "      <th>Maxpulse</th>\n",
       "      <th>Calories</th>\n",
       "    </tr>\n",
       "  </thead>\n",
       "  <tbody>\n",
       "    <tr>\n",
       "      <th>167</th>\n",
       "      <td>75</td>\n",
       "      <td>120</td>\n",
       "      <td>150</td>\n",
       "      <td>320.4</td>\n",
       "    </tr>\n",
       "    <tr>\n",
       "      <th>168</th>\n",
       "      <td>75</td>\n",
       "      <td>125</td>\n",
       "      <td>150</td>\n",
       "      <td>330.4</td>\n",
       "    </tr>\n",
       "  </tbody>\n",
       "</table>\n",
       "</div>"
      ],
      "text/plain": [
       "     Duration  Pulse  Maxpulse  Calories\n",
       "167        75    120       150     320.4\n",
       "168        75    125       150     330.4"
      ]
     },
     "execution_count": 17,
     "metadata": {},
     "output_type": "execute_result"
    }
   ],
   "source": [
    "df4.tail(2)"
   ]
  },
  {
   "cell_type": "code",
   "execution_count": 23,
   "id": "bdc56f49-4497-49a0-ab63-16075311a017",
   "metadata": {},
   "outputs": [
    {
     "name": "stdout",
     "output_type": "stream",
     "text": [
      "     time  Pulse  Maxpulse  Calories\n",
      "0      60    110       130     409.1\n",
      "1      60    117       145     479.0\n",
      "2      60    103       135     340.0\n",
      "3      45    109       175     282.4\n",
      "4      45    117       148     406.0\n",
      "..    ...    ...       ...       ...\n",
      "164    60    105       140     290.8\n",
      "165    60    110       145     300.0\n",
      "166    60    115       145     310.2\n",
      "167    75    120       150     320.4\n",
      "168    75    125       150     330.4\n",
      "\n",
      "[169 rows x 4 columns]\n"
     ]
    }
   ],
   "source": [
    "df4=df4.rename({\"Duration\":\"time\"},axis=1)\n",
    "print(df4)"
   ]
  },
  {
   "cell_type": "code",
   "execution_count": 11,
   "id": "323124bb-1b81-4877-9708-6d4313b69dff",
   "metadata": {},
   "outputs": [],
   "source": [
    "#expoting it back\n",
    "df4.to_csv(\"/home/rguktrkvalley/Desktop/calories.csv\")"
   ]
  },
  {
   "cell_type": "code",
   "execution_count": null,
   "id": "8626ae3f-c8b9-43e7-8d0a-a5032a37442a",
   "metadata": {},
   "outputs": [],
   "source": []
  }
 ],
 "metadata": {
  "kernelspec": {
   "display_name": "Python 3 (ipykernel)",
   "language": "python",
   "name": "python3"
  },
  "language_info": {
   "codemirror_mode": {
    "name": "ipython",
    "version": 3
   },
   "file_extension": ".py",
   "mimetype": "text/x-python",
   "name": "python",
   "nbconvert_exporter": "python",
   "pygments_lexer": "ipython3",
   "version": "3.8.10"
  }
 },
 "nbformat": 4,
 "nbformat_minor": 5
}
