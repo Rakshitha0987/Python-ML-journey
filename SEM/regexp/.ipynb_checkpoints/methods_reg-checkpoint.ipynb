{
 "cells": [
  {
   "cell_type": "code",
   "execution_count": 2,
   "id": "6b4a2329-eb0f-4a5c-9947-caf7428988ba",
   "metadata": {},
   "outputs": [
    {
     "name": "stdout",
     "output_type": "stream",
     "text": [
      "<re.Match object; span=(10, 14), match='high'>\n",
      "['i', 'i', 'i', 'i', 'i']\n",
      "['python is ', ' level programming language,', ' expectations']\n",
      "<re.Match object; span=(0, 6), match='python'>\n",
      "None\n",
      "None\n",
      "<re.Match object; span=(0, 6), match='python'>\n",
      "not found\n",
      "match\n"
     ]
    }
   ],
   "source": [
    "import re\n",
    "string=\"python is high level programming language,high expectations\"\n",
    "x=re.search(\"high\",string)\n",
    "print(x)\n",
    "s=re.split(\"high\",string)\n",
    "f=re.findall(\"i\",string)\n",
    "print(f)\n",
    "print(s)\n",
    "m=re.match(\"python\",string)\n",
    "print(m)\n",
    "m1=re.match(\"high\",string)\n",
    "print(m1)\n",
    "string2=\"python\"\n",
    "f1=re.fullmatch(\"python\",string)\n",
    "f2=re.fullmatch(\"python\",string2)\n",
    "print(f1)\n",
    "print(f2)\n",
    "if f1:\n",
    "    print(\"found\")\n",
    "else:\n",
    "    print(\"not found\")\n",
    "if f2:\n",
    "    print(\"match\")\n",
    "else:\n",
    "    print(\"not match\")\n",
    "    "
   ]
  }
 ],
 "metadata": {
  "kernelspec": {
   "display_name": "Python 3 (ipykernel)",
   "language": "python",
   "name": "python3"
  },
  "language_info": {
   "codemirror_mode": {
    "name": "ipython",
    "version": 3
   },
   "file_extension": ".py",
   "mimetype": "text/x-python",
   "name": "python",
   "nbconvert_exporter": "python",
   "pygments_lexer": "ipython3",
   "version": "3.8.10"
  }
 },
 "nbformat": 4,
 "nbformat_minor": 5
}
