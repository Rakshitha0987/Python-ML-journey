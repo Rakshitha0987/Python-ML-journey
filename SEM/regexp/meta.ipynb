{
 "cells": [
  {
   "cell_type": "code",
   "execution_count": null,
   "id": "530c9294-4f47-4b43-9065-6018e6f74c69",
   "metadata": {},
   "outputs": [],
   "source": [
    "import re"
   ]
  },
  {
   "cell_type": "code",
   "execution_count": 2,
   "id": "4514ef0d-1b14-4578-83a1-0f6e4df94850",
   "metadata": {},
   "outputs": [
    {
     "name": "stdout",
     "output_type": "stream",
     "text": [
      "[]\n",
      "no, does not starts with python\n"
     ]
    }
   ],
   "source": [
    "import re\n",
    "\n",
    "#^(caret)=used to check whether particular string starts with a particular pattern or not\n",
    "string=\"python is high level progamming language python\"\n",
    "x=re.findall(\"^pyton\",string)\n",
    "print(x)\n",
    "if x:\n",
    "    print(\"yes,starts with python\")\n",
    "else:\n",
    "    print(\"no, does not starts with python\")\n"
   ]
  },
  {
   "cell_type": "code",
   "execution_count": 3,
   "id": "eaca0fba-95c0-4ba2-a965-7ee6a945d52b",
   "metadata": {},
   "outputs": [
    {
     "name": "stdout",
     "output_type": "stream",
     "text": [
      "['python']\n",
      "yes,ends with python\n"
     ]
    }
   ],
   "source": [
    "#$dollar=checks is string ends with particular charactetr or not\n",
    "string=\"python is high level progamming language python\"\n",
    "x=re.findall(\"python$\",string)\n",
    "print(x)\n",
    "if x:\n",
    "    print(\"yes,ends with python\")\n",
    "else:\n",
    "    print(\"no, does not ends with python\")"
   ]
  },
  {
   "cell_type": "code",
   "execution_count": 4,
   "id": "e8608289-0852-4e92-bf59-a9b945d7077e",
   "metadata": {},
   "outputs": [
    {
     "name": "stdout",
     "output_type": "stream",
     "text": [
      "<re.Match object; span=(37, 40), match='age'>\n",
      "['plo', 'pla']\n",
      "yes,starts with python\n"
     ]
    }
   ],
   "source": [
    "#.(dot) used to match single char excpet newline char\n",
    "string=\"python is high level progamming language python plot play\"\n",
    "x=re.search(\"a.e\",string)\n",
    "y=re.findall(\"pl.\",string)\n",
    "print(x)\n",
    "print(y)\n",
    "if x:\n",
    "    print(\"yes,starts with python\")\n",
    "else:\n",
    "    print(\"no, does not starts with python\")"
   ]
  },
  {
   "cell_type": "code",
   "execution_count": 5,
   "id": "060b71c6-583b-4926-820f-faea5dad05d9",
   "metadata": {},
   "outputs": [
    {
     "name": "stdout",
     "output_type": "stream",
     "text": [
      "<re.Match object; span=(0, 1), match='p'>\n",
      "None\n"
     ]
    }
   ],
   "source": [
    "##(slash) \\ escape char\n",
    "\n",
    "string=\"python is high level progamming language python\"\n",
    "x=re.search(\".\",string)\n",
    "y=re.search(\"\\.\",string)\n",
    "print(x)\n",
    "print(y)"
   ]
  },
  {
   "cell_type": "code",
   "execution_count": 6,
   "id": "7407e96c-bf60-4964-8946-c782cdae3958",
   "metadata": {},
   "outputs": [
    {
     "name": "stdout",
     "output_type": "stream",
     "text": [
      "['', '', '', '', '', '', '', '', '', '', '', '', '', '', '', 'l', '', '', '', 'l', '', '', '', '', '', '', '', '', '', '', '', '', 'l', '', '', '', '', '', '', '', '', '', '', '', '', '', '', '', 'l', '', '', '', '', '']\n",
      "['le', 'l', 'l', 'leee']\n"
     ]
    }
   ],
   "source": [
    "#star * =zero or more occurances of a string\n",
    "\n",
    "string=\"python is high level progamming language python leeeo\"\n",
    "x=re.findall(\"le*\",string)\n",
    "y=re.findall(\"l*\",string)\n",
    "print(y)\n",
    "print(x)\n"
   ]
  },
  {
   "cell_type": "code",
   "execution_count": 7,
   "id": "fcdf7848-f990-4251-85ab-31bb6cf2adec",
   "metadata": {},
   "outputs": [
    {
     "name": "stdout",
     "output_type": "stream",
     "text": [
      "<re.Match object; span=(0, 1), match='p'>\n",
      "None\n"
     ]
    }
   ],
   "source": [
    "##(slash) \\ escape charstring=\"python is high level progamming language python leeo\"\n",
    "x=re.findall(\"le+\",string)\n",
    "y=re.findall(\"l+\",string)\n",
    "print(y)\n",
    "print(x)\n",
    "string=\"python is high level progamming language python\"\n",
    "x=re.search(\".\",string)\n",
    "y=re.search(\"\\.\",string)\n",
    "print(x)\n",
    "print(y)"
   ]
  },
  {
   "cell_type": "code",
   "execution_count": 8,
   "id": "a509f281-ad54-4a0d-a8fc-b3d402bbbbf7",
   "metadata": {},
   "outputs": [
    {
     "name": "stdout",
     "output_type": "stream",
     "text": [
      "['l', 'l', 'l', 'l']\n",
      "['le', 'lee']\n"
     ]
    }
   ],
   "source": [
    "#plus +\n",
    "string=\"python is high level progamming language python leeo\"\n",
    "x=re.findall(\"le+\",string)\n",
    "y=re.findall(\"l+\",string)\n",
    "print(y)\n",
    "print(x)"
   ]
  },
  {
   "cell_type": "code",
   "execution_count": 9,
   "id": "f13ac1c0-a2f1-4116-9fbb-3085aefb515b",
   "metadata": {},
   "outputs": [
    {
     "name": "stdout",
     "output_type": "stream",
     "text": [
      "['p', 'y', 't', 'h', 'o', 'n', 'i', 's', 'h', 'i', 'g', 'h', 'l', 'e', 'v', 'e', 'l', 'p', 'r', 'o', 'g', 'a', 'm', 'm', 'i', 'n', 'g', 'l', 'a', 'n', 'g', 'u', 'a', 'g', 'e', 'p', 'y', 't', 'h', 'o', 'n']\n",
      "[]\n"
     ]
    }
   ],
   "source": [
    "# [] (brackets)\n",
    "string=\"python is high level progamming language python\"\n",
    "x=re.findall(\"[A-Z]\",string)\n",
    "y=re.findall(\"[a-z]\",string)\n",
    "print(y)\n",
    "print(x)"
   ]
  },
  {
   "cell_type": "code",
   "execution_count": 10,
   "id": "87d4d7d3-0bef-45a6-b81d-567e88413477",
   "metadata": {},
   "outputs": [
    {
     "name": "stdout",
     "output_type": "stream",
     "text": [
      "['mm', 'mm', 'mm', 'mm', 'mm']\n",
      "['mm', 'm', 'mmmmm', 'mm', 'mmm']\n"
     ]
    }
   ],
   "source": [
    "# {} curly braces=matches exactly specigfied no of occurances\n",
    "\n",
    "string=\"python is high level progamming language python meta mmmmmmm mmm \"\n",
    "y=re.findall(\"m{2}\",string)\n",
    "print(y)\n",
    "x=re.findall(\"m{1,5}\",string)\n",
    "print(x)"
   ]
  },
  {
   "cell_type": "code",
   "execution_count": 11,
   "id": "ccf85f69-ed1b-473c-b509-553317ebdced",
   "metadata": {},
   "outputs": [
    {
     "name": "stdout",
     "output_type": "stream",
     "text": [
      "['high', 'level']\n",
      "['is']\n"
     ]
    }
   ],
   "source": [
    "#() paranthesis=used to group sub patterns\n",
    "\n",
    "string=\"python is high level progamming language python\"\n",
    "x=re.findall(\"(is)\",string)\n",
    "y=re.findall(\"(high|level)\",string)\n",
    "print(y)\n",
    "print(x)"
   ]
  },
  {
   "cell_type": "code",
   "execution_count": null,
   "id": "ae15f5bf-9f8f-4f36-90e6-9715e6f97b79",
   "metadata": {},
   "outputs": [],
   "source": [
    "#sequence characters\n"
   ]
  },
  {
   "cell_type": "code",
   "execution_count": 12,
   "id": "7a4fe9e1-dba3-4052-81e3-981147abc640",
   "metadata": {},
   "outputs": [
    {
     "name": "stdout",
     "output_type": "stream",
     "text": [
      "['python is']\n",
      "['python is']\n"
     ]
    }
   ],
   "source": [
    "#\\A=matches with string begins with the given character\n",
    "string=\"python is high level progamming language python\"\n",
    "x=re.findall(\"\\Apython is\",string)\n",
    "y=re.findall(\"^python is\",string)\n",
    "print(y)\n",
    "print(x)"
   ]
  },
  {
   "cell_type": "code",
   "execution_count": 15,
   "id": "aad8c65c-0feb-4e64-96ee-e9b8aead4639",
   "metadata": {},
   "outputs": [
    {
     "name": "stdout",
     "output_type": "stream",
     "text": [
      "['python', 'python']\n"
     ]
    }
   ],
   "source": [
    "#\\b matches if word begins or end with given character\n",
    "string=\"python is high level progamming language python\"\n",
    "#p=r'\\b' + 'python' + r'\\b'\n",
    "x=re.findall(r\"\\bpython\",string) \n",
    "print(x)    #['python', 'python']'''\n"
   ]
  },
  {
   "cell_type": "code",
   "execution_count": 16,
   "id": "689d7ea1-b3f1-432c-b8cb-7e4b6a90c949",
   "metadata": {},
   "outputs": [
    {
     "name": "stdout",
     "output_type": "stream",
     "text": [
      "['1', '9', '9', '1', '2']\n",
      "['p', 'y', 't', 'h', 'o', 'n', ' ', 'i', 's', ' ', 'h', 'i', 'g', 'h', ' ', 'l', 'e', 'v', 'e', 'l', ' ', 'p', 'r', 'o', 'g', 'a', 'm', 'm', 'i', 'n', 'g', ' ', 'l', 'a', 'n', 'g', 'u', 'a', 'g', 'e', ' ', 'p', 'y', 't', 'h', 'o', 'n', ' ', 'f', 'o', 'u', 'n', 'd', 'e', 'd', ' ', 'i', 'n', ' ', ' ', 'f', 'e', 'b']\n",
      "[' ', ' ', ' ', ' ', ' ', ' ', ' ', ' ', ' ', ' ']\n",
      "['p', 'y', 't', 'h', 'o', 'n', 'i', 's', 'h', 'i', 'g', 'h', 'l', 'e', 'v', 'e', 'l', 'p', 'r', 'o', 'g', 'a', 'm', 'm', 'i', 'n', 'g', 'l', 'a', 'n', 'g', 'u', 'a', 'g', 'e', 'p', 'y', 't', 'h', 'o', 'n', 'f', 'o', 'u', 'n', 'd', 'e', 'd', 'i', 'n', '1', '9', '9', '1', 'f', 'e', 'b', '2']\n",
      "['feb2']\n",
      "['p', 'y', 't', 'h', 'o', 'n', 'i', 's', 'h', 'i', 'g', 'h', 'l', 'e', 'v', 'e', 'l', 'p', 'r', 'o', 'g', 'a', 'm', 'm', 'i', 'n', 'g', 'l', 'a', 'n', 'g', 'u', 'a', 'g', 'e', 'p', 'y', 't', 'h', 'o', 'n', 'f', 'o', 'u', 'n', 'd', 'e', 'd', 'i', 'n', '1', '9', '9', '1', 'f', 'e', 'b', '2']\n"
     ]
    }
   ],
   "source": [
    "#d matches any digit [0-9] \n",
    "#D matches any non degit chracter\n",
    "#\\s macthes any white space character\n",
    "#\\w matches with alpha numeric character\n",
    "#\\S matches no spave\\\n",
    "\n",
    "string=\"python is high level progamming language python founded in 1991 feb2\"\n",
    "x=re.findall(\"\\d\",string)\n",
    "y=re.findall(\"\\D\",string)\n",
    "z=re.findall(\"\\s\",string)\n",
    "p=re.findall(\"\\w\",string)\n",
    "c=re.findall(\"feb2\\Z\",string)\n",
    "s=re.findall(\"\\S\",string)\n",
    "#\\z matches if the string ends with givrn regexp\n",
    "print(x)\n",
    "print(y)\n",
    "print(z)\n",
    "print(p)\n",
    "print(c)\n",
    "print(s)"
   ]
  },
  {
   "cell_type": "code",
   "execution_count": 20,
   "id": "d5d5cd61-6594-4889-b93f-96bc4810e374",
   "metadata": {},
   "outputs": [
    {
     "name": "stdout",
     "output_type": "stream",
     "text": [
      "['n', 'l', 'l', 'a', 'n', 'l', 'a', 'n', 'a', 'n', 'n', 'n']\n",
      "['h', 'h', 'g', 'h', 'e', 'e', 'g', 'g', 'g', 'g', 'e', 'h', 'f', 'e', 'e']\n",
      "['F']\n",
      "['p', 'y', 't', 'h', 'o', 'n', 'i', 's', 'h', 'i', 'g', 'h', 'l', 'e', 'v', 'e', 'l', 'p', 'r', 'o', 'g', 'a', 'm', 'm', 'i', 'n', 'g', 'l', 'a', 'n', 'g', 'u', 'a', 'g', 'e', 'p', 'y', 't', 'h', 'o', 'n', 'f', 'o', 'u', 'n', 'd', 'e', 'd', 'i', 'n', 'F', 'e', 'b', 'r']\n",
      "[' ', ' ', ' ', ' ', ' ', ' ', ' ', ' ', ' ', '1', '9', '9', '1', ' ', 'F', '2', '2', ' ', '2', ' ', '2']\n",
      "['19', '91', '22']\n"
     ]
    }
   ],
   "source": [
    "#[abc]\n",
    "\n",
    "string=\"python is high level progamming language python founded in 1991 Feb22 2 r2\"\n",
    "x=re.findall(\"[aln]\",string)\n",
    "y=re.findall(\"[e-h]\",string)\n",
    "z=re.findall(\"[A-Z]\",string)\n",
    "p=re.findall(\"[A-z]\",string)\n",
    "q=re.findall(\"[^a-z]\",string)\n",
    "r=re.findall(\"[0-9][0-9]\",string)\n",
    "print(x)\n",
    "print(y)\n",
    "print(z)\n",
    "print(p)\n",
    "print(q)\n",
    "print(r)\n"
   ]
  },
  {
   "cell_type": "code",
   "execution_count": 18,
   "id": "69420bb5-8e9c-4caa-9eb3-b2b81c778bf7",
   "metadata": {},
   "outputs": [
    {
     "name": "stdout",
     "output_type": "stream",
     "text": [
      "['py', 'th', 'on', ' i', 's ', 'hi', 'gh', ' l', 'ev', 'el', ' p', 'ro', 'ga', 'mm', 'in', 'g ', 'la', 'ng', 'ua', 'ge', ' p', 'yt', 'ho', 'n ', 'fo', 'un', 'de', 'd ', 'in', ' 1', '99', '1 ', 'Fe', 'b2']\n"
     ]
    }
   ],
   "source": [
    "string=\"python is high level progamming language python founded in 1991 Feb22\"\n",
    "x=re.findall(\"..\",string)\n",
    "print(x)"
   ]
  }
 ],
 "metadata": {
  "kernelspec": {
   "display_name": "Python 3 (ipykernel)",
   "language": "python",
   "name": "python3"
  },
  "language_info": {
   "codemirror_mode": {
    "name": "ipython",
    "version": 3
   },
   "file_extension": ".py",
   "mimetype": "text/x-python",
   "name": "python",
   "nbconvert_exporter": "python",
   "pygments_lexer": "ipython3",
   "version": "3.8.10"
  }
 },
 "nbformat": 4,
 "nbformat_minor": 5
}
