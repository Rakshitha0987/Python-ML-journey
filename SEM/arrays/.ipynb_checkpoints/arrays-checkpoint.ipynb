{
 "cells": [
  {
   "cell_type": "code",
   "execution_count": 1,
   "id": "5d9e298c-70f3-4a64-9e78-2b87f21f3ea7",
   "metadata": {},
   "outputs": [],
   "source": [
    "import numpy as np"
   ]
  },
  {
   "cell_type": "code",
   "execution_count": 2,
   "id": "f66f75ef-3714-4e8d-81f9-e24da26a7768",
   "metadata": {},
   "outputs": [
    {
     "name": "stdout",
     "output_type": "stream",
     "text": [
      "0\n",
      "2\n"
     ]
    }
   ],
   "source": [
    "#od\n",
    "a1=np.array(2)\n",
    "print(a1.ndim)\n",
    "print(a1)"
   ]
  },
  {
   "cell_type": "code",
   "execution_count": 3,
   "id": "3cab9b80-2ccc-49a8-a050-878062c72425",
   "metadata": {},
   "outputs": [
    {
     "name": "stdout",
     "output_type": "stream",
     "text": [
      "[1.  2.  3.3]\n",
      "1 (3,) 3 float64\n"
     ]
    }
   ],
   "source": [
    "#1d \n",
    "a2=np.array([1,2,3.3])\n",
    "print(a2)\n",
    "print(a2.ndim,a2.shape,a2.size,a2.dtype)\n"
   ]
  },
  {
   "cell_type": "code",
   "execution_count": 4,
   "id": "1295f6ba-25a0-449e-94ec-4e9bdfc69c2a",
   "metadata": {},
   "outputs": [
    {
     "name": "stdout",
     "output_type": "stream",
     "text": [
      "[['1' '2' '3']\n",
      " ['3.5' 'k' '2']]\n",
      "2 (2, 3) 6 <U32\n"
     ]
    }
   ],
   "source": [
    "#2d\n",
    "a3=np.array([[1,2,3],[3.5,\"k\",2]])\n",
    "print(a3)\n",
    "print(a3.ndim,a3.shape,a3.size,a3.dtype)\n"
   ]
  },
  {
   "cell_type": "code",
   "execution_count": 5,
   "id": "aeaa1e35-17d3-4578-8bdc-954a261837b5",
   "metadata": {},
   "outputs": [
    {
     "name": "stdout",
     "output_type": "stream",
     "text": [
      "[[['1' '2' '3']\n",
      "  ['3.5' 'k' '2']]\n",
      "\n",
      " [['50' '60' '70']\n",
      "  ['70' '80' '20']]\n",
      "\n",
      " [['1' '2' '3']\n",
      "  ['1' '2' '3']]]\n",
      "3 (3, 2, 3) 18 <U32\n",
      "80\n"
     ]
    }
   ],
   "source": [
    "#3d\n",
    "\n",
    "a4=np.array([[[1,2,3],[3.5,\"k\",2]],[[50,60,70],[70,80,20]],[[1,2,3],[1,2,3]]])\n",
    "print(a4)\n",
    "print(a4.ndim,a4.shape,a4.size,a4.dtype)\n",
    "print(a4[1,1,1])"
   ]
  },
  {
   "cell_type": "code",
   "execution_count": 13,
   "id": "4848a3d5-3887-4c85-8931-e08cb29d987e",
   "metadata": {},
   "outputs": [
    {
     "name": "stdout",
     "output_type": "stream",
     "text": [
      "\n",
      " [['1' '2' '3']\n",
      " ['4' '5' '6']]\n",
      "\n",
      " [[0. 0.]\n",
      " [0. 0.]\n",
      " [0. 0.]]\n",
      "\n",
      " [[1. 1.]\n",
      " [1. 1.]\n",
      " [1. 1.]]\n",
      "\n",
      " [[1. 0. 0.]\n",
      " [0. 1. 0.]\n",
      " [0. 0. 1.]]\n",
      "\n",
      " [['1' '4']\n",
      " ['2' '5']\n",
      " ['3' '6']]\n",
      "[1 3 5 7 9]\n",
      "[['1' '2' '3']\n",
      " ['4' '5' '6']]\n"
     ]
    }
   ],
   "source": [
    "#other ways to create array\n",
    "\n",
    "a1=np.array([[1,2,3],[4,5,6]],dtype=str)#dtyep=str   bool int float\n",
    "print(\"\\n\",a1)\n",
    "a2=np.zeros((3,2))\n",
    "print(\"\\n\",a2)\n",
    "a2=np.ones((3,2))\n",
    "print(\"\\n\",a2)\n",
    "a3=np.eye((3))\n",
    "print(\"\\n\",a3)\n",
    "a4=a1.transpose()\n",
    "print(\"\\n\",a4)\n",
    "a5=np.arange(1,11,2)\n",
    "print(a5)\n",
    "print(a1)\n"
   ]
  },
  {
   "cell_type": "code",
   "execution_count": 12,
   "id": "0c352e39-5be6-4283-bfc7-2359febe27ae",
   "metadata": {},
   "outputs": [
    {
     "name": "stdout",
     "output_type": "stream",
     "text": [
      "\n",
      " [[100  40  25]\n",
      " [ 98  35  20]]\n",
      "\n",
      " [[ 25  40 100]\n",
      " [ 20  35  98]]\n",
      "\n",
      " [[ 20  35  98]\n",
      " [ 25  40 100]]\n",
      "\n",
      "max in array=  100\n",
      "\n",
      "max in rows=  [ 98 100]\n",
      "\n",
      "max in clos=  [ 25  40 100]\n",
      "\n",
      " [[[1 2 3]]] 3\n",
      "\n",
      "sum in array=  318\n",
      "\n",
      "sum in rows=  [153 165]\n",
      "\n",
      "sum in clos=  [ 45  75 198]\n",
      "\n",
      "std in array=  33.166247903554\n",
      "\n",
      "std in rows=  [33.7934905  32.40370349]\n",
      "\n",
      "std in clos=  [2.5 2.5 1. ]\n",
      "[[1 2 3]\n",
      " [4 5 6]]\n",
      "\n",
      " [1 2 3 4 5 6]\n"
     ]
    }
   ],
   "source": [
    "a=np.array([[100,40,25],[98,35,20]])\n",
    "print(\"\\n\",a)\n",
    "a.sort()#row wise\n",
    "print(\"\\n\",a)\n",
    "a.sort(axis=0)#col wise\n",
    "print(\"\\n\",a)\n",
    "print(\"\\nmax in array= \",a.max())\n",
    "print(\"\\nmax in rows= \",a.max(axis=1))\n",
    "print(\"\\nmax in clos= \",a.max(axis=0))\n",
    "a6=np.array([1,2,3],ndmin=3)\n",
    "print(\"\\n\",a6,a6.ndim)\n",
    "print(\"\\nsum in array= \",a.sum())\n",
    "print(\"\\nsum in rows= \",a.sum(axis=1))\n",
    "print(\"\\nsum in clos= \",a.sum(axis=0))\n",
    "print(\"\\nstd in array= \",a.std())\n",
    "print(\"\\nstd in rows= \",a.std(axis=1))\n",
    "print(\"\\nstd in clos= \",a.std(axis=0))\n",
    "a7=np.array([1,2,3,4,5,6])\n",
    "print(a7.reshape(2,3))\n",
    "print(\"\\n\",a7)\n"
   ]
  }
 ],
 "metadata": {
  "kernelspec": {
   "display_name": "Python 3 (ipykernel)",
   "language": "python",
   "name": "python3"
  },
  "language_info": {
   "codemirror_mode": {
    "name": "ipython",
    "version": 3
   },
   "file_extension": ".py",
   "mimetype": "text/x-python",
   "name": "python",
   "nbconvert_exporter": "python",
   "pygments_lexer": "ipython3",
   "version": "3.8.10"
  }
 },
 "nbformat": 4,
 "nbformat_minor": 5
}
