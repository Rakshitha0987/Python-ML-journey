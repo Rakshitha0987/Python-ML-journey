{
 "cells": [
  {
   "cell_type": "code",
   "execution_count": 1,
   "id": "f3f785e9-b51b-4caf-9e0f-11f03fa24efc",
   "metadata": {
    "vscode": {
     "languageId": "python"
    }
   },
   "outputs": [
    {
     "name": "stdout",
     "output_type": "stream",
     "text": [
      "['a' 'e' 'i' 'o' 'u']\n"
     ]
    }
   ],
   "source": [
    "#1D Array called vowels having the elements 'a','e','i','o','u'\n",
    "import numpy as np\n",
    "vowel=np.array(['a','e','i','o','u'])\n",
    "print(vowel)"
   ]
  },
  {
   "cell_type": "code",
   "execution_count": 6,
   "id": "9a8e10ba-65e3-41f0-9f57-5b3b55b6e4f1",
   "metadata": {},
   "outputs": [
    {
     "name": "stdout",
     "output_type": "stream",
     "text": [
      "[ 2  4  6  8 10 12 14 16 18 20]\n"
     ]
    }
   ],
   "source": [
    "#1D Array to store upto 1st 10 even numbers\n",
    "even=np.arange(2,21,2)\n",
    "print(even)"
   ]
  },
  {
   "cell_type": "code",
   "execution_count": 7,
   "id": "9e98e767-de8a-41ee-ab4f-782d6ad9bce1",
   "metadata": {
    "vscode": {
     "languageId": "python"
    }
   },
   "outputs": [
    {
     "name": "stdout",
     "output_type": "stream",
     "text": [
      "[[1 1 1 1 1]\n",
      " [1 1 1 1 1]]\n"
     ]
    }
   ],
   "source": [
    "#A 2D Array called ones having 2 rows and 5 columns and all the eleements are set to 1 and dtype int\n",
    "ones=np.ones((2, 5), dtype=int)\n",
    "print(ones)"
   ]
  },
  {
   "cell_type": "code",
   "execution_count": 80,
   "id": "2ace4745-5bf7-4002-915e-ea08638e2b9b",
   "metadata": {
    "vscode": {
     "languageId": "python"
    }
   },
   "outputs": [
    {
     "name": "stdout",
     "output_type": "stream",
     "text": [
      "[[  2.7  -2.  -19. ]\n",
      " [  0.    3.4  99.9]\n",
      " [ 10.6   0.   13. ]]\n"
     ]
    }
   ],
   "source": [
    "'''Use nested Python lists to create a 2-D array called myarray1 having 3 rows and 3 columns and store the following data:\n",
    "2.7, -2, -19\n",
    "0, 3.4, 99.9\n",
    "10.6, 0, 13'''\n",
    "myarray1=np.array([[2.7, -2, -19], [0, 3.4, 99.9], [10.6, 0, 13]])\n",
    "print(myarray1)"
   ]
  },
  {
   "cell_type": "code",
   "execution_count": 83,
   "id": "c50bf4ef-ec47-482d-a8a7-79096c3a80b4",
   "metadata": {
    "vscode": {
     "languageId": "python"
    }
   },
   "outputs": [
    {
     "name": "stdout",
     "output_type": "stream",
     "text": [
      "[[ 4.  8. 12. 16. 20.]\n",
      " [24. 28. 32. 36. 40.]\n",
      " [44. 48. 52. 56. 60.]]\n"
     ]
    }
   ],
   "source": [
    "#A 2-D array called myarray2 using arange() having 3 rows and 5 columns with start value = 4, step size 4 and dtype as float.\n",
    "myarray2 = np.arange(4,61,4,dtype=float).reshape(3,5)\n",
    "print(myarray2)"
   ]
  },
  {
   "cell_type": "code",
   "execution_count": 8,
   "id": "52e57660-ec78-4707-91b8-9ea4ed4dca56",
   "metadata": {
    "vscode": {
     "languageId": "python"
    }
   },
   "outputs": [
    {
     "name": "stdout",
     "output_type": "stream",
     "text": [
      "[[-1.   -0.75 -0.5 ]\n",
      " [-0.25  0.    0.25]\n",
      " [ 0.5   0.75  1.  ]\n",
      " [ 1.25  1.5   1.75]\n",
      " [ 2.    2.25  2.5 ]\n",
      " [ 2.75  3.    3.25]\n",
      " [ 3.5   3.75  4.  ]\n",
      " [ 4.25  4.5   4.75]\n",
      " [ 5.    5.25  5.5 ]\n",
      " [ 5.75  6.    6.25]\n",
      " [ 6.5   6.75  7.  ]\n",
      " [ 7.25  7.5   7.75]\n",
      " [ 8.    8.25  8.5 ]\n",
      " [ 8.75  9.    9.25]]\n"
     ]
    }
   ],
   "source": [
    "#Create a 2-D array called myarray4 using arange() having 14 rows and 3 columns with start=-1,step=0.25 having\n",
    "#split this array row wise into 3 equal parts and prints the result\n",
    "myarray4 = np.arange(-1,9.5,0.25).reshape(14,3)\n",
    "print(myarray4)"
   ]
  },
  {
   "cell_type": "code",
   "execution_count": 9,
   "id": "9637b14a-b16d-490a-b9df-6ab5592b26ef",
   "metadata": {
    "vscode": {
     "languageId": "python"
    }
   },
   "outputs": [
    {
     "name": "stdout",
     "output_type": "stream",
     "text": [
      "[54.25 57.75 61.25]\n"
     ]
    }
   ],
   "source": [
    "#Find the sum of all elements columnwise\n",
    "sum=np.sum(myarray4,axis=0)\n",
    "print(sum)"
   ]
  },
  {
   "cell_type": "code",
   "execution_count": 10,
   "id": "6435177f-2703-44f4-ab07-195bb567e177",
   "metadata": {
    "vscode": {
     "languageId": "python"
    }
   },
   "outputs": [
    {
     "name": "stdout",
     "output_type": "stream",
     "text": [
      "9.25\n"
     ]
    }
   ],
   "source": [
    "#Find the max of all elements\n",
    "max=np.max(myarray4)\n",
    "print(max)"
   ]
  },
  {
   "cell_type": "code",
   "execution_count": 11,
   "id": "e4f5d360-eb63-46fc-a429-a50bb775a878",
   "metadata": {
    "vscode": {
     "languageId": "python"
    }
   },
   "outputs": [
    {
     "name": "stdout",
     "output_type": "stream",
     "text": [
      "[-1.   -0.25  0.5   1.25  2.    2.75  3.5   4.25  5.    5.75  6.5   7.25\n",
      "  8.    8.75]\n"
     ]
    }
   ],
   "source": [
    "#Find the min of all elements in each row\n",
    "min=np.min(myarray4,axis=1)\n",
    "print(min)"
   ]
  },
  {
   "cell_type": "code",
   "execution_count": 12,
   "id": "12f445f0-1314-4780-acd1-45d45d722d96",
   "metadata": {
    "vscode": {
     "languageId": "python"
    }
   },
   "outputs": [
    {
     "name": "stdout",
     "output_type": "stream",
     "text": [
      "[-0.75  0.    0.75  1.5   2.25  3.    3.75  4.5   5.25  6.    6.75  7.5\n",
      "  8.25  9.  ]\n"
     ]
    }
   ],
   "source": [
    "#Find the mean of all elements in each row\n",
    "mean=np.mean(myarray4,axis=1)\n",
    "print(mean)"
   ]
  },
  {
   "cell_type": "code",
   "execution_count": 13,
   "id": "2600fae8-9609-413d-bff0-0a73b3b29d2a",
   "metadata": {
    "vscode": {
     "languageId": "python"
    }
   },
   "outputs": [
    {
     "name": "stdout",
     "output_type": "stream",
     "text": [
      "[3.02334666 3.02334666 3.02334666]\n"
     ]
    }
   ],
   "source": [
    "#Find the standard deviation colwise\n",
    "std=np.std(myarray4,axis=0)\n",
    "print(std)"
   ]
  },
  {
   "cell_type": "code",
   "execution_count": 14,
   "id": "9bf94ef0-56b1-416b-a737-49891e647752",
   "metadata": {
    "vscode": {
     "languageId": "python"
    }
   },
   "outputs": [
    {
     "name": "stdout",
     "output_type": "stream",
     "text": [
      "[[ 1  2  3  4]\n",
      " [ 5  6  7  8]\n",
      " [ 9 10 11 12]]\n",
      "[[13 14 15 16]\n",
      " [17 18 19 20]\n",
      " [21 22 23 24]]\n"
     ]
    }
   ],
   "source": [
    "array1=np.arange(1,13).reshape(3,4)\n",
    "array2=np.arange(13,25).reshape(3,4)\n",
    "print(array1)\n",
    "print(array2)"
   ]
  },
  {
   "cell_type": "code",
   "execution_count": 100,
   "id": "222d2c5a-2ccd-4441-a2fb-c23de6c37b55",
   "metadata": {
    "vscode": {
     "languageId": "python"
    }
   },
   "outputs": [
    {
     "name": "stdout",
     "output_type": "stream",
     "text": [
      "[[0.33333333 0.66666667 1.         1.33333333]\n",
      " [1.66666667 2.         2.33333333 2.66666667]\n",
      " [3.         3.33333333 3.66666667 4.        ]]\n"
     ]
    }
   ],
   "source": [
    "#Divide the Elements of array ones by 3\n",
    "new_arr=array1/3\n",
    "print(new_arr)"
   ]
  },
  {
   "cell_type": "code",
   "execution_count": 101,
   "id": "bd80b442-2f8b-480d-ae4b-af56e4172db2",
   "metadata": {
    "vscode": {
     "languageId": "python"
    }
   },
   "outputs": [
    {
     "name": "stdout",
     "output_type": "stream",
     "text": [
      "[[14 16 18 20]\n",
      " [22 24 26 28]\n",
      " [30 32 34 36]]\n"
     ]
    }
   ],
   "source": [
    "#add the arrays array1 and array2\n",
    "new_mat=array1+array2\n",
    "print(new_mat)"
   ]
  },
  {
   "cell_type": "code",
   "execution_count": 102,
   "id": "80094686-2e6f-40de-a5c8-d64e1112047d",
   "metadata": {
    "vscode": {
     "languageId": "python"
    }
   },
   "outputs": [
    {
     "name": "stdout",
     "output_type": "stream",
     "text": [
      "[[12 12 12 12]\n",
      " [12 12 12 12]\n",
      " [12 12 12 12]]\n"
     ]
    }
   ],
   "source": [
    "#Subtract Array1 from array 2 and store the result in new matrix\n",
    "new_matr=array2-array1\n",
    "print(new_matr)"
   ]
  },
  {
   "cell_type": "code",
   "execution_count": 103,
   "id": "ac5a9a5d-a9f4-4e0c-998a-b3f2f4f97c18",
   "metadata": {
    "vscode": {
     "languageId": "python"
    }
   },
   "outputs": [
    {
     "name": "stdout",
     "output_type": "stream",
     "text": [
      "[[ 13  28  45  64]\n",
      " [ 85 108 133 160]\n",
      " [189 220 253 288]]\n"
     ]
    }
   ],
   "source": [
    "#multiply array1 and 2 element wise\n",
    "new_matri=array2*array1\n",
    "print(new_matri)"
   ]
  },
  {
   "cell_type": "code",
   "execution_count": 106,
   "id": "a16a8095-1601-4e1a-b29a-3f92acca2772",
   "metadata": {
    "vscode": {
     "languageId": "python"
    }
   },
   "outputs": [
    {
     "name": "stdout",
     "output_type": "stream",
     "text": [
      "[[150 190 230]\n",
      " [382 486 590]\n",
      " [614 782 950]]\n"
     ]
    }
   ],
   "source": [
    "#Do the Matrix Multiplication of array 1 & 2 and store result in a new array myarray3\n",
    "myarray3=array1@array2.T\n",
    "print(myarray3)"
   ]
  },
  {
   "cell_type": "code",
   "execution_count": null,
   "id": "98f24d8d-1f48-4932-bf3f-f336a61af0fb",
   "metadata": {
    "vscode": {
     "languageId": "python"
    }
   },
   "outputs": [],
   "source": []
  }
 ],
 "metadata": {
  "kernelspec": {
   "display_name": "Python 3 (ipykernel)",
   "language": "python",
   "name": "python3"
  },
  "language_info": {
   "codemirror_mode": {
    "name": "ipython",
    "version": 3
   },
   "file_extension": ".py",
   "mimetype": "text/x-python",
   "name": "python",
   "nbconvert_exporter": "python",
   "pygments_lexer": "ipython3",
   "version": "3.11.5"
  }
 },
 "nbformat": 4,
 "nbformat_minor": 5
}
