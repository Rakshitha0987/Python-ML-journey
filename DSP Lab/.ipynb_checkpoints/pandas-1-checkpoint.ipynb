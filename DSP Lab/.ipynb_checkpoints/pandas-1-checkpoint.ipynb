{
 "cells": [
  {
   "cell_type": "code",
   "execution_count": 12,
   "id": "d155d12e-3124-4bc8-9150-f0524aa20f78",
   "metadata": {},
   "outputs": [
    {
     "data": {
      "text/plain": [
       "0     a\n",
       "1     b\n",
       "2     c\n",
       "3     d\n",
       "4     e\n",
       "5     f\n",
       "6     g\n",
       "7     h\n",
       "8     i\n",
       "9     j\n",
       "10    k\n",
       "11    l\n",
       "12    m\n",
       "13    n\n",
       "14    o\n",
       "15    p\n",
       "16    q\n",
       "17    r\n",
       "18    s\n",
       "19    t\n",
       "20    u\n",
       "21    v\n",
       "22    w\n",
       "23    x\n",
       "24    y\n",
       "25    z\n",
       "dtype: object"
      ]
     },
     "execution_count": 12,
     "metadata": {},
     "output_type": "execute_result"
    }
   ],
   "source": [
    "import pandas as pd\n",
    "EngAlph=pd.Series(['a','b','c','d','e','f','g','h','i','j','k','l','m','n','o','p','q','r','s','t','u','v','w','x','y','z'])\n",
    "EngAlph"
   ]
  },
  {
   "cell_type": "code",
   "execution_count": 3,
   "id": "e3dead35-ddef-498c-a471-5029312c8733",
   "metadata": {},
   "outputs": [
    {
     "name": "stdout",
     "output_type": "stream",
     "text": [
      "a    0\n",
      "e    0\n",
      "i    0\n",
      "o    0\n",
      "u    0\n",
      "dtype: int64\n"
     ]
    },
    {
     "data": {
      "text/plain": [
       "False"
      ]
     },
     "execution_count": 3,
     "metadata": {},
     "output_type": "execute_result"
    }
   ],
   "source": [
    "Vowels=pd.Series([0,0,0,0,0],['a','e','i','o','u'])\n",
    "print(Vowels)\n",
    "Vowels.empty"
   ]
  },
  {
   "cell_type": "code",
   "execution_count": 26,
   "id": "b5534b90-345a-4467-8247-69c47750265b",
   "metadata": {},
   "outputs": [
    {
     "data": {
      "text/plain": [
       "False"
      ]
     },
     "execution_count": 26,
     "metadata": {},
     "output_type": "execute_result"
    }
   ],
   "source": []
  },
  {
   "cell_type": "code",
   "execution_count": 17,
   "id": "fabf1e73-20e4-47f9-8c31-3b12eeb310ca",
   "metadata": {},
   "outputs": [
    {
     "name": "stdout",
     "output_type": "stream",
     "text": [
      "Vinitha     3\n",
      "ABCD       23\n",
      "EFGH       22\n",
      "IJKL        2\n",
      "MNOP        5\n",
      "dtype: int64\n"
     ]
    }
   ],
   "source": [
    "Friends=pd.Series({\"Vinitha\":3,\"ABCD\":23,\"EFGH\":22,\"IJKL\":2,\"MNOP\":5})\n",
    "print(Friends)"
   ]
  },
  {
   "cell_type": "code",
   "execution_count": 28,
   "id": "8d92c123-821a-47e5-bb28-21fe321e439e",
   "metadata": {},
   "outputs": [
    {
     "name": "stderr",
     "output_type": "stream",
     "text": [
      "/tmp/ipykernel_5160/3620953659.py:1: FutureWarning: Series.__getitem__ treating keys as positions is deprecated. In a future version, integer keys will always be treated as labels (consistent with DataFrame behavior). To access a value by position, use `ser.iloc[pos]`\n",
      "  print(\" 3rd  of serioes note Friends \\n\"+ Friends[2]+\"2nd of series\\n\" +Friends[1])\n"
     ]
    },
    {
     "ename": "TypeError",
     "evalue": "can only concatenate str (not \"numpy.int64\") to str",
     "output_type": "error",
     "traceback": [
      "\u001b[0;31m---------------------------------------------------------------------------\u001b[0m",
      "\u001b[0;31mTypeError\u001b[0m                                 Traceback (most recent call last)",
      "Cell \u001b[0;32mIn[28], line 1\u001b[0m\n\u001b[0;32m----> 1\u001b[0m \u001b[38;5;28mprint\u001b[39m(\u001b[38;5;124;43m\"\u001b[39;49m\u001b[38;5;124;43m 3rd  of serioes note Friends \u001b[39;49m\u001b[38;5;130;43;01m\\n\u001b[39;49;00m\u001b[38;5;124;43m\"\u001b[39;49m\u001b[38;5;241;43m+\u001b[39;49m\u001b[43m \u001b[49m\u001b[43mFriends\u001b[49m\u001b[43m[\u001b[49m\u001b[38;5;241;43m2\u001b[39;49m\u001b[43m]\u001b[49m\u001b[38;5;241m+\u001b[39m\u001b[38;5;124m\"\u001b[39m\u001b[38;5;124m2nd of series\u001b[39m\u001b[38;5;130;01m\\n\u001b[39;00m\u001b[38;5;124m\"\u001b[39m \u001b[38;5;241m+\u001b[39mFriends[\u001b[38;5;241m1\u001b[39m])\n",
      "\u001b[0;31mTypeError\u001b[0m: can only concatenate str (not \"numpy.int64\") to str"
     ]
    }
   ],
   "source": [
    "print(\" 3rd  of serioes note Friends \\n\")"
   ]
  },
  {
   "cell_type": "code",
   "execution_count": 28,
   "id": "5d23ed87-9b73-4c53-9a18-83f3fb794e8b",
   "metadata": {},
   "outputs": [
    {
     "data": {
      "text/plain": [
       "False"
      ]
     },
     "execution_count": 28,
     "metadata": {},
     "output_type": "execute_result"
    }
   ],
   "source": [
    "Friends.empty"
   ]
  },
  {
   "cell_type": "code",
   "execution_count": 29,
   "id": "9f02332b-5e07-4dd9-be0f-8ca6f8366f10",
   "metadata": {},
   "outputs": [
    {
     "data": {
      "text/plain": [
       "Series([], dtype: object)"
      ]
     },
     "execution_count": 29,
     "metadata": {},
     "output_type": "execute_result"
    }
   ],
   "source": [
    "MTseries=pd.Series()\n",
    "MTseries"
   ]
  },
  {
   "cell_type": "code",
   "execution_count": 21,
   "id": "a5354429-cfa6-4561-9af9-ec1cc6799fe7",
   "metadata": {},
   "outputs": [
    {
     "data": {
      "text/plain": [
       "True"
      ]
     },
     "execution_count": 21,
     "metadata": {},
     "output_type": "execute_result"
    }
   ],
   "source": [
    "MTseries.empty"
   ]
  },
  {
   "cell_type": "code",
   "execution_count": 10,
   "id": "a0dc8e49-a312-4ff7-a26c-2bcc7b0033a8",
   "metadata": {},
   "outputs": [],
   "source": [
    "import numpy as nd\n",
    "m1=nd.array([1,31])\n",
    "m2=nd.array([1,28])\n",
    "m3=nd.array([1,31])\n",
    "m4=nd.array([1,30])\n",
    "m5=nd.array([1,31])\n",
    "m6=nd.array([1,30])\n",
    "m7=nd.array([1,31])\n",
    "m8=nd.array([1,31])\n",
    "m9=nd.array([1,30])\n",
    "m10=nd.array([1,31])\n",
    "m11=nd.array([1,30])\n",
    "m12=nd.array([1,31])"
   ]
  },
  {
   "cell_type": "code",
   "execution_count": 12,
   "id": "ee3275c4-d5a4-4272-bab5-6f2837c1ee3c",
   "metadata": {},
   "outputs": [
    {
     "data": {
      "text/plain": [
       "1     [1, 31]\n",
       "2     [1, 28]\n",
       "3     [1, 31]\n",
       "4     [1, 30]\n",
       "5     [1, 31]\n",
       "6     [1, 30]\n",
       "7     [1, 31]\n",
       "8     [1, 31]\n",
       "9     [1, 30]\n",
       "10    [1, 31]\n",
       "11    [1, 30]\n",
       "12    [1, 31]\n",
       "dtype: object"
      ]
     },
     "execution_count": 12,
     "metadata": {},
     "output_type": "execute_result"
    }
   ],
   "source": [
    "MonthDays=pd.Series([m1,m2,m3,m4,m5,m6,m7,m8,m9,m10,m11,m12],[1,2,3,4,5,6,7,8,9,10,11,12])\n",
    "MonthDays"
   ]
  },
  {
   "cell_type": "code",
   "execution_count": 18,
   "id": "7f2c355b-0fe2-4bf0-b4bc-ec64b47287d0",
   "metadata": {},
   "outputs": [
    {
     "data": {
      "text/plain": [
       "a    10\n",
       "e    10\n",
       "i    10\n",
       "o    10\n",
       "u    10\n",
       "dtype: int64"
      ]
     },
     "execution_count": 18,
     "metadata": {},
     "output_type": "execute_result"
    }
   ],
   "source": [
    "Vowels['a':'u']=10\n",
    "Vowels"
   ]
  },
  {
   "cell_type": "code",
   "execution_count": 19,
   "id": "04efad3b-5ca0-4e45-94aa-e2166a3d1451",
   "metadata": {},
   "outputs": [
    {
     "data": {
      "text/plain": [
       "a    5\n",
       "e    5\n",
       "i    5\n",
       "o    5\n",
       "u    5\n",
       "dtype: int64"
      ]
     },
     "execution_count": 19,
     "metadata": {},
     "output_type": "execute_result"
    }
   ],
   "source": [
    "Vowels['a':'u']=Vowels['a':'u']/2\n",
    "Vowels"
   ]
  },
  {
   "cell_type": "code",
   "execution_count": 60,
   "id": "6339002c-b87e-463c-80ca-bef75fe6af97",
   "metadata": {},
   "outputs": [
    {
     "data": {
      "text/plain": [
       "a    2\n",
       "e    5\n",
       "i    6\n",
       "o    3\n",
       "u    8\n",
       "dtype: int64"
      ]
     },
     "execution_count": 60,
     "metadata": {},
     "output_type": "execute_result"
    }
   ],
   "source": [
    "Vowels1=pd.Series([2,5,6,3,8],['a','e','i','o','u'])\n",
    "Vowels1"
   ]
  },
  {
   "cell_type": "code",
   "execution_count": 40,
   "id": "8fbf25e0-ecdc-44a2-9b19-221d2dc236eb",
   "metadata": {},
   "outputs": [
    {
     "data": {
      "text/plain": [
       "a     7.0\n",
       "e    10.0\n",
       "i    11.0\n",
       "o     8.0\n",
       "u    13.0\n",
       "dtype: float64"
      ]
     },
     "execution_count": 40,
     "metadata": {},
     "output_type": "execute_result"
    }
   ],
   "source": [
    "Vowels3=Vowels1+Vowels\n",
    "Vowels3"
   ]
  },
  {
   "cell_type": "code",
   "execution_count": 41,
   "id": "ee88399c-e80d-4773-99a4-32e9d2715da8",
   "metadata": {},
   "outputs": [
    {
     "data": {
      "text/plain": [
       "a    3.0\n",
       "e    0.0\n",
       "i   -1.0\n",
       "o    2.0\n",
       "u   -3.0\n",
       "dtype: float64"
      ]
     },
     "execution_count": 41,
     "metadata": {},
     "output_type": "execute_result"
    }
   ],
   "source": [
    "Vowels-Vowels1"
   ]
  },
  {
   "cell_type": "code",
   "execution_count": 42,
   "id": "66695cc5-99f3-4db5-904d-a414b3ac6e49",
   "metadata": {},
   "outputs": [
    {
     "data": {
      "text/plain": [
       "a    10.0\n",
       "e    25.0\n",
       "i    30.0\n",
       "o    15.0\n",
       "u    40.0\n",
       "dtype: float64"
      ]
     },
     "execution_count": 42,
     "metadata": {},
     "output_type": "execute_result"
    }
   ],
   "source": [
    "Vowels*Vowels1"
   ]
  },
  {
   "cell_type": "code",
   "execution_count": 43,
   "id": "d477d0b2-7e5f-4f5b-80cf-73db51aaa399",
   "metadata": {},
   "outputs": [
    {
     "data": {
      "text/plain": [
       "a    2.500000\n",
       "e    1.000000\n",
       "i    0.833333\n",
       "o    1.666667\n",
       "u    0.625000\n",
       "dtype: float64"
      ]
     },
     "execution_count": 43,
     "metadata": {},
     "output_type": "execute_result"
    }
   ],
   "source": [
    "Vowels/Vowels1"
   ]
  },
  {
   "cell_type": "code",
   "execution_count": 65,
   "id": "0f439f91-2574-42b0-a6ee-66783bac9753",
   "metadata": {},
   "outputs": [
    {
     "data": {
      "text/plain": [
       "A    2\n",
       "E    5\n",
       "I    6\n",
       "O    3\n",
       "U    8\n",
       "dtype: int64"
      ]
     },
     "execution_count": 65,
     "metadata": {},
     "output_type": "execute_result"
    }
   ],
   "source": [
    "index=['A','E','I','O','U']\n",
    "Vowels1=pd.Series([2,5,6,3,8],index)\n",
    "Vowels1"
   ]
  },
  {
   "cell_type": "code",
   "execution_count": 66,
   "id": "85346578-0b98-490a-8784-b6b7b356942e",
   "metadata": {},
   "outputs": [
    {
     "data": {
      "text/plain": [
       "26"
      ]
     },
     "execution_count": 66,
     "metadata": {},
     "output_type": "execute_result"
    }
   ],
   "source": [
    "EngAlph.size"
   ]
  },
  {
   "cell_type": "code",
   "execution_count": 69,
   "id": "da27ae5d-eef5-49fc-a1ff-f21c6d8b8795",
   "metadata": {},
   "outputs": [
    {
     "data": {
      "text/plain": [
       "1"
      ]
     },
     "execution_count": 69,
     "metadata": {},
     "output_type": "execute_result"
    }
   ],
   "source": [
    "EngAlph.ndim"
   ]
  },
  {
   "cell_type": "code",
   "execution_count": 71,
   "id": "bc791f74-0de4-4a21-99fb-5832bdb41b95",
   "metadata": {},
   "outputs": [
    {
     "data": {
      "text/plain": [
       "array(['a', 'b', 'c', 'd', 'e', 'f', 'g', 'h', 'i', 'j', 'k', 'l', 'm',\n",
       "       'n', 'o', 'p', 'q', 'r', 's', 't', 'u', 'v', 'w', 'x', 'y', 'z'],\n",
       "      dtype=object)"
      ]
     },
     "execution_count": 71,
     "metadata": {},
     "output_type": "execute_result"
    }
   ],
   "source": [
    "EngAlph.values"
   ]
  },
  {
   "cell_type": "code",
   "execution_count": 13,
   "id": "4624ecb2-369e-4cdd-b591-0575ba0f323b",
   "metadata": {},
   "outputs": [
    {
     "data": {
      "text/plain": [
       "1"
      ]
     },
     "execution_count": 13,
     "metadata": {},
     "output_type": "execute_result"
    }
   ],
   "source": [
    "Vowels.ndim"
   ]
  },
  {
   "cell_type": "code",
   "execution_count": 14,
   "id": "fbcb22e5-c0eb-4e4b-a662-4e9e5a3de526",
   "metadata": {},
   "outputs": [
    {
     "data": {
      "text/plain": [
       "5"
      ]
     },
     "execution_count": 14,
     "metadata": {},
     "output_type": "execute_result"
    }
   ],
   "source": [
    "Vowels.size"
   ]
  },
  {
   "cell_type": "code",
   "execution_count": 20,
   "id": "f800f7ff-6890-47c6-870b-210320ba0a22",
   "metadata": {},
   "outputs": [
    {
     "data": {
      "text/plain": [
       "array([5, 5, 5, 5, 5])"
      ]
     },
     "execution_count": 20,
     "metadata": {},
     "output_type": "execute_result"
    }
   ],
   "source": [
    "Vowels.values"
   ]
  },
  {
   "cell_type": "code",
   "execution_count": 21,
   "id": "66c6b76f-ad57-415b-8861-7507c4802c86",
   "metadata": {},
   "outputs": [
    {
     "data": {
      "text/plain": [
       "1"
      ]
     },
     "execution_count": 21,
     "metadata": {},
     "output_type": "execute_result"
    }
   ],
   "source": [
    "Friends.ndim"
   ]
  },
  {
   "cell_type": "code",
   "execution_count": 22,
   "id": "176282c2-1c45-46ae-be37-df7aae97c008",
   "metadata": {},
   "outputs": [
    {
     "data": {
      "text/plain": [
       "5"
      ]
     },
     "execution_count": 22,
     "metadata": {},
     "output_type": "execute_result"
    }
   ],
   "source": [
    "Friends.size"
   ]
  },
  {
   "cell_type": "code",
   "execution_count": 23,
   "id": "b3c4a0fa-008c-4c49-8ae1-769bd409ece2",
   "metadata": {},
   "outputs": [
    {
     "data": {
      "text/plain": [
       "array([ 3, 23, 22,  2,  5])"
      ]
     },
     "execution_count": 23,
     "metadata": {},
     "output_type": "execute_result"
    }
   ],
   "source": [
    "Friends.values"
   ]
  },
  {
   "cell_type": "code",
   "execution_count": 30,
   "id": "30720be8-861a-43e1-8ef2-0ca1b9ee8d9a",
   "metadata": {},
   "outputs": [
    {
     "data": {
      "text/plain": [
       "1"
      ]
     },
     "execution_count": 30,
     "metadata": {},
     "output_type": "execute_result"
    }
   ],
   "source": [
    "MTseries.ndim"
   ]
  },
  {
   "cell_type": "code",
   "execution_count": 32,
   "id": "20dc37d0-ea5e-4df6-9765-baf7aaf24e76",
   "metadata": {},
   "outputs": [
    {
     "data": {
      "text/plain": [
       "0"
      ]
     },
     "execution_count": 32,
     "metadata": {},
     "output_type": "execute_result"
    }
   ],
   "source": [
    "MTseries.size"
   ]
  },
  {
   "cell_type": "code",
   "execution_count": 33,
   "id": "2e48db9f-38c9-4553-9b4e-8996dd53c2da",
   "metadata": {},
   "outputs": [
    {
     "data": {
      "text/plain": [
       "array([], dtype=object)"
      ]
     },
     "execution_count": 33,
     "metadata": {},
     "output_type": "execute_result"
    }
   ],
   "source": [
    "MTseries.values"
   ]
  },
  {
   "cell_type": "code",
   "execution_count": 34,
   "id": "61b0a3ec-4f19-4f23-a07f-f06edb42b79d",
   "metadata": {},
   "outputs": [
    {
     "data": {
      "text/plain": [
       "1"
      ]
     },
     "execution_count": 34,
     "metadata": {},
     "output_type": "execute_result"
    }
   ],
   "source": [
    "MonthDays.ndim"
   ]
  },
  {
   "cell_type": "code",
   "execution_count": 35,
   "id": "0325a31f-6a92-4a39-ad21-ff52d3138616",
   "metadata": {},
   "outputs": [
    {
     "data": {
      "text/plain": [
       "12"
      ]
     },
     "execution_count": 35,
     "metadata": {},
     "output_type": "execute_result"
    }
   ],
   "source": [
    "MonthDays.size"
   ]
  },
  {
   "cell_type": "code",
   "execution_count": 37,
   "id": "74bd1845-b3a2-43e0-a29b-677f529ed637",
   "metadata": {},
   "outputs": [
    {
     "data": {
      "text/plain": [
       "array([array([ 1, 31]), array([ 1, 28]), array([ 1, 31]), array([ 1, 30]),\n",
       "       array([ 1, 31]), array([ 1, 30]), array([ 1, 31]), array([ 1, 31]),\n",
       "       array([ 1, 30]), array([ 1, 31]), array([ 1, 30]), array([ 1, 31])],\n",
       "      dtype=object)"
      ]
     },
     "execution_count": 37,
     "metadata": {},
     "output_type": "execute_result"
    }
   ],
   "source": [
    "MonthDays.values"
   ]
  },
  {
   "cell_type": "code",
   "execution_count": 38,
   "id": "0c8e6428-d70a-4dcc-b638-4c9e4037ebfb",
   "metadata": {},
   "outputs": [
    {
     "data": {
      "text/plain": [
       "Series([], dtype: object)"
      ]
     },
     "execution_count": 38,
     "metadata": {},
     "output_type": "execute_result"
    }
   ],
   "source": [
    "SeriesEmpty=MTseries\n",
    "SeriesEmpty"
   ]
  },
  {
   "cell_type": "code",
   "execution_count": 39,
   "id": "6e9d5849-de80-4788-92e1-355c372966dc",
   "metadata": {},
   "outputs": [
    {
     "data": {
      "text/plain": [
       "monthno\n",
       "1     [1, 31]\n",
       "2     [1, 28]\n",
       "3     [1, 31]\n",
       "4     [1, 30]\n",
       "5     [1, 31]\n",
       "6     [1, 30]\n",
       "7     [1, 31]\n",
       "8     [1, 31]\n",
       "9     [1, 30]\n",
       "10    [1, 31]\n",
       "11    [1, 30]\n",
       "12    [1, 31]\n",
       "dtype: object"
      ]
     },
     "execution_count": 39,
     "metadata": {},
     "output_type": "execute_result"
    }
   ],
   "source": [
    "MonthDays.index.name=\"monthno\"\n",
    "MonthDays"
   ]
  },
  {
   "cell_type": "code",
   "execution_count": 41,
   "id": "1470a485-f10a-4d14-a57d-acb9795b1708",
   "metadata": {},
   "outputs": [
    {
     "data": {
      "text/plain": [
       "22"
      ]
     },
     "execution_count": 41,
     "metadata": {},
     "output_type": "execute_result"
    }
   ],
   "source": [
    "Friends[2]"
   ]
  },
  {
   "cell_type": "code",
   "execution_count": 16,
   "id": "b44f0157-1c91-4f71-a40f-7ebd6706cfb1",
   "metadata": {},
   "outputs": [
    {
     "ename": "NameError",
     "evalue": "name 'Friends' is not defined",
     "output_type": "error",
     "traceback": [
      "\u001b[0;31m---------------------------------------------------------------------------\u001b[0m",
      "\u001b[0;31mNameError\u001b[0m                                 Traceback (most recent call last)",
      "Cell \u001b[0;32mIn[16], line 1\u001b[0m\n\u001b[0;32m----> 1\u001b[0m \u001b[43mFriends\u001b[49m[\u001b[38;5;241m1\u001b[39m]\n",
      "\u001b[0;31mNameError\u001b[0m: name 'Friends' is not defined"
     ]
    }
   ],
   "source": [
    "Friends[1]"
   ]
  },
  {
   "cell_type": "code",
   "execution_count": 15,
   "id": "3c3883ab-1a7c-4a2c-95c7-ac4fb85acaf3",
   "metadata": {},
   "outputs": [
    {
     "data": {
      "text/plain": [
       "4     e\n",
       "5     f\n",
       "6     g\n",
       "7     h\n",
       "8     i\n",
       "9     j\n",
       "10    k\n",
       "11    l\n",
       "12    m\n",
       "13    n\n",
       "14    o\n",
       "15    p\n",
       "dtype: object"
      ]
     },
     "execution_count": 15,
     "metadata": {},
     "output_type": "execute_result"
    }
   ],
   "source": [
    "EngAlph[4:16]"
   ]
  },
  {
   "cell_type": "code",
   "execution_count": 77,
   "id": "a6daa515-bf25-4032-8f52-fd1f76be3843",
   "metadata": {},
   "outputs": [
    {
     "data": {
      "text/plain": [
       "0    a\n",
       "1    b\n",
       "2    c\n",
       "3    d\n",
       "4    e\n",
       "5    f\n",
       "6    g\n",
       "7    h\n",
       "8    i\n",
       "9    j\n",
       "dtype: object"
      ]
     },
     "execution_count": 77,
     "metadata": {},
     "output_type": "execute_result"
    }
   ],
   "source": [
    "EngAlph.head(10)"
   ]
  },
  {
   "cell_type": "code",
   "execution_count": 31,
   "id": "b5888bb4-8348-4a3c-999b-c28f6efd0a91",
   "metadata": {},
   "outputs": [
    {
     "data": {
      "text/plain": [
       "16    q\n",
       "17    r\n",
       "18    s\n",
       "19    t\n",
       "20    u\n",
       "21    v\n",
       "22    w\n",
       "23    x\n",
       "24    y\n",
       "25    z\n",
       "dtype: object"
      ]
     },
     "execution_count": 31,
     "metadata": {},
     "output_type": "execute_result"
    }
   ],
   "source": [
    "EngAlph.tail(10)"
   ]
  },
  {
   "cell_type": "code",
   "execution_count": 32,
   "id": "91bccb13-d2e1-4a4a-a21d-f0c25ba50bbb",
   "metadata": {},
   "outputs": [
    {
     "data": {
      "text/plain": [
       "Series([], dtype: object)"
      ]
     },
     "execution_count": 32,
     "metadata": {},
     "output_type": "execute_result"
    }
   ],
   "source": [
    "MTseries"
   ]
  },
  {
   "cell_type": "code",
   "execution_count": null,
   "id": "1ba76d64-3aec-4c4b-be91-e21e2ec4829d",
   "metadata": {},
   "outputs": [],
   "source": []
  },
  {
   "cell_type": "code",
   "execution_count": 43,
   "id": "a0d02d62-3a65-4ec3-90d3-c7a58d60e8f2",
   "metadata": {},
   "outputs": [
    {
     "data": {
      "text/plain": [
       "monthno\n",
       "12    [1, 31]\n",
       "11    [1, 30]\n",
       "10    [1, 31]\n",
       "9     [1, 30]\n",
       "8     [1, 31]\n",
       "7     [1, 31]\n",
       "6     [1, 30]\n",
       "5     [1, 31]\n",
       "4     [1, 30]\n",
       "3     [1, 31]\n",
       "2     [1, 28]\n",
       "1     [1, 31]\n",
       "dtype: object"
      ]
     },
     "execution_count": 43,
     "metadata": {},
     "output_type": "execute_result"
    }
   ],
   "source": [
    "MonthDays.iloc[::-1]"
   ]
  },
  {
   "cell_type": "code",
   "execution_count": null,
   "id": "a86e403b-01e9-4eb3-88c9-64f3204a4ac3",
   "metadata": {},
   "outputs": [],
   "source": []
  }
 ],
 "metadata": {
  "kernelspec": {
   "display_name": "Python 3 (ipykernel)",
   "language": "python",
   "name": "python3"
  },
  "language_info": {
   "codemirror_mode": {
    "name": "ipython",
    "version": 3
   },
   "file_extension": ".py",
   "mimetype": "text/x-python",
   "name": "python",
   "nbconvert_exporter": "python",
   "pygments_lexer": "ipython3",
   "version": "3.10.12"
  }
 },
 "nbformat": 4,
 "nbformat_minor": 5
}
