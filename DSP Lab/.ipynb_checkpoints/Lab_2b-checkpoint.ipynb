{
 "cells": [
  {
   "cell_type": "code",
   "execution_count": 9,
   "id": "965a81f8-087d-420e-8259-a98ba5aa9361",
   "metadata": {},
   "outputs": [
    {
     "name": "stdout",
     "output_type": "stream",
     "text": [
      "        ID    Name  Marks         Phone       Address\n",
      "0  r200260   Pavan     28  7.036007e+09           NaN\n",
      "1  r200247  Nithin     29           NaN       Nuzvidu\n",
      "2  r200057  Prasad     30  8.500051e+09           NaN\n",
      "3  r200058  Srujan     35  7.416486e+09  IDUPULAPAAYA\n",
      "4  r200847   Arman     24           NaN       Nellore\n"
     ]
    }
   ],
   "source": [
    "import numpy as np\n",
    "import pandas as pd\n",
    "info= {\n",
    "       'ID':['r200260','r200247','r200057','r200058','r200847'],\n",
    "       'Name':['Pavan','Nithin','Prasad','Srujan','Arman'],\n",
    "       'Marks':[28,29,30,35,24],\n",
    "       'Phone':[7036006588,np.nan,8500050716,7416485585,np.nan],\n",
    "       'Address':[np.nan,'Nuzvidu',np.nan,'IDUPULAPAAYA','Nellore']\n",
    "       }\n",
    "df=pd.DataFrame(info)\n",
    "print(df)"
   ]
  },
  {
   "cell_type": "code",
   "execution_count": 2,
   "id": "b543b167-96e5-4add-8251-ff807edd9e4a",
   "metadata": {},
   "outputs": [
    {
     "data": {
      "text/html": [
       "<div>\n",
       "<style scoped>\n",
       "    .dataframe tbody tr th:only-of-type {\n",
       "        vertical-align: middle;\n",
       "    }\n",
       "\n",
       "    .dataframe tbody tr th {\n",
       "        vertical-align: top;\n",
       "    }\n",
       "\n",
       "    .dataframe thead th {\n",
       "        text-align: right;\n",
       "    }\n",
       "</style>\n",
       "<table border=\"1\" class=\"dataframe\">\n",
       "  <thead>\n",
       "    <tr style=\"text-align: right;\">\n",
       "      <th></th>\n",
       "      <th>ID</th>\n",
       "      <th>Name</th>\n",
       "      <th>Marks</th>\n",
       "      <th>Phone</th>\n",
       "      <th>Address</th>\n",
       "    </tr>\n",
       "  </thead>\n",
       "  <tbody>\n",
       "    <tr>\n",
       "      <th>0</th>\n",
       "      <td>False</td>\n",
       "      <td>False</td>\n",
       "      <td>False</td>\n",
       "      <td>False</td>\n",
       "      <td>True</td>\n",
       "    </tr>\n",
       "    <tr>\n",
       "      <th>1</th>\n",
       "      <td>False</td>\n",
       "      <td>False</td>\n",
       "      <td>False</td>\n",
       "      <td>True</td>\n",
       "      <td>False</td>\n",
       "    </tr>\n",
       "    <tr>\n",
       "      <th>2</th>\n",
       "      <td>False</td>\n",
       "      <td>False</td>\n",
       "      <td>False</td>\n",
       "      <td>False</td>\n",
       "      <td>True</td>\n",
       "    </tr>\n",
       "    <tr>\n",
       "      <th>3</th>\n",
       "      <td>False</td>\n",
       "      <td>False</td>\n",
       "      <td>False</td>\n",
       "      <td>False</td>\n",
       "      <td>False</td>\n",
       "    </tr>\n",
       "    <tr>\n",
       "      <th>4</th>\n",
       "      <td>False</td>\n",
       "      <td>False</td>\n",
       "      <td>False</td>\n",
       "      <td>True</td>\n",
       "      <td>False</td>\n",
       "    </tr>\n",
       "  </tbody>\n",
       "</table>\n",
       "</div>"
      ],
      "text/plain": [
       "      ID   Name  Marks  Phone  Address\n",
       "0  False  False  False  False     True\n",
       "1  False  False  False   True    False\n",
       "2  False  False  False  False     True\n",
       "3  False  False  False  False    False\n",
       "4  False  False  False   True    False"
      ]
     },
     "execution_count": 2,
     "metadata": {},
     "output_type": "execute_result"
    }
   ],
   "source": [
    "df.isnull()"
   ]
  },
  {
   "cell_type": "code",
   "execution_count": 3,
   "id": "0b3fbbea-22f2-4275-9c74-9b323bb00e50",
   "metadata": {},
   "outputs": [
    {
     "data": {
      "text/plain": [
       "ID         False\n",
       "Name       False\n",
       "Marks      False\n",
       "Phone       True\n",
       "Address     True\n",
       "dtype: bool"
      ]
     },
     "execution_count": 3,
     "metadata": {},
     "output_type": "execute_result"
    }
   ],
   "source": [
    "df.isnull().any()"
   ]
  },
  {
   "cell_type": "code",
   "execution_count": 4,
   "id": "6f314596-87b7-454c-9c75-088fdad488d6",
   "metadata": {},
   "outputs": [
    {
     "data": {
      "text/plain": [
       "0    False\n",
       "1     True\n",
       "2    False\n",
       "3    False\n",
       "4     True\n",
       "Name: Phone, dtype: bool"
      ]
     },
     "execution_count": 4,
     "metadata": {},
     "output_type": "execute_result"
    }
   ],
   "source": [
    "df['Phone'].isnull()"
   ]
  },
  {
   "cell_type": "code",
   "execution_count": 10,
   "id": "c22f70aa-466e-4729-9813-a480343c4192",
   "metadata": {},
   "outputs": [
    {
     "data": {
      "text/html": [
       "<div>\n",
       "<style scoped>\n",
       "    .dataframe tbody tr th:only-of-type {\n",
       "        vertical-align: middle;\n",
       "    }\n",
       "\n",
       "    .dataframe tbody tr th {\n",
       "        vertical-align: top;\n",
       "    }\n",
       "\n",
       "    .dataframe thead th {\n",
       "        text-align: right;\n",
       "    }\n",
       "</style>\n",
       "<table border=\"1\" class=\"dataframe\">\n",
       "  <thead>\n",
       "    <tr style=\"text-align: right;\">\n",
       "      <th></th>\n",
       "      <th>ID</th>\n",
       "      <th>Name</th>\n",
       "      <th>Marks</th>\n",
       "      <th>Phone</th>\n",
       "      <th>Address</th>\n",
       "    </tr>\n",
       "  </thead>\n",
       "  <tbody>\n",
       "    <tr>\n",
       "      <th>3</th>\n",
       "      <td>r200058</td>\n",
       "      <td>Srujan</td>\n",
       "      <td>35</td>\n",
       "      <td>7.416486e+09</td>\n",
       "      <td>IDUPULAPAAYA</td>\n",
       "    </tr>\n",
       "  </tbody>\n",
       "</table>\n",
       "</div>"
      ],
      "text/plain": [
       "        ID    Name  Marks         Phone       Address\n",
       "3  r200058  Srujan     35  7.416486e+09  IDUPULAPAAYA"
      ]
     },
     "execution_count": 10,
     "metadata": {},
     "output_type": "execute_result"
    }
   ],
   "source": [
    "df.dropna()"
   ]
  },
  {
   "cell_type": "code",
   "execution_count": 7,
   "id": "f90eaa35-b589-4821-b2f7-00c56dd5b1e6",
   "metadata": {},
   "outputs": [
    {
     "data": {
      "text/html": [
       "<div>\n",
       "<style scoped>\n",
       "    .dataframe tbody tr th:only-of-type {\n",
       "        vertical-align: middle;\n",
       "    }\n",
       "\n",
       "    .dataframe tbody tr th {\n",
       "        vertical-align: top;\n",
       "    }\n",
       "\n",
       "    .dataframe thead th {\n",
       "        text-align: right;\n",
       "    }\n",
       "</style>\n",
       "<table border=\"1\" class=\"dataframe\">\n",
       "  <thead>\n",
       "    <tr style=\"text-align: right;\">\n",
       "      <th></th>\n",
       "      <th>ID</th>\n",
       "      <th>Name</th>\n",
       "      <th>Marks</th>\n",
       "      <th>Phone</th>\n",
       "      <th>Address</th>\n",
       "    </tr>\n",
       "  </thead>\n",
       "  <tbody>\n",
       "    <tr>\n",
       "      <th>0</th>\n",
       "      <td>r200260</td>\n",
       "      <td>Pavan</td>\n",
       "      <td>28</td>\n",
       "      <td>7036006588.0</td>\n",
       "      <td>Dont Know</td>\n",
       "    </tr>\n",
       "    <tr>\n",
       "      <th>1</th>\n",
       "      <td>r200247</td>\n",
       "      <td>Nithin</td>\n",
       "      <td>29</td>\n",
       "      <td>Dont Know</td>\n",
       "      <td>Nuzvidu</td>\n",
       "    </tr>\n",
       "    <tr>\n",
       "      <th>2</th>\n",
       "      <td>r200057</td>\n",
       "      <td>Prasad</td>\n",
       "      <td>30</td>\n",
       "      <td>8500050716.0</td>\n",
       "      <td>Dont Know</td>\n",
       "    </tr>\n",
       "    <tr>\n",
       "      <th>3</th>\n",
       "      <td>r200058</td>\n",
       "      <td>Srujan</td>\n",
       "      <td>35</td>\n",
       "      <td>7416485585.0</td>\n",
       "      <td>IDUPULAPAAYA</td>\n",
       "    </tr>\n",
       "    <tr>\n",
       "      <th>4</th>\n",
       "      <td>r200847</td>\n",
       "      <td>Arman</td>\n",
       "      <td>24</td>\n",
       "      <td>Dont Know</td>\n",
       "      <td>Nellore</td>\n",
       "    </tr>\n",
       "  </tbody>\n",
       "</table>\n",
       "</div>"
      ],
      "text/plain": [
       "        ID    Name  Marks         Phone       Address\n",
       "0  r200260   Pavan     28  7036006588.0     Dont Know\n",
       "1  r200247  Nithin     29     Dont Know       Nuzvidu\n",
       "2  r200057  Prasad     30  8500050716.0     Dont Know\n",
       "3  r200058  Srujan     35  7416485585.0  IDUPULAPAAYA\n",
       "4  r200847   Arman     24     Dont Know       Nellore"
      ]
     },
     "execution_count": 7,
     "metadata": {},
     "output_type": "execute_result"
    }
   ],
   "source": [
    "df.fillna('Dont Know')"
   ]
  },
  {
   "cell_type": "code",
   "execution_count": 8,
   "id": "aa35ca92-b752-4b58-a4b8-9dba6055cf27",
   "metadata": {},
   "outputs": [
    {
     "data": {
      "text/html": [
       "<div>\n",
       "<style scoped>\n",
       "    .dataframe tbody tr th:only-of-type {\n",
       "        vertical-align: middle;\n",
       "    }\n",
       "\n",
       "    .dataframe tbody tr th {\n",
       "        vertical-align: top;\n",
       "    }\n",
       "\n",
       "    .dataframe thead th {\n",
       "        text-align: right;\n",
       "    }\n",
       "</style>\n",
       "<table border=\"1\" class=\"dataframe\">\n",
       "  <thead>\n",
       "    <tr style=\"text-align: right;\">\n",
       "      <th></th>\n",
       "      <th>ID</th>\n",
       "      <th>Name</th>\n",
       "      <th>Marks</th>\n",
       "      <th>Phone</th>\n",
       "      <th>Address</th>\n",
       "    </tr>\n",
       "  </thead>\n",
       "  <tbody>\n",
       "    <tr>\n",
       "      <th>0</th>\n",
       "      <td>r200260</td>\n",
       "      <td>Pavan</td>\n",
       "      <td>28</td>\n",
       "      <td>7.036007e+09</td>\n",
       "      <td>NaN</td>\n",
       "    </tr>\n",
       "    <tr>\n",
       "      <th>1</th>\n",
       "      <td>r200247</td>\n",
       "      <td>Nithin</td>\n",
       "      <td>29</td>\n",
       "      <td>7.036007e+09</td>\n",
       "      <td>Nuzvidu</td>\n",
       "    </tr>\n",
       "    <tr>\n",
       "      <th>2</th>\n",
       "      <td>r200057</td>\n",
       "      <td>Prasad</td>\n",
       "      <td>30</td>\n",
       "      <td>8.500051e+09</td>\n",
       "      <td>Nuzvidu</td>\n",
       "    </tr>\n",
       "    <tr>\n",
       "      <th>3</th>\n",
       "      <td>r200058</td>\n",
       "      <td>Srujan</td>\n",
       "      <td>35</td>\n",
       "      <td>7.416486e+09</td>\n",
       "      <td>IDUPULAPAAYA</td>\n",
       "    </tr>\n",
       "    <tr>\n",
       "      <th>4</th>\n",
       "      <td>r200847</td>\n",
       "      <td>Arman</td>\n",
       "      <td>24</td>\n",
       "      <td>7.416486e+09</td>\n",
       "      <td>Nellore</td>\n",
       "    </tr>\n",
       "  </tbody>\n",
       "</table>\n",
       "</div>"
      ],
      "text/plain": [
       "        ID    Name  Marks         Phone       Address\n",
       "0  r200260   Pavan     28  7.036007e+09           NaN\n",
       "1  r200247  Nithin     29  7.036007e+09       Nuzvidu\n",
       "2  r200057  Prasad     30  8.500051e+09       Nuzvidu\n",
       "3  r200058  Srujan     35  7.416486e+09  IDUPULAPAAYA\n",
       "4  r200847   Arman     24  7.416486e+09       Nellore"
      ]
     },
     "execution_count": 8,
     "metadata": {},
     "output_type": "execute_result"
    }
   ],
   "source": [
    "df.ffill()"
   ]
  },
  {
   "cell_type": "code",
   "execution_count": 11,
   "id": "b9fa0c2e-a547-4521-a652-faae90299e2b",
   "metadata": {},
   "outputs": [
    {
     "name": "stdin",
     "output_type": "stream",
     "text": [
      "enter the no. of peoples income do u want to enter: 4\n",
      "enter the income 1: 12000\n",
      "enter the income 2: 120000\n",
      "enter the income 3: 87000\n",
      "enter the income 4: 90000\n"
     ]
    },
    {
     "name": "stdout",
     "output_type": "stream",
     "text": [
      "[12000, 120000, 87000, 90000]\n"
     ]
    },
    {
     "data": {
      "text/plain": [
       "['Minimum Salary', NaN, 'Max Salary', 'Max Salary']\n",
       "Categories (4, object): ['Basic Salary' < 'Minimum Salary' < 'Required Salary' < 'Max Salary']"
      ]
     },
     "execution_count": 11,
     "metadata": {},
     "output_type": "execute_result"
    }
   ],
   "source": [
    "n=int(input(\"enter the no. of peoples income do u want to enter:\"))\n",
    "l=[]\n",
    "for i in range(n):\n",
    "    income=int(input(f\"enter the income {i+1}:\"))\n",
    "    l.append(income)\n",
    "print(l)\n",
    "bins=[0,10000,25000,50000,100000]\n",
    "bin_names=['Basic Salary','Minimum Salary','Required Salary','Max Salary']\n",
    "b=pd.cut(l,bins,labels=bin_names)\n",
    "b"
   ]
  },
  {
   "cell_type": "code",
   "execution_count": 12,
   "id": "5dd00802-cc8c-461d-bdba-680a7f049905",
   "metadata": {},
   "outputs": [
    {
     "name": "stdin",
     "output_type": "stream",
     "text": [
      "enter the no. of peoples age do u want to enter: 4\n",
      "enter the age of person 1: 12\n",
      "enter the age of person 2: 34\n",
      "enter the age of person 3: 78\n",
      "enter the age of person 4: 65\n"
     ]
    },
    {
     "name": "stdout",
     "output_type": "stream",
     "text": [
      "[12, 34, 78, 65]\n"
     ]
    },
    {
     "data": {
      "text/plain": [
       "['Child age', 'middle age', 'old age', 'old age']\n",
       "Categories (5, object): ['Child age' < 'Teenage' < 'Adult age' < 'middle age' < 'old age']"
      ]
     },
     "execution_count": 12,
     "metadata": {},
     "output_type": "execute_result"
    }
   ],
   "source": [
    "n=int(input(\"enter the no. of peoples age do u want to enter:\"))\n",
    "l1=[]\n",
    "for i in range(n):\n",
    "    age=int(input(f\"enter the age of person {i+1}:\"))\n",
    "    l1.append(age)\n",
    "print(l1)\n",
    "bins=[0,13,19,27,60,100]\n",
    "bin_names=['Child age','Teenage','Adult age','middle age','old age']\n",
    "b=pd.cut(l1,bins,labels=bin_names)\n",
    "b"
   ]
  },
  {
   "cell_type": "code",
   "execution_count": null,
   "id": "ec390577-83a8-49f6-bb44-c32fd43c0f5f",
   "metadata": {},
   "outputs": [],
   "source": []
  }
 ],
 "metadata": {
  "kernelspec": {
   "display_name": "Python 3 (ipykernel)",
   "language": "python",
   "name": "python3"
  },
  "language_info": {
   "codemirror_mode": {
    "name": "ipython",
    "version": 3
   },
   "file_extension": ".py",
   "mimetype": "text/x-python",
   "name": "python",
   "nbconvert_exporter": "python",
   "pygments_lexer": "ipython3",
   "version": "3.11.5"
  }
 },
 "nbformat": 4,
 "nbformat_minor": 5
}
