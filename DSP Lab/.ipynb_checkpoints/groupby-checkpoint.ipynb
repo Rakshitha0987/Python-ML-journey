{
 "cells": [
  {
   "cell_type": "code",
   "execution_count": 1,
   "id": "fdf544f7-f524-4d2e-8770-ba1048c3e399",
   "metadata": {},
   "outputs": [],
   "source": [
    "import pandas as pd\n",
    "import numpy as np"
   ]
  },
  {
   "cell_type": "code",
   "execution_count": 27,
   "id": "94e1ad2f-1098-430f-9639-fee05479b523",
   "metadata": {},
   "outputs": [
    {
     "data": {
      "text/html": [
       "<div>\n",
       "<style scoped>\n",
       "    .dataframe tbody tr th:only-of-type {\n",
       "        vertical-align: middle;\n",
       "    }\n",
       "\n",
       "    .dataframe tbody tr th {\n",
       "        vertical-align: top;\n",
       "    }\n",
       "\n",
       "    .dataframe thead th {\n",
       "        text-align: right;\n",
       "    }\n",
       "</style>\n",
       "<table border=\"1\" class=\"dataframe\">\n",
       "  <thead>\n",
       "    <tr style=\"text-align: right;\">\n",
       "      <th></th>\n",
       "      <th>NAME</th>\n",
       "      <th>AGE</th>\n",
       "      <th>GENDER</th>\n",
       "      <th>DEPT</th>\n",
       "    </tr>\n",
       "  </thead>\n",
       "  <tbody>\n",
       "    <tr>\n",
       "      <th>0</th>\n",
       "      <td>ABHINAYA</td>\n",
       "      <td>20</td>\n",
       "      <td>F</td>\n",
       "      <td>CSE</td>\n",
       "    </tr>\n",
       "    <tr>\n",
       "      <th>1</th>\n",
       "      <td>SUVARNA</td>\n",
       "      <td>18</td>\n",
       "      <td>F</td>\n",
       "      <td>EEE</td>\n",
       "    </tr>\n",
       "    <tr>\n",
       "      <th>2</th>\n",
       "      <td>BHAN</td>\n",
       "      <td>19</td>\n",
       "      <td>F</td>\n",
       "      <td>MECH</td>\n",
       "    </tr>\n",
       "    <tr>\n",
       "      <th>3</th>\n",
       "      <td>RAJITHA</td>\n",
       "      <td>19</td>\n",
       "      <td>F</td>\n",
       "      <td>CSE</td>\n",
       "    </tr>\n",
       "    <tr>\n",
       "      <th>4</th>\n",
       "      <td>CHERRY</td>\n",
       "      <td>18</td>\n",
       "      <td>F</td>\n",
       "      <td>CSE</td>\n",
       "    </tr>\n",
       "    <tr>\n",
       "      <th>5</th>\n",
       "      <td>RAKSHI</td>\n",
       "      <td>20</td>\n",
       "      <td>F</td>\n",
       "      <td>CSE</td>\n",
       "    </tr>\n",
       "    <tr>\n",
       "      <th>6</th>\n",
       "      <td>JAYASHANKAR</td>\n",
       "      <td>19</td>\n",
       "      <td>M</td>\n",
       "      <td>EEE</td>\n",
       "    </tr>\n",
       "    <tr>\n",
       "      <th>7</th>\n",
       "      <td>HARSHA</td>\n",
       "      <td>18</td>\n",
       "      <td>M</td>\n",
       "      <td>MECH</td>\n",
       "    </tr>\n",
       "    <tr>\n",
       "      <th>8</th>\n",
       "      <td>DEEPIKA</td>\n",
       "      <td>20</td>\n",
       "      <td>F</td>\n",
       "      <td>CIVIL</td>\n",
       "    </tr>\n",
       "  </tbody>\n",
       "</table>\n",
       "</div>"
      ],
      "text/plain": [
       "          NAME  AGE GENDER   DEPT\n",
       "0     ABHINAYA   20      F    CSE\n",
       "1      SUVARNA   18      F    EEE\n",
       "2         BHAN   19      F   MECH\n",
       "3      RAJITHA   19      F    CSE\n",
       "4       CHERRY   18      F    CSE\n",
       "5       RAKSHI   20      F    CSE\n",
       "6  JAYASHANKAR   19      M    EEE\n",
       "7       HARSHA   18      M   MECH\n",
       "8      DEEPIKA   20      F  CIVIL"
      ]
     },
     "execution_count": 27,
     "metadata": {},
     "output_type": "execute_result"
    }
   ],
   "source": [
    "#creating dataframe \n",
    "a=np.arange(1,10,1)\n",
    "b=np.arange(0,9,1)\n",
    "name=pd.Series([\"ABHINAYA\",\"SUVARNA\",\"BHAN\",\"RAJITHA\",\"CHERRY\",\"RAKSHI\",\"JAYASHANKAR\",\"HARSHA\",\"DEEPIKA\"])\n",
    "age=pd.Series([20,18,19,19,18,20,19,18,20])\n",
    "gender=pd.Series([\"F\",\"F\",\"F\",\"F\",\"F\",\"F\",\"M\",\"M\",\"F\"])\n",
    "dept=pd.Series([\"CSE\",\"EEE\",\"MECH\",\"CSE\",\"CSE\",\"CSE\",\"EEE\",\"MECH\",\"CIVIL\"])\n",
    "dept_df=pd.DataFrame({\"NAME\":name,\"AGE\":age,\"GENDER\":gender,\"DEPT\":dept})\n",
    "dept_df\n"
   ]
  },
  {
   "cell_type": "code",
   "execution_count": 39,
   "id": "405bd976-55ce-40c3-bd7a-6eae8d0df2eb",
   "metadata": {},
   "outputs": [
    {
     "data": {
      "text/html": [
       "<div>\n",
       "<style scoped>\n",
       "    .dataframe tbody tr th:only-of-type {\n",
       "        vertical-align: middle;\n",
       "    }\n",
       "\n",
       "    .dataframe tbody tr th {\n",
       "        vertical-align: top;\n",
       "    }\n",
       "\n",
       "    .dataframe thead th {\n",
       "        text-align: right;\n",
       "    }\n",
       "</style>\n",
       "<table border=\"1\" class=\"dataframe\">\n",
       "  <thead>\n",
       "    <tr style=\"text-align: right;\">\n",
       "      <th></th>\n",
       "      <th>NAME</th>\n",
       "      <th>AGE</th>\n",
       "      <th>GENDER</th>\n",
       "    </tr>\n",
       "    <tr>\n",
       "      <th>DEPT</th>\n",
       "      <th></th>\n",
       "      <th></th>\n",
       "      <th></th>\n",
       "    </tr>\n",
       "  </thead>\n",
       "  <tbody>\n",
       "    <tr>\n",
       "      <th>CIVIL</th>\n",
       "      <td>DEEPIKA</td>\n",
       "      <td>20</td>\n",
       "      <td>F</td>\n",
       "    </tr>\n",
       "    <tr>\n",
       "      <th>CSE</th>\n",
       "      <td>ABHINAYA</td>\n",
       "      <td>20</td>\n",
       "      <td>F</td>\n",
       "    </tr>\n",
       "    <tr>\n",
       "      <th>EEE</th>\n",
       "      <td>SUVARNA</td>\n",
       "      <td>18</td>\n",
       "      <td>F</td>\n",
       "    </tr>\n",
       "    <tr>\n",
       "      <th>MECH</th>\n",
       "      <td>BHAN</td>\n",
       "      <td>19</td>\n",
       "      <td>F</td>\n",
       "    </tr>\n",
       "  </tbody>\n",
       "</table>\n",
       "</div>"
      ],
      "text/plain": [
       "           NAME  AGE GENDER\n",
       "DEPT                       \n",
       "CIVIL   DEEPIKA   20      F\n",
       "CSE    ABHINAYA   20      F\n",
       "EEE     SUVARNA   18      F\n",
       "MECH       BHAN   19      F"
      ]
     },
     "execution_count": 39,
     "metadata": {},
     "output_type": "execute_result"
    }
   ],
   "source": [
    "#grouping based on department and then printing the first of all groups\n",
    "gp1=dept_df.groupby(\"DEPT\")\n",
    "gp1.first()"
   ]
  },
  {
   "cell_type": "code",
   "execution_count": 40,
   "id": "4883a9d7-1f01-459c-9aa5-d544d99e7594",
   "metadata": {},
   "outputs": [
    {
     "data": {
      "text/plain": [
       "DEPT\n",
       "CIVIL    1\n",
       "CSE      4\n",
       "EEE      2\n",
       "MECH     2\n",
       "dtype: int64"
      ]
     },
     "execution_count": 40,
     "metadata": {},
     "output_type": "execute_result"
    }
   ],
   "source": [
    "#size of the above group\n",
    "gp1.size()"
   ]
  },
  {
   "cell_type": "code",
   "execution_count": 42,
   "id": "fe3c47e6-9eef-40c5-b424-e9e365d6e9dc",
   "metadata": {},
   "outputs": [
    {
     "data": {
      "text/html": [
       "<div>\n",
       "<style scoped>\n",
       "    .dataframe tbody tr th:only-of-type {\n",
       "        vertical-align: middle;\n",
       "    }\n",
       "\n",
       "    .dataframe tbody tr th {\n",
       "        vertical-align: top;\n",
       "    }\n",
       "\n",
       "    .dataframe thead th {\n",
       "        text-align: right;\n",
       "    }\n",
       "</style>\n",
       "<table border=\"1\" class=\"dataframe\">\n",
       "  <thead>\n",
       "    <tr style=\"text-align: right;\">\n",
       "      <th></th>\n",
       "      <th>NAME</th>\n",
       "      <th>AGE</th>\n",
       "      <th>GENDER</th>\n",
       "      <th>DEPT</th>\n",
       "    </tr>\n",
       "  </thead>\n",
       "  <tbody>\n",
       "    <tr>\n",
       "      <th>0</th>\n",
       "      <td>ABHINAYA</td>\n",
       "      <td>20</td>\n",
       "      <td>F</td>\n",
       "      <td>CSE</td>\n",
       "    </tr>\n",
       "    <tr>\n",
       "      <th>3</th>\n",
       "      <td>RAJITHA</td>\n",
       "      <td>19</td>\n",
       "      <td>F</td>\n",
       "      <td>CSE</td>\n",
       "    </tr>\n",
       "    <tr>\n",
       "      <th>4</th>\n",
       "      <td>CHERRY</td>\n",
       "      <td>18</td>\n",
       "      <td>F</td>\n",
       "      <td>CSE</td>\n",
       "    </tr>\n",
       "    <tr>\n",
       "      <th>5</th>\n",
       "      <td>RAKSHI</td>\n",
       "      <td>20</td>\n",
       "      <td>F</td>\n",
       "      <td>CSE</td>\n",
       "    </tr>\n",
       "  </tbody>\n",
       "</table>\n",
       "</div>"
      ],
      "text/plain": [
       "       NAME  AGE GENDER DEPT\n",
       "0  ABHINAYA   20      F  CSE\n",
       "3   RAJITHA   19      F  CSE\n",
       "4    CHERRY   18      F  CSE\n",
       "5    RAKSHI   20      F  CSE"
      ]
     },
     "execution_count": 42,
     "metadata": {},
     "output_type": "execute_result"
    }
   ],
   "source": [
    "#getting group\n",
    "gp2=gp1.get_group(\"CSE\")\n",
    "gp2"
   ]
  },
  {
   "cell_type": "code",
   "execution_count": 44,
   "id": "3e9eac59-f107-4173-82af-26c9a5ed94da",
   "metadata": {},
   "outputs": [
    {
     "data": {
      "text/html": [
       "<div>\n",
       "<style scoped>\n",
       "    .dataframe tbody tr th:only-of-type {\n",
       "        vertical-align: middle;\n",
       "    }\n",
       "\n",
       "    .dataframe tbody tr th {\n",
       "        vertical-align: top;\n",
       "    }\n",
       "\n",
       "    .dataframe thead th {\n",
       "        text-align: right;\n",
       "    }\n",
       "</style>\n",
       "<table border=\"1\" class=\"dataframe\">\n",
       "  <thead>\n",
       "    <tr style=\"text-align: right;\">\n",
       "      <th></th>\n",
       "      <th>NAME</th>\n",
       "      <th>AGE</th>\n",
       "      <th>GENDER</th>\n",
       "      <th>DEPT</th>\n",
       "    </tr>\n",
       "  </thead>\n",
       "  <tbody>\n",
       "    <tr>\n",
       "      <th>2</th>\n",
       "      <td>BHAN</td>\n",
       "      <td>19</td>\n",
       "      <td>F</td>\n",
       "      <td>MECH</td>\n",
       "    </tr>\n",
       "    <tr>\n",
       "      <th>7</th>\n",
       "      <td>HARSHA</td>\n",
       "      <td>18</td>\n",
       "      <td>M</td>\n",
       "      <td>MECH</td>\n",
       "    </tr>\n",
       "  </tbody>\n",
       "</table>\n",
       "</div>"
      ],
      "text/plain": [
       "     NAME  AGE GENDER  DEPT\n",
       "2    BHAN   19      F  MECH\n",
       "7  HARSHA   18      M  MECH"
      ]
     },
     "execution_count": 44,
     "metadata": {},
     "output_type": "execute_result"
    }
   ],
   "source": [
    "#getting group\n",
    "gp3=gp1.get_group(\"MECH\")\n",
    "gp3"
   ]
  },
  {
   "cell_type": "code",
   "execution_count": 48,
   "id": "55a78a57-6ae5-4a91-aa98-bf802adbbabd",
   "metadata": {},
   "outputs": [
    {
     "data": {
      "text/plain": [
       "NAME      ABHINAYARAJITHACHERRYRAKSHI\n",
       "AGE                                77\n",
       "GENDER                           FFFF\n",
       "DEPT                     CSECSECSECSE\n",
       "dtype: object"
      ]
     },
     "execution_count": 48,
     "metadata": {},
     "output_type": "execute_result"
    }
   ],
   "source": [
    "#summing the ages of CSE dept\n",
    "gp2.sum()"
   ]
  },
  {
   "cell_type": "code",
   "execution_count": 49,
   "id": "fb3d5e5d-4fdd-4ae8-9a3d-145c009d495d",
   "metadata": {},
   "outputs": [
    {
     "data": {
      "text/plain": [
       "NAME      DEEPIKA\n",
       "AGE            20\n",
       "GENDER          F\n",
       "DEPT        CIVIL\n",
       "dtype: object"
      ]
     },
     "execution_count": 49,
     "metadata": {},
     "output_type": "execute_result"
    }
   ],
   "source": [
    "#summing the ages of civil dept\n",
    "gp4=gp1.get_group(\"CIVIL\")\n",
    "gp4.sum()"
   ]
  },
  {
   "cell_type": "code",
   "execution_count": null,
   "id": "bb37da25-80e1-470d-b740-852eae484693",
   "metadata": {},
   "outputs": [],
   "source": []
  }
 ],
 "metadata": {
  "kernelspec": {
   "display_name": "Python 3 (ipykernel)",
   "language": "python",
   "name": "python3"
  },
  "language_info": {
   "codemirror_mode": {
    "name": "ipython",
    "version": 3
   },
   "file_extension": ".py",
   "mimetype": "text/x-python",
   "name": "python",
   "nbconvert_exporter": "python",
   "pygments_lexer": "ipython3",
   "version": "3.8.10"
  }
 },
 "nbformat": 4,
 "nbformat_minor": 5
}
