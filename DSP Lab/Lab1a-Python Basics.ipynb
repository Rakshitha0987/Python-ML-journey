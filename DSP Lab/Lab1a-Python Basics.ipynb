{
 "cells": [
  {
   "cell_type": "markdown",
   "id": "77762127-ba3d-477d-99a9-01d573035f2b",
   "metadata": {},
   "source": [
    "Data Types,Expressions"
   ]
  },
  {
   "cell_type": "code",
   "execution_count": 2,
   "id": "6fab183a-7210-4992-b62b-fa6927f9c5bd",
   "metadata": {},
   "outputs": [
    {
     "name": "stdout",
     "output_type": "stream",
     "text": [
      "Value of a= 10 , Value of b= 20\n",
      "Value of a= 20 , Value of b= 10\n"
     ]
    }
   ],
   "source": [
    "#1)Swap 2 Numbers without using 3rd variable\n",
    "a=10\n",
    "b=20\n",
    "print('Value of a=',a,', Value of b=',b)\n",
    "a,b=b,a\n",
    "print('Value of a=',a,', Value of b=',b)"
   ]
  },
  {
   "cell_type": "code",
   "execution_count": 3,
   "id": "108a7af1-06f2-43b0-8c79-d602581bdc6f",
   "metadata": {},
   "outputs": [
    {
     "name": "stdin",
     "output_type": "stream",
     "text": [
      "Enter Your Name: Pavan\n",
      "Enter Your Age 20\n"
     ]
    },
    {
     "name": "stdout",
     "output_type": "stream",
     "text": [
      "Pavan ,You will turn 100 years at the year 2104\n"
     ]
    }
   ],
   "source": [
    "#2)Write a Python Program that asks the user to enter the name and age.\n",
    "#Print a message address to the user that tells the user the year in which they will turn 100 years old\n",
    "name1=input(\"Enter Your Name:\")\n",
    "age1=int(input(\"Enter Your Age\"))\n",
    "currentYear=2024\n",
    "print(name1,\",You will turn 100 years at the year\",currentYear-age1+100)"
   ]
  },
  {
   "cell_type": "code",
   "execution_count": 4,
   "id": "4fb57e0f-b39b-4ce5-8782-5910467e5cb4",
   "metadata": {},
   "outputs": [
    {
     "name": "stdout",
     "output_type": "stream",
     "text": [
      "i) 9\n",
      "ii) 1024\n",
      "iii) 1024\n",
      "iv) 55\n",
      "v) True\n",
      "vi) True\n"
     ]
    }
   ],
   "source": [
    "'''3)Give the Output of the following when num1=4,num2=3,num3=2\n",
    "      i)num1+=num2+num3\n",
    "      ii)num1=num1**(num2+num3)\n",
    "      iii)num1**=num2+num3\n",
    "      iv)num1='5'+'5'\n",
    "      v)print(10+6*2**2!=9//4-3 and 29>=29/9)\n",
    "      vi)print(5%10+10<50 and 29<=29'''\n",
    "num1=4\n",
    "num2=3\n",
    "num3=2\n",
    "num1+=num2+num3\n",
    "print('i)',num1)\n",
    "num1=4\n",
    "num1=num1**(num2+num3)\n",
    "print('ii)',num1)\n",
    "num1=4\n",
    "num1**=num2+num3\n",
    "print('iii)',num1)\n",
    "num1='5'+'5'\n",
    "print('iv)',num1)\n",
    "print('v)',10+6*2**2!=9//4-3 and 29>=29/9)\n",
    "print('vi)',5%10+10<50 and 29<=29)"
   ]
  },
  {
   "cell_type": "raw",
   "id": "17842f9c-e1c7-4f7d-b8a5-3509b29f27a4",
   "metadata": {},
   "source": [
    "Variables String Operations"
   ]
  },
  {
   "cell_type": "code",
   "execution_count": 5,
   "id": "d3e03517-d6b6-450d-ad0a-863dcb5c393f",
   "metadata": {},
   "outputs": [
    {
     "name": "stdin",
     "output_type": "stream",
     "text": [
      "Enter a String RGUKT RKValley\n"
     ]
    },
    {
     "name": "stdout",
     "output_type": "stream",
     "text": [
      "First Letter = R Last Letter = y\n"
     ]
    }
   ],
   "source": [
    "#1)Write a Python Program to read input string from the user and display the first & last characters\n",
    "String=input(\"Enter a String\")\n",
    "print(\"First Letter =\",String[0],\"Last Letter =\",String[-1])"
   ]
  },
  {
   "cell_type": "code",
   "execution_count": 6,
   "id": "84c606b9-97a4-4f75-a9af-b629c36c0dc6",
   "metadata": {},
   "outputs": [
    {
     "name": "stdin",
     "output_type": "stream",
     "text": [
      "Enter a String RGUKT RKV\n",
      "Enter No. of times 3\n"
     ]
    },
    {
     "name": "stdout",
     "output_type": "stream",
     "text": [
      "RGUKT RKV\n",
      "RGUKT RKV\n",
      "RGUKT RKV\n"
     ]
    }
   ],
   "source": [
    "#2)Write a Python Program to read input string from user and display the string n times.\n",
    "str=input(\"Enter a String\")\n",
    "n=int(input(\"Enter No. of times\"))\n",
    "for i in range(0,n):\n",
    "    print(str)\n"
   ]
  },
  {
   "cell_type": "code",
   "execution_count": 7,
   "id": "c7c2bbc2-7d73-4e9f-8f0c-37c252e55320",
   "metadata": {},
   "outputs": [
    {
     "name": "stdin",
     "output_type": "stream",
     "text": [
      "Enter a String RGUKT RKV\n"
     ]
    },
    {
     "name": "stdout",
     "output_type": "stream",
     "text": [
      "String in Reverse Order is: VKR TKUGR\n"
     ]
    }
   ],
   "source": [
    "#Write a Python Program to input a string from the user and print it in reverse order without creating a new string\n",
    "s=input(\"Enter a String\")\n",
    "print('String in Reverse Order is:',s[::-1])"
   ]
  },
  {
   "cell_type": "code",
   "execution_count": 10,
   "id": "e5d18012-d699-4d9b-ac1e-74a75388769e",
   "metadata": {},
   "outputs": [
    {
     "name": "stdin",
     "output_type": "stream",
     "text": [
      "Enter the Text:  Hello RKVians!!!We are talking from the mobile no. +919876543210\n"
     ]
    },
    {
     "name": "stdout",
     "output_type": "stream",
     "text": [
      "Total Characters = 64\n",
      "Total Alphabets = 39\n",
      "Total Digits = 12\n",
      "Total Special Characters = 5\n",
      "Total Words = 9\n"
     ]
    }
   ],
   "source": [
    "#Write a Program to input lines of text from the user until enter is pressed.Count the total no. of characters in the text\n",
    "#(including white spaces),total number of alphabet,digits and special symbols and total no. of words in given text.\n",
    "text=input(\"Enter the Text: \")\n",
    "char,alpha,digits,special,words=0,0,0,0,0\n",
    "for i in text:\n",
    "    if(i.isalpha()):\n",
    "        alpha+=1\n",
    "    elif(i.isdigit()):\n",
    "        digits+=1\n",
    "    elif(i==' '):\n",
    "        words+=1\n",
    "    else:\n",
    "        special+=1\n",
    "    char+=1\n",
    "print(\"Total Characters =\",char)\n",
    "print(\"Total Alphabets =\",alpha)\n",
    "print(\"Total Digits =\",digits)\n",
    "print(\"Total Special Characters =\",special)\n",
    "print(\"Total Words =\",words+1)\n",
    "        "
   ]
  }
 ],
 "metadata": {
  "kernelspec": {
   "display_name": "Python 3 (ipykernel)",
   "language": "python",
   "name": "python3"
  },
  "language_info": {
   "codemirror_mode": {
    "name": "ipython",
    "version": 3
   },
   "file_extension": ".py",
   "mimetype": "text/x-python",
   "name": "python",
   "nbconvert_exporter": "python",
   "pygments_lexer": "ipython3",
   "version": "3.11.5"
  }
 },
 "nbformat": 4,
 "nbformat_minor": 5
}
