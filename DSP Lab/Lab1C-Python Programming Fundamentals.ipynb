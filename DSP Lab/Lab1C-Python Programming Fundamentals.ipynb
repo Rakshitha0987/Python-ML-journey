{
 "cells": [
  {
   "cell_type": "code",
   "execution_count": 1,
   "id": "0faa5148-10dc-4da3-add2-c09496c20384",
   "metadata": {},
   "outputs": [
    {
     "name": "stdin",
     "output_type": "stream",
     "text": [
      "Enter the Traffic Signal Color red\n"
     ]
    },
    {
     "name": "stdout",
     "output_type": "stream",
     "text": [
      "Stop There!\n"
     ]
    }
   ],
   "source": [
    "#1)Write a Program to display the appropriate message as per the color of the signal at the road crossing\n",
    "color=input(\"Enter the Traffic Signal Color\").lower()\n",
    "if(color=='red'):\n",
    "    print(\"Stop There!\")\n",
    "elif(color=='green'):\n",
    "    print(\"You can go Ahead\")\n",
    "elif(color=='yellow'):\n",
    "    print(\"Be ready to go\")\n",
    "else:\n",
    "    print(\"Enter the Proper Color\")"
   ]
  },
  {
   "cell_type": "code",
   "execution_count": 2,
   "id": "1de908c2-855d-422b-a8e4-6f6faa29654f",
   "metadata": {},
   "outputs": [
    {
     "name": "stdin",
     "output_type": "stream",
     "text": [
      "Enter the Number 1 4\n",
      "Enter the Number 2 5\n",
      "Enter the operation (+,-,*,/) +\n"
     ]
    },
    {
     "name": "stdout",
     "output_type": "stream",
     "text": [
      "4 + 5 = 9\n"
     ]
    }
   ],
   "source": [
    "#2)Write a Program to create a Simple Calculator performing only four basic operations '+','-','/','*'\n",
    "num1=int(input(\"Enter the Number 1\"))\n",
    "num2=int(input(\"Enter the Number 2\"))\n",
    "operand=input(\"Enter the operation (+,-,*,/)\")\n",
    "if(operand=='+'):\n",
    "    print(num1,operand,num2,'=',num1+num2)\n",
    "elif(operand=='-'):\n",
    "    print(num1,operand,num2,'=',num1-num2)\n",
    "elif(operand=='*'):\n",
    "    print(num1,operand,num2,'=',num1*num2)\n",
    "elif(operand=='/'):\n",
    "    print(num1,operand,num2,'=',num1/num2)\n",
    "else:\n",
    "    print(\"Enter the Proper Operation\")"
   ]
  },
  {
   "cell_type": "code",
   "execution_count": 3,
   "id": "fd0bbf9c-cf9a-4e09-b164-0e9735d48f94",
   "metadata": {},
   "outputs": [
    {
     "name": "stdin",
     "output_type": "stream",
     "text": [
      "Enter your Name: Pavan\n",
      "Enter your age 20\n"
     ]
    },
    {
     "name": "stdout",
     "output_type": "stream",
     "text": [
      "You are Eligible for applying Driving Licence, Pavan\n"
     ]
    }
   ],
   "source": [
    "#3)Write a Python Program that takes the name and age of the user as input and display a message whether the user is eligible\n",
    "#for applying Driving Licence or not(Eligible age is 18 years)\n",
    "name=input(\"Enter your Name:\")\n",
    "age=int(input(\"Enter your age\"))\n",
    "if(age>=18):\n",
    "    print('You are Eligible for applying Driving Licence,',name)\n",
    "else:\n",
    "    print('You are not Eligible for applying Driving License,', name)"
   ]
  },
  {
   "cell_type": "code",
   "execution_count": 4,
   "id": "f9e1f388-5b6a-4c92-b93f-980afd5ed127",
   "metadata": {},
   "outputs": [
    {
     "name": "stdin",
     "output_type": "stream",
     "text": [
      "Enter the Year 2024\n"
     ]
    },
    {
     "name": "stdout",
     "output_type": "stream",
     "text": [
      "2024 is a Leap Year\n"
     ]
    }
   ],
   "source": [
    "#4)Write a Python Program to check whether the entered year is Leap Year or not\n",
    "year=int(input(\"Enter the Year\"))\n",
    "if((year%4==0 and year%100!=0) or year%400==0):\n",
    "    print(year,'is a Leap Year')\n",
    "else:\n",
    "    print(year,'is not a Leap Year')"
   ]
  },
  {
   "cell_type": "code",
   "execution_count": 5,
   "id": "649c9bfc-3726-4fb7-8be3-529461c5dfea",
   "metadata": {},
   "outputs": [
    {
     "name": "stdin",
     "output_type": "stream",
     "text": [
      "Enter the value of n 10\n"
     ]
    },
    {
     "name": "stdout",
     "output_type": "stream",
     "text": [
      "-5,10,-15,20,-25,30,-35,40,-45,50,"
     ]
    }
   ],
   "source": [
    "#5)Write a Python Program to generate a sequence -5,10,-15,20,-25.....n\n",
    "n=int(input(\"Enter the value of n\"))\n",
    "for i in range(1,n+1):\n",
    "    if(i%2==0):\n",
    "        print(i*5,end=',')\n",
    "    else:\n",
    "        print(i*-5,end=',')"
   ]
  },
  {
   "cell_type": "code",
   "execution_count": 6,
   "id": "eac44658-a959-425f-8c27-11b080612928",
   "metadata": {},
   "outputs": [
    {
     "name": "stdout",
     "output_type": "stream",
     "text": [
      "Prime numbers between 1 and 50 are:\n",
      "2,3,5,7,11,13,17,19,23,29,31,37,41,43,47,"
     ]
    }
   ],
   "source": [
    "#6)Write a Python Program to print Prime Numbers between 2 and 50\n",
    "print(\"Prime numbers between 1 and 50 are:\")\n",
    "for num in range(1,51):\n",
    "   if num > 1:\n",
    "       for i in range(2, num):\n",
    "           if (num % i) == 0:\n",
    "               break\n",
    "       else:\n",
    "           print(num,end=',')"
   ]
  },
  {
   "cell_type": "code",
   "execution_count": 7,
   "id": "4ad3fdc3-45b9-40bf-a8b4-bc629e24fa7c",
   "metadata": {},
   "outputs": [
    {
     "name": "stdin",
     "output_type": "stream",
     "text": [
      "Enter the Whole Number 42\n"
     ]
    },
    {
     "name": "stdout",
     "output_type": "stream",
     "text": [
      "1,2,3,6,7,14,21,42, are the factors of 42\n"
     ]
    }
   ],
   "source": [
    "#7)Write a Python Program to print the factos of a whole number using while loop\n",
    "number=int(input(\"Enter the Whole Number\"))\n",
    "i=1\n",
    "while(i<=number):\n",
    "    if(number%i==0):\n",
    "        print(i,end=',')\n",
    "    i+=1\n",
    "else:\n",
    "    print(\" are the factors of\",number)"
   ]
  },
  {
   "cell_type": "code",
   "execution_count": 11,
   "id": "b1acda07-5fad-44b0-beba-4334b4e42f0d",
   "metadata": {},
   "outputs": [
    {
     "name": "stdin",
     "output_type": "stream",
     "text": [
      "Enter the nth term of the fibonacci sequence 10\n"
     ]
    },
    {
     "name": "stdout",
     "output_type": "stream",
     "text": [
      "Fibonacci Sequence upto 10 terms are:\n",
      "0 1 1 2 3 5 8 13 21 34 "
     ]
    }
   ],
   "source": [
    "#write the code for fibonacci sequence using recursive functions\n",
    "def fibonacci(n):\n",
    "   if n <= 1:\n",
    "       return n\n",
    "   else:\n",
    "       return fibonacci(n-1) + fibonacci(n-2)\n",
    "n=int(input(\"Enter the nth term of the fibonacci sequence\"))\n",
    "if(n<=1):\n",
    "    print(\"Enter a Positive Number\")\n",
    "else:\n",
    "    print(\"Fibonacci Sequence upto %d terms are:\"% n)\n",
    "    for i in range(n):\n",
    "       print(fibonacci(i),end=' ')"
   ]
  },
  {
   "cell_type": "code",
   "execution_count": 10,
   "id": "b6b39600-bb22-4fb7-a059-fd5b0191ed1f",
   "metadata": {},
   "outputs": [
    {
     "name": "stdin",
     "output_type": "stream",
     "text": [
      "Enter No. of Positive Integers: 10\n"
     ]
    },
    {
     "name": "stdout",
     "output_type": "stream",
     "text": [
      "Sum of 10 positive integers = 55\n"
     ]
    }
   ],
   "source": [
    "#write the user defined function to find the sum of n positive integers,n is argument\n",
    "def sum(n):\n",
    "    sum=0\n",
    "    for i in range(1,n+1):\n",
    "        sum+=i\n",
    "    return sum\n",
    "n=int(input(\"Enter No. of Positive Integers:\"))\n",
    "print(\"Sum of %d positive integers =\"%n,sum(n))"
   ]
  },
  {
   "cell_type": "code",
   "execution_count": 9,
   "id": "b3e623af-550d-45e9-bccd-3790f46cd019",
   "metadata": {},
   "outputs": [
    {
     "name": "stdout",
     "output_type": "stream",
     "text": [
      "Entered list is: [1.0, 6, 2.0, 7, 3.0, 8, 4.0, 9, 5.0]\n",
      "floating point no's in the list are:\n",
      "[1.0, 2.0, 3.0, 4.0, 5.0]\n",
      "Mean of the Floating point no.s in the list is: 3.0\n"
     ]
    }
   ],
   "source": [
    "#Write a User defined function to find the mean of floating no's in lists\n",
    "def mean(list):\n",
    "    sum,count=0,0\n",
    "    print(\"floating point no's in the list are:\")\n",
    "    floating=[]\n",
    "    for i in list:\n",
    "        if(type(i)==float):\n",
    "            floating.append(i)\n",
    "            count+=1\n",
    "            sum+=i\n",
    "    print(floating)\n",
    "    if count==0:\n",
    "        print(\"There are no floating point no's in the List\")\n",
    "    else:\n",
    "        print(\"Mean of the Floating point no.s in the list is:\",sum/count)\n",
    "list=[1.0,6,2.0,7,3.0,8,4.0,9,5.0]\n",
    "print(\"Entered list is:\",list)\n",
    "mean(list)"
   ]
  },
  {
   "cell_type": "code",
   "execution_count": 8,
   "id": "b24fd40d-f588-4a5d-b1f1-d10199f1525e",
   "metadata": {},
   "outputs": [
    {
     "name": "stdin",
     "output_type": "stream",
     "text": [
      "Enter Base Value: 3\n",
      "Enter Exponent Value: 4\n"
     ]
    },
    {
     "name": "stdout",
     "output_type": "stream",
     "text": [
      "3 ^ 4 = 81\n"
     ]
    }
   ],
   "source": [
    "#Write a Python Program that accepts base and exponent as argument and return the result\n",
    "#base and exponents are integers\n",
    "def power(base,exponent):\n",
    "    return base**exponent\n",
    "base=int(input(\"Enter Base Value:\"))\n",
    "exponent=int(input(\"Enter Exponent Value:\"))\n",
    "print(base,'^',exponent,'=',power(base,exponent))"
   ]
  },
  {
   "cell_type": "code",
   "execution_count": 12,
   "id": "d3e277fb-ee75-4375-aec2-593f03cac3b7",
   "metadata": {},
   "outputs": [
    {
     "name": "stdin",
     "output_type": "stream",
     "text": [
      "Enter Student 1 id: R200260\n",
      "Enter Student 1 Name: Pavan\n",
      "Enter Branch CSE\n"
     ]
    },
    {
     "name": "stdout",
     "output_type": "stream",
     "text": [
      "Percentage = 80.0\n",
      "Grade = A\n"
     ]
    },
    {
     "name": "stdin",
     "output_type": "stream",
     "text": [
      "Enter Student 2 id: 80.0\n",
      "Enter Student 2 Name: Ramesh\n",
      "Enter Branch CSE\n"
     ]
    },
    {
     "name": "stdout",
     "output_type": "stream",
     "text": [
      "Percentage = 85.0\n",
      "Grade = A\n"
     ]
    }
   ],
   "source": [
    "#create a class called student with attributes id,name,branch and methods=percentage,grade.\n",
    "#Display the above Details for atleast 2 students.\n",
    "class Student:\n",
    "    def __init__(self):\n",
    "        self.id=''\n",
    "        self.name=''\n",
    "        self.branch=''\n",
    "        self.marks=[]\n",
    "    def percentage(self):\n",
    "        sum=0\n",
    "        for i in self.marks:\n",
    "            sum+=i\n",
    "        self.percent=(sum/len(self.marks))\n",
    "        print('Percentage =',self.percent)\n",
    "    def grade(self):\n",
    "        if(self.percent>=90.0):\n",
    "            print(\"Grade = Ex\")\n",
    "        elif(self.percent>=80.0):\n",
    "            print(\"Grade = A\")\n",
    "        elif(self.percent>=70.0):\n",
    "            print(\"Grade = B\")\n",
    "        elif(self.percent>=60.0):\n",
    "            print(\"Grade = C\")\n",
    "        elif(self.percent>=50.0):\n",
    "            print(\"Grade = D\")\n",
    "        elif(self.percent>=40.0):\n",
    "            print('Grade = E')\n",
    "        else:\n",
    "            print(\"Remedial\")\n",
    "S1=Student()\n",
    "S1.id=input(\"Enter Student 1 id:\")\n",
    "S1.name=input(\"Enter Student 1 Name:\")\n",
    "S1.branch=input(\"Enter Branch\")\n",
    "S1.marks=[70,80,90,60,100]\n",
    "S1.percentage()\n",
    "S1.grade()\n",
    "S2=Student()\n",
    "S2.id=input(\"Enter Student 2 id:\")\n",
    "S2.name=input(\"Enter Student 2 Name:\")\n",
    "S2.branch=input(\"Enter Branch\")\n",
    "S2.marks=[90,95,85,75,80]\n",
    "S2.percentage()\n",
    "S2.grade()"
   ]
  },
  {
   "cell_type": "code",
   "execution_count": 13,
   "id": "9ac00581-f90f-452a-8a72-380a18bc23c1",
   "metadata": {},
   "outputs": [
    {
     "name": "stdout",
     "output_type": "stream",
     "text": [
      "RKV Location is  Idupulapaya\n",
      "RKV Strength is  6000\n",
      "Courses available in RKV is  ['Cse', 'ECE', 'EEE', 'Mech', 'Mme', 'Civil', 'Chem']\n",
      "Courses in Order is  ['Chem', 'Civil', 'Cse', 'ECE', 'EEE', 'Mech', 'Mme']\n",
      "Ongole Location is  Ongole\n",
      "Ongole Strength is  6000\n",
      "Courses available in Ongole is  ['Cse', 'ECE', 'EEE', 'Mech', 'Civil']\n",
      "Courses in Order is  ['Civil', 'Cse', 'ECE', 'EEE', 'Mech']\n"
     ]
    }
   ],
   "source": [
    "#Create a Class Called RGUKT with attributes location,strength,courses and with one method.Create 2 instances\n",
    "#for the class RGUKT i.e,RKV,ONG.Display the details for each instances\n",
    "class RGUKT:\n",
    "    def __init__(self):\n",
    "        self.location=''\n",
    "        self.strength=6000\n",
    "        self.courses=['Cse','ECE','EEE','Mech','Mme','Civil','Chem']\n",
    "    def sorted_courses(self):\n",
    "        return sorted(self.courses)\n",
    "RKV=RGUKT()\n",
    "ONG=RGUKT()\n",
    "ONG.courses.remove('Mme')\n",
    "ONG.courses.remove('Chem')\n",
    "RKV.location='Idupulapaya'\n",
    "ONG.location='Ongole'\n",
    "print('RKV Location is ',RKV.location)\n",
    "print('RKV Strength is ',RKV.strength)\n",
    "print('Courses available in RKV is ',RKV.courses)\n",
    "print('Courses in Order is ',RKV.sorted_courses())\n",
    "print('Ongole Location is ',ONG.location)\n",
    "print('Ongole Strength is ',ONG.strength)\n",
    "print('Courses available in Ongole is ',ONG.courses)\n",
    "print('Courses in Order is ',ONG.sorted_courses())\n"
   ]
  },
  {
   "cell_type": "code",
   "execution_count": null,
   "id": "68373d05-f4a9-422e-b412-c84c4cb94f5d",
   "metadata": {},
   "outputs": [],
   "source": []
  }
 ],
 "metadata": {
  "kernelspec": {
   "display_name": "Python 3 (ipykernel)",
   "language": "python",
   "name": "python3"
  },
  "language_info": {
   "codemirror_mode": {
    "name": "ipython",
    "version": 3
   },
   "file_extension": ".py",
   "mimetype": "text/x-python",
   "name": "python",
   "nbconvert_exporter": "python",
   "pygments_lexer": "ipython3",
   "version": "3.11.5"
  }
 },
 "nbformat": 4,
 "nbformat_minor": 5
}
