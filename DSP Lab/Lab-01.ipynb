{
 "cells": [
  {
   "cell_type": "code",
   "execution_count": 7,
   "id": "849031e5-88da-4ce9-89f9-dd83843e0075",
   "metadata": {},
   "outputs": [
    {
     "name": "stdin",
     "output_type": "stream",
     "text": [
      "Enter the Traffic Signal Color GREEn\n"
     ]
    },
    {
     "name": "stdout",
     "output_type": "stream",
     "text": [
      "You can go Ahead\n"
     ]
    }
   ],
   "source": [
    "#1)Write a Program to display the appropriate message as per the color of the signal at the road crossing\n",
    "color=input(\"Enter the Traffic Signal Color\").lower()\n",
    "if(color=='red'):\n",
    "    print(\"Stop There!\")\n",
    "elif(color=='green'):\n",
    "    print(\"You can go Ahead\")\n",
    "elif(color=='yellow'):\n",
    "    print(\"Be ready to go\")\n",
    "else:\n",
    "    print(\"Enter the Proper Color\")"
   ]
  },
  {
   "cell_type": "code",
   "execution_count": 15,
   "id": "1761ffd2-82eb-4d4f-b337-6b7aa9f6e2b1",
   "metadata": {},
   "outputs": [
    {
     "name": "stdin",
     "output_type": "stream",
     "text": [
      "Enter the Number 1 4\n",
      "Enter the Number 2 5\n",
      "Enter the operation (+,-,*,/) +\n"
     ]
    },
    {
     "name": "stdout",
     "output_type": "stream",
     "text": [
      "4 + 5 = 9\n"
     ]
    }
   ],
   "source": [
    "#2)Write a Program to create a Simple Calculator performing only four basic operations '+','-','/','*'\n",
    "num1=int(input(\"Enter the Number 1\"))\n",
    "num2=int(input(\"Enter the Number 2\"))\n",
    "operand=input(\"Enter the operation (+,-,*,/)\")\n",
    "if(operand=='+'):\n",
    "    print(num1,operand,num2,'=',num1+num2)\n",
    "elif(operand=='-'):\n",
    "    print(num1,operand,num2,'=',num1-num2)\n",
    "elif(operand=='*'):\n",
    "    print(num1,operand,num2,'=',num1*num2)\n",
    "elif(operand=='/'):\n",
    "    print(num1,operand,num2,'=',num1/num2)\n",
    "else:\n",
    "    print(\"Enter the Proper Operation\")"
   ]
  },
  {
   "cell_type": "code",
   "execution_count": 19,
   "id": "f6f5c3b3-d212-4762-9c13-3b7fbc4d0de9",
   "metadata": {},
   "outputs": [
    {
     "name": "stdin",
     "output_type": "stream",
     "text": [
      "Enter your Name: Pavan\n",
      "Enter your age 19\n"
     ]
    },
    {
     "name": "stdout",
     "output_type": "stream",
     "text": [
      "You are Eligible for applying Driving Licence, Pavan\n"
     ]
    }
   ],
   "source": [
    "#3)Write a Python Program that takes the name and age of the user as input and display a message whether the user is eligible\n",
    "#for applying Driving Licence or not(Eligible age is 18 years)\n",
    "name=input(\"Enter your Name:\")\n",
    "age=int(input(\"Enter your age\"))\n",
    "if(age>=18):\n",
    "    print('You are Eligible for applying Driving Licence,',name)\n",
    "else:\n",
    "    print('You are not Eligible for applying Driving License,', name)"
   ]
  },
  {
   "cell_type": "code",
   "execution_count": 30,
   "id": "b3c77be9-6cfb-4d17-ace1-4dd75150a996",
   "metadata": {},
   "outputs": [
    {
     "name": "stdout",
     "output_type": "stream",
     "text": [
      "Enter 5 Numbers\n"
     ]
    },
    {
     "name": "stdin",
     "output_type": "stream",
     "text": [
      "Enter Number 1\n",
      "Enter Number 4\n",
      "Enter Number 3\n",
      "Enter Number 5\n",
      "Enter Number 2\n"
     ]
    },
    {
     "name": "stdout",
     "output_type": "stream",
     "text": [
      "1 is the Minimum Number\n",
      "5 is tne Maximun Number\n"
     ]
    }
   ],
   "source": [
    "#4)Write a Program that prints min and max of 5 numbers entered by the user without using lists\n",
    "print(\"Enter 5 Numbers\")\n",
    "list=[]\n",
    "i=1\n",
    "while(i<6):\n",
    "    list.append(int(input(\"Enter Number\")))\n",
    "    i=i+1\n",
    "print(min(list),\"is the Minimum Number\")\n",
    "print(max(list),\"is tne Maximun Number\")"
   ]
  },
  {
   "cell_type": "code",
   "execution_count": 39,
   "id": "09d0ba2b-c2a8-4873-841d-8e9928eb8f91",
   "metadata": {},
   "outputs": [
    {
     "name": "stdin",
     "output_type": "stream",
     "text": [
      "Enter the Year 2024\n"
     ]
    },
    {
     "name": "stdout",
     "output_type": "stream",
     "text": [
      "2024 is a Leap Year\n"
     ]
    }
   ],
   "source": [
    "#5)Write a Python Program to check whether the entered year is Leap Year or not\n",
    "year=int(input(\"Enter the Year\"))\n",
    "if((year%4==0 and year%100!=0) or year%400==0):\n",
    "    print(year,'is a Leap Year')\n",
    "else:\n",
    "    print(year,'is not a Leap Year')"
   ]
  },
  {
   "cell_type": "code",
   "execution_count": 42,
   "id": "475473d0-9ac1-4bf5-b6fc-2c3dfaface6b",
   "metadata": {},
   "outputs": [
    {
     "name": "stdin",
     "output_type": "stream",
     "text": [
      "Enter the value of n 10\n"
     ]
    },
    {
     "name": "stdout",
     "output_type": "stream",
     "text": [
      "-5,10,-15,20,-25,30,-35,40,-45,50,"
     ]
    }
   ],
   "source": [
    "#6)Write a Python Program to generate a sequence -5,10,-15,20,-25.....n\n",
    "n=int(input(\"Enter the value of n\"))\n",
    "for i in range(1,n+1):\n",
    "    if(i%2==0):\n",
    "        print(i*5,end=',')\n",
    "    else:\n",
    "        print(i*-5,end=',')"
   ]
  },
  {
   "cell_type": "code",
   "execution_count": 21,
   "id": "7212bb9c-e3bc-476d-8138-d77e33489e7d",
   "metadata": {},
   "outputs": [
    {
     "name": "stdout",
     "output_type": "stream",
     "text": [
      "Enter a Negative Number to stop\n"
     ]
    },
    {
     "name": "stdin",
     "output_type": "stream",
     "text": [
      "Enter Number 1 10\n",
      "Enter Number 2 20\n",
      "Enter Number 3 30\n",
      "Enter Number 4 40\n",
      "Enter Number 5 50\n",
      "Enter Number 6 -1\n"
     ]
    },
    {
     "name": "stdout",
     "output_type": "stream",
     "text": [
      "Entered Numbers are\n",
      "10 20 30 40 50 \n",
      "Sum of the Entered Numbers are 150\n"
     ]
    }
   ],
   "source": [
    "'''7)Find the Sum of all positive integers entered by the user as soon as the user enters a negative number stop taking the \n",
    "further input from the user and display the sum'''\n",
    "integers=[]\n",
    "print(\"Enter a Negative Number to stop\")\n",
    "sum,i=0,0\n",
    "while(True):\n",
    "    i+=1\n",
    "    num=int(input(\"Enter Number %d\" % i))\n",
    "    if(num<0):\n",
    "        break\n",
    "    integers.append(num)\n",
    "print(\"Entered Numbers are\")\n",
    "for i in integers:\n",
    "    sum+=i\n",
    "    print(i,end=' ')\n",
    "print(\"\\nSum of the Entered Numbers are\",sum)"
   ]
  },
  {
   "cell_type": "code",
   "execution_count": 9,
   "id": "6d504984-59c7-4ce9-a2b3-8c51a4bcb2d7",
   "metadata": {},
   "outputs": [
    {
     "name": "stdout",
     "output_type": "stream",
     "text": [
      "Prime numbers between 1 and 50 are:\n",
      "2,3,5,7,11,13,17,19,23,29,31,37,41,43,47,"
     ]
    }
   ],
   "source": [
    "#8)Write a Python Program to print Prime Numbers between 2 and 50\n",
    "print(\"Prime numbers between 1 and 50 are:\")\n",
    "for num in range(1,51):\n",
    "   if num > 1:\n",
    "       for i in range(2, num):\n",
    "           if (num % i) == 0:\n",
    "               break\n",
    "       else:\n",
    "           print(num,end=',')"
   ]
  },
  {
   "cell_type": "code",
   "execution_count": 18,
   "id": "721a877e-4750-4f2d-a94d-404cf8516695",
   "metadata": {},
   "outputs": [
    {
     "name": "stdin",
     "output_type": "stream",
     "text": [
      "Enter the Whole Number 42\n"
     ]
    },
    {
     "name": "stdout",
     "output_type": "stream",
     "text": [
      "1,2,3,6,7,14,21,42, are the factors of 42\n"
     ]
    }
   ],
   "source": [
    "#9)Write a Python Program to print the factos of a whole number using while loop\n",
    "number=int(input(\"Enter the Whole Number\"))\n",
    "i=1\n",
    "while(i<=number):\n",
    "    if(number%i==0):\n",
    "        print(i,end=',')\n",
    "    i+=1\n",
    "else:\n",
    "    print(\" are the factors of\",number)"
   ]
  },
  {
   "cell_type": "code",
   "execution_count": 3,
   "id": "0c2da034-cce7-47de-8ce7-e29aeb79680d",
   "metadata": {},
   "outputs": [
    {
     "name": "stdout",
     "output_type": "stream",
     "text": [
      "Value of a= 10 , Value of b= 20\n",
      "Value of a= 20 , Value of b= 10\n"
     ]
    }
   ],
   "source": [
    "#10)Swap 2 Numbers without using 3rd variable\n",
    "a=10\n",
    "b=20\n",
    "print('Value of a=',a,', Value of b=',b)\n",
    "a,b=b,a\n",
    "print('Value of a=',a,', Value of b=',b)"
   ]
  },
  {
   "cell_type": "code",
   "execution_count": 6,
   "id": "e572f16e-70c3-4a71-938f-6fb8d98b4295",
   "metadata": {},
   "outputs": [
    {
     "name": "stdin",
     "output_type": "stream",
     "text": [
      "Enter Your Name: Pavan\n",
      "Enter Your Age 20\n"
     ]
    },
    {
     "name": "stdout",
     "output_type": "stream",
     "text": [
      "Pavan ,You will turn 100 years at the year 2104\n"
     ]
    }
   ],
   "source": [
    "'''11)Write a Python Program that asks the user to enter the name and age.\n",
    "    Print a message address to the user that tells the user the year in which they will turn 100 years old'''\n",
    "name1=input(\"Enter Your Name:\")\n",
    "age1=int(input(\"Enter Your Age\"))\n",
    "currentYear=2024\n",
    "print(name1,\",You will turn 100 years at the year\",currentYear-age1+100)"
   ]
  },
  {
   "cell_type": "code",
   "execution_count": 4,
   "id": "9e68a2b9-6893-4559-96bb-3d3f10c3a8f5",
   "metadata": {},
   "outputs": [
    {
     "name": "stdout",
     "output_type": "stream",
     "text": [
      "i) 9\n",
      "ii) 1024\n",
      "iii) 1024\n",
      "iv) 55\n",
      "v) True\n",
      "vi) True\n"
     ]
    }
   ],
   "source": [
    "'''12)Give the Output of the following when num1=4,num2=3,num3=2\n",
    "      i)num1+=num2+num3\n",
    "      ii)num1=num1**(num2+num3)\n",
    "      iii)num1**=num2+num3\n",
    "      iv)num1='5'+'5'\n",
    "      v)print(10+6*2**2!=9//4-3 and 29>=29/9)\n",
    "      vi)print(5%10+10<50 and 29<=29'''\n",
    "num1=4\n",
    "num2=3\n",
    "num3=2\n",
    "num1+=num2+num3\n",
    "print('i)',num1)\n",
    "num1=4\n",
    "num1=num1**(num2+num3)\n",
    "print('ii)',num1)\n",
    "num1=4\n",
    "num1**=num2+num3\n",
    "print('iii)',num1)\n",
    "num1='5'+'5'\n",
    "print('iv)',num1)\n",
    "print('v)',10+6*2**2!=9//4-3 and 29>=29/9)\n",
    "print('vi)',5%10+10<50 and 29<=29)"
   ]
  },
  {
   "cell_type": "markdown",
   "id": "f27c44d3-14af-4350-8751-0df9a0fe52cc",
   "metadata": {},
   "source": []
  }
 ],
 "metadata": {
  "kernelspec": {
   "display_name": "Python 3 (ipykernel)",
   "language": "python",
   "name": "python3"
  },
  "language_info": {
   "codemirror_mode": {
    "name": "ipython",
    "version": 3
   },
   "file_extension": ".py",
   "mimetype": "text/x-python",
   "name": "python",
   "nbconvert_exporter": "python",
   "pygments_lexer": "ipython3",
   "version": "3.11.5"
  }
 },
 "nbformat": 4,
 "nbformat_minor": 5
}
