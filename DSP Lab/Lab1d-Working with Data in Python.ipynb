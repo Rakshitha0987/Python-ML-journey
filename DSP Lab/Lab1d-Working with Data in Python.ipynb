{
 "cells": [
  {
   "cell_type": "code",
   "execution_count": 1,
   "id": "7b22a174-a365-42f0-bd4f-39cddacc149c",
   "metadata": {},
   "outputs": [
    {
     "name": "stdout",
     "output_type": "stream",
     "text": [
      "Enter 5 lines of code\n"
     ]
    },
    {
     "name": "stdin",
     "output_type": "stream",
     "text": [
      " This is 1st line\n",
      " This is 2nd line\n",
      " This is 3rd line\n",
      " This is 4th line\n",
      " This is 5th line\n"
     ]
    },
    {
     "name": "stdout",
     "output_type": "stream",
     "text": [
      "The Data you have entered into the file is:\n",
      "This is 1st line\n",
      "This is 2nd line\n",
      "This is 3rd line\n",
      "This is 4th line\n",
      "This is 5th line\n",
      "\n"
     ]
    }
   ],
   "source": [
    "#Write a Python Program to create a file and write data into it.\n",
    "f=open(\"new_file.txt\",\"w+\")\n",
    "i=0\n",
    "print(\"Enter 5 lines of code\")\n",
    "while i<5:\n",
    "    data=input()\n",
    "    f.write(data+'\\n')\n",
    "    i+=1\n",
    "print(\"The Data you have entered into the file is:\")\n",
    "f.seek(0,0)\n",
    "print(f.read())\n",
    "f.close()"
   ]
  },
  {
   "cell_type": "code",
   "execution_count": 2,
   "id": "04795902-116a-4d78-8413-c305332503a6",
   "metadata": {},
   "outputs": [
    {
     "name": "stdout",
     "output_type": "stream",
     "text": [
      "This is 1st line\n",
      "\n",
      "This is 2nd line\n",
      "\n",
      "This is 3rd line\n",
      "\n",
      "This is 4th line\n",
      "\n",
      "This is 5th line\n",
      "\n"
     ]
    }
   ],
   "source": [
    "#traversing a file & display the data\n",
    "f=open(\"new_file.txt\",'r')\n",
    "for i in f:\n",
    "    print(i)\n",
    "f.close()"
   ]
  },
  {
   "cell_type": "code",
   "execution_count": 3,
   "id": "1cde283e-d4ee-4186-ac61-6eac341d6560",
   "metadata": {},
   "outputs": [
    {
     "name": "stdout",
     "output_type": "stream",
     "text": [
      "ID=R200260\n",
      "Name= Bhuma Naga Pavan\n",
      "Roll No.=45\n",
      "Branch=CSE\n",
      "Year=2nd\n",
      "CGPA=8.8\n",
      "Address=Proddatur\n",
      "\n"
     ]
    }
   ],
   "source": [
    "#Write a Python Program to create a student file that contains the information like id,name,roll no.,branch,year,cgpa,address\n",
    "#and read the data from the file.\n",
    "f1=open(\"Student.txt\",'w+')\n",
    "f1.write(\"ID=R200260\\n\")\n",
    "f1.write(\"Name= Bhuma Naga Pavan\\n\")\n",
    "f1.write(\"Roll No.=45\\n\")\n",
    "f1.write(\"Branch=CSE\\n\")\n",
    "f1.write(\"Year=2nd\\n\")\n",
    "f1.write(\"CGPA=8.8\\n\")\n",
    "f1.write(\"Address=Proddatur\\n\")\n",
    "f1.seek(0,0)\n",
    "print(f1.read())"
   ]
  },
  {
   "cell_type": "code",
   "execution_count": 7,
   "id": "33fcc17d-8682-4c68-a51f-2ca80652c2f1",
   "metadata": {},
   "outputs": [
    {
     "name": "stdin",
     "output_type": "stream",
     "text": [
      "ID= R200260\n",
      "Name=  Bhuma Naga Pavan\n",
      "Year=  2nd\n",
      "Branch=  CSE\n"
     ]
    }
   ],
   "source": [
    "#Write a python program to enter the following records into a file:\n",
    "#Student Id,Name,Year,Branch\n",
    "import pickle\n",
    "f2=open(\"Student2.txt\",'wb+')\n",
    "id=input(\"ID=\")\n",
    "name=input(\"Name= \")\n",
    "year=(input(\"Year= \"))\n",
    "branch=input(\"Branch= \")\n",
    "l=[id,name,year,branch]\n",
    "pickle.dump(l,f2)\n",
    "f2.close()\n"
   ]
  },
  {
   "cell_type": "code",
   "execution_count": 8,
   "id": "16b76060-55f9-40c5-b2c2-a5fd1d1a7a75",
   "metadata": {},
   "outputs": [
    {
     "data": {
      "text/plain": [
       "['R200260', 'Bhuma Naga Pavan', '2nd', 'CSE']"
      ]
     },
     "execution_count": 8,
     "metadata": {},
     "output_type": "execute_result"
    }
   ],
   "source": [
    "f2=open(\"Student2.txt\",'rb')\n",
    "pickle.load(f2)"
   ]
  },
  {
   "cell_type": "code",
   "execution_count": 2,
   "id": "61400dc6-f34d-46b6-a1c7-c6bfd8f79b1e",
   "metadata": {},
   "outputs": [
    {
     "data": {
      "text/plain": [
       "0     a\n",
       "1     b\n",
       "2     c\n",
       "3     d\n",
       "4     e\n",
       "5     f\n",
       "6     g\n",
       "7     h\n",
       "8     i\n",
       "9     j\n",
       "10    k\n",
       "11    l\n",
       "12    m\n",
       "13    n\n",
       "14    o\n",
       "15    p\n",
       "16    q\n",
       "17    r\n",
       "18    s\n",
       "19    t\n",
       "20    u\n",
       "21    v\n",
       "22    w\n",
       "23    x\n",
       "24    y\n",
       "25    z\n",
       "dtype: object"
      ]
     },
     "execution_count": 2,
     "metadata": {},
     "output_type": "execute_result"
    }
   ],
   "source": [
    "import pandas as pd\n",
    "EngAlph=pd.Series(['a','b','c','d','e','f','g','h','i','j','k','l','m','n','o','p','q','r','s','t','u','v','w','x','y','z'])\n",
    "EngAlph"
   ]
  },
  {
   "cell_type": "code",
   "execution_count": 2,
   "id": "fc8f34ce-470f-4e62-9daf-e8f2862c62cb",
   "metadata": {},
   "outputs": [
    {
     "name": "stdout",
     "output_type": "stream",
     "text": [
      "a    0\n",
      "e    0\n",
      "i    0\n",
      "o    0\n",
      "u    0\n",
      "dtype: int64\n"
     ]
    },
    {
     "data": {
      "text/plain": [
       "False"
      ]
     },
     "execution_count": 2,
     "metadata": {},
     "output_type": "execute_result"
    }
   ],
   "source": [
    "Vowels=pd.Series([0,0,0,0,0],['a','e','i','o','u'])\n",
    "print(Vowels)\n",
    "Vowels.empty"
   ]
  },
  {
   "cell_type": "code",
   "execution_count": 3,
   "id": "673e7e88-4e4e-4e65-8b11-68bf1958c1fe",
   "metadata": {},
   "outputs": [
    {
     "name": "stdout",
     "output_type": "stream",
     "text": [
      "Nithin       41\n",
      "Tharun       38\n",
      "Balaji       39\n",
      "Govardhan    55\n",
      "Anirudh      48\n",
      "dtype: int64\n"
     ]
    }
   ],
   "source": [
    "Friends=pd.Series({\"Nithin\":41,\"Tharun\":38,\"Balaji\":39,\"Govardhan\":55,\"Anirudh\":48})\n",
    "print(Friends)"
   ]
  },
  {
   "cell_type": "code",
   "execution_count": 5,
   "id": "263ee061-77df-4886-8b97-541505630e74",
   "metadata": {},
   "outputs": [
    {
     "data": {
      "text/plain": [
       "Series([], dtype: object)"
      ]
     },
     "execution_count": 5,
     "metadata": {},
     "output_type": "execute_result"
    }
   ],
   "source": [
    "MTseries=pd.Series()\n",
    "MTseries"
   ]
  },
  {
   "cell_type": "code",
   "execution_count": 6,
   "id": "d0af95db-d3d2-4c07-a525-8d5e34f44f6b",
   "metadata": {},
   "outputs": [
    {
     "name": "stdout",
     "output_type": "stream",
     "text": [
      "It is Empty\n"
     ]
    }
   ],
   "source": [
    "if MTseries.empty:\n",
    "    print(\"It is Empty\")\n",
    "else:\n",
    "    print(\"It is not Empty\")"
   ]
  },
  {
   "cell_type": "code",
   "execution_count": 7,
   "id": "2d02e99b-9669-4076-a405-e61a29f44d9a",
   "metadata": {},
   "outputs": [],
   "source": [
    "import numpy as nd\n",
    "m1=nd.array([1,31])\n",
    "m2=nd.array([1,28])\n",
    "m3=nd.array([1,31])\n",
    "m4=nd.array([1,30])\n",
    "m5=nd.array([1,31])\n",
    "m6=nd.array([1,30])\n",
    "m7=nd.array([1,31])\n",
    "m8=nd.array([1,31])\n",
    "m9=nd.array([1,30])\n",
    "m10=nd.array([1,31])\n",
    "m11=nd.array([1,30])\n",
    "m12=nd.array([1,31])"
   ]
  },
  {
   "cell_type": "code",
   "execution_count": 8,
   "id": "93889fbe-dea0-4585-a462-7f135f919cb3",
   "metadata": {},
   "outputs": [
    {
     "data": {
      "text/plain": [
       "1     [1, 31]\n",
       "2     [1, 28]\n",
       "3     [1, 31]\n",
       "4     [1, 30]\n",
       "5     [1, 31]\n",
       "6     [1, 30]\n",
       "7     [1, 31]\n",
       "8     [1, 31]\n",
       "9     [1, 30]\n",
       "10    [1, 31]\n",
       "11    [1, 30]\n",
       "12    [1, 31]\n",
       "dtype: object"
      ]
     },
     "execution_count": 8,
     "metadata": {},
     "output_type": "execute_result"
    }
   ],
   "source": [
    "MonthDays=pd.Series([m1,m2,m3,m4,m5,m6,m7,m8,m9,m10,m11,m12],[1,2,3,4,5,6,7,8,9,10,11,12])\n",
    "MonthDays"
   ]
  },
  {
   "cell_type": "code",
   "execution_count": 9,
   "id": "b657884d-3be9-4802-b9e9-5eee80bddf2a",
   "metadata": {},
   "outputs": [
    {
     "data": {
      "text/plain": [
       "a    10\n",
       "e    10\n",
       "i    10\n",
       "o    10\n",
       "u    10\n",
       "dtype: int64"
      ]
     },
     "execution_count": 9,
     "metadata": {},
     "output_type": "execute_result"
    }
   ],
   "source": [
    "Vowels['a':'u']=10\n",
    "Vowels"
   ]
  },
  {
   "cell_type": "code",
   "execution_count": 10,
   "id": "a8e825aa-d93f-4816-800c-aefd0bb5a9a7",
   "metadata": {},
   "outputs": [
    {
     "data": {
      "text/plain": [
       "a    5\n",
       "e    5\n",
       "i    5\n",
       "o    5\n",
       "u    5\n",
       "dtype: int64"
      ]
     },
     "execution_count": 10,
     "metadata": {},
     "output_type": "execute_result"
    }
   ],
   "source": [
    "Vowels['a':'u']/=2\n",
    "Vowels"
   ]
  },
  {
   "cell_type": "code",
   "execution_count": 11,
   "id": "ec24e1b5-ff49-48bc-b1d0-250f8eeee925",
   "metadata": {},
   "outputs": [
    {
     "data": {
      "text/plain": [
       "a    2\n",
       "e    5\n",
       "i    6\n",
       "o    3\n",
       "u    8\n",
       "dtype: int64"
      ]
     },
     "execution_count": 11,
     "metadata": {},
     "output_type": "execute_result"
    }
   ],
   "source": [
    "Vowels1=pd.Series([2,5,6,3,8],['a','e','i','o','u'])\n",
    "Vowels1"
   ]
  },
  {
   "cell_type": "code",
   "execution_count": 12,
   "id": "ac7bda4a-cbf2-4a49-ad1a-8bf4deee6d4e",
   "metadata": {},
   "outputs": [
    {
     "data": {
      "text/plain": [
       "a     7\n",
       "e    10\n",
       "i    11\n",
       "o     8\n",
       "u    13\n",
       "dtype: int64"
      ]
     },
     "execution_count": 12,
     "metadata": {},
     "output_type": "execute_result"
    }
   ],
   "source": [
    "Vowels3=Vowels1+Vowels\n",
    "Vowels3"
   ]
  },
  {
   "cell_type": "code",
   "execution_count": 13,
   "id": "78334071-55d8-44df-824f-6a6ebfc6e562",
   "metadata": {},
   "outputs": [
    {
     "data": {
      "text/plain": [
       "a    3\n",
       "e    0\n",
       "i   -1\n",
       "o    2\n",
       "u   -3\n",
       "dtype: int64"
      ]
     },
     "execution_count": 13,
     "metadata": {},
     "output_type": "execute_result"
    }
   ],
   "source": [
    "Vowels-Vowels1"
   ]
  },
  {
   "cell_type": "code",
   "execution_count": 14,
   "id": "9fc38e46-9d87-454e-8d13-f24779bcc1aa",
   "metadata": {},
   "outputs": [
    {
     "data": {
      "text/plain": [
       "a    10\n",
       "e    25\n",
       "i    30\n",
       "o    15\n",
       "u    40\n",
       "dtype: int64"
      ]
     },
     "execution_count": 14,
     "metadata": {},
     "output_type": "execute_result"
    }
   ],
   "source": [
    "Vowels*Vowels1"
   ]
  },
  {
   "cell_type": "code",
   "execution_count": 15,
   "id": "3e9ea72a-576b-4ab9-9698-000746c06974",
   "metadata": {},
   "outputs": [
    {
     "data": {
      "text/plain": [
       "a    2.500000\n",
       "e    1.000000\n",
       "i    0.833333\n",
       "o    1.666667\n",
       "u    0.625000\n",
       "dtype: float64"
      ]
     },
     "execution_count": 15,
     "metadata": {},
     "output_type": "execute_result"
    }
   ],
   "source": [
    "Vowels/Vowels1"
   ]
  },
  {
   "cell_type": "code",
   "execution_count": 16,
   "id": "df30616c-189e-4532-9bf2-51c407c7920e",
   "metadata": {},
   "outputs": [
    {
     "data": {
      "text/plain": [
       "A    2\n",
       "E    5\n",
       "I    6\n",
       "O    3\n",
       "U    8\n",
       "dtype: int64"
      ]
     },
     "execution_count": 16,
     "metadata": {},
     "output_type": "execute_result"
    }
   ],
   "source": [
    "index=['A','E','I','O','U']\n",
    "Vowels1=pd.Series([2,5,6,3,8],index)\n",
    "Vowels1"
   ]
  },
  {
   "cell_type": "code",
   "execution_count": 17,
   "id": "65aba99f-1ead-4283-b579-0a4ece8167dc",
   "metadata": {},
   "outputs": [
    {
     "data": {
      "text/plain": [
       "26"
      ]
     },
     "execution_count": 17,
     "metadata": {},
     "output_type": "execute_result"
    }
   ],
   "source": [
    "EngAlph.size"
   ]
  },
  {
   "cell_type": "code",
   "execution_count": 18,
   "id": "8e518570-bff0-40c0-be51-20fe232e5036",
   "metadata": {},
   "outputs": [
    {
     "data": {
      "text/plain": [
       "1"
      ]
     },
     "execution_count": 18,
     "metadata": {},
     "output_type": "execute_result"
    }
   ],
   "source": [
    "EngAlph.ndim"
   ]
  },
  {
   "cell_type": "code",
   "execution_count": 19,
   "id": "46e495f0-0011-4f21-b200-66b8fba1120c",
   "metadata": {},
   "outputs": [
    {
     "data": {
      "text/plain": [
       "array(['a', 'b', 'c', 'd', 'e', 'f', 'g', 'h', 'i', 'j', 'k', 'l', 'm',\n",
       "       'n', 'o', 'p', 'q', 'r', 's', 't', 'u', 'v', 'w', 'x', 'y', 'z'],\n",
       "      dtype=object)"
      ]
     },
     "execution_count": 19,
     "metadata": {},
     "output_type": "execute_result"
    }
   ],
   "source": [
    "EngAlph.values"
   ]
  },
  {
   "cell_type": "code",
   "execution_count": 20,
   "id": "2e3f949c-3bea-4267-82b9-ddffa9d06aa2",
   "metadata": {},
   "outputs": [
    {
     "name": "stdout",
     "output_type": "stream",
     "text": [
      "1\n",
      "5\n",
      "[5 5 5 5 5]\n"
     ]
    }
   ],
   "source": [
    "print(Vowels.ndim)\n",
    "print(Vowels.size)\n",
    "print(Vowels.values)"
   ]
  },
  {
   "cell_type": "code",
   "execution_count": 21,
   "id": "e2e0714f-c124-4719-ac18-c3d83fe1d44a",
   "metadata": {},
   "outputs": [
    {
     "name": "stdout",
     "output_type": "stream",
     "text": [
      "1\n",
      "5\n",
      "[41 38 39 55 48]\n"
     ]
    }
   ],
   "source": [
    "print(Friends.ndim)\n",
    "print(Friends.size)\n",
    "print(Friends.values)"
   ]
  },
  {
   "cell_type": "code",
   "execution_count": 22,
   "id": "b8b9f419-a8d4-4ace-a2e7-cdaa0d9f4684",
   "metadata": {},
   "outputs": [
    {
     "name": "stdout",
     "output_type": "stream",
     "text": [
      "1\n",
      "0\n",
      "[]\n"
     ]
    }
   ],
   "source": [
    "print(MTseries.ndim)\n",
    "print(MTseries.size)\n",
    "print(MTseries.values)"
   ]
  },
  {
   "cell_type": "code",
   "execution_count": 23,
   "id": "5f63e536-1b7d-453c-b48a-65da464f5add",
   "metadata": {},
   "outputs": [
    {
     "name": "stdout",
     "output_type": "stream",
     "text": [
      "1\n",
      "12\n",
      "[array([ 1, 31]) array([ 1, 28]) array([ 1, 31]) array([ 1, 30])\n",
      " array([ 1, 31]) array([ 1, 30]) array([ 1, 31]) array([ 1, 31])\n",
      " array([ 1, 30]) array([ 1, 31]) array([ 1, 30]) array([ 1, 31])]\n"
     ]
    }
   ],
   "source": [
    "print(MonthDays.ndim)\n",
    "print(MonthDays.size)\n",
    "print(MonthDays.values)"
   ]
  },
  {
   "cell_type": "code",
   "execution_count": 24,
   "id": "2b6ddac7-8be7-4a24-ba7a-e5a8869fd9f6",
   "metadata": {},
   "outputs": [
    {
     "data": {
      "text/plain": [
       "Series([], dtype: object)"
      ]
     },
     "execution_count": 24,
     "metadata": {},
     "output_type": "execute_result"
    }
   ],
   "source": [
    "SeriesEmpty=MTseries\n",
    "SeriesEmpty"
   ]
  },
  {
   "cell_type": "code",
   "execution_count": 25,
   "id": "e7d62c2f-4a52-4c08-b835-a0dd28a9b418",
   "metadata": {},
   "outputs": [
    {
     "data": {
      "text/plain": [
       "monthno\n",
       "1     [1, 31]\n",
       "2     [1, 28]\n",
       "3     [1, 31]\n",
       "4     [1, 30]\n",
       "5     [1, 31]\n",
       "6     [1, 30]\n",
       "7     [1, 31]\n",
       "8     [1, 31]\n",
       "9     [1, 30]\n",
       "10    [1, 31]\n",
       "11    [1, 30]\n",
       "12    [1, 31]\n",
       "dtype: object"
      ]
     },
     "execution_count": 25,
     "metadata": {},
     "output_type": "execute_result"
    }
   ],
   "source": [
    "MonthDays.index.name=\"monthno\"\n",
    "MonthDays"
   ]
  },
  {
   "cell_type": "code",
   "execution_count": 4,
   "id": "27fbc3be-61f7-4b10-be77-a988aa67bc36",
   "metadata": {},
   "outputs": [
    {
     "name": "stdout",
     "output_type": "stream",
     "text": [
      "39\n"
     ]
    }
   ],
   "source": [
    "print(Friends.iloc[2])"
   ]
  },
  {
   "cell_type": "code",
   "execution_count": 5,
   "id": "c70d1ce7-6bf8-48df-a28d-2328bbaa2e5b",
   "metadata": {},
   "outputs": [
    {
     "name": "stdout",
     "output_type": "stream",
     "text": [
      "38\n"
     ]
    }
   ],
   "source": [
    "print(Friends.iloc[1])"
   ]
  },
  {
   "cell_type": "code",
   "execution_count": 29,
   "id": "793dcca2-2125-46bc-b052-ff5df60ce63a",
   "metadata": {},
   "outputs": [
    {
     "data": {
      "text/plain": [
       "4     e\n",
       "5     f\n",
       "6     g\n",
       "7     h\n",
       "8     i\n",
       "9     j\n",
       "10    k\n",
       "11    l\n",
       "12    m\n",
       "13    n\n",
       "14    o\n",
       "15    p\n",
       "dtype: object"
      ]
     },
     "execution_count": 29,
     "metadata": {},
     "output_type": "execute_result"
    }
   ],
   "source": [
    "EngAlph[4:16]"
   ]
  },
  {
   "cell_type": "code",
   "execution_count": 30,
   "id": "f466a2a9-b959-48f3-984a-e751bf514f66",
   "metadata": {},
   "outputs": [
    {
     "data": {
      "text/plain": [
       "0    a\n",
       "1    b\n",
       "2    c\n",
       "3    d\n",
       "4    e\n",
       "5    f\n",
       "6    g\n",
       "7    h\n",
       "8    i\n",
       "9    j\n",
       "dtype: object"
      ]
     },
     "execution_count": 30,
     "metadata": {},
     "output_type": "execute_result"
    }
   ],
   "source": [
    "EngAlph.head(10)"
   ]
  },
  {
   "cell_type": "code",
   "execution_count": 31,
   "id": "d32b40ee-ef67-40ab-a85b-06c15823d0fd",
   "metadata": {},
   "outputs": [
    {
     "data": {
      "text/plain": [
       "16    q\n",
       "17    r\n",
       "18    s\n",
       "19    t\n",
       "20    u\n",
       "21    v\n",
       "22    w\n",
       "23    x\n",
       "24    y\n",
       "25    z\n",
       "dtype: object"
      ]
     },
     "execution_count": 31,
     "metadata": {},
     "output_type": "execute_result"
    }
   ],
   "source": [
    "EngAlph.tail(10)"
   ]
  },
  {
   "cell_type": "code",
   "execution_count": 32,
   "id": "a1e981cc-bfa1-4948-9017-28dfb52b4065",
   "metadata": {},
   "outputs": [
    {
     "name": "stdout",
     "output_type": "stream",
     "text": [
      "Series([], dtype: object)\n"
     ]
    }
   ],
   "source": [
    "print(MTseries)"
   ]
  },
  {
   "cell_type": "code",
   "execution_count": 33,
   "id": "51d13a83-5643-40ad-83c0-a278918f5a5b",
   "metadata": {},
   "outputs": [
    {
     "data": {
      "text/plain": [
       "monthno\n",
       "3    [1, 31]\n",
       "4    [1, 30]\n",
       "5    [1, 31]\n",
       "6    [1, 30]\n",
       "7    [1, 31]\n",
       "dtype: object"
      ]
     },
     "execution_count": 33,
     "metadata": {},
     "output_type": "execute_result"
    }
   ],
   "source": [
    "MonthDays[2:7]"
   ]
  },
  {
   "cell_type": "code",
   "execution_count": 36,
   "id": "6b83fb3c-57f4-4d07-8bbb-206e426c8673",
   "metadata": {},
   "outputs": [
    {
     "data": {
      "text/plain": [
       "monthno\n",
       "12    [1, 31]\n",
       "11    [1, 30]\n",
       "10    [1, 31]\n",
       "9     [1, 30]\n",
       "8     [1, 31]\n",
       "7     [1, 31]\n",
       "6     [1, 30]\n",
       "5     [1, 31]\n",
       "4     [1, 30]\n",
       "3     [1, 31]\n",
       "2     [1, 28]\n",
       "1     [1, 31]\n",
       "dtype: object"
      ]
     },
     "execution_count": 36,
     "metadata": {},
     "output_type": "execute_result"
    }
   ],
   "source": [
    "MonthDays.iloc[::-1]"
   ]
  },
  {
   "cell_type": "code",
   "execution_count": 10,
   "id": "d16b8485-8bb8-4746-bf22-a27a5dc6e6e6",
   "metadata": {},
   "outputs": [
    {
     "name": "stdout",
     "output_type": "stream",
     "text": [
      "   AT1  AT2  AT3  AT4  MID1  MID2  MID3\n",
      "0   10    9    9    8    15    14    15\n",
      "1    9    8   10   10    13    14    15\n",
      "2   10    8   10    9    13    15    14\n",
      "3    9    8    9   10    15    14    14\n",
      "4   10    9   10   10    15    15    14\n",
      "      AT1  AT2  AT3  AT4  MID1  MID2  MID3\n",
      "Sub1   10    9    9    8    15    14    15\n",
      "Sub2    9    8   10   10    13    14    15\n",
      "Sub3   10    8   10    9    13    15    14\n",
      "Sub4    9    8    9   10    15    14    14\n",
      "Sub5   10    9   10   10    15    15    14\n",
      "     AT1  AT2  AT3  AT4  MID1  MID2  MID3\n",
      "DSP    7    9    8   10    13    14    12\n",
      "WT     9    8   10   10    14    14    15\n",
      "CD    10    8   10    9    13    15    14\n",
      "COA    9    8    9   10    12    14    14\n",
      "OR    10    9   10   10    14    15    14\n"
     ]
    },
    {
     "name": "stderr",
     "output_type": "stream",
     "text": [
      "Matplotlib is building the font cache; this may take a moment.\n"
     ]
    },
    {
     "data": {
      "text/plain": [
       "<Axes: >"
      ]
     },
     "execution_count": 10,
     "metadata": {},
     "output_type": "execute_result"
    },
    {
     "data": {
      "image/png": "[encoded data removed]",
      "text/plain": [
       "<Figure size 640x480 with 1 Axes>"
      ]
     },
     "metadata": {},
     "output_type": "display_data"
    }
   ],
   "source": [
    "a1=nd.array([10,9,9,8,15,14,15])\n",
    "a2=nd.array([9,8,10,10,13,14,15])\n",
    "a3=nd.array([10,8,10,9,13,15,14])\n",
    "a4=nd.array([9,8,9,10,15,14,14])\n",
    "a5=nd.array([10,9,10,10,15,15,14])\n",
    "df1=pd.DataFrame([a1,a2,a3,a4,a5],columns=['AT1','AT2','AT3','AT4','MID1','MID2','MID3'])\n",
    "print(df1)\n",
    "df1=df1.rename({0:'Sub1',1:'Sub2',2:'Sub3',3:'Sub4',4:'Sub5'})\n",
    "print(df1)\n",
    "df1=df1.rename({'Sub1':'DSP','Sub2':'WT','Sub3':'CD','Sub4':'COA','Sub5':'OR'})\n",
    "df1.loc['DSP']=[7,9,8,10,13,14,12]\n",
    "df1['MID1']=[13,14,13,12,14]\n",
    "print(df1)\n",
    "df1.plot()"
   ]
  },
  {
   "cell_type": "code",
   "execution_count": 13,
   "id": "f0b20c55-b6c7-4c52-a78c-5fd68c1ddc16",
   "metadata": {},
   "outputs": [
    {
     "data": {
      "text/plain": [
       "<Axes: >"
      ]
     },
     "execution_count": 13,
     "metadata": {},
     "output_type": "execute_result"
    },
    {
     "data": {
      "image/png": "[encoded data removed]",
      "text/plain": [
       "<Figure size 640x480 with 1 Axes>"
      ]
     },
     "metadata": {},
     "output_type": "display_data"
    }
   ],
   "source": [
    "l={\"Percentage\":[10.0,9.8,9.7,8.88,8.78]}\n",
    "RR200260=pd.DataFrame(l,index=[\"SSC\",\"PUC1\",\"PUC2\",\"E1\",\"E2\"])\n",
    "RR200260\n",
    "RR200260.plot()\n"
   ]
  },
  {
   "cell_type": "code",
   "execution_count": 35,
   "id": "6cb37d92-c0f1-4785-92eb-1afb05958b37",
   "metadata": {},
   "outputs": [
    {
     "data": {
      "text/html": [
       "<div>\n",
       "<style scoped>\n",
       "    .dataframe tbody tr th:only-of-type {\n",
       "        vertical-align: middle;\n",
       "    }\n",
       "\n",
       "    .dataframe tbody tr th {\n",
       "        vertical-align: top;\n",
       "    }\n",
       "\n",
       "    .dataframe thead th {\n",
       "        text-align: right;\n",
       "    }\n",
       "</style>\n",
       "<table border=\"1\" class=\"dataframe\">\n",
       "  <thead>\n",
       "    <tr style=\"text-align: right;\">\n",
       "      <th></th>\n",
       "      <th>Degree/course</th>\n",
       "      <th>Institute</th>\n",
       "      <th>Year of Passing</th>\n",
       "      <th>Percentage</th>\n",
       "    </tr>\n",
       "  </thead>\n",
       "  <tbody>\n",
       "    <tr>\n",
       "      <th>1</th>\n",
       "      <td>SSC</td>\n",
       "      <td>Rayalaseema High School</td>\n",
       "      <td>2020</td>\n",
       "      <td>100</td>\n",
       "    </tr>\n",
       "    <tr>\n",
       "      <th>2</th>\n",
       "      <td>PUC</td>\n",
       "      <td>RGUKT</td>\n",
       "      <td>2022</td>\n",
       "      <td>98</td>\n",
       "    </tr>\n",
       "    <tr>\n",
       "      <th>3</th>\n",
       "      <td>Btech</td>\n",
       "      <td>RGUKT</td>\n",
       "      <td>2026</td>\n",
       "      <td>97</td>\n",
       "    </tr>\n",
       "    <tr>\n",
       "      <th>4</th>\n",
       "      <td>Intern</td>\n",
       "      <td>Study Comrade</td>\n",
       "      <td>2023</td>\n",
       "      <td>88</td>\n",
       "    </tr>\n",
       "  </tbody>\n",
       "</table>\n",
       "</div>"
      ],
      "text/plain": [
       "  Degree/course                 Institute  Year of Passing  Percentage\n",
       "1           SSC   Rayalaseema High School             2020         100\n",
       "2           PUC                     RGUKT             2022          98\n",
       "3         Btech                     RGUKT             2026          97\n",
       "4        Intern             Study Comrade             2023          88"
      ]
     },
     "execution_count": 35,
     "metadata": {},
     "output_type": "execute_result"
    }
   ],
   "source": [
    "p={'Degree/course':[\"SSC\",\"PUC\",\"Btech\",\"Intern\"],\"Institute\":[\" Rayalaseema High School\",\"RGUKT\",\"RGUKT\",\"Study Comrade\"],\"Year of Passing\":[2020,2022,2026,2023],\"Percentage\":[100,98,97,88]}\n",
    "eduback=pd.DataFrame(p,index=[1,2,3,4])\n",
    "eduback"
   ]
  },
  {
   "cell_type": "code",
   "execution_count": null,
   "id": "a7fe4600-efb6-47e6-82b4-8e36f7af8be8",
   "metadata": {},
   "outputs": [],
   "source": []
  }
 ],
 "metadata": {
  "kernelspec": {
   "display_name": "Python 3 (ipykernel)",
   "language": "python",
   "name": "python3"
  },
  "language_info": {
   "codemirror_mode": {
    "name": "ipython",
    "version": 3
   },
   "file_extension": ".py",
   "mimetype": "text/x-python",
   "name": "python",
   "nbconvert_exporter": "python",
   "pygments_lexer": "ipython3",
   "version": "3.11.5"
  }
 },
 "nbformat": 4,
 "nbformat_minor": 5
}
