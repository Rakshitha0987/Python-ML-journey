{
 "cells": [
  {
   "cell_type": "code",
   "execution_count": 1,
   "id": "9fc64623-e22f-47af-afe4-46bf5f91b169",
   "metadata": {},
   "outputs": [
    {
     "name": "stdout",
     "output_type": "stream",
     "text": [
      "['CSE', 'ECE', 'EEE', 'Mech', 'Civil', 'Chem', 'MME', 'AI', 'Data Science'] are available in RGUKT\n",
      "['AI', 'CSE', 'Chem', 'Civil', 'Data Science', 'ECE', 'EEE', 'MME', 'Mech'] in the sorting order\n",
      "['AI', 'CSE', 'Chem', 'Civil', 'Data Science', 'ECE', 'EEE', 'MME'] branches after removing last branch\n"
     ]
    }
   ],
   "source": [
    "#Write a Python Program to create a list of branches in RGUKT and then add two more branches called Data Science and\n",
    "#Artificial Intelligence and then arrange them in sorting order and then remove the last branch.\n",
    "branches=['CSE','ECE','EEE','Mech','Civil','Chem','MME']\n",
    "branches.extend(['AI',\"Data Science\"])\n",
    "print(branches,'are available in RGUKT')\n",
    "branches.sort()\n",
    "print(branches,'in the sorting order')\n",
    "branches.pop()\n",
    "print(branches,'branches after removing last branch')"
   ]
  },
  {
   "cell_type": "code",
   "execution_count": 1,
   "id": "8c371e65-7cc5-47fe-b423-e1b409a3c241",
   "metadata": {},
   "outputs": [
    {
     "name": "stdin",
     "output_type": "stream",
     "text": [
      "Enter a number to check whether it is list or not 8\n"
     ]
    },
    {
     "name": "stdout",
     "output_type": "stream",
     "text": [
      "8 is present in the list at the index 1\n"
     ]
    }
   ],
   "source": [
    "#Write a Python Program to check if a number is present in list or not?If Number is present print position of number else\n",
    "#print an appropriate message\n",
    "l=[9,8,7,6,10,30,20]\n",
    "pre=int(input(\"Enter a number to check whether it is list or not\"))\n",
    "if pre in  l:\n",
    "    print(pre,\"is present in the list at the index\",l.index(pre))\n",
    "else:\n",
    "    print(pre,'is not present in the list')"
   ]
  },
  {
   "cell_type": "code",
   "execution_count": 2,
   "id": "c3c9bc04-b7ca-46e3-80e2-312ef0dee92e",
   "metadata": {},
   "outputs": [
    {
     "name": "stdin",
     "output_type": "stream",
     "text": [
      "Enter No. of elements do you want to add:  5\n",
      "Enter the Number do you want to add 9\n",
      "Enter the Number do you want to add 0\n",
      "Enter the Number do you want to add -1\n",
      "Enter the Number do you want to add -2\n",
      "Enter the Number do you want to add 3\n"
     ]
    },
    {
     "name": "stdout",
     "output_type": "stream",
     "text": [
      "Entered Elements into the list are: [9, 0, -1, -2, 3]\n",
      "Positive Numbers in the list are: [9, 3]\n",
      "Negative Numbers in the list are: [-1, -2]\n",
      "Zeroes in the list are: [0]\n"
     ]
    }
   ],
   "source": [
    "#Write a Python Program to read a list of n integers(+ve & -ve.Create 2 new lists 1 having all positive numbers & another\n",
    "#having all negative numbers from the given list.Print all the lists.\n",
    "list1=[]\n",
    "number=int(input(\"Enter No. of elements do you want to add: \"))\n",
    "add=0\n",
    "for i in range(0,number):\n",
    "    add=int(input(\"Enter the Number do you want to add\"))\n",
    "    list1.append(add)\n",
    "print(\"Entered Elements into the list are:\",list1)\n",
    "list2=[]\n",
    "list3=[]\n",
    "list4=[]\n",
    "for i in list1:\n",
    "    if(i<0):\n",
    "        list2.append(i)\n",
    "    elif(i>0):\n",
    "        list3.append(i)\n",
    "    else:\n",
    "        list4.append(i)\n",
    "print(\"Positive Numbers in the list are:\",list3)\n",
    "print(\"Negative Numbers in the list are:\",list2)\n",
    "print(\"Zeroes in the list are:\",list4)"
   ]
  },
  {
   "cell_type": "code",
   "execution_count": 4,
   "id": "691c3893-72fc-4c2e-becc-22b5b876d56b",
   "metadata": {},
   "outputs": [
    {
     "name": "stdin",
     "output_type": "stream",
     "text": [
      "Enter no. of mail id's do you want to enter 3\n",
      "Enter the mail id bhumanagapavan@gmail.com\n",
      "Enter the mail id rr200260@rguktrkv.ac.in\n",
      "Enter the mail id vidyatantra@yahoo.com\n"
     ]
    },
    {
     "name": "stdout",
     "output_type": "stream",
     "text": [
      "Entered Mail id's are: ('bhumanagapavan@gmail.com', 'rr200260@rguktrkv.ac.in', 'vidyatantra@yahoo.com')\n",
      "User Names are: ('bhumanagapavan', 'rr200260', 'vidyatantra')\n",
      "Domain Names are: ('gmail.com', 'rguktrkv.ac.in', 'yahoo.com')\n"
     ]
    }
   ],
   "source": [
    "#Write a Python Program to read email id's of n numbers of students and store them in a tuple.Create 2 new tuples,1 stores only \n",
    "#user names from the email id's and second to store domain names from the email id's.Print all tuples at the end of the program. \n",
    "n=int(input(\"Enter no. of mail id's do you want to enter\"))\n",
    "mails=()\n",
    "for i in range(n):\n",
    "    mails+=(input(\"Enter the mail id\"),)\n",
    "print(\"Entered Mail id's are:\",mails)\n",
    "username=()\n",
    "domain=()\n",
    "for i in mails:\n",
    "    spl=i.split('@')\n",
    "    username+=(spl[0],)\n",
    "    domain+=(spl[1],)\n",
    "print(\"User Names are:\",username)\n",
    "print(\"Domain Names are:\",domain)\n"
   ]
  },
  {
   "cell_type": "code",
   "execution_count": 5,
   "id": "6632c6b6-cbe6-4486-af43-fef4da77692f",
   "metadata": {},
   "outputs": [
    {
     "name": "stdin",
     "output_type": "stream",
     "text": [
      "Enter No. of Students 3\n",
      "Enter the Name of the Student Pavan\n",
      "Enter the Name of the Student Rehan\n",
      "Enter the Name of the Student Malli\n",
      "Enter the name of the student do you want to search in the tuple Rehan\n"
     ]
    },
    {
     "name": "stdout",
     "output_type": "stream",
     "text": [
      "Rehan is present in the tuple at the index 1\n"
     ]
    }
   ],
   "source": [
    "#Write a Python Program to input names of n students and stores them in a tuple.Also input a name from the user and find if the \n",
    "#student is present in the tuple or not\n",
    "countt=int(input(\"Enter No. of Students\"))\n",
    "students=()\n",
    "for i in range(countt):\n",
    "    students+=(input(\"Enter the Name of the Student\"),)\n",
    "nam=input(\"Enter the name of the student do you want to search in the tuple\")\n",
    "if nam in students:\n",
    "    print(nam,'is present in the tuple at the index',students.index(nam))\n",
    "else:\n",
    "    print(nam,'is not present in the tuple')"
   ]
  },
  {
   "cell_type": "code",
   "execution_count": 6,
   "id": "c7f0a32e-e186-4ba8-a6af-6bdab9c9517b",
   "metadata": {},
   "outputs": [
    {
     "name": "stdout",
     "output_type": "stream",
     "text": [
      "No. of Courses available in RKV is: 7\n"
     ]
    },
    {
     "name": "stdin",
     "output_type": "stream",
     "text": [
      "Enter the course do you want to check CSE\n"
     ]
    },
    {
     "name": "stdout",
     "output_type": "stream",
     "text": [
      "CSE is available in RKV\n"
     ]
    }
   ],
   "source": [
    "#Write a Python Program to create set of courses offered by RGUKT and display the count\n",
    "courses={'CSE','ECE','EEE','Mech','Civil','Chem','MME'}\n",
    "print(\"No. of Courses available in RKV is:\",len(courses))\n",
    "branch=input(\"Enter the course do you want to check\")\n",
    "if branch in courses:\n",
    "    print(branch,\"is available in RKV\")\n",
    "else:\n",
    "    print(branch,\"is not available in RKV\")"
   ]
  },
  {
   "cell_type": "code",
   "execution_count": 7,
   "id": "f67a1f7d-a600-4676-99fc-77392f95ae04",
   "metadata": {},
   "outputs": [
    {
     "name": "stdout",
     "output_type": "stream",
     "text": [
      "{2, 4, 6, 8, 10} are the first 5 even numbers\n",
      "{1, 3, 5, 7, 9} are the first 5 odd numbers\n",
      "After Union of these two sets {1, 2, 3, 4, 5, 6, 7, 8, 9, 10}\n"
     ]
    }
   ],
   "source": [
    "#Write a Python Program to create 2 sets with first 5 odd numbers and with first 5 even numbers using range\n",
    "#function and merge these 2 sets\n",
    "even={i for i in range(1,11) if i%2==0}\n",
    "odd={j for j in range(1,11) if j%2!=0}\n",
    "print(even,'are the first 5 even numbers')\n",
    "print(odd,'are the first 5 odd numbers')\n",
    "print('After Union of these two sets',even|odd)"
   ]
  },
  {
   "cell_type": "code",
   "execution_count": 8,
   "id": "2439bf58-0ada-44cb-96bd-d192f6e8aa5f",
   "metadata": {},
   "outputs": [
    {
     "name": "stdin",
     "output_type": "stream",
     "text": [
      "Enter No. of Employees do you want to add: 3\n",
      "Enter the Employee Name: Pavan\n",
      "Employee Salary: 50000\n",
      "Enter the Employee Name: Ramesh\n",
      "Employee Salary: 70000\n",
      "Enter the Employee Name: Rehan\n",
      "Employee Salary: 90000\n"
     ]
    },
    {
     "name": "stdout",
     "output_type": "stream",
     "text": [
      "{'Pavan': 50000, 'Ramesh': 70000, 'Rehan': 90000}\n"
     ]
    }
   ],
   "source": [
    "#Write a Python Program to Enter Names of Employees and their salaries as input and stores them in a dictionary\n",
    "c=int(input(\"Enter No. of Employees do you want to add:\"))\n",
    "dic={}\n",
    "for i in range(0,c):\n",
    "    emp=input(\"Enter the Employee Name:\")\n",
    "    sal=int(input(\"Employee Salary:\"))\n",
    "    dic[emp]=sal\n",
    "print(dic)\n"
   ]
  },
  {
   "cell_type": "code",
   "execution_count": 9,
   "id": "9f1ba5e8-0e2c-4a6e-9edc-9909ef606138",
   "metadata": {},
   "outputs": [
    {
     "name": "stdin",
     "output_type": "stream",
     "text": [
      "Enter a Number 876\n"
     ]
    },
    {
     "name": "stdout",
     "output_type": "stream",
     "text": [
      "Eight Seven Six "
     ]
    }
   ],
   "source": [
    "#Write a Python Program to convert a number entered by the user into it's corresponding number in words.\n",
    "#For example if the input is 876 then output should be 'Eight Seven Six'\n",
    "dictionary={1:'One',2:'Two',3:'Three',4:'Four',5:'Five',6:'Six',7:'Seven',8:'Eight',9:'Nine',0:'Zero'}\n",
    "numb=(input(\"Enter a Number\"))\n",
    "count=len(numb)\n",
    "numb=int(numb[::-1])\n",
    "for i in range(count):\n",
    "    print(dictionary.get(numb%10),end=' ')\n",
    "    numb=numb//10"
   ]
  },
  {
   "cell_type": "code",
   "execution_count": null,
   "id": "33ebba03-d27f-43eb-a8bd-0bde7273555f",
   "metadata": {},
   "outputs": [],
   "source": []
  }
 ],
 "metadata": {
  "kernelspec": {
   "display_name": "Python 3 (ipykernel)",
   "language": "python",
   "name": "python3"
  },
  "language_info": {
   "codemirror_mode": {
    "name": "ipython",
    "version": 3
   },
   "file_extension": ".py",
   "mimetype": "text/x-python",
   "name": "python",
   "nbconvert_exporter": "python",
   "pygments_lexer": "ipython3",
   "version": "3.11.5"
  }
 },
 "nbformat": 4,
 "nbformat_minor": 5
}
