{
 "cells": [
  {
   "cell_type": "code",
   "execution_count": 2,
   "id": "d155d12e-3124-4bc8-9150-f0524aa20f78",
   "metadata": {},
   "outputs": [
    {
     "data": {
      "text/plain": [
       "0     a\n",
       "1     b\n",
       "2     c\n",
       "3     d\n",
       "4     e\n",
       "5     f\n",
       "6     g\n",
       "7     h\n",
       "8     i\n",
       "9     j\n",
       "10    k\n",
       "11    l\n",
       "12    m\n",
       "13    n\n",
       "14    o\n",
       "15    p\n",
       "16    q\n",
       "17    r\n",
       "18    s\n",
       "19    t\n",
       "20    u\n",
       "21    v\n",
       "22    w\n",
       "23    x\n",
       "24    y\n",
       "25    z\n",
       "dtype: object"
      ]
     },
     "execution_count": 2,
     "metadata": {},
     "output_type": "execute_result"
    }
   ],
   "source": [
    "import pandas as pd\n",
    "EngAlph=pd.Series(['a','b','c','d','e','f','g','h','i','j','k','l','m','n','o','p','q','r','s','t','u','v','w','x','y','z'])\n",
    "EngAlph"
   ]
  },
  {
   "cell_type": "code",
   "execution_count": 11,
   "id": "e3dead35-ddef-498c-a471-5029312c8733",
   "metadata": {},
   "outputs": [
    {
     "name": "stdout",
     "output_type": "stream",
     "text": [
      "a    0\n",
      "e    0\n",
      "i    0\n",
      "o    0\n",
      "u    0\n",
      "dtype: int64\n"
     ]
    },
    {
     "data": {
      "text/plain": [
       "False"
      ]
     },
     "execution_count": 11,
     "metadata": {},
     "output_type": "execute_result"
    }
   ],
   "source": [
    "Vowels=pd.Series([0,0,0,0,0],['a','e','i','o','u'])\n",
    "print(Vowels)\n",
    "Vowels.empty"
   ]
  },
  {
   "cell_type": "code",
   "execution_count": 23,
   "id": "fabf1e73-20e4-47f9-8c31-3b12eeb310ca",
   "metadata": {},
   "outputs": [
    {
     "name": "stdout",
     "output_type": "stream",
     "text": [
      "Nithin     3\n",
      "ABCD      23\n",
      "EFGH      22\n",
      "IJKL       2\n",
      "MNOP       5\n",
      "dtype: int64\n"
     ]
    }
   ],
   "source": [
    "Friends=pd.Series({\"Nithin\":3,\"ABCD\":23,\"EFGH\":22,\"IJKL\":2,\"MNOP\":5})\n",
    "print(Friends)"
   ]
  },
  {
   "cell_type": "code",
   "execution_count": 4,
   "id": "9f02332b-5e07-4dd9-be0f-8ca6f8366f10",
   "metadata": {},
   "outputs": [
    {
     "data": {
      "text/plain": [
       "Series([], dtype: object)"
      ]
     },
     "execution_count": 4,
     "metadata": {},
     "output_type": "execute_result"
    }
   ],
   "source": [
    "MTseries=pd.Series()\n",
    "MTseries"
   ]
  },
  {
   "cell_type": "code",
   "execution_count": 7,
   "id": "a5354429-cfa6-4561-9af9-ec1cc6799fe7",
   "metadata": {},
   "outputs": [
    {
     "name": "stdout",
     "output_type": "stream",
     "text": [
      "It is Empty\n"
     ]
    }
   ],
   "source": [
    "if MTseries.empty:\n",
    "    print(\"It is Empty\")\n",
    "else:\n",
    "    print(\"It is not Empty\")"
   ]
  },
  {
   "cell_type": "code",
   "execution_count": 19,
   "id": "a0dc8e49-a312-4ff7-a26c-2bcc7b0033a8",
   "metadata": {},
   "outputs": [],
   "source": [
    "import numpy as nd\n",
    "m1=nd.array([1,31])\n",
    "m2=nd.array([1,28])\n",
    "m3=nd.array([1,31])\n",
    "m4=nd.array([1,30])\n",
    "m5=nd.array([1,31])\n",
    "m6=nd.array([1,30])\n",
    "m7=nd.array([1,31])\n",
    "m8=nd.array([1,31])\n",
    "m9=nd.array([1,30])\n",
    "m10=nd.array([1,31])\n",
    "m11=nd.array([1,30])\n",
    "m12=nd.array([1,31])"
   ]
  },
  {
   "cell_type": "code",
   "execution_count": 20,
   "id": "ee3275c4-d5a4-4272-bab5-6f2837c1ee3c",
   "metadata": {},
   "outputs": [
    {
     "data": {
      "text/plain": [
       "1     [1, 31]\n",
       "2     [1, 28]\n",
       "3     [1, 31]\n",
       "4     [1, 30]\n",
       "5     [1, 31]\n",
       "6     [1, 30]\n",
       "7     [1, 31]\n",
       "8     [1, 31]\n",
       "9     [1, 30]\n",
       "10    [1, 31]\n",
       "11    [1, 30]\n",
       "12    [1, 31]\n",
       "dtype: object"
      ]
     },
     "execution_count": 20,
     "metadata": {},
     "output_type": "execute_result"
    }
   ],
   "source": [
    "MonthDays=pd.Series([m1,m2,m3,m4,m5,m6,m7,m8,m9,m10,m11,m12],[1,2,3,4,5,6,7,8,9,10,11,12])\n",
    "MonthDays"
   ]
  },
  {
   "cell_type": "code",
   "execution_count": 12,
   "id": "7f2c355b-0fe2-4bf0-b4bc-ec64b47287d0",
   "metadata": {},
   "outputs": [
    {
     "data": {
      "text/plain": [
       "a    10\n",
       "e    10\n",
       "i    10\n",
       "o    10\n",
       "u    10\n",
       "dtype: int64"
      ]
     },
     "execution_count": 12,
     "metadata": {},
     "output_type": "execute_result"
    }
   ],
   "source": [
    "Vowels['a':'u']=10\n",
    "Vowels"
   ]
  },
  {
   "cell_type": "code",
   "execution_count": 13,
   "id": "04efad3b-5ca0-4e45-94aa-e2166a3d1451",
   "metadata": {},
   "outputs": [
    {
     "data": {
      "text/plain": [
       "a    5\n",
       "e    5\n",
       "i    5\n",
       "o    5\n",
       "u    5\n",
       "dtype: int64"
      ]
     },
     "execution_count": 13,
     "metadata": {},
     "output_type": "execute_result"
    }
   ],
   "source": [
    "Vowels['a':'u']/=2\n",
    "Vowels"
   ]
  },
  {
   "cell_type": "code",
   "execution_count": 60,
   "id": "6339002c-b87e-463c-80ca-bef75fe6af97",
   "metadata": {},
   "outputs": [
    {
     "data": {
      "text/plain": [
       "a    2\n",
       "e    5\n",
       "i    6\n",
       "o    3\n",
       "u    8\n",
       "dtype: int64"
      ]
     },
     "execution_count": 60,
     "metadata": {},
     "output_type": "execute_result"
    }
   ],
   "source": [
    "Vowels1=pd.Series([2,5,6,3,8],['a','e','i','o','u'])\n",
    "Vowels1"
   ]
  },
  {
   "cell_type": "code",
   "execution_count": 40,
   "id": "8fbf25e0-ecdc-44a2-9b19-221d2dc236eb",
   "metadata": {},
   "outputs": [
    {
     "data": {
      "text/plain": [
       "a     7.0\n",
       "e    10.0\n",
       "i    11.0\n",
       "o     8.0\n",
       "u    13.0\n",
       "dtype: float64"
      ]
     },
     "execution_count": 40,
     "metadata": {},
     "output_type": "execute_result"
    }
   ],
   "source": [
    "Vowels3=Vowels1+Vowels\n",
    "Vowels3"
   ]
  },
  {
   "cell_type": "code",
   "execution_count": 41,
   "id": "ee88399c-e80d-4773-99a4-32e9d2715da8",
   "metadata": {},
   "outputs": [
    {
     "data": {
      "text/plain": [
       "a    3.0\n",
       "e    0.0\n",
       "i   -1.0\n",
       "o    2.0\n",
       "u   -3.0\n",
       "dtype: float64"
      ]
     },
     "execution_count": 41,
     "metadata": {},
     "output_type": "execute_result"
    }
   ],
   "source": [
    "Vowels-Vowels1"
   ]
  },
  {
   "cell_type": "code",
   "execution_count": 42,
   "id": "66695cc5-99f3-4db5-904d-a414b3ac6e49",
   "metadata": {},
   "outputs": [
    {
     "data": {
      "text/plain": [
       "a    10.0\n",
       "e    25.0\n",
       "i    30.0\n",
       "o    15.0\n",
       "u    40.0\n",
       "dtype: float64"
      ]
     },
     "execution_count": 42,
     "metadata": {},
     "output_type": "execute_result"
    }
   ],
   "source": [
    "Vowels*Vowels1"
   ]
  },
  {
   "cell_type": "code",
   "execution_count": 43,
   "id": "d477d0b2-7e5f-4f5b-80cf-73db51aaa399",
   "metadata": {},
   "outputs": [
    {
     "data": {
      "text/plain": [
       "a    2.500000\n",
       "e    1.000000\n",
       "i    0.833333\n",
       "o    1.666667\n",
       "u    0.625000\n",
       "dtype: float64"
      ]
     },
     "execution_count": 43,
     "metadata": {},
     "output_type": "execute_result"
    }
   ],
   "source": [
    "Vowels/Vowels1"
   ]
  },
  {
   "cell_type": "code",
   "execution_count": 65,
   "id": "0f439f91-2574-42b0-a6ee-66783bac9753",
   "metadata": {},
   "outputs": [
    {
     "data": {
      "text/plain": [
       "A    2\n",
       "E    5\n",
       "I    6\n",
       "O    3\n",
       "U    8\n",
       "dtype: int64"
      ]
     },
     "execution_count": 65,
     "metadata": {},
     "output_type": "execute_result"
    }
   ],
   "source": [
    "index=['A','E','I','O','U']\n",
    "Vowels1=pd.Series([2,5,6,3,8],index)\n",
    "Vowels1"
   ]
  },
  {
   "cell_type": "code",
   "execution_count": 66,
   "id": "85346578-0b98-490a-8784-b6b7b356942e",
   "metadata": {},
   "outputs": [
    {
     "data": {
      "text/plain": [
       "26"
      ]
     },
     "execution_count": 66,
     "metadata": {},
     "output_type": "execute_result"
    }
   ],
   "source": [
    "EngAlph.size"
   ]
  },
  {
   "cell_type": "code",
   "execution_count": 69,
   "id": "da27ae5d-eef5-49fc-a1ff-f21c6d8b8795",
   "metadata": {},
   "outputs": [
    {
     "data": {
      "text/plain": [
       "1"
      ]
     },
     "execution_count": 69,
     "metadata": {},
     "output_type": "execute_result"
    }
   ],
   "source": [
    "EngAlph.ndim"
   ]
  },
  {
   "cell_type": "code",
   "execution_count": 71,
   "id": "bc791f74-0de4-4a21-99fb-5832bdb41b95",
   "metadata": {},
   "outputs": [
    {
     "data": {
      "text/plain": [
       "array(['a', 'b', 'c', 'd', 'e', 'f', 'g', 'h', 'i', 'j', 'k', 'l', 'm',\n",
       "       'n', 'o', 'p', 'q', 'r', 's', 't', 'u', 'v', 'w', 'x', 'y', 'z'],\n",
       "      dtype=object)"
      ]
     },
     "execution_count": 71,
     "metadata": {},
     "output_type": "execute_result"
    }
   ],
   "source": [
    "EngAlph.values"
   ]
  },
  {
   "cell_type": "code",
   "execution_count": 14,
   "id": "4624ecb2-369e-4cdd-b591-0575ba0f323b",
   "metadata": {},
   "outputs": [
    {
     "name": "stdout",
     "output_type": "stream",
     "text": [
      "1\n",
      "5\n",
      "[5 5 5 5 5]\n"
     ]
    }
   ],
   "source": [
    "print(Vowels.ndim)\n",
    "print(Vowels.size)\n",
    "print(Vowels.values)"
   ]
  },
  {
   "cell_type": "code",
   "execution_count": 15,
   "id": "66c6b76f-ad57-415b-8861-7507c4802c86",
   "metadata": {},
   "outputs": [
    {
     "name": "stdout",
     "output_type": "stream",
     "text": [
      "1\n",
      "5\n",
      "[ 3 23 22  2  5]\n"
     ]
    }
   ],
   "source": [
    "print(Friends.ndim)\n",
    "print(Friends.size)\n",
    "print(Friends.values)"
   ]
  },
  {
   "cell_type": "code",
   "execution_count": 16,
   "id": "30720be8-861a-43e1-8ef2-0ca1b9ee8d9a",
   "metadata": {},
   "outputs": [
    {
     "name": "stdout",
     "output_type": "stream",
     "text": [
      "1\n",
      "0\n",
      "[]\n"
     ]
    }
   ],
   "source": [
    "print(MTseries.ndim)\n",
    "print(MTseries.size)\n",
    "print(MTseries.values)"
   ]
  },
  {
   "cell_type": "code",
   "execution_count": 21,
   "id": "61b0a3ec-4f19-4f23-a07f-f06edb42b79d",
   "metadata": {},
   "outputs": [
    {
     "name": "stdout",
     "output_type": "stream",
     "text": [
      "1\n",
      "12\n",
      "[array([ 1, 31]) array([ 1, 28]) array([ 1, 31]) array([ 1, 30])\n",
      " array([ 1, 31]) array([ 1, 30]) array([ 1, 31]) array([ 1, 31])\n",
      " array([ 1, 30]) array([ 1, 31]) array([ 1, 30]) array([ 1, 31])]\n"
     ]
    }
   ],
   "source": [
    "print(MonthDays.ndim)\n",
    "print(MonthDays.size)\n",
    "print(MonthDays.values)"
   ]
  },
  {
   "cell_type": "code",
   "execution_count": 38,
   "id": "0c8e6428-d70a-4dcc-b638-4c9e4037ebfb",
   "metadata": {},
   "outputs": [
    {
     "data": {
      "text/plain": [
       "Series([], dtype: object)"
      ]
     },
     "execution_count": 38,
     "metadata": {},
     "output_type": "execute_result"
    }
   ],
   "source": [
    "SeriesEmpty=MTseries\n",
    "SeriesEmpty"
   ]
  },
  {
   "cell_type": "code",
   "execution_count": 39,
   "id": "6e9d5849-de80-4788-92e1-355c372966dc",
   "metadata": {},
   "outputs": [
    {
     "data": {
      "text/plain": [
       "monthno\n",
       "1     [1, 31]\n",
       "2     [1, 28]\n",
       "3     [1, 31]\n",
       "4     [1, 30]\n",
       "5     [1, 31]\n",
       "6     [1, 30]\n",
       "7     [1, 31]\n",
       "8     [1, 31]\n",
       "9     [1, 30]\n",
       "10    [1, 31]\n",
       "11    [1, 30]\n",
       "12    [1, 31]\n",
       "dtype: object"
      ]
     },
     "execution_count": 39,
     "metadata": {},
     "output_type": "execute_result"
    }
   ],
   "source": [
    "MonthDays.index.name=\"monthno\"\n",
    "MonthDays"
   ]
  },
  {
   "cell_type": "code",
   "execution_count": 24,
   "id": "1470a485-f10a-4d14-a57d-acb9795b1708",
   "metadata": {},
   "outputs": [
    {
     "name": "stderr",
     "output_type": "stream",
     "text": [
      "C:\\Users\\Naga Pavan Bhuma\\AppData\\Local\\Temp\\ipykernel_17064\\310109665.py:1: FutureWarning: Series.__getitem__ treating keys as positions is deprecated. In a future version, integer keys will always be treated as labels (consistent with DataFrame behavior). To access a value by position, use `ser.iloc[pos]`\n",
      "  Friends[2]\n"
     ]
    },
    {
     "data": {
      "text/plain": [
       "22"
      ]
     },
     "execution_count": 24,
     "metadata": {},
     "output_type": "execute_result"
    }
   ],
   "source": [
    "Friends[2]"
   ]
  },
  {
   "cell_type": "code",
   "execution_count": 25,
   "id": "b44f0157-1c91-4f71-a40f-7ebd6706cfb1",
   "metadata": {},
   "outputs": [
    {
     "name": "stderr",
     "output_type": "stream",
     "text": [
      "C:\\Users\\Naga Pavan Bhuma\\AppData\\Local\\Temp\\ipykernel_17064\\116650755.py:1: FutureWarning: Series.__getitem__ treating keys as positions is deprecated. In a future version, integer keys will always be treated as labels (consistent with DataFrame behavior). To access a value by position, use `ser.iloc[pos]`\n",
      "  Friends[1]\n"
     ]
    },
    {
     "data": {
      "text/plain": [
       "23"
      ]
     },
     "execution_count": 25,
     "metadata": {},
     "output_type": "execute_result"
    }
   ],
   "source": [
    "Friends[1]"
   ]
  },
  {
   "cell_type": "code",
   "execution_count": 15,
   "id": "3c3883ab-1a7c-4a2c-95c7-ac4fb85acaf3",
   "metadata": {},
   "outputs": [
    {
     "data": {
      "text/plain": [
       "4     e\n",
       "5     f\n",
       "6     g\n",
       "7     h\n",
       "8     i\n",
       "9     j\n",
       "10    k\n",
       "11    l\n",
       "12    m\n",
       "13    n\n",
       "14    o\n",
       "15    p\n",
       "dtype: object"
      ]
     },
     "execution_count": 15,
     "metadata": {},
     "output_type": "execute_result"
    }
   ],
   "source": [
    "EngAlph[4:16]"
   ]
  },
  {
   "cell_type": "code",
   "execution_count": 77,
   "id": "a6daa515-bf25-4032-8f52-fd1f76be3843",
   "metadata": {},
   "outputs": [
    {
     "data": {
      "text/plain": [
       "0    a\n",
       "1    b\n",
       "2    c\n",
       "3    d\n",
       "4    e\n",
       "5    f\n",
       "6    g\n",
       "7    h\n",
       "8    i\n",
       "9    j\n",
       "dtype: object"
      ]
     },
     "execution_count": 77,
     "metadata": {},
     "output_type": "execute_result"
    }
   ],
   "source": [
    "EngAlph.head(10)"
   ]
  },
  {
   "cell_type": "code",
   "execution_count": 31,
   "id": "b5888bb4-8348-4a3c-999b-c28f6efd0a91",
   "metadata": {},
   "outputs": [
    {
     "data": {
      "text/plain": [
       "16    q\n",
       "17    r\n",
       "18    s\n",
       "19    t\n",
       "20    u\n",
       "21    v\n",
       "22    w\n",
       "23    x\n",
       "24    y\n",
       "25    z\n",
       "dtype: object"
      ]
     },
     "execution_count": 31,
     "metadata": {},
     "output_type": "execute_result"
    }
   ],
   "source": [
    "EngAlph.tail(10)"
   ]
  },
  {
   "cell_type": "code",
   "execution_count": 26,
   "id": "91bccb13-d2e1-4a4a-a21d-f0c25ba50bbb",
   "metadata": {},
   "outputs": [
    {
     "name": "stdout",
     "output_type": "stream",
     "text": [
      "Series([], dtype: object)\n"
     ]
    }
   ],
   "source": [
    "print(MTseries)"
   ]
  },
  {
   "cell_type": "code",
   "execution_count": 27,
   "id": "1ba76d64-3aec-4c4b-be91-e21e2ec4829d",
   "metadata": {},
   "outputs": [
    {
     "data": {
      "text/plain": [
       "3    [1, 31]\n",
       "4    [1, 30]\n",
       "5    [1, 31]\n",
       "6    [1, 30]\n",
       "7    [1, 31]\n",
       "dtype: object"
      ]
     },
     "execution_count": 27,
     "metadata": {},
     "output_type": "execute_result"
    }
   ],
   "source": [
    "MonthDays[2:7]"
   ]
  },
  {
   "cell_type": "code",
   "execution_count": 43,
   "id": "a0d02d62-3a65-4ec3-90d3-c7a58d60e8f2",
   "metadata": {},
   "outputs": [
    {
     "data": {
      "text/plain": [
       "monthno\n",
       "12    [1, 31]\n",
       "11    [1, 30]\n",
       "10    [1, 31]\n",
       "9     [1, 30]\n",
       "8     [1, 31]\n",
       "7     [1, 31]\n",
       "6     [1, 30]\n",
       "5     [1, 31]\n",
       "4     [1, 30]\n",
       "3     [1, 31]\n",
       "2     [1, 28]\n",
       "1     [1, 31]\n",
       "dtype: object"
      ]
     },
     "execution_count": 43,
     "metadata": {},
     "output_type": "execute_result"
    }
   ],
   "source": [
    "MonthDays.iloc[::-1]"
   ]
  },
  {
   "cell_type": "code",
   "execution_count": null,
   "id": "a86e403b-01e9-4eb3-88c9-64f3204a4ac3",
   "metadata": {},
   "outputs": [],
   "source": []
  }
 ],
 "metadata": {
  "kernelspec": {
   "display_name": "Python 3 (ipykernel)",
   "language": "python",
   "name": "python3"
  },
  "language_info": {
   "codemirror_mode": {
    "name": "ipython",
    "version": 3
   },
   "file_extension": ".py",
   "mimetype": "text/x-python",
   "name": "python",
   "nbconvert_exporter": "python",
   "pygments_lexer": "ipython3",
   "version": "3.11.5"
  }
 },
 "nbformat": 4,
 "nbformat_minor": 5
}
