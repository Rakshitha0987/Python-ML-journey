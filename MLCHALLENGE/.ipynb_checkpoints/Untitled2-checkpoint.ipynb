{
 "cells": [
  {
   "cell_type": "code",
   "execution_count": 1,
   "id": "5ffab733-2805-4da6-b534-b9544582098e",
   "metadata": {},
   "outputs": [
    {
     "name": "stderr",
     "output_type": "stream",
     "text": [
      "2024-09-15 23:23:16.374823: I tensorflow/tsl/cuda/cudart_stub.cc:28] Could not find cuda drivers on your machine, GPU will not be used.\n",
      "2024-09-15 23:23:18.642931: I tensorflow/tsl/cuda/cudart_stub.cc:28] Could not find cuda drivers on your machine, GPU will not be used.\n",
      "2024-09-15 23:23:18.646590: I tensorflow/core/platform/cpu_feature_guard.cc:182] This TensorFlow binary is optimized to use available CPU instructions in performance-critical operations.\n",
      "To enable the following instructions: AVX2 FMA, in other operations, rebuild TensorFlow with the appropriate compiler flags.\n",
      "2024-09-15 23:23:24.041183: W tensorflow/compiler/tf2tensorrt/utils/py_utils.cc:38] TF-TRT Warning: Could not find TensorRT\n",
      "100%|███████████████████████████████████████████| 99/99 [01:13<00:00,  1.35it/s]\n"
     ]
    },
    {
     "name": "stdout",
     "output_type": "stream",
     "text": [
      "Downloading data from https://storage.googleapis.com/keras-applications/efficientnetb0_notop.h5\n",
      "16705208/16705208 [==============================] - 348s 21us/step\n",
      "1/1 [==============================] - 3s 3s/step\n"
     ]
    },
    {
     "name": "stderr",
     "output_type": "stream",
     "text": [
      "Premature end of JPEG file\n"
     ]
    },
    {
     "name": "stdout",
     "output_type": "stream",
     "text": [
      "1/1 [==============================] - 3s 3s/step\n"
     ]
    },
    {
     "name": "stderr",
     "output_type": "stream",
     "text": [
      "Premature end of JPEG file\n"
     ]
    },
    {
     "name": "stdout",
     "output_type": "stream",
     "text": [
      "1/1 [==============================] - 3s 3s/step\n",
      "1/1 [==============================] - 2s 2s/step\n",
      "WARNING:tensorflow:5 out of the last 5 calls to <function Model.make_predict_function.<locals>.predict_function at 0x7fefbca235e0> triggered tf.function retracing. Tracing is expensive and the excessive number of tracings could be due to (1) creating @tf.function repeatedly in a loop, (2) passing tensors with different shapes, (3) passing Python objects instead of tensors. For (1), please define your @tf.function outside of the loop. For (2), @tf.function has reduce_retracing=True option that can avoid unnecessary retracing. For (3), please refer to https://www.tensorflow.org/guide/function#controlling_retracing and https://www.tensorflow.org/api_docs/python/tf/function for  more details.\n",
      "1/1 [==============================] - 2s 2s/step\n"
     ]
    },
    {
     "name": "stderr",
     "output_type": "stream",
     "text": [
      "Premature end of JPEG file\n"
     ]
    },
    {
     "name": "stdout",
     "output_type": "stream",
     "text": [
      "WARNING:tensorflow:6 out of the last 6 calls to <function Model.make_predict_function.<locals>.predict_function at 0x7fefbca3eb80> triggered tf.function retracing. Tracing is expensive and the excessive number of tracings could be due to (1) creating @tf.function repeatedly in a loop, (2) passing tensors with different shapes, (3) passing Python objects instead of tensors. For (1), please define your @tf.function outside of the loop. For (2), @tf.function has reduce_retracing=True option that can avoid unnecessary retracing. For (3), please refer to https://www.tensorflow.org/guide/function#controlling_retracing and https://www.tensorflow.org/api_docs/python/tf/function for  more details.\n",
      "1/1 [==============================] - 2s 2s/step\n"
     ]
    },
    {
     "name": "stderr",
     "output_type": "stream",
     "text": [
      "Premature end of JPEG file\n"
     ]
    },
    {
     "name": "stdout",
     "output_type": "stream",
     "text": [
      "1/1 [==============================] - 2s 2s/step\n",
      "1/1 [==============================] - 2s 2s/step\n"
     ]
    },
    {
     "name": "stderr",
     "output_type": "stream",
     "text": [
      "Premature end of JPEG file\n"
     ]
    },
    {
     "name": "stdout",
     "output_type": "stream",
     "text": [
      "1/1 [==============================] - 2s 2s/step\n"
     ]
    },
    {
     "name": "stderr",
     "output_type": "stream",
     "text": [
      "Premature end of JPEG file\n"
     ]
    },
    {
     "name": "stdout",
     "output_type": "stream",
     "text": [
      "1/1 [==============================] - 2s 2s/step\n",
      "1/1 [==============================] - 2s 2s/step\n",
      "1/1 [==============================] - 2s 2s/step\n"
     ]
    },
    {
     "name": "stderr",
     "output_type": "stream",
     "text": [
      "Premature end of JPEG file\n"
     ]
    },
    {
     "name": "stdout",
     "output_type": "stream",
     "text": [
      "1/1 [==============================] - 2s 2s/step\n"
     ]
    },
    {
     "name": "stderr",
     "output_type": "stream",
     "text": [
      "Premature end of JPEG file\n",
      "Premature end of JPEG file\n"
     ]
    },
    {
     "name": "stdout",
     "output_type": "stream",
     "text": [
      "1/1 [==============================] - 2s 2s/step\n"
     ]
    },
    {
     "name": "stderr",
     "output_type": "stream",
     "text": [
      "Premature end of JPEG file\n",
      "Premature end of JPEG file\n"
     ]
    },
    {
     "name": "stdout",
     "output_type": "stream",
     "text": [
      "1/1 [==============================] - 3s 3s/step\n"
     ]
    },
    {
     "name": "stderr",
     "output_type": "stream",
     "text": [
      "Premature end of JPEG file\n",
      "Premature end of JPEG file\n"
     ]
    },
    {
     "name": "stdout",
     "output_type": "stream",
     "text": [
      "1/1 [==============================] - 2s 2s/step\n"
     ]
    },
    {
     "name": "stderr",
     "output_type": "stream",
     "text": [
      "Premature end of JPEG file\n"
     ]
    },
    {
     "name": "stdout",
     "output_type": "stream",
     "text": [
      "1/1 [==============================] - 2s 2s/step\n"
     ]
    },
    {
     "name": "stderr",
     "output_type": "stream",
     "text": [
      "Premature end of JPEG file\n"
     ]
    },
    {
     "name": "stdout",
     "output_type": "stream",
     "text": [
      "1/1 [==============================] - 3s 3s/step\n"
     ]
    },
    {
     "name": "stderr",
     "output_type": "stream",
     "text": [
      "Premature end of JPEG file\n",
      "Premature end of JPEG file\n"
     ]
    },
    {
     "name": "stdout",
     "output_type": "stream",
     "text": [
      "1/1 [==============================] - 2s 2s/step\n"
     ]
    },
    {
     "name": "stderr",
     "output_type": "stream",
     "text": [
      "Premature end of JPEG file\n"
     ]
    },
    {
     "name": "stdout",
     "output_type": "stream",
     "text": [
      "1/1 [==============================] - 2s 2s/step\n",
      "1/1 [==============================] - 3s 3s/step\n"
     ]
    },
    {
     "name": "stderr",
     "output_type": "stream",
     "text": [
      "Premature end of JPEG file\n"
     ]
    },
    {
     "name": "stdout",
     "output_type": "stream",
     "text": [
      "1/1 [==============================] - 3s 3s/step\n"
     ]
    },
    {
     "name": "stderr",
     "output_type": "stream",
     "text": [
      "Premature end of JPEG file\n"
     ]
    },
    {
     "name": "stdout",
     "output_type": "stream",
     "text": [
      "1/1 [==============================] - 2s 2s/step\n"
     ]
    },
    {
     "name": "stderr",
     "output_type": "stream",
     "text": [
      "Premature end of JPEG file\n"
     ]
    },
    {
     "name": "stdout",
     "output_type": "stream",
     "text": [
      "1/1 [==============================] - 2s 2s/step\n"
     ]
    },
    {
     "name": "stderr",
     "output_type": "stream",
     "text": [
      "Premature end of JPEG file\n",
      "Premature end of JPEG file\n"
     ]
    },
    {
     "name": "stdout",
     "output_type": "stream",
     "text": [
      "1/1 [==============================] - 3s 3s/step\n"
     ]
    },
    {
     "name": "stderr",
     "output_type": "stream",
     "text": [
      "Premature end of JPEG file\n",
      "Premature end of JPEG file\n"
     ]
    },
    {
     "name": "stdout",
     "output_type": "stream",
     "text": [
      "1/1 [==============================] - 2s 2s/step\n"
     ]
    },
    {
     "name": "stderr",
     "output_type": "stream",
     "text": [
      "Premature end of JPEG file\n"
     ]
    },
    {
     "name": "stdout",
     "output_type": "stream",
     "text": [
      "1/1 [==============================] - 2s 2s/step\n"
     ]
    },
    {
     "name": "stderr",
     "output_type": "stream",
     "text": [
      "Premature end of JPEG file\n"
     ]
    },
    {
     "name": "stdout",
     "output_type": "stream",
     "text": [
      "1/1 [==============================] - 2s 2s/step\n"
     ]
    },
    {
     "name": "stderr",
     "output_type": "stream",
     "text": [
      "Premature end of JPEG file\n",
      "Premature end of JPEG file\n"
     ]
    },
    {
     "name": "stdout",
     "output_type": "stream",
     "text": [
      "1/1 [==============================] - 3s 3s/step\n"
     ]
    },
    {
     "name": "stderr",
     "output_type": "stream",
     "text": [
      "Premature end of JPEG file\n"
     ]
    },
    {
     "name": "stdout",
     "output_type": "stream",
     "text": [
      "1/1 [==============================] - 2s 2s/step\n",
      "1/1 [==============================] - 2s 2s/step\n",
      "1/1 [==============================] - 2s 2s/step\n"
     ]
    },
    {
     "name": "stderr",
     "output_type": "stream",
     "text": [
      "Premature end of JPEG file\n"
     ]
    },
    {
     "name": "stdout",
     "output_type": "stream",
     "text": [
      "1/1 [==============================] - 3s 3s/step\n"
     ]
    },
    {
     "name": "stderr",
     "output_type": "stream",
     "text": [
      "Premature end of JPEG file\n"
     ]
    },
    {
     "ename": "error",
     "evalue": "OpenCV(4.10.0) /io/opencv/modules/imgproc/src/resize.cpp:4152: error: (-215:Assertion failed) !ssize.empty() in function 'resize'\n",
     "output_type": "error",
     "traceback": [
      "\u001b[0;31m---------------------------------------------------------------------------\u001b[0m",
      "\u001b[0;31merror\u001b[0m                                     Traceback (most recent call last)",
      "Cell \u001b[0;32mIn[1], line 143\u001b[0m\n\u001b[1;32m    141\u001b[0m \u001b[38;5;66;03m# Run the pipeline\u001b[39;00m\n\u001b[1;32m    142\u001b[0m \u001b[38;5;28;01mif\u001b[39;00m \u001b[38;5;18m__name__\u001b[39m \u001b[38;5;241m==\u001b[39m \u001b[38;5;124m'\u001b[39m\u001b[38;5;124m__main__\u001b[39m\u001b[38;5;124m'\u001b[39m:\n\u001b[0;32m--> 143\u001b[0m     \u001b[43mmain\u001b[49m\u001b[43m(\u001b[49m\u001b[43m)\u001b[49m\n",
      "Cell \u001b[0;32mIn[1], line 136\u001b[0m, in \u001b[0;36mmain\u001b[0;34m()\u001b[0m\n\u001b[1;32m    133\u001b[0m train_df \u001b[38;5;241m=\u001b[39m download_all_images(train_csv, download_folder)\n\u001b[1;32m    135\u001b[0m \u001b[38;5;66;03m# Step 2: Train the model\u001b[39;00m\n\u001b[0;32m--> 136\u001b[0m reg_model \u001b[38;5;241m=\u001b[39m \u001b[43mtrain_model\u001b[49m\u001b[43m(\u001b[49m\u001b[43mtrain_df\u001b[49m\u001b[43m,\u001b[49m\u001b[43m \u001b[49m\u001b[43mdownload_folder\u001b[49m\u001b[43m)\u001b[49m\n\u001b[1;32m    138\u001b[0m \u001b[38;5;66;03m# Step 3: Generate predictions for the test set\u001b[39;00m\n\u001b[1;32m    139\u001b[0m predict_and_generate_output(test_csv, reg_model, download_folder)\n",
      "Cell \u001b[0;32mIn[1], line 66\u001b[0m, in \u001b[0;36mtrain_model\u001b[0;34m(train_df, download_folder)\u001b[0m\n\u001b[1;32m     63\u001b[0m image_path \u001b[38;5;241m=\u001b[39m os\u001b[38;5;241m.\u001b[39mpath\u001b[38;5;241m.\u001b[39mjoin(download_folder, os\u001b[38;5;241m.\u001b[39mpath\u001b[38;5;241m.\u001b[39mbasename(row[\u001b[38;5;124m'\u001b[39m\u001b[38;5;124mimage_link\u001b[39m\u001b[38;5;124m'\u001b[39m]))\n\u001b[1;32m     65\u001b[0m \u001b[38;5;66;03m# Extract features using CNN\u001b[39;00m\n\u001b[0;32m---> 66\u001b[0m image_features \u001b[38;5;241m=\u001b[39m \u001b[43mextract_image_features\u001b[49m\u001b[43m(\u001b[49m\u001b[43mimage_path\u001b[49m\u001b[43m)\u001b[49m\n\u001b[1;32m     68\u001b[0m \u001b[38;5;66;03m# Extract text using OCR\u001b[39;00m\n\u001b[1;32m     69\u001b[0m text \u001b[38;5;241m=\u001b[39m extract_text_from_image(image_path)\n",
      "Cell \u001b[0;32mIn[1], line 51\u001b[0m, in \u001b[0;36mextract_image_features\u001b[0;34m(image_path)\u001b[0m\n\u001b[1;32m     49\u001b[0m \u001b[38;5;250m\u001b[39m\u001b[38;5;124;03m\"\"\"Extract CNN features from the image.\"\"\"\u001b[39;00m\n\u001b[1;32m     50\u001b[0m cnn_model \u001b[38;5;241m=\u001b[39m EfficientNetB0(weights\u001b[38;5;241m=\u001b[39m\u001b[38;5;124m'\u001b[39m\u001b[38;5;124mimagenet\u001b[39m\u001b[38;5;124m'\u001b[39m, include_top\u001b[38;5;241m=\u001b[39m\u001b[38;5;28;01mFalse\u001b[39;00m, pooling\u001b[38;5;241m=\u001b[39m\u001b[38;5;124m'\u001b[39m\u001b[38;5;124mavg\u001b[39m\u001b[38;5;124m'\u001b[39m)\n\u001b[0;32m---> 51\u001b[0m image \u001b[38;5;241m=\u001b[39m \u001b[43mpreprocess_image\u001b[49m\u001b[43m(\u001b[49m\u001b[43mimage_path\u001b[49m\u001b[43m)\u001b[49m\n\u001b[1;32m     52\u001b[0m image \u001b[38;5;241m=\u001b[39m image\u001b[38;5;241m.\u001b[39mreshape((\u001b[38;5;241m1\u001b[39m, \u001b[38;5;241m224\u001b[39m, \u001b[38;5;241m224\u001b[39m, \u001b[38;5;241m3\u001b[39m))\n\u001b[1;32m     53\u001b[0m features \u001b[38;5;241m=\u001b[39m cnn_model\u001b[38;5;241m.\u001b[39mpredict(image)\n",
      "Cell \u001b[0;32mIn[1], line 24\u001b[0m, in \u001b[0;36mpreprocess_image\u001b[0;34m(image_path)\u001b[0m\n\u001b[1;32m     22\u001b[0m \u001b[38;5;250m\u001b[39m\u001b[38;5;124;03m\"\"\"Load and preprocess image for input into the CNN model.\"\"\"\u001b[39;00m\n\u001b[1;32m     23\u001b[0m image \u001b[38;5;241m=\u001b[39m cv2\u001b[38;5;241m.\u001b[39mimread(image_path)\n\u001b[0;32m---> 24\u001b[0m image \u001b[38;5;241m=\u001b[39m \u001b[43mcv2\u001b[49m\u001b[38;5;241;43m.\u001b[39;49m\u001b[43mresize\u001b[49m\u001b[43m(\u001b[49m\u001b[43mimage\u001b[49m\u001b[43m,\u001b[49m\u001b[43m \u001b[49m\u001b[43m(\u001b[49m\u001b[38;5;241;43m224\u001b[39;49m\u001b[43m,\u001b[49m\u001b[43m \u001b[49m\u001b[38;5;241;43m224\u001b[39;49m\u001b[43m)\u001b[49m\u001b[43m)\u001b[49m  \u001b[38;5;66;03m# Resize to input size of EfficientNet\u001b[39;00m\n\u001b[1;32m     25\u001b[0m image \u001b[38;5;241m=\u001b[39m image \u001b[38;5;241m/\u001b[39m \u001b[38;5;241m255.0\u001b[39m  \u001b[38;5;66;03m# Normalize pixel values\u001b[39;00m\n\u001b[1;32m     26\u001b[0m \u001b[38;5;28;01mreturn\u001b[39;00m image\n",
      "\u001b[0;31merror\u001b[0m: OpenCV(4.10.0) /io/opencv/modules/imgproc/src/resize.cpp:4152: error: (-215:Assertion failed) !ssize.empty() in function 'resize'\n"
     ]
    }
   ],
   "source": [
    "import pandas as pd\n",
    "import pytesseract\n",
    "import cv2\n",
    "from tensorflow.keras.applications import EfficientNetB0\n",
    "from sklearn.model_selection import train_test_split\n",
    "from sklearn.linear_model import LinearRegression\n",
    "import os\n",
    "import re\n",
    "from utils import download_images\n",
    "from constants import entity_unit_map, allowed_units\n",
    "\n",
    "# Step 1: Downloading Images\n",
    "def download_all_images(train_csv, download_folder):\n",
    "    \"\"\"Downloads all images listed in the CSV to a specific folder.\"\"\"\n",
    "    train_df = pd.read_csv(train_csv)\n",
    "    image_links = train_df['image_link'].tolist()\n",
    "    download_images(image_links, download_folder)\n",
    "    return train_df\n",
    "\n",
    "# Step 2: Preprocessing the Images\n",
    "def preprocess_image(image_path):\n",
    "    \"\"\"Load and preprocess image for input into the CNN model.\"\"\"\n",
    "    image = cv2.imread(image_path)\n",
    "    image = cv2.resize(image, (224, 224))  # Resize to input size of EfficientNet\n",
    "    image = image / 255.0  # Normalize pixel values\n",
    "    return image\n",
    "\n",
    "# Step 3: OCR Text Extraction\n",
    "def extract_text_from_image(image_path):\n",
    "    \"\"\"Use OCR to extract text from images.\"\"\"\n",
    "    image = cv2.imread(image_path)\n",
    "    text = pytesseract.image_to_string(image)\n",
    "    return text\n",
    "\n",
    "def extract_entity_value(text):\n",
    "    \"\"\"Extract numeric entity values and units using regex.\"\"\"\n",
    "    pattern = re.compile(r'(\\d+(?:\\.\\d+)?)\\s*([a-zA-Z]+)')\n",
    "    matches = pattern.findall(text)\n",
    "    \n",
    "    if matches:\n",
    "        value, unit = matches[0]\n",
    "        # Validate the unit against the allowed units\n",
    "        if unit.lower() in allowed_units:\n",
    "            return value, unit.lower()  # Return the value and unit in lowercase\n",
    "    return None, None\n",
    "\n",
    "# Step 4: CNN Feature Extraction\n",
    "def extract_image_features(image_path):\n",
    "    \"\"\"Extract CNN features from the image.\"\"\"\n",
    "    cnn_model = EfficientNetB0(weights='imagenet', include_top=False, pooling='avg')\n",
    "    image = preprocess_image(image_path)\n",
    "    image = image.reshape((1, 224, 224, 3))\n",
    "    features = cnn_model.predict(image)\n",
    "    return features\n",
    "\n",
    "# Step 5: Train a Regression Model (for Numeric Predictions)\n",
    "def train_model(train_df, download_folder):\n",
    "    \"\"\"Train a regression model using extracted features from images and text.\"\"\"\n",
    "    X_train = []\n",
    "    y_train = []\n",
    "\n",
    "    for idx, row in train_df.iterrows():\n",
    "        image_path = os.path.join(download_folder, os.path.basename(row['image_link']))\n",
    "        \n",
    "        # Extract features using CNN\n",
    "        image_features = extract_image_features(image_path)\n",
    "        \n",
    "        # Extract text using OCR\n",
    "        text = extract_text_from_image(image_path)\n",
    "        \n",
    "        # Extract entity value from the text\n",
    "        value, unit = extract_entity_value(text)\n",
    "        \n",
    "        if value and unit:\n",
    "            # Combine CNN features and OCR features\n",
    "            combined_features = list(image_features[0]) + [float(value)]\n",
    "            X_train.append(combined_features)\n",
    "            y_train.append(float(row['entity_value'].split()[0]))  # Extract ground truth value\n",
    "    \n",
    "    # Train a simple regression model\n",
    "    X_train = pd.DataFrame(X_train)\n",
    "    reg_model = LinearRegression()\n",
    "    reg_model.fit(X_train, y_train)\n",
    "    return reg_model\n",
    "\n",
    "# Step 6: Predict and Generate Output\n",
    "def predict_and_generate_output(test_csv, reg_model, download_folder):\n",
    "    \"\"\"Generate predictions and save to CSV in the correct format.\"\"\"\n",
    "    test_df = pd.read_csv(test_csv)\n",
    "    X_test = []\n",
    "    test_indices = []\n",
    "    predicted_units = []\n",
    "\n",
    "    for idx, row in test_df.iterrows():\n",
    "        image_path = os.path.join(download_folder, os.path.basename(row['image_link']))\n",
    "        \n",
    "        # Extract features using CNN\n",
    "        image_features = extract_image_features(image_path)\n",
    "        \n",
    "        # Extract text using OCR\n",
    "        text = extract_text_from_image(image_path)\n",
    "        \n",
    "        # Extract entity value from the text\n",
    "        value, unit = extract_entity_value(text)\n",
    "        \n",
    "        if value and unit:\n",
    "            # Combine CNN features and OCR features\n",
    "            combined_features = list(image_features[0]) + [float(value)]\n",
    "            X_test.append(combined_features)\n",
    "            test_indices.append(row['index'])\n",
    "            predicted_units.append(unit)\n",
    "    \n",
    "    X_test = pd.DataFrame(X_test)\n",
    "    predictions = reg_model.predict(X_test)\n",
    "\n",
    "    # Format the predictions\n",
    "    output = pd.DataFrame({\n",
    "        'index': test_indices, \n",
    "        'prediction': [f\"{pred:.2f} {unit}\" for pred, unit in zip(predictions, predicted_units)]\n",
    "    })\n",
    "    \n",
    "    output.to_csv('test_out.csv', index=False)\n",
    "    print(\"Predictions saved to test_out.csv\")\n",
    "\n",
    "# Step 7: Main Function to Run the Entire Process\n",
    "def main():\n",
    "    # Define paths\n",
    "    train_csv = '/home/rguktrkvalley/Desktop/train1.csv'\n",
    "    test_csv = '/home/rguktrkvalley/Desktop/sample_test.csv'\n",
    "    download_folder = '/home/rguktrkvalley/Desktop/downloaded_images'\n",
    "    \n",
    "    # Step 1: Download images\n",
    "    train_df = download_all_images(train_csv, download_folder)\n",
    "\n",
    "    # Step 2: Train the model\n",
    "    reg_model = train_model(train_df, download_folder)\n",
    "\n",
    "    # Step 3: Generate predictions for the test set\n",
    "    predict_and_generate_output(test_csv, reg_model, download_folder)\n",
    "\n",
    "# Run the pipeline\n",
    "if __name__ == '__main__':\n",
    "    main()\n"
   ]
  },
  {
   "cell_type": "code",
   "execution_count": null,
   "id": "d6aebb07-5ae0-4856-9d36-c70370390417",
   "metadata": {},
   "outputs": [],
   "source": []
  },
  {
   "cell_type": "code",
   "execution_count": null,
   "id": "dc29779d-6281-476c-a4c0-9fd9f121e62c",
   "metadata": {},
   "outputs": [],
   "source": []
  },
  {
   "cell_type": "code",
   "execution_count": null,
   "id": "7c8f0dbf-fa2c-4495-8d6f-a848abf83f40",
   "metadata": {},
   "outputs": [],
   "source": []
  },
  {
   "cell_type": "code",
   "execution_count": 16,
   "id": "365424a9-e25c-44b7-a7ab-26c64bce6db3",
   "metadata": {},
   "outputs": [
    {
     "name": "stderr",
     "output_type": "stream",
     "text": [
      "100%|█████████████████████████████████████████| 99/99 [00:00<00:00, 4242.64it/s]\n"
     ]
    },
    {
     "name": "stdout",
     "output_type": "stream",
     "text": [
      "1/1 [==============================] - 2s 2s/step\n"
     ]
    },
    {
     "name": "stderr",
     "output_type": "stream",
     "text": [
      "2024-09-16 00:15:27,160 - WARNING - Skipping image /home/rguktrkvalley/Desktop/downloaded_images/61I9XdN6OFL.jpg due to text extraction failure.\n",
      "Premature end of JPEG file\n"
     ]
    },
    {
     "name": "stdout",
     "output_type": "stream",
     "text": [
      "1/1 [==============================] - 0s 116ms/step\n"
     ]
    },
    {
     "name": "stderr",
     "output_type": "stream",
     "text": [
      "2024-09-16 00:15:27,429 - WARNING - Error performing OCR on image /home/rguktrkvalley/Desktop/downloaded_images/71gSRbyXmoL.jpg: image file is truncated (3 bytes not processed)\n",
      "2024-09-16 00:15:27,431 - WARNING - Skipping image /home/rguktrkvalley/Desktop/downloaded_images/71gSRbyXmoL.jpg due to text extraction failure.\n"
     ]
    },
    {
     "name": "stdout",
     "output_type": "stream",
     "text": [
      "1/1 [==============================] - 0s 99ms/step\n"
     ]
    },
    {
     "name": "stderr",
     "output_type": "stream",
     "text": [
      "2024-09-16 00:15:29,041 - WARNING - Skipping image /home/rguktrkvalley/Desktop/downloaded_images/61BZ4zrjZXL.jpg due to text extraction failure.\n"
     ]
    },
    {
     "name": "stdout",
     "output_type": "stream",
     "text": [
      "1/1 [==============================] - 0s 134ms/step\n"
     ]
    },
    {
     "name": "stderr",
     "output_type": "stream",
     "text": [
      "2024-09-16 00:15:29,733 - WARNING - Skipping image /home/rguktrkvalley/Desktop/downloaded_images/612mrlqiI4L.jpg due to text extraction failure.\n"
     ]
    },
    {
     "name": "stdout",
     "output_type": "stream",
     "text": [
      "1/1 [==============================] - 0s 98ms/step\n"
     ]
    },
    {
     "name": "stderr",
     "output_type": "stream",
     "text": [
      "2024-09-16 00:15:30,558 - WARNING - Skipping image /home/rguktrkvalley/Desktop/downloaded_images/617Tl40LOXL.jpg due to text extraction failure.\n"
     ]
    },
    {
     "name": "stdout",
     "output_type": "stream",
     "text": [
      "1/1 [==============================] - 0s 93ms/step\n"
     ]
    },
    {
     "name": "stderr",
     "output_type": "stream",
     "text": [
      "Premature end of JPEG file\n",
      "2024-09-16 00:15:30,771 - WARNING - Error performing OCR on image /home/rguktrkvalley/Desktop/downloaded_images/61QsBSE7jgL.jpg: image file is truncated (5 bytes not processed)\n",
      "2024-09-16 00:15:30,773 - WARNING - Skipping image /home/rguktrkvalley/Desktop/downloaded_images/61QsBSE7jgL.jpg due to text extraction failure.\n"
     ]
    },
    {
     "name": "stdout",
     "output_type": "stream",
     "text": [
      "1/1 [==============================] - 0s 113ms/step\n"
     ]
    },
    {
     "name": "stderr",
     "output_type": "stream",
     "text": [
      "2024-09-16 00:15:34,177 - WARNING - Skipping image /home/rguktrkvalley/Desktop/downloaded_images/81xsq6vf2qL.jpg due to text extraction failure.\n"
     ]
    },
    {
     "name": "stdout",
     "output_type": "stream",
     "text": [
      "1/1 [==============================] - 0s 94ms/step\n"
     ]
    },
    {
     "name": "stderr",
     "output_type": "stream",
     "text": [
      "2024-09-16 00:15:35,249 - WARNING - Skipping image /home/rguktrkvalley/Desktop/downloaded_images/71DiLRHeZdL.jpg due to text extraction failure.\n",
      "Premature end of JPEG file\n"
     ]
    },
    {
     "name": "stdout",
     "output_type": "stream",
     "text": [
      "1/1 [==============================] - 0s 110ms/step\n"
     ]
    },
    {
     "name": "stderr",
     "output_type": "stream",
     "text": [
      "2024-09-16 00:15:35,596 - WARNING - Error performing OCR on image /home/rguktrkvalley/Desktop/downloaded_images/91Cma3RzseL.jpg: image file is truncated (4 bytes not processed)\n",
      "2024-09-16 00:15:35,599 - WARNING - Skipping image /home/rguktrkvalley/Desktop/downloaded_images/91Cma3RzseL.jpg due to text extraction failure.\n"
     ]
    },
    {
     "name": "stdout",
     "output_type": "stream",
     "text": [
      "1/1 [==============================] - 0s 98ms/step\n"
     ]
    },
    {
     "name": "stderr",
     "output_type": "stream",
     "text": [
      "2024-09-16 00:15:36,767 - WARNING - Skipping image /home/rguktrkvalley/Desktop/downloaded_images/71jBLhmTNlL.jpg due to text extraction failure.\n"
     ]
    },
    {
     "name": "stdout",
     "output_type": "stream",
     "text": [
      "1/1 [==============================] - 0s 104ms/step\n"
     ]
    },
    {
     "name": "stderr",
     "output_type": "stream",
     "text": [
      "2024-09-16 00:15:38,259 - WARNING - Skipping image /home/rguktrkvalley/Desktop/downloaded_images/81N73b5khVL.jpg due to text extraction failure.\n"
     ]
    },
    {
     "name": "stdout",
     "output_type": "stream",
     "text": [
      "1/1 [==============================] - 0s 138ms/step\n"
     ]
    },
    {
     "name": "stderr",
     "output_type": "stream",
     "text": [
      "2024-09-16 00:15:39,050 - WARNING - Skipping image /home/rguktrkvalley/Desktop/downloaded_images/61oMj2iXOuL.jpg due to text extraction failure.\n",
      "Premature end of JPEG file\n"
     ]
    },
    {
     "name": "stdout",
     "output_type": "stream",
     "text": [
      "1/1 [==============================] - 0s 111ms/step\n"
     ]
    },
    {
     "name": "stderr",
     "output_type": "stream",
     "text": [
      "2024-09-16 00:15:39,328 - WARNING - Error performing OCR on image /home/rguktrkvalley/Desktop/downloaded_images/91LPf6OjV9L.jpg: image file is truncated (2 bytes not processed)\n",
      "2024-09-16 00:15:39,332 - WARNING - Skipping image /home/rguktrkvalley/Desktop/downloaded_images/91LPf6OjV9L.jpg due to text extraction failure.\n",
      "Premature end of JPEG file\n"
     ]
    },
    {
     "name": "stdout",
     "output_type": "stream",
     "text": [
      "1/1 [==============================] - 0s 110ms/step\n"
     ]
    },
    {
     "name": "stderr",
     "output_type": "stream",
     "text": [
      "2024-09-16 00:15:39,643 - WARNING - Error performing OCR on image /home/rguktrkvalley/Desktop/downloaded_images/81fOxWWWKYL.jpg: image file is truncated (0 bytes not processed)\n",
      "2024-09-16 00:15:39,646 - WARNING - Skipping image /home/rguktrkvalley/Desktop/downloaded_images/81fOxWWWKYL.jpg due to text extraction failure.\n",
      "Premature end of JPEG file\n"
     ]
    },
    {
     "name": "stdout",
     "output_type": "stream",
     "text": [
      "1/1 [==============================] - 0s 128ms/step\n"
     ]
    },
    {
     "name": "stderr",
     "output_type": "stream",
     "text": [
      "2024-09-16 00:15:40,016 - WARNING - Error performing OCR on image /home/rguktrkvalley/Desktop/downloaded_images/81dzao1Ob4L.jpg: image file is truncated (5 bytes not processed)\n",
      "2024-09-16 00:15:40,018 - WARNING - Skipping image /home/rguktrkvalley/Desktop/downloaded_images/81dzao1Ob4L.jpg due to text extraction failure.\n",
      "Premature end of JPEG file\n"
     ]
    },
    {
     "name": "stdout",
     "output_type": "stream",
     "text": [
      "1/1 [==============================] - 0s 104ms/step\n"
     ]
    },
    {
     "name": "stderr",
     "output_type": "stream",
     "text": [
      "2024-09-16 00:15:40,362 - WARNING - Error performing OCR on image /home/rguktrkvalley/Desktop/downloaded_images/91-iahVGEDL.jpg: image file is truncated (3 bytes not processed)\n",
      "2024-09-16 00:15:40,365 - WARNING - Skipping image /home/rguktrkvalley/Desktop/downloaded_images/91-iahVGEDL.jpg due to text extraction failure.\n"
     ]
    },
    {
     "name": "stdout",
     "output_type": "stream",
     "text": [
      "1/1 [==============================] - 0s 87ms/step\n"
     ]
    },
    {
     "name": "stderr",
     "output_type": "stream",
     "text": [
      "2024-09-16 00:15:41,310 - WARNING - Skipping image /home/rguktrkvalley/Desktop/downloaded_images/81S2+GnYpTL.jpg due to text extraction failure.\n"
     ]
    },
    {
     "name": "stdout",
     "output_type": "stream",
     "text": [
      "1/1 [==============================] - 0s 92ms/step\n"
     ]
    },
    {
     "name": "stderr",
     "output_type": "stream",
     "text": [
      "Premature end of JPEG file\n",
      "2024-09-16 00:15:41,523 - WARNING - Error performing OCR on image /home/rguktrkvalley/Desktop/downloaded_images/81e2YtCOKvL.jpg: image file is truncated (16 bytes not processed)\n",
      "2024-09-16 00:15:41,525 - WARNING - Skipping image /home/rguktrkvalley/Desktop/downloaded_images/81e2YtCOKvL.jpg due to text extraction failure.\n",
      "Premature end of JPEG file\n"
     ]
    },
    {
     "name": "stdout",
     "output_type": "stream",
     "text": [
      "1/1 [==============================] - 0s 91ms/step\n"
     ]
    },
    {
     "name": "stderr",
     "output_type": "stream",
     "text": [
      "2024-09-16 00:15:41,746 - WARNING - Error performing OCR on image /home/rguktrkvalley/Desktop/downloaded_images/81RNsNEM1EL.jpg: image file is truncated (66 bytes not processed)\n",
      "2024-09-16 00:15:41,748 - WARNING - Skipping image /home/rguktrkvalley/Desktop/downloaded_images/81RNsNEM1EL.jpg due to text extraction failure.\n"
     ]
    },
    {
     "name": "stdout",
     "output_type": "stream",
     "text": [
      "1/1 [==============================] - 0s 101ms/step\n"
     ]
    },
    {
     "name": "stderr",
     "output_type": "stream",
     "text": [
      "2024-09-16 00:15:43,605 - WARNING - Skipping image /home/rguktrkvalley/Desktop/downloaded_images/91prZeizZnL.jpg due to text extraction failure.\n"
     ]
    },
    {
     "name": "stdout",
     "output_type": "stream",
     "text": [
      "1/1 [==============================] - 0s 139ms/step\n"
     ]
    },
    {
     "name": "stderr",
     "output_type": "stream",
     "text": [
      "2024-09-16 00:15:44,169 - WARNING - Skipping image /home/rguktrkvalley/Desktop/downloaded_images/31EvJszFVfL.jpg due to text extraction failure.\n"
     ]
    },
    {
     "name": "stdout",
     "output_type": "stream",
     "text": [
      "1/1 [==============================] - ETA: 0s"
     ]
    },
    {
     "name": "stderr",
     "output_type": "stream",
     "text": [
      "Premature end of JPEG file\n"
     ]
    },
    {
     "name": "stdout",
     "output_type": "stream",
     "text": [
      "1/1 [==============================] - 0s 91ms/step\n"
     ]
    },
    {
     "name": "stderr",
     "output_type": "stream",
     "text": [
      "2024-09-16 00:15:44,387 - WARNING - Error performing OCR on image /home/rguktrkvalley/Desktop/downloaded_images/61wzlucTREL.jpg: image file is truncated (6 bytes not processed)\n",
      "2024-09-16 00:15:44,388 - WARNING - Skipping image /home/rguktrkvalley/Desktop/downloaded_images/61wzlucTREL.jpg due to text extraction failure.\n"
     ]
    },
    {
     "name": "stdout",
     "output_type": "stream",
     "text": [
      "1/1 [==============================] - 0s 90ms/step\n"
     ]
    },
    {
     "name": "stderr",
     "output_type": "stream",
     "text": [
      "2024-09-16 00:15:45,322 - WARNING - Skipping image /home/rguktrkvalley/Desktop/downloaded_images/61sQ+qAKr4L.jpg due to text extraction failure.\n",
      "Premature end of JPEG file\n"
     ]
    },
    {
     "name": "stdout",
     "output_type": "stream",
     "text": [
      "1/1 [==============================] - 0s 145ms/step\n"
     ]
    },
    {
     "name": "stderr",
     "output_type": "stream",
     "text": [
      "2024-09-16 00:15:45,725 - WARNING - Error performing OCR on image /home/rguktrkvalley/Desktop/downloaded_images/81x77l2T5NL.jpg: image file is truncated (2 bytes not processed)\n",
      "2024-09-16 00:15:45,730 - WARNING - Skipping image /home/rguktrkvalley/Desktop/downloaded_images/81x77l2T5NL.jpg due to text extraction failure.\n",
      "Premature end of JPEG file\n"
     ]
    },
    {
     "name": "stdout",
     "output_type": "stream",
     "text": [
      "1/1 [==============================] - 0s 104ms/step\n"
     ]
    },
    {
     "name": "stderr",
     "output_type": "stream",
     "text": [
      "2024-09-16 00:15:45,972 - WARNING - Error performing OCR on image /home/rguktrkvalley/Desktop/downloaded_images/71nywfWZUwL.jpg: image file is truncated (2 bytes not processed)\n",
      "2024-09-16 00:15:45,974 - WARNING - Skipping image /home/rguktrkvalley/Desktop/downloaded_images/71nywfWZUwL.jpg due to text extraction failure.\n"
     ]
    },
    {
     "name": "stdout",
     "output_type": "stream",
     "text": [
      "1/1 [==============================] - 0s 87ms/step\n"
     ]
    },
    {
     "name": "stderr",
     "output_type": "stream",
     "text": [
      "Premature end of JPEG file\n",
      "2024-09-16 00:15:46,190 - WARNING - Error performing OCR on image /home/rguktrkvalley/Desktop/downloaded_images/71nywfWZUwL.jpg: image file is truncated (2 bytes not processed)\n",
      "2024-09-16 00:15:46,191 - WARNING - Skipping image /home/rguktrkvalley/Desktop/downloaded_images/71nywfWZUwL.jpg due to text extraction failure.\n"
     ]
    },
    {
     "name": "stdout",
     "output_type": "stream",
     "text": [
      "1/1 [==============================] - 0s 90ms/step\n"
     ]
    },
    {
     "name": "stderr",
     "output_type": "stream",
     "text": [
      "2024-09-16 00:15:47,093 - WARNING - Skipping image /home/rguktrkvalley/Desktop/downloaded_images/51WsuKKAVrL.jpg due to text extraction failure.\n"
     ]
    },
    {
     "name": "stdout",
     "output_type": "stream",
     "text": [
      "1/1 [==============================] - 0s 89ms/step\n"
     ]
    },
    {
     "name": "stderr",
     "output_type": "stream",
     "text": [
      "Premature end of JPEG file\n",
      "2024-09-16 00:15:47,356 - WARNING - Error performing OCR on image /home/rguktrkvalley/Desktop/downloaded_images/61XGDKap+JL.jpg: image file is truncated (1 bytes not processed)\n",
      "2024-09-16 00:15:47,358 - WARNING - Skipping image /home/rguktrkvalley/Desktop/downloaded_images/61XGDKap+JL.jpg due to text extraction failure.\n"
     ]
    },
    {
     "name": "stdout",
     "output_type": "stream",
     "text": [
      "1/1 [==============================] - 0s 87ms/step\n"
     ]
    },
    {
     "name": "stderr",
     "output_type": "stream",
     "text": [
      "Premature end of JPEG file\n",
      "2024-09-16 00:15:47,546 - WARNING - Error performing OCR on image /home/rguktrkvalley/Desktop/downloaded_images/715vVcWJxGL.jpg: image file is truncated (4 bytes not processed)\n",
      "2024-09-16 00:15:47,547 - WARNING - Skipping image /home/rguktrkvalley/Desktop/downloaded_images/715vVcWJxGL.jpg due to text extraction failure.\n"
     ]
    },
    {
     "name": "stdout",
     "output_type": "stream",
     "text": [
      "1/1 [==============================] - 0s 89ms/step\n"
     ]
    },
    {
     "name": "stderr",
     "output_type": "stream",
     "text": [
      "2024-09-16 00:15:49,166 - WARNING - Skipping image /home/rguktrkvalley/Desktop/downloaded_images/613v+2W4UwL.jpg due to text extraction failure.\n"
     ]
    },
    {
     "name": "stdout",
     "output_type": "stream",
     "text": [
      "1/1 [==============================] - 0s 147ms/step\n"
     ]
    },
    {
     "name": "stderr",
     "output_type": "stream",
     "text": [
      "2024-09-16 00:15:51,570 - WARNING - Skipping image /home/rguktrkvalley/Desktop/downloaded_images/71+fn9TWQmL.jpg due to text extraction failure.\n"
     ]
    },
    {
     "name": "stdout",
     "output_type": "stream",
     "text": [
      "1/1 [==============================] - 0s 138ms/step\n"
     ]
    },
    {
     "name": "stderr",
     "output_type": "stream",
     "text": [
      "2024-09-16 00:15:54,414 - WARNING - Skipping image /home/rguktrkvalley/Desktop/downloaded_images/71aKgRRQ2wL.jpg due to text extraction failure.\n",
      "Premature end of JPEG file\n"
     ]
    },
    {
     "name": "stdout",
     "output_type": "stream",
     "text": [
      "1/1 [==============================] - 0s 131ms/step\n"
     ]
    },
    {
     "name": "stderr",
     "output_type": "stream",
     "text": [
      "2024-09-16 00:15:54,719 - WARNING - Error performing OCR on image /home/rguktrkvalley/Desktop/downloaded_images/71rKXZJrh4L.jpg: image file is truncated (0 bytes not processed)\n",
      "2024-09-16 00:15:54,721 - WARNING - Skipping image /home/rguktrkvalley/Desktop/downloaded_images/71rKXZJrh4L.jpg due to text extraction failure.\n",
      "2024-09-16 00:15:54,726 - WARNING - Error processing image /home/rguktrkvalley/Desktop/downloaded_images/71D824lbRvL.jpg: Image at /home/rguktrkvalley/Desktop/downloaded_images/71D824lbRvL.jpg could not be loaded.\n",
      "2024-09-16 00:15:54,727 - WARNING - Skipping image /home/rguktrkvalley/Desktop/downloaded_images/71D824lbRvL.jpg due to feature extraction failure.\n",
      "Premature end of JPEG file\n"
     ]
    },
    {
     "name": "stdout",
     "output_type": "stream",
     "text": [
      "1/1 [==============================] - 0s 103ms/step\n"
     ]
    },
    {
     "name": "stderr",
     "output_type": "stream",
     "text": [
      "2024-09-16 00:15:54,960 - WARNING - Error performing OCR on image /home/rguktrkvalley/Desktop/downloaded_images/71004c9tzfL.jpg: image file is truncated (5 bytes not processed)\n",
      "2024-09-16 00:15:54,962 - WARNING - Skipping image /home/rguktrkvalley/Desktop/downloaded_images/71004c9tzfL.jpg due to text extraction failure.\n",
      "2024-09-16 00:15:54,966 - WARNING - Error processing image /home/rguktrkvalley/Desktop/downloaded_images/51bQPPtMqYL.jpg: Image at /home/rguktrkvalley/Desktop/downloaded_images/51bQPPtMqYL.jpg could not be loaded.\n",
      "2024-09-16 00:15:54,967 - WARNING - Skipping image /home/rguktrkvalley/Desktop/downloaded_images/51bQPPtMqYL.jpg due to feature extraction failure.\n",
      "Premature end of JPEG file\n"
     ]
    },
    {
     "name": "stdout",
     "output_type": "stream",
     "text": [
      "1/1 [==============================] - 0s 93ms/step\n"
     ]
    },
    {
     "name": "stderr",
     "output_type": "stream",
     "text": [
      "2024-09-16 00:15:55,185 - WARNING - Error performing OCR on image /home/rguktrkvalley/Desktop/downloaded_images/61o2ntPNNgL.jpg: image file is truncated (59 bytes not processed)\n",
      "2024-09-16 00:15:55,186 - WARNING - Skipping image /home/rguktrkvalley/Desktop/downloaded_images/61o2ntPNNgL.jpg due to text extraction failure.\n"
     ]
    },
    {
     "name": "stdout",
     "output_type": "stream",
     "text": [
      "1/1 [==============================] - 0s 91ms/step\n"
     ]
    },
    {
     "name": "stderr",
     "output_type": "stream",
     "text": [
      "Premature end of JPEG file\n",
      "2024-09-16 00:15:55,391 - WARNING - Error performing OCR on image /home/rguktrkvalley/Desktop/downloaded_images/61o2ntPNNgL.jpg: image file is truncated (59 bytes not processed)\n",
      "2024-09-16 00:15:55,393 - WARNING - Skipping image /home/rguktrkvalley/Desktop/downloaded_images/61o2ntPNNgL.jpg due to text extraction failure.\n"
     ]
    },
    {
     "name": "stdout",
     "output_type": "stream",
     "text": [
      "1/1 [==============================] - 0s 88ms/step\n"
     ]
    },
    {
     "name": "stderr",
     "output_type": "stream",
     "text": [
      "2024-09-16 00:15:57,252 - WARNING - Skipping image /home/rguktrkvalley/Desktop/downloaded_images/71IUuTJ8QwL.jpg due to text extraction failure.\n",
      "Premature end of JPEG file\n"
     ]
    },
    {
     "name": "stdout",
     "output_type": "stream",
     "text": [
      "1/1 [==============================] - 0s 137ms/step\n"
     ]
    },
    {
     "name": "stderr",
     "output_type": "stream",
     "text": [
      "2024-09-16 00:15:57,576 - WARNING - Error performing OCR on image /home/rguktrkvalley/Desktop/downloaded_images/915JHkwtcrL.jpg: image file is truncated (47 bytes not processed)\n",
      "2024-09-16 00:15:57,578 - WARNING - Skipping image /home/rguktrkvalley/Desktop/downloaded_images/915JHkwtcrL.jpg due to text extraction failure.\n",
      "Premature end of JPEG file\n"
     ]
    },
    {
     "name": "stdout",
     "output_type": "stream",
     "text": [
      "1/1 [==============================] - 0s 129ms/step\n"
     ]
    },
    {
     "name": "stderr",
     "output_type": "stream",
     "text": [
      "2024-09-16 00:15:57,855 - WARNING - Error performing OCR on image /home/rguktrkvalley/Desktop/downloaded_images/71cjrYndwIL.jpg: image file is truncated (0 bytes not processed)\n",
      "2024-09-16 00:15:57,856 - WARNING - Skipping image /home/rguktrkvalley/Desktop/downloaded_images/71cjrYndwIL.jpg due to text extraction failure.\n"
     ]
    },
    {
     "name": "stdout",
     "output_type": "stream",
     "text": [
      "1/1 [==============================] - 0s 114ms/step\n"
     ]
    },
    {
     "name": "stderr",
     "output_type": "stream",
     "text": [
      "2024-09-16 00:16:01,099 - WARNING - Skipping image /home/rguktrkvalley/Desktop/downloaded_images/81hnk2WXO3L.jpg due to text extraction failure.\n"
     ]
    },
    {
     "name": "stdout",
     "output_type": "stream",
     "text": [
      "1/1 [==============================] - 0s 143ms/step\n"
     ]
    },
    {
     "name": "stderr",
     "output_type": "stream",
     "text": [
      "2024-09-16 00:16:01,989 - WARNING - Skipping image /home/rguktrkvalley/Desktop/downloaded_images/61HXgujoxpL.jpg due to text extraction failure.\n"
     ]
    },
    {
     "name": "stdout",
     "output_type": "stream",
     "text": [
      "1/1 [==============================] - 0s 173ms/step\n"
     ]
    },
    {
     "name": "stderr",
     "output_type": "stream",
     "text": [
      "2024-09-16 00:16:03,119 - WARNING - Skipping image /home/rguktrkvalley/Desktop/downloaded_images/613G8GOyLSL.jpg due to text extraction failure.\n"
     ]
    },
    {
     "name": "stdout",
     "output_type": "stream",
     "text": [
      "1/1 [==============================] - 0s 90ms/step\n"
     ]
    },
    {
     "name": "stderr",
     "output_type": "stream",
     "text": [
      "Premature end of JPEG file\n",
      "2024-09-16 00:16:03,399 - WARNING - Error performing OCR on image /home/rguktrkvalley/Desktop/downloaded_images/71YyZ2iPyZL.jpg: image file is truncated (1 bytes not processed)\n",
      "2024-09-16 00:16:03,401 - WARNING - Skipping image /home/rguktrkvalley/Desktop/downloaded_images/71YyZ2iPyZL.jpg due to text extraction failure.\n",
      "Premature end of JPEG file\n"
     ]
    },
    {
     "name": "stdout",
     "output_type": "stream",
     "text": [
      "1/1 [==============================] - 0s 141ms/step\n"
     ]
    },
    {
     "name": "stderr",
     "output_type": "stream",
     "text": [
      "2024-09-16 00:16:03,740 - WARNING - Error performing OCR on image /home/rguktrkvalley/Desktop/downloaded_images/81K3JwUCnQL.jpg: image file is truncated (6 bytes not processed)\n",
      "2024-09-16 00:16:03,742 - WARNING - Skipping image /home/rguktrkvalley/Desktop/downloaded_images/81K3JwUCnQL.jpg due to text extraction failure.\n"
     ]
    },
    {
     "name": "stdout",
     "output_type": "stream",
     "text": [
      "1/1 [==============================] - 0s 100ms/step\n"
     ]
    },
    {
     "name": "stderr",
     "output_type": "stream",
     "text": [
      "2024-09-16 00:16:04,356 - WARNING - Skipping image /home/rguktrkvalley/Desktop/downloaded_images/41wvffSxB4L.jpg due to text extraction failure.\n",
      "Premature end of JPEG file\n"
     ]
    },
    {
     "name": "stdout",
     "output_type": "stream",
     "text": [
      "1/1 [==============================] - 0s 135ms/step\n"
     ]
    },
    {
     "name": "stderr",
     "output_type": "stream",
     "text": [
      "2024-09-16 00:16:04,629 - WARNING - Error performing OCR on image /home/rguktrkvalley/Desktop/downloaded_images/91cErO-KbLL.jpg: image file is truncated (0 bytes not processed)\n",
      "2024-09-16 00:16:04,630 - WARNING - Skipping image /home/rguktrkvalley/Desktop/downloaded_images/91cErO-KbLL.jpg due to text extraction failure.\n",
      "Premature end of JPEG file\n"
     ]
    },
    {
     "name": "stdout",
     "output_type": "stream",
     "text": [
      "1/1 [==============================] - 0s 143ms/step\n"
     ]
    },
    {
     "name": "stderr",
     "output_type": "stream",
     "text": [
      "2024-09-16 00:16:05,059 - WARNING - Error performing OCR on image /home/rguktrkvalley/Desktop/downloaded_images/817vo3DcCNL.jpg: image file is truncated (4 bytes not processed)\n",
      "2024-09-16 00:16:05,062 - WARNING - Skipping image /home/rguktrkvalley/Desktop/downloaded_images/817vo3DcCNL.jpg due to text extraction failure.\n"
     ]
    },
    {
     "name": "stdout",
     "output_type": "stream",
     "text": [
      "1/1 [==============================] - 0s 101ms/step\n"
     ]
    },
    {
     "name": "stderr",
     "output_type": "stream",
     "text": [
      "2024-09-16 00:16:05,772 - WARNING - Skipping image /home/rguktrkvalley/Desktop/downloaded_images/61AHQ35poHL.jpg due to text extraction failure.\n"
     ]
    },
    {
     "name": "stdout",
     "output_type": "stream",
     "text": [
      "1/1 [==============================] - 0s 107ms/step\n"
     ]
    },
    {
     "name": "stderr",
     "output_type": "stream",
     "text": [
      "2024-09-16 00:16:06,754 - WARNING - Skipping image /home/rguktrkvalley/Desktop/downloaded_images/61WFh8RCQYL.jpg due to text extraction failure.\n"
     ]
    },
    {
     "name": "stdout",
     "output_type": "stream",
     "text": [
      "1/1 [==============================] - 0s 105ms/step\n"
     ]
    },
    {
     "name": "stderr",
     "output_type": "stream",
     "text": [
      "2024-09-16 00:16:08,124 - WARNING - Skipping image /home/rguktrkvalley/Desktop/downloaded_images/711SATIDrmL.jpg due to text extraction failure.\n"
     ]
    },
    {
     "name": "stdout",
     "output_type": "stream",
     "text": [
      "1/1 [==============================] - 0s 99ms/step\n"
     ]
    },
    {
     "name": "stderr",
     "output_type": "stream",
     "text": [
      "Premature end of JPEG file\n",
      "2024-09-16 00:16:08,338 - WARNING - Error performing OCR on image /home/rguktrkvalley/Desktop/downloaded_images/61x6RSjwQIL.jpg: image file is truncated (6 bytes not processed)\n",
      "2024-09-16 00:16:08,339 - WARNING - Skipping image /home/rguktrkvalley/Desktop/downloaded_images/61x6RSjwQIL.jpg due to text extraction failure.\n"
     ]
    },
    {
     "name": "stdout",
     "output_type": "stream",
     "text": [
      "1/1 [==============================] - 0s 87ms/step\n"
     ]
    },
    {
     "name": "stderr",
     "output_type": "stream",
     "text": [
      "Premature end of JPEG file\n",
      "2024-09-16 00:16:08,546 - WARNING - Error performing OCR on image /home/rguktrkvalley/Desktop/downloaded_images/613BeFNwHcL.jpg: image file is truncated (2 bytes not processed)\n",
      "2024-09-16 00:16:08,548 - WARNING - Skipping image /home/rguktrkvalley/Desktop/downloaded_images/613BeFNwHcL.jpg due to text extraction failure.\n",
      "2024-09-16 00:16:08,551 - WARNING - Error processing image /home/rguktrkvalley/Desktop/downloaded_images/61hWZdkq6WL.jpg: Image at /home/rguktrkvalley/Desktop/downloaded_images/61hWZdkq6WL.jpg could not be loaded.\n",
      "2024-09-16 00:16:08,553 - WARNING - Skipping image /home/rguktrkvalley/Desktop/downloaded_images/61hWZdkq6WL.jpg due to feature extraction failure.\n",
      "2024-09-16 00:16:08,555 - WARNING - Error processing image /home/rguktrkvalley/Desktop/downloaded_images/71E7CU55dcL.jpg: Image at /home/rguktrkvalley/Desktop/downloaded_images/71E7CU55dcL.jpg could not be loaded.\n",
      "2024-09-16 00:16:08,556 - WARNING - Skipping image /home/rguktrkvalley/Desktop/downloaded_images/71E7CU55dcL.jpg due to feature extraction failure.\n"
     ]
    },
    {
     "name": "stdout",
     "output_type": "stream",
     "text": [
      "1/1 [==============================] - 0s 91ms/step\n"
     ]
    },
    {
     "name": "stderr",
     "output_type": "stream",
     "text": [
      "2024-09-16 00:16:09,381 - WARNING - Skipping image /home/rguktrkvalley/Desktop/downloaded_images/61c+hSNnnZL.jpg due to text extraction failure.\n"
     ]
    },
    {
     "name": "stdout",
     "output_type": "stream",
     "text": [
      "1/1 [==============================] - 0s 91ms/step\n"
     ]
    },
    {
     "name": "stderr",
     "output_type": "stream",
     "text": [
      "Premature end of JPEG file\n",
      "2024-09-16 00:16:09,608 - WARNING - Error performing OCR on image /home/rguktrkvalley/Desktop/downloaded_images/915w0BdW-gL.jpg: image file is truncated (4 bytes not processed)\n",
      "2024-09-16 00:16:09,610 - WARNING - Skipping image /home/rguktrkvalley/Desktop/downloaded_images/915w0BdW-gL.jpg due to text extraction failure.\n"
     ]
    },
    {
     "name": "stdout",
     "output_type": "stream",
     "text": [
      "1/1 [==============================] - 0s 93ms/step\n"
     ]
    },
    {
     "name": "stderr",
     "output_type": "stream",
     "text": [
      "Premature end of JPEG file\n",
      "2024-09-16 00:16:09,829 - WARNING - Error performing OCR on image /home/rguktrkvalley/Desktop/downloaded_images/61sx0ezNNLL.jpg: image file is truncated (4 bytes not processed)\n",
      "2024-09-16 00:16:09,831 - WARNING - Skipping image /home/rguktrkvalley/Desktop/downloaded_images/61sx0ezNNLL.jpg due to text extraction failure.\n"
     ]
    },
    {
     "name": "stdout",
     "output_type": "stream",
     "text": [
      "1/1 [==============================] - 0s 95ms/step\n"
     ]
    },
    {
     "name": "stderr",
     "output_type": "stream",
     "text": [
      "2024-09-16 00:16:11,140 - WARNING - Skipping image /home/rguktrkvalley/Desktop/downloaded_images/71ldprwbKrL.jpg due to text extraction failure.\n"
     ]
    },
    {
     "name": "stdout",
     "output_type": "stream",
     "text": [
      "1/1 [==============================] - 0s 93ms/step\n"
     ]
    },
    {
     "name": "stderr",
     "output_type": "stream",
     "text": [
      "2024-09-16 00:16:12,731 - WARNING - Skipping image /home/rguktrkvalley/Desktop/downloaded_images/71E9iF-bmKL.jpg due to text extraction failure.\n",
      "Premature end of JPEG file\n"
     ]
    },
    {
     "name": "stdout",
     "output_type": "stream",
     "text": [
      "1/1 [==============================] - 0s 94ms/step\n"
     ]
    },
    {
     "name": "stderr",
     "output_type": "stream",
     "text": [
      "2024-09-16 00:16:12,954 - WARNING - Error performing OCR on image /home/rguktrkvalley/Desktop/downloaded_images/71sWRp1SNwL.jpg: image file is truncated (3 bytes not processed)\n",
      "2024-09-16 00:16:12,958 - WARNING - Skipping image /home/rguktrkvalley/Desktop/downloaded_images/71sWRp1SNwL.jpg due to text extraction failure.\n"
     ]
    },
    {
     "name": "stdout",
     "output_type": "stream",
     "text": [
      "1/1 [==============================] - 0s 87ms/step\n"
     ]
    },
    {
     "name": "stderr",
     "output_type": "stream",
     "text": [
      "2024-09-16 00:16:13,714 - WARNING - Skipping image /home/rguktrkvalley/Desktop/downloaded_images/61Fwq4GeTmL.jpg due to text extraction failure.\n"
     ]
    },
    {
     "name": "stdout",
     "output_type": "stream",
     "text": [
      "1/1 [==============================] - 0s 93ms/step\n"
     ]
    },
    {
     "name": "stderr",
     "output_type": "stream",
     "text": [
      "2024-09-16 00:16:14,835 - WARNING - Skipping image /home/rguktrkvalley/Desktop/downloaded_images/61-oj+N+BxL.jpg due to text extraction failure.\n"
     ]
    },
    {
     "name": "stdout",
     "output_type": "stream",
     "text": [
      "1/1 [==============================] - 0s 90ms/step\n"
     ]
    },
    {
     "name": "stderr",
     "output_type": "stream",
     "text": [
      "2024-09-16 00:16:15,702 - WARNING - Skipping image /home/rguktrkvalley/Desktop/downloaded_images/71e6kJLE+LL.jpg due to text extraction failure.\n"
     ]
    },
    {
     "name": "stdout",
     "output_type": "stream",
     "text": [
      "1/1 [==============================] - 0s 90ms/step\n"
     ]
    },
    {
     "name": "stderr",
     "output_type": "stream",
     "text": [
      "2024-09-16 00:16:16,998 - WARNING - Skipping image /home/rguktrkvalley/Desktop/downloaded_images/71SuzaRS7gL.jpg due to text extraction failure.\n"
     ]
    },
    {
     "name": "stdout",
     "output_type": "stream",
     "text": [
      "1/1 [==============================] - 0s 97ms/step\n"
     ]
    },
    {
     "name": "stderr",
     "output_type": "stream",
     "text": [
      "2024-09-16 00:16:17,779 - WARNING - Skipping image /home/rguktrkvalley/Desktop/downloaded_images/71nsfFCXF0L.jpg due to text extraction failure.\n"
     ]
    },
    {
     "name": "stdout",
     "output_type": "stream",
     "text": [
      "1/1 [==============================] - 0s 93ms/step\n"
     ]
    },
    {
     "name": "stderr",
     "output_type": "stream",
     "text": [
      "2024-09-16 00:16:19,442 - WARNING - Skipping image /home/rguktrkvalley/Desktop/downloaded_images/71hgN7yu9OL.jpg due to text extraction failure.\n"
     ]
    },
    {
     "name": "stdout",
     "output_type": "stream",
     "text": [
      "1/1 [==============================] - 0s 145ms/step\n"
     ]
    },
    {
     "name": "stderr",
     "output_type": "stream",
     "text": [
      "2024-09-16 00:16:20,343 - WARNING - Skipping image /home/rguktrkvalley/Desktop/downloaded_images/61SmT8pkLtL.jpg due to text extraction failure.\n"
     ]
    },
    {
     "name": "stdout",
     "output_type": "stream",
     "text": [
      "1/1 [==============================] - 0s 88ms/step\n"
     ]
    },
    {
     "name": "stderr",
     "output_type": "stream",
     "text": [
      "Premature end of JPEG file\n",
      "2024-09-16 00:16:20,570 - WARNING - Error performing OCR on image /home/rguktrkvalley/Desktop/downloaded_images/71ZtDgGX+iL.jpg: image file is truncated (3 bytes not processed)\n",
      "2024-09-16 00:16:20,572 - WARNING - Skipping image /home/rguktrkvalley/Desktop/downloaded_images/71ZtDgGX+iL.jpg due to text extraction failure.\n"
     ]
    },
    {
     "name": "stdout",
     "output_type": "stream",
     "text": [
      "1/1 [==============================] - 0s 108ms/step\n"
     ]
    },
    {
     "name": "stderr",
     "output_type": "stream",
     "text": [
      "2024-09-16 00:16:21,335 - WARNING - Skipping image /home/rguktrkvalley/Desktop/downloaded_images/413FQB0ZMLL.jpg due to text extraction failure.\n"
     ]
    },
    {
     "name": "stdout",
     "output_type": "stream",
     "text": [
      "1/1 [==============================] - 0s 158ms/step\n"
     ]
    },
    {
     "name": "stderr",
     "output_type": "stream",
     "text": [
      "2024-09-16 00:16:22,156 - WARNING - Skipping image /home/rguktrkvalley/Desktop/downloaded_images/41EjbFu-+yL.jpg due to text extraction failure.\n",
      "Premature end of JPEG file\n"
     ]
    },
    {
     "name": "stdout",
     "output_type": "stream",
     "text": [
      "1/1 [==============================] - 0s 159ms/step\n"
     ]
    },
    {
     "name": "stderr",
     "output_type": "stream",
     "text": [
      "2024-09-16 00:16:22,523 - WARNING - Error performing OCR on image /home/rguktrkvalley/Desktop/downloaded_images/71dWDwMhWmS.jpg: image file is truncated (5 bytes not processed)\n",
      "2024-09-16 00:16:22,525 - WARNING - Skipping image /home/rguktrkvalley/Desktop/downloaded_images/71dWDwMhWmS.jpg due to text extraction failure.\n"
     ]
    },
    {
     "name": "stdout",
     "output_type": "stream",
     "text": [
      "1/1 [==============================] - 0s 134ms/step\n"
     ]
    },
    {
     "name": "stderr",
     "output_type": "stream",
     "text": [
      "2024-09-16 00:16:26,892 - WARNING - Skipping image /home/rguktrkvalley/Desktop/downloaded_images/61d6Kj80QSL.jpg due to text extraction failure.\n",
      "2024-09-16 00:16:26,896 - WARNING - Error processing image /home/rguktrkvalley/Desktop/downloaded_images/71bvOuz9w1L.jpg: Image at /home/rguktrkvalley/Desktop/downloaded_images/71bvOuz9w1L.jpg could not be loaded.\n",
      "2024-09-16 00:16:26,901 - WARNING - Skipping image /home/rguktrkvalley/Desktop/downloaded_images/71bvOuz9w1L.jpg due to feature extraction failure.\n",
      "Premature end of JPEG file\n"
     ]
    },
    {
     "name": "stdout",
     "output_type": "stream",
     "text": [
      "1/1 [==============================] - 0s 131ms/step\n"
     ]
    },
    {
     "name": "stderr",
     "output_type": "stream",
     "text": [
      "2024-09-16 00:16:27,275 - WARNING - Error performing OCR on image /home/rguktrkvalley/Desktop/downloaded_images/71l0M0tMGjL.jpg: image file is truncated (3 bytes not processed)\n",
      "2024-09-16 00:16:27,276 - WARNING - Skipping image /home/rguktrkvalley/Desktop/downloaded_images/71l0M0tMGjL.jpg due to text extraction failure.\n"
     ]
    },
    {
     "name": "stdout",
     "output_type": "stream",
     "text": [
      "1/1 [==============================] - 0s 154ms/step\n"
     ]
    },
    {
     "name": "stderr",
     "output_type": "stream",
     "text": [
      "2024-09-16 00:16:33,248 - WARNING - Skipping image /home/rguktrkvalley/Desktop/downloaded_images/71Lpqdrpi4L.jpg due to text extraction failure.\n"
     ]
    },
    {
     "name": "stdout",
     "output_type": "stream",
     "text": [
      "1/1 [==============================] - 0s 128ms/step\n"
     ]
    },
    {
     "name": "stderr",
     "output_type": "stream",
     "text": [
      "2024-09-16 00:16:37,778 - WARNING - Skipping image /home/rguktrkvalley/Desktop/downloaded_images/71jLIbCcwOL.jpg due to text extraction failure.\n",
      "Premature end of JPEG file\n"
     ]
    },
    {
     "name": "stdout",
     "output_type": "stream",
     "text": [
      "1/1 [==============================] - 0s 131ms/step\n"
     ]
    },
    {
     "name": "stderr",
     "output_type": "stream",
     "text": [
      "2024-09-16 00:16:38,066 - WARNING - Error performing OCR on image /home/rguktrkvalley/Desktop/downloaded_images/718EdwGgyVL.jpg: image file is truncated (1 bytes not processed)\n",
      "2024-09-16 00:16:38,067 - WARNING - Skipping image /home/rguktrkvalley/Desktop/downloaded_images/718EdwGgyVL.jpg due to text extraction failure.\n"
     ]
    },
    {
     "name": "stdout",
     "output_type": "stream",
     "text": [
      "1/1 [==============================] - 0s 88ms/step\n"
     ]
    },
    {
     "name": "stderr",
     "output_type": "stream",
     "text": [
      "2024-09-16 00:16:38,846 - WARNING - Skipping image /home/rguktrkvalley/Desktop/downloaded_images/713twQgCHSL.jpg due to text extraction failure.\n",
      "Premature end of JPEG file\n"
     ]
    },
    {
     "name": "stdout",
     "output_type": "stream",
     "text": [
      "1/1 [==============================] - 0s 142ms/step\n"
     ]
    },
    {
     "name": "stderr",
     "output_type": "stream",
     "text": [
      "2024-09-16 00:16:39,088 - WARNING - Error performing OCR on image /home/rguktrkvalley/Desktop/downloaded_images/61I0O1qJbhS.jpg: image file is truncated (0 bytes not processed)\n",
      "2024-09-16 00:16:39,089 - WARNING - Skipping image /home/rguktrkvalley/Desktop/downloaded_images/61I0O1qJbhS.jpg due to text extraction failure.\n",
      "Premature end of JPEG file\n"
     ]
    },
    {
     "name": "stdout",
     "output_type": "stream",
     "text": [
      "1/1 [==============================] - 0s 141ms/step\n"
     ]
    },
    {
     "name": "stderr",
     "output_type": "stream",
     "text": [
      "2024-09-16 00:16:39,363 - WARNING - Error performing OCR on image /home/rguktrkvalley/Desktop/downloaded_images/61eOO5IW4NL.jpg: image file is truncated (0 bytes not processed)\n",
      "2024-09-16 00:16:39,366 - WARNING - Skipping image /home/rguktrkvalley/Desktop/downloaded_images/61eOO5IW4NL.jpg due to text extraction failure.\n",
      "Premature end of JPEG file\n"
     ]
    },
    {
     "name": "stdout",
     "output_type": "stream",
     "text": [
      "1/1 [==============================] - 0s 109ms/step\n"
     ]
    },
    {
     "name": "stderr",
     "output_type": "stream",
     "text": [
      "2024-09-16 00:16:39,590 - WARNING - Error performing OCR on image /home/rguktrkvalley/Desktop/downloaded_images/716AQpAJjZL.jpg: image file is truncated (0 bytes not processed)\n",
      "2024-09-16 00:16:39,591 - WARNING - Skipping image /home/rguktrkvalley/Desktop/downloaded_images/716AQpAJjZL.jpg due to text extraction failure.\n"
     ]
    },
    {
     "name": "stdout",
     "output_type": "stream",
     "text": [
      "1/1 [==============================] - 0s 88ms/step\n"
     ]
    },
    {
     "name": "stderr",
     "output_type": "stream",
     "text": [
      "2024-09-16 00:16:41,088 - WARNING - Skipping image /home/rguktrkvalley/Desktop/downloaded_images/71FVeRd2jqL.jpg due to text extraction failure.\n"
     ]
    },
    {
     "name": "stdout",
     "output_type": "stream",
     "text": [
      "1/1 [==============================] - 0s 92ms/step\n"
     ]
    },
    {
     "name": "stderr",
     "output_type": "stream",
     "text": [
      "2024-09-16 00:16:42,977 - WARNING - Skipping image /home/rguktrkvalley/Desktop/downloaded_images/81njuNSPdjL.jpg due to text extraction failure.\n"
     ]
    },
    {
     "name": "stdout",
     "output_type": "stream",
     "text": [
      "1/1 [==============================] - 0s 90ms/step\n"
     ]
    },
    {
     "name": "stderr",
     "output_type": "stream",
     "text": [
      "2024-09-16 00:16:43,431 - WARNING - Skipping image /home/rguktrkvalley/Desktop/downloaded_images/51xfRlxWIXL.jpg due to text extraction failure.\n"
     ]
    },
    {
     "name": "stdout",
     "output_type": "stream",
     "text": [
      "1/1 [==============================] - 0s 88ms/step\n"
     ]
    },
    {
     "name": "stderr",
     "output_type": "stream",
     "text": [
      "2024-09-16 00:16:44,897 - WARNING - Skipping image /home/rguktrkvalley/Desktop/downloaded_images/71duwM3SjpL.jpg due to text extraction failure.\n"
     ]
    },
    {
     "name": "stdout",
     "output_type": "stream",
     "text": [
      "1/1 [==============================] - 0s 94ms/step\n",
      "1/1 [==============================] - 0s 100ms/step\n"
     ]
    },
    {
     "name": "stderr",
     "output_type": "stream",
     "text": [
      "2024-09-16 00:16:46,436 - WARNING - Skipping image /home/rguktrkvalley/Desktop/downloaded_images/51b9JEHOriL.jpg due to text extraction failure.\n"
     ]
    },
    {
     "name": "stdout",
     "output_type": "stream",
     "text": [
      "1/1 [==============================] - 0s 88ms/step\n"
     ]
    },
    {
     "name": "stderr",
     "output_type": "stream",
     "text": [
      "2024-09-16 00:16:47,727 - WARNING - Skipping image /home/rguktrkvalley/Desktop/downloaded_images/81lgxfKqUUL.jpg due to text extraction failure.\n"
     ]
    },
    {
     "name": "stdout",
     "output_type": "stream",
     "text": [
      "1/1 [==============================] - 0s 89ms/step\n"
     ]
    },
    {
     "name": "stderr",
     "output_type": "stream",
     "text": [
      "2024-09-16 00:16:49,524 - WARNING - Skipping image /home/rguktrkvalley/Desktop/downloaded_images/814sAvV89SL.jpg due to text extraction failure.\n"
     ]
    },
    {
     "name": "stdout",
     "output_type": "stream",
     "text": [
      "1/1 [==============================] - 0s 91ms/step\n"
     ]
    },
    {
     "name": "stderr",
     "output_type": "stream",
     "text": [
      "2024-09-16 00:16:50,396 - WARNING - Skipping image /home/rguktrkvalley/Desktop/downloaded_images/61cMeogK8gL.jpg due to text extraction failure.\n"
     ]
    },
    {
     "name": "stdout",
     "output_type": "stream",
     "text": [
      "1/1 [==============================] - 0s 89ms/step\n"
     ]
    },
    {
     "name": "stderr",
     "output_type": "stream",
     "text": [
      "2024-09-16 00:17:00,326 - WARNING - Skipping image /home/rguktrkvalley/Desktop/downloaded_images/811VfR10yxL.jpg due to text extraction failure.\n"
     ]
    },
    {
     "name": "stdout",
     "output_type": "stream",
     "text": [
      "1/1 [==============================] - 0s 140ms/step\n"
     ]
    },
    {
     "name": "stderr",
     "output_type": "stream",
     "text": [
      "2024-09-16 00:17:03,449 - WARNING - Skipping image /home/rguktrkvalley/Desktop/downloaded_images/71WLYfmMqQL.jpg due to text extraction failure.\n"
     ]
    },
    {
     "name": "stdout",
     "output_type": "stream",
     "text": [
      "1/1 [==============================] - 0s 121ms/step\n"
     ]
    },
    {
     "name": "stderr",
     "output_type": "stream",
     "text": [
      "2024-09-16 00:17:04,288 - WARNING - Skipping image /home/rguktrkvalley/Desktop/downloaded_images/61Dq3LRei9L.jpg due to text extraction failure.\n"
     ]
    },
    {
     "name": "stdout",
     "output_type": "stream",
     "text": [
      "1/1 [==============================] - 0s 112ms/step\n"
     ]
    },
    {
     "name": "stderr",
     "output_type": "stream",
     "text": [
      "2024-09-16 00:17:05,477 - WARNING - Skipping image /home/rguktrkvalley/Desktop/downloaded_images/71XK5d3Oh9L.jpg due to text extraction failure.\n"
     ]
    },
    {
     "name": "stdout",
     "output_type": "stream",
     "text": [
      "1/1 [==============================] - 0s 85ms/step\n"
     ]
    },
    {
     "name": "stderr",
     "output_type": "stream",
     "text": [
      "2024-09-16 00:17:06,267 - WARNING - Skipping image /home/rguktrkvalley/Desktop/downloaded_images/61kyBEJYDeL.jpg due to text extraction failure.\n"
     ]
    },
    {
     "name": "stdout",
     "output_type": "stream",
     "text": [
      "1/1 [==============================] - 0s 93ms/step\n"
     ]
    },
    {
     "name": "stderr",
     "output_type": "stream",
     "text": [
      "2024-09-16 00:17:07,866 - WARNING - Skipping image /home/rguktrkvalley/Desktop/downloaded_images/71uQmsTESvL.jpg due to text extraction failure.\n"
     ]
    },
    {
     "name": "stdout",
     "output_type": "stream",
     "text": [
      "1/1 [==============================] - 0s 94ms/step\n"
     ]
    },
    {
     "name": "stderr",
     "output_type": "stream",
     "text": [
      "2024-09-16 00:17:08,974 - WARNING - Skipping image /home/rguktrkvalley/Desktop/downloaded_images/71jG8BOi4WL.jpg due to text extraction failure.\n",
      "2024-09-16 00:17:09,046 - WARNING - Error processing image /home/rguktrkvalley/Desktop/downloaded_images/41-NCxNuBxL.jpg: Image at /home/rguktrkvalley/Desktop/downloaded_images/41-NCxNuBxL.jpg could not be loaded.\n",
      "[ WARN:0@3240.586] global loadsave.cpp:241 findDecoder imread_('/home/rguktrkvalley/Desktop/downloaded_images/41-NCxNuBxL.jpg'): can't open/read file: check file path/integrity\n",
      "2024-09-16 00:17:09,047 - WARNING - Skipping image /home/rguktrkvalley/Desktop/downloaded_images/41-NCxNuBxL.jpg due to feature extraction failure.\n",
      "2024-09-16 00:17:09,049 - WARNING - Error processing image /home/rguktrkvalley/Desktop/downloaded_images/41-NCxNuBxL.jpg: Image at /home/rguktrkvalley/Desktop/downloaded_images/41-NCxNuBxL.jpg could not be loaded.\n",
      "[ WARN:0@3240.588] global loadsave.cpp:241 findDecoder imread_('/home/rguktrkvalley/Desktop/downloaded_images/41-NCxNuBxL.jpg'): can't open/read file: check file path/integrity\n",
      "2024-09-16 00:17:09,051 - WARNING - Skipping image /home/rguktrkvalley/Desktop/downloaded_images/41-NCxNuBxL.jpg due to feature extraction failure.\n",
      "[ WARN:0@3240.593] global loadsave.cpp:241 findDecoder imread_('/home/rguktrkvalley/Desktop/downloaded_images/417NJrPEk+L.jpg'): can't open/read file: check file path/integrity\n",
      "2024-09-16 00:17:09,055 - WARNING - Error processing image /home/rguktrkvalley/Desktop/downloaded_images/417NJrPEk+L.jpg: Image at /home/rguktrkvalley/Desktop/downloaded_images/417NJrPEk+L.jpg could not be loaded.\n",
      "2024-09-16 00:17:09,056 - WARNING - Skipping image /home/rguktrkvalley/Desktop/downloaded_images/417NJrPEk+L.jpg due to feature extraction failure.\n",
      "[ WARN:0@3240.599] global loadsave.cpp:241 findDecoder imread_('/home/rguktrkvalley/Desktop/downloaded_images/417SThj+SrL.jpg'): can't open/read file: check file path/integrity\n",
      "2024-09-16 00:17:09,059 - WARNING - Error processing image /home/rguktrkvalley/Desktop/downloaded_images/417SThj+SrL.jpg: Image at /home/rguktrkvalley/Desktop/downloaded_images/417SThj+SrL.jpg could not be loaded.\n",
      "2024-09-16 00:17:09,063 - WARNING - Skipping image /home/rguktrkvalley/Desktop/downloaded_images/417SThj+SrL.jpg due to feature extraction failure.\n",
      "2024-09-16 00:17:09,067 - WARNING - Error processing image /home/rguktrkvalley/Desktop/downloaded_images/417SThj+SrL.jpg: Image at /home/rguktrkvalley/Desktop/downloaded_images/417SThj+SrL.jpg could not be loaded.\n",
      "[ WARN:0@3240.605] global loadsave.cpp:241 findDecoder imread_('/home/rguktrkvalley/Desktop/downloaded_images/417SThj+SrL.jpg'): can't open/read file: check file path/integrity\n",
      "2024-09-16 00:17:09,068 - WARNING - Skipping image /home/rguktrkvalley/Desktop/downloaded_images/417SThj+SrL.jpg due to feature extraction failure.\n",
      "2024-09-16 00:17:09,071 - WARNING - Error processing image /home/rguktrkvalley/Desktop/downloaded_images/41ADVPQgZOL.jpg: Image at /home/rguktrkvalley/Desktop/downloaded_images/41ADVPQgZOL.jpg could not be loaded.\n",
      "[ WARN:0@3240.611] global loadsave.cpp:241 findDecoder imread_('/home/rguktrkvalley/Desktop/downloaded_images/41ADVPQgZOL.jpg'): can't open/read file: check file path/integrity\n",
      "2024-09-16 00:17:09,073 - WARNING - Skipping image /home/rguktrkvalley/Desktop/downloaded_images/41ADVPQgZOL.jpg due to feature extraction failure.\n",
      "2024-09-16 00:17:09,078 - WARNING - Error processing image /home/rguktrkvalley/Desktop/downloaded_images/41nblnEkJ3L.jpg: Image at /home/rguktrkvalley/Desktop/downloaded_images/41nblnEkJ3L.jpg could not be loaded.\n",
      "[ WARN:0@3240.618] global loadsave.cpp:241 findDecoder imread_('/home/rguktrkvalley/Desktop/downloaded_images/41nblnEkJ3L.jpg'): can't open/read file: check file path/integrity\n",
      "2024-09-16 00:17:09,080 - WARNING - Skipping image /home/rguktrkvalley/Desktop/downloaded_images/41nblnEkJ3L.jpg due to feature extraction failure.\n",
      "[ WARN:0@3240.621] global loadsave.cpp:241 findDecoder imread_('/home/rguktrkvalley/Desktop/downloaded_images/41nblnEkJ3L.jpg'): can't open/read file: check file path/integrity\n",
      "2024-09-16 00:17:09,081 - WARNING - Error processing image /home/rguktrkvalley/Desktop/downloaded_images/41nblnEkJ3L.jpg: Image at /home/rguktrkvalley/Desktop/downloaded_images/41nblnEkJ3L.jpg could not be loaded.\n",
      "2024-09-16 00:17:09,083 - WARNING - Skipping image /home/rguktrkvalley/Desktop/downloaded_images/41nblnEkJ3L.jpg due to feature extraction failure.\n",
      "[ WARN:0@3240.625] global loadsave.cpp:241 findDecoder imread_('/home/rguktrkvalley/Desktop/downloaded_images/41o3iis9E7L.jpg'): can't open/read file: check file path/integrity\n",
      "2024-09-16 00:17:09,085 - WARNING - Error processing image /home/rguktrkvalley/Desktop/downloaded_images/41o3iis9E7L.jpg: Image at /home/rguktrkvalley/Desktop/downloaded_images/41o3iis9E7L.jpg could not be loaded.\n",
      "2024-09-16 00:17:09,086 - WARNING - Skipping image /home/rguktrkvalley/Desktop/downloaded_images/41o3iis9E7L.jpg due to feature extraction failure.\n",
      "[ WARN:0@3240.628] global loadsave.cpp:241 findDecoder imread_('/home/rguktrkvalley/Desktop/downloaded_images/41pvwR9GbaL.jpg'): can't open/read file: check file path/integrity\n",
      "2024-09-16 00:17:09,088 - WARNING - Error processing image /home/rguktrkvalley/Desktop/downloaded_images/41pvwR9GbaL.jpg: Image at /home/rguktrkvalley/Desktop/downloaded_images/41pvwR9GbaL.jpg could not be loaded.\n",
      "2024-09-16 00:17:09,090 - WARNING - Skipping image /home/rguktrkvalley/Desktop/downloaded_images/41pvwR9GbaL.jpg due to feature extraction failure.\n",
      "[ WARN:0@3240.632] global loadsave.cpp:241 findDecoder imread_('/home/rguktrkvalley/Desktop/downloaded_images/41uwo4PVnuL.jpg'): can't open/read file: check file path/integrity\n",
      "2024-09-16 00:17:09,092 - WARNING - Error processing image /home/rguktrkvalley/Desktop/downloaded_images/41uwo4PVnuL.jpg: Image at /home/rguktrkvalley/Desktop/downloaded_images/41uwo4PVnuL.jpg could not be loaded.\n",
      "2024-09-16 00:17:09,095 - WARNING - Skipping image /home/rguktrkvalley/Desktop/downloaded_images/41uwo4PVnuL.jpg due to feature extraction failure.\n",
      "[ WARN:0@3240.637] global loadsave.cpp:241 findDecoder imread_('/home/rguktrkvalley/Desktop/downloaded_images/41uwo4PVnuL.jpg'): can't open/read file: check file path/integrity\n",
      "2024-09-16 00:17:09,098 - WARNING - Error processing image /home/rguktrkvalley/Desktop/downloaded_images/41uwo4PVnuL.jpg: Image at /home/rguktrkvalley/Desktop/downloaded_images/41uwo4PVnuL.jpg could not be loaded.\n",
      "2024-09-16 00:17:09,099 - WARNING - Skipping image /home/rguktrkvalley/Desktop/downloaded_images/41uwo4PVnuL.jpg due to feature extraction failure.\n",
      "[ WARN:0@3240.641] global loadsave.cpp:241 findDecoder imread_('/home/rguktrkvalley/Desktop/downloaded_images/41ygXRvf8lL.jpg'): can't open/read file: check file path/integrity\n",
      "2024-09-16 00:17:09,102 - WARNING - Error processing image /home/rguktrkvalley/Desktop/downloaded_images/41ygXRvf8lL.jpg: Image at /home/rguktrkvalley/Desktop/downloaded_images/41ygXRvf8lL.jpg could not be loaded.\n",
      "2024-09-16 00:17:09,103 - WARNING - Skipping image /home/rguktrkvalley/Desktop/downloaded_images/41ygXRvf8lL.jpg due to feature extraction failure.\n",
      "2024-09-16 00:17:09,105 - WARNING - Error processing image /home/rguktrkvalley/Desktop/downloaded_images/41ygXRvf8lL.jpg: Image at /home/rguktrkvalley/Desktop/downloaded_images/41ygXRvf8lL.jpg could not be loaded.\n",
      "[ WARN:0@3240.645] global loadsave.cpp:241 findDecoder imread_('/home/rguktrkvalley/Desktop/downloaded_images/41ygXRvf8lL.jpg'): can't open/read file: check file path/integrity\n",
      "2024-09-16 00:17:09,107 - WARNING - Skipping image /home/rguktrkvalley/Desktop/downloaded_images/41ygXRvf8lL.jpg due to feature extraction failure.\n",
      "[ WARN:0@3240.649] global loadsave.cpp:241 findDecoder imread_('/home/rguktrkvalley/Desktop/downloaded_images/41zgjN+zW3L.jpg'): can't open/read file: check file path/integrity\n",
      "2024-09-16 00:17:09,109 - WARNING - Error processing image /home/rguktrkvalley/Desktop/downloaded_images/41zgjN+zW3L.jpg: Image at /home/rguktrkvalley/Desktop/downloaded_images/41zgjN+zW3L.jpg could not be loaded.\n",
      "2024-09-16 00:17:09,110 - WARNING - Skipping image /home/rguktrkvalley/Desktop/downloaded_images/41zgjN+zW3L.jpg due to feature extraction failure.\n",
      "[ WARN:0@3240.652] global loadsave.cpp:241 findDecoder imread_('/home/rguktrkvalley/Desktop/downloaded_images/51+oHGvSvuL.jpg'): can't open/read file: check file path/integrity\n",
      "2024-09-16 00:17:09,112 - WARNING - Error processing image /home/rguktrkvalley/Desktop/downloaded_images/51+oHGvSvuL.jpg: Image at /home/rguktrkvalley/Desktop/downloaded_images/51+oHGvSvuL.jpg could not be loaded.\n",
      "2024-09-16 00:17:09,115 - WARNING - Skipping image /home/rguktrkvalley/Desktop/downloaded_images/51+oHGvSvuL.jpg due to feature extraction failure.\n",
      "[ WARN:0@3240.658] global loadsave.cpp:241 findDecoder imread_('/home/rguktrkvalley/Desktop/downloaded_images/51+oHGvSvuL.jpg'): can't open/read file: check file path/integrity\n",
      "2024-09-16 00:17:09,118 - WARNING - Error processing image /home/rguktrkvalley/Desktop/downloaded_images/51+oHGvSvuL.jpg: Image at /home/rguktrkvalley/Desktop/downloaded_images/51+oHGvSvuL.jpg could not be loaded.\n",
      "2024-09-16 00:17:09,120 - WARNING - Skipping image /home/rguktrkvalley/Desktop/downloaded_images/51+oHGvSvuL.jpg due to feature extraction failure.\n",
      "[ WARN:0@3240.662] global loadsave.cpp:241 findDecoder imread_('/home/rguktrkvalley/Desktop/downloaded_images/51-WIOx5pxL.jpg'): can't open/read file: check file path/integrity\n",
      "2024-09-16 00:17:09,122 - WARNING - Error processing image /home/rguktrkvalley/Desktop/downloaded_images/51-WIOx5pxL.jpg: Image at /home/rguktrkvalley/Desktop/downloaded_images/51-WIOx5pxL.jpg could not be loaded.\n",
      "2024-09-16 00:17:09,124 - WARNING - Skipping image /home/rguktrkvalley/Desktop/downloaded_images/51-WIOx5pxL.jpg due to feature extraction failure.\n",
      "[ WARN:0@3240.665] global loadsave.cpp:241 findDecoder imread_('/home/rguktrkvalley/Desktop/downloaded_images/51-WIOx5pxL.jpg'): can't open/read file: check file path/integrity\n",
      "2024-09-16 00:17:09,126 - WARNING - Error processing image /home/rguktrkvalley/Desktop/downloaded_images/51-WIOx5pxL.jpg: Image at /home/rguktrkvalley/Desktop/downloaded_images/51-WIOx5pxL.jpg could not be loaded.\n",
      "2024-09-16 00:17:09,127 - WARNING - Skipping image /home/rguktrkvalley/Desktop/downloaded_images/51-WIOx5pxL.jpg due to feature extraction failure.\n",
      "[ WARN:0@3240.669] global loadsave.cpp:241 findDecoder imread_('/home/rguktrkvalley/Desktop/downloaded_images/510xYFNYQ8L.jpg'): can't open/read file: check file path/integrity\n",
      "2024-09-16 00:17:09,130 - WARNING - Error processing image /home/rguktrkvalley/Desktop/downloaded_images/510xYFNYQ8L.jpg: Image at /home/rguktrkvalley/Desktop/downloaded_images/510xYFNYQ8L.jpg could not be loaded.\n",
      "2024-09-16 00:17:09,131 - WARNING - Skipping image /home/rguktrkvalley/Desktop/downloaded_images/510xYFNYQ8L.jpg due to feature extraction failure.\n",
      "[ WARN:0@3240.672] global loadsave.cpp:241 findDecoder imread_('/home/rguktrkvalley/Desktop/downloaded_images/510xYFNYQ8L.jpg'): can't open/read file: check file path/integrity\n",
      "2024-09-16 00:17:09,132 - WARNING - Error processing image /home/rguktrkvalley/Desktop/downloaded_images/510xYFNYQ8L.jpg: Image at /home/rguktrkvalley/Desktop/downloaded_images/510xYFNYQ8L.jpg could not be loaded.\n",
      "2024-09-16 00:17:09,134 - WARNING - Skipping image /home/rguktrkvalley/Desktop/downloaded_images/510xYFNYQ8L.jpg due to feature extraction failure.\n",
      "[ WARN:0@3240.676] global loadsave.cpp:241 findDecoder imread_('/home/rguktrkvalley/Desktop/downloaded_images/510xYFNYQ8L.jpg'): can't open/read file: check file path/integrity\n",
      "2024-09-16 00:17:09,137 - WARNING - Error processing image /home/rguktrkvalley/Desktop/downloaded_images/510xYFNYQ8L.jpg: Image at /home/rguktrkvalley/Desktop/downloaded_images/510xYFNYQ8L.jpg could not be loaded.\n",
      "2024-09-16 00:17:09,138 - WARNING - Skipping image /home/rguktrkvalley/Desktop/downloaded_images/510xYFNYQ8L.jpg due to feature extraction failure.\n",
      "[ WARN:0@3240.680] global loadsave.cpp:241 findDecoder imread_('/home/rguktrkvalley/Desktop/downloaded_images/514bY8c4ZIL.jpg'): can't open/read file: check file path/integrity\n",
      "2024-09-16 00:17:09,140 - WARNING - Error processing image /home/rguktrkvalley/Desktop/downloaded_images/514bY8c4ZIL.jpg: Image at /home/rguktrkvalley/Desktop/downloaded_images/514bY8c4ZIL.jpg could not be loaded.\n",
      "2024-09-16 00:17:09,142 - WARNING - Skipping image /home/rguktrkvalley/Desktop/downloaded_images/514bY8c4ZIL.jpg due to feature extraction failure.\n",
      "[ WARN:0@3240.684] global loadsave.cpp:241 findDecoder imread_('/home/rguktrkvalley/Desktop/downloaded_images/514bY8c4ZIL.jpg'): can't open/read file: check file path/integrity\n",
      "2024-09-16 00:17:09,144 - WARNING - Error processing image /home/rguktrkvalley/Desktop/downloaded_images/514bY8c4ZIL.jpg: Image at /home/rguktrkvalley/Desktop/downloaded_images/514bY8c4ZIL.jpg could not be loaded.\n",
      "2024-09-16 00:17:09,145 - WARNING - Skipping image /home/rguktrkvalley/Desktop/downloaded_images/514bY8c4ZIL.jpg due to feature extraction failure.\n",
      "[ WARN:0@3240.687] global loadsave.cpp:241 findDecoder imread_('/home/rguktrkvalley/Desktop/downloaded_images/514pScQdlCL.jpg'): can't open/read file: check file path/integrity\n",
      "2024-09-16 00:17:09,147 - WARNING - Error processing image /home/rguktrkvalley/Desktop/downloaded_images/514pScQdlCL.jpg: Image at /home/rguktrkvalley/Desktop/downloaded_images/514pScQdlCL.jpg could not be loaded.\n",
      "2024-09-16 00:17:09,148 - WARNING - Skipping image /home/rguktrkvalley/Desktop/downloaded_images/514pScQdlCL.jpg due to feature extraction failure.\n",
      "[ WARN:0@3240.690] global loadsave.cpp:241 findDecoder imread_('/home/rguktrkvalley/Desktop/downloaded_images/514pScQdlCL.jpg'): can't open/read file: check file path/integrity\n",
      "2024-09-16 00:17:09,151 - WARNING - Error processing image /home/rguktrkvalley/Desktop/downloaded_images/514pScQdlCL.jpg: Image at /home/rguktrkvalley/Desktop/downloaded_images/514pScQdlCL.jpg could not be loaded.\n",
      "2024-09-16 00:17:09,152 - WARNING - Skipping image /home/rguktrkvalley/Desktop/downloaded_images/514pScQdlCL.jpg due to feature extraction failure.\n",
      "[ WARN:0@3240.694] global loadsave.cpp:241 findDecoder imread_('/home/rguktrkvalley/Desktop/downloaded_images/51BEuVR4ZzL.jpg'): can't open/read file: check file path/integrity\n",
      "2024-09-16 00:17:09,155 - WARNING - Error processing image /home/rguktrkvalley/Desktop/downloaded_images/51BEuVR4ZzL.jpg: Image at /home/rguktrkvalley/Desktop/downloaded_images/51BEuVR4ZzL.jpg could not be loaded.\n",
      "2024-09-16 00:17:09,157 - WARNING - Skipping image /home/rguktrkvalley/Desktop/downloaded_images/51BEuVR4ZzL.jpg due to feature extraction failure.\n",
      "[ WARN:0@3240.699] global loadsave.cpp:241 findDecoder imread_('/home/rguktrkvalley/Desktop/downloaded_images/51BEuVR4ZzL.jpg'): can't open/read file: check file path/integrity\n",
      "2024-09-16 00:17:09,160 - WARNING - Error processing image /home/rguktrkvalley/Desktop/downloaded_images/51BEuVR4ZzL.jpg: Image at /home/rguktrkvalley/Desktop/downloaded_images/51BEuVR4ZzL.jpg could not be loaded.\n",
      "2024-09-16 00:17:09,161 - WARNING - Skipping image /home/rguktrkvalley/Desktop/downloaded_images/51BEuVR4ZzL.jpg due to feature extraction failure.\n",
      "[ WARN:0@3240.703] global loadsave.cpp:241 findDecoder imread_('/home/rguktrkvalley/Desktop/downloaded_images/51EBBqNOJ1L.jpg'): can't open/read file: check file path/integrity\n",
      "2024-09-16 00:17:09,164 - WARNING - Error processing image /home/rguktrkvalley/Desktop/downloaded_images/51EBBqNOJ1L.jpg: Image at /home/rguktrkvalley/Desktop/downloaded_images/51EBBqNOJ1L.jpg could not be loaded.\n",
      "2024-09-16 00:17:09,167 - WARNING - Skipping image /home/rguktrkvalley/Desktop/downloaded_images/51EBBqNOJ1L.jpg due to feature extraction failure.\n",
      "[ WARN:0@3240.708] global loadsave.cpp:241 findDecoder imread_('/home/rguktrkvalley/Desktop/downloaded_images/51EBBqNOJ1L.jpg'): can't open/read file: check file path/integrity\n",
      "2024-09-16 00:17:09,169 - WARNING - Error processing image /home/rguktrkvalley/Desktop/downloaded_images/51EBBqNOJ1L.jpg: Image at /home/rguktrkvalley/Desktop/downloaded_images/51EBBqNOJ1L.jpg could not be loaded.\n",
      "2024-09-16 00:17:09,170 - WARNING - Skipping image /home/rguktrkvalley/Desktop/downloaded_images/51EBBqNOJ1L.jpg due to feature extraction failure.\n",
      "[ WARN:0@3240.712] global loadsave.cpp:241 findDecoder imread_('/home/rguktrkvalley/Desktop/downloaded_images/51EBBqNOJ1L.jpg'): can't open/read file: check file path/integrity\n",
      "2024-09-16 00:17:09,172 - WARNING - Error processing image /home/rguktrkvalley/Desktop/downloaded_images/51EBBqNOJ1L.jpg: Image at /home/rguktrkvalley/Desktop/downloaded_images/51EBBqNOJ1L.jpg could not be loaded.\n",
      "2024-09-16 00:17:09,174 - WARNING - Skipping image /home/rguktrkvalley/Desktop/downloaded_images/51EBBqNOJ1L.jpg due to feature extraction failure.\n",
      "[ WARN:0@3240.717] global loadsave.cpp:241 findDecoder imread_('/home/rguktrkvalley/Desktop/downloaded_images/51FSlaVlejL.jpg'): can't open/read file: check file path/integrity\n",
      "2024-09-16 00:17:09,177 - WARNING - Error processing image /home/rguktrkvalley/Desktop/downloaded_images/51FSlaVlejL.jpg: Image at /home/rguktrkvalley/Desktop/downloaded_images/51FSlaVlejL.jpg could not be loaded.\n",
      "2024-09-16 00:17:09,178 - WARNING - Skipping image /home/rguktrkvalley/Desktop/downloaded_images/51FSlaVlejL.jpg due to feature extraction failure.\n",
      "[ WARN:0@3240.720] global loadsave.cpp:241 findDecoder imread_('/home/rguktrkvalley/Desktop/downloaded_images/51H+mX2Wk7L.jpg'): can't open/read file: check file path/integrity\n",
      "2024-09-16 00:17:09,181 - WARNING - Error processing image /home/rguktrkvalley/Desktop/downloaded_images/51H+mX2Wk7L.jpg: Image at /home/rguktrkvalley/Desktop/downloaded_images/51H+mX2Wk7L.jpg could not be loaded.\n",
      "2024-09-16 00:17:09,182 - WARNING - Skipping image /home/rguktrkvalley/Desktop/downloaded_images/51H+mX2Wk7L.jpg due to feature extraction failure.\n",
      "[ WARN:0@3240.724] global loadsave.cpp:241 findDecoder imread_('/home/rguktrkvalley/Desktop/downloaded_images/51H+mX2Wk7L.jpg'): can't open/read file: check file path/integrity\n",
      "2024-09-16 00:17:09,184 - WARNING - Error processing image /home/rguktrkvalley/Desktop/downloaded_images/51H+mX2Wk7L.jpg: Image at /home/rguktrkvalley/Desktop/downloaded_images/51H+mX2Wk7L.jpg could not be loaded.\n",
      "2024-09-16 00:17:09,185 - WARNING - Skipping image /home/rguktrkvalley/Desktop/downloaded_images/51H+mX2Wk7L.jpg due to feature extraction failure.\n",
      "[ WARN:0@3240.727] global loadsave.cpp:241 findDecoder imread_('/home/rguktrkvalley/Desktop/downloaded_images/51KykmLgc0L.jpg'): can't open/read file: check file path/integrity\n",
      "2024-09-16 00:17:09,188 - WARNING - Error processing image /home/rguktrkvalley/Desktop/downloaded_images/51KykmLgc0L.jpg: Image at /home/rguktrkvalley/Desktop/downloaded_images/51KykmLgc0L.jpg could not be loaded.\n",
      "2024-09-16 00:17:09,188 - WARNING - Skipping image /home/rguktrkvalley/Desktop/downloaded_images/51KykmLgc0L.jpg due to feature extraction failure.\n",
      "[ WARN:0@3240.730] global loadsave.cpp:241 findDecoder imread_('/home/rguktrkvalley/Desktop/downloaded_images/51P0IuT6RsL.jpg'): can't open/read file: check file path/integrity\n",
      "2024-09-16 00:17:09,192 - WARNING - Error processing image /home/rguktrkvalley/Desktop/downloaded_images/51P0IuT6RsL.jpg: Image at /home/rguktrkvalley/Desktop/downloaded_images/51P0IuT6RsL.jpg could not be loaded.\n",
      "2024-09-16 00:17:09,193 - WARNING - Skipping image /home/rguktrkvalley/Desktop/downloaded_images/51P0IuT6RsL.jpg due to feature extraction failure.\n",
      "[ WARN:0@3240.735] global loadsave.cpp:241 findDecoder imread_('/home/rguktrkvalley/Desktop/downloaded_images/51Su6zXkAsL.jpg'): can't open/read file: check file path/integrity\n",
      "2024-09-16 00:17:09,195 - WARNING - Error processing image /home/rguktrkvalley/Desktop/downloaded_images/51Su6zXkAsL.jpg: Image at /home/rguktrkvalley/Desktop/downloaded_images/51Su6zXkAsL.jpg could not be loaded.\n",
      "2024-09-16 00:17:09,196 - WARNING - Skipping image /home/rguktrkvalley/Desktop/downloaded_images/51Su6zXkAsL.jpg due to feature extraction failure.\n",
      "[ WARN:0@3240.739] global loadsave.cpp:241 findDecoder imread_('/home/rguktrkvalley/Desktop/downloaded_images/51bEy0J5wLL.jpg'): can't open/read file: check file path/integrity\n",
      "2024-09-16 00:17:09,199 - WARNING - Error processing image /home/rguktrkvalley/Desktop/downloaded_images/51bEy0J5wLL.jpg: Image at /home/rguktrkvalley/Desktop/downloaded_images/51bEy0J5wLL.jpg could not be loaded.\n",
      "2024-09-16 00:17:09,200 - WARNING - Skipping image /home/rguktrkvalley/Desktop/downloaded_images/51bEy0J5wLL.jpg due to feature extraction failure.\n",
      "2024-09-16 00:17:09,202 - WARNING - Error processing image /home/rguktrkvalley/Desktop/downloaded_images/51cPZYLk2YL.jpg: Image at /home/rguktrkvalley/Desktop/downloaded_images/51cPZYLk2YL.jpg could not be loaded.\n",
      "[ WARN:0@3240.742] global loadsave.cpp:241 findDecoder imread_('/home/rguktrkvalley/Desktop/downloaded_images/51cPZYLk2YL.jpg'): can't open/read file: check file path/integrity\n",
      "2024-09-16 00:17:09,204 - WARNING - Skipping image /home/rguktrkvalley/Desktop/downloaded_images/51cPZYLk2YL.jpg due to feature extraction failure.\n",
      "2024-09-16 00:17:09,205 - WARNING - Error processing image /home/rguktrkvalley/Desktop/downloaded_images/51fAzxNm+cL.jpg: Image at /home/rguktrkvalley/Desktop/downloaded_images/51fAzxNm+cL.jpg could not be loaded.\n",
      "[ WARN:0@3240.745] global loadsave.cpp:241 findDecoder imread_('/home/rguktrkvalley/Desktop/downloaded_images/51fAzxNm+cL.jpg'): can't open/read file: check file path/integrity\n",
      "2024-09-16 00:17:09,207 - WARNING - Skipping image /home/rguktrkvalley/Desktop/downloaded_images/51fAzxNm+cL.jpg due to feature extraction failure.\n",
      "2024-09-16 00:17:09,208 - WARNING - Error processing image /home/rguktrkvalley/Desktop/downloaded_images/51fAzxNm+cL.jpg: Image at /home/rguktrkvalley/Desktop/downloaded_images/51fAzxNm+cL.jpg could not be loaded.\n",
      "[ WARN:0@3240.748] global loadsave.cpp:241 findDecoder imread_('/home/rguktrkvalley/Desktop/downloaded_images/51fAzxNm+cL.jpg'): can't open/read file: check file path/integrity\n",
      "2024-09-16 00:17:09,210 - WARNING - Skipping image /home/rguktrkvalley/Desktop/downloaded_images/51fAzxNm+cL.jpg due to feature extraction failure.\n",
      "2024-09-16 00:17:09,212 - WARNING - Error processing image /home/rguktrkvalley/Desktop/downloaded_images/51fAzxNm+cL.jpg: Image at /home/rguktrkvalley/Desktop/downloaded_images/51fAzxNm+cL.jpg could not be loaded.\n",
      "[ WARN:0@3240.752] global loadsave.cpp:241 findDecoder imread_('/home/rguktrkvalley/Desktop/downloaded_images/51fAzxNm+cL.jpg'): can't open/read file: check file path/integrity\n",
      "2024-09-16 00:17:09,213 - WARNING - Skipping image /home/rguktrkvalley/Desktop/downloaded_images/51fAzxNm+cL.jpg due to feature extraction failure.\n",
      "2024-09-16 00:17:09,215 - WARNING - Error processing image /home/rguktrkvalley/Desktop/downloaded_images/51jTe522S2L.jpg: Image at /home/rguktrkvalley/Desktop/downloaded_images/51jTe522S2L.jpg could not be loaded.\n",
      "[ WARN:0@3240.755] global loadsave.cpp:241 findDecoder imread_('/home/rguktrkvalley/Desktop/downloaded_images/51jTe522S2L.jpg'): can't open/read file: check file path/integrity\n",
      "2024-09-16 00:17:09,218 - WARNING - Skipping image /home/rguktrkvalley/Desktop/downloaded_images/51jTe522S2L.jpg due to feature extraction failure.\n",
      "2024-09-16 00:17:09,219 - WARNING - Error processing image /home/rguktrkvalley/Desktop/downloaded_images/51kdBAv6ImL.jpg: Image at /home/rguktrkvalley/Desktop/downloaded_images/51kdBAv6ImL.jpg could not be loaded.\n",
      "[ WARN:0@3240.760] global loadsave.cpp:241 findDecoder imread_('/home/rguktrkvalley/Desktop/downloaded_images/51kdBAv6ImL.jpg'): can't open/read file: check file path/integrity\n",
      "2024-09-16 00:17:09,221 - WARNING - Skipping image /home/rguktrkvalley/Desktop/downloaded_images/51kdBAv6ImL.jpg due to feature extraction failure.\n",
      "2024-09-16 00:17:09,222 - WARNING - Error processing image /home/rguktrkvalley/Desktop/downloaded_images/51kdBAv6ImL.jpg: Image at /home/rguktrkvalley/Desktop/downloaded_images/51kdBAv6ImL.jpg could not be loaded.\n",
      "[ WARN:0@3240.762] global loadsave.cpp:241 findDecoder imread_('/home/rguktrkvalley/Desktop/downloaded_images/51kdBAv6ImL.jpg'): can't open/read file: check file path/integrity\n",
      "2024-09-16 00:17:09,223 - WARNING - Skipping image /home/rguktrkvalley/Desktop/downloaded_images/51kdBAv6ImL.jpg due to feature extraction failure.\n",
      "2024-09-16 00:17:09,225 - WARNING - Error processing image /home/rguktrkvalley/Desktop/downloaded_images/51l6c6UcRZL.jpg: Image at /home/rguktrkvalley/Desktop/downloaded_images/51l6c6UcRZL.jpg could not be loaded.\n",
      "[ WARN:0@3240.765] global loadsave.cpp:241 findDecoder imread_('/home/rguktrkvalley/Desktop/downloaded_images/51l6c6UcRZL.jpg'): can't open/read file: check file path/integrity\n",
      "2024-09-16 00:17:09,226 - WARNING - Skipping image /home/rguktrkvalley/Desktop/downloaded_images/51l6c6UcRZL.jpg due to feature extraction failure.\n",
      "2024-09-16 00:17:09,228 - WARNING - Error processing image /home/rguktrkvalley/Desktop/downloaded_images/51oaOP8qJlL.jpg: Image at /home/rguktrkvalley/Desktop/downloaded_images/51oaOP8qJlL.jpg could not be loaded.\n",
      "[ WARN:0@3240.768] global loadsave.cpp:241 findDecoder imread_('/home/rguktrkvalley/Desktop/downloaded_images/51oaOP8qJlL.jpg'): can't open/read file: check file path/integrity\n",
      "2024-09-16 00:17:09,229 - WARNING - Skipping image /home/rguktrkvalley/Desktop/downloaded_images/51oaOP8qJlL.jpg due to feature extraction failure.\n",
      "2024-09-16 00:17:09,230 - WARNING - Error processing image /home/rguktrkvalley/Desktop/downloaded_images/51oaOP8qJlL.jpg: Image at /home/rguktrkvalley/Desktop/downloaded_images/51oaOP8qJlL.jpg could not be loaded.\n",
      "[ WARN:0@3240.770] global loadsave.cpp:241 findDecoder imread_('/home/rguktrkvalley/Desktop/downloaded_images/51oaOP8qJlL.jpg'): can't open/read file: check file path/integrity\n",
      "2024-09-16 00:17:09,231 - WARNING - Skipping image /home/rguktrkvalley/Desktop/downloaded_images/51oaOP8qJlL.jpg due to feature extraction failure.\n",
      "2024-09-16 00:17:09,233 - WARNING - Error processing image /home/rguktrkvalley/Desktop/downloaded_images/51r7U52rh7L.jpg: Image at /home/rguktrkvalley/Desktop/downloaded_images/51r7U52rh7L.jpg could not be loaded.\n",
      "[ WARN:0@3240.773] global loadsave.cpp:241 findDecoder imread_('/home/rguktrkvalley/Desktop/downloaded_images/51r7U52rh7L.jpg'): can't open/read file: check file path/integrity\n",
      "2024-09-16 00:17:09,234 - WARNING - Skipping image /home/rguktrkvalley/Desktop/downloaded_images/51r7U52rh7L.jpg due to feature extraction failure.\n",
      "2024-09-16 00:17:09,236 - WARNING - Error processing image /home/rguktrkvalley/Desktop/downloaded_images/51r7U52rh7L.jpg: Image at /home/rguktrkvalley/Desktop/downloaded_images/51r7U52rh7L.jpg could not be loaded.\n",
      "[ WARN:0@3240.776] global loadsave.cpp:241 findDecoder imread_('/home/rguktrkvalley/Desktop/downloaded_images/51r7U52rh7L.jpg'): can't open/read file: check file path/integrity\n",
      "2024-09-16 00:17:09,237 - WARNING - Skipping image /home/rguktrkvalley/Desktop/downloaded_images/51r7U52rh7L.jpg due to feature extraction failure.\n",
      "2024-09-16 00:17:09,239 - WARNING - Error processing image /home/rguktrkvalley/Desktop/downloaded_images/51r7U52rh7L.jpg: Image at /home/rguktrkvalley/Desktop/downloaded_images/51r7U52rh7L.jpg could not be loaded.\n",
      "[ WARN:0@3240.779] global loadsave.cpp:241 findDecoder imread_('/home/rguktrkvalley/Desktop/downloaded_images/51r7U52rh7L.jpg'): can't open/read file: check file path/integrity\n",
      "2024-09-16 00:17:09,240 - WARNING - Skipping image /home/rguktrkvalley/Desktop/downloaded_images/51r7U52rh7L.jpg due to feature extraction failure.\n",
      "2024-09-16 00:17:09,241 - WARNING - Error processing image /home/rguktrkvalley/Desktop/downloaded_images/51tEop-EBJL.jpg: Image at /home/rguktrkvalley/Desktop/downloaded_images/51tEop-EBJL.jpg could not be loaded.\n",
      "[ WARN:0@3240.782] global loadsave.cpp:241 findDecoder imread_('/home/rguktrkvalley/Desktop/downloaded_images/51tEop-EBJL.jpg'): can't open/read file: check file path/integrity\n",
      "2024-09-16 00:17:09,243 - WARNING - Skipping image /home/rguktrkvalley/Desktop/downloaded_images/51tEop-EBJL.jpg due to feature extraction failure.\n",
      "2024-09-16 00:17:09,244 - WARNING - Error processing image /home/rguktrkvalley/Desktop/downloaded_images/51vwYpDz2tL.jpg: Image at /home/rguktrkvalley/Desktop/downloaded_images/51vwYpDz2tL.jpg could not be loaded.\n",
      "[ WARN:0@3240.784] global loadsave.cpp:241 findDecoder imread_('/home/rguktrkvalley/Desktop/downloaded_images/51vwYpDz2tL.jpg'): can't open/read file: check file path/integrity\n",
      "2024-09-16 00:17:09,245 - WARNING - Skipping image /home/rguktrkvalley/Desktop/downloaded_images/51vwYpDz2tL.jpg due to feature extraction failure.\n",
      "2024-09-16 00:17:09,247 - WARNING - Error processing image /home/rguktrkvalley/Desktop/downloaded_images/51y79cwGJFL.jpg: Image at /home/rguktrkvalley/Desktop/downloaded_images/51y79cwGJFL.jpg could not be loaded.\n",
      "[ WARN:0@3240.787] global loadsave.cpp:241 findDecoder imread_('/home/rguktrkvalley/Desktop/downloaded_images/51y79cwGJFL.jpg'): can't open/read file: check file path/integrity\n",
      "2024-09-16 00:17:09,248 - WARNING - Skipping image /home/rguktrkvalley/Desktop/downloaded_images/51y79cwGJFL.jpg due to feature extraction failure.\n",
      "2024-09-16 00:17:09,249 - WARNING - Error processing image /home/rguktrkvalley/Desktop/downloaded_images/51y79cwGJFL.jpg: Image at /home/rguktrkvalley/Desktop/downloaded_images/51y79cwGJFL.jpg could not be loaded.\n",
      "[ WARN:0@3240.789] global loadsave.cpp:241 findDecoder imread_('/home/rguktrkvalley/Desktop/downloaded_images/51y79cwGJFL.jpg'): can't open/read file: check file path/integrity\n",
      "2024-09-16 00:17:09,251 - WARNING - Skipping image /home/rguktrkvalley/Desktop/downloaded_images/51y79cwGJFL.jpg due to feature extraction failure.\n",
      "2024-09-16 00:17:09,252 - WARNING - Error processing image /home/rguktrkvalley/Desktop/downloaded_images/51y79cwGJFL.jpg: Image at /home/rguktrkvalley/Desktop/downloaded_images/51y79cwGJFL.jpg could not be loaded.\n",
      "[ WARN:0@3240.792] global loadsave.cpp:241 findDecoder imread_('/home/rguktrkvalley/Desktop/downloaded_images/51y79cwGJFL.jpg'): can't open/read file: check file path/integrity\n",
      "2024-09-16 00:17:09,253 - WARNING - Skipping image /home/rguktrkvalley/Desktop/downloaded_images/51y79cwGJFL.jpg due to feature extraction failure.\n",
      "2024-09-16 00:17:09,255 - WARNING - Error processing image /home/rguktrkvalley/Desktop/downloaded_images/613P5cxQH4L.jpg: Image at /home/rguktrkvalley/Desktop/downloaded_images/613P5cxQH4L.jpg could not be loaded.\n",
      "[ WARN:0@3240.795] global loadsave.cpp:241 findDecoder imread_('/home/rguktrkvalley/Desktop/downloaded_images/613P5cxQH4L.jpg'): can't open/read file: check file path/integrity\n",
      "2024-09-16 00:17:09,256 - WARNING - Skipping image /home/rguktrkvalley/Desktop/downloaded_images/613P5cxQH4L.jpg due to feature extraction failure.\n",
      "2024-09-16 00:17:09,258 - WARNING - Error processing image /home/rguktrkvalley/Desktop/downloaded_images/613P5cxQH4L.jpg: Image at /home/rguktrkvalley/Desktop/downloaded_images/613P5cxQH4L.jpg could not be loaded.\n",
      "[ WARN:0@3240.798] global loadsave.cpp:241 findDecoder imread_('/home/rguktrkvalley/Desktop/downloaded_images/613P5cxQH4L.jpg'): can't open/read file: check file path/integrity\n",
      "2024-09-16 00:17:09,259 - WARNING - Skipping image /home/rguktrkvalley/Desktop/downloaded_images/613P5cxQH4L.jpg due to feature extraction failure.\n",
      "2024-09-16 00:17:09,260 - WARNING - Error processing image /home/rguktrkvalley/Desktop/downloaded_images/614hn5uX9MS.jpg: Image at /home/rguktrkvalley/Desktop/downloaded_images/614hn5uX9MS.jpg could not be loaded.\n",
      "[ WARN:0@3240.801] global loadsave.cpp:241 findDecoder imread_('/home/rguktrkvalley/Desktop/downloaded_images/614hn5uX9MS.jpg'): can't open/read file: check file path/integrity\n",
      "2024-09-16 00:17:09,262 - WARNING - Skipping image /home/rguktrkvalley/Desktop/downloaded_images/614hn5uX9MS.jpg due to feature extraction failure.\n",
      "2024-09-16 00:17:09,263 - WARNING - Error processing image /home/rguktrkvalley/Desktop/downloaded_images/615Cjzm6pyL.jpg: Image at /home/rguktrkvalley/Desktop/downloaded_images/615Cjzm6pyL.jpg could not be loaded.\n",
      "[ WARN:0@3240.803] global loadsave.cpp:241 findDecoder imread_('/home/rguktrkvalley/Desktop/downloaded_images/615Cjzm6pyL.jpg'): can't open/read file: check file path/integrity\n",
      "2024-09-16 00:17:09,265 - WARNING - Skipping image /home/rguktrkvalley/Desktop/downloaded_images/615Cjzm6pyL.jpg due to feature extraction failure.\n",
      "2024-09-16 00:17:09,266 - WARNING - Error processing image /home/rguktrkvalley/Desktop/downloaded_images/615Cjzm6pyL.jpg: Image at /home/rguktrkvalley/Desktop/downloaded_images/615Cjzm6pyL.jpg could not be loaded.\n",
      "2024-09-16 00:17:09,269 - WARNING - Skipping image /home/rguktrkvalley/Desktop/downloaded_images/615Cjzm6pyL.jpg due to feature extraction failure.\n",
      "[ WARN:0@3240.806] global loadsave.cpp:241 findDecoder imread_('/home/rguktrkvalley/Desktop/downloaded_images/615Cjzm6pyL.jpg'): can't open/read file: check file path/integrity\n",
      "[ WARN:0@3240.810] global loadsave.cpp:241 findDecoder imread_('/home/rguktrkvalley/Desktop/downloaded_images/61C+fwVD6dL.jpg'): can't open/read file: check file path/integrity\n",
      "2024-09-16 00:17:09,270 - WARNING - Error processing image /home/rguktrkvalley/Desktop/downloaded_images/61C+fwVD6dL.jpg: Image at /home/rguktrkvalley/Desktop/downloaded_images/61C+fwVD6dL.jpg could not be loaded.\n",
      "2024-09-16 00:17:09,272 - WARNING - Skipping image /home/rguktrkvalley/Desktop/downloaded_images/61C+fwVD6dL.jpg due to feature extraction failure.\n",
      "2024-09-16 00:17:09,273 - WARNING - Error processing image /home/rguktrkvalley/Desktop/downloaded_images/61E2XRNSdYL.jpg: Image at /home/rguktrkvalley/Desktop/downloaded_images/61E2XRNSdYL.jpg could not be loaded.\n",
      "[ WARN:0@3240.813] global loadsave.cpp:241 findDecoder imread_('/home/rguktrkvalley/Desktop/downloaded_images/61E2XRNSdYL.jpg'): can't open/read file: check file path/integrity\n",
      "2024-09-16 00:17:09,275 - WARNING - Skipping image /home/rguktrkvalley/Desktop/downloaded_images/61E2XRNSdYL.jpg due to feature extraction failure.\n",
      "2024-09-16 00:17:09,286 - WARNING - Error processing image /home/rguktrkvalley/Desktop/downloaded_images/61G8bvWOb-L.jpg: Image at /home/rguktrkvalley/Desktop/downloaded_images/61G8bvWOb-L.jpg could not be loaded.\n",
      "[ WARN:0@3240.826] global loadsave.cpp:241 findDecoder imread_('/home/rguktrkvalley/Desktop/downloaded_images/61G8bvWOb-L.jpg'): can't open/read file: check file path/integrity\n",
      "2024-09-16 00:17:09,287 - WARNING - Skipping image /home/rguktrkvalley/Desktop/downloaded_images/61G8bvWOb-L.jpg due to feature extraction failure.\n",
      "2024-09-16 00:17:09,289 - WARNING - Error processing image /home/rguktrkvalley/Desktop/downloaded_images/61G8bvWOb-L.jpg: Image at /home/rguktrkvalley/Desktop/downloaded_images/61G8bvWOb-L.jpg could not be loaded.\n",
      "[ WARN:0@3240.829] global loadsave.cpp:241 findDecoder imread_('/home/rguktrkvalley/Desktop/downloaded_images/61G8bvWOb-L.jpg'): can't open/read file: check file path/integrity\n",
      "2024-09-16 00:17:09,290 - WARNING - Skipping image /home/rguktrkvalley/Desktop/downloaded_images/61G8bvWOb-L.jpg due to feature extraction failure.\n",
      "[ WARN:0@3240.832] global loadsave.cpp:241 findDecoder imread_('/home/rguktrkvalley/Desktop/downloaded_images/61O+Yi09tyL.jpg'): can't open/read file: check file path/integrity\n",
      "2024-09-16 00:17:09,294 - WARNING - Error processing image /home/rguktrkvalley/Desktop/downloaded_images/61O+Yi09tyL.jpg: Image at /home/rguktrkvalley/Desktop/downloaded_images/61O+Yi09tyL.jpg could not be loaded.\n",
      "2024-09-16 00:17:09,296 - WARNING - Skipping image /home/rguktrkvalley/Desktop/downloaded_images/61O+Yi09tyL.jpg due to feature extraction failure.\n",
      "[ WARN:0@3240.838] global loadsave.cpp:241 findDecoder imread_('/home/rguktrkvalley/Desktop/downloaded_images/61lX6IP1SVL.jpg'): can't open/read file: check file path/integrity\n",
      "2024-09-16 00:17:09,299 - WARNING - Error processing image /home/rguktrkvalley/Desktop/downloaded_images/61lX6IP1SVL.jpg: Image at /home/rguktrkvalley/Desktop/downloaded_images/61lX6IP1SVL.jpg could not be loaded.\n",
      "2024-09-16 00:17:09,300 - WARNING - Skipping image /home/rguktrkvalley/Desktop/downloaded_images/61lX6IP1SVL.jpg due to feature extraction failure.\n",
      "[ WARN:0@3240.842] global loadsave.cpp:241 findDecoder imread_('/home/rguktrkvalley/Desktop/downloaded_images/71Qk6hR9-WL.jpg'): can't open/read file: check file path/integrity\n",
      "2024-09-16 00:17:09,303 - WARNING - Error processing image /home/rguktrkvalley/Desktop/downloaded_images/71Qk6hR9-WL.jpg: Image at /home/rguktrkvalley/Desktop/downloaded_images/71Qk6hR9-WL.jpg could not be loaded.\n",
      "2024-09-16 00:17:09,304 - WARNING - Skipping image /home/rguktrkvalley/Desktop/downloaded_images/71Qk6hR9-WL.jpg due to feature extraction failure.\n",
      "2024-09-16 00:17:09,306 - WARNING - Error processing image /home/rguktrkvalley/Desktop/downloaded_images/71Qk6hR9-WL.jpg: Image at /home/rguktrkvalley/Desktop/downloaded_images/71Qk6hR9-WL.jpg could not be loaded.\n",
      "[ WARN:0@3240.846] global loadsave.cpp:241 findDecoder imread_('/home/rguktrkvalley/Desktop/downloaded_images/71Qk6hR9-WL.jpg'): can't open/read file: check file path/integrity\n",
      "2024-09-16 00:17:09,307 - WARNING - Skipping image /home/rguktrkvalley/Desktop/downloaded_images/71Qk6hR9-WL.jpg due to feature extraction failure.\n",
      "2024-09-16 00:17:09,310 - WARNING - Error processing image /home/rguktrkvalley/Desktop/downloaded_images/71UN1IxKp4L.jpg: Image at /home/rguktrkvalley/Desktop/downloaded_images/71UN1IxKp4L.jpg could not be loaded.\n",
      "[ WARN:0@3240.850] global loadsave.cpp:241 findDecoder imread_('/home/rguktrkvalley/Desktop/downloaded_images/71UN1IxKp4L.jpg'): can't open/read file: check file path/integrity\n",
      "2024-09-16 00:17:09,311 - WARNING - Skipping image /home/rguktrkvalley/Desktop/downloaded_images/71UN1IxKp4L.jpg due to feature extraction failure.\n",
      "[ WARN:0@3240.854] global loadsave.cpp:241 findDecoder imread_('/home/rguktrkvalley/Desktop/downloaded_images/71UN1IxKp4L.jpg'): can't open/read file: check file path/integrity\n",
      "2024-09-16 00:17:09,315 - WARNING - Error processing image /home/rguktrkvalley/Desktop/downloaded_images/71UN1IxKp4L.jpg: Image at /home/rguktrkvalley/Desktop/downloaded_images/71UN1IxKp4L.jpg could not be loaded.\n",
      "2024-09-16 00:17:09,316 - WARNING - Skipping image /home/rguktrkvalley/Desktop/downloaded_images/71UN1IxKp4L.jpg due to feature extraction failure.\n",
      "[ WARN:0@3240.858] global loadsave.cpp:241 findDecoder imread_('/home/rguktrkvalley/Desktop/downloaded_images/71UYDq4nfnL.jpg'): can't open/read file: check file path/integrity\n",
      "2024-09-16 00:17:09,320 - WARNING - Error processing image /home/rguktrkvalley/Desktop/downloaded_images/71UYDq4nfnL.jpg: Image at /home/rguktrkvalley/Desktop/downloaded_images/71UYDq4nfnL.jpg could not be loaded.\n",
      "2024-09-16 00:17:09,322 - WARNING - Skipping image /home/rguktrkvalley/Desktop/downloaded_images/71UYDq4nfnL.jpg due to feature extraction failure.\n",
      "[ WARN:0@3240.864] global loadsave.cpp:241 findDecoder imread_('/home/rguktrkvalley/Desktop/downloaded_images/71UYDq4nfnL.jpg'): can't open/read file: check file path/integrity\n",
      "2024-09-16 00:17:09,324 - WARNING - Error processing image /home/rguktrkvalley/Desktop/downloaded_images/71UYDq4nfnL.jpg: Image at /home/rguktrkvalley/Desktop/downloaded_images/71UYDq4nfnL.jpg could not be loaded.\n",
      "2024-09-16 00:17:09,325 - WARNING - Skipping image /home/rguktrkvalley/Desktop/downloaded_images/71UYDq4nfnL.jpg due to feature extraction failure.\n",
      "[ WARN:0@3240.867] global loadsave.cpp:241 findDecoder imread_('/home/rguktrkvalley/Desktop/downloaded_images/71WAjPMQDWL.jpg'): can't open/read file: check file path/integrity\n",
      "2024-09-16 00:17:09,327 - WARNING - Error processing image /home/rguktrkvalley/Desktop/downloaded_images/71WAjPMQDWL.jpg: Image at /home/rguktrkvalley/Desktop/downloaded_images/71WAjPMQDWL.jpg could not be loaded.\n",
      "2024-09-16 00:17:09,329 - WARNING - Skipping image /home/rguktrkvalley/Desktop/downloaded_images/71WAjPMQDWL.jpg due to feature extraction failure.\n",
      "[ WARN:0@3240.871] global loadsave.cpp:241 findDecoder imread_('/home/rguktrkvalley/Desktop/downloaded_images/71WAjPMQDWL.jpg'): can't open/read file: check file path/integrity\n",
      "2024-09-16 00:17:09,331 - WARNING - Error processing image /home/rguktrkvalley/Desktop/downloaded_images/71WAjPMQDWL.jpg: Image at /home/rguktrkvalley/Desktop/downloaded_images/71WAjPMQDWL.jpg could not be loaded.\n",
      "2024-09-16 00:17:09,332 - WARNING - Skipping image /home/rguktrkvalley/Desktop/downloaded_images/71WAjPMQDWL.jpg due to feature extraction failure.\n",
      "[ WARN:0@3240.874] global loadsave.cpp:241 findDecoder imread_('/home/rguktrkvalley/Desktop/downloaded_images/71afEPoRGsL.jpg'): can't open/read file: check file path/integrity\n",
      "2024-09-16 00:17:09,334 - WARNING - Error processing image /home/rguktrkvalley/Desktop/downloaded_images/71afEPoRGsL.jpg: Image at /home/rguktrkvalley/Desktop/downloaded_images/71afEPoRGsL.jpg could not be loaded.\n",
      "2024-09-16 00:17:09,336 - WARNING - Skipping image /home/rguktrkvalley/Desktop/downloaded_images/71afEPoRGsL.jpg due to feature extraction failure.\n",
      "[ WARN:0@3240.878] global loadsave.cpp:241 findDecoder imread_('/home/rguktrkvalley/Desktop/downloaded_images/71afEPoRGsL.jpg'): can't open/read file: check file path/integrity\n",
      "2024-09-16 00:17:09,338 - WARNING - Error processing image /home/rguktrkvalley/Desktop/downloaded_images/71afEPoRGsL.jpg: Image at /home/rguktrkvalley/Desktop/downloaded_images/71afEPoRGsL.jpg could not be loaded.\n",
      "2024-09-16 00:17:09,341 - WARNING - Skipping image /home/rguktrkvalley/Desktop/downloaded_images/71afEPoRGsL.jpg due to feature extraction failure.\n",
      "[ WARN:0@3240.883] global loadsave.cpp:241 findDecoder imread_('/home/rguktrkvalley/Desktop/downloaded_images/71eCfiIG-AL.jpg'): can't open/read file: check file path/integrity\n",
      "2024-09-16 00:17:09,343 - WARNING - Error processing image /home/rguktrkvalley/Desktop/downloaded_images/71eCfiIG-AL.jpg: Image at /home/rguktrkvalley/Desktop/downloaded_images/71eCfiIG-AL.jpg could not be loaded.\n",
      "2024-09-16 00:17:09,345 - WARNING - Skipping image /home/rguktrkvalley/Desktop/downloaded_images/71eCfiIG-AL.jpg due to feature extraction failure.\n",
      "[ WARN:0@3240.887] global loadsave.cpp:241 findDecoder imread_('/home/rguktrkvalley/Desktop/downloaded_images/71fWddA0+yL.jpg'): can't open/read file: check file path/integrity\n",
      "2024-09-16 00:17:09,347 - WARNING - Error processing image /home/rguktrkvalley/Desktop/downloaded_images/71fWddA0+yL.jpg: Image at /home/rguktrkvalley/Desktop/downloaded_images/71fWddA0+yL.jpg could not be loaded.\n",
      "2024-09-16 00:17:09,348 - WARNING - Skipping image /home/rguktrkvalley/Desktop/downloaded_images/71fWddA0+yL.jpg due to feature extraction failure.\n",
      "[ WARN:0@3240.890] global loadsave.cpp:241 findDecoder imread_('/home/rguktrkvalley/Desktop/downloaded_images/71ta6wY3HtL.jpg'): can't open/read file: check file path/integrity\n",
      "2024-09-16 00:17:09,350 - WARNING - Error processing image /home/rguktrkvalley/Desktop/downloaded_images/71ta6wY3HtL.jpg: Image at /home/rguktrkvalley/Desktop/downloaded_images/71ta6wY3HtL.jpg could not be loaded.\n",
      "2024-09-16 00:17:09,352 - WARNING - Skipping image /home/rguktrkvalley/Desktop/downloaded_images/71ta6wY3HtL.jpg due to feature extraction failure.\n",
      "[ WARN:0@3240.894] global loadsave.cpp:241 findDecoder imread_('/home/rguktrkvalley/Desktop/downloaded_images/71ta6wY3HtL.jpg'): can't open/read file: check file path/integrity\n",
      "2024-09-16 00:17:09,354 - WARNING - Error processing image /home/rguktrkvalley/Desktop/downloaded_images/71ta6wY3HtL.jpg: Image at /home/rguktrkvalley/Desktop/downloaded_images/71ta6wY3HtL.jpg could not be loaded.\n",
      "2024-09-16 00:17:09,356 - WARNING - Skipping image /home/rguktrkvalley/Desktop/downloaded_images/71ta6wY3HtL.jpg due to feature extraction failure.\n",
      "[ WARN:0@3240.898] global loadsave.cpp:241 findDecoder imread_('/home/rguktrkvalley/Desktop/downloaded_images/71v+pim0lfL.jpg'): can't open/read file: check file path/integrity\n",
      "2024-09-16 00:17:09,358 - WARNING - Error processing image /home/rguktrkvalley/Desktop/downloaded_images/71v+pim0lfL.jpg: Image at /home/rguktrkvalley/Desktop/downloaded_images/71v+pim0lfL.jpg could not be loaded.\n",
      "2024-09-16 00:17:09,359 - WARNING - Skipping image /home/rguktrkvalley/Desktop/downloaded_images/71v+pim0lfL.jpg due to feature extraction failure.\n",
      "[ WARN:0@3240.901] global loadsave.cpp:241 findDecoder imread_('/home/rguktrkvalley/Desktop/downloaded_images/71v+pim0lfL.jpg'): can't open/read file: check file path/integrity\n",
      "2024-09-16 00:17:09,361 - WARNING - Error processing image /home/rguktrkvalley/Desktop/downloaded_images/71v+pim0lfL.jpg: Image at /home/rguktrkvalley/Desktop/downloaded_images/71v+pim0lfL.jpg could not be loaded.\n",
      "2024-09-16 00:17:09,362 - WARNING - Skipping image /home/rguktrkvalley/Desktop/downloaded_images/71v+pim0lfL.jpg due to feature extraction failure.\n",
      "[ WARN:0@3240.904] global loadsave.cpp:241 findDecoder imread_('/home/rguktrkvalley/Desktop/downloaded_images/81IYdOV0mVL.jpg'): can't open/read file: check file path/integrity\n",
      "2024-09-16 00:17:09,364 - WARNING - Error processing image /home/rguktrkvalley/Desktop/downloaded_images/81IYdOV0mVL.jpg: Image at /home/rguktrkvalley/Desktop/downloaded_images/81IYdOV0mVL.jpg could not be loaded.\n",
      "2024-09-16 00:17:09,365 - WARNING - Skipping image /home/rguktrkvalley/Desktop/downloaded_images/81IYdOV0mVL.jpg due to feature extraction failure.\n",
      "[ WARN:0@3240.907] global loadsave.cpp:241 findDecoder imread_('/home/rguktrkvalley/Desktop/downloaded_images/81PG3ea0MOL.jpg'): can't open/read file: check file path/integrity\n",
      "2024-09-16 00:17:09,367 - WARNING - Error processing image /home/rguktrkvalley/Desktop/downloaded_images/81PG3ea0MOL.jpg: Image at /home/rguktrkvalley/Desktop/downloaded_images/81PG3ea0MOL.jpg could not be loaded.\n",
      "2024-09-16 00:17:09,372 - WARNING - Skipping image /home/rguktrkvalley/Desktop/downloaded_images/81PG3ea0MOL.jpg due to feature extraction failure.\n",
      "[ WARN:0@3240.915] global loadsave.cpp:241 findDecoder imread_('/home/rguktrkvalley/Desktop/downloaded_images/81aZ2ozp1GL.jpg'): can't open/read file: check file path/integrity\n",
      "2024-09-16 00:17:09,375 - WARNING - Error processing image /home/rguktrkvalley/Desktop/downloaded_images/81aZ2ozp1GL.jpg: Image at /home/rguktrkvalley/Desktop/downloaded_images/81aZ2ozp1GL.jpg could not be loaded.\n",
      "2024-09-16 00:17:09,376 - WARNING - Skipping image /home/rguktrkvalley/Desktop/downloaded_images/81aZ2ozp1GL.jpg due to feature extraction failure.\n",
      "[ WARN:0@3240.918] global loadsave.cpp:241 findDecoder imread_('/home/rguktrkvalley/Desktop/downloaded_images/81qUmRUUTTL.jpg'): can't open/read file: check file path/integrity\n",
      "2024-09-16 00:17:09,378 - WARNING - Error processing image /home/rguktrkvalley/Desktop/downloaded_images/81qUmRUUTTL.jpg: Image at /home/rguktrkvalley/Desktop/downloaded_images/81qUmRUUTTL.jpg could not be loaded.\n",
      "2024-09-16 00:17:09,379 - WARNING - Skipping image /home/rguktrkvalley/Desktop/downloaded_images/81qUmRUUTTL.jpg due to feature extraction failure.\n",
      "[ WARN:0@3240.921] global loadsave.cpp:241 findDecoder imread_('/home/rguktrkvalley/Desktop/downloaded_images/81qUmRUUTTL.jpg'): can't open/read file: check file path/integrity\n",
      "2024-09-16 00:17:09,381 - WARNING - Error processing image /home/rguktrkvalley/Desktop/downloaded_images/81qUmRUUTTL.jpg: Image at /home/rguktrkvalley/Desktop/downloaded_images/81qUmRUUTTL.jpg could not be loaded.\n",
      "2024-09-16 00:17:09,382 - WARNING - Skipping image /home/rguktrkvalley/Desktop/downloaded_images/81qUmRUUTTL.jpg due to feature extraction failure.\n",
      "2024-09-16 00:17:09,383 - ERROR - No valid data for predictions.\n"
     ]
    }
   ],
   "source": [
    "import pandas as pd\n",
    "import pytesseract\n",
    "import cv2\n",
    "from tensorflow.keras.applications import EfficientNetB0\n",
    "from sklearn.linear_model import LinearRegression\n",
    "import os\n",
    "import re\n",
    "import logging\n",
    "from utils import download_images\n",
    "from constants import allowed_units\n",
    "\n",
    "# Set up logging\n",
    "logging.basicConfig(level=logging.INFO, format='%(asctime)s - %(levelname)s - %(message)s')\n",
    "\n",
    "# Step 1: Downloading Images\n",
    "def download_all_images(train_csv, download_folder):\n",
    "    \"\"\"Downloads all images listed in the CSV to a specific folder.\"\"\"\n",
    "    train_df = pd.read_csv(train_csv)\n",
    "    image_links = train_df['image_link'].tolist()\n",
    "    download_images(image_links, download_folder)\n",
    "    return train_df\n",
    "\n",
    "# Step 2: Preprocessing the Images\n",
    "\n",
    "\n",
    "# Step 4: Extract Entity Value Using Regex\n",
    "def extract_entity_value(text):\n",
    "    \"\"\"Extract numeric entity values and units using regex.\"\"\"\n",
    "    pattern = re.compile(r'(\\d+(?:\\.\\d+)?)\\s*([a-zA-Z]+)')\n",
    "    matches = pattern.findall(text)\n",
    "    \n",
    "    if matches:\n",
    "        value, unit = matches[0]\n",
    "        # Validate the unit against the allowed units\n",
    "        if unit.lower() in allowed_units:\n",
    "            return value, unit.lower()  # Return the value and unit in lowercase\n",
    "    return None, None\n",
    "\n",
    "# Step 5: CNN Feature Extraction\n",
    "def extract_image_features(image_path, cnn_model):\n",
    "    \"\"\"Extract CNN features from the image.\"\"\"\n",
    "    image = preprocess_image(image_path)\n",
    "    if image is None:\n",
    "        return None  # Skip this image if it's invalid\n",
    "    image = image.reshape((1, 224, 224, 3))\n",
    "    try:\n",
    "        features = cnn_model.predict(image)\n",
    "    except Exception as e:\n",
    "        logging.warning(f\"Error extracting features from image {image_path}: {e}\")\n",
    "        return None\n",
    "    return features\n",
    "\n",
    "# Step 6: Train a Regression Model (for Numeric Predictions)\n",
    "def train_model(train_df, download_folder, cnn_model):\n",
    "    \"\"\"Train a regression model using extracted features from images and text.\"\"\"\n",
    "    X_train = []\n",
    "    y_train = []\n",
    "\n",
    "    for idx, row in train_df.iterrows():\n",
    "        image_path = os.path.join(download_folder, os.path.basename(row['image_link']))\n",
    "        \n",
    "        # Extract features using CNN\n",
    "        image_features = extract_image_features(image_path, cnn_model)\n",
    "        if image_features is None:\n",
    "            logging.warning(f\"Skipping image {image_path} due to feature extraction failure.\")\n",
    "            continue  # Skip if image couldn't be processed\n",
    "        \n",
    "        # Extract text using OCR\n",
    "        text = extract_text_from_image(image_path)\n",
    "        \n",
    "        # Extract entity value from the text\n",
    "        value, unit = extract_entity_value(text)\n",
    "        if not value or not unit:\n",
    "            logging.warning(f\"Skipping image {image_path} due to text extraction failure.\")\n",
    "            continue  # Skip if text extraction fails\n",
    "        \n",
    "        # Combine CNN features and OCR features\n",
    "        combined_features = list(image_features[0]) + [float(value)]\n",
    "        X_train.append(combined_features)\n",
    "        y_train.append(float(row['entity_value'].split()[0]))  # Extract ground truth value\n",
    "    \n",
    "    # Train a simple regression model\n",
    "    if not X_train:\n",
    "        logging.error(\"No valid data for training.\")\n",
    "        return None\n",
    "    X_train = pd.DataFrame(X_train)\n",
    "    reg_model = LinearRegression()\n",
    "    reg_model.fit(X_train, y_train)\n",
    "    return reg_model\n",
    "\n",
    "# Step 7: Predict and Generate Output\n",
    "def predict_and_generate_output(test_csv, reg_model, download_folder, cnn_model):\n",
    "    \"\"\"Generate predictions and save to CSV in the correct format.\"\"\"\n",
    "    test_df = pd.read_csv(test_csv)\n",
    "    X_test = []\n",
    "    test_indices = []\n",
    "    predicted_units = []\n",
    "\n",
    "    for idx, row in test_df.iterrows():\n",
    "        image_path = os.path.join(download_folder, os.path.basename(row['image_link']))\n",
    "        \n",
    "        # Extract features using CNN\n",
    "        image_features = extract_image_features(image_path, cnn_model)\n",
    "        if image_features is None:\n",
    "            logging.warning(f\"Skipping image {image_path} due to feature extraction failure.\")\n",
    "            continue  # Skip if image couldn't be processed\n",
    "        \n",
    "        # Extract text using OCR\n",
    "        text = extract_text_from_image(image_path)\n",
    "        \n",
    "        # Extract entity value from the text\n",
    "        value, unit = extract_entity_value(text)\n",
    "        if not value or not unit:\n",
    "            logging.warning(f\"Skipping image {image_path} due to text extraction failure.\")\n",
    "            continue  # Skip if text extraction fails\n",
    "        \n",
    "        # Combine CNN features and OCR features\n",
    "        combined_features = list(image_features[0]) + [float(value)]\n",
    "        X_test.append(combined_features)\n",
    "        test_indices.append(row['index'])\n",
    "        predicted_units.append(unit)\n",
    "    \n",
    "    if not X_test:\n",
    "        logging.error(\"No valid data for predictions.\")\n",
    "        return\n",
    "    X_test = pd.DataFrame(X_test)\n",
    "    predictions = reg_model.predict(X_test)\n",
    "\n",
    "    # Format the predictions\n",
    "    output = pd.DataFrame({\n",
    "        'index': test_indices, \n",
    "        'prediction': [f\"{pred:.2f} {unit}\" for pred, unit in zip(predictions, predicted_units)]\n",
    "    })\n",
    "    \n",
    "    output.to_csv('test_out.csv', index=False)\n",
    "    logging.info(\"Predictions saved to test_out.csv\")\n",
    "\n",
    "# Step 8: Main Function to Run the Entire Process\n",
    "def main():\n",
    "    # Define paths\n",
    "    train_csv = '/home/rguktrkvalley/Desktop/train1.csv'\n",
    "    test_csv = '/home/rguktrkvalley/Desktop/sample_test.csv'\n",
    "    download_folder = '/home/rguktrkvalley/Desktop/downloaded_images'\n",
    "    \n",
    "    # Load CNN model only once\n",
    "    cnn_model = EfficientNetB0(weights='imagenet', include_top=False, pooling='avg')\n",
    "    \n",
    "    # Step 1: Download images\n",
    "    train_df = download_all_images(train_csv, download_folder)\n",
    "\n",
    "    # Step 2: Train the model\n",
    "    reg_model = train_model(train_df, download_folder, cnn_model)\n",
    "\n",
    "    # Step 3: Generate predictions for the test set\n",
    "    if reg_model:\n",
    "        predict_and_generate_output(test_csv, reg_model, download_folder, cnn_model)\n",
    "\n",
    "# Run the pipeline\n",
    "if __name__ == '__main__':\n",
    "    main()\n"
   ]
  }
 ],
 "metadata": {
  "kernelspec": {
   "display_name": "Python 3 (ipykernel)",
   "language": "python",
   "name": "python3"
  },
  "language_info": {
   "codemirror_mode": {
    "name": "ipython",
    "version": 3
   },
   "file_extension": ".py",
   "mimetype": "text/x-python",
   "name": "python",
   "nbconvert_exporter": "python",
   "pygments_lexer": "ipython3",
   "version": "3.8.10"
  }
 },
 "nbformat": 4,
 "nbformat_minor": 5
}
