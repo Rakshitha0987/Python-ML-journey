{
 "cells": [
  {
   "cell_type": "code",
   "execution_count": 1,
   "id": "5ffab733-2805-4da6-b534-b9544582098e",
   "metadata": {},
   "outputs": [
    {
     "name": "stderr",
     "output_type": "stream",
     "text": [
      "2024-09-15 23:23:16.374823: I tensorflow/tsl/cuda/cudart_stub.cc:28] Could not find cuda drivers on your machine, GPU will not be used.\n",
      "2024-09-15 23:23:18.642931: I tensorflow/tsl/cuda/cudart_stub.cc:28] Could not find cuda drivers on your machine, GPU will not be used.\n",
      "2024-09-15 23:23:18.646590: I tensorflow/core/platform/cpu_feature_guard.cc:182] This TensorFlow binary is optimized to use available CPU instructions in performance-critical operations.\n",
      "To enable the following instructions: AVX2 FMA, in other operations, rebuild TensorFlow with the appropriate compiler flags.\n",
      "2024-09-15 23:23:24.041183: W tensorflow/compiler/tf2tensorrt/utils/py_utils.cc:38] TF-TRT Warning: Could not find TensorRT\n",
      "100%|███████████████████████████████████████████| 99/99 [01:13<00:00,  1.35it/s]\n"
     ]
    },
    {
     "name": "stdout",
     "output_type": "stream",
     "text": [
      "Downloading data from https://storage.googleapis.com/keras-applications/efficientnetb0_notop.h5\n",
      "16705208/16705208 [==============================] - 348s 21us/step\n",
      "1/1 [==============================] - 3s 3s/step\n"
     ]
    },
    {
     "name": "stderr",
     "output_type": "stream",
     "text": [
      "Premature end of JPEG file\n"
     ]
    },
    {
     "name": "stdout",
     "output_type": "stream",
     "text": [
      "1/1 [==============================] - 3s 3s/step\n"
     ]
    },
    {
     "name": "stderr",
     "output_type": "stream",
     "text": [
      "Premature end of JPEG file\n"
     ]
    },
    {
     "name": "stdout",
     "output_type": "stream",
     "text": [
      "1/1 [==============================] - 3s 3s/step\n",
      "1/1 [==============================] - 2s 2s/step\n",
      "WARNING:tensorflow:5 out of the last 5 calls to <function Model.make_predict_function.<locals>.predict_function at 0x7fefbca235e0> triggered tf.function retracing. Tracing is expensive and the excessive number of tracings could be due to (1) creating @tf.function repeatedly in a loop, (2) passing tensors with different shapes, (3) passing Python objects instead of tensors. For (1), please define your @tf.function outside of the loop. For (2), @tf.function has reduce_retracing=True option that can avoid unnecessary retracing. For (3), please refer to https://www.tensorflow.org/guide/function#controlling_retracing and https://www.tensorflow.org/api_docs/python/tf/function for  more details.\n",
      "1/1 [==============================] - 2s 2s/step\n"
     ]
    },
    {
     "name": "stderr",
     "output_type": "stream",
     "text": [
      "Premature end of JPEG file\n"
     ]
    },
    {
     "name": "stdout",
     "output_type": "stream",
     "text": [
      "WARNING:tensorflow:6 out of the last 6 calls to <function Model.make_predict_function.<locals>.predict_function at 0x7fefbca3eb80> triggered tf.function retracing. Tracing is expensive and the excessive number of tracings could be due to (1) creating @tf.function repeatedly in a loop, (2) passing tensors with different shapes, (3) passing Python objects instead of tensors. For (1), please define your @tf.function outside of the loop. For (2), @tf.function has reduce_retracing=True option that can avoid unnecessary retracing. For (3), please refer to https://www.tensorflow.org/guide/function#controlling_retracing and https://www.tensorflow.org/api_docs/python/tf/function for  more details.\n",
      "1/1 [==============================] - 2s 2s/step\n"
     ]
    },
    {
     "name": "stderr",
     "output_type": "stream",
     "text": [
      "Premature end of JPEG file\n"
     ]
    },
    {
     "name": "stdout",
     "output_type": "stream",
     "text": [
      "1/1 [==============================] - 2s 2s/step\n",
      "1/1 [==============================] - 2s 2s/step\n"
     ]
    },
    {
     "name": "stderr",
     "output_type": "stream",
     "text": [
      "Premature end of JPEG file\n"
     ]
    },
    {
     "name": "stdout",
     "output_type": "stream",
     "text": [
      "1/1 [==============================] - 2s 2s/step\n"
     ]
    },
    {
     "name": "stderr",
     "output_type": "stream",
     "text": [
      "Premature end of JPEG file\n"
     ]
    },
    {
     "name": "stdout",
     "output_type": "stream",
     "text": [
      "1/1 [==============================] - 2s 2s/step\n",
      "1/1 [==============================] - 2s 2s/step\n",
      "1/1 [==============================] - 2s 2s/step\n"
     ]
    },
    {
     "name": "stderr",
     "output_type": "stream",
     "text": [
      "Premature end of JPEG file\n"
     ]
    },
    {
     "name": "stdout",
     "output_type": "stream",
     "text": [
      "1/1 [==============================] - 2s 2s/step\n"
     ]
    },
    {
     "name": "stderr",
     "output_type": "stream",
     "text": [
      "Premature end of JPEG file\n",
      "Premature end of JPEG file\n"
     ]
    },
    {
     "name": "stdout",
     "output_type": "stream",
     "text": [
      "1/1 [==============================] - 2s 2s/step\n"
     ]
    },
    {
     "name": "stderr",
     "output_type": "stream",
     "text": [
      "Premature end of JPEG file\n",
      "Premature end of JPEG file\n"
     ]
    },
    {
     "name": "stdout",
     "output_type": "stream",
     "text": [
      "1/1 [==============================] - 3s 3s/step\n"
     ]
    },
    {
     "name": "stderr",
     "output_type": "stream",
     "text": [
      "Premature end of JPEG file\n",
      "Premature end of JPEG file\n"
     ]
    },
    {
     "name": "stdout",
     "output_type": "stream",
     "text": [
      "1/1 [==============================] - 2s 2s/step\n"
     ]
    },
    {
     "name": "stderr",
     "output_type": "stream",
     "text": [
      "Premature end of JPEG file\n"
     ]
    },
    {
     "name": "stdout",
     "output_type": "stream",
     "text": [
      "1/1 [==============================] - 2s 2s/step\n"
     ]
    },
    {
     "name": "stderr",
     "output_type": "stream",
     "text": [
      "Premature end of JPEG file\n"
     ]
    },
    {
     "name": "stdout",
     "output_type": "stream",
     "text": [
      "1/1 [==============================] - 3s 3s/step\n"
     ]
    },
    {
     "name": "stderr",
     "output_type": "stream",
     "text": [
      "Premature end of JPEG file\n",
      "Premature end of JPEG file\n"
     ]
    },
    {
     "name": "stdout",
     "output_type": "stream",
     "text": [
      "1/1 [==============================] - 2s 2s/step\n"
     ]
    },
    {
     "name": "stderr",
     "output_type": "stream",
     "text": [
      "Premature end of JPEG file\n"
     ]
    },
    {
     "name": "stdout",
     "output_type": "stream",
     "text": [
      "1/1 [==============================] - 2s 2s/step\n",
      "1/1 [==============================] - 3s 3s/step\n"
     ]
    },
    {
     "name": "stderr",
     "output_type": "stream",
     "text": [
      "Premature end of JPEG file\n"
     ]
    },
    {
     "name": "stdout",
     "output_type": "stream",
     "text": [
      "1/1 [==============================] - 3s 3s/step\n"
     ]
    },
    {
     "name": "stderr",
     "output_type": "stream",
     "text": [
      "Premature end of JPEG file\n"
     ]
    },
    {
     "name": "stdout",
     "output_type": "stream",
     "text": [
      "1/1 [==============================] - 2s 2s/step\n"
     ]
    },
    {
     "name": "stderr",
     "output_type": "stream",
     "text": [
      "Premature end of JPEG file\n"
     ]
    },
    {
     "name": "stdout",
     "output_type": "stream",
     "text": [
      "1/1 [==============================] - 2s 2s/step\n"
     ]
    },
    {
     "name": "stderr",
     "output_type": "stream",
     "text": [
      "Premature end of JPEG file\n",
      "Premature end of JPEG file\n"
     ]
    },
    {
     "name": "stdout",
     "output_type": "stream",
     "text": [
      "1/1 [==============================] - 3s 3s/step\n"
     ]
    },
    {
     "name": "stderr",
     "output_type": "stream",
     "text": [
      "Premature end of JPEG file\n",
      "Premature end of JPEG file\n"
     ]
    },
    {
     "name": "stdout",
     "output_type": "stream",
     "text": [
      "1/1 [==============================] - 2s 2s/step\n"
     ]
    },
    {
     "name": "stderr",
     "output_type": "stream",
     "text": [
      "Premature end of JPEG file\n"
     ]
    },
    {
     "name": "stdout",
     "output_type": "stream",
     "text": [
      "1/1 [==============================] - 2s 2s/step\n"
     ]
    },
    {
     "name": "stderr",
     "output_type": "stream",
     "text": [
      "Premature end of JPEG file\n"
     ]
    },
    {
     "name": "stdout",
     "output_type": "stream",
     "text": [
      "1/1 [==============================] - 2s 2s/step\n"
     ]
    },
    {
     "name": "stderr",
     "output_type": "stream",
     "text": [
      "Premature end of JPEG file\n",
      "Premature end of JPEG file\n"
     ]
    },
    {
     "name": "stdout",
     "output_type": "stream",
     "text": [
      "1/1 [==============================] - 3s 3s/step\n"
     ]
    },
    {
     "name": "stderr",
     "output_type": "stream",
     "text": [
      "Premature end of JPEG file\n"
     ]
    },
    {
     "name": "stdout",
     "output_type": "stream",
     "text": [
      "1/1 [==============================] - 2s 2s/step\n",
      "1/1 [==============================] - 2s 2s/step\n",
      "1/1 [==============================] - 2s 2s/step\n"
     ]
    },
    {
     "name": "stderr",
     "output_type": "stream",
     "text": [
      "Premature end of JPEG file\n"
     ]
    },
    {
     "name": "stdout",
     "output_type": "stream",
     "text": [
      "1/1 [==============================] - 3s 3s/step\n"
     ]
    },
    {
     "name": "stderr",
     "output_type": "stream",
     "text": [
      "Premature end of JPEG file\n"
     ]
    },
    {
     "ename": "error",
     "evalue": "OpenCV(4.10.0) /io/opencv/modules/imgproc/src/resize.cpp:4152: error: (-215:Assertion failed) !ssize.empty() in function 'resize'\n",
     "output_type": "error",
     "traceback": [
      "\u001b[0;31m---------------------------------------------------------------------------\u001b[0m",
      "\u001b[0;31merror\u001b[0m                                     Traceback (most recent call last)",
      "Cell \u001b[0;32mIn[1], line 143\u001b[0m\n\u001b[1;32m    141\u001b[0m \u001b[38;5;66;03m# Run the pipeline\u001b[39;00m\n\u001b[1;32m    142\u001b[0m \u001b[38;5;28;01mif\u001b[39;00m \u001b[38;5;18m__name__\u001b[39m \u001b[38;5;241m==\u001b[39m \u001b[38;5;124m'\u001b[39m\u001b[38;5;124m__main__\u001b[39m\u001b[38;5;124m'\u001b[39m:\n\u001b[0;32m--> 143\u001b[0m     \u001b[43mmain\u001b[49m\u001b[43m(\u001b[49m\u001b[43m)\u001b[49m\n",
      "Cell \u001b[0;32mIn[1], line 136\u001b[0m, in \u001b[0;36mmain\u001b[0;34m()\u001b[0m\n\u001b[1;32m    133\u001b[0m train_df \u001b[38;5;241m=\u001b[39m download_all_images(train_csv, download_folder)\n\u001b[1;32m    135\u001b[0m \u001b[38;5;66;03m# Step 2: Train the model\u001b[39;00m\n\u001b[0;32m--> 136\u001b[0m reg_model \u001b[38;5;241m=\u001b[39m \u001b[43mtrain_model\u001b[49m\u001b[43m(\u001b[49m\u001b[43mtrain_df\u001b[49m\u001b[43m,\u001b[49m\u001b[43m \u001b[49m\u001b[43mdownload_folder\u001b[49m\u001b[43m)\u001b[49m\n\u001b[1;32m    138\u001b[0m \u001b[38;5;66;03m# Step 3: Generate predictions for the test set\u001b[39;00m\n\u001b[1;32m    139\u001b[0m predict_and_generate_output(test_csv, reg_model, download_folder)\n",
      "Cell \u001b[0;32mIn[1], line 66\u001b[0m, in \u001b[0;36mtrain_model\u001b[0;34m(train_df, download_folder)\u001b[0m\n\u001b[1;32m     63\u001b[0m image_path \u001b[38;5;241m=\u001b[39m os\u001b[38;5;241m.\u001b[39mpath\u001b[38;5;241m.\u001b[39mjoin(download_folder, os\u001b[38;5;241m.\u001b[39mpath\u001b[38;5;241m.\u001b[39mbasename(row[\u001b[38;5;124m'\u001b[39m\u001b[38;5;124mimage_link\u001b[39m\u001b[38;5;124m'\u001b[39m]))\n\u001b[1;32m     65\u001b[0m \u001b[38;5;66;03m# Extract features using CNN\u001b[39;00m\n\u001b[0;32m---> 66\u001b[0m image_features \u001b[38;5;241m=\u001b[39m \u001b[43mextract_image_features\u001b[49m\u001b[43m(\u001b[49m\u001b[43mimage_path\u001b[49m\u001b[43m)\u001b[49m\n\u001b[1;32m     68\u001b[0m \u001b[38;5;66;03m# Extract text using OCR\u001b[39;00m\n\u001b[1;32m     69\u001b[0m text \u001b[38;5;241m=\u001b[39m extract_text_from_image(image_path)\n",
      "Cell \u001b[0;32mIn[1], line 51\u001b[0m, in \u001b[0;36mextract_image_features\u001b[0;34m(image_path)\u001b[0m\n\u001b[1;32m     49\u001b[0m \u001b[38;5;250m\u001b[39m\u001b[38;5;124;03m\"\"\"Extract CNN features from the image.\"\"\"\u001b[39;00m\n\u001b[1;32m     50\u001b[0m cnn_model \u001b[38;5;241m=\u001b[39m EfficientNetB0(weights\u001b[38;5;241m=\u001b[39m\u001b[38;5;124m'\u001b[39m\u001b[38;5;124mimagenet\u001b[39m\u001b[38;5;124m'\u001b[39m, include_top\u001b[38;5;241m=\u001b[39m\u001b[38;5;28;01mFalse\u001b[39;00m, pooling\u001b[38;5;241m=\u001b[39m\u001b[38;5;124m'\u001b[39m\u001b[38;5;124mavg\u001b[39m\u001b[38;5;124m'\u001b[39m)\n\u001b[0;32m---> 51\u001b[0m image \u001b[38;5;241m=\u001b[39m \u001b[43mpreprocess_image\u001b[49m\u001b[43m(\u001b[49m\u001b[43mimage_path\u001b[49m\u001b[43m)\u001b[49m\n\u001b[1;32m     52\u001b[0m image \u001b[38;5;241m=\u001b[39m image\u001b[38;5;241m.\u001b[39mreshape((\u001b[38;5;241m1\u001b[39m, \u001b[38;5;241m224\u001b[39m, \u001b[38;5;241m224\u001b[39m, \u001b[38;5;241m3\u001b[39m))\n\u001b[1;32m     53\u001b[0m features \u001b[38;5;241m=\u001b[39m cnn_model\u001b[38;5;241m.\u001b[39mpredict(image)\n",
      "Cell \u001b[0;32mIn[1], line 24\u001b[0m, in \u001b[0;36mpreprocess_image\u001b[0;34m(image_path)\u001b[0m\n\u001b[1;32m     22\u001b[0m \u001b[38;5;250m\u001b[39m\u001b[38;5;124;03m\"\"\"Load and preprocess image for input into the CNN model.\"\"\"\u001b[39;00m\n\u001b[1;32m     23\u001b[0m image \u001b[38;5;241m=\u001b[39m cv2\u001b[38;5;241m.\u001b[39mimread(image_path)\n\u001b[0;32m---> 24\u001b[0m image \u001b[38;5;241m=\u001b[39m \u001b[43mcv2\u001b[49m\u001b[38;5;241;43m.\u001b[39;49m\u001b[43mresize\u001b[49m\u001b[43m(\u001b[49m\u001b[43mimage\u001b[49m\u001b[43m,\u001b[49m\u001b[43m \u001b[49m\u001b[43m(\u001b[49m\u001b[38;5;241;43m224\u001b[39;49m\u001b[43m,\u001b[49m\u001b[43m \u001b[49m\u001b[38;5;241;43m224\u001b[39;49m\u001b[43m)\u001b[49m\u001b[43m)\u001b[49m  \u001b[38;5;66;03m# Resize to input size of EfficientNet\u001b[39;00m\n\u001b[1;32m     25\u001b[0m image \u001b[38;5;241m=\u001b[39m image \u001b[38;5;241m/\u001b[39m \u001b[38;5;241m255.0\u001b[39m  \u001b[38;5;66;03m# Normalize pixel values\u001b[39;00m\n\u001b[1;32m     26\u001b[0m \u001b[38;5;28;01mreturn\u001b[39;00m image\n",
      "\u001b[0;31merror\u001b[0m: OpenCV(4.10.0) /io/opencv/modules/imgproc/src/resize.cpp:4152: error: (-215:Assertion failed) !ssize.empty() in function 'resize'\n"
     ]
    }
   ],
   "source": [
    "import pandas as pd\n",
    "import pytesseract\n",
    "import cv2\n",
    "from tensorflow.keras.applications import EfficientNetB0\n",
    "from sklearn.model_selection import train_test_split\n",
    "from sklearn.linear_model import LinearRegression\n",
    "import os\n",
    "import re\n",
    "from utils import download_images\n",
    "from constants import entity_unit_map, allowed_units\n",
    "\n",
    "# Step 1: Downloading Images\n",
    "def download_all_images(train_csv, download_folder):\n",
    "    \"\"\"Downloads all images listed in the CSV to a specific folder.\"\"\"\n",
    "    train_df = pd.read_csv(train_csv)\n",
    "    image_links = train_df['image_link'].tolist()\n",
    "    download_images(image_links, download_folder)\n",
    "    return train_df\n",
    "\n",
    "# Step 2: Preprocessing the Images\n",
    "def preprocess_image(image_path):\n",
    "    \"\"\"Load and preprocess image for input into the CNN model.\"\"\"\n",
    "    image = cv2.imread(image_path)\n",
    "    image = cv2.resize(image, (224, 224))  # Resize to input size of EfficientNet\n",
    "    image = image / 255.0  # Normalize pixel values\n",
    "    return image\n",
    "\n",
    "# Step 3: OCR Text Extraction\n",
    "def extract_text_from_image(image_path):\n",
    "    \"\"\"Use OCR to extract text from images.\"\"\"\n",
    "    image = cv2.imread(image_path)\n",
    "    text = pytesseract.image_to_string(image)\n",
    "    return text\n",
    "\n",
    "def extract_entity_value(text):\n",
    "    \"\"\"Extract numeric entity values and units using regex.\"\"\"\n",
    "    pattern = re.compile(r'(\\d+(?:\\.\\d+)?)\\s*([a-zA-Z]+)')\n",
    "    matches = pattern.findall(text)\n",
    "    \n",
    "    if matches:\n",
    "        value, unit = matches[0]\n",
    "        # Validate the unit against the allowed units\n",
    "        if unit.lower() in allowed_units:\n",
    "            return value, unit.lower()  # Return the value and unit in lowercase\n",
    "    return None, None\n",
    "\n",
    "# Step 4: CNN Feature Extraction\n",
    "def extract_image_features(image_path):\n",
    "    \"\"\"Extract CNN features from the image.\"\"\"\n",
    "    cnn_model = EfficientNetB0(weights='imagenet', include_top=False, pooling='avg')\n",
    "    image = preprocess_image(image_path)\n",
    "    image = image.reshape((1, 224, 224, 3))\n",
    "    features = cnn_model.predict(image)\n",
    "    return features\n",
    "\n",
    "# Step 5: Train a Regression Model (for Numeric Predictions)\n",
    "def train_model(train_df, download_folder):\n",
    "    \"\"\"Train a regression model using extracted features from images and text.\"\"\"\n",
    "    X_train = []\n",
    "    y_train = []\n",
    "\n",
    "    for idx, row in train_df.iterrows():\n",
    "        image_path = os.path.join(download_folder, os.path.basename(row['image_link']))\n",
    "        \n",
    "        # Extract features using CNN\n",
    "        image_features = extract_image_features(image_path)\n",
    "        \n",
    "        # Extract text using OCR\n",
    "        text = extract_text_from_image(image_path)\n",
    "        \n",
    "        # Extract entity value from the text\n",
    "        value, unit = extract_entity_value(text)\n",
    "        \n",
    "        if value and unit:\n",
    "            # Combine CNN features and OCR features\n",
    "            combined_features = list(image_features[0]) + [float(value)]\n",
    "            X_train.append(combined_features)\n",
    "            y_train.append(float(row['entity_value'].split()[0]))  # Extract ground truth value\n",
    "    \n",
    "    # Train a simple regression model\n",
    "    X_train = pd.DataFrame(X_train)\n",
    "    reg_model = LinearRegression()\n",
    "    reg_model.fit(X_train, y_train)\n",
    "    return reg_model\n",
    "\n",
    "# Step 6: Predict and Generate Output\n",
    "def predict_and_generate_output(test_csv, reg_model, download_folder):\n",
    "    \"\"\"Generate predictions and save to CSV in the correct format.\"\"\"\n",
    "    test_df = pd.read_csv(test_csv)\n",
    "    X_test = []\n",
    "    test_indices = []\n",
    "    predicted_units = []\n",
    "\n",
    "    for idx, row in test_df.iterrows():\n",
    "        image_path = os.path.join(download_folder, os.path.basename(row['image_link']))\n",
    "        \n",
    "        # Extract features using CNN\n",
    "        image_features = extract_image_features(image_path)\n",
    "        \n",
    "        # Extract text using OCR\n",
    "        text = extract_text_from_image(image_path)\n",
    "        \n",
    "        # Extract entity value from the text\n",
    "        value, unit = extract_entity_value(text)\n",
    "        \n",
    "        if value and unit:\n",
    "            # Combine CNN features and OCR features\n",
    "            combined_features = list(image_features[0]) + [float(value)]\n",
    "            X_test.append(combined_features)\n",
    "            test_indices.append(row['index'])\n",
    "            predicted_units.append(unit)\n",
    "    \n",
    "    X_test = pd.DataFrame(X_test)\n",
    "    predictions = reg_model.predict(X_test)\n",
    "\n",
    "    # Format the predictions\n",
    "    output = pd.DataFrame({\n",
    "        'index': test_indices, \n",
    "        'prediction': [f\"{pred:.2f} {unit}\" for pred, unit in zip(predictions, predicted_units)]\n",
    "    })\n",
    "    \n",
    "    output.to_csv('test_out.csv', index=False)\n",
    "    print(\"Predictions saved to test_out.csv\")\n",
    "\n",
    "# Step 7: Main Function to Run the Entire Process\n",
    "def main():\n",
    "    # Define paths\n",
    "    train_csv = '/home/rguktrkvalley/Desktop/train1.csv'\n",
    "    test_csv = '/home/rguktrkvalley/Desktop/sample_test.csv'\n",
    "    download_folder = '/home/rguktrkvalley/Desktop/downloaded_images'\n",
    "    \n",
    "    # Step 1: Download images\n",
    "    train_df = download_all_images(train_csv, download_folder)\n",
    "\n",
    "    # Step 2: Train the model\n",
    "    reg_model = train_model(train_df, download_folder)\n",
    "\n",
    "    # Step 3: Generate predictions for the test set\n",
    "    predict_and_generate_output(test_csv, reg_model, download_folder)\n",
    "\n",
    "# Run the pipeline\n",
    "if __name__ == '__main__':\n",
    "    main()\n"
   ]
  },
  {
   "cell_type": "code",
   "execution_count": null,
   "id": "d6aebb07-5ae0-4856-9d36-c70370390417",
   "metadata": {},
   "outputs": [],
   "source": []
  },
  {
   "cell_type": "code",
   "execution_count": null,
   "id": "dc29779d-6281-476c-a4c0-9fd9f121e62c",
   "metadata": {},
   "outputs": [],
   "source": []
  },
  {
   "cell_type": "code",
   "execution_count": null,
   "id": "7c8f0dbf-fa2c-4495-8d6f-a848abf83f40",
   "metadata": {},
   "outputs": [],
   "source": []
  },
  {
   "cell_type": "code",
   "execution_count": 3,
   "id": "365424a9-e25c-44b7-a7ab-26c64bce6db3",
   "metadata": {},
   "outputs": [
    {
     "name": "stderr",
     "output_type": "stream",
     "text": [
      "100%|█████████████████████████████████████████| 99/99 [00:00<00:00, 7076.40it/s]\n"
     ]
    },
    {
     "name": "stdout",
     "output_type": "stream",
     "text": [
      "1/1 [==============================] - 4s 4s/step\n"
     ]
    },
    {
     "name": "stderr",
     "output_type": "stream",
     "text": [
      "2024-09-16 00:58:49,347 - DEBUG - ['tesseract', '/tmp/tess_jk4e5u_x_input.PNG', '/tmp/tess_jk4e5u_x', 'txt']\n"
     ]
    },
    {
     "name": "stdout",
     "output_type": "stream",
     "text": [
      "1/1 [==============================] - 0s 112ms/step\n"
     ]
    },
    {
     "name": "stderr",
     "output_type": "stream",
     "text": [
      "Premature end of JPEG file\n",
      "Premature end of JPEG file\n",
      "2024-09-16 00:58:50,958 - DEBUG - ['tesseract', '/tmp/tess_5dlt5fz3_input.PNG', '/tmp/tess_5dlt5fz3', 'txt']\n"
     ]
    },
    {
     "name": "stdout",
     "output_type": "stream",
     "text": [
      "1/1 [==============================] - 0s 102ms/step\n"
     ]
    },
    {
     "name": "stderr",
     "output_type": "stream",
     "text": [
      "2024-09-16 00:58:51,949 - DEBUG - ['tesseract', '/tmp/tess_qlyyz08g_input.PNG', '/tmp/tess_qlyyz08g', 'txt']\n"
     ]
    },
    {
     "name": "stdout",
     "output_type": "stream",
     "text": [
      "1/1 [==============================] - 0s 128ms/step\n"
     ]
    },
    {
     "name": "stderr",
     "output_type": "stream",
     "text": [
      "2024-09-16 00:58:53,672 - DEBUG - ['tesseract', '/tmp/tess_6ohd2dhn_input.PNG', '/tmp/tess_6ohd2dhn', 'txt']\n"
     ]
    },
    {
     "name": "stdout",
     "output_type": "stream",
     "text": [
      "1/1 [==============================] - 0s 100ms/step\n"
     ]
    },
    {
     "name": "stderr",
     "output_type": "stream",
     "text": [
      "2024-09-16 00:58:54,635 - DEBUG - ['tesseract', '/tmp/tess_qhbc25vf_input.PNG', '/tmp/tess_qhbc25vf', 'txt']\n"
     ]
    },
    {
     "name": "stdout",
     "output_type": "stream",
     "text": [
      "1/1 [==============================] - 0s 90ms/step\n"
     ]
    },
    {
     "name": "stderr",
     "output_type": "stream",
     "text": [
      "Premature end of JPEG file\n",
      "Premature end of JPEG file\n",
      "2024-09-16 00:58:55,761 - DEBUG - ['tesseract', '/tmp/tess_8w2bt9iz_input.PNG', '/tmp/tess_8w2bt9iz', 'txt']\n"
     ]
    },
    {
     "name": "stdout",
     "output_type": "stream",
     "text": [
      "1/1 [==============================] - 0s 91ms/step\n"
     ]
    },
    {
     "name": "stderr",
     "output_type": "stream",
     "text": [
      "2024-09-16 00:58:57,821 - DEBUG - ['tesseract', '/tmp/tess_l2vt4dul_input.PNG', '/tmp/tess_l2vt4dul', 'txt']\n"
     ]
    },
    {
     "name": "stdout",
     "output_type": "stream",
     "text": [
      "1/1 [==============================] - 0s 105ms/step\n"
     ]
    },
    {
     "name": "stderr",
     "output_type": "stream",
     "text": [
      "2024-09-16 00:59:01,332 - DEBUG - ['tesseract', '/tmp/tess_v_td46k0_input.PNG', '/tmp/tess_v_td46k0', 'txt']\n",
      "Premature end of JPEG file\n"
     ]
    },
    {
     "name": "stdout",
     "output_type": "stream",
     "text": [
      "1/1 [==============================] - 0s 134ms/step\n"
     ]
    },
    {
     "name": "stderr",
     "output_type": "stream",
     "text": [
      "Premature end of JPEG file\n",
      "2024-09-16 00:59:03,926 - DEBUG - ['tesseract', '/tmp/tess_siab8tdc_input.PNG', '/tmp/tess_siab8tdc', 'txt']\n"
     ]
    },
    {
     "name": "stdout",
     "output_type": "stream",
     "text": [
      "1/1 [==============================] - 0s 94ms/step\n"
     ]
    },
    {
     "name": "stderr",
     "output_type": "stream",
     "text": [
      "2024-09-16 00:59:05,736 - DEBUG - ['tesseract', '/tmp/tess_uzn59n2w_input.PNG', '/tmp/tess_uzn59n2w', 'txt']\n"
     ]
    },
    {
     "name": "stdout",
     "output_type": "stream",
     "text": [
      "1/1 [==============================] - 0s 92ms/step\n"
     ]
    },
    {
     "name": "stderr",
     "output_type": "stream",
     "text": [
      "2024-09-16 00:59:07,841 - DEBUG - ['tesseract', '/tmp/tess_xnn3yb74_input.PNG', '/tmp/tess_xnn3yb74', 'txt']\n"
     ]
    },
    {
     "name": "stdout",
     "output_type": "stream",
     "text": [
      "1/1 [==============================] - 0s 88ms/step\n"
     ]
    },
    {
     "name": "stderr",
     "output_type": "stream",
     "text": [
      "2024-09-16 00:59:09,291 - DEBUG - ['tesseract', '/tmp/tess_pymoebzc_input.PNG', '/tmp/tess_pymoebzc', 'txt']\n",
      "Premature end of JPEG file\n"
     ]
    },
    {
     "name": "stdout",
     "output_type": "stream",
     "text": [
      "1/1 [==============================] - 0s 93ms/step\n"
     ]
    },
    {
     "name": "stderr",
     "output_type": "stream",
     "text": [
      "Premature end of JPEG file\n",
      "2024-09-16 00:59:10,475 - DEBUG - ['tesseract', '/tmp/tess_q25477b2_input.PNG', '/tmp/tess_q25477b2', 'txt']\n",
      "Premature end of JPEG file\n"
     ]
    },
    {
     "name": "stdout",
     "output_type": "stream",
     "text": [
      "1/1 [==============================] - 0s 95ms/step\n"
     ]
    },
    {
     "name": "stderr",
     "output_type": "stream",
     "text": [
      "Premature end of JPEG file\n",
      "2024-09-16 00:59:12,475 - DEBUG - ['tesseract', '/tmp/tess_176n_3r4_input.PNG', '/tmp/tess_176n_3r4', 'txt']\n",
      "Premature end of JPEG file\n"
     ]
    },
    {
     "name": "stdout",
     "output_type": "stream",
     "text": [
      "1/1 [==============================] - 0s 96ms/step\n"
     ]
    },
    {
     "name": "stderr",
     "output_type": "stream",
     "text": [
      "Premature end of JPEG file\n",
      "2024-09-16 00:59:15,355 - DEBUG - ['tesseract', '/tmp/tess_r9q9af6e_input.PNG', '/tmp/tess_r9q9af6e', 'txt']\n",
      "Premature end of JPEG file\n"
     ]
    },
    {
     "name": "stdout",
     "output_type": "stream",
     "text": [
      "1/1 [==============================] - 0s 101ms/step\n"
     ]
    },
    {
     "name": "stderr",
     "output_type": "stream",
     "text": [
      "Premature end of JPEG file\n",
      "2024-09-16 00:59:21,271 - DEBUG - ['tesseract', '/tmp/tess_dmoald17_input.PNG', '/tmp/tess_dmoald17', 'txt']\n"
     ]
    },
    {
     "name": "stdout",
     "output_type": "stream",
     "text": [
      "1/1 [==============================] - 0s 93ms/step\n"
     ]
    },
    {
     "name": "stderr",
     "output_type": "stream",
     "text": [
      "2024-09-16 00:59:24,453 - DEBUG - ['tesseract', '/tmp/tess_cqd6a_eg_input.PNG', '/tmp/tess_cqd6a_eg', 'txt']\n"
     ]
    },
    {
     "name": "stdout",
     "output_type": "stream",
     "text": [
      "1/1 [==============================] - 0s 90ms/step\n"
     ]
    },
    {
     "name": "stderr",
     "output_type": "stream",
     "text": [
      "Premature end of JPEG file\n",
      "Premature end of JPEG file\n",
      "2024-09-16 00:59:25,939 - DEBUG - ['tesseract', '/tmp/tess_h643i05j_input.PNG', '/tmp/tess_h643i05j', 'txt']\n"
     ]
    },
    {
     "name": "stdout",
     "output_type": "stream",
     "text": [
      "1/1 [==============================] - 0s 100ms/step\n"
     ]
    },
    {
     "name": "stderr",
     "output_type": "stream",
     "text": [
      "Premature end of JPEG file\n",
      "Premature end of JPEG file\n",
      "2024-09-16 00:59:27,064 - DEBUG - ['tesseract', '/tmp/tess_nvl8egty_input.PNG', '/tmp/tess_nvl8egty', 'txt']\n"
     ]
    },
    {
     "name": "stdout",
     "output_type": "stream",
     "text": [
      "1/1 [==============================] - 0s 92ms/step\n"
     ]
    },
    {
     "name": "stderr",
     "output_type": "stream",
     "text": [
      "2024-09-16 00:59:29,591 - DEBUG - ['tesseract', '/tmp/tess_nvv9k2wr_input.PNG', '/tmp/tess_nvv9k2wr', 'txt']\n"
     ]
    },
    {
     "name": "stdout",
     "output_type": "stream",
     "text": [
      "1/1 [==============================] - 0s 106ms/step\n"
     ]
    },
    {
     "name": "stderr",
     "output_type": "stream",
     "text": [
      "2024-09-16 00:59:30,911 - DEBUG - ['tesseract', '/tmp/tess_csfhcole_input.PNG', '/tmp/tess_csfhcole', 'txt']\n"
     ]
    },
    {
     "name": "stdout",
     "output_type": "stream",
     "text": [
      "1/1 [==============================] - 0s 91ms/step\n"
     ]
    },
    {
     "name": "stderr",
     "output_type": "stream",
     "text": [
      "Premature end of JPEG file\n",
      "Premature end of JPEG file\n",
      "2024-09-16 00:59:31,657 - DEBUG - ['tesseract', '/tmp/tess_5_r0t1wn_input.PNG', '/tmp/tess_5_r0t1wn', 'txt']\n"
     ]
    },
    {
     "name": "stdout",
     "output_type": "stream",
     "text": [
      "1/1 [==============================] - 0s 162ms/step\n"
     ]
    },
    {
     "name": "stderr",
     "output_type": "stream",
     "text": [
      "2024-09-16 00:59:33,637 - DEBUG - ['tesseract', '/tmp/tess_gqa1izeo_input.PNG', '/tmp/tess_gqa1izeo', 'txt']\n",
      "Premature end of JPEG file\n"
     ]
    },
    {
     "name": "stdout",
     "output_type": "stream",
     "text": [
      "1/1 [==============================] - 0s 106ms/step\n"
     ]
    },
    {
     "name": "stderr",
     "output_type": "stream",
     "text": [
      "Premature end of JPEG file\n",
      "2024-09-16 00:59:35,787 - DEBUG - ['tesseract', '/tmp/tess_mitvx2gn_input.PNG', '/tmp/tess_mitvx2gn', 'txt']\n",
      "Premature end of JPEG file\n"
     ]
    },
    {
     "name": "stdout",
     "output_type": "stream",
     "text": [
      "1/1 [==============================] - 0s 106ms/step\n"
     ]
    },
    {
     "name": "stderr",
     "output_type": "stream",
     "text": [
      "Premature end of JPEG file\n",
      "2024-09-16 00:59:37,859 - DEBUG - ['tesseract', '/tmp/tess_741mlwhu_input.PNG', '/tmp/tess_741mlwhu', 'txt']\n"
     ]
    },
    {
     "name": "stdout",
     "output_type": "stream",
     "text": [
      "1/1 [==============================] - 0s 97ms/step\n"
     ]
    },
    {
     "name": "stderr",
     "output_type": "stream",
     "text": [
      "Premature end of JPEG file\n",
      "Premature end of JPEG file\n",
      "2024-09-16 00:59:39,566 - DEBUG - ['tesseract', '/tmp/tess_4hqucslp_input.PNG', '/tmp/tess_4hqucslp', 'txt']\n"
     ]
    },
    {
     "name": "stdout",
     "output_type": "stream",
     "text": [
      "1/1 [==============================] - 0s 153ms/step\n"
     ]
    },
    {
     "name": "stderr",
     "output_type": "stream",
     "text": [
      "2024-09-16 00:59:41,135 - DEBUG - ['tesseract', '/tmp/tess_x7a4st7u_input.PNG', '/tmp/tess_x7a4st7u', 'txt']\n",
      "Premature end of JPEG file\n"
     ]
    },
    {
     "name": "stdout",
     "output_type": "stream",
     "text": [
      "1/1 [==============================] - 0s 141ms/step\n"
     ]
    },
    {
     "name": "stderr",
     "output_type": "stream",
     "text": [
      "Premature end of JPEG file\n",
      "2024-09-16 00:59:42,321 - DEBUG - ['tesseract', '/tmp/tess_coa97cbp_input.PNG', '/tmp/tess_coa97cbp', 'txt']\n",
      "Premature end of JPEG file\n"
     ]
    },
    {
     "name": "stdout",
     "output_type": "stream",
     "text": [
      "1/1 [==============================] - 0s 159ms/step\n"
     ]
    },
    {
     "name": "stderr",
     "output_type": "stream",
     "text": [
      "Premature end of JPEG file\n",
      "2024-09-16 00:59:43,130 - DEBUG - ['tesseract', '/tmp/tess_7mnjonr6_input.PNG', '/tmp/tess_7mnjonr6', 'txt']\n"
     ]
    },
    {
     "name": "stdout",
     "output_type": "stream",
     "text": [
      "1/1 [==============================] - 0s 212ms/step\n"
     ]
    },
    {
     "name": "stderr",
     "output_type": "stream",
     "text": [
      "2024-09-16 00:59:44,714 - DEBUG - ['tesseract', '/tmp/tess_6szgkgpg_input.PNG', '/tmp/tess_6szgkgpg', 'txt']\n"
     ]
    },
    {
     "name": "stdout",
     "output_type": "stream",
     "text": [
      "1/1 [==============================] - 0s 181ms/step\n"
     ]
    },
    {
     "name": "stderr",
     "output_type": "stream",
     "text": [
      "2024-09-16 00:59:51,585 - DEBUG - ['tesseract', '/tmp/tess_ofas4i5n_input.PNG', '/tmp/tess_ofas4i5n', 'txt']\n"
     ]
    },
    {
     "name": "stdout",
     "output_type": "stream",
     "text": [
      "1/1 [==============================] - 0s 105ms/step\n"
     ]
    },
    {
     "name": "stderr",
     "output_type": "stream",
     "text": [
      "2024-09-16 00:59:55,381 - DEBUG - ['tesseract', '/tmp/tess_wwmqjfsm_input.PNG', '/tmp/tess_wwmqjfsm', 'txt']\n"
     ]
    },
    {
     "name": "stdout",
     "output_type": "stream",
     "text": [
      "1/1 [==============================] - 0s 91ms/step\n"
     ]
    },
    {
     "name": "stderr",
     "output_type": "stream",
     "text": [
      "Premature end of JPEG file\n",
      "Premature end of JPEG file\n",
      "2024-09-16 00:59:58,560 - DEBUG - ['tesseract', '/tmp/tess_bwf2z0k8_input.PNG', '/tmp/tess_bwf2z0k8', 'txt']\n",
      "2024-09-16 00:59:59,772 - WARNING - Error processing image /home/rguktrkvalley/Desktop/downloaded_images/71D824lbRvL.jpg: Image at /home/rguktrkvalley/Desktop/downloaded_images/71D824lbRvL.jpg could not be loaded.\n",
      "Premature end of JPEG file\n"
     ]
    },
    {
     "name": "stdout",
     "output_type": "stream",
     "text": [
      "1/1 [==============================] - 0s 178ms/step\n"
     ]
    },
    {
     "name": "stderr",
     "output_type": "stream",
     "text": [
      "Premature end of JPEG file\n",
      "2024-09-16 01:00:00,709 - DEBUG - ['tesseract', '/tmp/tess_x75cw7t1_input.PNG', '/tmp/tess_x75cw7t1', 'txt']\n",
      "2024-09-16 01:00:01,269 - WARNING - Error processing image /home/rguktrkvalley/Desktop/downloaded_images/51bQPPtMqYL.jpg: Image at /home/rguktrkvalley/Desktop/downloaded_images/51bQPPtMqYL.jpg could not be loaded.\n",
      "Premature end of JPEG file\n"
     ]
    },
    {
     "name": "stdout",
     "output_type": "stream",
     "text": [
      "1/1 [==============================] - 0s 115ms/step\n"
     ]
    },
    {
     "name": "stderr",
     "output_type": "stream",
     "text": [
      "Premature end of JPEG file\n",
      "2024-09-16 01:00:01,701 - DEBUG - ['tesseract', '/tmp/tess_a7vi8bss_input.PNG', '/tmp/tess_a7vi8bss', 'txt']\n",
      "Premature end of JPEG file\n"
     ]
    },
    {
     "name": "stdout",
     "output_type": "stream",
     "text": [
      "1/1 [==============================] - 0s 171ms/step\n"
     ]
    },
    {
     "name": "stderr",
     "output_type": "stream",
     "text": [
      "Premature end of JPEG file\n",
      "2024-09-16 01:00:02,515 - DEBUG - ['tesseract', '/tmp/tess_jvrlejta_input.PNG', '/tmp/tess_jvrlejta', 'txt']\n"
     ]
    },
    {
     "name": "stdout",
     "output_type": "stream",
     "text": [
      "1/1 [==============================] - 0s 92ms/step\n"
     ]
    },
    {
     "name": "stderr",
     "output_type": "stream",
     "text": [
      "2024-09-16 01:00:03,389 - DEBUG - ['tesseract', '/tmp/tess_yjiqm3w3_input.PNG', '/tmp/tess_yjiqm3w3', 'txt']\n"
     ]
    },
    {
     "name": "stdout",
     "output_type": "stream",
     "text": [
      "1/1 [==============================] - 0s 88ms/step\n"
     ]
    },
    {
     "name": "stderr",
     "output_type": "stream",
     "text": [
      "Premature end of JPEG file\n",
      "Premature end of JPEG file\n",
      "2024-09-16 01:00:05,970 - DEBUG - ['tesseract', '/tmp/tess_umno380p_input.PNG', '/tmp/tess_umno380p', 'txt']\n",
      "Premature end of JPEG file\n"
     ]
    },
    {
     "name": "stdout",
     "output_type": "stream",
     "text": [
      "1/1 [==============================] - 0s 147ms/step\n"
     ]
    },
    {
     "name": "stderr",
     "output_type": "stream",
     "text": [
      "Premature end of JPEG file\n",
      "2024-09-16 01:00:07,536 - DEBUG - ['tesseract', '/tmp/tess_2w4spkiy_input.PNG', '/tmp/tess_2w4spkiy', 'txt']\n"
     ]
    },
    {
     "name": "stdout",
     "output_type": "stream",
     "text": [
      "1/1 [==============================] - 0s 92ms/step\n"
     ]
    },
    {
     "name": "stderr",
     "output_type": "stream",
     "text": [
      "2024-09-16 01:00:09,710 - DEBUG - ['tesseract', '/tmp/tess_4wuorihb_input.PNG', '/tmp/tess_4wuorihb', 'txt']\n"
     ]
    },
    {
     "name": "stdout",
     "output_type": "stream",
     "text": [
      "1/1 [==============================] - 0s 87ms/step\n"
     ]
    },
    {
     "name": "stderr",
     "output_type": "stream",
     "text": [
      "2024-09-16 01:00:13,540 - DEBUG - ['tesseract', '/tmp/tess_x5amdpq__input.PNG', '/tmp/tess_x5amdpq_', 'txt']\n"
     ]
    },
    {
     "name": "stdout",
     "output_type": "stream",
     "text": [
      "1/1 [==============================] - 0s 133ms/step\n"
     ]
    },
    {
     "name": "stderr",
     "output_type": "stream",
     "text": [
      "2024-09-16 01:00:14,598 - DEBUG - ['tesseract', '/tmp/tess_yi_pb1s0_input.PNG', '/tmp/tess_yi_pb1s0', 'txt']\n",
      "Premature end of JPEG file\n"
     ]
    },
    {
     "name": "stdout",
     "output_type": "stream",
     "text": [
      "1/1 [==============================] - 0s 140ms/step\n"
     ]
    },
    {
     "name": "stderr",
     "output_type": "stream",
     "text": [
      "Premature end of JPEG file\n",
      "2024-09-16 01:00:17,745 - DEBUG - ['tesseract', '/tmp/tess_ic0rg1it_input.PNG', '/tmp/tess_ic0rg1it', 'txt']\n"
     ]
    },
    {
     "name": "stdout",
     "output_type": "stream",
     "text": [
      "1/1 [==============================] - 0s 94ms/step\n"
     ]
    },
    {
     "name": "stderr",
     "output_type": "stream",
     "text": [
      "Premature end of JPEG file\n",
      "Premature end of JPEG file\n",
      "2024-09-16 01:00:19,496 - DEBUG - ['tesseract', '/tmp/tess_qf0r3znm_input.PNG', '/tmp/tess_qf0r3znm', 'txt']\n"
     ]
    },
    {
     "name": "stdout",
     "output_type": "stream",
     "text": [
      "1/1 [==============================] - 0s 161ms/step\n"
     ]
    },
    {
     "name": "stderr",
     "output_type": "stream",
     "text": [
      "2024-09-16 01:00:20,855 - DEBUG - ['tesseract', '/tmp/tess_ibbd7x7t_input.PNG', '/tmp/tess_ibbd7x7t', 'txt']\n"
     ]
    },
    {
     "name": "stdout",
     "output_type": "stream",
     "text": [
      "1/1 [==============================] - ETA: 0s"
     ]
    },
    {
     "name": "stderr",
     "output_type": "stream",
     "text": [
      "Premature end of JPEG file\n"
     ]
    },
    {
     "name": "stdout",
     "output_type": "stream",
     "text": [
      "1/1 [==============================] - 0s 99ms/step\n"
     ]
    },
    {
     "name": "stderr",
     "output_type": "stream",
     "text": [
      "Premature end of JPEG file\n",
      "2024-09-16 01:00:22,888 - DEBUG - ['tesseract', '/tmp/tess_bk1x2rdp_input.PNG', '/tmp/tess_bk1x2rdp', 'txt']\n",
      "Premature end of JPEG file\n"
     ]
    },
    {
     "name": "stdout",
     "output_type": "stream",
     "text": [
      "1/1 [==============================] - 0s 93ms/step\n"
     ]
    },
    {
     "name": "stderr",
     "output_type": "stream",
     "text": [
      "Premature end of JPEG file\n",
      "2024-09-16 01:00:25,496 - DEBUG - ['tesseract', '/tmp/tess_i_bm638d_input.PNG', '/tmp/tess_i_bm638d', 'txt']\n"
     ]
    },
    {
     "name": "stdout",
     "output_type": "stream",
     "text": [
      "1/1 [==============================] - 0s 209ms/step\n"
     ]
    },
    {
     "name": "stderr",
     "output_type": "stream",
     "text": [
      "2024-09-16 01:00:28,199 - DEBUG - ['tesseract', '/tmp/tess_8ycitnm2_input.PNG', '/tmp/tess_8ycitnm2', 'txt']\n"
     ]
    },
    {
     "name": "stdout",
     "output_type": "stream",
     "text": [
      "1/1 [==============================] - 0s 98ms/step\n"
     ]
    },
    {
     "name": "stderr",
     "output_type": "stream",
     "text": [
      "2024-09-16 01:00:29,339 - DEBUG - ['tesseract', '/tmp/tess_fu4__8ad_input.PNG', '/tmp/tess_fu4__8ad', 'txt']\n"
     ]
    },
    {
     "name": "stdout",
     "output_type": "stream",
     "text": [
      "1/1 [==============================] - 0s 92ms/step\n"
     ]
    },
    {
     "name": "stderr",
     "output_type": "stream",
     "text": [
      "2024-09-16 01:00:30,923 - DEBUG - ['tesseract', '/tmp/tess_jn485vmo_input.PNG', '/tmp/tess_jn485vmo', 'txt']\n"
     ]
    },
    {
     "name": "stdout",
     "output_type": "stream",
     "text": [
      "1/1 [==============================] - 0s 91ms/step\n"
     ]
    },
    {
     "name": "stderr",
     "output_type": "stream",
     "text": [
      "Premature end of JPEG file\n",
      "Premature end of JPEG file\n",
      "2024-09-16 01:00:32,837 - DEBUG - ['tesseract', '/tmp/tess_7o9acy6r_input.PNG', '/tmp/tess_7o9acy6r', 'txt']\n",
      "Premature end of JPEG file\n"
     ]
    },
    {
     "name": "stdout",
     "output_type": "stream",
     "text": [
      "1/1 [==============================] - 0s 163ms/step\n"
     ]
    },
    {
     "name": "stderr",
     "output_type": "stream",
     "text": [
      "Premature end of JPEG file\n",
      "2024-09-16 01:00:34,159 - DEBUG - ['tesseract', '/tmp/tess_gcm38p9m_input.PNG', '/tmp/tess_gcm38p9m', 'txt']\n",
      "2024-09-16 01:00:34,799 - WARNING - Error processing image /home/rguktrkvalley/Desktop/downloaded_images/61hWZdkq6WL.jpg: Image at /home/rguktrkvalley/Desktop/downloaded_images/61hWZdkq6WL.jpg could not be loaded.\n",
      "2024-09-16 01:00:34,801 - WARNING - Error processing image /home/rguktrkvalley/Desktop/downloaded_images/71E7CU55dcL.jpg: Image at /home/rguktrkvalley/Desktop/downloaded_images/71E7CU55dcL.jpg could not be loaded.\n"
     ]
    },
    {
     "name": "stdout",
     "output_type": "stream",
     "text": [
      "1/1 [==============================] - 0s 126ms/step\n"
     ]
    },
    {
     "name": "stderr",
     "output_type": "stream",
     "text": [
      "2024-09-16 01:00:35,568 - DEBUG - ['tesseract', '/tmp/tess_n8oislc3_input.PNG', '/tmp/tess_n8oislc3', 'txt']\n"
     ]
    },
    {
     "name": "stdout",
     "output_type": "stream",
     "text": [
      "1/1 [==============================] - 0s 92ms/step\n"
     ]
    },
    {
     "name": "stderr",
     "output_type": "stream",
     "text": [
      "Premature end of JPEG file\n",
      "Premature end of JPEG file\n",
      "2024-09-16 01:00:37,159 - DEBUG - ['tesseract', '/tmp/tess_ay2uph35_input.PNG', '/tmp/tess_ay2uph35', 'txt']\n"
     ]
    },
    {
     "name": "stdout",
     "output_type": "stream",
     "text": [
      "1/1 [==============================] - 0s 112ms/step\n"
     ]
    },
    {
     "name": "stderr",
     "output_type": "stream",
     "text": [
      "Premature end of JPEG file\n",
      "Premature end of JPEG file\n",
      "2024-09-16 01:00:38,538 - DEBUG - ['tesseract', '/tmp/tess_6lmoeajn_input.PNG', '/tmp/tess_6lmoeajn', 'txt']\n"
     ]
    },
    {
     "name": "stdout",
     "output_type": "stream",
     "text": [
      "1/1 [==============================] - 0s 134ms/step\n"
     ]
    },
    {
     "name": "stderr",
     "output_type": "stream",
     "text": [
      "2024-09-16 01:00:40,017 - DEBUG - ['tesseract', '/tmp/tess_i4ojax4s_input.PNG', '/tmp/tess_i4ojax4s', 'txt']\n"
     ]
    },
    {
     "name": "stdout",
     "output_type": "stream",
     "text": [
      "1/1 [==============================] - 0s 92ms/step\n"
     ]
    },
    {
     "name": "stderr",
     "output_type": "stream",
     "text": [
      "2024-09-16 01:00:42,329 - DEBUG - ['tesseract', '/tmp/tess_eokqcpyb_input.PNG', '/tmp/tess_eokqcpyb', 'txt']\n"
     ]
    },
    {
     "name": "stdout",
     "output_type": "stream",
     "text": [
      "1/1 [==============================] - 0s 92ms/step\n"
     ]
    },
    {
     "name": "stderr",
     "output_type": "stream",
     "text": [
      "Premature end of JPEG file\n",
      "Premature end of JPEG file\n",
      "2024-09-16 01:00:44,311 - DEBUG - ['tesseract', '/tmp/tess_gjwspdla_input.PNG', '/tmp/tess_gjwspdla', 'txt']\n"
     ]
    },
    {
     "name": "stdout",
     "output_type": "stream",
     "text": [
      "1/1 [==============================] - 0s 124ms/step\n"
     ]
    },
    {
     "name": "stderr",
     "output_type": "stream",
     "text": [
      "2024-09-16 01:00:47,371 - DEBUG - ['tesseract', '/tmp/tess_t949wk0j_input.PNG', '/tmp/tess_t949wk0j', 'txt']\n"
     ]
    },
    {
     "name": "stdout",
     "output_type": "stream",
     "text": [
      "1/1 [==============================] - 0s 91ms/step\n"
     ]
    },
    {
     "name": "stderr",
     "output_type": "stream",
     "text": [
      "2024-09-16 01:00:48,520 - DEBUG - ['tesseract', '/tmp/tess_iv73or2a_input.PNG', '/tmp/tess_iv73or2a', 'txt']\n"
     ]
    },
    {
     "name": "stdout",
     "output_type": "stream",
     "text": [
      "1/1 [==============================] - 0s 147ms/step\n"
     ]
    },
    {
     "name": "stderr",
     "output_type": "stream",
     "text": [
      "2024-09-16 01:00:50,435 - DEBUG - ['tesseract', '/tmp/tess_pvxhjbfq_input.PNG', '/tmp/tess_pvxhjbfq', 'txt']\n"
     ]
    },
    {
     "name": "stdout",
     "output_type": "stream",
     "text": [
      "1/1 [==============================] - 0s 106ms/step\n"
     ]
    },
    {
     "name": "stderr",
     "output_type": "stream",
     "text": [
      "2024-09-16 01:00:51,733 - DEBUG - ['tesseract', '/tmp/tess_ypcn3ct2_input.PNG', '/tmp/tess_ypcn3ct2', 'txt']\n"
     ]
    },
    {
     "name": "stdout",
     "output_type": "stream",
     "text": [
      "1/1 [==============================] - 0s 118ms/step\n"
     ]
    },
    {
     "name": "stderr",
     "output_type": "stream",
     "text": [
      "2024-09-16 01:00:53,924 - DEBUG - ['tesseract', '/tmp/tess_zpsvilbh_input.PNG', '/tmp/tess_zpsvilbh', 'txt']\n"
     ]
    },
    {
     "name": "stdout",
     "output_type": "stream",
     "text": [
      "1/1 [==============================] - 0s 88ms/step\n"
     ]
    },
    {
     "name": "stderr",
     "output_type": "stream",
     "text": [
      "2024-09-16 01:00:55,618 - DEBUG - ['tesseract', '/tmp/tess_bymzdjg8_input.PNG', '/tmp/tess_bymzdjg8', 'txt']\n"
     ]
    },
    {
     "name": "stdout",
     "output_type": "stream",
     "text": [
      "1/1 [==============================] - 0s 89ms/step\n"
     ]
    },
    {
     "name": "stderr",
     "output_type": "stream",
     "text": [
      "2024-09-16 01:00:56,830 - DEBUG - ['tesseract', '/tmp/tess_s83or_ua_input.PNG', '/tmp/tess_s83or_ua', 'txt']\n"
     ]
    },
    {
     "name": "stdout",
     "output_type": "stream",
     "text": [
      "1/1 [==============================] - 0s 88ms/step\n"
     ]
    },
    {
     "name": "stderr",
     "output_type": "stream",
     "text": [
      "Premature end of JPEG file\n",
      "Premature end of JPEG file\n",
      "2024-09-16 01:00:57,923 - DEBUG - ['tesseract', '/tmp/tess_sndig836_input.PNG', '/tmp/tess_sndig836', 'txt']\n"
     ]
    },
    {
     "name": "stdout",
     "output_type": "stream",
     "text": [
      "1/1 [==============================] - 0s 91ms/step\n"
     ]
    },
    {
     "name": "stderr",
     "output_type": "stream",
     "text": [
      "2024-09-16 01:00:59,083 - DEBUG - ['tesseract', '/tmp/tess_5xhzw431_input.PNG', '/tmp/tess_5xhzw431', 'txt']\n"
     ]
    },
    {
     "name": "stdout",
     "output_type": "stream",
     "text": [
      "1/1 [==============================] - 0s 86ms/step\n"
     ]
    },
    {
     "name": "stderr",
     "output_type": "stream",
     "text": [
      "2024-09-16 01:00:59,564 - DEBUG - ['tesseract', '/tmp/tess_7lt1s9kv_input.PNG', '/tmp/tess_7lt1s9kv', 'txt']\n"
     ]
    },
    {
     "name": "stdout",
     "output_type": "stream",
     "text": [
      "1/1 [==============================] - 0s 89ms/step\n"
     ]
    },
    {
     "name": "stderr",
     "output_type": "stream",
     "text": [
      "Premature end of JPEG file\n",
      "Premature end of JPEG file\n",
      "2024-09-16 01:01:00,486 - DEBUG - ['tesseract', '/tmp/tess_qd61kxaj_input.PNG', '/tmp/tess_qd61kxaj', 'txt']\n"
     ]
    },
    {
     "name": "stdout",
     "output_type": "stream",
     "text": [
      "1/1 [==============================] - 0s 91ms/step\n"
     ]
    },
    {
     "name": "stderr",
     "output_type": "stream",
     "text": [
      "2024-09-16 01:01:01,386 - DEBUG - ['tesseract', '/tmp/tess_lpva4ghp_input.PNG', '/tmp/tess_lpva4ghp', 'txt']\n",
      "2024-09-16 01:01:02,020 - WARNING - Error processing image /home/rguktrkvalley/Desktop/downloaded_images/71bvOuz9w1L.jpg: Image at /home/rguktrkvalley/Desktop/downloaded_images/71bvOuz9w1L.jpg could not be loaded.\n"
     ]
    },
    {
     "name": "stdout",
     "output_type": "stream",
     "text": [
      "1/1 [==============================] - ETA: 0s"
     ]
    },
    {
     "name": "stderr",
     "output_type": "stream",
     "text": [
      "Premature end of JPEG file\n"
     ]
    },
    {
     "name": "stdout",
     "output_type": "stream",
     "text": [
      "1/1 [==============================] - 0s 90ms/step\n"
     ]
    },
    {
     "name": "stderr",
     "output_type": "stream",
     "text": [
      "Premature end of JPEG file\n",
      "2024-09-16 01:01:02,562 - DEBUG - ['tesseract', '/tmp/tess_v5ijuq_1_input.PNG', '/tmp/tess_v5ijuq_1', 'txt']\n"
     ]
    },
    {
     "name": "stdout",
     "output_type": "stream",
     "text": [
      "1/1 [==============================] - 0s 87ms/step\n"
     ]
    },
    {
     "name": "stderr",
     "output_type": "stream",
     "text": [
      "2024-09-16 01:01:03,958 - DEBUG - ['tesseract', '/tmp/tess_4olshy9a_input.PNG', '/tmp/tess_4olshy9a', 'txt']\n"
     ]
    },
    {
     "name": "stdout",
     "output_type": "stream",
     "text": [
      "1/1 [==============================] - 0s 88ms/step\n"
     ]
    },
    {
     "name": "stderr",
     "output_type": "stream",
     "text": [
      "2024-09-16 01:01:05,813 - DEBUG - ['tesseract', '/tmp/tess_a818vemb_input.PNG', '/tmp/tess_a818vemb', 'txt']\n"
     ]
    },
    {
     "name": "stdout",
     "output_type": "stream",
     "text": [
      "1/1 [==============================] - 0s 87ms/step\n"
     ]
    },
    {
     "name": "stderr",
     "output_type": "stream",
     "text": [
      "Premature end of JPEG file\n",
      "Premature end of JPEG file\n",
      "2024-09-16 01:01:07,292 - DEBUG - ['tesseract', '/tmp/tess_cml1ih8s_input.PNG', '/tmp/tess_cml1ih8s', 'txt']\n"
     ]
    },
    {
     "name": "stdout",
     "output_type": "stream",
     "text": [
      "1/1 [==============================] - 0s 86ms/step\n"
     ]
    },
    {
     "name": "stderr",
     "output_type": "stream",
     "text": [
      "2024-09-16 01:01:08,734 - DEBUG - ['tesseract', '/tmp/tess_edc4nmuu_input.PNG', '/tmp/tess_edc4nmuu', 'txt']\n"
     ]
    },
    {
     "name": "stdout",
     "output_type": "stream",
     "text": [
      "1/1 [==============================] - 0s 89ms/step\n"
     ]
    },
    {
     "name": "stderr",
     "output_type": "stream",
     "text": [
      "Premature end of JPEG file\n",
      "Premature end of JPEG file\n",
      "2024-09-16 01:01:09,590 - DEBUG - ['tesseract', '/tmp/tess_e8updy1j_input.PNG', '/tmp/tess_e8updy1j', 'txt']\n"
     ]
    },
    {
     "name": "stdout",
     "output_type": "stream",
     "text": [
      "1/1 [==============================] - 0s 89ms/step\n"
     ]
    },
    {
     "name": "stderr",
     "output_type": "stream",
     "text": [
      "Premature end of JPEG file\n",
      "Premature end of JPEG file\n",
      "2024-09-16 01:01:10,341 - DEBUG - ['tesseract', '/tmp/tess_jlzpern0_input.PNG', '/tmp/tess_jlzpern0', 'txt']\n"
     ]
    },
    {
     "name": "stdout",
     "output_type": "stream",
     "text": [
      "1/1 [==============================] - 0s 89ms/step\n"
     ]
    },
    {
     "name": "stderr",
     "output_type": "stream",
     "text": [
      "Premature end of JPEG file\n",
      "Premature end of JPEG file\n",
      "2024-09-16 01:01:11,151 - DEBUG - ['tesseract', '/tmp/tess_r0w1mtpp_input.PNG', '/tmp/tess_r0w1mtpp', 'txt']\n"
     ]
    },
    {
     "name": "stdout",
     "output_type": "stream",
     "text": [
      "1/1 [==============================] - 0s 86ms/step\n"
     ]
    },
    {
     "name": "stderr",
     "output_type": "stream",
     "text": [
      "2024-09-16 01:01:12,271 - DEBUG - ['tesseract', '/tmp/tess_xtz5ls6i_input.PNG', '/tmp/tess_xtz5ls6i', 'txt']\n"
     ]
    },
    {
     "name": "stdout",
     "output_type": "stream",
     "text": [
      "1/1 [==============================] - 0s 89ms/step\n"
     ]
    },
    {
     "name": "stderr",
     "output_type": "stream",
     "text": [
      "2024-09-16 01:01:15,136 - DEBUG - ['tesseract', '/tmp/tess_2i0sskdv_input.PNG', '/tmp/tess_2i0sskdv', 'txt']\n"
     ]
    },
    {
     "name": "stdout",
     "output_type": "stream",
     "text": [
      "1/1 [==============================] - 0s 144ms/step\n"
     ]
    },
    {
     "name": "stderr",
     "output_type": "stream",
     "text": [
      "2024-09-16 01:01:17,586 - DEBUG - ['tesseract', '/tmp/tess_6789vq3b_input.PNG', '/tmp/tess_6789vq3b', 'txt']\n"
     ]
    },
    {
     "name": "stdout",
     "output_type": "stream",
     "text": [
      "1/1 [==============================] - 0s 96ms/step\n"
     ]
    },
    {
     "name": "stderr",
     "output_type": "stream",
     "text": [
      "2024-09-16 01:01:19,160 - DEBUG - ['tesseract', '/tmp/tess_ipy123m7_input.PNG', '/tmp/tess_ipy123m7', 'txt']\n"
     ]
    },
    {
     "name": "stdout",
     "output_type": "stream",
     "text": [
      "1/1 [==============================] - 0s 170ms/step\n"
     ]
    },
    {
     "name": "stderr",
     "output_type": "stream",
     "text": [
      "2024-09-16 01:01:22,965 - DEBUG - ['tesseract', '/tmp/tess_u104ud4j_input.PNG', '/tmp/tess_u104ud4j', 'txt']\n"
     ]
    },
    {
     "name": "stdout",
     "output_type": "stream",
     "text": [
      "1/1 [==============================] - 0s 143ms/step\n"
     ]
    },
    {
     "name": "stderr",
     "output_type": "stream",
     "text": [
      "2024-09-16 01:01:24,740 - DEBUG - ['tesseract', '/tmp/tess_chu5y8u2_input.PNG', '/tmp/tess_chu5y8u2', 'txt']\n"
     ]
    },
    {
     "name": "stdout",
     "output_type": "stream",
     "text": [
      "1/1 [==============================] - 0s 136ms/step\n"
     ]
    },
    {
     "name": "stderr",
     "output_type": "stream",
     "text": [
      "2024-09-16 01:01:26,516 - DEBUG - ['tesseract', '/tmp/tess_725y05mf_input.PNG', '/tmp/tess_725y05mf', 'txt']\n"
     ]
    },
    {
     "name": "stdout",
     "output_type": "stream",
     "text": [
      "1/1 [==============================] - 0s 154ms/step\n"
     ]
    },
    {
     "name": "stderr",
     "output_type": "stream",
     "text": [
      "2024-09-16 01:01:31,525 - DEBUG - ['tesseract', '/tmp/tess_53uyk69f_input.PNG', '/tmp/tess_53uyk69f', 'txt']\n"
     ]
    },
    {
     "name": "stdout",
     "output_type": "stream",
     "text": [
      "1/1 [==============================] - 0s 160ms/step\n"
     ]
    },
    {
     "name": "stderr",
     "output_type": "stream",
     "text": [
      "2024-09-16 01:01:35,113 - DEBUG - ['tesseract', '/tmp/tess_a2o2suhk_input.PNG', '/tmp/tess_a2o2suhk', 'txt']\n"
     ]
    },
    {
     "name": "stdout",
     "output_type": "stream",
     "text": [
      "1/1 [==============================] - 0s 108ms/step\n"
     ]
    },
    {
     "name": "stderr",
     "output_type": "stream",
     "text": [
      "2024-09-16 01:01:37,085 - DEBUG - ['tesseract', '/tmp/tess_e3x5ronq_input.PNG', '/tmp/tess_e3x5ronq', 'txt']\n"
     ]
    },
    {
     "name": "stdout",
     "output_type": "stream",
     "text": [
      "1/1 [==============================] - 0s 87ms/step\n"
     ]
    },
    {
     "name": "stderr",
     "output_type": "stream",
     "text": [
      "2024-09-16 01:01:40,984 - DEBUG - ['tesseract', '/tmp/tess_k9s5i13i_input.PNG', '/tmp/tess_k9s5i13i', 'txt']\n"
     ]
    },
    {
     "name": "stdout",
     "output_type": "stream",
     "text": [
      "1/1 [==============================] - 0s 100ms/step\n"
     ]
    },
    {
     "name": "stderr",
     "output_type": "stream",
     "text": [
      "2024-09-16 01:01:43,521 - DEBUG - ['tesseract', '/tmp/tess_f4or21hd_input.PNG', '/tmp/tess_f4or21hd', 'txt']\n"
     ]
    },
    {
     "name": "stdout",
     "output_type": "stream",
     "text": [
      "1/1 [==============================] - 0s 123ms/step\n"
     ]
    },
    {
     "name": "stderr",
     "output_type": "stream",
     "text": [
      "2024-09-16 01:01:45,324 - DEBUG - ['tesseract', '/tmp/tess_1xuvjkkl_input.PNG', '/tmp/tess_1xuvjkkl', 'txt']\n"
     ]
    },
    {
     "name": "stdout",
     "output_type": "stream",
     "text": [
      "1/1 [==============================] - 0s 89ms/step\n"
     ]
    },
    {
     "name": "stderr",
     "output_type": "stream",
     "text": [
      "2024-09-16 01:01:46,581 - DEBUG - ['tesseract', '/tmp/tess_iivxah7s_input.PNG', '/tmp/tess_iivxah7s', 'txt']\n"
     ]
    },
    {
     "name": "stdout",
     "output_type": "stream",
     "text": [
      "1/1 [==============================] - 0s 87ms/step\n"
     ]
    },
    {
     "name": "stderr",
     "output_type": "stream",
     "text": [
      "2024-09-16 01:01:47,641 - DEBUG - ['tesseract', '/tmp/tess_zisa_6wr_input.PNG', '/tmp/tess_zisa_6wr', 'txt']\n"
     ]
    },
    {
     "name": "stdout",
     "output_type": "stream",
     "text": [
      "1/1 [==============================] - 0s 140ms/step\n"
     ]
    },
    {
     "name": "stderr",
     "output_type": "stream",
     "text": [
      "2024-09-16 01:01:50,112 - DEBUG - ['tesseract', '/tmp/tess_3xsmkmxt_input.PNG', '/tmp/tess_3xsmkmxt', 'txt']\n",
      "2024-09-16 01:01:51,379 - WARNING - Error processing image /home/rguktrkvalley/Desktop/downloaded_images/41-NCxNuBxL.jpg: Image at /home/rguktrkvalley/Desktop/downloaded_images/41-NCxNuBxL.jpg could not be loaded.\n",
      "[ WARN:0@1566.415] global loadsave.cpp:241 findDecoder imread_('/home/rguktrkvalley/Desktop/downloaded_images/41-NCxNuBxL.jpg'): can't open/read file: check file path/integrity\n",
      "2024-09-16 01:01:51,382 - WARNING - Error processing image /home/rguktrkvalley/Desktop/downloaded_images/41-NCxNuBxL.jpg: Image at /home/rguktrkvalley/Desktop/downloaded_images/41-NCxNuBxL.jpg could not be loaded.\n",
      "[ WARN:0@1566.418] global loadsave.cpp:241 findDecoder imread_('/home/rguktrkvalley/Desktop/downloaded_images/41-NCxNuBxL.jpg'): can't open/read file: check file path/integrity\n",
      "2024-09-16 01:01:51,384 - WARNING - Error processing image /home/rguktrkvalley/Desktop/downloaded_images/417NJrPEk+L.jpg: Image at /home/rguktrkvalley/Desktop/downloaded_images/417NJrPEk+L.jpg could not be loaded.\n",
      "[ WARN:0@1566.420] global loadsave.cpp:241 findDecoder imread_('/home/rguktrkvalley/Desktop/downloaded_images/417NJrPEk+L.jpg'): can't open/read file: check file path/integrity\n",
      "2024-09-16 01:01:51,388 - WARNING - Error processing image /home/rguktrkvalley/Desktop/downloaded_images/417SThj+SrL.jpg: Image at /home/rguktrkvalley/Desktop/downloaded_images/417SThj+SrL.jpg could not be loaded.\n",
      "[ WARN:0@1566.424] global loadsave.cpp:241 findDecoder imread_('/home/rguktrkvalley/Desktop/downloaded_images/417SThj+SrL.jpg'): can't open/read file: check file path/integrity\n",
      "2024-09-16 01:01:51,391 - WARNING - Error processing image /home/rguktrkvalley/Desktop/downloaded_images/417SThj+SrL.jpg: Image at /home/rguktrkvalley/Desktop/downloaded_images/417SThj+SrL.jpg could not be loaded.\n",
      "2024-09-16 01:01:51,395 - WARNING - Error processing image /home/rguktrkvalley/Desktop/downloaded_images/41ADVPQgZOL.jpg: Image at /home/rguktrkvalley/Desktop/downloaded_images/41ADVPQgZOL.jpg could not be loaded.\n",
      "[ WARN:0@1566.427] global loadsave.cpp:241 findDecoder imread_('/home/rguktrkvalley/Desktop/downloaded_images/417SThj+SrL.jpg'): can't open/read file: check file path/integrity\n",
      "[ WARN:0@1566.430] global loadsave.cpp:241 findDecoder imread_('/home/rguktrkvalley/Desktop/downloaded_images/41ADVPQgZOL.jpg'): can't open/read file: check file path/integrity\n",
      "[ WARN:0@1566.433] global loadsave.cpp:241 findDecoder imread_('/home/rguktrkvalley/Desktop/downloaded_images/41nblnEkJ3L.jpg'): can't open/read file: check file path/integrity\n",
      "2024-09-16 01:01:51,398 - WARNING - Error processing image /home/rguktrkvalley/Desktop/downloaded_images/41nblnEkJ3L.jpg: Image at /home/rguktrkvalley/Desktop/downloaded_images/41nblnEkJ3L.jpg could not be loaded.\n",
      "[ WARN:0@1566.437] global loadsave.cpp:241 findDecoder imread_('/home/rguktrkvalley/Desktop/downloaded_images/41nblnEkJ3L.jpg'): can't open/read file: check file path/integrity\n",
      "2024-09-16 01:01:51,402 - WARNING - Error processing image /home/rguktrkvalley/Desktop/downloaded_images/41nblnEkJ3L.jpg: Image at /home/rguktrkvalley/Desktop/downloaded_images/41nblnEkJ3L.jpg could not be loaded.\n",
      "[ WARN:0@1566.439] global loadsave.cpp:241 findDecoder imread_('/home/rguktrkvalley/Desktop/downloaded_images/41o3iis9E7L.jpg'): can't open/read file: check file path/integrity\n",
      "2024-09-16 01:01:51,404 - WARNING - Error processing image /home/rguktrkvalley/Desktop/downloaded_images/41o3iis9E7L.jpg: Image at /home/rguktrkvalley/Desktop/downloaded_images/41o3iis9E7L.jpg could not be loaded.\n",
      "2024-09-16 01:01:51,406 - WARNING - Error processing image /home/rguktrkvalley/Desktop/downloaded_images/41pvwR9GbaL.jpg: Image at /home/rguktrkvalley/Desktop/downloaded_images/41pvwR9GbaL.jpg could not be loaded.\n",
      "[ WARN:0@1566.442] global loadsave.cpp:241 findDecoder imread_('/home/rguktrkvalley/Desktop/downloaded_images/41pvwR9GbaL.jpg'): can't open/read file: check file path/integrity\n",
      "[ WARN:0@1566.445] global loadsave.cpp:241 findDecoder imread_('/home/rguktrkvalley/Desktop/downloaded_images/41uwo4PVnuL.jpg'): can't open/read file: check file path/integrity\n",
      "2024-09-16 01:01:51,409 - WARNING - Error processing image /home/rguktrkvalley/Desktop/downloaded_images/41uwo4PVnuL.jpg: Image at /home/rguktrkvalley/Desktop/downloaded_images/41uwo4PVnuL.jpg could not be loaded.\n",
      "2024-09-16 01:01:51,412 - WARNING - Error processing image /home/rguktrkvalley/Desktop/downloaded_images/41uwo4PVnuL.jpg: Image at /home/rguktrkvalley/Desktop/downloaded_images/41uwo4PVnuL.jpg could not be loaded.\n",
      "[ WARN:0@1566.448] global loadsave.cpp:241 findDecoder imread_('/home/rguktrkvalley/Desktop/downloaded_images/41uwo4PVnuL.jpg'): can't open/read file: check file path/integrity\n",
      "[ WARN:0@1566.450] global loadsave.cpp:241 findDecoder imread_('/home/rguktrkvalley/Desktop/downloaded_images/41ygXRvf8lL.jpg'): can't open/read file: check file path/integrity\n",
      "2024-09-16 01:01:51,415 - WARNING - Error processing image /home/rguktrkvalley/Desktop/downloaded_images/41ygXRvf8lL.jpg: Image at /home/rguktrkvalley/Desktop/downloaded_images/41ygXRvf8lL.jpg could not be loaded.\n",
      "2024-09-16 01:01:51,418 - WARNING - Error processing image /home/rguktrkvalley/Desktop/downloaded_images/41ygXRvf8lL.jpg: Image at /home/rguktrkvalley/Desktop/downloaded_images/41ygXRvf8lL.jpg could not be loaded.\n",
      "[ WARN:0@1566.453] global loadsave.cpp:241 findDecoder imread_('/home/rguktrkvalley/Desktop/downloaded_images/41ygXRvf8lL.jpg'): can't open/read file: check file path/integrity\n",
      "[ WARN:0@1566.455] global loadsave.cpp:241 findDecoder imread_('/home/rguktrkvalley/Desktop/downloaded_images/41zgjN+zW3L.jpg'): can't open/read file: check file path/integrity\n",
      "2024-09-16 01:01:51,420 - WARNING - Error processing image /home/rguktrkvalley/Desktop/downloaded_images/41zgjN+zW3L.jpg: Image at /home/rguktrkvalley/Desktop/downloaded_images/41zgjN+zW3L.jpg could not be loaded.\n",
      "2024-09-16 01:01:51,423 - WARNING - Error processing image /home/rguktrkvalley/Desktop/downloaded_images/51+oHGvSvuL.jpg: Image at /home/rguktrkvalley/Desktop/downloaded_images/51+oHGvSvuL.jpg could not be loaded.\n",
      "[ WARN:0@1566.459] global loadsave.cpp:241 findDecoder imread_('/home/rguktrkvalley/Desktop/downloaded_images/51+oHGvSvuL.jpg'): can't open/read file: check file path/integrity\n",
      "[ WARN:0@1566.461] global loadsave.cpp:241 findDecoder imread_('/home/rguktrkvalley/Desktop/downloaded_images/51+oHGvSvuL.jpg'): can't open/read file: check file path/integrity\n",
      "2024-09-16 01:01:51,426 - WARNING - Error processing image /home/rguktrkvalley/Desktop/downloaded_images/51+oHGvSvuL.jpg: Image at /home/rguktrkvalley/Desktop/downloaded_images/51+oHGvSvuL.jpg could not be loaded.\n",
      "[ WARN:0@1566.463] global loadsave.cpp:241 findDecoder imread_('/home/rguktrkvalley/Desktop/downloaded_images/51-WIOx5pxL.jpg'): can't open/read file: check file path/integrity\n",
      "2024-09-16 01:01:51,428 - WARNING - Error processing image /home/rguktrkvalley/Desktop/downloaded_images/51-WIOx5pxL.jpg: Image at /home/rguktrkvalley/Desktop/downloaded_images/51-WIOx5pxL.jpg could not be loaded.\n",
      "[ WARN:0@1566.465] global loadsave.cpp:241 findDecoder imread_('/home/rguktrkvalley/Desktop/downloaded_images/51-WIOx5pxL.jpg'): can't open/read file: check file path/integrity\n",
      "2024-09-16 01:01:51,430 - WARNING - Error processing image /home/rguktrkvalley/Desktop/downloaded_images/51-WIOx5pxL.jpg: Image at /home/rguktrkvalley/Desktop/downloaded_images/51-WIOx5pxL.jpg could not be loaded.\n",
      "2024-09-16 01:01:51,432 - WARNING - Error processing image /home/rguktrkvalley/Desktop/downloaded_images/510xYFNYQ8L.jpg: Image at /home/rguktrkvalley/Desktop/downloaded_images/510xYFNYQ8L.jpg could not be loaded.\n",
      "[ WARN:0@1566.468] global loadsave.cpp:241 findDecoder imread_('/home/rguktrkvalley/Desktop/downloaded_images/510xYFNYQ8L.jpg'): can't open/read file: check file path/integrity\n",
      "2024-09-16 01:01:51,435 - WARNING - Error processing image /home/rguktrkvalley/Desktop/downloaded_images/510xYFNYQ8L.jpg: Image at /home/rguktrkvalley/Desktop/downloaded_images/510xYFNYQ8L.jpg could not be loaded.\n",
      "[ WARN:0@1566.470] global loadsave.cpp:241 findDecoder imread_('/home/rguktrkvalley/Desktop/downloaded_images/510xYFNYQ8L.jpg'): can't open/read file: check file path/integrity\n",
      "[ WARN:0@1566.472] global loadsave.cpp:241 findDecoder imread_('/home/rguktrkvalley/Desktop/downloaded_images/510xYFNYQ8L.jpg'): can't open/read file: check file path/integrity\n",
      "2024-09-16 01:01:51,437 - WARNING - Error processing image /home/rguktrkvalley/Desktop/downloaded_images/510xYFNYQ8L.jpg: Image at /home/rguktrkvalley/Desktop/downloaded_images/510xYFNYQ8L.jpg could not be loaded.\n",
      "2024-09-16 01:01:51,440 - WARNING - Error processing image /home/rguktrkvalley/Desktop/downloaded_images/514bY8c4ZIL.jpg: Image at /home/rguktrkvalley/Desktop/downloaded_images/514bY8c4ZIL.jpg could not be loaded.\n",
      "[ WARN:0@1566.475] global loadsave.cpp:241 findDecoder imread_('/home/rguktrkvalley/Desktop/downloaded_images/514bY8c4ZIL.jpg'): can't open/read file: check file path/integrity\n",
      "[ WARN:0@1566.477] global loadsave.cpp:241 findDecoder imread_('/home/rguktrkvalley/Desktop/downloaded_images/514bY8c4ZIL.jpg'): can't open/read file: check file path/integrity\n",
      "2024-09-16 01:01:51,442 - WARNING - Error processing image /home/rguktrkvalley/Desktop/downloaded_images/514bY8c4ZIL.jpg: Image at /home/rguktrkvalley/Desktop/downloaded_images/514bY8c4ZIL.jpg could not be loaded.\n",
      "[ WARN:0@1566.480] global loadsave.cpp:241 findDecoder imread_('/home/rguktrkvalley/Desktop/downloaded_images/514pScQdlCL.jpg'): can't open/read file: check file path/integrity\n",
      "2024-09-16 01:01:51,445 - WARNING - Error processing image /home/rguktrkvalley/Desktop/downloaded_images/514pScQdlCL.jpg: Image at /home/rguktrkvalley/Desktop/downloaded_images/514pScQdlCL.jpg could not be loaded.\n",
      "[ WARN:0@1566.482] global loadsave.cpp:241 findDecoder imread_('/home/rguktrkvalley/Desktop/downloaded_images/514pScQdlCL.jpg'): can't open/read file: check file path/integrity\n",
      "2024-09-16 01:01:51,447 - WARNING - Error processing image /home/rguktrkvalley/Desktop/downloaded_images/514pScQdlCL.jpg: Image at /home/rguktrkvalley/Desktop/downloaded_images/514pScQdlCL.jpg could not be loaded.\n",
      "[ WARN:0@1566.484] global loadsave.cpp:241 findDecoder imread_('/home/rguktrkvalley/Desktop/downloaded_images/51BEuVR4ZzL.jpg'): can't open/read file: check file path/integrity\n",
      "2024-09-16 01:01:51,449 - WARNING - Error processing image /home/rguktrkvalley/Desktop/downloaded_images/51BEuVR4ZzL.jpg: Image at /home/rguktrkvalley/Desktop/downloaded_images/51BEuVR4ZzL.jpg could not be loaded.\n",
      "[ WARN:0@1566.486] global loadsave.cpp:241 findDecoder imread_('/home/rguktrkvalley/Desktop/downloaded_images/51BEuVR4ZzL.jpg'): can't open/read file: check file path/integrity\n",
      "2024-09-16 01:01:51,451 - WARNING - Error processing image /home/rguktrkvalley/Desktop/downloaded_images/51BEuVR4ZzL.jpg: Image at /home/rguktrkvalley/Desktop/downloaded_images/51BEuVR4ZzL.jpg could not be loaded.\n",
      "[ WARN:0@1566.489] global loadsave.cpp:241 findDecoder imread_('/home/rguktrkvalley/Desktop/downloaded_images/51EBBqNOJ1L.jpg'): can't open/read file: check file path/integrity\n",
      "2024-09-16 01:01:51,454 - WARNING - Error processing image /home/rguktrkvalley/Desktop/downloaded_images/51EBBqNOJ1L.jpg: Image at /home/rguktrkvalley/Desktop/downloaded_images/51EBBqNOJ1L.jpg could not be loaded.\n",
      "[ WARN:0@1566.491] global loadsave.cpp:241 findDecoder imread_('/home/rguktrkvalley/Desktop/downloaded_images/51EBBqNOJ1L.jpg'): can't open/read file: check file path/integrity\n",
      "2024-09-16 01:01:51,456 - WARNING - Error processing image /home/rguktrkvalley/Desktop/downloaded_images/51EBBqNOJ1L.jpg: Image at /home/rguktrkvalley/Desktop/downloaded_images/51EBBqNOJ1L.jpg could not be loaded.\n",
      "[ WARN:0@1566.493] global loadsave.cpp:241 findDecoder imread_('/home/rguktrkvalley/Desktop/downloaded_images/51EBBqNOJ1L.jpg'): can't open/read file: check file path/integrity\n",
      "2024-09-16 01:01:51,458 - WARNING - Error processing image /home/rguktrkvalley/Desktop/downloaded_images/51EBBqNOJ1L.jpg: Image at /home/rguktrkvalley/Desktop/downloaded_images/51EBBqNOJ1L.jpg could not be loaded.\n",
      "[ WARN:0@1566.496] global loadsave.cpp:241 findDecoder imread_('/home/rguktrkvalley/Desktop/downloaded_images/51FSlaVlejL.jpg'): can't open/read file: check file path/integrity\n",
      "2024-09-16 01:01:51,461 - WARNING - Error processing image /home/rguktrkvalley/Desktop/downloaded_images/51FSlaVlejL.jpg: Image at /home/rguktrkvalley/Desktop/downloaded_images/51FSlaVlejL.jpg could not be loaded.\n",
      "2024-09-16 01:01:51,463 - WARNING - Error processing image /home/rguktrkvalley/Desktop/downloaded_images/51H+mX2Wk7L.jpg: Image at /home/rguktrkvalley/Desktop/downloaded_images/51H+mX2Wk7L.jpg could not be loaded.\n",
      "[ WARN:0@1566.499] global loadsave.cpp:241 findDecoder imread_('/home/rguktrkvalley/Desktop/downloaded_images/51H+mX2Wk7L.jpg'): can't open/read file: check file path/integrity\n",
      "[ WARN:0@1566.501] global loadsave.cpp:241 findDecoder imread_('/home/rguktrkvalley/Desktop/downloaded_images/51H+mX2Wk7L.jpg'): can't open/read file: check file path/integrity\n",
      "2024-09-16 01:01:51,465 - WARNING - Error processing image /home/rguktrkvalley/Desktop/downloaded_images/51H+mX2Wk7L.jpg: Image at /home/rguktrkvalley/Desktop/downloaded_images/51H+mX2Wk7L.jpg could not be loaded.\n",
      "[ WARN:0@1566.503] global loadsave.cpp:241 findDecoder imread_('/home/rguktrkvalley/Desktop/downloaded_images/51KykmLgc0L.jpg'): can't open/read file: check file path/integrity\n",
      "2024-09-16 01:01:51,468 - WARNING - Error processing image /home/rguktrkvalley/Desktop/downloaded_images/51KykmLgc0L.jpg: Image at /home/rguktrkvalley/Desktop/downloaded_images/51KykmLgc0L.jpg could not be loaded.\n",
      "[ WARN:0@1566.505] global loadsave.cpp:241 findDecoder imread_('/home/rguktrkvalley/Desktop/downloaded_images/51P0IuT6RsL.jpg'): can't open/read file: check file path/integrity\n",
      "2024-09-16 01:01:51,470 - WARNING - Error processing image /home/rguktrkvalley/Desktop/downloaded_images/51P0IuT6RsL.jpg: Image at /home/rguktrkvalley/Desktop/downloaded_images/51P0IuT6RsL.jpg could not be loaded.\n",
      "2024-09-16 01:01:51,472 - WARNING - Error processing image /home/rguktrkvalley/Desktop/downloaded_images/51Su6zXkAsL.jpg: Image at /home/rguktrkvalley/Desktop/downloaded_images/51Su6zXkAsL.jpg could not be loaded.\n",
      "[ WARN:0@1566.507] global loadsave.cpp:241 findDecoder imread_('/home/rguktrkvalley/Desktop/downloaded_images/51Su6zXkAsL.jpg'): can't open/read file: check file path/integrity\n",
      "[ WARN:0@1566.509] global loadsave.cpp:241 findDecoder imread_('/home/rguktrkvalley/Desktop/downloaded_images/51bEy0J5wLL.jpg'): can't open/read file: check file path/integrity\n",
      "2024-09-16 01:01:51,474 - WARNING - Error processing image /home/rguktrkvalley/Desktop/downloaded_images/51bEy0J5wLL.jpg: Image at /home/rguktrkvalley/Desktop/downloaded_images/51bEy0J5wLL.jpg could not be loaded.\n",
      "2024-09-16 01:01:51,476 - WARNING - Error processing image /home/rguktrkvalley/Desktop/downloaded_images/51cPZYLk2YL.jpg: Image at /home/rguktrkvalley/Desktop/downloaded_images/51cPZYLk2YL.jpg could not be loaded.\n",
      "[ WARN:0@1566.512] global loadsave.cpp:241 findDecoder imread_('/home/rguktrkvalley/Desktop/downloaded_images/51cPZYLk2YL.jpg'): can't open/read file: check file path/integrity\n",
      "[ WARN:0@1566.514] global loadsave.cpp:241 findDecoder imread_('/home/rguktrkvalley/Desktop/downloaded_images/51fAzxNm+cL.jpg'): can't open/read file: check file path/integrity\n",
      "2024-09-16 01:01:51,479 - WARNING - Error processing image /home/rguktrkvalley/Desktop/downloaded_images/51fAzxNm+cL.jpg: Image at /home/rguktrkvalley/Desktop/downloaded_images/51fAzxNm+cL.jpg could not be loaded.\n",
      "[ WARN:0@1566.516] global loadsave.cpp:241 findDecoder imread_('/home/rguktrkvalley/Desktop/downloaded_images/51fAzxNm+cL.jpg'): can't open/read file: check file path/integrity\n",
      "2024-09-16 01:01:51,480 - WARNING - Error processing image /home/rguktrkvalley/Desktop/downloaded_images/51fAzxNm+cL.jpg: Image at /home/rguktrkvalley/Desktop/downloaded_images/51fAzxNm+cL.jpg could not be loaded.\n",
      "2024-09-16 01:01:51,483 - WARNING - Error processing image /home/rguktrkvalley/Desktop/downloaded_images/51fAzxNm+cL.jpg: Image at /home/rguktrkvalley/Desktop/downloaded_images/51fAzxNm+cL.jpg could not be loaded.\n",
      "[ WARN:0@1566.518] global loadsave.cpp:241 findDecoder imread_('/home/rguktrkvalley/Desktop/downloaded_images/51fAzxNm+cL.jpg'): can't open/read file: check file path/integrity\n",
      "[ WARN:0@1566.520] global loadsave.cpp:241 findDecoder imread_('/home/rguktrkvalley/Desktop/downloaded_images/51jTe522S2L.jpg'): can't open/read file: check file path/integrity\n",
      "2024-09-16 01:01:51,485 - WARNING - Error processing image /home/rguktrkvalley/Desktop/downloaded_images/51jTe522S2L.jpg: Image at /home/rguktrkvalley/Desktop/downloaded_images/51jTe522S2L.jpg could not be loaded.\n",
      "[ WARN:0@1566.522] global loadsave.cpp:241 findDecoder imread_('/home/rguktrkvalley/Desktop/downloaded_images/51kdBAv6ImL.jpg'): can't open/read file: check file path/integrity\n",
      "2024-09-16 01:01:51,487 - WARNING - Error processing image /home/rguktrkvalley/Desktop/downloaded_images/51kdBAv6ImL.jpg: Image at /home/rguktrkvalley/Desktop/downloaded_images/51kdBAv6ImL.jpg could not be loaded.\n",
      "[ WARN:0@1566.524] global loadsave.cpp:241 findDecoder imread_('/home/rguktrkvalley/Desktop/downloaded_images/51kdBAv6ImL.jpg'): can't open/read file: check file path/integrity\n",
      "2024-09-16 01:01:51,489 - WARNING - Error processing image /home/rguktrkvalley/Desktop/downloaded_images/51kdBAv6ImL.jpg: Image at /home/rguktrkvalley/Desktop/downloaded_images/51kdBAv6ImL.jpg could not be loaded.\n",
      "2024-09-16 01:01:51,492 - WARNING - Error processing image /home/rguktrkvalley/Desktop/downloaded_images/51l6c6UcRZL.jpg: Image at /home/rguktrkvalley/Desktop/downloaded_images/51l6c6UcRZL.jpg could not be loaded.\n",
      "[ WARN:0@1566.527] global loadsave.cpp:241 findDecoder imread_('/home/rguktrkvalley/Desktop/downloaded_images/51l6c6UcRZL.jpg'): can't open/read file: check file path/integrity\n",
      "[ WARN:0@1566.530] global loadsave.cpp:241 findDecoder imread_('/home/rguktrkvalley/Desktop/downloaded_images/51oaOP8qJlL.jpg'): can't open/read file: check file path/integrity\n",
      "2024-09-16 01:01:51,494 - WARNING - Error processing image /home/rguktrkvalley/Desktop/downloaded_images/51oaOP8qJlL.jpg: Image at /home/rguktrkvalley/Desktop/downloaded_images/51oaOP8qJlL.jpg could not be loaded.\n",
      "2024-09-16 01:01:51,497 - WARNING - Error processing image /home/rguktrkvalley/Desktop/downloaded_images/51oaOP8qJlL.jpg: Image at /home/rguktrkvalley/Desktop/downloaded_images/51oaOP8qJlL.jpg could not be loaded.\n",
      "[ WARN:0@1566.532] global loadsave.cpp:241 findDecoder imread_('/home/rguktrkvalley/Desktop/downloaded_images/51oaOP8qJlL.jpg'): can't open/read file: check file path/integrity\n",
      "[ WARN:0@1566.534] global loadsave.cpp:241 findDecoder imread_('/home/rguktrkvalley/Desktop/downloaded_images/51r7U52rh7L.jpg'): can't open/read file: check file path/integrity\n",
      "2024-09-16 01:01:51,499 - WARNING - Error processing image /home/rguktrkvalley/Desktop/downloaded_images/51r7U52rh7L.jpg: Image at /home/rguktrkvalley/Desktop/downloaded_images/51r7U52rh7L.jpg could not be loaded.\n",
      "2024-09-16 01:01:51,501 - WARNING - Error processing image /home/rguktrkvalley/Desktop/downloaded_images/51r7U52rh7L.jpg: Image at /home/rguktrkvalley/Desktop/downloaded_images/51r7U52rh7L.jpg could not be loaded.\n",
      "[ WARN:0@1566.537] global loadsave.cpp:241 findDecoder imread_('/home/rguktrkvalley/Desktop/downloaded_images/51r7U52rh7L.jpg'): can't open/read file: check file path/integrity\n",
      "[ WARN:0@1566.539] global loadsave.cpp:241 findDecoder imread_('/home/rguktrkvalley/Desktop/downloaded_images/51r7U52rh7L.jpg'): can't open/read file: check file path/integrity\n",
      "2024-09-16 01:01:51,503 - WARNING - Error processing image /home/rguktrkvalley/Desktop/downloaded_images/51r7U52rh7L.jpg: Image at /home/rguktrkvalley/Desktop/downloaded_images/51r7U52rh7L.jpg could not be loaded.\n",
      "2024-09-16 01:01:51,506 - WARNING - Error processing image /home/rguktrkvalley/Desktop/downloaded_images/51tEop-EBJL.jpg: Image at /home/rguktrkvalley/Desktop/downloaded_images/51tEop-EBJL.jpg could not be loaded.\n",
      "[ WARN:0@1566.541] global loadsave.cpp:241 findDecoder imread_('/home/rguktrkvalley/Desktop/downloaded_images/51tEop-EBJL.jpg'): can't open/read file: check file path/integrity\n",
      "[ WARN:0@1566.543] global loadsave.cpp:241 findDecoder imread_('/home/rguktrkvalley/Desktop/downloaded_images/51vwYpDz2tL.jpg'): can't open/read file: check file path/integrity\n",
      "2024-09-16 01:01:51,508 - WARNING - Error processing image /home/rguktrkvalley/Desktop/downloaded_images/51vwYpDz2tL.jpg: Image at /home/rguktrkvalley/Desktop/downloaded_images/51vwYpDz2tL.jpg could not be loaded.\n",
      "2024-09-16 01:01:51,511 - WARNING - Error processing image /home/rguktrkvalley/Desktop/downloaded_images/51y79cwGJFL.jpg: Image at /home/rguktrkvalley/Desktop/downloaded_images/51y79cwGJFL.jpg could not be loaded.\n",
      "[ WARN:0@1566.547] global loadsave.cpp:241 findDecoder imread_('/home/rguktrkvalley/Desktop/downloaded_images/51y79cwGJFL.jpg'): can't open/read file: check file path/integrity\n",
      "[ WARN:0@1566.549] global loadsave.cpp:241 findDecoder imread_('/home/rguktrkvalley/Desktop/downloaded_images/51y79cwGJFL.jpg'): can't open/read file: check file path/integrity\n",
      "2024-09-16 01:01:51,514 - WARNING - Error processing image /home/rguktrkvalley/Desktop/downloaded_images/51y79cwGJFL.jpg: Image at /home/rguktrkvalley/Desktop/downloaded_images/51y79cwGJFL.jpg could not be loaded.\n",
      "2024-09-16 01:01:51,516 - WARNING - Error processing image /home/rguktrkvalley/Desktop/downloaded_images/51y79cwGJFL.jpg: Image at /home/rguktrkvalley/Desktop/downloaded_images/51y79cwGJFL.jpg could not be loaded.\n",
      "[ WARN:0@1566.551] global loadsave.cpp:241 findDecoder imread_('/home/rguktrkvalley/Desktop/downloaded_images/51y79cwGJFL.jpg'): can't open/read file: check file path/integrity\n",
      "[ WARN:0@1566.553] global loadsave.cpp:241 findDecoder imread_('/home/rguktrkvalley/Desktop/downloaded_images/613P5cxQH4L.jpg'): can't open/read file: check file path/integrity\n",
      "2024-09-16 01:01:51,519 - WARNING - Error processing image /home/rguktrkvalley/Desktop/downloaded_images/613P5cxQH4L.jpg: Image at /home/rguktrkvalley/Desktop/downloaded_images/613P5cxQH4L.jpg could not be loaded.\n",
      "2024-09-16 01:01:51,520 - WARNING - Error processing image /home/rguktrkvalley/Desktop/downloaded_images/613P5cxQH4L.jpg: Image at /home/rguktrkvalley/Desktop/downloaded_images/613P5cxQH4L.jpg could not be loaded.\n",
      "[ WARN:0@1566.556] global loadsave.cpp:241 findDecoder imread_('/home/rguktrkvalley/Desktop/downloaded_images/613P5cxQH4L.jpg'): can't open/read file: check file path/integrity\n",
      "[ WARN:0@1566.558] global loadsave.cpp:241 findDecoder imread_('/home/rguktrkvalley/Desktop/downloaded_images/614hn5uX9MS.jpg'): can't open/read file: check file path/integrity\n",
      "2024-09-16 01:01:51,523 - WARNING - Error processing image /home/rguktrkvalley/Desktop/downloaded_images/614hn5uX9MS.jpg: Image at /home/rguktrkvalley/Desktop/downloaded_images/614hn5uX9MS.jpg could not be loaded.\n",
      "[ WARN:0@1566.560] global loadsave.cpp:241 findDecoder imread_('/home/rguktrkvalley/Desktop/downloaded_images/615Cjzm6pyL.jpg'): can't open/read file: check file path/integrity\n",
      "2024-09-16 01:01:51,525 - WARNING - Error processing image /home/rguktrkvalley/Desktop/downloaded_images/615Cjzm6pyL.jpg: Image at /home/rguktrkvalley/Desktop/downloaded_images/615Cjzm6pyL.jpg could not be loaded.\n",
      "[ WARN:0@1566.562] global loadsave.cpp:241 findDecoder imread_('/home/rguktrkvalley/Desktop/downloaded_images/615Cjzm6pyL.jpg'): can't open/read file: check file path/integrity\n",
      "2024-09-16 01:01:51,527 - WARNING - Error processing image /home/rguktrkvalley/Desktop/downloaded_images/615Cjzm6pyL.jpg: Image at /home/rguktrkvalley/Desktop/downloaded_images/615Cjzm6pyL.jpg could not be loaded.\n",
      "[ WARN:0@1566.564] global loadsave.cpp:241 findDecoder imread_('/home/rguktrkvalley/Desktop/downloaded_images/61C+fwVD6dL.jpg'): can't open/read file: check file path/integrity\n",
      "2024-09-16 01:01:51,529 - WARNING - Error processing image /home/rguktrkvalley/Desktop/downloaded_images/61C+fwVD6dL.jpg: Image at /home/rguktrkvalley/Desktop/downloaded_images/61C+fwVD6dL.jpg could not be loaded.\n",
      "[ WARN:0@1566.566] global loadsave.cpp:241 findDecoder imread_('/home/rguktrkvalley/Desktop/downloaded_images/61E2XRNSdYL.jpg'): can't open/read file: check file path/integrity\n",
      "2024-09-16 01:01:51,531 - WARNING - Error processing image /home/rguktrkvalley/Desktop/downloaded_images/61E2XRNSdYL.jpg: Image at /home/rguktrkvalley/Desktop/downloaded_images/61E2XRNSdYL.jpg could not be loaded.\n",
      "[ WARN:0@1566.568] global loadsave.cpp:241 findDecoder imread_('/home/rguktrkvalley/Desktop/downloaded_images/61G8bvWOb-L.jpg'): can't open/read file: check file path/integrity\n",
      "2024-09-16 01:01:51,534 - WARNING - Error processing image /home/rguktrkvalley/Desktop/downloaded_images/61G8bvWOb-L.jpg: Image at /home/rguktrkvalley/Desktop/downloaded_images/61G8bvWOb-L.jpg could not be loaded.\n",
      "[ WARN:0@1566.571] global loadsave.cpp:241 findDecoder imread_('/home/rguktrkvalley/Desktop/downloaded_images/61G8bvWOb-L.jpg'): can't open/read file: check file path/integrity\n",
      "2024-09-16 01:01:51,536 - WARNING - Error processing image /home/rguktrkvalley/Desktop/downloaded_images/61G8bvWOb-L.jpg: Image at /home/rguktrkvalley/Desktop/downloaded_images/61G8bvWOb-L.jpg could not be loaded.\n",
      "[ WARN:0@1566.573] global loadsave.cpp:241 findDecoder imread_('/home/rguktrkvalley/Desktop/downloaded_images/61O+Yi09tyL.jpg'): can't open/read file: check file path/integrity\n",
      "2024-09-16 01:01:51,538 - WARNING - Error processing image /home/rguktrkvalley/Desktop/downloaded_images/61O+Yi09tyL.jpg: Image at /home/rguktrkvalley/Desktop/downloaded_images/61O+Yi09tyL.jpg could not be loaded.\n",
      "[ WARN:0@1566.576] global loadsave.cpp:241 findDecoder imread_('/home/rguktrkvalley/Desktop/downloaded_images/61lX6IP1SVL.jpg'): can't open/read file: check file path/integrity\n",
      "2024-09-16 01:01:51,542 - WARNING - Error processing image /home/rguktrkvalley/Desktop/downloaded_images/61lX6IP1SVL.jpg: Image at /home/rguktrkvalley/Desktop/downloaded_images/61lX6IP1SVL.jpg could not be loaded.\n",
      "[ WARN:0@1566.579] global loadsave.cpp:241 findDecoder imread_('/home/rguktrkvalley/Desktop/downloaded_images/71Qk6hR9-WL.jpg'): can't open/read file: check file path/integrity\n",
      "2024-09-16 01:01:51,544 - WARNING - Error processing image /home/rguktrkvalley/Desktop/downloaded_images/71Qk6hR9-WL.jpg: Image at /home/rguktrkvalley/Desktop/downloaded_images/71Qk6hR9-WL.jpg could not be loaded.\n",
      "[ WARN:0@1566.581] global loadsave.cpp:241 findDecoder imread_('/home/rguktrkvalley/Desktop/downloaded_images/71Qk6hR9-WL.jpg'): can't open/read file: check file path/integrity\n",
      "2024-09-16 01:01:51,546 - WARNING - Error processing image /home/rguktrkvalley/Desktop/downloaded_images/71Qk6hR9-WL.jpg: Image at /home/rguktrkvalley/Desktop/downloaded_images/71Qk6hR9-WL.jpg could not be loaded.\n",
      "[ WARN:0@1566.583] global loadsave.cpp:241 findDecoder imread_('/home/rguktrkvalley/Desktop/downloaded_images/71UN1IxKp4L.jpg'): can't open/read file: check file path/integrity\n",
      "2024-09-16 01:01:51,548 - WARNING - Error processing image /home/rguktrkvalley/Desktop/downloaded_images/71UN1IxKp4L.jpg: Image at /home/rguktrkvalley/Desktop/downloaded_images/71UN1IxKp4L.jpg could not be loaded.\n",
      "[ WARN:0@1566.586] global loadsave.cpp:241 findDecoder imread_('/home/rguktrkvalley/Desktop/downloaded_images/71UN1IxKp4L.jpg'): can't open/read file: check file path/integrity\n",
      "2024-09-16 01:01:51,551 - WARNING - Error processing image /home/rguktrkvalley/Desktop/downloaded_images/71UN1IxKp4L.jpg: Image at /home/rguktrkvalley/Desktop/downloaded_images/71UN1IxKp4L.jpg could not be loaded.\n",
      "[ WARN:0@1566.588] global loadsave.cpp:241 findDecoder imread_('/home/rguktrkvalley/Desktop/downloaded_images/71UYDq4nfnL.jpg'): can't open/read file: check file path/integrity\n",
      "2024-09-16 01:01:51,553 - WARNING - Error processing image /home/rguktrkvalley/Desktop/downloaded_images/71UYDq4nfnL.jpg: Image at /home/rguktrkvalley/Desktop/downloaded_images/71UYDq4nfnL.jpg could not be loaded.\n",
      "[ WARN:0@1566.591] global loadsave.cpp:241 findDecoder imread_('/home/rguktrkvalley/Desktop/downloaded_images/71UYDq4nfnL.jpg'): can't open/read file: check file path/integrity\n",
      "2024-09-16 01:01:51,556 - WARNING - Error processing image /home/rguktrkvalley/Desktop/downloaded_images/71UYDq4nfnL.jpg: Image at /home/rguktrkvalley/Desktop/downloaded_images/71UYDq4nfnL.jpg could not be loaded.\n",
      "[ WARN:0@1566.593] global loadsave.cpp:241 findDecoder imread_('/home/rguktrkvalley/Desktop/downloaded_images/71WAjPMQDWL.jpg'): can't open/read file: check file path/integrity\n",
      "2024-09-16 01:01:51,558 - WARNING - Error processing image /home/rguktrkvalley/Desktop/downloaded_images/71WAjPMQDWL.jpg: Image at /home/rguktrkvalley/Desktop/downloaded_images/71WAjPMQDWL.jpg could not be loaded.\n",
      "[ WARN:0@1566.596] global loadsave.cpp:241 findDecoder imread_('/home/rguktrkvalley/Desktop/downloaded_images/71WAjPMQDWL.jpg'): can't open/read file: check file path/integrity\n",
      "2024-09-16 01:01:51,560 - WARNING - Error processing image /home/rguktrkvalley/Desktop/downloaded_images/71WAjPMQDWL.jpg: Image at /home/rguktrkvalley/Desktop/downloaded_images/71WAjPMQDWL.jpg could not be loaded.\n",
      "[ WARN:0@1566.598] global loadsave.cpp:241 findDecoder imread_('/home/rguktrkvalley/Desktop/downloaded_images/71afEPoRGsL.jpg'): can't open/read file: check file path/integrity\n",
      "2024-09-16 01:01:51,563 - WARNING - Error processing image /home/rguktrkvalley/Desktop/downloaded_images/71afEPoRGsL.jpg: Image at /home/rguktrkvalley/Desktop/downloaded_images/71afEPoRGsL.jpg could not be loaded.\n",
      "[ WARN:0@1566.600] global loadsave.cpp:241 findDecoder imread_('/home/rguktrkvalley/Desktop/downloaded_images/71afEPoRGsL.jpg'): can't open/read file: check file path/integrity\n",
      "2024-09-16 01:01:51,565 - WARNING - Error processing image /home/rguktrkvalley/Desktop/downloaded_images/71afEPoRGsL.jpg: Image at /home/rguktrkvalley/Desktop/downloaded_images/71afEPoRGsL.jpg could not be loaded.\n",
      "[ WARN:0@1566.603] global loadsave.cpp:241 findDecoder imread_('/home/rguktrkvalley/Desktop/downloaded_images/71eCfiIG-AL.jpg'): can't open/read file: check file path/integrity\n",
      "2024-09-16 01:01:51,568 - WARNING - Error processing image /home/rguktrkvalley/Desktop/downloaded_images/71eCfiIG-AL.jpg: Image at /home/rguktrkvalley/Desktop/downloaded_images/71eCfiIG-AL.jpg could not be loaded.\n",
      "[ WARN:0@1566.605] global loadsave.cpp:241 findDecoder imread_('/home/rguktrkvalley/Desktop/downloaded_images/71fWddA0+yL.jpg'): can't open/read file: check file path/integrity\n",
      "2024-09-16 01:01:51,569 - WARNING - Error processing image /home/rguktrkvalley/Desktop/downloaded_images/71fWddA0+yL.jpg: Image at /home/rguktrkvalley/Desktop/downloaded_images/71fWddA0+yL.jpg could not be loaded.\n",
      "[ WARN:0@1566.607] global loadsave.cpp:241 findDecoder imread_('/home/rguktrkvalley/Desktop/downloaded_images/71ta6wY3HtL.jpg'): can't open/read file: check file path/integrity\n",
      "2024-09-16 01:01:51,571 - WARNING - Error processing image /home/rguktrkvalley/Desktop/downloaded_images/71ta6wY3HtL.jpg: Image at /home/rguktrkvalley/Desktop/downloaded_images/71ta6wY3HtL.jpg could not be loaded.\n",
      "[ WARN:0@1566.609] global loadsave.cpp:241 findDecoder imread_('/home/rguktrkvalley/Desktop/downloaded_images/71ta6wY3HtL.jpg'): can't open/read file: check file path/integrity\n",
      "2024-09-16 01:01:51,574 - WARNING - Error processing image /home/rguktrkvalley/Desktop/downloaded_images/71ta6wY3HtL.jpg: Image at /home/rguktrkvalley/Desktop/downloaded_images/71ta6wY3HtL.jpg could not be loaded.\n",
      "[ WARN:0@1566.611] global loadsave.cpp:241 findDecoder imread_('/home/rguktrkvalley/Desktop/downloaded_images/71v+pim0lfL.jpg'): can't open/read file: check file path/integrity\n",
      "2024-09-16 01:01:51,576 - WARNING - Error processing image /home/rguktrkvalley/Desktop/downloaded_images/71v+pim0lfL.jpg: Image at /home/rguktrkvalley/Desktop/downloaded_images/71v+pim0lfL.jpg could not be loaded.\n",
      "[ WARN:0@1566.613] global loadsave.cpp:241 findDecoder imread_('/home/rguktrkvalley/Desktop/downloaded_images/71v+pim0lfL.jpg'): can't open/read file: check file path/integrity\n",
      "2024-09-16 01:01:51,578 - WARNING - Error processing image /home/rguktrkvalley/Desktop/downloaded_images/71v+pim0lfL.jpg: Image at /home/rguktrkvalley/Desktop/downloaded_images/71v+pim0lfL.jpg could not be loaded.\n",
      "[ WARN:0@1566.615] global loadsave.cpp:241 findDecoder imread_('/home/rguktrkvalley/Desktop/downloaded_images/81IYdOV0mVL.jpg'): can't open/read file: check file path/integrity\n",
      "2024-09-16 01:01:51,580 - WARNING - Error processing image /home/rguktrkvalley/Desktop/downloaded_images/81IYdOV0mVL.jpg: Image at /home/rguktrkvalley/Desktop/downloaded_images/81IYdOV0mVL.jpg could not be loaded.\n",
      "[ WARN:0@1566.618] global loadsave.cpp:241 findDecoder imread_('/home/rguktrkvalley/Desktop/downloaded_images/81PG3ea0MOL.jpg'): can't open/read file: check file path/integrity\n",
      "2024-09-16 01:01:51,583 - WARNING - Error processing image /home/rguktrkvalley/Desktop/downloaded_images/81PG3ea0MOL.jpg: Image at /home/rguktrkvalley/Desktop/downloaded_images/81PG3ea0MOL.jpg could not be loaded.\n",
      "[ WARN:0@1566.620] global loadsave.cpp:241 findDecoder imread_('/home/rguktrkvalley/Desktop/downloaded_images/81aZ2ozp1GL.jpg'): can't open/read file: check file path/integrity\n",
      "2024-09-16 01:01:51,584 - WARNING - Error processing image /home/rguktrkvalley/Desktop/downloaded_images/81aZ2ozp1GL.jpg: Image at /home/rguktrkvalley/Desktop/downloaded_images/81aZ2ozp1GL.jpg could not be loaded.\n",
      "[ WARN:0@1566.624] global loadsave.cpp:241 findDecoder imread_('/home/rguktrkvalley/Desktop/downloaded_images/81qUmRUUTTL.jpg'): can't open/read file: check file path/integrity\n",
      "2024-09-16 01:01:51,589 - WARNING - Error processing image /home/rguktrkvalley/Desktop/downloaded_images/81qUmRUUTTL.jpg: Image at /home/rguktrkvalley/Desktop/downloaded_images/81qUmRUUTTL.jpg could not be loaded.\n",
      "[ WARN:0@1566.626] global loadsave.cpp:241 findDecoder imread_('/home/rguktrkvalley/Desktop/downloaded_images/81qUmRUUTTL.jpg'): can't open/read file: check file path/integrity\n",
      "2024-09-16 01:01:51,590 - WARNING - Error processing image /home/rguktrkvalley/Desktop/downloaded_images/81qUmRUUTTL.jpg: Image at /home/rguktrkvalley/Desktop/downloaded_images/81qUmRUUTTL.jpg could not be loaded.\n",
      "2024-09-16 01:01:51,592 - ERROR - No valid data for predictions.\n"
     ]
    }
   ],
   "source": [
    "import pandas as pd\n",
    "import pytesseract\n",
    "import cv2\n",
    "from tensorflow.keras.applications import EfficientNetB0\n",
    "from sklearn.linear_model import LinearRegression\n",
    "import os\n",
    "import re\n",
    "import logging\n",
    "from utils import download_images\n",
    "from constants import allowed_units\n",
    "\n",
    "# Set up logging\n",
    "logging.basicConfig(level=logging.INFO, format='%(asctime)s - %(levelname)s - %(message)s')\n",
    "\n",
    "# Step 1: Downloading Images\n",
    "def download_all_images(train_csv, download_folder):\n",
    "    \"\"\"Downloads all images listed in the CSV to a specific folder.\"\"\"\n",
    "    train_df = pd.read_csv(train_csv)\n",
    "    image_links = train_df['image_link'].tolist()\n",
    "    download_images(image_links, download_folder)\n",
    "    return train_df\n",
    "\n",
    "# Step 2: Preprocessing the Images\n",
    "def preprocess_image(image_path):\n",
    "    \"\"\"Load and preprocess image for input into the CNN model.\"\"\"\n",
    "    try:\n",
    "        image = cv2.imread(image_path)\n",
    "        if image is None:\n",
    "            raise ValueError(f\"Image at {image_path} could not be loaded.\")\n",
    "        image = cv2.resize(image, (224, 224))  # Resize to input size of EfficientNet\n",
    "        image = image / 255.0  # Normalize pixel values\n",
    "    except Exception as e:\n",
    "        logging.warning(f\"Error processing image {image_path}: {e}\")\n",
    "        return None\n",
    "    return image\n",
    "\n",
    "# Step 3: OCR Text Extraction\n",
    "def extract_text_from_image(image_path):\n",
    "    \"\"\"Use OCR to extract text from images.\"\"\"\n",
    "    try:\n",
    "        image = cv2.imread(image_path)\n",
    "        if image is None:\n",
    "            raise ValueError(f\"Image at {image_path} could not be loaded.\")\n",
    "        text = pytesseract.image_to_string(image)\n",
    "    except Exception as e:\n",
    "        logging.warning(f\"Error performing OCR on image {image_path}: {e}\")\n",
    "        return \"\"\n",
    "    return text\n",
    "\n",
    "# Step 4: Extract Entity Value Using Regex\n",
    "def extract_entity_value(text):\n",
    "    \"\"\"Extract numeric entity values and units using regex.\"\"\"\n",
    "    pattern = re.compile(r'(\\d+(?:\\.\\d+)?)\\s*([a-zA-Z]+)')\n",
    "    matches = pattern.findall(text)\n",
    "    \n",
    "    if matches:\n",
    "        value, unit = matches[0]\n",
    "        # Validate the unit against the allowed units\n",
    "        if unit.lower() in allowed_units:\n",
    "            return value, unit.lower()  # Return the value and unit in lowercase\n",
    "    return None, None\n",
    "\n",
    "# Step 5: CNN Feature Extraction\n",
    "def extract_image_features(image_path, cnn_model):\n",
    "    \"\"\"Extract CNN features from the image.\"\"\"\n",
    "    image = preprocess_image(image_path)\n",
    "    if image is None:\n",
    "        return None  # Skip this image if it's invalid\n",
    "    image = image.reshape((1, 224, 224, 3))\n",
    "    try:\n",
    "        features = cnn_model.predict(image)\n",
    "    except Exception as e:\n",
    "        logging.warning(f\"Error extracting features from image {image_path}: {e}\")\n",
    "        return None\n",
    "    return features\n",
    "\n",
    "# Step 6: Train a Regression Model (for Numeric Predictions)\n",
    "def train_model(train_df, download_folder, cnn_model):\n",
    "    \"\"\"Train a regression model using extracted features from images and text.\"\"\"\n",
    "    X_train = []\n",
    "    y_train = []\n",
    "\n",
    "    for idx, row in train_df.iterrows():\n",
    "        image_path = os.path.join(download_folder, os.path.basename(row['image_link']))\n",
    "        \n",
    "        # Extract features using CNN\n",
    "        image_features = extract_image_features(image_path, cnn_model)\n",
    "        if image_features is None:\n",
    "            continue  # Skip if image couldn't be processed\n",
    "        \n",
    "        # Extract text using OCR\n",
    "        text = extract_text_from_image(image_path)\n",
    "        \n",
    "        # Extract entity value from the text\n",
    "        value, unit = extract_entity_value(text)\n",
    "        if not value or not unit:\n",
    "            continue  # Skip if text extraction fails\n",
    "        \n",
    "        # Combine CNN features and OCR features\n",
    "        combined_features = list(image_features[0]) + [float(value)]\n",
    "        X_train.append(combined_features)\n",
    "        y_train.append(float(row['entity_value'].split()[0]))  # Extract ground truth value\n",
    "    \n",
    "    # Train a simple regression model\n",
    "    if not X_train:\n",
    "        logging.error(\"No valid data for training.\")\n",
    "        return None\n",
    "    X_train = pd.DataFrame(X_train)\n",
    "    reg_model = LinearRegression()\n",
    "    reg_model.fit(X_train, y_train)\n",
    "    return reg_model\n",
    "\n",
    "# Step 7: Predict and Generate Output\n",
    "def predict_and_generate_output(test_csv, reg_model, download_folder, cnn_model):\n",
    "    \"\"\"Generate predictions and save to CSV in the correct format.\"\"\"\n",
    "    test_df = pd.read_csv(test_csv)\n",
    "    X_test = []\n",
    "    test_indices = []\n",
    "    predicted_units = []\n",
    "\n",
    "    for idx, row in test_df.iterrows():\n",
    "        image_path = os.path.join(download_folder, os.path.basename(row['image_link']))\n",
    "        \n",
    "        # Extract features using CNN\n",
    "        image_features = extract_image_features(image_path, cnn_model)\n",
    "        if image_features is None:\n",
    "            continue  # Skip if image couldn't be processed\n",
    "        \n",
    "        # Extract text using OCR\n",
    "        text = extract_text_from_image(image_path)\n",
    "        \n",
    "        # Extract entity value from the text\n",
    "        value, unit = extract_entity_value(text)\n",
    "        if not value or not unit:\n",
    "            continue  # Skip if text extraction fails\n",
    "        \n",
    "        # Combine CNN features and OCR features\n",
    "        combined_features = list(image_features[0]) + [float(value)]\n",
    "        X_test.append(combined_features)\n",
    "        test_indices.append(row['index'])\n",
    "        predicted_units.append(unit)\n",
    "    \n",
    "    if not X_test:\n",
    "        logging.error(\"No valid data for predictions.\")\n",
    "        return\n",
    "    X_test = pd.DataFrame(X_test)\n",
    "    predictions = reg_model.predict(X_test)\n",
    "\n",
    "    # Format the predictions\n",
    "    output = pd.DataFrame({\n",
    "        'index': test_indices, \n",
    "        'prediction': [f\"{pred:.2f} {unit}\" for pred, unit in zip(predictions, predicted_units)]\n",
    "    })\n",
    "    \n",
    "    output.to_csv('/home/rguktrkvalley/Desktop/ptest_out.csv', index=False)\n",
    "    logging.info(\"Predictions saved to test_out.csv\")\n",
    "\n",
    "# Step 8: Main Function to Run the Entire Process\n",
    "def main():\n",
    "    # Define paths\n",
    "    train_csv = '/home/rguktrkvalley/Desktop/train1.csv'\n",
    "    test_csv = '/home/rguktrkvalley/Desktop/sample_test.csv'\n",
    "    download_folder = '/home/rguktrkvalley/Desktop/downloaded_images'\n",
    "    \n",
    "    # Load CNN model only once\n",
    "    cnn_model = EfficientNetB0(weights='imagenet', include_top=False, pooling='avg')\n",
    "    \n",
    "    # Step 1: Download images\n",
    "    train_df = download_all_images(train_csv, download_folder)\n",
    "\n",
    "    # Step 2: Train the model\n",
    "    reg_model = train_model(train_df, download_folder, cnn_model)\n",
    "\n",
    "    # Step 3: Generate predictions for the test set\n",
    "    if reg_model:\n",
    "        predict_and_generate_output(test_csv, reg_model, download_folder, cnn_model)\n",
    "\n",
    "# Run the pipeline\n",
    "if __name__ == '__main__':\n",
    "    main()\n"
   ]
  },
  {
   "cell_type": "code",
   "execution_count": null,
   "id": "0e492ab5-0a7d-4d17-81ec-0e9d3f355b6c",
   "metadata": {},
   "outputs": [],
   "source": []
  },
  {
   "cell_type": "code",
   "execution_count": null,
   "id": "27525e23-fe26-4e41-9dfa-ca88a70d910c",
   "metadata": {},
   "outputs": [],
   "source": []
  },
  {
   "cell_type": "code",
   "execution_count": null,
   "id": "3a0146e6-2e9c-4d65-8104-e04267422569",
   "metadata": {},
   "outputs": [],
   "source": []
  },
  {
   "cell_type": "code",
   "execution_count": null,
   "id": "afd49fef-3c67-4a6a-a253-74c98eee6109",
   "metadata": {},
   "outputs": [],
   "source": []
  },
  {
   "cell_type": "code",
   "execution_count": 17,
   "id": "a4c4ef85-1b52-4a86-9801-224dbe1ec7a0",
   "metadata": {},
   "outputs": [
    {
     "name": "stderr",
     "output_type": "stream",
     "text": [
      "100%|█████████████████████████████████████████| 99/99 [00:00<00:00, 4281.36it/s]\n",
      "2024-09-16 00:26:58,670 - WARNING - Corrupted image detected: /home/rguktrkvalley/Desktop/downloaded_images/71bvOuz9w1L.jpg - cannot identify image file '/home/rguktrkvalley/Desktop/downloaded_images/71bvOuz9w1L.jpg'\n",
      "2024-09-16 00:26:58,673 - ERROR - Failed to repair image: /home/rguktrkvalley/Desktop/downloaded_images/71bvOuz9w1L.jpg - cannot identify image file '/home/rguktrkvalley/Desktop/downloaded_images/71bvOuz9w1L.jpg'\n",
      "2024-09-16 00:26:58,701 - WARNING - Corrupted image detected: /home/rguktrkvalley/Desktop/downloaded_images/61hWZdkq6WL.jpg - cannot identify image file '/home/rguktrkvalley/Desktop/downloaded_images/61hWZdkq6WL.jpg'\n",
      "2024-09-16 00:26:58,705 - ERROR - Failed to repair image: /home/rguktrkvalley/Desktop/downloaded_images/61hWZdkq6WL.jpg - cannot identify image file '/home/rguktrkvalley/Desktop/downloaded_images/61hWZdkq6WL.jpg'\n",
      "2024-09-16 00:26:58,728 - WARNING - Corrupted image detected: /home/rguktrkvalley/Desktop/downloaded_images/71D824lbRvL.jpg - cannot identify image file '/home/rguktrkvalley/Desktop/downloaded_images/71D824lbRvL.jpg'\n",
      "2024-09-16 00:26:58,731 - ERROR - Failed to repair image: /home/rguktrkvalley/Desktop/downloaded_images/71D824lbRvL.jpg - cannot identify image file '/home/rguktrkvalley/Desktop/downloaded_images/71D824lbRvL.jpg'\n",
      "2024-09-16 00:26:58,742 - WARNING - Corrupted image detected: /home/rguktrkvalley/Desktop/downloaded_images/51bQPPtMqYL.jpg - cannot identify image file '/home/rguktrkvalley/Desktop/downloaded_images/51bQPPtMqYL.jpg'\n",
      "2024-09-16 00:26:58,744 - ERROR - Failed to repair image: /home/rguktrkvalley/Desktop/downloaded_images/51bQPPtMqYL.jpg - cannot identify image file '/home/rguktrkvalley/Desktop/downloaded_images/51bQPPtMqYL.jpg'\n",
      "2024-09-16 00:26:58,749 - WARNING - Corrupted image detected: /home/rguktrkvalley/Desktop/downloaded_images/71E7CU55dcL.jpg - cannot identify image file '/home/rguktrkvalley/Desktop/downloaded_images/71E7CU55dcL.jpg'\n",
      "2024-09-16 00:26:58,752 - ERROR - Failed to repair image: /home/rguktrkvalley/Desktop/downloaded_images/71E7CU55dcL.jpg - cannot identify image file '/home/rguktrkvalley/Desktop/downloaded_images/71E7CU55dcL.jpg'\n",
      "2024-09-16 00:26:58,759 - WARNING - Error processing image /home/rguktrkvalley/Desktop/downloaded_images/71bvOuz9w1L.jpg: Image at /home/rguktrkvalley/Desktop/downloaded_images/71bvOuz9w1L.jpg could not be loaded.\n",
      "2024-09-16 00:26:58,761 - WARNING - Image preprocessing failed for /home/rguktrkvalley/Desktop/downloaded_images/71bvOuz9w1L.jpg\n",
      "Premature end of JPEG file\n",
      "Premature end of JPEG file\n",
      "2024-09-16 00:27:00,638 - INFO - Text extracted from /home/rguktrkvalley/Desktop/downloaded_images/71nywfWZUwL.jpg:   \n",
      "  \n",
      "\n",
      "9.1c0m/3.58%\n",
      "\n",
      "Type\n",
      "Battery Cell\n",
      "\n",
      "fj Charger\n",
      "\n",
      "tH} Charger Output Current\n",
      "\n",
      "fh USB port\n",
      "\n",
      "G) BMS\n",
      "\n",
      "a Battery Weight\n",
      "\n",
      "isan Ve\n",
      "17 SA 4 bibl. 1m 4. Sim\n",
      "\n",
      "    \n",
      "  \n",
      "  \n",
      " \n",
      "\n",
      "Downtube Battery\n",
      "\n",
      "13Ah: 2500m-A-h\n",
      "17.5Ah: Sam-sung/L-G/Cell\n",
      "3500mAh Send it randomly\n",
      "\n",
      "v\n",
      "\n",
      "48V 13Ah (2A)\n",
      "A8V 17.5Ah (4A)\n",
      "\n",
      "v\n",
      "\n",
      "530A\n",
      "\n",
      "A1KG / 44KG\n",
      "\f",
      "\n",
      "Premature end of JPEG file\n",
      "Premature end of JPEG file\n",
      "2024-09-16 00:27:03,179 - INFO - Text extracted from /home/rguktrkvalley/Desktop/downloaded_images/81x77l2T5NL.jpg: ; Paes to use Knort\n",
      "poi Pots:\n",
      "\n",
      "either: dissolve w\n",
      "the pot into\n",
      "\n",
      "500m! of boili\n",
      "ee toh ONING py: add the\n",
      "pot. directly\n",
      "to dish.\n",
      "\n",
      " \n",
      "\f",
      "\n",
      "2024-09-16 00:27:04,194 - INFO - Text extracted from /home/rguktrkvalley/Desktop/downloaded_images/61SmT8pkLtL.jpg: TERPENE INFUSED\n",
      "\n",
      "    \n",
      "   \n",
      "\n",
      "RS\n",
      "HET Ss\n",
      "Ts\n",
      "\n",
      "esta 1\n",
      "ata\n",
      "\n",
      "Neen\n",
      "\f",
      "\n",
      "2024-09-16 00:27:05,603 - INFO - Text extracted from /home/rguktrkvalley/Desktop/downloaded_images/71DiLRHeZdL.jpg:  \n",
      "\n",
      "   \n",
      "\n",
      "aa\n",
      "FREE\n",
      "\n",
      " \n",
      "\n",
      "SOY\n",
      "\n",
      "aa\n",
      "ae Gi\n",
      "\n",
      "   \n",
      "   \n",
      "  \n",
      "\n",
      " \n",
      "\n",
      "’ DAIRY\n",
      "7 365° cin Y aia\n",
      "é\n",
      "1-1-8 Xe)\n",
      "\n",
      "PRESERVATIVES\n",
      "\n",
      "Horbaach\n",
      "\f",
      "\n",
      "Premature end of JPEG file\n",
      "Premature end of JPEG file\n",
      "2024-09-16 00:27:06,519 - INFO - Text extracted from /home/rguktrkvalley/Desktop/downloaded_images/71dWDwMhWmS.jpg:  \n",
      "\f",
      "\n",
      "2024-09-16 00:27:06,860 - INFO - Text extracted from /home/rguktrkvalley/Desktop/downloaded_images/31EvJszFVfL.jpg: 9.4in\n",
      "23cm\n",
      "\n",
      " \n",
      "\f",
      "\n",
      "2024-09-16 00:27:07,986 - INFO - Text extracted from /home/rguktrkvalley/Desktop/downloaded_images/612xIhPMHqL.jpg:  \n",
      "     \n",
      " \n",
      "\n",
      "0.03 INcH\n",
      "\n",
      "(0.8 MM)\n",
      "\n",
      " \n",
      "\n",
      "1.60 INCH\n",
      "\n",
      "(40.7MM)\n",
      "\n",
      "Net Weight: 3.2G\n",
      "\n",
      " \n",
      "\n",
      "SS ——__| fF a. POLLED\n",
      "Lorever Jn My He, (rn RTE\n",
      "925 Sterling Silver Customizable 6.3+2 INCH Extend Chain\n",
      "(160mm+50MM)\n",
      "\n",
      "Manual measurement, the size may be slightly different from the physical.\n",
      "\f",
      "\n",
      "2024-09-16 00:27:09,701 - INFO - Text extracted from /home/rguktrkvalley/Desktop/downloaded_images/71hgN7yu9OL.jpg:       \n",
      "\n",
      "MAIN COMPONEN\n",
      "\n",
      "Dendrobium &Mutlein\n",
      "Extract Herbal Dro}\n",
      "\f",
      "\n",
      "2024-09-16 00:27:12,381 - INFO - Text extracted from /home/rguktrkvalley/Desktop/downloaded_images/81S2+GnYpTL.jpg:  \n",
      "\n",
      "Cha as\n",
      "v vy\n",
      "af Aas\n",
      "\n",
      "MA\n",
      "\n",
      "     \n",
      "  \n",
      "\n",
      "é\n",
      "1 9\n",
      "\n",
      "Vv vvv yy...\n",
      "\\ OO PELL LS eee:\n",
      "\\\n",
      "\\\n",
      "\n",
      " \n",
      " \n",
      "\n",
      "4\n",
      "bu.\n",
      "vv\n",
      "\n",
      "A\n",
      "VV Vv\n",
      "aA\n",
      "\n",
      "INS TANT “ENERGY\n",
      "\n",
      "Instant Energy\n",
      "\n",
      "SB#eTen st\n",
      "\n",
      " \n",
      "\f",
      "\n",
      "Premature end of JPEG file\n",
      "Premature end of JPEG file\n",
      "2024-09-16 00:27:13,404 - INFO - Text extracted from /home/rguktrkvalley/Desktop/downloaded_images/71l0M0tMGjL.jpg: All Natural\n",
      "Ingredients\n",
      "\n",
      " \n",
      "\f",
      "\n",
      "Premature end of JPEG file\n",
      "Premature end of JPEG file\n",
      "2024-09-16 00:27:19,094 - INFO - Text extracted from /home/rguktrkvalley/Desktop/downloaded_images/81dzao1Ob4L.jpg:  \n",
      "\n",
      "lei arehord nag vee mdooeelSPEARMINT PURE HERB. e\n",
      "be 2 Spearrint i thar meocacxn herb vtich the comm oye\n",
      "(rer Youn lo ardpor pena\n",
      "\n",
      "eee ide ord ut. High pots love of eI as\n",
      "Lela “semen eng Sel bomen ced choles tl bee\n",
      "\n",
      "Kam om oof hen ace some HOW TO USE.\n",
      "Si efos ver he bor rh Kon char So\", Tedcee feb, spare!\n",
      "\n",
      "Shp tata meet on Mats ko Neon cio be ove, fund os oan a pet\n",
      "\n",
      "‘ine con so cnr ax be pieg pope\n",
      "\n",
      "WWW.SORICHORGANICS.COM rareeleols Semon bk\n",
      "\n",
      "ACKAGING CHANGED\n",
      "\n",
      " \n",
      "\n",
      " \n",
      "\n",
      " \n",
      "\n",
      " \n",
      "\n",
      "coy ba rade inp heel\n",
      "\n",
      " \n",
      "\n",
      " \n",
      "\n",
      " \n",
      "\n",
      " \n",
      "\n",
      "f ¢ e Nutritional Facts\n",
      "—— Colories B0kcal\n",
      "ee, | SPEARMINT\n",
      "Toul Svgor 6\n",
      "ty re aa GREEN TEA\n",
      "Cato: talinc Sood a\n",
      "ren Sodin oma\n",
      "eco Sn by wen “t\n",
      "feces st pon 2 MONT ROT ATTN PCAN\n",
      "eben gone sae win? met oop bp\n",
      "\n",
      "Sea RS sean Nor :\n",
      "New Ba 0001 apes\n",
      "\n",
      "  \n",
      "\n",
      "200/-\n",
      "So\n",
      "\n",
      "See MMM 0.\n",
      "\n",
      "ica svpemhawicpeed 14 and ho wpe shin\n",
      "\n",
      "ren oak ce oom ee Soe\n",
      "Sesriem Saroiu\n",
      "\n",
      "£1009 0.5303)\n",
      "\n",
      "BEFORE\n",
      "\n",
      " \n",
      "\n",
      " \n",
      "\n",
      "‘Our body is @ temple and putting in raw and\n",
      "rraturol foods is the key to’ make it run efficiently.\n",
      "We ot Sorich Organics beliove thot the first step to\n",
      "‘better life starts withthe food you eat\n",
      "\n",
      "We work with’ stoble network of farmers. ond\n",
      "former groups, all of whom proctice organic\n",
      "farming and grow natural, pesticide-tree produce.\n",
      "We bring te you the bounty siight from Mather\n",
      "orth, giving you food as il wos meant to be\n",
      "‘enjoyed-completely natural\n",
      "\n",
      "WWW.SORICHORGANICS.COM\n",
      "\n",
      "FORFRESHNESS FARMERS QUALITY.\n",
      "MEAL Weve deedy Mme ne\n",
      "mecha ne :\n",
      "\n",
      "‘Caxton: Packs ino foxy tot hordes ober nus ond\n",
      "\n",
      "tod Os nat by he pce Fis enprdo rmoged\n",
      "\n",
      "Sere\n",
      "\n",
      "ener Sond ishiel abate dace\n",
      "\n",
      "RONUACTORESTAN ‘AND MARKETED BY:\n",
      "\n",
      "‘Sorich Organics Pv1, Lid.\n",
      "\n",
      "Mot Hert Wlnk B Sct 63, Ma, an\n",
      "\n",
      "Nota Page ar Peed 201381\n",
      "\n",
      " \n",
      "\n",
      "  \n",
      "\n",
      "   \n",
      "    \n",
      "\n",
      "ORGANIC SPEARMINT HERBAL TEA\n",
      "Speaimint is that miraculous herb which take:\n",
      "\n",
      "‘care of you Inside and out, High potossiuin level\n",
      "\n",
      "cof the herb keeps blood pressure in contra, |t also keeps\n",
      "hormonal balance:\n",
      "\n",
      "DIRECTION OF USE\n",
      "\n",
      "‘Semi medicinal herb, speormin! con be made ita herbal\n",
      "tea. can ako be ground, if wed os a spice in vegetable\n",
      "ceutties o« lor sprinkling purposes:\n",
      "\n",
      "Ingredients : Organic Spearmint Pure Herb\n",
      "\n",
      "Country of Origin : Indio re |\n",
      "Seen nat a a ORGANIC\n",
      "\n",
      "Calories 80kcal\n",
      "Total Carbohydrate ‘\n",
      "Total Sugor\n",
      "Diotry Fibre\n",
      "Totel Fat\n",
      "Seed IM\n",
      "—T7\n",
      "\n",
      "Sodium\n",
      "Protein\n",
      "\n",
      "SPEARMINT\n",
      "GREEN TEA\n",
      "\n",
      "Cennemne within 1 wees altes apesing te posh\n",
      "NET WEIGHT 100 g (3.53 08)\n",
      "MBE EE eS\n",
      "\n",
      "BATCH NO. +\n",
      "\n",
      "PKD. +\n",
      "\n",
      "USE BY:\n",
      "\n",
      "ce\n",
      "\n",
      "AFTER\n",
      "\n",
      "Note: Packaging may vary for a brief period of time.\n",
      "\f",
      "\n",
      "2024-09-16 00:27:21,490 - INFO - Text extracted from /home/rguktrkvalley/Desktop/downloaded_images/81N73b5khVL.jpg: Gro&e Kapazitat, Tiragfahigkeit bis;zu 30KG\n",
      "Beat Taek\n",
      "#=®. Das Material ist ca. 5mm dick und die Fugen sind verstarkt, so dass\n",
      "\n",
      "W es sehr stark ist.\n",
      "\n",
      "Tragfahigkeit bis zu 30KG, kann eine Vielzahl von Gegenstanden j\n",
      "\n",
      "O\n",
      "A aufnehmen.\n",
      "\n",
      "nal\n",
      "\n",
      " \n",
      "\n",
      " \n",
      "\f",
      "\n",
      "Premature end of JPEG file\n",
      "Premature end of JPEG file\n",
      "2024-09-16 00:27:22,557 - INFO - Text extracted from /home/rguktrkvalley/Desktop/downloaded_images/71cjrYndwIL.jpg: SKINFOOD\n",
      "SALMON DARK CIRCLE CONCEALER\n",
      "This concentrated and creamy concealer\n",
      "contains salmon ingredients which effectively\n",
      "\n",
      "help conceal dark under eye circles and brighten\n",
      "the eyes.\n",
      "To use :\n",
      "adoauate amount and aent\n",
      "\n",
      "After applying yout foundation, dispense an\n",
      "tap onto dark circles around\n",
      "\n",
      " \n",
      "\f",
      "\n",
      "Premature end of JPEG file\n",
      "Premature end of JPEG file\n",
      "2024-09-16 00:27:23,063 - INFO - Text extracted from /home/rguktrkvalley/Desktop/downloaded_images/61o2ntPNNgL.jpg:  \n",
      "\f",
      "\n",
      "2024-09-16 00:27:23,671 - INFO - Text extracted from /home/rguktrkvalley/Desktop/downloaded_images/61oMj2iXOuL.jpg: 55 Cri\n",
      "\n",
      "14cm 15cm 16cm\n",
      "\n",
      "<10kg 10-A5kg 15-25kg 2545kg >45kg\n",
      "\n",
      " \n",
      "\f",
      "\n",
      "2024-09-16 00:27:25,329 - INFO - Text extracted from /home/rguktrkvalley/Desktop/downloaded_images/71jBLhmTNlL.jpg: SAME TRUSTED QUALITY.\n",
      "\n",
      "   \n",
      "  \n",
      "     \n",
      "\n",
      "Horbaach\n",
      "\n",
      "HIGH STRENGTH\n",
      "\n",
      "PSYLLIUM jae\n",
      "Hea PSYLLIUM\n",
      "om ai\n",
      "\n",
      "ce PLEMENT DOS carsuiss L\n",
      "oe 365 a\n",
      "CAPSUI tas\n",
      "\n",
      "~ Horbaach’\n",
      "\f",
      "\n",
      "2024-09-16 00:27:27,294 - INFO - Text extracted from /home/rguktrkvalley/Desktop/downloaded_images/71E9iF-bmKL.jpg: DESIGNED FOR\n",
      "EXTREME.GAINS\n",
      "\n",
      "Support Weight &\n",
      "Muscle bane hata ia\n",
      "\n",
      "Muscle Size &\n",
      "S46\n",
      "\n",
      "MUSCLE Ae Py) re Muscle\n",
      "MASS GAINER Recovery\n",
      "\n",
      "a\n",
      "\n",
      "EES cor } Ui) 7 eae ie Muscle\n",
      ": Break down\n",
      "\n",
      "  \n",
      "\f",
      "\n",
      "2024-09-16 00:27:27,883 - INFO - Text extracted from /home/rguktrkvalley/Desktop/downloaded_images/41wvffSxB4L.jpg: 15.5g\n",
      "\n",
      " \n",
      "\n",
      "(\n",
      "\n",
      "cm\n",
      "\n",
      "BF éST\n",
      "FRIF ZNDS\n",
      "\n",
      "3.5cm\n",
      "\f",
      "\n",
      "Premature end of JPEG file\n",
      "Premature end of JPEG file\n",
      "2024-09-16 00:27:28,521 - INFO - Text extracted from /home/rguktrkvalley/Desktop/downloaded_images/81RNsNEM1EL.jpg:  \n",
      "\f",
      "\n",
      "2024-09-16 00:27:30,831 - INFO - Text extracted from /home/rguktrkvalley/Desktop/downloaded_images/814sAvV89SL.jpg: Nutrition Facts\n",
      "\n",
      "Serving size 3 Pieces (42g)\n",
      "a\n",
      "\n",
      " \n",
      "\n",
      "Amount Per Serving e.\n",
      "Calories ‘«*) 160\n",
      "\n",
      "% Daily Value*\n",
      "\n",
      "Total Fat 0g 0%\n",
      "\n",
      "Saturated Fat 0g 0%\n",
      "Trans Fat Og\n",
      "\n",
      " \n",
      "\n",
      " \n",
      "\n",
      " \n",
      "\n",
      " \n",
      "\n",
      "0%\n",
      "1%\n",
      "Total Carbohydrate 39g 14%\n",
      "Dietary Fiber Og\n",
      "Total Sugars 28g\n",
      "Includes 28g Added Sugars\n",
      "Protein 0g\n",
      "\n",
      " \n",
      "\n",
      " \n",
      "\n",
      " \n",
      "\n",
      " \n",
      "\n",
      " \n",
      "\n",
      " \n",
      "\n",
      "Vitamin D Omcg\n",
      "Calcium Omg\n",
      "lron Omg\n",
      "Potassium Omg\n",
      "\n",
      " \n",
      "\n",
      " \n",
      "\n",
      " \n",
      "\n",
      "*The % Daily Value (DV) tells you how much a nutrient in a\n",
      "serving of food contributes to a daily diet. 2,000 calories a\n",
      "day is used for general nutrition advice.\n",
      "\n",
      " \n",
      "\n",
      "Ingredients: Sugar, Glucose, Agar, Citric\n",
      "Acid, Canola Oil, Natural & Artificial\n",
      "Flavors, Artificial Colors\n",
      "\f",
      "\n",
      "Premature end of JPEG file\n",
      "Premature end of JPEG file\n",
      "2024-09-16 00:27:33,334 - INFO - Text extracted from /home/rguktrkvalley/Desktop/downloaded_images/91Cma3RzseL.jpg:        \n",
      "      \n",
      "\n",
      "Horbaach’\n",
      "\n",
      "100%\n",
      "\n",
      "HIGHEST\n",
      "QUALITY\n",
      "\n",
      "  \n",
      "\n",
      "PLANTAGO OVATA\n",
      "PLANT SEEDS\n",
      "\n",
      "Horbdach\n",
      "\f",
      "\n",
      "Premature end of JPEG file\n",
      "Premature end of JPEG file\n",
      "2024-09-16 00:27:34,910 - INFO - Text extracted from /home/rguktrkvalley/Desktop/downloaded_images/915w0BdW-gL.jpg:  \n",
      "\f",
      "\n",
      "2024-09-16 00:27:36,787 - INFO - Text extracted from /home/rguktrkvalley/Desktop/downloaded_images/71IUuTJ8QwL.jpg: Superior Quality\n",
      "\n",
      "Put durability, safety, and environmental protection first.\n",
      "\n",
      "Honeycomb Surface\n",
      "\n",
      "Offers solid performance and ensures that\n",
      "the yoga ball won’t burst suddenly.\n",
      "\n",
      " \n",
      "\n",
      "Explosion-Proof Design\n",
      "\n",
      "Provides the best protection and\n",
      "prevents injuries. ]\n",
      "\n",
      " \n",
      "\n",
      "Environmentally Friendly Material\n",
      "\n",
      "Just use it with confidence knowing it’s made\n",
      "of environmentally friendly material.\n",
      "\n",
      " \n",
      "\n",
      "No Sticking\n",
      "\n",
      "Rest assured that the surface won't stick to\n",
      "your skin, clothing, floor, and much more. J\n",
      "\n",
      "-\n",
      "\n",
      " \n",
      "\n",
      "330lbs Load Bearing\n",
      "\n",
      "Never worry about the load-bearing capacity\n",
      "of this yoga ball as it can support up to 330\\bs. |\n",
      "\n",
      " \n",
      "\n",
      " \n",
      "\n",
      " \n",
      "\f",
      "\n",
      "2024-09-16 00:27:39,476 - INFO - Text extracted from /home/rguktrkvalley/Desktop/downloaded_images/81njuNSPdjL.jpg: Fs\n",
      "\n",
      "Grand Dessert Schoko\n",
      "\n",
      "per TRS Um CL\n",
      "M0 DRS aa\n",
      "“T ao a en leap lpengt eel *\n",
      "LS eC Uae\n",
      "Kala, Verdicungsi vee ~¢ ondary\n",
      "a, Stickstoff.\n",
      "Senne\n",
      "=\n",
      "}\n",
      "4\n",
      "\n",
      " \n",
      "   \n",
      "\n",
      "Ey\n",
      "LTC\n",
      "\n",
      "aL aT\n",
      "Rr mt\n",
      "\n",
      "4 \"002971 am i LH\n",
      "\f",
      "\n",
      "2024-09-16 00:27:40,365 - INFO - Text extracted from /home/rguktrkvalley/Desktop/downloaded_images/61HXgujoxpL.jpg:  \n",
      "\f",
      "\n",
      "2024-09-16 00:27:41,044 - INFO - Text extracted from /home/rguktrkvalley/Desktop/downloaded_images/51WsuKKAVrL.jpg:  \n",
      "  \n",
      "  \n",
      "  \n",
      "\n",
      "Product Name Harvest Festival Doll\n",
      "\n",
      "15X9X26CM\n",
      "52x4240CM\n",
      "Cana Polyester material\n",
      "\n",
      "Cerrito) Manual\n",
      "\n",
      "Grey . Orange\n",
      "\n",
      "Leacolo Olea NC 158g\n",
      "\n",
      " \n",
      "\f",
      "\n",
      "2024-09-16 00:27:42,818 - INFO - Text extracted from /home/rguktrkvalley/Desktop/downloaded_images/711SATIDrmL.jpg: Basic Information\n",
      "\n",
      " \n",
      "\n",
      " \n",
      "\n",
      " \n",
      "\n",
      " \n",
      "\n",
      " \n",
      "\n",
      " \n",
      "\n",
      " \n",
      "\n",
      " \n",
      "\n",
      "    \n",
      " \n",
      "  \n",
      "\n",
      "Battery Capacity 1300mMAh\n",
      "Discharage Rate 100C\n",
      "NOTLeNAZoliorel= DY,\n",
      "Cell Configuration | 7AS\n",
      "Connector Type © XT60 Plug\n",
      "Balancer Connector Type aS Mal ;\n",
      ": Weight: 169g\n",
      "(Pete nears\n",
      "\n",
      "  \n",
      "\n",
      "f Cg Lay\n",
      "Le] cea SPENT\n",
      "\n",
      "  \n",
      "  \n",
      "\n",
      "1.26 Inches\n",
      "ye ea leas\n",
      "\f",
      "\n",
      "2024-09-16 00:27:43,713 - INFO - Text extracted from /home/rguktrkvalley/Desktop/downloaded_images/61I9XdN6OFL.jpg: SAN ues\n",
      "\n",
      " \n",
      "\f",
      "\n",
      "2024-09-16 00:27:45,650 - INFO - Text extracted from /home/rguktrkvalley/Desktop/downloaded_images/71FVeRd2jqL.jpg: =\n",
      "\n",
      "[\n",
      "\n",
      "se\n",
      "\n",
      "|\n",
      "\\\n",
      "\n",
      "100.5\n",
      "\n",
      "OF CHARGES\n",
      "\n",
      " \n",
      "\n",
      " \n",
      "\f",
      "\n",
      "2024-09-16 00:27:45,652 - WARNING - Error processing image /home/rguktrkvalley/Desktop/downloaded_images/61hWZdkq6WL.jpg: Image at /home/rguktrkvalley/Desktop/downloaded_images/61hWZdkq6WL.jpg could not be loaded.\n",
      "2024-09-16 00:27:45,653 - WARNING - Image preprocessing failed for /home/rguktrkvalley/Desktop/downloaded_images/61hWZdkq6WL.jpg\n",
      "Premature end of JPEG file\n",
      "Premature end of JPEG file\n",
      "2024-09-16 00:27:47,264 - INFO - Text extracted from /home/rguktrkvalley/Desktop/downloaded_images/61wzlucTREL.jpg: ONE SIZE FITS ALL\n",
      "\n",
      "ACP Pee Ee O.Ce PS\n",
      "\n",
      "rea Cem i ew\n",
      "_ ee uewer\n",
      "\n",
      "Le ee |\n",
      "\n",
      "es\n",
      "\n",
      " \n",
      "\n",
      "wer! owie on\n",
      ", Ne ee a\n",
      "tere (Orr len Poe\n",
      "con) ® oor Teta\n",
      "lin\n",
      "\n",
      " \n",
      "\n",
      "wtcy\n",
      "\n",
      "*\n",
      "ws\n",
      "or)\n",
      "2\n",
      "\f",
      "\n",
      "2024-09-16 00:27:48,295 - INFO - Text extracted from /home/rguktrkvalley/Desktop/downloaded_images/61cMeogK8gL.jpg:  \n",
      "\n",
      "BALL WEIGHT: 26 Grams\n",
      "BALL DIAMETER: 74mm\n",
      "NUMBER OF HOLES: 40\n",
      "\f",
      "\n",
      "2024-09-16 00:27:48,858 - INFO - Text extracted from /home/rguktrkvalley/Desktop/downloaded_images/612mrlqiI4L.jpg:  \n",
      "\f",
      "\n",
      "2024-09-16 00:27:49,691 - INFO - Text extracted from /home/rguktrkvalley/Desktop/downloaded_images/61sQ+qAKr4L.jpg: 4\n",
      "\n",
      "    \n",
      "\n",
      "925 Sterling Silver\n",
      "18K Gold Plated\n",
      "\n",
      "wy ZA\n",
      "\n",
      "(7 MM)\n",
      "\n",
      "\\\\\n",
      "0.28 =\n",
      "V\n",
      "\n",
      "High Polish\n",
      "\n",
      "<I\n",
      "\n",
      "0.07 INcH fe\n",
      "(1.8 MM) Zz\n",
      "__)\n",
      "\n",
      "16+2 INCH Extend Chain\n",
      "Net Weight: 2.7G (405MM+50MM)\n",
      "\n",
      "Manual measurement, the size may be slightly different from the physical.\n",
      "\f",
      "\n",
      "2024-09-16 00:27:50,644 - INFO - Text extracted from /home/rguktrkvalley/Desktop/downloaded_images/617Tl40LOXL.jpg: HIGH STRENGTH\n",
      "\n",
      "PSYLLIUM\n",
      "\n",
      "nhORA\n",
      "\n",
      " \n",
      "\f",
      "\n",
      "Premature end of JPEG file\n",
      "Premature end of JPEG file\n",
      "2024-09-16 00:27:52,086 - INFO - Text extracted from /home/rguktrkvalley/Desktop/downloaded_images/91LPf6OjV9L.jpg:     \n",
      "\n",
      "Helps in\n",
      "osteoarthritis Helps in\n",
      "\f",
      "\n",
      "Premature end of JPEG file\n",
      "Premature end of JPEG file\n",
      "2024-09-16 00:27:53,056 - INFO - Text extracted from /home/rguktrkvalley/Desktop/downloaded_images/61XGDKap+JL.jpg:  \n",
      "\f",
      "\n",
      "2024-09-16 00:27:53,725 - INFO - Text extracted from /home/rguktrkvalley/Desktop/downloaded_images/51xfRlxWIXL.jpg: Te pro Te\n",
      "\n",
      "al)\n",
      "Sra 520 kJ (124 aH ‘\n",
      "\n",
      "POISE rela ce o Es ;\n",
      "Kohlenhydrate 14\n",
      "\n",
      "CEPA ’\n",
      "aL\n",
      "7\n",
      "\n",
      "    \n",
      "         \n",
      "\f",
      "\n",
      "2024-09-16 00:27:57,297 - INFO - Text extracted from /home/rguktrkvalley/Desktop/downloaded_images/71+fn9TWQmL.jpg: SD eee _\n",
      "PP FO SS ee ss\n",
      "\n",
      "<1 1 aS SS\n",
      "see os\n",
      "\n",
      "50 ml\n",
      "\n",
      "Carvomin\n",
      "\n",
      "Verdauungstropfen\n",
      "\n",
      "18,55 8/20 ml\n",
      "Flussigkeit zum Einnehmen\n",
      "\n",
      "ee\n",
      "\n",
      "Wirkstoff:\n",
      "\n",
      "ANU y 40a U Kel att MUStel ne aed\n",
      "von Angelikawurzeln,\n",
      "Benediktenkraut und\n",
      "\n",
      "aula arab) haclaa\n",
      "\n",
      "Nera TH:\n",
      "\n",
      "|\n",
      "\n",
      "24 up eS\n",
      "a4\n",
      "\n",
      "i\n",
      "(3\n",
      "\n",
      " \n",
      "\n",
      " \n",
      "\n",
      " \n",
      "\n",
      " \n",
      "\n",
      " \n",
      "\n",
      " \n",
      "\n",
      " \n",
      "\n",
      " \n",
      "\n",
      " \n",
      " \n",
      " \n",
      "  \n",
      "  \n",
      " \n",
      "       \n",
      "       \n",
      "    \n",
      "\n",
      " \n",
      "\n",
      "50 ml Wirkstoft: Ass\n",
      "» o Benediktenks.\n",
      "\n",
      "flanzliches “7\n",
      "Ca rvomin Verda\n",
      "Verdauungstropfen {eit enthatz :\n",
      "\n",
      "Mischung \\o\" *\n",
      "18,55 g/20 ml ferminzblatte”\n",
      "Flussigkeit zum Enthalt 58.\\°\n",
      "Einnehmen\n",
      "\n",
      "Cy\n",
      "\n",
      "lagern. Das *-\"\n",
      "Zur Anwendung\n",
      "\n",
      "ausschiesic:\n",
      "dungsged*:\n",
      "bei Erwachsenen\n",
      "\n",
      "Klinge Pham?”\n",
      "\f",
      "\n",
      "Premature end of JPEG file\n",
      "Premature end of JPEG file\n",
      "2024-09-16 00:27:58,031 - INFO - Text extracted from /home/rguktrkvalley/Desktop/downloaded_images/61I0O1qJbhS.jpg:  \n",
      "\f",
      "\n",
      "Premature end of JPEG file\n",
      "Premature end of JPEG file\n",
      "2024-09-16 00:27:59,850 - INFO - Text extracted from /home/rguktrkvalley/Desktop/downloaded_images/81K3JwUCnQL.jpg:  \n",
      "\n",
      "©9999\n",
      "\n",
      "Dustproof Heat-resisting _ Frost-resistant\n",
      "\f",
      "\n",
      "2024-09-16 00:28:01,067 - INFO - Text extracted from /home/rguktrkvalley/Desktop/downloaded_images/71nsfFCXF0L.jpg:  \n",
      "\f",
      "\n",
      "2024-09-16 00:28:02,654 - INFO - Text extracted from /home/rguktrkvalley/Desktop/downloaded_images/61BZ4zrjZXL.jpg: Serving Size: 1 Tablet (0.709 g) | Each serving contains (Approx. Values):\n",
      "\n",
      " \n",
      "\n",
      "Ingredient Oty. / Serving\n",
      "\n",
      "*PHOSPHOcomplex® Silybin (Sillybum marianum) 200 mg\n",
      "Dandelion (Taraxacum officinale) leaf extract - 10:1 100 mg\n",
      "Kutki (Picrorhiza kurroa)rhizome extract - 0.5% Bitters 50 mg\n",
      "Kasani (Cichorium intybus) seed extract - 1% Bitters 25 mg\n",
      "Punarnava (Boerhavia diffusa) root extract - 0.07% alkaloids 25 mg\n",
      "Bhui amla (Phyllanthus amarus) WP extract - 0.5%, Bitters 25 mg\n",
      "Amla (Phyllanthus emblica) fruit extract - 10% Tannins 25 mg\n",
      "Licorice (Glycyrrhiza glabra) root extract - 5% Glycyrrhizin 25 mg\n",
      "Vitamin E 10 mg\n",
      "Piper nigrum fruit extract — 95% Piperine Smg\n",
      "\n",
      " \n",
      "\n",
      "Nutrients Qty. / Serving\n",
      "Energy 3.04 kcal\n",
      "Carbohydrate 051g\n",
      "(Sugars) 02g\n",
      "Protein 0.04 g\n",
      "Fat 0.09 g\n",
      "\n",
      " \n",
      "\n",
      " \n",
      "\n",
      " \n",
      "\n",
      " \n",
      "\n",
      " \n",
      "\n",
      " \n",
      "\n",
      "\"ZRDA values established as per ICMR 2010 for sedentary lifestyle-Men.\n",
      "**7 RDA not established by ICMR\n",
      "\n",
      " \n",
      "\f",
      "\n",
      "Premature end of JPEG file\n",
      "Premature end of JPEG file\n",
      "2024-09-16 00:28:03,475 - INFO - Text extracted from /home/rguktrkvalley/Desktop/downloaded_images/61x6RSjwQIL.jpg: UNIQUE DESIGN\n",
      "\n",
      " \n",
      "\f",
      "\n",
      "2024-09-16 00:28:05,455 - INFO - Text extracted from /home/rguktrkvalley/Desktop/downloaded_images/71Lpqdrpi4L.jpg: All day snack\n",
      "for boosting energy\n",
      "\n",
      "All Natural\n",
      "Ingredients\n",
      "\n",
      "    \n",
      "     \n",
      " \n",
      "  \n",
      "\n",
      "le)\n",
      "\n",
      " \n",
      "\n",
      "Improves Quick source\n",
      "Digestion a of Energy\n",
      "\n",
      "Ps , MILLET SHORTBREAD Rich Pr fibre\n",
      "Delicious in In THI\n",
      "\n",
      "taste and vitamins\n",
      "\n",
      "Contains superfood in\n",
      "\n",
      "combination with Millets\n",
      "and Multigrains\n",
      "\f",
      "\n",
      "2024-09-16 00:28:06,371 - INFO - Text extracted from /home/rguktrkvalley/Desktop/downloaded_images/61kyBEJYDeL.jpg: “ iF\n",
      "ical Performance*\n",
      "\n",
      " \n",
      "\f",
      "\n",
      "2024-09-16 00:28:09,943 - INFO - Text extracted from /home/rguktrkvalley/Desktop/downloaded_images/811VfR10yxL.jpg: Specification: :\n",
      "\n",
      "Product name: Solar Sensor Wall Lights\n",
      "\n",
      "(Nein emer) : :\n",
      "\n",
      "Solar panel: 5.5V, 0.55W\n",
      "\n",
      "LED: 144 LED\n",
      "\n",
      "Sensor angle: 120 degrees\n",
      "\n",
      "Sensor distance: 3-7m :\n",
      "\n",
      "Protection level: IP65 waterproof\n",
      "\n",
      "Ideal mounting height: 1.8-2.5m\n",
      "\n",
      "Working temperature: -40°C~+85 °C\n",
      "\n",
      "Switch: Mode 1 > Mode 2 > Mode 3 off :\n",
      "Product Size: 12.4x9.6x4.8cm ey ese tse)\n",
      "Charging time: 8 hours in the sunlight\n",
      "\n",
      "Function Switch:\n",
      "\n",
      "4. The first work mode: continuously bright light\n",
      "\n",
      "2. The 2nd work mode: the lights will illuminate with a\n",
      "constant light in dark places, when people go through\n",
      "the sensor area, strong lighting 20 seconds. And the light\n",
      "will turn to dim after people leave the induction area.\n",
      "\n",
      "3. The 3rd work mode: When people go through the sensor\n",
      "area, the light will be strong. And the light willturn off after\n",
      "people leave the induction area. :\n",
      "\n",
      "a=\n",
      "\n",
      "Made in China\n",
      "\n",
      " \n",
      "\f",
      "\n",
      "2024-09-16 00:28:13,088 - INFO - Text extracted from /home/rguktrkvalley/Desktop/downloaded_images/91prZeizZnL.jpg: v\n",
      "\n",
      "5 Ae A\n",
      "vv.\n",
      "\n",
      "OO\n",
      "O\n",
      "\n",
      " \n",
      "\n",
      " \n",
      "\n",
      ": 4\n",
      "\n",
      " \n",
      "  \n",
      "\n",
      "AINSTAN Tz GP ZENERGY\n",
      "\n",
      "A\n",
      "&\n",
      "5\n",
      "s\n",
      "S\n",
      "%)\n",
      ".\n",
      "YN\n",
      "\\\n",
      "al\n",
      "\n",
      " \n",
      "\f",
      "\n",
      "Premature end of JPEG file\n",
      "Premature end of JPEG file\n",
      "2024-09-16 00:28:14,170 - INFO - Text extracted from /home/rguktrkvalley/Desktop/downloaded_images/71004c9tzfL.jpg: a\n",
      "CHARGING PORTS\n",
      "\n",
      " \n",
      "\f",
      "\n",
      "2024-09-16 00:28:15,773 - INFO - Text extracted from /home/rguktrkvalley/Desktop/downloaded_images/61-oj+N+BxL.jpg: Dendrobium &Mull\n",
      "ein\n",
      "Extract Herbal Drop\n",
      "Powerful Lung Support +\n",
      "\n",
      "Cleanse +\n",
      "Respiratory +\n",
      "\n",
      "tobium &Mullein\n",
      "ict Herbal Drop\n",
      "\n",
      "srful Lung Support\n",
      "Pr Auth foc iratory\n",
      "Pe each ae es\n",
      "\n",
      "Prrcutoy\n",
      "\n",
      "ey Cleans & © Maximum\n",
      "\n",
      "eee\n",
      "\n",
      " \n",
      "\n",
      "VEGAN - GMO FREE - ISO\n",
      "\n",
      " \n",
      "\f",
      "\n",
      "2024-09-16 00:28:17,094 - INFO - Text extracted from /home/rguktrkvalley/Desktop/downloaded_images/71e6kJLE+LL.jpg:  \n",
      "\f",
      "\n",
      "Premature end of JPEG file\n",
      "Premature end of JPEG file\n",
      "2024-09-16 00:28:17,930 - INFO - Text extracted from /home/rguktrkvalley/Desktop/downloaded_images/61eOO5IW4NL.jpg: HOW TO USE\n",
      "\n",
      "     \n",
      "  \n",
      "\n",
      "1 TEST 2 PREP\n",
      "Take a easy skin allergy test Skin care and moisturizing before use\n",
      "\n",
      "  \n",
      "\n",
      "3 CUT 4 STICK\n",
      "Cut to the size as reauired Cover the areas that need\n",
      "\f",
      "\n",
      "2024-09-16 00:28:22,215 - INFO - Text extracted from /home/rguktrkvalley/Desktop/downloaded_images/81hnk2WXO3L.jpg: hot Sy\n",
      "\n",
      " \n",
      "\n",
      "Made with Belgian Chocolate\n",
      "includes Mini Marshmallows\n",
      "\n",
      "@ Cy Oo\n",
      "\n",
      "Wile . a Double Salted\n",
      "Chocolate SLOTS IA Chocolate Caramel\n",
      "\n",
      " \n",
      "\n",
      "ORIGINAL INGREDIENTS: SUGAR, COCOA BUTTER, WHOLE MILK POWDER,\n",
      "MARSHMALLOWS GLUCOSE SYRUP, GELATIN, SORBITOL, MODIFIED\n",
      "CORN STARCH, DEXTROSE, ARTFICIAL FLAVOR, TETRASODIUM\n",
      "PYROPHOSPHATE), COCOA MASS, EMULSIFIERS (SOY LECITHIN, PGPR),\n",
      "\n",
      "V7 TOW ay 01m\n",
      "\n",
      "TAC LMM SSlOer LO HO MLO MSS A (Ole TLE\n",
      "POWDER, MARSHMALLOWS (SUGAR, GLUCOSE SYRUP, GELATIN, SORBITOL,\n",
      "MODIFIED CORN STARCH, DEXTROSE, ARTFICIAL FLAVOR, TETRASODIUM\n",
      "adie ). COCOA MASS, EMULSIFIERS (SOY LECITHIN, PGPR),\n",
      "VANILLA.EXTRACT, SALT, CARAMEL FLAVOR\n",
      "\n",
      "CONTAINS: MILK, SOY.\n",
      "\n",
      "ede TL SMe Cee LOAM Oke Waza\n",
      "VANILLA EXTRACT, PEPPERMINT FLAVOR, lois\n",
      "CONTAINS: MILK, SOY.\n",
      "\n",
      "DOUBLE CHOCOLATE INGREDIENTS: SUGAR, COCOA BUTTER, COCOA MASS,\n",
      "\n",
      "CONTAINS: MILK, SOY.\n",
      "\n",
      "DISTRIBUTED BY FRANKFORD CANDY LLC\n",
      "FELL Tal PA 19114\n",
      "COMMENT Ua esRe\n",
      "\n",
      "MUOMMaDH NO DCer cM MesTINEY\n",
      "MARSHMALLOWS MADE IN CHINA\n",
      "www.frankfordcandy.com\n",
      "\n",
      "aCe)\n",
      "\n",
      " \n",
      "\f",
      "\n",
      "Premature end of JPEG file\n",
      "Premature end of JPEG file\n",
      "2024-09-16 00:28:23,382 - INFO - Text extracted from /home/rguktrkvalley/Desktop/downloaded_images/71gSRbyXmoL.jpg:   \n",
      "  \n",
      "   \n",
      " \n",
      "\n",
      "LEBENSMITTELECHT\n",
      "\n",
      " \n",
      "\n",
      "GEPRAGTES\n",
      "\n",
      "Designed in\n",
      "\n",
      "Wat Aaa ee a se) (eb\n",
      "\f",
      "\n",
      "Premature end of JPEG file\n",
      "Premature end of JPEG file\n",
      "2024-09-16 00:28:25,859 - INFO - Text extracted from /home/rguktrkvalley/Desktop/downloaded_images/71sWRp1SNwL.jpg:    \n",
      "\n",
      "KG\n",
      "\n",
      " \n",
      "\n",
      "Contains Added Flavour - Chocolate (Natural and Nature Identical\n",
      "ITRITION FACTS Flavouring Substances)\n",
      "\n",
      " \n",
      "\n",
      " \n",
      "\n",
      " \n",
      "\n",
      " \n",
      "\n",
      " \n",
      "\n",
      " \n",
      "\n",
      " \n",
      "\n",
      " \n",
      "\n",
      " \n",
      "\n",
      " \n",
      "\n",
      " \n",
      "\n",
      " \n",
      "\n",
      " \n",
      "\n",
      " \n",
      "\n",
      " \n",
      "\n",
      " \n",
      "\n",
      " \n",
      "\n",
      " \n",
      "\n",
      " \n",
      "\n",
      " \n",
      "\n",
      " \n",
      "\n",
      " \n",
      "\n",
      " \n",
      "\n",
      " \n",
      "\n",
      " \n",
      "\n",
      " \n",
      "\n",
      " \n",
      "\n",
      " \n",
      "\n",
      " \n",
      "\n",
      " \n",
      "\n",
      " \n",
      "\n",
      " \n",
      "\n",
      " \n",
      "\n",
      " \n",
      "\n",
      " \n",
      "\n",
      " \n",
      "\n",
      "AMINO ACID PROFILE\n",
      "esr S BCAA (Branched Chain Amino Acids) (q/100g protein)\n",
      "Serving Size 1 Scoop (50g) Srerator g/100g pI\n",
      "Per 100g\n",
      "Quantity Per % Daily Leucine 2509\n",
      "Seiving Values* iso Leucine 1259\n",
      "i 1\n",
      "Energy 253 kcal wal 259\n",
      "Essential Amino Acids\n",
      "Total Fat 1g 3.00% Lysine 2009\n",
      "eS Fea Methionine 080g\n",
      "Phenylalanine 1.009\n",
      "Trans Fat Og Tryptophan 040g\n",
      "Seen anne a Threonine f709\n",
      "Other Amino Acids (g/100g protein)\n",
      "Sodium 50ma 7% ‘Alanine {400\n",
      "Total Carbohydrates 50g Glutamic Acid. 3.00.9\n",
      "Glycine 0.809\n",
      "Sugars (As Sucrose) Sg Histidine 0.609\n",
      "Protein 129 50% [PON tg\n",
      "aa Cystoing 0.40 Q\n",
      "BCAA Blend 58g Tryewine 120\n",
      "Arginine ta\n",
      "\"Percent Daly Values (UV) are tesed on 2 2000 coterie diel Your Dally Values may Senne 130 g.\n",
      "be higher or lower depending on your calone needs Raparic Acid 2509\n",
      "\n",
      " \n",
      "\n",
      " \n",
      "\n",
      "whey protein blend (Whey Frolein Cocentrate, Whey Protein Isolate), Skimed Milk Powder,\n",
      "Maliodex Alkalived Coeop Powder, Stabilizer (INS415, INS417), Sunflower\n",
      "22), Sucraloae (INSOSS), Glutamine, Creaine Mononydrate\n",
      "\n",
      "  \n",
      "  \n",
      "\n",
      "lacithin(ins\n",
      "\n",
      "MUSCLE ™\n",
      "\n",
      "MASS GRINER\n",
      "\n",
      " \n",
      "\f",
      "\n",
      "2024-09-16 00:28:25,861 - WARNING - Error processing image /home/rguktrkvalley/Desktop/downloaded_images/71D824lbRvL.jpg: Image at /home/rguktrkvalley/Desktop/downloaded_images/71D824lbRvL.jpg could not be loaded.\n",
      "2024-09-16 00:28:25,862 - WARNING - Image preprocessing failed for /home/rguktrkvalley/Desktop/downloaded_images/71D824lbRvL.jpg\n",
      "Premature end of JPEG file\n",
      "Premature end of JPEG file\n",
      "2024-09-16 00:28:26,816 - INFO - Text extracted from /home/rguktrkvalley/Desktop/downloaded_images/61sx0ezNNLL.jpg:    \n",
      "   \n",
      "\n",
      "  \n",
      " \n",
      "\n",
      "‘MUSCLE\n",
      "MASS GRAINER\n",
      "\n",
      "PURE INGREDIENTS\n",
      "CHOCOLATE\n",
      "MILKSHAKE\n",
      "\n",
      "fi’, ZERO A\n",
      "\n",
      "  \n",
      "\f",
      "\n",
      "Premature end of JPEG file\n",
      "Premature end of JPEG file\n",
      "2024-09-16 00:28:28,271 - INFO - Text extracted from /home/rguktrkvalley/Desktop/downloaded_images/915JHkwtcrL.jpg:  \n",
      "\f",
      "\n",
      "Premature end of JPEG file\n",
      "Premature end of JPEG file\n",
      "2024-09-16 00:28:29,860 - INFO - Text extracted from /home/rguktrkvalley/Desktop/downloaded_images/71rKXZJrh4L.jpg: 50 ml i\n",
      "Carvomin tee\n",
      "\n",
      "Verdauungstropfen\n",
      "\n",
      "18,55 g/20 ml\n",
      "Flussigkeit zum Einnehmen\n",
      "\n",
      "Wirkstoff:\n",
      "\n",
      "NU Y AUTO bat ately Ital aT Tay =\n",
      "elamalal sili eli e4-11 ah\n",
      "Benediktenkraut und\n",
      "\n",
      "Pfefferminzblattern\n",
      "\n",
      "Ue tT\n",
      "\n",
      "UP\n",
      "\n",
      " \n",
      "\f",
      "\n",
      "2024-09-16 00:28:31,442 - INFO - Text extracted from /home/rguktrkvalley/Desktop/downloaded_images/71SuzaRS7gL.jpg: gaz\n",
      "\n",
      "   \n",
      " \n",
      "\n",
      "Dendrobium &Mullein\n",
      "Extract Herbal Drop 77\n",
      "\n",
      "Powerful Luna Supp ort\n",
      "Cleanae «\n",
      "\n",
      "  \n",
      "  \n",
      "\n",
      "HERBAL DROPS OF DENDROBIUM\n",
      "AND PISTILUS EXTRACTS\n",
      "\n",
      "The herbal drops are absorbed under the\n",
      "tongue. The ingredients act on the lungs\n",
      "\n",
      "and respiratory system through the blood,\n",
      "stimulate and dilute the mucus in the trachea\n",
      "and lungs, help expel sputum and lung residues\n",
      "within 2 hours, and dredge the airway.\n",
      "\f",
      "\n",
      "Premature end of JPEG file\n",
      "Premature end of JPEG file\n",
      "2024-09-16 00:28:32,667 - INFO - Text extracted from /home/rguktrkvalley/Desktop/downloaded_images/71ZtDgGX+iL.jpg: Q\n",
      "i\n",
      "‘\n",
      "‘\n",
      ":\n",
      "\n",
      "INFORMATION\n",
      "©\n",
      "\n",
      "&) Chain Length: 48+5 cm\n",
      "&) Material: Titanium Steel\n",
      "Size: 20X13 mm\n",
      "\n",
      "Weight: 8.1 g (About)\n",
      "\n",
      "Tips: The size of the product is measured manually\n",
      "and may be subject to marginal error.\n",
      "\n",
      "Custom\n",
      "\n",
      " \n",
      "\n",
      "13mm\n",
      "\n",
      " \n",
      "\f",
      "\n",
      "2024-09-16 00:28:33,184 - INFO - Text extracted from /home/rguktrkvalley/Desktop/downloaded_images/51b9JEHOriL.jpg:  \n",
      "\n",
      "Weight: 6.5g\n",
      "Length: 19cm+5cm\n",
      "\f",
      "\n",
      "Premature end of JPEG file\n",
      "Premature end of JPEG file\n",
      "2024-09-16 00:28:36,029 - INFO - Text extracted from /home/rguktrkvalley/Desktop/downloaded_images/81fOxWWWKYL.jpg:  \n",
      "\n",
      ", |\n",
      "7. USDA\n",
      ". (| sup RFOODI\n",
      "i He f fe\n",
      "{ WN € SH)\n",
      "Ce aa\n",
      "\n",
      "x A, y\n",
      "\n",
      " \n",
      "\n",
      "‘4\n",
      "C BR ICHSg\n",
      "\n",
      "\\ ee wZ p R O MOT : ‘ -_\n",
      "} ae\n",
      "\n",
      "HIGH IN ANTIOXIDANTS\n",
      "+COMBATS DISEASES\n",
      "\f",
      "\n",
      "2024-09-16 00:28:36,880 - INFO - Text extracted from /home/rguktrkvalley/Desktop/downloaded_images/61AHQ35poHL.jpg: OHAN BU ie\n",
      "\n",
      "How to Make\n",
      "1 tablet oy [[x\n",
      "\n",
      "Water\n",
      "\n",
      "(100z)\n",
      "\n",
      " \n",
      "\f",
      "\n",
      "2024-09-16 00:28:38,277 - INFO - Text extracted from /home/rguktrkvalley/Desktop/downloaded_images/71jG8BOi4WL.jpg: 16G Thick High Grade 304 Stainless Steel\n",
      "\n",
      "|\n",
      "\n",
      "a\n",
      "a\n",
      "NN\n",
      "yy\n",
      "u\n",
      "\n",
      "I\n",
      "\n",
      "U\n",
      "\n",
      " \n",
      "\n",
      "— Water Repellent — — Stain Resistant & Anti-bacterial Protection —\n",
      "\f",
      "\n",
      "2024-09-16 00:28:40,510 - INFO - Text extracted from /home/rguktrkvalley/Desktop/downloaded_images/81lgxfKqUUL.jpg: ”,\n",
      "“f ® ELEGANT JACQUARD WINDOW CURTAIN\n",
      "WITH ATTACHED VALANCE\n",
      "\n",
      "Description: Color:\n",
      "\n",
      "160GSM JAQUARD+FANCY VALANCE\n",
      "Fabric Content: 100% Polyester.\n",
      "Size: 54\" x 84\" + 18\"\n",
      "VENICE COLLECTIONS, INC.\n",
      "\n",
      "RN #131381\n",
      "\n",
      "MADE IN CHINA\n",
      "\n",
      " \n",
      "\n",
      "Beige Brick\n",
      "\n",
      " \n",
      "\n",
      " \n",
      "\n",
      " \n",
      "\n",
      " \n",
      "\n",
      "BURGUNDY LIGHT BROWN\n",
      "\n",
      " \n",
      "\n",
      " \n",
      "\n",
      " \n",
      "\n",
      " \n",
      "\n",
      "Light taupe\n",
      "\n",
      " \n",
      "\n",
      " \n",
      "\n",
      " \n",
      "\n",
      " \n",
      "\n",
      "TMM\n",
      "\n",
      " \n",
      "\n",
      " \n",
      "\n",
      " \n",
      "\f",
      "\n",
      "2024-09-16 00:28:42,099 - INFO - Text extracted from /home/rguktrkvalley/Desktop/downloaded_images/71jLIbCcwOL.jpg: \f",
      "\n",
      "Premature end of JPEG file\n",
      "Premature end of JPEG file\n",
      "2024-09-16 00:28:42,711 - INFO - Text extracted from /home/rguktrkvalley/Desktop/downloaded_images/715vVcWJxGL.jpg: \f",
      "\n",
      "2024-09-16 00:28:44,327 - INFO - Text extracted from /home/rguktrkvalley/Desktop/downloaded_images/613v+2W4UwL.jpg: $S1qQ FEQPUSMASnhy AWS\n",
      "\n",
      "LO NASD\n",
      "Yt OS\n",
      "\n",
      "50 ml\n",
      "\n",
      "Carvomin\n",
      "\n",
      "Verdauungstropfen\n",
      "\n",
      "18,55 g/20 ml\n",
      "Flussigkeit zum Einnehmen\n",
      "\n",
      "Wirkstoff:\n",
      "\n",
      "Auszug aus einer Mischung\n",
      "von Angelikawurzeln,\n",
      "Benediktenkraut und\n",
      "Pfefferminzblattern\n",
      "\n",
      "Mra\n",
      "\n",
      "PHARMA\n",
      "\n",
      " \n",
      "\f",
      "\n",
      "Premature end of JPEG file\n",
      "Premature end of JPEG file\n",
      "2024-09-16 00:28:45,479 - INFO - Text extracted from /home/rguktrkvalley/Desktop/downloaded_images/71YyZ2iPyZL.jpg:  \n",
      "\f",
      "\n",
      "2024-09-16 00:28:46,708 - INFO - Text extracted from /home/rguktrkvalley/Desktop/downloaded_images/613G8GOyLSL.jpg:  \n",
      "\n",
      "220mm/8.66in\n",
      "\n",
      "BSSHSSSRBRES\n",
      "BSaSSBRBSaSSHBES\n",
      "BaDaDaSRABSS\n",
      "\n",
      "JAIDIIAIASAIS\n",
      "\n",
      " \n",
      "\n",
      "<----->\n",
      "32mm/1.25in\n",
      "\n",
      "€-------------------------------->\n",
      "\n",
      "305mm/12.00in\n",
      "\n",
      " \n",
      "\n",
      " \n",
      "\n",
      " \n",
      "\n",
      "Ceiling\n",
      "\n",
      "Wall\n",
      "\n",
      "Ground\n",
      "\f",
      "\n",
      "2024-09-16 00:28:48,337 - INFO - Text extracted from /home/rguktrkvalley/Desktop/downloaded_images/71XK5d3Oh9L.jpg:  \n",
      "\f",
      "\n",
      "Premature end of JPEG file\n",
      "Premature end of JPEG file\n",
      "2024-09-16 00:28:50,890 - INFO - Text extracted from /home/rguktrkvalley/Desktop/downloaded_images/91cErO-KbLL.jpg: JACQUARD\n",
      "» KNITTED MATERIAL\n",
      "\n",
      "Super soft and comfortable creating a\n",
      "custom upholstered look\n",
      "\n",
      "   \n",
      "    \n",
      "\n",
      "200GSM\n",
      "Microfiber\n",
      "\n",
      "  \n",
      "\n",
      "ad a vz\n",
      "ne ae\n",
      "\n",
      " \n",
      "\f",
      "\n",
      "2024-09-16 00:28:52,423 - INFO - Text extracted from /home/rguktrkvalley/Desktop/downloaded_images/71WLYfmMqQL.jpg:  \n",
      "\n",
      " \n",
      "\n",
      " \n",
      "\n",
      " \n",
      "\n",
      "250 tablets\n",
      "comprimés nipngoo06o®\n",
      "\n",
      " \n",
      "\f",
      "\n",
      "2024-09-16 00:28:56,632 - INFO - Text extracted from /home/rguktrkvalley/Desktop/downloaded_images/81xsq6vf2qL.jpg: Directions: For adults, take two (2) vegan capsules\n",
      "daily, preferably with a meal. Do not exceed stated dose.\n",
      "\n",
      "Nutrition Information\n",
      "\n",
      "Typically Per Daily Dose\n",
      "\n",
      "HIGH ST aman eats OOO\n",
      "Psyllium Husk Powder 1400mg\n",
      "\n",
      "4 SRY,\n",
      "\n",
      "Ingredients: Psyllium Husk Powder, Capsule Shell (Hy-\n",
      "droxypropylmethylcellulose), Anti-Caking Agents (Mag-\n",
      "nesium Salts of Fatty Acids, Silicon Dioxide).\n",
      "\n",
      "May contain Sesame Seeds & Mustard. For allergens,\n",
      "see the ingredients in bold.\n",
      "\n",
      "HUSK\n",
      "a\"\n",
      "\n",
      "Notice: Take this product with 220ml of fluids. Taking\n",
      "this product without adequate fluid may cause the pos-\n",
      "sibility of choking. Do not use this product if you have\n",
      "difficulty swallowing. If you experience chest pain, vom-\n",
      "iting or difficulty in swallowing or breathing after taking\n",
      "this product, seek immediate medical attention. Do not\n",
      "take before sleeping. Fibre products can affect the ab-\n",
      "sorption of many medications. Do not take this product\n",
      "within 1.5 hours of taking medication.\n",
      "\n",
      "Free From: Artificial Colour, Artificial Flavour, Artificial\n",
      "\n",
      "Sweetener, Preservatives.\n",
      "\n",
      "3 6 VEGAN\n",
      "CAPSULES SUITABLE FOR VEGETARIANS & VEGANS\n",
      "\n",
      "HU16790 C\n",
      "\n",
      " \n",
      "\n",
      "Horbaach\n",
      "\f",
      "\n",
      "Premature end of JPEG file\n",
      "Premature end of JPEG file\n",
      "2024-09-16 00:28:59,666 - INFO - Text extracted from /home/rguktrkvalley/Desktop/downloaded_images/91-iahVGEDL.jpg: X Loose packaging\n",
      "X Impurities added\n",
      "\n",
      ". Other x Does not brew easily. -\n",
      "brands ™ ’ , ,\n",
      "X Added preservatives\n",
      "XK Processed chemically\n",
      "iP\n",
      "\n",
      "    \n",
      " \n",
      "\n",
      "Air-tight packaging & \\|\\F\n",
      "\n",
      "Impurities free v>\n",
      "\n",
      "Brews easily /\n",
      "\n",
      "No added preservativeY |\n",
      "Directly from farm &\n",
      "\n",
      "  \n",
      "\f",
      "\n",
      "2024-09-16 00:29:02,881 - INFO - Text extracted from /home/rguktrkvalley/Desktop/downloaded_images/71aKgRRQ2wL.jpg: an wearers SSS\n",
      "Wee SS SSS ES SS TEE\n",
      "SASS SS\n",
      "\n",
      "se OS\n",
      "\n",
      "Cy wy 50 ml\n",
      "\n",
      "    \n",
      "  \n",
      "\n",
      " \n",
      "\n",
      " \n",
      "\n",
      " \n",
      "\n",
      " \n",
      "\n",
      " \n",
      "\n",
      " \n",
      "\n",
      "   \n",
      " \n",
      "  \n",
      " \n",
      "       \n",
      "     \n",
      "  \n",
      "     \n",
      " \n",
      "  \n",
      "\n",
      " \n",
      "\n",
      " \n",
      "\n",
      " \n",
      "\n",
      " \n",
      "\n",
      " \n",
      "\n",
      " \n",
      "\n",
      " \n",
      "\n",
      " \n",
      "\n",
      " \n",
      "\n",
      " \n",
      "\n",
      " \n",
      "\n",
      " \n",
      "\n",
      " \n",
      "\n",
      " \n",
      "\n",
      " \n",
      "\n",
      " \n",
      "\n",
      " \n",
      "\n",
      " \n",
      "\n",
      " \n",
      "\n",
      " \n",
      "\n",
      " \n",
      "\n",
      " \n",
      "\n",
      " \n",
      "\n",
      " \n",
      "\n",
      " \n",
      "\n",
      " \n",
      "\n",
      " \n",
      "\n",
      " \n",
      "\n",
      " \n",
      "\n",
      " \n",
      "\n",
      " \n",
      "\n",
      " \n",
      "\n",
      " \n",
      "\n",
      " \n",
      "\n",
      " \n",
      "\n",
      " \n",
      "\n",
      " \n",
      "\n",
      " \n",
      "\n",
      " \n",
      "\n",
      " \n",
      "\n",
      " \n",
      "\n",
      " \n",
      "\n",
      " \n",
      "\n",
      " \n",
      "\n",
      " \n",
      "\n",
      " \n",
      "\n",
      " \n",
      "\n",
      " \n",
      "\n",
      " \n",
      "\n",
      " \n",
      "\n",
      " \n",
      "\n",
      " \n",
      "\n",
      " \n",
      "\n",
      " \n",
      "\n",
      " \n",
      "\n",
      " \n",
      "\n",
      " \n",
      "\n",
      " \n",
      "\n",
      " \n",
      "\n",
      " \n",
      "\n",
      " \n",
      "\n",
      " \n",
      "\n",
      " \n",
      "\n",
      " \n",
      "\n",
      " \n",
      "\n",
      " \n",
      "\n",
      " \n",
      "\n",
      " \n",
      "\n",
      " \n",
      "\n",
      " \n",
      "\n",
      " \n",
      "\n",
      " \n",
      "\n",
      "  \n",
      "    \n",
      " \n",
      "    \n",
      "\n",
      "‘ty My s ®\n",
      "%. =Carvomin\n",
      "yy\n",
      "‘ce Verdauungstropfen\n",
      "‘Kies, 8\n",
      "tig: My 18,55 g/20 ml |\n",
      "ws ty Fluissigkeit zum Einnehmen\n",
      "Ln,\n",
      "ute ly\n",
      "by My,\n",
      "tity,\n",
      "k ait iy,\n",
      "eG :\n",
      "Nah:\n",
      ". « By\n",
      "Oy h\n",
      "ty f \\ i ‘ i\n",
      "Oh,\n",
      "e : S x\n",
      "Ma 50 ml Wirkstoff: As\n",
      "iy 4 ‘ e : ) i » « Benediktenks:\n",
      "Nag ity Ce AarVOMIN Prinze:\n",
      "ls ye Verdauungstropfen eee\n",
      "wean j Mi hung vt i\n",
      "a gy Wien 18,55 g/20 ml ischu ee\n",
      "‘i hn Nie aNy eee Se peecectt zum er aN\n",
      "i) 4 WW AeUILCl eles innehmen mittel fir kin®\n",
      "| 4 Benediktenkraut und lagern. Das\n",
      "‘ erence 1a ausschl\n",
      "hi\n",
      "i ut L3N li E ; é eine 22!\n",
      "tieren. Reg\n",
      "\n",
      "PHARMA Zur Anwendung\n",
      "\n",
      "bei Erwachsenen ([dUsaalelie\n",
      "\f",
      "\n",
      "2024-09-16 00:29:03,883 - INFO - Text extracted from /home/rguktrkvalley/Desktop/downloaded_images/61Fwq4GeTmL.jpg: 60W\n",
      "\n",
      "6.600lm\n",
      "\n",
      "bianco naturale\n",
      "\n",
      "IP65\n",
      "\n",
      " \n",
      "\f",
      "\n",
      "Premature end of JPEG file\n",
      "Premature end of JPEG file\n",
      "2024-09-16 00:29:04,901 - INFO - Text extracted from /home/rguktrkvalley/Desktop/downloaded_images/613BeFNwHcL.jpg:  \n",
      "\f",
      "\n",
      "2024-09-16 00:29:05,915 - INFO - Text extracted from /home/rguktrkvalley/Desktop/downloaded_images/61WFh8RCQYL.jpg: High Quality Polyester Fabric\n",
      "Breathable & Easy to Clean\n",
      "Weight: 0.8KG\n",
      "\n",
      "ph | 45CM\n",
      "\n",
      " \n",
      "\n",
      " \n",
      "\n",
      " \n",
      "\n",
      "26CM 28CM\n",
      "\f",
      "\n",
      "Premature end of JPEG file\n",
      "Premature end of JPEG file\n",
      "2024-09-16 00:29:11,347 - INFO - Text extracted from /home/rguktrkvalley/Desktop/downloaded_images/817vo3DcCNL.jpg: 7,\n",
      "\n",
      "KOMFORT-PAKET. 43\n",
      "eM\" NN Se ,\n",
      "\n",
      " \n",
      "\n",
      "    \n",
      "   \n",
      "\n",
      " \n",
      "  \n",
      "\n",
      "Cn\n",
      "\n",
      "  \n",
      "\n",
      "=\n",
      "sn 7\n",
      "\n",
      "DASHERZSTUCK: ““&\n",
      "\n",
      "STARKER UND EFFIZIENTER MOTOR FUR ANGENEHMEN FAHRKOMFORT\n",
      "\n",
      "KRAFTVOLLE UND EFFIZIENTE EXTREM LEISER UND UNGLAUBLICHES DREHMOMENT\n",
      "UNTERSTUTZUNG BIS LEISTUNGSSTARKER MOTOR MIT VON\n",
      "\n",
      "25 KM/H 250 W 45 NM\n",
      "\f",
      "\n",
      "2024-09-16 00:29:13,310 - INFO - Text extracted from /home/rguktrkvalley/Desktop/downloaded_images/71ldprwbKrL.jpg: PREMIUM QUALITY\n",
      "\n",
      " \n",
      "\n",
      "INGRIDIENTS\n",
      "___. HIGH QUALITY\n",
      "\n",
      "fl | PROTEIN BLEND\n",
      "CREATINE\n",
      "MONOHYDRATE\n",
      "\n",
      "ne» BCAA &\n",
      "\n",
      "sos ENE GLUTAMINE\n",
      "ID0% x $ \\\n",
      "a ! VRID ee\n",
      "\n",
      " \n",
      "\f",
      "\n",
      "Premature end of JPEG file\n",
      "Premature end of JPEG file\n",
      "2024-09-16 00:29:14,603 - INFO - Text extracted from /home/rguktrkvalley/Desktop/downloaded_images/718EdwGgyVL.jpg:  \n",
      "     \n",
      " \n",
      "\n",
      "Available in\n",
      "O OTHER DIFFERE\n",
      "FLAVOURS\n",
      "\f",
      "\n",
      "2024-09-16 00:29:14,606 - WARNING - Error processing image /home/rguktrkvalley/Desktop/downloaded_images/51bQPPtMqYL.jpg: Image at /home/rguktrkvalley/Desktop/downloaded_images/51bQPPtMqYL.jpg could not be loaded.\n",
      "2024-09-16 00:29:14,613 - WARNING - Image preprocessing failed for /home/rguktrkvalley/Desktop/downloaded_images/51bQPPtMqYL.jpg\n",
      "2024-09-16 00:29:16,536 - INFO - Text extracted from /home/rguktrkvalley/Desktop/downloaded_images/71duwM3SjpL.jpg: Supports :\n",
      "\n",
      "Y Stress & Anxiety Buster*\n",
      "Y Improve Sleep Quality*\n",
      "Y Strength & Stamina*\n",
      "\n",
      "vn\n",
      "\n",
      "KSM-66\"\n",
      "Ashwagandha\n",
      "\n",
      "5% withanolides\n",
      "\n",
      "x “N\n",
      "~S\n",
      "~<a\n",
      "\n",
      "ee\n",
      "\n",
      "s rN Se omnes\n",
      "600 mg « 60 ($4 Vcaps® Plus\n",
      "\n",
      " \n",
      "\f",
      "\n",
      "Premature end of JPEG file\n",
      "Premature end of JPEG file\n",
      "2024-09-16 00:29:17,084 - INFO - Text extracted from /home/rguktrkvalley/Desktop/downloaded_images/716AQpAJjZL.jpg: \f",
      "\n",
      "2024-09-16 00:29:18,271 - INFO - Text extracted from /home/rguktrkvalley/Desktop/downloaded_images/61Dq3LRei9L.jpg:  \n",
      "\f",
      "\n",
      "2024-09-16 00:29:18,679 - INFO - Text extracted from /home/rguktrkvalley/Desktop/downloaded_images/413FQB0ZMLL.jpg:  \n",
      "\f",
      "\n",
      "Premature end of JPEG file\n",
      "Premature end of JPEG file\n",
      "2024-09-16 00:29:19,591 - INFO - Text extracted from /home/rguktrkvalley/Desktop/downloaded_images/61QsBSE7jgL.jpg:  \n",
      "\f",
      "\n",
      "2024-09-16 00:29:19,593 - WARNING - Error processing image /home/rguktrkvalley/Desktop/downloaded_images/71E7CU55dcL.jpg: Image at /home/rguktrkvalley/Desktop/downloaded_images/71E7CU55dcL.jpg could not be loaded.\n",
      "2024-09-16 00:29:19,594 - WARNING - Image preprocessing failed for /home/rguktrkvalley/Desktop/downloaded_images/71E7CU55dcL.jpg\n",
      "Premature end of JPEG file\n",
      "Premature end of JPEG file\n",
      "2024-09-16 00:29:21,188 - INFO - Text extracted from /home/rguktrkvalley/Desktop/downloaded_images/81e2YtCOKvL.jpg: SoS aa en a\n",
      "\n",
      "vvvvVvT\n",
      "COLL AAS bbb A\n",
      "vv VV VVVVVYy!\n",
      "CAAA AD AA?\n",
      "\n",
      "SAAAA/\n",
      "vvTVy\n",
      "\n",
      " \n",
      "\f",
      "\n",
      "2024-09-16 00:29:21,547 - INFO - Text extracted from /home/rguktrkvalley/Desktop/downloaded_images/41EjbFu-+yL.jpg:  \n",
      "\f",
      "\n",
      "2024-09-16 00:29:23,231 - INFO - Text extracted from /home/rguktrkvalley/Desktop/downloaded_images/71uQmsTESvL.jpg: GREEN COFFEE\n",
      "\n",
      "Discover weliness\n",
      "\n",
      " \n",
      "\n",
      "S42\n",
      "6\n",
      "\n",
      "  \n",
      "   \n",
      "\n",
      " \n",
      "\n",
      "Helps Control Supports Blood\n",
      "Appetite* Sugar Level*\n",
      "\n",
      " \n",
      "\n",
      " \n",
      "\n",
      "Supports Immune\n",
      "System*\n",
      "\n",
      "PT oy oleae Mule] ni\n",
      "managment*\n",
      "\n",
      "   \n",
      "\n",
      "Boosts Herbal max Healthy\n",
      "Digestion*\n",
      "\n",
      "Metabolism* G R E E Ni\n",
      "COFFEE\n",
      "\n",
      " \n",
      "\n",
      "Cl} BURN FAT B)\n",
      "\n",
      "E\n",
      "\n",
      "Enhance Supports\n",
      "Mood* elm 10 ga\n",
      "\f",
      "\n",
      "2024-09-16 00:29:24,452 - INFO - Text extracted from /home/rguktrkvalley/Desktop/downloaded_images/713twQgCHSL.jpg:  \n",
      "\f",
      "\n",
      "2024-09-16 00:29:25,629 - INFO - Text extracted from /home/rguktrkvalley/Desktop/downloaded_images/61c+hSNnnZL.jpg:         \n",
      " \n",
      "\n",
      "-\n",
      "\n",
      "| ZITR@MAC\n",
      "IONS ciTwicas\n",
      "PINA\n",
      "DESHIDRATADA\n",
      "\n",
      "Sy sacs,\n",
      "\n",
      "Peso Neto: 270 gr,\n",
      "\n",
      "eli\n",
      "\f",
      "\n",
      "2024-09-16 00:29:26,669 - INFO - Text extracted from /home/rguktrkvalley/Desktop/downloaded_images/61d6Kj80QSL.jpg:  \n",
      "\n",
      "B\n",
      "oO\n",
      "\n",
      "Quantum\n",
      "‘Naturals\n",
      "\n",
      "NCCI Peas Pye] Prt)\n",
      "\n",
      "aod FROM een\n",
      "Oana Prana\n",
      "rN FOR\n",
      "cS\n",
      "\n",
      "Perse\n",
      "GROUPS. e\n",
      "\n",
      "Net Wau\n",
      "\n",
      " \n",
      "\f",
      "\n"
     ]
    },
    {
     "name": "stdout",
     "output_type": "stream",
     "text": [
      "1/1 [==============================] - 3s 3s/step\n"
     ]
    },
    {
     "name": "stderr",
     "output_type": "stream",
     "text": [
      "2024-09-16 00:29:31,921 - WARNING - Skipping image /home/rguktrkvalley/Desktop/downloaded_images/61I9XdN6OFL.jpg due to text extraction failure.\n"
     ]
    },
    {
     "name": "stdout",
     "output_type": "stream",
     "text": [
      "1/1 [==============================] - 0s 93ms/step\n"
     ]
    },
    {
     "name": "stderr",
     "output_type": "stream",
     "text": [
      "Premature end of JPEG file\n",
      "Premature end of JPEG file\n",
      "2024-09-16 00:29:33,203 - WARNING - Skipping image /home/rguktrkvalley/Desktop/downloaded_images/71gSRbyXmoL.jpg due to text extraction failure.\n"
     ]
    },
    {
     "name": "stdout",
     "output_type": "stream",
     "text": [
      "1/1 [==============================] - 0s 90ms/step\n"
     ]
    },
    {
     "name": "stderr",
     "output_type": "stream",
     "text": [
      "2024-09-16 00:29:34,584 - WARNING - Skipping image /home/rguktrkvalley/Desktop/downloaded_images/61BZ4zrjZXL.jpg due to text extraction failure.\n"
     ]
    },
    {
     "name": "stdout",
     "output_type": "stream",
     "text": [
      "1/1 [==============================] - 0s 91ms/step\n"
     ]
    },
    {
     "name": "stderr",
     "output_type": "stream",
     "text": [
      "2024-09-16 00:29:35,306 - WARNING - Skipping image /home/rguktrkvalley/Desktop/downloaded_images/612mrlqiI4L.jpg due to text extraction failure.\n"
     ]
    },
    {
     "name": "stdout",
     "output_type": "stream",
     "text": [
      "1/1 [==============================] - 0s 108ms/step\n"
     ]
    },
    {
     "name": "stderr",
     "output_type": "stream",
     "text": [
      "2024-09-16 00:29:36,537 - WARNING - Skipping image /home/rguktrkvalley/Desktop/downloaded_images/617Tl40LOXL.jpg due to text extraction failure.\n",
      "Premature end of JPEG file\n"
     ]
    },
    {
     "name": "stdout",
     "output_type": "stream",
     "text": [
      "1/1 [==============================] - 0s 128ms/step\n"
     ]
    },
    {
     "name": "stderr",
     "output_type": "stream",
     "text": [
      "Premature end of JPEG file\n",
      "2024-09-16 00:29:37,625 - WARNING - Skipping image /home/rguktrkvalley/Desktop/downloaded_images/61QsBSE7jgL.jpg due to text extraction failure.\n"
     ]
    },
    {
     "name": "stdout",
     "output_type": "stream",
     "text": [
      "1/1 [==============================] - 0s 101ms/step\n"
     ]
    },
    {
     "name": "stderr",
     "output_type": "stream",
     "text": [
      "2024-09-16 00:29:42,046 - WARNING - Skipping image /home/rguktrkvalley/Desktop/downloaded_images/81xsq6vf2qL.jpg due to text extraction failure.\n"
     ]
    },
    {
     "name": "stdout",
     "output_type": "stream",
     "text": [
      "1/1 [==============================] - 0s 140ms/step\n"
     ]
    },
    {
     "name": "stderr",
     "output_type": "stream",
     "text": [
      "2024-09-16 00:29:43,995 - WARNING - Skipping image /home/rguktrkvalley/Desktop/downloaded_images/71DiLRHeZdL.jpg due to text extraction failure.\n",
      "Premature end of JPEG file\n"
     ]
    },
    {
     "name": "stdout",
     "output_type": "stream",
     "text": [
      "1/1 [==============================] - 0s 191ms/step\n"
     ]
    },
    {
     "name": "stderr",
     "output_type": "stream",
     "text": [
      "Premature end of JPEG file\n",
      "2024-09-16 00:29:47,153 - WARNING - Skipping image /home/rguktrkvalley/Desktop/downloaded_images/91Cma3RzseL.jpg due to text extraction failure.\n"
     ]
    },
    {
     "name": "stdout",
     "output_type": "stream",
     "text": [
      "1/1 [==============================] - 0s 142ms/step\n"
     ]
    },
    {
     "name": "stderr",
     "output_type": "stream",
     "text": [
      "2024-09-16 00:29:50,022 - WARNING - Skipping image /home/rguktrkvalley/Desktop/downloaded_images/71jBLhmTNlL.jpg due to text extraction failure.\n"
     ]
    },
    {
     "name": "stdout",
     "output_type": "stream",
     "text": [
      "1/1 [==============================] - 0s 123ms/step\n"
     ]
    },
    {
     "name": "stderr",
     "output_type": "stream",
     "text": [
      "2024-09-16 00:29:52,779 - WARNING - Skipping image /home/rguktrkvalley/Desktop/downloaded_images/81N73b5khVL.jpg due to text extraction failure.\n"
     ]
    },
    {
     "name": "stdout",
     "output_type": "stream",
     "text": [
      "1/1 [==============================] - 0s 144ms/step\n"
     ]
    },
    {
     "name": "stderr",
     "output_type": "stream",
     "text": [
      "2024-09-16 00:29:53,739 - WARNING - Skipping image /home/rguktrkvalley/Desktop/downloaded_images/61oMj2iXOuL.jpg due to text extraction failure.\n",
      "Premature end of JPEG file\n"
     ]
    },
    {
     "name": "stdout",
     "output_type": "stream",
     "text": [
      "1/1 [==============================] - 0s 123ms/step\n"
     ]
    },
    {
     "name": "stderr",
     "output_type": "stream",
     "text": [
      "Premature end of JPEG file\n",
      "2024-09-16 00:29:55,587 - WARNING - Skipping image /home/rguktrkvalley/Desktop/downloaded_images/91LPf6OjV9L.jpg due to text extraction failure.\n",
      "Premature end of JPEG file\n"
     ]
    },
    {
     "name": "stdout",
     "output_type": "stream",
     "text": [
      "1/1 [==============================] - 0s 140ms/step\n"
     ]
    },
    {
     "name": "stderr",
     "output_type": "stream",
     "text": [
      "Premature end of JPEG file\n",
      "2024-09-16 00:29:59,600 - WARNING - Skipping image /home/rguktrkvalley/Desktop/downloaded_images/81fOxWWWKYL.jpg due to text extraction failure.\n",
      "Premature end of JPEG file\n"
     ]
    },
    {
     "name": "stdout",
     "output_type": "stream",
     "text": [
      "1/1 [==============================] - 0s 147ms/step\n"
     ]
    },
    {
     "name": "stderr",
     "output_type": "stream",
     "text": [
      "Premature end of JPEG file\n",
      "2024-09-16 00:30:07,703 - WARNING - Skipping image /home/rguktrkvalley/Desktop/downloaded_images/81dzao1Ob4L.jpg due to text extraction failure.\n",
      "Premature end of JPEG file\n"
     ]
    },
    {
     "name": "stdout",
     "output_type": "stream",
     "text": [
      "1/1 [==============================] - 0s 117ms/step\n"
     ]
    },
    {
     "name": "stderr",
     "output_type": "stream",
     "text": [
      "Premature end of JPEG file\n",
      "2024-09-16 00:30:11,475 - WARNING - Skipping image /home/rguktrkvalley/Desktop/downloaded_images/91-iahVGEDL.jpg due to text extraction failure.\n"
     ]
    },
    {
     "name": "stdout",
     "output_type": "stream",
     "text": [
      "1/1 [==============================] - 0s 164ms/step\n"
     ]
    },
    {
     "name": "stderr",
     "output_type": "stream",
     "text": [
      "2024-09-16 00:30:14,447 - WARNING - Skipping image /home/rguktrkvalley/Desktop/downloaded_images/81S2+GnYpTL.jpg due to text extraction failure.\n",
      "Premature end of JPEG file\n"
     ]
    },
    {
     "name": "stdout",
     "output_type": "stream",
     "text": [
      "1/1 [==============================] - 0s 134ms/step\n"
     ]
    },
    {
     "name": "stderr",
     "output_type": "stream",
     "text": [
      "Premature end of JPEG file\n",
      "2024-09-16 00:30:16,015 - WARNING - Skipping image /home/rguktrkvalley/Desktop/downloaded_images/81e2YtCOKvL.jpg due to text extraction failure.\n"
     ]
    },
    {
     "name": "stdout",
     "output_type": "stream",
     "text": [
      "1/1 [==============================] - 0s 108ms/step\n"
     ]
    },
    {
     "name": "stderr",
     "output_type": "stream",
     "text": [
      "Premature end of JPEG file\n",
      "Premature end of JPEG file\n",
      "2024-09-16 00:30:17,111 - WARNING - Skipping image /home/rguktrkvalley/Desktop/downloaded_images/81RNsNEM1EL.jpg due to text extraction failure.\n"
     ]
    },
    {
     "name": "stdout",
     "output_type": "stream",
     "text": [
      "1/1 [==============================] - 0s 114ms/step\n"
     ]
    },
    {
     "name": "stderr",
     "output_type": "stream",
     "text": [
      "2024-09-16 00:30:20,848 - WARNING - Skipping image /home/rguktrkvalley/Desktop/downloaded_images/91prZeizZnL.jpg due to text extraction failure.\n"
     ]
    },
    {
     "name": "stdout",
     "output_type": "stream",
     "text": [
      "1/1 [==============================] - 0s 165ms/step\n"
     ]
    },
    {
     "name": "stderr",
     "output_type": "stream",
     "text": [
      "2024-09-16 00:30:21,533 - WARNING - Skipping image /home/rguktrkvalley/Desktop/downloaded_images/31EvJszFVfL.jpg due to text extraction failure.\n"
     ]
    },
    {
     "name": "stdout",
     "output_type": "stream",
     "text": [
      "1/1 [==============================] - 0s 89ms/step\n"
     ]
    },
    {
     "name": "stderr",
     "output_type": "stream",
     "text": [
      "Premature end of JPEG file\n",
      "Premature end of JPEG file\n",
      "2024-09-16 00:30:23,260 - WARNING - Skipping image /home/rguktrkvalley/Desktop/downloaded_images/61wzlucTREL.jpg due to text extraction failure.\n"
     ]
    },
    {
     "name": "stdout",
     "output_type": "stream",
     "text": [
      "1/1 [==============================] - 0s 144ms/step\n"
     ]
    },
    {
     "name": "stderr",
     "output_type": "stream",
     "text": [
      "2024-09-16 00:30:24,390 - WARNING - Skipping image /home/rguktrkvalley/Desktop/downloaded_images/61sQ+qAKr4L.jpg due to text extraction failure.\n",
      "Premature end of JPEG file\n"
     ]
    },
    {
     "name": "stdout",
     "output_type": "stream",
     "text": [
      "1/1 [==============================] - 0s 102ms/step\n"
     ]
    },
    {
     "name": "stderr",
     "output_type": "stream",
     "text": [
      "Premature end of JPEG file\n",
      "2024-09-16 00:30:26,773 - WARNING - Skipping image /home/rguktrkvalley/Desktop/downloaded_images/81x77l2T5NL.jpg due to text extraction failure.\n",
      "Premature end of JPEG file\n"
     ]
    },
    {
     "name": "stdout",
     "output_type": "stream",
     "text": [
      "1/1 [==============================] - 0s 136ms/step\n"
     ]
    },
    {
     "name": "stderr",
     "output_type": "stream",
     "text": [
      "Premature end of JPEG file\n",
      "2024-09-16 00:30:28,538 - WARNING - Skipping image /home/rguktrkvalley/Desktop/downloaded_images/71nywfWZUwL.jpg due to text extraction failure.\n",
      "Premature end of JPEG file\n"
     ]
    },
    {
     "name": "stdout",
     "output_type": "stream",
     "text": [
      "1/1 [==============================] - 0s 132ms/step\n"
     ]
    },
    {
     "name": "stderr",
     "output_type": "stream",
     "text": [
      "Premature end of JPEG file\n",
      "2024-09-16 00:30:30,132 - WARNING - Skipping image /home/rguktrkvalley/Desktop/downloaded_images/71nywfWZUwL.jpg due to text extraction failure.\n"
     ]
    },
    {
     "name": "stdout",
     "output_type": "stream",
     "text": [
      "1/1 [==============================] - 0s 88ms/step\n"
     ]
    },
    {
     "name": "stderr",
     "output_type": "stream",
     "text": [
      "2024-09-16 00:30:30,957 - WARNING - Skipping image /home/rguktrkvalley/Desktop/downloaded_images/51WsuKKAVrL.jpg due to text extraction failure.\n"
     ]
    },
    {
     "name": "stdout",
     "output_type": "stream",
     "text": [
      "1/1 [==============================] - 0s 88ms/step\n"
     ]
    },
    {
     "name": "stderr",
     "output_type": "stream",
     "text": [
      "Premature end of JPEG file\n",
      "Premature end of JPEG file\n",
      "2024-09-16 00:30:31,904 - WARNING - Skipping image /home/rguktrkvalley/Desktop/downloaded_images/61XGDKap+JL.jpg due to text extraction failure.\n"
     ]
    },
    {
     "name": "stdout",
     "output_type": "stream",
     "text": [
      "1/1 [==============================] - 0s 90ms/step\n"
     ]
    },
    {
     "name": "stderr",
     "output_type": "stream",
     "text": [
      "Premature end of JPEG file\n",
      "Premature end of JPEG file\n",
      "2024-09-16 00:30:32,657 - WARNING - Skipping image /home/rguktrkvalley/Desktop/downloaded_images/715vVcWJxGL.jpg due to text extraction failure.\n"
     ]
    },
    {
     "name": "stdout",
     "output_type": "stream",
     "text": [
      "1/1 [==============================] - 0s 87ms/step\n"
     ]
    },
    {
     "name": "stderr",
     "output_type": "stream",
     "text": [
      "2024-09-16 00:30:34,316 - WARNING - Skipping image /home/rguktrkvalley/Desktop/downloaded_images/613v+2W4UwL.jpg due to text extraction failure.\n"
     ]
    },
    {
     "name": "stdout",
     "output_type": "stream",
     "text": [
      "1/1 [==============================] - 0s 90ms/step\n"
     ]
    },
    {
     "name": "stderr",
     "output_type": "stream",
     "text": [
      "2024-09-16 00:30:36,970 - WARNING - Skipping image /home/rguktrkvalley/Desktop/downloaded_images/71+fn9TWQmL.jpg due to text extraction failure.\n"
     ]
    },
    {
     "name": "stdout",
     "output_type": "stream",
     "text": [
      "1/1 [==============================] - 0s 91ms/step\n"
     ]
    },
    {
     "name": "stderr",
     "output_type": "stream",
     "text": [
      "2024-09-16 00:30:40,106 - WARNING - Skipping image /home/rguktrkvalley/Desktop/downloaded_images/71aKgRRQ2wL.jpg due to text extraction failure.\n",
      "Premature end of JPEG file\n"
     ]
    },
    {
     "name": "stdout",
     "output_type": "stream",
     "text": [
      "1/1 [==============================] - 0s 90ms/step\n"
     ]
    },
    {
     "name": "stderr",
     "output_type": "stream",
     "text": [
      "Premature end of JPEG file\n",
      "2024-09-16 00:30:41,878 - WARNING - Skipping image /home/rguktrkvalley/Desktop/downloaded_images/71rKXZJrh4L.jpg due to text extraction failure.\n",
      "2024-09-16 00:30:41,881 - WARNING - Error processing image /home/rguktrkvalley/Desktop/downloaded_images/71D824lbRvL.jpg: Image at /home/rguktrkvalley/Desktop/downloaded_images/71D824lbRvL.jpg could not be loaded.\n",
      "2024-09-16 00:30:41,883 - WARNING - Skipping image /home/rguktrkvalley/Desktop/downloaded_images/71D824lbRvL.jpg due to feature extraction failure.\n"
     ]
    },
    {
     "name": "stdout",
     "output_type": "stream",
     "text": [
      "1/1 [==============================] - 0s 95ms/step\n"
     ]
    },
    {
     "name": "stderr",
     "output_type": "stream",
     "text": [
      "Premature end of JPEG file\n",
      "Premature end of JPEG file\n",
      "2024-09-16 00:30:43,040 - WARNING - Skipping image /home/rguktrkvalley/Desktop/downloaded_images/71004c9tzfL.jpg due to text extraction failure.\n",
      "2024-09-16 00:30:43,043 - WARNING - Error processing image /home/rguktrkvalley/Desktop/downloaded_images/51bQPPtMqYL.jpg: Image at /home/rguktrkvalley/Desktop/downloaded_images/51bQPPtMqYL.jpg could not be loaded.\n",
      "2024-09-16 00:30:43,044 - WARNING - Skipping image /home/rguktrkvalley/Desktop/downloaded_images/51bQPPtMqYL.jpg due to feature extraction failure.\n"
     ]
    },
    {
     "name": "stdout",
     "output_type": "stream",
     "text": [
      "1/1 [==============================] - 0s 89ms/step\n"
     ]
    },
    {
     "name": "stderr",
     "output_type": "stream",
     "text": [
      "Premature end of JPEG file\n",
      "Premature end of JPEG file\n",
      "2024-09-16 00:30:43,712 - WARNING - Skipping image /home/rguktrkvalley/Desktop/downloaded_images/61o2ntPNNgL.jpg due to text extraction failure.\n"
     ]
    },
    {
     "name": "stdout",
     "output_type": "stream",
     "text": [
      "1/1 [==============================] - 0s 86ms/step\n"
     ]
    },
    {
     "name": "stderr",
     "output_type": "stream",
     "text": [
      "Premature end of JPEG file\n",
      "Premature end of JPEG file\n",
      "2024-09-16 00:30:44,360 - WARNING - Skipping image /home/rguktrkvalley/Desktop/downloaded_images/61o2ntPNNgL.jpg due to text extraction failure.\n"
     ]
    },
    {
     "name": "stdout",
     "output_type": "stream",
     "text": [
      "1/1 [==============================] - 0s 88ms/step\n"
     ]
    },
    {
     "name": "stderr",
     "output_type": "stream",
     "text": [
      "2024-09-16 00:30:46,159 - WARNING - Skipping image /home/rguktrkvalley/Desktop/downloaded_images/71IUuTJ8QwL.jpg due to text extraction failure.\n",
      "Premature end of JPEG file\n"
     ]
    },
    {
     "name": "stdout",
     "output_type": "stream",
     "text": [
      "1/1 [==============================] - 0s 90ms/step\n"
     ]
    },
    {
     "name": "stderr",
     "output_type": "stream",
     "text": [
      "Premature end of JPEG file\n",
      "2024-09-16 00:30:47,905 - WARNING - Skipping image /home/rguktrkvalley/Desktop/downloaded_images/915JHkwtcrL.jpg due to text extraction failure.\n",
      "Premature end of JPEG file\n"
     ]
    },
    {
     "name": "stdout",
     "output_type": "stream",
     "text": [
      "1/1 [==============================] - 0s 124ms/step\n"
     ]
    },
    {
     "name": "stderr",
     "output_type": "stream",
     "text": [
      "Premature end of JPEG file\n",
      "2024-09-16 00:30:49,261 - WARNING - Skipping image /home/rguktrkvalley/Desktop/downloaded_images/71cjrYndwIL.jpg due to text extraction failure.\n"
     ]
    },
    {
     "name": "stdout",
     "output_type": "stream",
     "text": [
      "1/1 [==============================] - 0s 109ms/step\n"
     ]
    },
    {
     "name": "stderr",
     "output_type": "stream",
     "text": [
      "2024-09-16 00:30:54,140 - WARNING - Skipping image /home/rguktrkvalley/Desktop/downloaded_images/81hnk2WXO3L.jpg due to text extraction failure.\n"
     ]
    },
    {
     "name": "stdout",
     "output_type": "stream",
     "text": [
      "1/1 [==============================] - 0s 126ms/step\n"
     ]
    },
    {
     "name": "stderr",
     "output_type": "stream",
     "text": [
      "2024-09-16 00:30:55,197 - WARNING - Skipping image /home/rguktrkvalley/Desktop/downloaded_images/61HXgujoxpL.jpg due to text extraction failure.\n"
     ]
    },
    {
     "name": "stdout",
     "output_type": "stream",
     "text": [
      "1/1 [==============================] - 0s 90ms/step\n"
     ]
    },
    {
     "name": "stderr",
     "output_type": "stream",
     "text": [
      "2024-09-16 00:30:56,642 - WARNING - Skipping image /home/rguktrkvalley/Desktop/downloaded_images/613G8GOyLSL.jpg due to text extraction failure.\n",
      "Premature end of JPEG file\n"
     ]
    },
    {
     "name": "stdout",
     "output_type": "stream",
     "text": [
      "1/1 [==============================] - 0s 130ms/step\n"
     ]
    },
    {
     "name": "stderr",
     "output_type": "stream",
     "text": [
      "Premature end of JPEG file\n",
      "2024-09-16 00:30:58,077 - WARNING - Skipping image /home/rguktrkvalley/Desktop/downloaded_images/71YyZ2iPyZL.jpg due to text extraction failure.\n",
      "Premature end of JPEG file\n"
     ]
    },
    {
     "name": "stdout",
     "output_type": "stream",
     "text": [
      "1/1 [==============================] - 0s 112ms/step\n"
     ]
    },
    {
     "name": "stderr",
     "output_type": "stream",
     "text": [
      "Premature end of JPEG file\n",
      "2024-09-16 00:31:00,490 - WARNING - Skipping image /home/rguktrkvalley/Desktop/downloaded_images/81K3JwUCnQL.jpg due to text extraction failure.\n"
     ]
    },
    {
     "name": "stdout",
     "output_type": "stream",
     "text": [
      "1/1 [==============================] - 0s 90ms/step\n"
     ]
    },
    {
     "name": "stderr",
     "output_type": "stream",
     "text": [
      "2024-09-16 00:31:01,514 - WARNING - Skipping image /home/rguktrkvalley/Desktop/downloaded_images/41wvffSxB4L.jpg due to text extraction failure.\n",
      "Premature end of JPEG file\n"
     ]
    },
    {
     "name": "stdout",
     "output_type": "stream",
     "text": [
      "1/1 [==============================] - 0s 110ms/step\n"
     ]
    },
    {
     "name": "stderr",
     "output_type": "stream",
     "text": [
      "Premature end of JPEG file\n",
      "2024-09-16 00:31:04,231 - WARNING - Skipping image /home/rguktrkvalley/Desktop/downloaded_images/91cErO-KbLL.jpg due to text extraction failure.\n",
      "Premature end of JPEG file\n"
     ]
    },
    {
     "name": "stdout",
     "output_type": "stream",
     "text": [
      "1/1 [==============================] - 0s 147ms/step\n"
     ]
    },
    {
     "name": "stderr",
     "output_type": "stream",
     "text": [
      "Premature end of JPEG file\n",
      "2024-09-16 00:31:08,070 - WARNING - Skipping image /home/rguktrkvalley/Desktop/downloaded_images/817vo3DcCNL.jpg due to text extraction failure.\n"
     ]
    },
    {
     "name": "stdout",
     "output_type": "stream",
     "text": [
      "1/1 [==============================] - 0s 113ms/step\n"
     ]
    },
    {
     "name": "stderr",
     "output_type": "stream",
     "text": [
      "2024-09-16 00:31:09,058 - WARNING - Skipping image /home/rguktrkvalley/Desktop/downloaded_images/61AHQ35poHL.jpg due to text extraction failure.\n"
     ]
    },
    {
     "name": "stdout",
     "output_type": "stream",
     "text": [
      "1/1 [==============================] - 0s 90ms/step\n"
     ]
    },
    {
     "name": "stderr",
     "output_type": "stream",
     "text": [
      "2024-09-16 00:31:10,547 - WARNING - Skipping image /home/rguktrkvalley/Desktop/downloaded_images/61WFh8RCQYL.jpg due to text extraction failure.\n"
     ]
    },
    {
     "name": "stdout",
     "output_type": "stream",
     "text": [
      "1/1 [==============================] - 0s 117ms/step\n"
     ]
    },
    {
     "name": "stderr",
     "output_type": "stream",
     "text": [
      "2024-09-16 00:31:12,879 - WARNING - Skipping image /home/rguktrkvalley/Desktop/downloaded_images/711SATIDrmL.jpg due to text extraction failure.\n",
      "Premature end of JPEG file\n"
     ]
    },
    {
     "name": "stdout",
     "output_type": "stream",
     "text": [
      "1/1 [==============================] - 0s 132ms/step\n"
     ]
    },
    {
     "name": "stderr",
     "output_type": "stream",
     "text": [
      "Premature end of JPEG file\n",
      "2024-09-16 00:31:13,994 - WARNING - Skipping image /home/rguktrkvalley/Desktop/downloaded_images/61x6RSjwQIL.jpg due to text extraction failure.\n",
      "Premature end of JPEG file\n"
     ]
    },
    {
     "name": "stdout",
     "output_type": "stream",
     "text": [
      "1/1 [==============================] - 0s 90ms/step\n"
     ]
    },
    {
     "name": "stderr",
     "output_type": "stream",
     "text": [
      "Premature end of JPEG file\n",
      "2024-09-16 00:31:15,453 - WARNING - Skipping image /home/rguktrkvalley/Desktop/downloaded_images/613BeFNwHcL.jpg due to text extraction failure.\n",
      "2024-09-16 00:31:15,457 - WARNING - Error processing image /home/rguktrkvalley/Desktop/downloaded_images/61hWZdkq6WL.jpg: Image at /home/rguktrkvalley/Desktop/downloaded_images/61hWZdkq6WL.jpg could not be loaded.\n",
      "2024-09-16 00:31:15,460 - WARNING - Skipping image /home/rguktrkvalley/Desktop/downloaded_images/61hWZdkq6WL.jpg due to feature extraction failure.\n",
      "2024-09-16 00:31:15,465 - WARNING - Error processing image /home/rguktrkvalley/Desktop/downloaded_images/71E7CU55dcL.jpg: Image at /home/rguktrkvalley/Desktop/downloaded_images/71E7CU55dcL.jpg could not be loaded.\n",
      "2024-09-16 00:31:15,467 - WARNING - Skipping image /home/rguktrkvalley/Desktop/downloaded_images/71E7CU55dcL.jpg due to feature extraction failure.\n"
     ]
    },
    {
     "name": "stdout",
     "output_type": "stream",
     "text": [
      "1/1 [==============================] - 0s 109ms/step\n"
     ]
    },
    {
     "name": "stderr",
     "output_type": "stream",
     "text": [
      "2024-09-16 00:31:16,868 - WARNING - Skipping image /home/rguktrkvalley/Desktop/downloaded_images/61c+hSNnnZL.jpg due to text extraction failure.\n"
     ]
    },
    {
     "name": "stdout",
     "output_type": "stream",
     "text": [
      "1/1 [==============================] - 0s 116ms/step\n"
     ]
    },
    {
     "name": "stderr",
     "output_type": "stream",
     "text": [
      "Premature end of JPEG file\n",
      "Premature end of JPEG file\n",
      "2024-09-16 00:31:18,845 - WARNING - Skipping image /home/rguktrkvalley/Desktop/downloaded_images/915w0BdW-gL.jpg due to text extraction failure.\n",
      "Premature end of JPEG file\n"
     ]
    },
    {
     "name": "stdout",
     "output_type": "stream",
     "text": [
      "1/1 [==============================] - 0s 100ms/step\n"
     ]
    },
    {
     "name": "stderr",
     "output_type": "stream",
     "text": [
      "Premature end of JPEG file\n",
      "2024-09-16 00:31:19,946 - WARNING - Skipping image /home/rguktrkvalley/Desktop/downloaded_images/61sx0ezNNLL.jpg due to text extraction failure.\n"
     ]
    },
    {
     "name": "stdout",
     "output_type": "stream",
     "text": [
      "1/1 [==============================] - 0s 92ms/step\n"
     ]
    },
    {
     "name": "stderr",
     "output_type": "stream",
     "text": [
      "2024-09-16 00:31:21,735 - WARNING - Skipping image /home/rguktrkvalley/Desktop/downloaded_images/71ldprwbKrL.jpg due to text extraction failure.\n"
     ]
    },
    {
     "name": "stdout",
     "output_type": "stream",
     "text": [
      "1/1 [==============================] - 0s 89ms/step\n"
     ]
    },
    {
     "name": "stderr",
     "output_type": "stream",
     "text": [
      "2024-09-16 00:31:23,988 - WARNING - Skipping image /home/rguktrkvalley/Desktop/downloaded_images/71E9iF-bmKL.jpg due to text extraction failure.\n",
      "Premature end of JPEG file\n"
     ]
    },
    {
     "name": "stdout",
     "output_type": "stream",
     "text": [
      "1/1 [==============================] - 0s 128ms/step\n"
     ]
    },
    {
     "name": "stderr",
     "output_type": "stream",
     "text": [
      "Premature end of JPEG file\n",
      "2024-09-16 00:31:28,259 - WARNING - Skipping image /home/rguktrkvalley/Desktop/downloaded_images/71sWRp1SNwL.jpg due to text extraction failure.\n"
     ]
    },
    {
     "name": "stdout",
     "output_type": "stream",
     "text": [
      "1/1 [==============================] - 0s 88ms/step\n"
     ]
    },
    {
     "name": "stderr",
     "output_type": "stream",
     "text": [
      "2024-09-16 00:31:29,475 - WARNING - Skipping image /home/rguktrkvalley/Desktop/downloaded_images/61Fwq4GeTmL.jpg due to text extraction failure.\n"
     ]
    },
    {
     "name": "stdout",
     "output_type": "stream",
     "text": [
      "1/1 [==============================] - 0s 131ms/step\n"
     ]
    },
    {
     "name": "stderr",
     "output_type": "stream",
     "text": [
      "2024-09-16 00:31:31,612 - WARNING - Skipping image /home/rguktrkvalley/Desktop/downloaded_images/61-oj+N+BxL.jpg due to text extraction failure.\n"
     ]
    },
    {
     "name": "stdout",
     "output_type": "stream",
     "text": [
      "1/1 [==============================] - 0s 132ms/step\n"
     ]
    },
    {
     "name": "stderr",
     "output_type": "stream",
     "text": [
      "2024-09-16 00:31:33,181 - WARNING - Skipping image /home/rguktrkvalley/Desktop/downloaded_images/71e6kJLE+LL.jpg due to text extraction failure.\n"
     ]
    },
    {
     "name": "stdout",
     "output_type": "stream",
     "text": [
      "1/1 [==============================] - 0s 142ms/step\n"
     ]
    },
    {
     "name": "stderr",
     "output_type": "stream",
     "text": [
      "2024-09-16 00:31:35,736 - WARNING - Skipping image /home/rguktrkvalley/Desktop/downloaded_images/71SuzaRS7gL.jpg due to text extraction failure.\n"
     ]
    },
    {
     "name": "stdout",
     "output_type": "stream",
     "text": [
      "1/1 [==============================] - 0s 120ms/step\n"
     ]
    },
    {
     "name": "stderr",
     "output_type": "stream",
     "text": [
      "2024-09-16 00:31:37,314 - WARNING - Skipping image /home/rguktrkvalley/Desktop/downloaded_images/71nsfFCXF0L.jpg due to text extraction failure.\n"
     ]
    },
    {
     "name": "stdout",
     "output_type": "stream",
     "text": [
      "1/1 [==============================] - 0s 91ms/step\n"
     ]
    },
    {
     "name": "stderr",
     "output_type": "stream",
     "text": [
      "2024-09-16 00:31:39,354 - WARNING - Skipping image /home/rguktrkvalley/Desktop/downloaded_images/71hgN7yu9OL.jpg due to text extraction failure.\n"
     ]
    },
    {
     "name": "stdout",
     "output_type": "stream",
     "text": [
      "1/1 [==============================] - 0s 101ms/step\n"
     ]
    },
    {
     "name": "stderr",
     "output_type": "stream",
     "text": [
      "2024-09-16 00:31:40,892 - WARNING - Skipping image /home/rguktrkvalley/Desktop/downloaded_images/61SmT8pkLtL.jpg due to text extraction failure.\n",
      "Premature end of JPEG file\n"
     ]
    },
    {
     "name": "stdout",
     "output_type": "stream",
     "text": [
      "1/1 [==============================] - 0s 108ms/step\n"
     ]
    },
    {
     "name": "stderr",
     "output_type": "stream",
     "text": [
      "Premature end of JPEG file\n",
      "2024-09-16 00:31:42,533 - WARNING - Skipping image /home/rguktrkvalley/Desktop/downloaded_images/71ZtDgGX+iL.jpg due to text extraction failure.\n"
     ]
    },
    {
     "name": "stdout",
     "output_type": "stream",
     "text": [
      "1/1 [==============================] - 0s 137ms/step\n"
     ]
    },
    {
     "name": "stderr",
     "output_type": "stream",
     "text": [
      "2024-09-16 00:31:43,167 - WARNING - Skipping image /home/rguktrkvalley/Desktop/downloaded_images/413FQB0ZMLL.jpg due to text extraction failure.\n"
     ]
    },
    {
     "name": "stdout",
     "output_type": "stream",
     "text": [
      "1/1 [==============================] - 0s 88ms/step\n"
     ]
    },
    {
     "name": "stderr",
     "output_type": "stream",
     "text": [
      "2024-09-16 00:31:43,690 - WARNING - Skipping image /home/rguktrkvalley/Desktop/downloaded_images/41EjbFu-+yL.jpg due to text extraction failure.\n",
      "Premature end of JPEG file\n"
     ]
    },
    {
     "name": "stdout",
     "output_type": "stream",
     "text": [
      "1/1 [==============================] - 0s 98ms/step\n"
     ]
    },
    {
     "name": "stderr",
     "output_type": "stream",
     "text": [
      "Premature end of JPEG file\n",
      "2024-09-16 00:31:44,693 - WARNING - Skipping image /home/rguktrkvalley/Desktop/downloaded_images/71dWDwMhWmS.jpg due to text extraction failure.\n"
     ]
    },
    {
     "name": "stdout",
     "output_type": "stream",
     "text": [
      "1/1 [==============================] - 0s 91ms/step\n"
     ]
    },
    {
     "name": "stderr",
     "output_type": "stream",
     "text": [
      "2024-09-16 00:31:45,932 - WARNING - Skipping image /home/rguktrkvalley/Desktop/downloaded_images/61d6Kj80QSL.jpg due to text extraction failure.\n",
      "2024-09-16 00:31:45,937 - WARNING - Error processing image /home/rguktrkvalley/Desktop/downloaded_images/71bvOuz9w1L.jpg: Image at /home/rguktrkvalley/Desktop/downloaded_images/71bvOuz9w1L.jpg could not be loaded.\n",
      "2024-09-16 00:31:45,938 - WARNING - Skipping image /home/rguktrkvalley/Desktop/downloaded_images/71bvOuz9w1L.jpg due to feature extraction failure.\n",
      "Premature end of JPEG file\n"
     ]
    },
    {
     "name": "stdout",
     "output_type": "stream",
     "text": [
      "1/1 [==============================] - 0s 92ms/step\n"
     ]
    },
    {
     "name": "stderr",
     "output_type": "stream",
     "text": [
      "Premature end of JPEG file\n",
      "2024-09-16 00:31:47,152 - WARNING - Skipping image /home/rguktrkvalley/Desktop/downloaded_images/71l0M0tMGjL.jpg due to text extraction failure.\n"
     ]
    },
    {
     "name": "stdout",
     "output_type": "stream",
     "text": [
      "1/1 [==============================] - 0s 86ms/step\n"
     ]
    },
    {
     "name": "stderr",
     "output_type": "stream",
     "text": [
      "2024-09-16 00:31:49,305 - WARNING - Skipping image /home/rguktrkvalley/Desktop/downloaded_images/71Lpqdrpi4L.jpg due to text extraction failure.\n"
     ]
    },
    {
     "name": "stdout",
     "output_type": "stream",
     "text": [
      "1/1 [==============================] - 0s 91ms/step\n"
     ]
    },
    {
     "name": "stderr",
     "output_type": "stream",
     "text": [
      "2024-09-16 00:31:51,219 - WARNING - Skipping image /home/rguktrkvalley/Desktop/downloaded_images/71jLIbCcwOL.jpg due to text extraction failure.\n",
      "Premature end of JPEG file\n"
     ]
    },
    {
     "name": "stdout",
     "output_type": "stream",
     "text": [
      "1/1 [==============================] - 0s 152ms/step\n"
     ]
    },
    {
     "name": "stderr",
     "output_type": "stream",
     "text": [
      "Premature end of JPEG file\n",
      "2024-09-16 00:31:52,794 - WARNING - Skipping image /home/rguktrkvalley/Desktop/downloaded_images/718EdwGgyVL.jpg due to text extraction failure.\n"
     ]
    },
    {
     "name": "stdout",
     "output_type": "stream",
     "text": [
      "1/1 [==============================] - 0s 108ms/step\n"
     ]
    },
    {
     "name": "stderr",
     "output_type": "stream",
     "text": [
      "2024-09-16 00:31:54,332 - WARNING - Skipping image /home/rguktrkvalley/Desktop/downloaded_images/713twQgCHSL.jpg due to text extraction failure.\n",
      "Premature end of JPEG file\n"
     ]
    },
    {
     "name": "stdout",
     "output_type": "stream",
     "text": [
      "1/1 [==============================] - 0s 150ms/step\n"
     ]
    },
    {
     "name": "stderr",
     "output_type": "stream",
     "text": [
      "Premature end of JPEG file\n",
      "2024-09-16 00:31:55,270 - WARNING - Skipping image /home/rguktrkvalley/Desktop/downloaded_images/61I0O1qJbhS.jpg due to text extraction failure.\n",
      "Premature end of JPEG file\n"
     ]
    },
    {
     "name": "stdout",
     "output_type": "stream",
     "text": [
      "1/1 [==============================] - 0s 134ms/step\n"
     ]
    },
    {
     "name": "stderr",
     "output_type": "stream",
     "text": [
      "Premature end of JPEG file\n",
      "2024-09-16 00:31:56,453 - WARNING - Skipping image /home/rguktrkvalley/Desktop/downloaded_images/61eOO5IW4NL.jpg due to text extraction failure.\n",
      "Premature end of JPEG file\n"
     ]
    },
    {
     "name": "stdout",
     "output_type": "stream",
     "text": [
      "1/1 [==============================] - 0s 124ms/step\n"
     ]
    },
    {
     "name": "stderr",
     "output_type": "stream",
     "text": [
      "Premature end of JPEG file\n",
      "2024-09-16 00:31:57,274 - WARNING - Skipping image /home/rguktrkvalley/Desktop/downloaded_images/716AQpAJjZL.jpg due to text extraction failure.\n"
     ]
    },
    {
     "name": "stdout",
     "output_type": "stream",
     "text": [
      "1/1 [==============================] - 0s 91ms/step\n"
     ]
    },
    {
     "name": "stderr",
     "output_type": "stream",
     "text": [
      "2024-09-16 00:31:59,638 - WARNING - Skipping image /home/rguktrkvalley/Desktop/downloaded_images/71FVeRd2jqL.jpg due to text extraction failure.\n"
     ]
    },
    {
     "name": "stdout",
     "output_type": "stream",
     "text": [
      "1/1 [==============================] - 0s 146ms/step\n"
     ]
    },
    {
     "name": "stderr",
     "output_type": "stream",
     "text": [
      "2024-09-16 00:32:03,141 - WARNING - Skipping image /home/rguktrkvalley/Desktop/downloaded_images/81njuNSPdjL.jpg due to text extraction failure.\n"
     ]
    },
    {
     "name": "stdout",
     "output_type": "stream",
     "text": [
      "1/1 [==============================] - 0s 154ms/step\n"
     ]
    },
    {
     "name": "stderr",
     "output_type": "stream",
     "text": [
      "2024-09-16 00:32:04,033 - WARNING - Skipping image /home/rguktrkvalley/Desktop/downloaded_images/51xfRlxWIXL.jpg due to text extraction failure.\n"
     ]
    },
    {
     "name": "stdout",
     "output_type": "stream",
     "text": [
      "1/1 [==============================] - 0s 92ms/step\n"
     ]
    },
    {
     "name": "stderr",
     "output_type": "stream",
     "text": [
      "2024-09-16 00:32:06,686 - WARNING - Skipping image /home/rguktrkvalley/Desktop/downloaded_images/71duwM3SjpL.jpg due to text extraction failure.\n"
     ]
    },
    {
     "name": "stdout",
     "output_type": "stream",
     "text": [
      "1/1 [==============================] - 0s 98ms/step\n",
      "1/1 [==============================] - 0s 95ms/step\n"
     ]
    },
    {
     "name": "stderr",
     "output_type": "stream",
     "text": [
      "2024-09-16 00:32:09,106 - WARNING - Skipping image /home/rguktrkvalley/Desktop/downloaded_images/51b9JEHOriL.jpg due to text extraction failure.\n"
     ]
    },
    {
     "name": "stdout",
     "output_type": "stream",
     "text": [
      "1/1 [==============================] - 0s 162ms/step\n"
     ]
    },
    {
     "name": "stderr",
     "output_type": "stream",
     "text": [
      "2024-09-16 00:32:12,199 - WARNING - Skipping image /home/rguktrkvalley/Desktop/downloaded_images/81lgxfKqUUL.jpg due to text extraction failure.\n"
     ]
    },
    {
     "name": "stdout",
     "output_type": "stream",
     "text": [
      "1/1 [==============================] - 0s 91ms/step\n"
     ]
    },
    {
     "name": "stderr",
     "output_type": "stream",
     "text": [
      "2024-09-16 00:32:14,901 - WARNING - Skipping image /home/rguktrkvalley/Desktop/downloaded_images/814sAvV89SL.jpg due to text extraction failure.\n"
     ]
    },
    {
     "name": "stdout",
     "output_type": "stream",
     "text": [
      "1/1 [==============================] - 0s 99ms/step\n"
     ]
    },
    {
     "name": "stderr",
     "output_type": "stream",
     "text": [
      "2024-09-16 00:32:16,361 - WARNING - Skipping image /home/rguktrkvalley/Desktop/downloaded_images/61cMeogK8gL.jpg due to text extraction failure.\n"
     ]
    },
    {
     "name": "stdout",
     "output_type": "stream",
     "text": [
      "1/1 [==============================] - 0s 89ms/step\n"
     ]
    },
    {
     "name": "stderr",
     "output_type": "stream",
     "text": [
      "2024-09-16 00:32:19,648 - WARNING - Skipping image /home/rguktrkvalley/Desktop/downloaded_images/811VfR10yxL.jpg due to text extraction failure.\n"
     ]
    },
    {
     "name": "stdout",
     "output_type": "stream",
     "text": [
      "1/1 [==============================] - 0s 91ms/step\n"
     ]
    },
    {
     "name": "stderr",
     "output_type": "stream",
     "text": [
      "2024-09-16 00:32:21,196 - WARNING - Skipping image /home/rguktrkvalley/Desktop/downloaded_images/71WLYfmMqQL.jpg due to text extraction failure.\n"
     ]
    },
    {
     "name": "stdout",
     "output_type": "stream",
     "text": [
      "1/1 [==============================] - 0s 87ms/step\n"
     ]
    },
    {
     "name": "stderr",
     "output_type": "stream",
     "text": [
      "2024-09-16 00:32:22,548 - WARNING - Skipping image /home/rguktrkvalley/Desktop/downloaded_images/61Dq3LRei9L.jpg due to text extraction failure.\n"
     ]
    },
    {
     "name": "stdout",
     "output_type": "stream",
     "text": [
      "1/1 [==============================] - 0s 88ms/step\n"
     ]
    },
    {
     "name": "stderr",
     "output_type": "stream",
     "text": [
      "2024-09-16 00:32:24,414 - WARNING - Skipping image /home/rguktrkvalley/Desktop/downloaded_images/71XK5d3Oh9L.jpg due to text extraction failure.\n"
     ]
    },
    {
     "name": "stdout",
     "output_type": "stream",
     "text": [
      "1/1 [==============================] - 0s 90ms/step\n"
     ]
    },
    {
     "name": "stderr",
     "output_type": "stream",
     "text": [
      "2024-09-16 00:32:25,365 - WARNING - Skipping image /home/rguktrkvalley/Desktop/downloaded_images/61kyBEJYDeL.jpg due to text extraction failure.\n"
     ]
    },
    {
     "name": "stdout",
     "output_type": "stream",
     "text": [
      "1/1 [==============================] - 0s 89ms/step\n"
     ]
    },
    {
     "name": "stderr",
     "output_type": "stream",
     "text": [
      "2024-09-16 00:32:27,021 - WARNING - Skipping image /home/rguktrkvalley/Desktop/downloaded_images/71uQmsTESvL.jpg due to text extraction failure.\n"
     ]
    },
    {
     "name": "stdout",
     "output_type": "stream",
     "text": [
      "1/1 [==============================] - 0s 88ms/step\n"
     ]
    },
    {
     "name": "stderr",
     "output_type": "stream",
     "text": [
      "2024-09-16 00:32:28,841 - WARNING - Skipping image /home/rguktrkvalley/Desktop/downloaded_images/71jG8BOi4WL.jpg due to text extraction failure.\n",
      "2024-09-16 00:32:29,237 - WARNING - Error processing image /home/rguktrkvalley/Desktop/downloaded_images/41-NCxNuBxL.jpg: Image at /home/rguktrkvalley/Desktop/downloaded_images/41-NCxNuBxL.jpg could not be loaded.\n",
      "[ WARN:0@4160.777] global loadsave.cpp:241 findDecoder imread_('/home/rguktrkvalley/Desktop/downloaded_images/41-NCxNuBxL.jpg'): can't open/read file: check file path/integrity\n",
      "2024-09-16 00:32:29,239 - WARNING - Skipping image /home/rguktrkvalley/Desktop/downloaded_images/41-NCxNuBxL.jpg due to feature extraction failure.\n",
      "2024-09-16 00:32:29,240 - WARNING - Error processing image /home/rguktrkvalley/Desktop/downloaded_images/41-NCxNuBxL.jpg: Image at /home/rguktrkvalley/Desktop/downloaded_images/41-NCxNuBxL.jpg could not be loaded.\n",
      "2024-09-16 00:32:29,242 - WARNING - Skipping image /home/rguktrkvalley/Desktop/downloaded_images/41-NCxNuBxL.jpg due to feature extraction failure.\n",
      "2024-09-16 00:32:29,245 - WARNING - Error processing image /home/rguktrkvalley/Desktop/downloaded_images/417NJrPEk+L.jpg: Image at /home/rguktrkvalley/Desktop/downloaded_images/417NJrPEk+L.jpg could not be loaded.\n",
      "2024-09-16 00:32:29,248 - WARNING - Skipping image /home/rguktrkvalley/Desktop/downloaded_images/417NJrPEk+L.jpg due to feature extraction failure.\n",
      "[ WARN:0@4160.780] global loadsave.cpp:241 findDecoder imread_('/home/rguktrkvalley/Desktop/downloaded_images/41-NCxNuBxL.jpg'): can't open/read file: check file path/integrity\n",
      "[ WARN:0@4160.785] global loadsave.cpp:241 findDecoder imread_('/home/rguktrkvalley/Desktop/downloaded_images/417NJrPEk+L.jpg'): can't open/read file: check file path/integrity\n",
      "2024-09-16 00:32:29,251 - WARNING - Error processing image /home/rguktrkvalley/Desktop/downloaded_images/417SThj+SrL.jpg: Image at /home/rguktrkvalley/Desktop/downloaded_images/417SThj+SrL.jpg could not be loaded.\n",
      "[ WARN:0@4160.792] global loadsave.cpp:241 findDecoder imread_('/home/rguktrkvalley/Desktop/downloaded_images/417SThj+SrL.jpg'): can't open/read file: check file path/integrity\n",
      "2024-09-16 00:32:29,253 - WARNING - Skipping image /home/rguktrkvalley/Desktop/downloaded_images/417SThj+SrL.jpg due to feature extraction failure.\n",
      "[ WARN:0@4160.796] global loadsave.cpp:241 findDecoder imread_('/home/rguktrkvalley/Desktop/downloaded_images/417SThj+SrL.jpg'): can't open/read file: check file path/integrity\n",
      "2024-09-16 00:32:29,256 - WARNING - Error processing image /home/rguktrkvalley/Desktop/downloaded_images/417SThj+SrL.jpg: Image at /home/rguktrkvalley/Desktop/downloaded_images/417SThj+SrL.jpg could not be loaded.\n",
      "2024-09-16 00:32:29,258 - WARNING - Skipping image /home/rguktrkvalley/Desktop/downloaded_images/417SThj+SrL.jpg due to feature extraction failure.\n",
      "[ WARN:0@4160.801] global loadsave.cpp:241 findDecoder imread_('/home/rguktrkvalley/Desktop/downloaded_images/41ADVPQgZOL.jpg'): can't open/read file: check file path/integrity\n",
      "2024-09-16 00:32:29,261 - WARNING - Error processing image /home/rguktrkvalley/Desktop/downloaded_images/41ADVPQgZOL.jpg: Image at /home/rguktrkvalley/Desktop/downloaded_images/41ADVPQgZOL.jpg could not be loaded.\n",
      "2024-09-16 00:32:29,264 - WARNING - Skipping image /home/rguktrkvalley/Desktop/downloaded_images/41ADVPQgZOL.jpg due to feature extraction failure.\n",
      "2024-09-16 00:32:29,266 - WARNING - Error processing image /home/rguktrkvalley/Desktop/downloaded_images/41nblnEkJ3L.jpg: Image at /home/rguktrkvalley/Desktop/downloaded_images/41nblnEkJ3L.jpg could not be loaded.\n",
      "[ WARN:0@4160.806] global loadsave.cpp:241 findDecoder imread_('/home/rguktrkvalley/Desktop/downloaded_images/41nblnEkJ3L.jpg'): can't open/read file: check file path/integrity\n",
      "2024-09-16 00:32:29,268 - WARNING - Skipping image /home/rguktrkvalley/Desktop/downloaded_images/41nblnEkJ3L.jpg due to feature extraction failure.\n",
      "[ WARN:0@4160.810] global loadsave.cpp:241 findDecoder imread_('/home/rguktrkvalley/Desktop/downloaded_images/41nblnEkJ3L.jpg'): can't open/read file: check file path/integrity\n",
      "2024-09-16 00:32:29,270 - WARNING - Error processing image /home/rguktrkvalley/Desktop/downloaded_images/41nblnEkJ3L.jpg: Image at /home/rguktrkvalley/Desktop/downloaded_images/41nblnEkJ3L.jpg could not be loaded.\n",
      "2024-09-16 00:32:29,272 - WARNING - Skipping image /home/rguktrkvalley/Desktop/downloaded_images/41nblnEkJ3L.jpg due to feature extraction failure.\n",
      "[ WARN:0@4160.814] global loadsave.cpp:241 findDecoder imread_('/home/rguktrkvalley/Desktop/downloaded_images/41o3iis9E7L.jpg'): can't open/read file: check file path/integrity\n",
      "2024-09-16 00:32:29,275 - WARNING - Error processing image /home/rguktrkvalley/Desktop/downloaded_images/41o3iis9E7L.jpg: Image at /home/rguktrkvalley/Desktop/downloaded_images/41o3iis9E7L.jpg could not be loaded.\n",
      "2024-09-16 00:32:29,276 - WARNING - Skipping image /home/rguktrkvalley/Desktop/downloaded_images/41o3iis9E7L.jpg due to feature extraction failure.\n",
      "[ WARN:0@4160.818] global loadsave.cpp:241 findDecoder imread_('/home/rguktrkvalley/Desktop/downloaded_images/41pvwR9GbaL.jpg'): can't open/read file: check file path/integrity\n",
      "2024-09-16 00:32:29,279 - WARNING - Error processing image /home/rguktrkvalley/Desktop/downloaded_images/41pvwR9GbaL.jpg: Image at /home/rguktrkvalley/Desktop/downloaded_images/41pvwR9GbaL.jpg could not be loaded.\n",
      "2024-09-16 00:32:29,281 - WARNING - Skipping image /home/rguktrkvalley/Desktop/downloaded_images/41pvwR9GbaL.jpg due to feature extraction failure.\n",
      "[ WARN:0@4160.824] global loadsave.cpp:241 findDecoder imread_('/home/rguktrkvalley/Desktop/downloaded_images/41uwo4PVnuL.jpg'): can't open/read file: check file path/integrity\n",
      "2024-09-16 00:32:29,284 - WARNING - Error processing image /home/rguktrkvalley/Desktop/downloaded_images/41uwo4PVnuL.jpg: Image at /home/rguktrkvalley/Desktop/downloaded_images/41uwo4PVnuL.jpg could not be loaded.\n",
      "2024-09-16 00:32:29,285 - WARNING - Skipping image /home/rguktrkvalley/Desktop/downloaded_images/41uwo4PVnuL.jpg due to feature extraction failure.\n",
      "[ WARN:0@4160.827] global loadsave.cpp:241 findDecoder imread_('/home/rguktrkvalley/Desktop/downloaded_images/41uwo4PVnuL.jpg'): can't open/read file: check file path/integrity\n",
      "2024-09-16 00:32:29,287 - WARNING - Error processing image /home/rguktrkvalley/Desktop/downloaded_images/41uwo4PVnuL.jpg: Image at /home/rguktrkvalley/Desktop/downloaded_images/41uwo4PVnuL.jpg could not be loaded.\n",
      "2024-09-16 00:32:29,289 - WARNING - Skipping image /home/rguktrkvalley/Desktop/downloaded_images/41uwo4PVnuL.jpg due to feature extraction failure.\n",
      "[ WARN:0@4160.831] global loadsave.cpp:241 findDecoder imread_('/home/rguktrkvalley/Desktop/downloaded_images/41ygXRvf8lL.jpg'): can't open/read file: check file path/integrity\n",
      "2024-09-16 00:32:29,291 - WARNING - Error processing image /home/rguktrkvalley/Desktop/downloaded_images/41ygXRvf8lL.jpg: Image at /home/rguktrkvalley/Desktop/downloaded_images/41ygXRvf8lL.jpg could not be loaded.\n",
      "2024-09-16 00:32:29,293 - WARNING - Skipping image /home/rguktrkvalley/Desktop/downloaded_images/41ygXRvf8lL.jpg due to feature extraction failure.\n",
      "2024-09-16 00:32:29,296 - WARNING - Error processing image /home/rguktrkvalley/Desktop/downloaded_images/41ygXRvf8lL.jpg: Image at /home/rguktrkvalley/Desktop/downloaded_images/41ygXRvf8lL.jpg could not be loaded.\n",
      "[ WARN:0@4160.836] global loadsave.cpp:241 findDecoder imread_('/home/rguktrkvalley/Desktop/downloaded_images/41ygXRvf8lL.jpg'): can't open/read file: check file path/integrity\n",
      "2024-09-16 00:32:29,297 - WARNING - Skipping image /home/rguktrkvalley/Desktop/downloaded_images/41ygXRvf8lL.jpg due to feature extraction failure.\n",
      "[ WARN:0@4160.839] global loadsave.cpp:241 findDecoder imread_('/home/rguktrkvalley/Desktop/downloaded_images/41zgjN+zW3L.jpg'): can't open/read file: check file path/integrity\n",
      "2024-09-16 00:32:29,299 - WARNING - Error processing image /home/rguktrkvalley/Desktop/downloaded_images/41zgjN+zW3L.jpg: Image at /home/rguktrkvalley/Desktop/downloaded_images/41zgjN+zW3L.jpg could not be loaded.\n",
      "2024-09-16 00:32:29,300 - WARNING - Skipping image /home/rguktrkvalley/Desktop/downloaded_images/41zgjN+zW3L.jpg due to feature extraction failure.\n",
      "2024-09-16 00:32:29,303 - WARNING - Error processing image /home/rguktrkvalley/Desktop/downloaded_images/51+oHGvSvuL.jpg: Image at /home/rguktrkvalley/Desktop/downloaded_images/51+oHGvSvuL.jpg could not be loaded.\n",
      "[ WARN:0@4160.842] global loadsave.cpp:241 findDecoder imread_('/home/rguktrkvalley/Desktop/downloaded_images/51+oHGvSvuL.jpg'): can't open/read file: check file path/integrity\n",
      "2024-09-16 00:32:29,304 - WARNING - Skipping image /home/rguktrkvalley/Desktop/downloaded_images/51+oHGvSvuL.jpg due to feature extraction failure.\n",
      "[ WARN:0@4160.846] global loadsave.cpp:241 findDecoder imread_('/home/rguktrkvalley/Desktop/downloaded_images/51+oHGvSvuL.jpg'): can't open/read file: check file path/integrity\n",
      "2024-09-16 00:32:29,306 - WARNING - Error processing image /home/rguktrkvalley/Desktop/downloaded_images/51+oHGvSvuL.jpg: Image at /home/rguktrkvalley/Desktop/downloaded_images/51+oHGvSvuL.jpg could not be loaded.\n",
      "2024-09-16 00:32:29,309 - WARNING - Skipping image /home/rguktrkvalley/Desktop/downloaded_images/51+oHGvSvuL.jpg due to feature extraction failure.\n",
      "[ WARN:0@4160.851] global loadsave.cpp:241 findDecoder imread_('/home/rguktrkvalley/Desktop/downloaded_images/51-WIOx5pxL.jpg'): can't open/read file: check file path/integrity\n",
      "2024-09-16 00:32:29,312 - WARNING - Error processing image /home/rguktrkvalley/Desktop/downloaded_images/51-WIOx5pxL.jpg: Image at /home/rguktrkvalley/Desktop/downloaded_images/51-WIOx5pxL.jpg could not be loaded.\n",
      "2024-09-16 00:32:29,313 - WARNING - Skipping image /home/rguktrkvalley/Desktop/downloaded_images/51-WIOx5pxL.jpg due to feature extraction failure.\n",
      "[ WARN:0@4160.855] global loadsave.cpp:241 findDecoder imread_('/home/rguktrkvalley/Desktop/downloaded_images/51-WIOx5pxL.jpg'): can't open/read file: check file path/integrity\n",
      "2024-09-16 00:32:29,315 - WARNING - Error processing image /home/rguktrkvalley/Desktop/downloaded_images/51-WIOx5pxL.jpg: Image at /home/rguktrkvalley/Desktop/downloaded_images/51-WIOx5pxL.jpg could not be loaded.\n",
      "2024-09-16 00:32:29,316 - WARNING - Skipping image /home/rguktrkvalley/Desktop/downloaded_images/51-WIOx5pxL.jpg due to feature extraction failure.\n",
      "[ WARN:0@4160.858] global loadsave.cpp:241 findDecoder imread_('/home/rguktrkvalley/Desktop/downloaded_images/510xYFNYQ8L.jpg'): can't open/read file: check file path/integrity\n",
      "2024-09-16 00:32:29,319 - WARNING - Error processing image /home/rguktrkvalley/Desktop/downloaded_images/510xYFNYQ8L.jpg: Image at /home/rguktrkvalley/Desktop/downloaded_images/510xYFNYQ8L.jpg could not be loaded.\n",
      "2024-09-16 00:32:29,320 - WARNING - Skipping image /home/rguktrkvalley/Desktop/downloaded_images/510xYFNYQ8L.jpg due to feature extraction failure.\n",
      "2024-09-16 00:32:29,323 - WARNING - Error processing image /home/rguktrkvalley/Desktop/downloaded_images/510xYFNYQ8L.jpg: Image at /home/rguktrkvalley/Desktop/downloaded_images/510xYFNYQ8L.jpg could not be loaded.\n",
      "[ WARN:0@4160.862] global loadsave.cpp:241 findDecoder imread_('/home/rguktrkvalley/Desktop/downloaded_images/510xYFNYQ8L.jpg'): can't open/read file: check file path/integrity\n",
      "2024-09-16 00:32:29,324 - WARNING - Skipping image /home/rguktrkvalley/Desktop/downloaded_images/510xYFNYQ8L.jpg due to feature extraction failure.\n",
      "[ WARN:0@4160.865] global loadsave.cpp:241 findDecoder imread_('/home/rguktrkvalley/Desktop/downloaded_images/510xYFNYQ8L.jpg'): can't open/read file: check file path/integrity\n",
      "2024-09-16 00:32:29,326 - WARNING - Error processing image /home/rguktrkvalley/Desktop/downloaded_images/510xYFNYQ8L.jpg: Image at /home/rguktrkvalley/Desktop/downloaded_images/510xYFNYQ8L.jpg could not be loaded.\n",
      "2024-09-16 00:32:29,327 - WARNING - Skipping image /home/rguktrkvalley/Desktop/downloaded_images/510xYFNYQ8L.jpg due to feature extraction failure.\n",
      "[ WARN:0@4160.869] global loadsave.cpp:241 findDecoder imread_('/home/rguktrkvalley/Desktop/downloaded_images/514bY8c4ZIL.jpg'): can't open/read file: check file path/integrity\n",
      "2024-09-16 00:32:29,330 - WARNING - Error processing image /home/rguktrkvalley/Desktop/downloaded_images/514bY8c4ZIL.jpg: Image at /home/rguktrkvalley/Desktop/downloaded_images/514bY8c4ZIL.jpg could not be loaded.\n",
      "2024-09-16 00:32:29,332 - WARNING - Skipping image /home/rguktrkvalley/Desktop/downloaded_images/514bY8c4ZIL.jpg due to feature extraction failure.\n",
      "[ WARN:0@4160.875] global loadsave.cpp:241 findDecoder imread_('/home/rguktrkvalley/Desktop/downloaded_images/514bY8c4ZIL.jpg'): can't open/read file: check file path/integrity\n",
      "2024-09-16 00:32:29,335 - WARNING - Error processing image /home/rguktrkvalley/Desktop/downloaded_images/514bY8c4ZIL.jpg: Image at /home/rguktrkvalley/Desktop/downloaded_images/514bY8c4ZIL.jpg could not be loaded.\n",
      "2024-09-16 00:32:29,337 - WARNING - Skipping image /home/rguktrkvalley/Desktop/downloaded_images/514bY8c4ZIL.jpg due to feature extraction failure.\n",
      "[ WARN:0@4160.879] global loadsave.cpp:241 findDecoder imread_('/home/rguktrkvalley/Desktop/downloaded_images/514pScQdlCL.jpg'): can't open/read file: check file path/integrity\n",
      "2024-09-16 00:32:29,340 - WARNING - Error processing image /home/rguktrkvalley/Desktop/downloaded_images/514pScQdlCL.jpg: Image at /home/rguktrkvalley/Desktop/downloaded_images/514pScQdlCL.jpg could not be loaded.\n",
      "2024-09-16 00:32:29,341 - WARNING - Skipping image /home/rguktrkvalley/Desktop/downloaded_images/514pScQdlCL.jpg due to feature extraction failure.\n",
      "[ WARN:0@4160.883] global loadsave.cpp:241 findDecoder imread_('/home/rguktrkvalley/Desktop/downloaded_images/514pScQdlCL.jpg'): can't open/read file: check file path/integrity\n",
      "2024-09-16 00:32:29,343 - WARNING - Error processing image /home/rguktrkvalley/Desktop/downloaded_images/514pScQdlCL.jpg: Image at /home/rguktrkvalley/Desktop/downloaded_images/514pScQdlCL.jpg could not be loaded.\n",
      "2024-09-16 00:32:29,344 - WARNING - Skipping image /home/rguktrkvalley/Desktop/downloaded_images/514pScQdlCL.jpg due to feature extraction failure.\n",
      "[ WARN:0@4160.886] global loadsave.cpp:241 findDecoder imread_('/home/rguktrkvalley/Desktop/downloaded_images/51BEuVR4ZzL.jpg'): can't open/read file: check file path/integrity\n",
      "2024-09-16 00:32:29,346 - WARNING - Error processing image /home/rguktrkvalley/Desktop/downloaded_images/51BEuVR4ZzL.jpg: Image at /home/rguktrkvalley/Desktop/downloaded_images/51BEuVR4ZzL.jpg could not be loaded.\n",
      "2024-09-16 00:32:29,348 - WARNING - Skipping image /home/rguktrkvalley/Desktop/downloaded_images/51BEuVR4ZzL.jpg due to feature extraction failure.\n",
      "[ WARN:0@4160.889] global loadsave.cpp:241 findDecoder imread_('/home/rguktrkvalley/Desktop/downloaded_images/51BEuVR4ZzL.jpg'): can't open/read file: check file path/integrity\n",
      "2024-09-16 00:32:29,350 - WARNING - Error processing image /home/rguktrkvalley/Desktop/downloaded_images/51BEuVR4ZzL.jpg: Image at /home/rguktrkvalley/Desktop/downloaded_images/51BEuVR4ZzL.jpg could not be loaded.\n",
      "2024-09-16 00:32:29,351 - WARNING - Skipping image /home/rguktrkvalley/Desktop/downloaded_images/51BEuVR4ZzL.jpg due to feature extraction failure.\n",
      "[ WARN:0@4160.893] global loadsave.cpp:241 findDecoder imread_('/home/rguktrkvalley/Desktop/downloaded_images/51EBBqNOJ1L.jpg'): can't open/read file: check file path/integrity\n",
      "2024-09-16 00:32:29,354 - WARNING - Error processing image /home/rguktrkvalley/Desktop/downloaded_images/51EBBqNOJ1L.jpg: Image at /home/rguktrkvalley/Desktop/downloaded_images/51EBBqNOJ1L.jpg could not be loaded.\n",
      "2024-09-16 00:32:29,355 - WARNING - Skipping image /home/rguktrkvalley/Desktop/downloaded_images/51EBBqNOJ1L.jpg due to feature extraction failure.\n",
      "[ WARN:0@4160.897] global loadsave.cpp:241 findDecoder imread_('/home/rguktrkvalley/Desktop/downloaded_images/51EBBqNOJ1L.jpg'): can't open/read file: check file path/integrity\n",
      "2024-09-16 00:32:29,357 - WARNING - Error processing image /home/rguktrkvalley/Desktop/downloaded_images/51EBBqNOJ1L.jpg: Image at /home/rguktrkvalley/Desktop/downloaded_images/51EBBqNOJ1L.jpg could not be loaded.\n",
      "2024-09-16 00:32:29,359 - WARNING - Skipping image /home/rguktrkvalley/Desktop/downloaded_images/51EBBqNOJ1L.jpg due to feature extraction failure.\n",
      "[ WARN:0@4160.901] global loadsave.cpp:241 findDecoder imread_('/home/rguktrkvalley/Desktop/downloaded_images/51EBBqNOJ1L.jpg'): can't open/read file: check file path/integrity\n",
      "2024-09-16 00:32:29,361 - WARNING - Error processing image /home/rguktrkvalley/Desktop/downloaded_images/51EBBqNOJ1L.jpg: Image at /home/rguktrkvalley/Desktop/downloaded_images/51EBBqNOJ1L.jpg could not be loaded.\n",
      "2024-09-16 00:32:29,362 - WARNING - Skipping image /home/rguktrkvalley/Desktop/downloaded_images/51EBBqNOJ1L.jpg due to feature extraction failure.\n",
      "[ WARN:0@4160.904] global loadsave.cpp:241 findDecoder imread_('/home/rguktrkvalley/Desktop/downloaded_images/51FSlaVlejL.jpg'): can't open/read file: check file path/integrity\n",
      "2024-09-16 00:32:29,364 - WARNING - Error processing image /home/rguktrkvalley/Desktop/downloaded_images/51FSlaVlejL.jpg: Image at /home/rguktrkvalley/Desktop/downloaded_images/51FSlaVlejL.jpg could not be loaded.\n",
      "2024-09-16 00:32:29,365 - WARNING - Skipping image /home/rguktrkvalley/Desktop/downloaded_images/51FSlaVlejL.jpg due to feature extraction failure.\n",
      "[ WARN:0@4160.907] global loadsave.cpp:241 findDecoder imread_('/home/rguktrkvalley/Desktop/downloaded_images/51H+mX2Wk7L.jpg'): can't open/read file: check file path/integrity\n",
      "2024-09-16 00:32:29,367 - WARNING - Error processing image /home/rguktrkvalley/Desktop/downloaded_images/51H+mX2Wk7L.jpg: Image at /home/rguktrkvalley/Desktop/downloaded_images/51H+mX2Wk7L.jpg could not be loaded.\n",
      "2024-09-16 00:32:29,382 - WARNING - Skipping image /home/rguktrkvalley/Desktop/downloaded_images/51H+mX2Wk7L.jpg due to feature extraction failure.\n",
      "2024-09-16 00:32:29,384 - WARNING - Error processing image /home/rguktrkvalley/Desktop/downloaded_images/51H+mX2Wk7L.jpg: Image at /home/rguktrkvalley/Desktop/downloaded_images/51H+mX2Wk7L.jpg could not be loaded.\n",
      "[ WARN:0@4160.925] global loadsave.cpp:241 findDecoder imread_('/home/rguktrkvalley/Desktop/downloaded_images/51H+mX2Wk7L.jpg'): can't open/read file: check file path/integrity\n",
      "2024-09-16 00:32:29,388 - WARNING - Skipping image /home/rguktrkvalley/Desktop/downloaded_images/51H+mX2Wk7L.jpg due to feature extraction failure.\n",
      "[ WARN:0@4160.931] global loadsave.cpp:241 findDecoder imread_('/home/rguktrkvalley/Desktop/downloaded_images/51KykmLgc0L.jpg'): can't open/read file: check file path/integrity\n",
      "2024-09-16 00:32:29,391 - WARNING - Error processing image /home/rguktrkvalley/Desktop/downloaded_images/51KykmLgc0L.jpg: Image at /home/rguktrkvalley/Desktop/downloaded_images/51KykmLgc0L.jpg could not be loaded.\n",
      "2024-09-16 00:32:29,394 - WARNING - Skipping image /home/rguktrkvalley/Desktop/downloaded_images/51KykmLgc0L.jpg due to feature extraction failure.\n",
      "[ WARN:0@4160.939] global loadsave.cpp:241 findDecoder imread_('/home/rguktrkvalley/Desktop/downloaded_images/51P0IuT6RsL.jpg'): can't open/read file: check file path/integrity\n",
      "2024-09-16 00:32:29,399 - WARNING - Error processing image /home/rguktrkvalley/Desktop/downloaded_images/51P0IuT6RsL.jpg: Image at /home/rguktrkvalley/Desktop/downloaded_images/51P0IuT6RsL.jpg could not be loaded.\n",
      "2024-09-16 00:32:29,401 - WARNING - Skipping image /home/rguktrkvalley/Desktop/downloaded_images/51P0IuT6RsL.jpg due to feature extraction failure.\n",
      "[ WARN:0@4160.943] global loadsave.cpp:241 findDecoder imread_('/home/rguktrkvalley/Desktop/downloaded_images/51Su6zXkAsL.jpg'): can't open/read file: check file path/integrity\n",
      "2024-09-16 00:32:29,404 - WARNING - Error processing image /home/rguktrkvalley/Desktop/downloaded_images/51Su6zXkAsL.jpg: Image at /home/rguktrkvalley/Desktop/downloaded_images/51Su6zXkAsL.jpg could not be loaded.\n",
      "2024-09-16 00:32:29,405 - WARNING - Skipping image /home/rguktrkvalley/Desktop/downloaded_images/51Su6zXkAsL.jpg due to feature extraction failure.\n",
      "[ WARN:0@4160.949] global loadsave.cpp:241 findDecoder imread_('/home/rguktrkvalley/Desktop/downloaded_images/51bEy0J5wLL.jpg'): can't open/read file: check file path/integrity\n",
      "2024-09-16 00:32:29,410 - WARNING - Error processing image /home/rguktrkvalley/Desktop/downloaded_images/51bEy0J5wLL.jpg: Image at /home/rguktrkvalley/Desktop/downloaded_images/51bEy0J5wLL.jpg could not be loaded.\n",
      "2024-09-16 00:32:29,411 - WARNING - Skipping image /home/rguktrkvalley/Desktop/downloaded_images/51bEy0J5wLL.jpg due to feature extraction failure.\n",
      "[ WARN:0@4160.953] global loadsave.cpp:241 findDecoder imread_('/home/rguktrkvalley/Desktop/downloaded_images/51cPZYLk2YL.jpg'): can't open/read file: check file path/integrity\n",
      "2024-09-16 00:32:29,414 - WARNING - Error processing image /home/rguktrkvalley/Desktop/downloaded_images/51cPZYLk2YL.jpg: Image at /home/rguktrkvalley/Desktop/downloaded_images/51cPZYLk2YL.jpg could not be loaded.\n",
      "2024-09-16 00:32:29,416 - WARNING - Skipping image /home/rguktrkvalley/Desktop/downloaded_images/51cPZYLk2YL.jpg due to feature extraction failure.\n",
      "[ WARN:0@4160.957] global loadsave.cpp:241 findDecoder imread_('/home/rguktrkvalley/Desktop/downloaded_images/51fAzxNm+cL.jpg'): can't open/read file: check file path/integrity\n",
      "2024-09-16 00:32:29,418 - WARNING - Error processing image /home/rguktrkvalley/Desktop/downloaded_images/51fAzxNm+cL.jpg: Image at /home/rguktrkvalley/Desktop/downloaded_images/51fAzxNm+cL.jpg could not be loaded.\n",
      "2024-09-16 00:32:29,419 - WARNING - Skipping image /home/rguktrkvalley/Desktop/downloaded_images/51fAzxNm+cL.jpg due to feature extraction failure.\n",
      "[ WARN:0@4160.961] global loadsave.cpp:241 findDecoder imread_('/home/rguktrkvalley/Desktop/downloaded_images/51fAzxNm+cL.jpg'): can't open/read file: check file path/integrity\n",
      "2024-09-16 00:32:29,421 - WARNING - Error processing image /home/rguktrkvalley/Desktop/downloaded_images/51fAzxNm+cL.jpg: Image at /home/rguktrkvalley/Desktop/downloaded_images/51fAzxNm+cL.jpg could not be loaded.\n",
      "2024-09-16 00:32:29,423 - WARNING - Skipping image /home/rguktrkvalley/Desktop/downloaded_images/51fAzxNm+cL.jpg due to feature extraction failure.\n",
      "[ WARN:0@4160.965] global loadsave.cpp:241 findDecoder imread_('/home/rguktrkvalley/Desktop/downloaded_images/51fAzxNm+cL.jpg'): can't open/read file: check file path/integrity\n",
      "2024-09-16 00:32:29,425 - WARNING - Error processing image /home/rguktrkvalley/Desktop/downloaded_images/51fAzxNm+cL.jpg: Image at /home/rguktrkvalley/Desktop/downloaded_images/51fAzxNm+cL.jpg could not be loaded.\n",
      "2024-09-16 00:32:29,427 - WARNING - Skipping image /home/rguktrkvalley/Desktop/downloaded_images/51fAzxNm+cL.jpg due to feature extraction failure.\n",
      "[ WARN:0@4160.969] global loadsave.cpp:241 findDecoder imread_('/home/rguktrkvalley/Desktop/downloaded_images/51jTe522S2L.jpg'): can't open/read file: check file path/integrity\n",
      "2024-09-16 00:32:29,429 - WARNING - Error processing image /home/rguktrkvalley/Desktop/downloaded_images/51jTe522S2L.jpg: Image at /home/rguktrkvalley/Desktop/downloaded_images/51jTe522S2L.jpg could not be loaded.\n",
      "2024-09-16 00:32:29,430 - WARNING - Skipping image /home/rguktrkvalley/Desktop/downloaded_images/51jTe522S2L.jpg due to feature extraction failure.\n",
      "2024-09-16 00:32:29,432 - WARNING - Error processing image /home/rguktrkvalley/Desktop/downloaded_images/51kdBAv6ImL.jpg: Image at /home/rguktrkvalley/Desktop/downloaded_images/51kdBAv6ImL.jpg could not be loaded.\n",
      "[ WARN:0@4160.972] global loadsave.cpp:241 findDecoder imread_('/home/rguktrkvalley/Desktop/downloaded_images/51kdBAv6ImL.jpg'): can't open/read file: check file path/integrity\n",
      "2024-09-16 00:32:29,434 - WARNING - Skipping image /home/rguktrkvalley/Desktop/downloaded_images/51kdBAv6ImL.jpg due to feature extraction failure.\n",
      "[ WARN:0@4160.977] global loadsave.cpp:241 findDecoder imread_('/home/rguktrkvalley/Desktop/downloaded_images/51kdBAv6ImL.jpg'): can't open/read file: check file path/integrity\n",
      "2024-09-16 00:32:29,437 - WARNING - Error processing image /home/rguktrkvalley/Desktop/downloaded_images/51kdBAv6ImL.jpg: Image at /home/rguktrkvalley/Desktop/downloaded_images/51kdBAv6ImL.jpg could not be loaded.\n",
      "2024-09-16 00:32:29,439 - WARNING - Skipping image /home/rguktrkvalley/Desktop/downloaded_images/51kdBAv6ImL.jpg due to feature extraction failure.\n",
      "[ WARN:0@4160.981] global loadsave.cpp:241 findDecoder imread_('/home/rguktrkvalley/Desktop/downloaded_images/51l6c6UcRZL.jpg'): can't open/read file: check file path/integrity\n",
      "2024-09-16 00:32:29,442 - WARNING - Error processing image /home/rguktrkvalley/Desktop/downloaded_images/51l6c6UcRZL.jpg: Image at /home/rguktrkvalley/Desktop/downloaded_images/51l6c6UcRZL.jpg could not be loaded.\n",
      "2024-09-16 00:32:29,443 - WARNING - Skipping image /home/rguktrkvalley/Desktop/downloaded_images/51l6c6UcRZL.jpg due to feature extraction failure.\n",
      "[ WARN:0@4160.986] global loadsave.cpp:241 findDecoder imread_('/home/rguktrkvalley/Desktop/downloaded_images/51oaOP8qJlL.jpg'): can't open/read file: check file path/integrity\n",
      "2024-09-16 00:32:29,446 - WARNING - Error processing image /home/rguktrkvalley/Desktop/downloaded_images/51oaOP8qJlL.jpg: Image at /home/rguktrkvalley/Desktop/downloaded_images/51oaOP8qJlL.jpg could not be loaded.\n",
      "2024-09-16 00:32:29,447 - WARNING - Skipping image /home/rguktrkvalley/Desktop/downloaded_images/51oaOP8qJlL.jpg due to feature extraction failure.\n",
      "2024-09-16 00:32:29,449 - WARNING - Error processing image /home/rguktrkvalley/Desktop/downloaded_images/51oaOP8qJlL.jpg: Image at /home/rguktrkvalley/Desktop/downloaded_images/51oaOP8qJlL.jpg could not be loaded.\n",
      "[ WARN:0@4160.989] global loadsave.cpp:241 findDecoder imread_('/home/rguktrkvalley/Desktop/downloaded_images/51oaOP8qJlL.jpg'): can't open/read file: check file path/integrity\n",
      "2024-09-16 00:32:29,451 - WARNING - Skipping image /home/rguktrkvalley/Desktop/downloaded_images/51oaOP8qJlL.jpg due to feature extraction failure.\n",
      "[ WARN:0@4160.993] global loadsave.cpp:241 findDecoder imread_('/home/rguktrkvalley/Desktop/downloaded_images/51r7U52rh7L.jpg'): can't open/read file: check file path/integrity\n",
      "2024-09-16 00:32:29,454 - WARNING - Error processing image /home/rguktrkvalley/Desktop/downloaded_images/51r7U52rh7L.jpg: Image at /home/rguktrkvalley/Desktop/downloaded_images/51r7U52rh7L.jpg could not be loaded.\n",
      "2024-09-16 00:32:29,455 - WARNING - Skipping image /home/rguktrkvalley/Desktop/downloaded_images/51r7U52rh7L.jpg due to feature extraction failure.\n",
      "2024-09-16 00:32:29,457 - WARNING - Error processing image /home/rguktrkvalley/Desktop/downloaded_images/51r7U52rh7L.jpg: Image at /home/rguktrkvalley/Desktop/downloaded_images/51r7U52rh7L.jpg could not be loaded.\n",
      "[ WARN:0@4160.997] global loadsave.cpp:241 findDecoder imread_('/home/rguktrkvalley/Desktop/downloaded_images/51r7U52rh7L.jpg'): can't open/read file: check file path/integrity\n",
      "2024-09-16 00:32:29,459 - WARNING - Skipping image /home/rguktrkvalley/Desktop/downloaded_images/51r7U52rh7L.jpg due to feature extraction failure.\n",
      "[ WARN:0@4161.001] global loadsave.cpp:241 findDecoder imread_('/home/rguktrkvalley/Desktop/downloaded_images/51r7U52rh7L.jpg'): can't open/read file: check file path/integrity\n",
      "2024-09-16 00:32:29,461 - WARNING - Error processing image /home/rguktrkvalley/Desktop/downloaded_images/51r7U52rh7L.jpg: Image at /home/rguktrkvalley/Desktop/downloaded_images/51r7U52rh7L.jpg could not be loaded.\n",
      "2024-09-16 00:32:29,462 - WARNING - Skipping image /home/rguktrkvalley/Desktop/downloaded_images/51r7U52rh7L.jpg due to feature extraction failure.\n",
      "2024-09-16 00:32:29,465 - WARNING - Error processing image /home/rguktrkvalley/Desktop/downloaded_images/51tEop-EBJL.jpg: Image at /home/rguktrkvalley/Desktop/downloaded_images/51tEop-EBJL.jpg could not be loaded.\n",
      "[ WARN:0@4161.005] global loadsave.cpp:241 findDecoder imread_('/home/rguktrkvalley/Desktop/downloaded_images/51tEop-EBJL.jpg'): can't open/read file: check file path/integrity\n",
      "2024-09-16 00:32:29,466 - WARNING - Skipping image /home/rguktrkvalley/Desktop/downloaded_images/51tEop-EBJL.jpg due to feature extraction failure.\n",
      "[ WARN:0@4161.009] global loadsave.cpp:241 findDecoder imread_('/home/rguktrkvalley/Desktop/downloaded_images/51vwYpDz2tL.jpg'): can't open/read file: check file path/integrity\n",
      "2024-09-16 00:32:29,469 - WARNING - Error processing image /home/rguktrkvalley/Desktop/downloaded_images/51vwYpDz2tL.jpg: Image at /home/rguktrkvalley/Desktop/downloaded_images/51vwYpDz2tL.jpg could not be loaded.\n",
      "2024-09-16 00:32:29,470 - WARNING - Skipping image /home/rguktrkvalley/Desktop/downloaded_images/51vwYpDz2tL.jpg due to feature extraction failure.\n",
      "[ WARN:0@4161.013] global loadsave.cpp:241 findDecoder imread_('/home/rguktrkvalley/Desktop/downloaded_images/51y79cwGJFL.jpg'): can't open/read file: check file path/integrity\n",
      "2024-09-16 00:32:29,474 - WARNING - Error processing image /home/rguktrkvalley/Desktop/downloaded_images/51y79cwGJFL.jpg: Image at /home/rguktrkvalley/Desktop/downloaded_images/51y79cwGJFL.jpg could not be loaded.\n",
      "2024-09-16 00:32:29,475 - WARNING - Skipping image /home/rguktrkvalley/Desktop/downloaded_images/51y79cwGJFL.jpg due to feature extraction failure.\n",
      "[ WARN:0@4161.017] global loadsave.cpp:241 findDecoder imread_('/home/rguktrkvalley/Desktop/downloaded_images/51y79cwGJFL.jpg'): can't open/read file: check file path/integrity\n",
      "2024-09-16 00:32:29,478 - WARNING - Error processing image /home/rguktrkvalley/Desktop/downloaded_images/51y79cwGJFL.jpg: Image at /home/rguktrkvalley/Desktop/downloaded_images/51y79cwGJFL.jpg could not be loaded.\n",
      "2024-09-16 00:32:29,479 - WARNING - Skipping image /home/rguktrkvalley/Desktop/downloaded_images/51y79cwGJFL.jpg due to feature extraction failure.\n",
      "2024-09-16 00:32:29,481 - WARNING - Error processing image /home/rguktrkvalley/Desktop/downloaded_images/51y79cwGJFL.jpg: Image at /home/rguktrkvalley/Desktop/downloaded_images/51y79cwGJFL.jpg could not be loaded.\n",
      "[ WARN:0@4161.021] global loadsave.cpp:241 findDecoder imread_('/home/rguktrkvalley/Desktop/downloaded_images/51y79cwGJFL.jpg'): can't open/read file: check file path/integrity\n",
      "2024-09-16 00:32:29,483 - WARNING - Skipping image /home/rguktrkvalley/Desktop/downloaded_images/51y79cwGJFL.jpg due to feature extraction failure.\n",
      "[ WARN:0@4161.026] global loadsave.cpp:241 findDecoder imread_('/home/rguktrkvalley/Desktop/downloaded_images/613P5cxQH4L.jpg'): can't open/read file: check file path/integrity\n",
      "2024-09-16 00:32:29,487 - WARNING - Error processing image /home/rguktrkvalley/Desktop/downloaded_images/613P5cxQH4L.jpg: Image at /home/rguktrkvalley/Desktop/downloaded_images/613P5cxQH4L.jpg could not be loaded.\n",
      "2024-09-16 00:32:29,488 - WARNING - Skipping image /home/rguktrkvalley/Desktop/downloaded_images/613P5cxQH4L.jpg due to feature extraction failure.\n",
      "2024-09-16 00:32:29,490 - WARNING - Error processing image /home/rguktrkvalley/Desktop/downloaded_images/613P5cxQH4L.jpg: Image at /home/rguktrkvalley/Desktop/downloaded_images/613P5cxQH4L.jpg could not be loaded.\n",
      "[ WARN:0@4161.030] global loadsave.cpp:241 findDecoder imread_('/home/rguktrkvalley/Desktop/downloaded_images/613P5cxQH4L.jpg'): can't open/read file: check file path/integrity\n",
      "2024-09-16 00:32:29,491 - WARNING - Skipping image /home/rguktrkvalley/Desktop/downloaded_images/613P5cxQH4L.jpg due to feature extraction failure.\n",
      "[ WARN:0@4161.034] global loadsave.cpp:241 findDecoder imread_('/home/rguktrkvalley/Desktop/downloaded_images/614hn5uX9MS.jpg'): can't open/read file: check file path/integrity\n",
      "2024-09-16 00:32:29,494 - WARNING - Error processing image /home/rguktrkvalley/Desktop/downloaded_images/614hn5uX9MS.jpg: Image at /home/rguktrkvalley/Desktop/downloaded_images/614hn5uX9MS.jpg could not be loaded.\n",
      "2024-09-16 00:32:29,496 - WARNING - Skipping image /home/rguktrkvalley/Desktop/downloaded_images/614hn5uX9MS.jpg due to feature extraction failure.\n",
      "[ WARN:0@4161.038] global loadsave.cpp:241 findDecoder imread_('/home/rguktrkvalley/Desktop/downloaded_images/615Cjzm6pyL.jpg'): can't open/read file: check file path/integrity\n",
      "2024-09-16 00:32:29,498 - WARNING - Error processing image /home/rguktrkvalley/Desktop/downloaded_images/615Cjzm6pyL.jpg: Image at /home/rguktrkvalley/Desktop/downloaded_images/615Cjzm6pyL.jpg could not be loaded.\n",
      "2024-09-16 00:32:29,500 - WARNING - Skipping image /home/rguktrkvalley/Desktop/downloaded_images/615Cjzm6pyL.jpg due to feature extraction failure.\n",
      "[ WARN:0@4161.042] global loadsave.cpp:241 findDecoder imread_('/home/rguktrkvalley/Desktop/downloaded_images/615Cjzm6pyL.jpg'): can't open/read file: check file path/integrity\n",
      "2024-09-16 00:32:29,504 - WARNING - Error processing image /home/rguktrkvalley/Desktop/downloaded_images/615Cjzm6pyL.jpg: Image at /home/rguktrkvalley/Desktop/downloaded_images/615Cjzm6pyL.jpg could not be loaded.\n",
      "2024-09-16 00:32:29,505 - WARNING - Skipping image /home/rguktrkvalley/Desktop/downloaded_images/615Cjzm6pyL.jpg due to feature extraction failure.\n",
      "[ WARN:0@4161.049] global loadsave.cpp:241 findDecoder imread_('/home/rguktrkvalley/Desktop/downloaded_images/61C+fwVD6dL.jpg'): can't open/read file: check file path/integrity\n",
      "2024-09-16 00:32:29,509 - WARNING - Error processing image /home/rguktrkvalley/Desktop/downloaded_images/61C+fwVD6dL.jpg: Image at /home/rguktrkvalley/Desktop/downloaded_images/61C+fwVD6dL.jpg could not be loaded.\n",
      "2024-09-16 00:32:29,510 - WARNING - Skipping image /home/rguktrkvalley/Desktop/downloaded_images/61C+fwVD6dL.jpg due to feature extraction failure.\n",
      "[ WARN:0@4161.052] global loadsave.cpp:241 findDecoder imread_('/home/rguktrkvalley/Desktop/downloaded_images/61E2XRNSdYL.jpg'): can't open/read file: check file path/integrity\n",
      "2024-09-16 00:32:29,513 - WARNING - Error processing image /home/rguktrkvalley/Desktop/downloaded_images/61E2XRNSdYL.jpg: Image at /home/rguktrkvalley/Desktop/downloaded_images/61E2XRNSdYL.jpg could not be loaded.\n",
      "2024-09-16 00:32:29,514 - WARNING - Skipping image /home/rguktrkvalley/Desktop/downloaded_images/61E2XRNSdYL.jpg due to feature extraction failure.\n",
      "2024-09-16 00:32:29,517 - WARNING - Error processing image /home/rguktrkvalley/Desktop/downloaded_images/61G8bvWOb-L.jpg: Image at /home/rguktrkvalley/Desktop/downloaded_images/61G8bvWOb-L.jpg could not be loaded.\n",
      "[ WARN:0@4161.057] global loadsave.cpp:241 findDecoder imread_('/home/rguktrkvalley/Desktop/downloaded_images/61G8bvWOb-L.jpg'): can't open/read file: check file path/integrity\n",
      "2024-09-16 00:32:29,518 - WARNING - Skipping image /home/rguktrkvalley/Desktop/downloaded_images/61G8bvWOb-L.jpg due to feature extraction failure.\n",
      "[ WARN:0@4161.060] global loadsave.cpp:241 findDecoder imread_('/home/rguktrkvalley/Desktop/downloaded_images/61G8bvWOb-L.jpg'): can't open/read file: check file path/integrity\n",
      "2024-09-16 00:32:29,520 - WARNING - Error processing image /home/rguktrkvalley/Desktop/downloaded_images/61G8bvWOb-L.jpg: Image at /home/rguktrkvalley/Desktop/downloaded_images/61G8bvWOb-L.jpg could not be loaded.\n",
      "2024-09-16 00:32:29,522 - WARNING - Skipping image /home/rguktrkvalley/Desktop/downloaded_images/61G8bvWOb-L.jpg due to feature extraction failure.\n",
      "2024-09-16 00:32:29,524 - WARNING - Error processing image /home/rguktrkvalley/Desktop/downloaded_images/61O+Yi09tyL.jpg: Image at /home/rguktrkvalley/Desktop/downloaded_images/61O+Yi09tyL.jpg could not be loaded.\n",
      "[ WARN:0@4161.064] global loadsave.cpp:241 findDecoder imread_('/home/rguktrkvalley/Desktop/downloaded_images/61O+Yi09tyL.jpg'): can't open/read file: check file path/integrity\n",
      "2024-09-16 00:32:29,525 - WARNING - Skipping image /home/rguktrkvalley/Desktop/downloaded_images/61O+Yi09tyL.jpg due to feature extraction failure.\n",
      "2024-09-16 00:32:29,527 - WARNING - Error processing image /home/rguktrkvalley/Desktop/downloaded_images/61lX6IP1SVL.jpg: Image at /home/rguktrkvalley/Desktop/downloaded_images/61lX6IP1SVL.jpg could not be loaded.\n",
      "[ WARN:0@4161.067] global loadsave.cpp:241 findDecoder imread_('/home/rguktrkvalley/Desktop/downloaded_images/61lX6IP1SVL.jpg'): can't open/read file: check file path/integrity\n",
      "2024-09-16 00:32:29,528 - WARNING - Skipping image /home/rguktrkvalley/Desktop/downloaded_images/61lX6IP1SVL.jpg due to feature extraction failure.\n",
      "[ WARN:0@4161.070] global loadsave.cpp:241 findDecoder imread_('/home/rguktrkvalley/Desktop/downloaded_images/71Qk6hR9-WL.jpg'): can't open/read file: check file path/integrity\n",
      "2024-09-16 00:32:29,532 - WARNING - Error processing image /home/rguktrkvalley/Desktop/downloaded_images/71Qk6hR9-WL.jpg: Image at /home/rguktrkvalley/Desktop/downloaded_images/71Qk6hR9-WL.jpg could not be loaded.\n",
      "2024-09-16 00:32:29,534 - WARNING - Skipping image /home/rguktrkvalley/Desktop/downloaded_images/71Qk6hR9-WL.jpg due to feature extraction failure.\n",
      "[ WARN:0@4161.076] global loadsave.cpp:241 findDecoder imread_('/home/rguktrkvalley/Desktop/downloaded_images/71Qk6hR9-WL.jpg'): can't open/read file: check file path/integrity\n",
      "2024-09-16 00:32:29,536 - WARNING - Error processing image /home/rguktrkvalley/Desktop/downloaded_images/71Qk6hR9-WL.jpg: Image at /home/rguktrkvalley/Desktop/downloaded_images/71Qk6hR9-WL.jpg could not be loaded.\n",
      "2024-09-16 00:32:29,539 - WARNING - Skipping image /home/rguktrkvalley/Desktop/downloaded_images/71Qk6hR9-WL.jpg due to feature extraction failure.\n",
      "[ WARN:0@4161.081] global loadsave.cpp:241 findDecoder imread_('/home/rguktrkvalley/Desktop/downloaded_images/71UN1IxKp4L.jpg'): can't open/read file: check file path/integrity\n",
      "2024-09-16 00:32:29,541 - WARNING - Error processing image /home/rguktrkvalley/Desktop/downloaded_images/71UN1IxKp4L.jpg: Image at /home/rguktrkvalley/Desktop/downloaded_images/71UN1IxKp4L.jpg could not be loaded.\n",
      "2024-09-16 00:32:29,544 - WARNING - Skipping image /home/rguktrkvalley/Desktop/downloaded_images/71UN1IxKp4L.jpg due to feature extraction failure.\n",
      "[ WARN:0@4161.086] global loadsave.cpp:241 findDecoder imread_('/home/rguktrkvalley/Desktop/downloaded_images/71UN1IxKp4L.jpg'): can't open/read file: check file path/integrity\n",
      "2024-09-16 00:32:29,546 - WARNING - Error processing image /home/rguktrkvalley/Desktop/downloaded_images/71UN1IxKp4L.jpg: Image at /home/rguktrkvalley/Desktop/downloaded_images/71UN1IxKp4L.jpg could not be loaded.\n",
      "2024-09-16 00:32:29,547 - WARNING - Skipping image /home/rguktrkvalley/Desktop/downloaded_images/71UN1IxKp4L.jpg due to feature extraction failure.\n",
      "[ WARN:0@4161.089] global loadsave.cpp:241 findDecoder imread_('/home/rguktrkvalley/Desktop/downloaded_images/71UYDq4nfnL.jpg'): can't open/read file: check file path/integrity\n",
      "2024-09-16 00:32:29,550 - WARNING - Error processing image /home/rguktrkvalley/Desktop/downloaded_images/71UYDq4nfnL.jpg: Image at /home/rguktrkvalley/Desktop/downloaded_images/71UYDq4nfnL.jpg could not be loaded.\n",
      "2024-09-16 00:32:29,551 - WARNING - Skipping image /home/rguktrkvalley/Desktop/downloaded_images/71UYDq4nfnL.jpg due to feature extraction failure.\n",
      "2024-09-16 00:32:29,554 - WARNING - Error processing image /home/rguktrkvalley/Desktop/downloaded_images/71UYDq4nfnL.jpg: Image at /home/rguktrkvalley/Desktop/downloaded_images/71UYDq4nfnL.jpg could not be loaded.\n",
      "[ WARN:0@4161.093] global loadsave.cpp:241 findDecoder imread_('/home/rguktrkvalley/Desktop/downloaded_images/71UYDq4nfnL.jpg'): can't open/read file: check file path/integrity\n",
      "2024-09-16 00:32:29,556 - WARNING - Skipping image /home/rguktrkvalley/Desktop/downloaded_images/71UYDq4nfnL.jpg due to feature extraction failure.\n",
      "[ WARN:0@4161.098] global loadsave.cpp:241 findDecoder imread_('/home/rguktrkvalley/Desktop/downloaded_images/71WAjPMQDWL.jpg'): can't open/read file: check file path/integrity\n",
      "2024-09-16 00:32:29,559 - WARNING - Error processing image /home/rguktrkvalley/Desktop/downloaded_images/71WAjPMQDWL.jpg: Image at /home/rguktrkvalley/Desktop/downloaded_images/71WAjPMQDWL.jpg could not be loaded.\n",
      "2024-09-16 00:32:29,560 - WARNING - Skipping image /home/rguktrkvalley/Desktop/downloaded_images/71WAjPMQDWL.jpg due to feature extraction failure.\n",
      "[ WARN:0@4161.102] global loadsave.cpp:241 findDecoder imread_('/home/rguktrkvalley/Desktop/downloaded_images/71WAjPMQDWL.jpg'): can't open/read file: check file path/integrity\n",
      "2024-09-16 00:32:29,563 - WARNING - Error processing image /home/rguktrkvalley/Desktop/downloaded_images/71WAjPMQDWL.jpg: Image at /home/rguktrkvalley/Desktop/downloaded_images/71WAjPMQDWL.jpg could not be loaded.\n",
      "2024-09-16 00:32:29,564 - WARNING - Skipping image /home/rguktrkvalley/Desktop/downloaded_images/71WAjPMQDWL.jpg due to feature extraction failure.\n",
      "2024-09-16 00:32:29,566 - WARNING - Error processing image /home/rguktrkvalley/Desktop/downloaded_images/71afEPoRGsL.jpg: Image at /home/rguktrkvalley/Desktop/downloaded_images/71afEPoRGsL.jpg could not be loaded.\n",
      "[ WARN:0@4161.106] global loadsave.cpp:241 findDecoder imread_('/home/rguktrkvalley/Desktop/downloaded_images/71afEPoRGsL.jpg'): can't open/read file: check file path/integrity\n",
      "2024-09-16 00:32:29,568 - WARNING - Skipping image /home/rguktrkvalley/Desktop/downloaded_images/71afEPoRGsL.jpg due to feature extraction failure.\n",
      "[ WARN:0@4161.109] global loadsave.cpp:241 findDecoder imread_('/home/rguktrkvalley/Desktop/downloaded_images/71afEPoRGsL.jpg'): can't open/read file: check file path/integrity\n",
      "2024-09-16 00:32:29,570 - WARNING - Error processing image /home/rguktrkvalley/Desktop/downloaded_images/71afEPoRGsL.jpg: Image at /home/rguktrkvalley/Desktop/downloaded_images/71afEPoRGsL.jpg could not be loaded.\n",
      "2024-09-16 00:32:29,571 - WARNING - Skipping image /home/rguktrkvalley/Desktop/downloaded_images/71afEPoRGsL.jpg due to feature extraction failure.\n",
      "[ WARN:0@4161.113] global loadsave.cpp:241 findDecoder imread_('/home/rguktrkvalley/Desktop/downloaded_images/71eCfiIG-AL.jpg'): can't open/read file: check file path/integrity\n",
      "2024-09-16 00:32:29,574 - WARNING - Error processing image /home/rguktrkvalley/Desktop/downloaded_images/71eCfiIG-AL.jpg: Image at /home/rguktrkvalley/Desktop/downloaded_images/71eCfiIG-AL.jpg could not be loaded.\n",
      "2024-09-16 00:32:29,575 - WARNING - Skipping image /home/rguktrkvalley/Desktop/downloaded_images/71eCfiIG-AL.jpg due to feature extraction failure.\n",
      "[ WARN:0@4161.118] global loadsave.cpp:241 findDecoder imread_('/home/rguktrkvalley/Desktop/downloaded_images/71fWddA0+yL.jpg'): can't open/read file: check file path/integrity\n",
      "2024-09-16 00:32:29,578 - WARNING - Error processing image /home/rguktrkvalley/Desktop/downloaded_images/71fWddA0+yL.jpg: Image at /home/rguktrkvalley/Desktop/downloaded_images/71fWddA0+yL.jpg could not be loaded.\n",
      "2024-09-16 00:32:29,579 - WARNING - Skipping image /home/rguktrkvalley/Desktop/downloaded_images/71fWddA0+yL.jpg due to feature extraction failure.\n",
      "[ WARN:0@4161.121] global loadsave.cpp:241 findDecoder imread_('/home/rguktrkvalley/Desktop/downloaded_images/71ta6wY3HtL.jpg'): can't open/read file: check file path/integrity\n",
      "2024-09-16 00:32:29,581 - WARNING - Error processing image /home/rguktrkvalley/Desktop/downloaded_images/71ta6wY3HtL.jpg: Image at /home/rguktrkvalley/Desktop/downloaded_images/71ta6wY3HtL.jpg could not be loaded.\n",
      "2024-09-16 00:32:29,583 - WARNING - Skipping image /home/rguktrkvalley/Desktop/downloaded_images/71ta6wY3HtL.jpg due to feature extraction failure.\n",
      "[ WARN:0@4161.125] global loadsave.cpp:241 findDecoder imread_('/home/rguktrkvalley/Desktop/downloaded_images/71ta6wY3HtL.jpg'): can't open/read file: check file path/integrity\n",
      "2024-09-16 00:32:29,586 - WARNING - Error processing image /home/rguktrkvalley/Desktop/downloaded_images/71ta6wY3HtL.jpg: Image at /home/rguktrkvalley/Desktop/downloaded_images/71ta6wY3HtL.jpg could not be loaded.\n",
      "2024-09-16 00:32:29,588 - WARNING - Skipping image /home/rguktrkvalley/Desktop/downloaded_images/71ta6wY3HtL.jpg due to feature extraction failure.\n",
      "[ WARN:0@4161.132] global loadsave.cpp:241 findDecoder imread_('/home/rguktrkvalley/Desktop/downloaded_images/71v+pim0lfL.jpg'): can't open/read file: check file path/integrity\n",
      "2024-09-16 00:32:29,592 - WARNING - Error processing image /home/rguktrkvalley/Desktop/downloaded_images/71v+pim0lfL.jpg: Image at /home/rguktrkvalley/Desktop/downloaded_images/71v+pim0lfL.jpg could not be loaded.\n",
      "2024-09-16 00:32:29,594 - WARNING - Skipping image /home/rguktrkvalley/Desktop/downloaded_images/71v+pim0lfL.jpg due to feature extraction failure.\n",
      "[ WARN:0@4161.136] global loadsave.cpp:241 findDecoder imread_('/home/rguktrkvalley/Desktop/downloaded_images/71v+pim0lfL.jpg'): can't open/read file: check file path/integrity\n",
      "2024-09-16 00:32:29,596 - WARNING - Error processing image /home/rguktrkvalley/Desktop/downloaded_images/71v+pim0lfL.jpg: Image at /home/rguktrkvalley/Desktop/downloaded_images/71v+pim0lfL.jpg could not be loaded.\n",
      "2024-09-16 00:32:29,597 - WARNING - Skipping image /home/rguktrkvalley/Desktop/downloaded_images/71v+pim0lfL.jpg due to feature extraction failure.\n",
      "[ WARN:0@4161.139] global loadsave.cpp:241 findDecoder imread_('/home/rguktrkvalley/Desktop/downloaded_images/81IYdOV0mVL.jpg'): can't open/read file: check file path/integrity\n",
      "2024-09-16 00:32:29,599 - WARNING - Error processing image /home/rguktrkvalley/Desktop/downloaded_images/81IYdOV0mVL.jpg: Image at /home/rguktrkvalley/Desktop/downloaded_images/81IYdOV0mVL.jpg could not be loaded.\n",
      "2024-09-16 00:32:29,600 - WARNING - Skipping image /home/rguktrkvalley/Desktop/downloaded_images/81IYdOV0mVL.jpg due to feature extraction failure.\n",
      "[ WARN:0@4161.143] global loadsave.cpp:241 findDecoder imread_('/home/rguktrkvalley/Desktop/downloaded_images/81PG3ea0MOL.jpg'): can't open/read file: check file path/integrity\n",
      "2024-09-16 00:32:29,604 - WARNING - Error processing image /home/rguktrkvalley/Desktop/downloaded_images/81PG3ea0MOL.jpg: Image at /home/rguktrkvalley/Desktop/downloaded_images/81PG3ea0MOL.jpg could not be loaded.\n",
      "2024-09-16 00:32:29,605 - WARNING - Skipping image /home/rguktrkvalley/Desktop/downloaded_images/81PG3ea0MOL.jpg due to feature extraction failure.\n",
      "[ WARN:0@4161.147] global loadsave.cpp:241 findDecoder imread_('/home/rguktrkvalley/Desktop/downloaded_images/81aZ2ozp1GL.jpg'): can't open/read file: check file path/integrity\n",
      "2024-09-16 00:32:29,610 - WARNING - Error processing image /home/rguktrkvalley/Desktop/downloaded_images/81aZ2ozp1GL.jpg: Image at /home/rguktrkvalley/Desktop/downloaded_images/81aZ2ozp1GL.jpg could not be loaded.\n",
      "2024-09-16 00:32:29,611 - WARNING - Skipping image /home/rguktrkvalley/Desktop/downloaded_images/81aZ2ozp1GL.jpg due to feature extraction failure.\n",
      "[ WARN:0@4161.153] global loadsave.cpp:241 findDecoder imread_('/home/rguktrkvalley/Desktop/downloaded_images/81qUmRUUTTL.jpg'): can't open/read file: check file path/integrity\n",
      "2024-09-16 00:32:29,614 - WARNING - Error processing image /home/rguktrkvalley/Desktop/downloaded_images/81qUmRUUTTL.jpg: Image at /home/rguktrkvalley/Desktop/downloaded_images/81qUmRUUTTL.jpg could not be loaded.\n",
      "2024-09-16 00:32:29,614 - WARNING - Skipping image /home/rguktrkvalley/Desktop/downloaded_images/81qUmRUUTTL.jpg due to feature extraction failure.\n",
      "[ WARN:0@4161.156] global loadsave.cpp:241 findDecoder imread_('/home/rguktrkvalley/Desktop/downloaded_images/81qUmRUUTTL.jpg'): can't open/read file: check file path/integrity\n",
      "2024-09-16 00:32:29,617 - WARNING - Error processing image /home/rguktrkvalley/Desktop/downloaded_images/81qUmRUUTTL.jpg: Image at /home/rguktrkvalley/Desktop/downloaded_images/81qUmRUUTTL.jpg could not be loaded.\n",
      "2024-09-16 00:32:29,619 - WARNING - Skipping image /home/rguktrkvalley/Desktop/downloaded_images/81qUmRUUTTL.jpg due to feature extraction failure.\n",
      "2024-09-16 00:32:29,620 - ERROR - No valid data for predictions.\n"
     ]
    }
   ],
   "source": [
    "import pandas as pd\n",
    "import pytesseract\n",
    "import cv2\n",
    "from tensorflow.keras.applications import EfficientNetB0\n",
    "from sklearn.linear_model import LinearRegression\n",
    "import os\n",
    "import re\n",
    "import logging\n",
    "from PIL import Image\n",
    "from utils import download_images\n",
    "from constants import allowed_units\n",
    "\n",
    "# Set up logging\n",
    "logging.basicConfig(level=logging.DEBUG, format='%(asctime)s - %(levelname)s - %(message)s')\n",
    "\n",
    "def check_and_repair_images(image_dir):\n",
    "    \"\"\"\n",
    "    Check and repair corrupted images in the specified directory.\n",
    "    \"\"\"\n",
    "    for filename in os.listdir(image_dir):\n",
    "        file_path = os.path.join(image_dir, filename)\n",
    "        try:\n",
    "            with Image.open(file_path) as img:\n",
    "                img.verify()  # Verify integrity\n",
    "        except (IOError, SyntaxError) as e:\n",
    "            logging.warning(f\"Corrupted image detected: {file_path} - {e}\")\n",
    "            # Attempt to repair the image\n",
    "            try:\n",
    "                with Image.open(file_path) as img:\n",
    "                    img = img.convert('RGB')  # Convert to RGB to fix possible issues\n",
    "                    repaired_path = file_path.replace('.jpg', '_repaired.jpg')\n",
    "                    img.save(repaired_path)\n",
    "                    logging.info(f\"Repaired image saved to {repaired_path}\")\n",
    "            except Exception as repair_exception:\n",
    "                logging.error(f\"Failed to repair image: {file_path} - {repair_exception}\")\n",
    "\n",
    "def preprocess_image(image_path):\n",
    "    \"\"\"Load and preprocess image for input into the CNN model.\"\"\"\n",
    "    try:\n",
    "        image = cv2.imread(image_path)\n",
    "        if image is None:\n",
    "            raise ValueError(f\"Image at {image_path} could not be loaded.\")\n",
    "        image = cv2.resize(image, (224, 224))  # Resize to input size of EfficientNet\n",
    "        image = image / 255.0  # Normalize pixel values\n",
    "        return image\n",
    "    except Exception as e:\n",
    "        logging.warning(f\"Error processing image {image_path}: {e}\")\n",
    "        return None\n",
    "\n",
    "def extract_text_from_image(image_path):\n",
    "    \"\"\"Use OCR to extract text from images.\"\"\"\n",
    "    try:\n",
    "        image = cv2.imread(image_path)\n",
    "        if image is None:\n",
    "            raise ValueError(f\"Image at {image_path} could not be loaded.\")\n",
    "        text = pytesseract.image_to_string(image)\n",
    "        return text\n",
    "    except Exception as e:\n",
    "        logging.warning(f\"Error performing OCR on image {image_path}: {e}\")\n",
    "        return \"\"\n",
    "\n",
    "def extract_entity_value(text):\n",
    "    \"\"\"Extract numeric entity values and units using regex.\"\"\"\n",
    "    try:\n",
    "        pattern = re.compile(r'(\\d+(?:\\.\\d+)?)\\s*([a-zA-Z]+)')\n",
    "        matches = pattern.findall(text)\n",
    "        \n",
    "        if matches:\n",
    "            value, unit = matches[0]\n",
    "            # Validate the unit against the allowed units\n",
    "            if unit.lower() in allowed_units:\n",
    "                return value, unit.lower()  # Return the value and unit in lowercase\n",
    "        return None, None\n",
    "    except Exception as e:\n",
    "        logging.warning(f\"Error extracting entity value from text: {e}\")\n",
    "        return None, None\n",
    "\n",
    "def extract_image_features(image_path, cnn_model):\n",
    "    \"\"\"Extract CNN features from the image.\"\"\"\n",
    "    image = preprocess_image(image_path)\n",
    "    if image is None:\n",
    "        return None  # Skip this image if it's invalid\n",
    "    image = image.reshape((1, 224, 224, 3))\n",
    "    try:\n",
    "        features = cnn_model.predict(image)\n",
    "        return features\n",
    "    except Exception as e:\n",
    "        logging.warning(f\"Error extracting features from image {image_path}: {e}\")\n",
    "        return None\n",
    "\n",
    "def train_model(train_df, download_folder, cnn_model):\n",
    "    \"\"\"Train a regression model using extracted features from images and text.\"\"\"\n",
    "    X_train = []\n",
    "    y_train = []\n",
    "\n",
    "    for idx, row in train_df.iterrows():\n",
    "        image_path = os.path.join(download_folder, os.path.basename(row['image_link']))\n",
    "        \n",
    "        # Extract features using CNN\n",
    "        image_features = extract_image_features(image_path, cnn_model)\n",
    "        if image_features is None:\n",
    "            logging.warning(f\"Skipping image {image_path} due to feature extraction failure.\")\n",
    "            continue\n",
    "        \n",
    "        # Extract text using OCR\n",
    "        text = extract_text_from_image(image_path)\n",
    "        \n",
    "        # Extract entity value from the text\n",
    "        value, unit = extract_entity_value(text)\n",
    "        if not value or not unit:\n",
    "            logging.warning(f\"Skipping image {image_path} due to text extraction failure.\")\n",
    "            continue\n",
    "        \n",
    "        # Combine CNN features and OCR features\n",
    "        combined_features = list(image_features[0]) + [float(value)]\n",
    "        X_train.append(combined_features)\n",
    "        y_train.append(float(row['entity_value'].split()[0]))  # Extract ground truth value\n",
    "    \n",
    "    # Train a simple regression model\n",
    "    if not X_train:\n",
    "        logging.error(\"No valid data for training.\")\n",
    "        return None\n",
    "    X_train = pd.DataFrame(X_train)\n",
    "    reg_model = LinearRegression()\n",
    "    reg_model.fit(X_train, y_train)\n",
    "    return reg_model\n",
    "\n",
    "def predict_and_generate_output(test_csv, reg_model, download_folder, cnn_model):\n",
    "    \"\"\"Generate predictions and save to CSV in the correct format.\"\"\"\n",
    "    try:\n",
    "        test_df = pd.read_csv(test_csv)\n",
    "        X_test = []\n",
    "        test_indices = []\n",
    "        predicted_units = []\n",
    "\n",
    "        for idx, row in test_df.iterrows():\n",
    "            image_path = os.path.join(download_folder, os.path.basename(row['image_link']))\n",
    "            \n",
    "            # Extract features using CNN\n",
    "            image_features = extract_image_features(image_path, cnn_model)\n",
    "            if image_features is None:\n",
    "                logging.warning(f\"Skipping image {image_path} due to feature extraction failure.\")\n",
    "                continue\n",
    "            \n",
    "            # Extract text using OCR\n",
    "            text = extract_text_from_image(image_path)\n",
    "            \n",
    "            # Extract entity value from the text\n",
    "            value, unit = extract_entity_value(text)\n",
    "            if not value or not unit:\n",
    "                logging.warning(f\"Skipping image {image_path} due to text extraction failure.\")\n",
    "                continue\n",
    "            \n",
    "            # Combine CNN features and OCR features\n",
    "            combined_features = list(image_features[0]) + [float(value)]\n",
    "            X_test.append(combined_features)\n",
    "            test_indices.append(row['index'])\n",
    "            predicted_units.append(unit)\n",
    "        \n",
    "        if not X_test:\n",
    "            logging.error(\"No valid data for predictions.\")\n",
    "            return\n",
    "        \n",
    "        X_test = pd.DataFrame(X_test)\n",
    "        predictions = reg_model.predict(X_test)\n",
    "\n",
    "        # Format the predictions\n",
    "        output = pd.DataFrame({\n",
    "            'index': test_indices, \n",
    "            'prediction': [f\"{pred:.2f} {unit}\" for pred, unit in zip(predictions, predicted_units)]\n",
    "        })\n",
    "        \n",
    "        output.to_csv('test_out.csv', index=False)\n",
    "        logging.info(\"Predictions saved to test_out.csv\")\n",
    "    except Exception as e:\n",
    "        logging.error(f\"Error during prediction and output generation: {e}\")\n",
    "\n",
    "def process_images(image_dir):\n",
    "    \"\"\"\n",
    "    Process images in the specified directory.\n",
    "    \"\"\"\n",
    "    for filename in os.listdir(image_dir):\n",
    "        file_path = os.path.join(image_dir, filename)\n",
    "        try:\n",
    "            image = preprocess_image(file_path)\n",
    "            if image is None:\n",
    "                logging.warning(f\"Image preprocessing failed for {file_path}\")\n",
    "                continue\n",
    "            text = extract_text_from_image(file_path)\n",
    "            if text is not None:\n",
    "                logging.info(f\"Text extracted from {file_path}: {text}\")\n",
    "            else:\n",
    "                logging.warning(f\"Text extraction failed for {file_path}\")\n",
    "        except Exception as e:\n",
    "            logging.error(f\"Error processing image {file_path}: {e}\")\n",
    "\n",
    "def main():\n",
    "    # Define paths\n",
    "    train_csv = '/home/rguktrkvalley/Desktop/train1.csv'\n",
    "    test_csv = '/home/rguktrkvalley/Desktop/sample_test.csv'\n",
    "    download_folder = '/home/rguktrkvalley/Desktop/downloaded_images'\n",
    "    \n",
    "    # Load CNN model only once\n",
    "    cnn_model = EfficientNetB0(weights='imagenet', include_top=False, pooling='avg')\n",
    "    \n",
    "    try:\n",
    "        # Step 1: Download images\n",
    "        train_df = download_all_images(train_csv, download_folder)\n",
    "\n",
    "        # Step 2: Check and repair images\n",
    "        check_and_repair_images(download_folder)\n",
    "        \n",
    "        # Step 3: Process images (optional, depending on what needs to be done before training)\n",
    "        process_images(download_folder)\n",
    "\n",
    "        # Step 4: Train the model\n",
    "        reg_model = train_model(train_df, download_folder, cnn_model)\n",
    "\n",
    "        # Step 5: Generate predictions for the test set\n",
    "        if reg_model:\n",
    "            predict_and_generate_output(test_csv, reg_model, download_folder, cnn_model)\n",
    "    except Exception as e:\n",
    "        logging.error(f\"Error during the main execution: {e}\")\n",
    "\n",
    "# Run the pipeline\n",
    "if __name__ == '__main__':\n",
    "    main()\n"
   ]
  },
  {
   "cell_type": "code",
   "execution_count": null,
   "id": "f953e848-af6f-409a-900a-f6ab9dbd81be",
   "metadata": {},
   "outputs": [],
   "source": []
  },
  {
   "cell_type": "code",
   "execution_count": null,
   "id": "4f40d9e3-6813-4435-b563-93714c082b2f",
   "metadata": {},
   "outputs": [],
   "source": []
  },
  {
   "cell_type": "code",
   "execution_count": null,
   "id": "c2d5d2a9-6392-4ea6-a07c-c7519cf18792",
   "metadata": {},
   "outputs": [],
   "source": []
  },
  {
   "cell_type": "code",
   "execution_count": null,
   "id": "cc554e04-2510-4aeb-8e71-18e7908e7b4e",
   "metadata": {},
   "outputs": [],
   "source": []
  },
  {
   "cell_type": "code",
   "execution_count": null,
   "id": "9e0b1ab4-ed79-415f-b57a-ce8f0a1308ca",
   "metadata": {},
   "outputs": [],
   "source": []
  },
  {
   "cell_type": "code",
   "execution_count": null,
   "id": "7a4d885b-e01c-40b3-87b7-6e13f96035ef",
   "metadata": {},
   "outputs": [],
   "source": []
  },
  {
   "cell_type": "code",
   "execution_count": null,
   "id": "54721bba-7108-404e-94c1-7030f3019919",
   "metadata": {},
   "outputs": [],
   "source": []
  },
  {
   "cell_type": "code",
   "execution_count": null,
   "id": "4612d3ea-1d48-40dd-a651-e93ae2d9daed",
   "metadata": {},
   "outputs": [],
   "source": []
  },
  {
   "cell_type": "code",
   "execution_count": null,
   "id": "5f527203-04b9-4d7b-bfc5-e1daae2fc4a7",
   "metadata": {},
   "outputs": [],
   "source": []
  },
  {
   "cell_type": "code",
   "execution_count": null,
   "id": "88553ca6-624f-431c-97ff-10d1a64d1737",
   "metadata": {},
   "outputs": [],
   "source": []
  },
  {
   "cell_type": "code",
   "execution_count": null,
   "id": "bacd9759-ab6c-4eea-bd1d-a29d898d8012",
   "metadata": {},
   "outputs": [],
   "source": []
  },
  {
   "cell_type": "code",
   "execution_count": null,
   "id": "e17d2957-72f1-4e36-84a2-73ba24d25eaa",
   "metadata": {},
   "outputs": [],
   "source": []
  },
  {
   "cell_type": "code",
   "execution_count": null,
   "id": "873b5e2d-988d-419c-ae2b-a81487eb7417",
   "metadata": {},
   "outputs": [],
   "source": [
    "# Downloading images\n",
    "\n",
    "import csv\n",
    "import urllib.request\n",
    "import os\n",
    "\n",
    "# Define the CSV file name\n",
    "csv_file_name = ('/home/apiiit123/ml/student_resource_3/dataset/train.csv')\n",
    "\n",
    "# Create a directory to save downloaded images\n",
    "download_directory = 'downloaded_images'\n",
    "os.makedirs(download_directory, exist_ok=True)\n",
    "\n",
    "# Open the CSV file and read the image URLs\n",
    "with open('/home/apiiit123/ml/student_resource_3/dataset/train.csv', 'r') as csvfile:\n",
    "    reader = csv.DictReader(csvfile)\n",
    "    \n",
    "    for row in reader:\n",
    "        # Assuming the URL is in a column named 'image_link'\n",
    "        url = row['image_link']\n",
    "        \n",
    "        # Create a filename based on another column (e.g., 'filename')\n",
    "        filename = row.get('filename', 'default_image')  # Use 'default_image' if 'filename' is not provided\n",
    "        file_path = os.path.join(download_directory, f\"{filename}.jpg\")\n",
    "        \n",
    "        try:\n",
    "            # Download the image\n",
    "            urllib.request.urlretrieve(url, file_path)\n",
    "            print(f\"Downloaded: {file_path}\")\n",
    "        except Exception as e:\n",
    "            print(f\"Failed to download {url}. Reason: {e}\")\n",
    "\n",
    "print(\"Image download process completed.\")"
   ]
  },
  {
   "cell_type": "code",
   "execution_count": null,
   "id": "2022cce5-ac9c-4e9e-8eb4-dd162bdcfaab",
   "metadata": {},
   "outputs": [],
   "source": [
    "# Load an image\n",
    "from PIL import Image\n",
    "\n",
    "# Load the image\n",
    "img = Image.open('/home/apiiit123/ml/downloaded_images/default_image.jpg')\n",
    "\n",
    "# Display the image\n",
    "img.show()"
   ]
  },
  {
   "cell_type": "code",
   "execution_count": null,
   "id": "4db5c8f5-0a74-481e-8a70-0b2645177809",
   "metadata": {},
   "outputs": [],
   "source": [
    "# Image Preprocessing\n",
    "import os\n",
    "import cv2\n",
    "import numpy as np\n",
    "from tensorflow.keras.preprocessing.image import ImageDataGenerator\n",
    "from tensorflow.keras.preprocessing.image import img_to_array, load_img\n",
    "\n",
    "# Define the directory containing images\n",
    "image_dir = '/home/apiiit123/ml/downloaded_images'  # Change this to your image directory\n",
    "processed_images_dir = 'processed_images'\n",
    "os.makedirs(processed_images_dir, exist_ok=True)\n",
    "\n",
    "# Parameters\n",
    "target_size = (150, 150)  # Desired size for resizing\n",
    "batch_size = 32  # Batch size for data augmentation\n",
    "\n",
    "# Function to preprocess and save images\n",
    "def preprocess_images(image_dir):\n",
    "    for filename in os.listdir(image_dir):\n",
    "        if filename.endswith('.jpg') or filename.endswith('.png'):\n",
    "            img_path = os.path.join(image_dir, filename)\n",
    "            # Load image\n",
    "            img = load_img(img_path, target_size=target_size)\n",
    "            img_array = img_to_array(img)\n",
    "            img_array = img_array / 255.0  # Normalize to [0, 1]\n",
    "            \n",
    "            # Save processed image\n",
    "            processed_img_path = os.path.join(processed_images_dir, filename)\n",
    "            cv2.imwrite(processed_img_path, img_array * 255)  # Convert back to [0, 255] for saving\n",
    "\n",
    "# Preprocess images\n",
    "preprocess_images(image_dir)\n",
    "\n",
    "# Data Augmentation\n",
    "datagen = ImageDataGenerator(\n",
    "    rotation_range=40,\n",
    "    width_shift_range=0.2,\n",
    "    height_shift_range=0.2,\n",
    "    shear_range=0.2,\n",
    "    zoom_range=0.2,\n",
    "    horizontal_flip=True,\n",
    "    fill_mode='nearest'\n",
    ")\n",
    "\n",
    "# Example of using the data generator\n",
    "sample_image = load_img(os.path.join(processed_images_dir, 'default_image.jpg'), target_size=target_size)\n",
    "sample_image_array = img_to_array(sample_image)\n",
    "sample_image_array = np.expand_dims(sample_image_array, axis=0)\n",
    "\n",
    "# Generate augmented images\n",
    "augmented_images = datagen.flow(sample_image_array, batch_size=1)\n",
    "\n",
    "# Save augmented images\n",
    "for i in range(5):  # Generate and save 5 augmented images\n",
    "    augmented_image = next(augmented_images)[0]\n",
    "    cv2.imwrite(os.path.join(processed_images_dir, f'augmented_image_{i}.jpg'), augmented_image)\n",
    "\n",
    "print(\"Image preprocessing and augmentation complete.\")"
   ]
  },
  {
   "cell_type": "code",
   "execution_count": null,
   "id": "fbe0128d-4e08-49a1-a8e8-5f0dd6c613f4",
   "metadata": {},
   "outputs": [],
   "source": [
    "import pytesseract\n",
    "from PIL import Image, ImageFilter\n",
    "import cv2\n",
    "import numpy as np\n",
    "\n",
    "# Set the path to the Tesseract executable\n",
    "#pytesseract.pytesseract.tesseract_cmd = r'C:\\Program Files\\Tesseract-OCR\\tesseract.exe'\n",
    "# Load the image using OpenCV\n",
    "image_path = '/home/apiiit123/ml/downloaded_images/default_image.jpg'  # Replace with your image path\n",
    "image = cv2.imread(image_path)\n",
    "    \n",
    "# Convert the image to grayscale\n",
    "gray_image = cv2.cvtColor(image, cv2.COLOR_BGR2GRAY)\n",
    "    \n",
    "# Apply Gaussian Blur to reduce noise\n",
    "blurred_image = cv2.GaussianBlur(gray_image, (5, 5), 0)\n",
    "    \n",
    "# Use adaptive thresholding to binarize the image\n",
    "binary_image = cv2.adaptiveThreshold(blurred_image, 255, cv2.ADAPTIVE_THRESH_GAUSSIAN_C,\n",
    "                                         cv2.THRESH_BINARY, 11, 2)\n",
    "    \n",
    "# Save the processed image (optional, for debugging)\n",
    "cv2.imwrite('processed_image.jpg', binary_image)\n",
    "    \n",
    "# Use Tesseract to extract text from the processed image\n",
    "text = pytesseract.image_to_string(binary_image)\n",
    "    \n",
    "# Print the extracted text\n",
    "print(\"Extracted Text:\")\n",
    "print(text)"
   ]
  },
  {
   "cell_type": "code",
   "execution_count": null,
   "id": "dc598d4c-40e3-4251-bef2-56ac3e157145",
   "metadata": {},
   "outputs": [],
   "source": []
  },
  {
   "cell_type": "code",
   "execution_count": null,
   "id": "8cf0e0a8-1ab8-4886-8e25-a61465c5bbbc",
   "metadata": {},
   "outputs": [],
   "source": []
  },
  {
   "cell_type": "code",
   "execution_count": null,
   "id": "fcedf736-315c-4b8d-bd63-5d0f6a99eb97",
   "metadata": {},
   "outputs": [],
   "source": []
  },
  {
   "cell_type": "code",
   "execution_count": null,
   "id": "46e9d853-9ec0-4467-a7bd-b0ff3761c605",
   "metadata": {},
   "outputs": [],
   "source": []
  },
  {
   "cell_type": "code",
   "execution_count": null,
   "id": "71a1a726-a651-4862-a2ad-b132bb8548ad",
   "metadata": {},
   "outputs": [],
   "source": []
  },
  {
   "cell_type": "code",
   "execution_count": null,
   "id": "aa6f46a1-e329-4db3-8c40-e82e74cda841",
   "metadata": {},
   "outputs": [],
   "source": []
  },
  {
   "cell_type": "code",
   "execution_count": null,
   "id": "e4a7cb71-d46d-4fd2-9ea9-79cdf2e332d0",
   "metadata": {},
   "outputs": [],
   "source": []
  },
  {
   "cell_type": "code",
   "execution_count": 2,
   "id": "03370e3e-bd73-45c4-b450-90c8fbc64e06",
   "metadata": {},
   "outputs": [
    {
     "ename": "NameError",
     "evalue": "name 'download_all_images' is not defined",
     "output_type": "error",
     "traceback": [
      "\u001b[0;31m---------------------------------------------------------------------------\u001b[0m",
      "\u001b[0;31mNameError\u001b[0m                                 Traceback (most recent call last)",
      "Cell \u001b[0;32mIn[2], line 198\u001b[0m\n\u001b[1;32m    196\u001b[0m \u001b[38;5;66;03m# Run the pipeline\u001b[39;00m\n\u001b[1;32m    197\u001b[0m \u001b[38;5;28;01mif\u001b[39;00m \u001b[38;5;18m__name__\u001b[39m \u001b[38;5;241m==\u001b[39m \u001b[38;5;124m'\u001b[39m\u001b[38;5;124m__main__\u001b[39m\u001b[38;5;124m'\u001b[39m:\n\u001b[0;32m--> 198\u001b[0m     \u001b[43mmain\u001b[49m\u001b[43m(\u001b[49m\u001b[43m)\u001b[49m\n",
      "Cell \u001b[0;32mIn[2], line 187\u001b[0m, in \u001b[0;36mmain\u001b[0;34m()\u001b[0m\n\u001b[1;32m    184\u001b[0m cnn_model \u001b[38;5;241m=\u001b[39m EfficientNetB0(weights\u001b[38;5;241m=\u001b[39m\u001b[38;5;124m'\u001b[39m\u001b[38;5;124mimagenet\u001b[39m\u001b[38;5;124m'\u001b[39m, include_top\u001b[38;5;241m=\u001b[39m\u001b[38;5;28;01mFalse\u001b[39;00m, pooling\u001b[38;5;241m=\u001b[39m\u001b[38;5;124m'\u001b[39m\u001b[38;5;124mavg\u001b[39m\u001b[38;5;124m'\u001b[39m)\n\u001b[1;32m    186\u001b[0m \u001b[38;5;66;03m# Step 1: Download images\u001b[39;00m\n\u001b[0;32m--> 187\u001b[0m train_df \u001b[38;5;241m=\u001b[39m \u001b[43mdownload_all_images\u001b[49m(train_csv, download_folder)\n\u001b[1;32m    189\u001b[0m \u001b[38;5;66;03m# Step 2: Train the model\u001b[39;00m\n\u001b[1;32m    190\u001b[0m reg_model \u001b[38;5;241m=\u001b[39m train_model(train_df, download_folder, cnn_model)\n",
      "\u001b[0;31mNameError\u001b[0m: name 'download_all_images' is not defined"
     ]
    }
   ],
   "source": [
    "import cv2\n",
    "import pytesseract\n",
    "from tensorflow.keras.applications import EfficientNetB0\n",
    "from sklearn.linear_model import LinearRegression\n",
    "import os\n",
    "import re\n",
    "import logging\n",
    "from PIL import Image\n",
    "from utils import download_images\n",
    "from constants import allowed_units\n",
    "\n",
    "# Set up logging\n",
    "logging.basicConfig(level=logging.DEBUG, format='%(asctime)s - %(levelname)s - %(message)s')\n",
    "\n",
    "def check_and_repair_images(image_dir):\n",
    "    \"\"\"\n",
    "    Check and repair corrupted images in the specified directory.\n",
    "    \"\"\"\n",
    "    for filename in os.listdir(image_dir):\n",
    "        file_path = os.path.join(image_dir, filename)\n",
    "        try:\n",
    "            with Image.open(file_path) as img:\n",
    "                img.verify()  # Verify integrity\n",
    "        except (IOError, SyntaxError) as e:\n",
    "            logging.warning(f\"Corrupted image detected: {file_path} - {e}\")\n",
    "            # Attempt to repair the image\n",
    "            try:\n",
    "                with Image.open(file_path) as img:\n",
    "                    img = img.convert('RGB')  # Convert to RGB to fix possible issues\n",
    "                    repaired_path = file_path.replace('.jpg', '_repaired.jpg')\n",
    "                    img.save(repaired_path)\n",
    "                    logging.info(f\"Repaired image saved to {repaired_path}\")\n",
    "            except Exception as repair_exception:\n",
    "                logging.error(f\"Failed to repair image: {file_path} - {repair_exception}\")\n",
    "\n",
    "def preprocess_image(image_path):\n",
    "    \"\"\"Load and preprocess image for input into the CNN model.\"\"\"\n",
    "    try:\n",
    "        image = cv2.imread(image_path)\n",
    "        if image is None:\n",
    "            raise ValueError(f\"Image at {image_path} could not be loaded.\")\n",
    "        # Check image dimensions\n",
    "        if image.shape[0] == 0 or image.shape[1] == 0:\n",
    "            raise ValueError(f\"Image at {image_path} has invalid dimensions.\")\n",
    "        image = cv2.resize(image, (224, 224))  # Resize to input size of EfficientNet\n",
    "        image = image / 255.0  # Normalize pixel values\n",
    "        return image\n",
    "    except Exception as e:\n",
    "        logging.warning(f\"Error processing image {image_path}: {e}\")\n",
    "        return None\n",
    "\n",
    "def extract_text_from_image(image_path):\n",
    "    \"\"\"Use OCR to extract text from images.\"\"\"\n",
    "    try:\n",
    "        image = cv2.imread(image_path)\n",
    "        if image is None:\n",
    "            raise ValueError(f\"Image at {image_path} could not be loaded.\")\n",
    "        text = pytesseract.image_to_string(image)\n",
    "        return text\n",
    "    except Exception as e:\n",
    "        logging.warning(f\"Error performing OCR on image {image_path}: {e}\")\n",
    "        return \"\"\n",
    "\n",
    "def extract_entity_value(text):\n",
    "    \"\"\"Extract numeric entity values and units using regex.\"\"\"\n",
    "    try:\n",
    "        pattern = re.compile(r'(\\d+(?:\\.\\d+)?)\\s*([a-zA-Z]+)')\n",
    "        matches = pattern.findall(text)\n",
    "\n",
    "        if matches:\n",
    "            value, unit = matches[0]\n",
    "            # Validate the unit against the allowed units\n",
    "            if unit.lower() in allowed_units:\n",
    "                return value, unit.lower()  # Return the value and unit in lowercase\n",
    "        return None, None\n",
    "    except Exception as e:\n",
    "        logging.warning(f\"Error extracting entity value from text: {e}\")\n",
    "        return None, None\n",
    "\n",
    "def extract_image_features(image_path, cnn_model):\n",
    "    \"\"\"Extract CNN features from the image.\"\"\"\n",
    "    image = preprocess_image(image_path)\n",
    "    if image is None:\n",
    "        return None  # Skip this image if it's invalid\n",
    "    image = image.reshape((1, 224, 224, 3))\n",
    "    try:\n",
    "        features = cnn_model.predict(image)\n",
    "        return features\n",
    "    except Exception as e:\n",
    "        logging.warning(f\"Error extracting features from image {image_path}: {e}\")\n",
    "        return None\n",
    "\n",
    "def train_model(train_df, download_folder, cnn_model):\n",
    "    \"\"\"Train a regression model using extracted features from images and text.\"\"\"\n",
    "    X_train = []\n",
    "    y_train = []\n",
    "\n",
    "    for idx, row in train_df.iterrows():\n",
    "        image_path = os.path.join(download_folder, os.path.basename(row['image_link']))\n",
    "\n",
    "        # Extract features using CNN\n",
    "        image_features = extract_image_features(image_path, cnn_model)\n",
    "        if image_features is None:\n",
    "            logging.warning(f\"Skipping image {image_path} due to feature extraction failure.\")\n",
    "            continue\n",
    "\n",
    "        # Extract text using OCR\n",
    "        text = extract_text_from_image(image_path)\n",
    "\n",
    "        # Extract entity value from the text\n",
    "        value, unit = extract_entity_value(text)\n",
    "        if not value or not unit:\n",
    "            logging.warning(f\"Skipping image {image_path} due to text extraction failure.\")\n",
    "            continue\n",
    "\n",
    "        # Combine CNN features and OCR features\n",
    "        combined_features = list(image_features[0]) + [float(value)]\n",
    "        X_train.append(combined_features)\n",
    "        y_train.append(float(row['entity_value'].split()[0]))  # Extract ground truth value\n",
    "\n",
    "    # Train a simple regression model\n",
    "    if not X_train:\n",
    "        logging.error(\"No valid data for training.\")\n",
    "        return None\n",
    "    X_train = pd.DataFrame(X_train)\n",
    "    reg_model = LinearRegression()\n",
    "    reg_model.fit(X_train, y_train)\n",
    "    return reg_model\n",
    "\n",
    "def predict_and_generate_output(test_csv, reg_model, download_folder, cnn_model):\n",
    "    \"\"\"Generate predictions and save to CSV in the correct format.\"\"\"\n",
    "    test_df = pd.read_csv(test_csv)\n",
    "    X_test = []\n",
    "    test_indices = []\n",
    "    predicted_units = []\n",
    "\n",
    "    for idx, row in test_df.iterrows():\n",
    "        image_path = os.path.join(download_folder, os.path.basename(row['image_link']))\n",
    "\n",
    "        # Extract features using CNN\n",
    "        image_features = extract_image_features(image_path, cnn_model)\n",
    "        if image_features is None:\n",
    "            logging.warning(f\"Skipping image {image_path} due to feature extraction failure.\")\n",
    "            continue\n",
    "\n",
    "        # Extract text using OCR\n",
    "        text = extract_text_from_image(image_path)\n",
    "\n",
    "        # Extract entity value from the text\n",
    "        value, unit = extract_entity_value(text)\n",
    "        if not value or not unit:\n",
    "            logging.warning(f\"Skipping image {image_path} due to text extraction failure.\")\n",
    "            continue\n",
    "\n",
    "        # Combine CNN features and OCR features\n",
    "        combined_features = list(image_features[0]) + [float(value)]\n",
    "        X_test.append(combined_features)\n",
    "        test_indices.append(row['index'])\n",
    "        predicted_units.append(unit)\n",
    "\n",
    "    if not X_test:\n",
    "        logging.error(\"No valid data for predictions.\")\n",
    "        return\n",
    "    X_test = pd.DataFrame(X_test)\n",
    "    predictions = reg_model.predict(X_test)\n",
    "\n",
    "    # Format the predictions\n",
    "    output = pd.DataFrame({\n",
    "        'index': test_indices,\n",
    "        'prediction': [f\"{pred:.2f} {unit}\" for pred, unit in zip(predictions, predicted_units)]\n",
    "    })\n",
    "\n",
    "    output.to_csv('test_out.csv', index=False)\n",
    "    logging.info(\"Predictions saved to test_out.csv\")\n",
    "\n",
    "# Step 8: Main Function to Run the Entire Process\n",
    "def main():\n",
    "    # Define paths\n",
    "    train_csv = '/home/rguktrkvalley/Desktop/train1.csv'\n",
    "    test_csv = '/home/rguktrkvalley/Desktop/sample_test.csv'\n",
    "    download_folder = '/home/rguktrkvalley/Desktop/downloaded_images'\n",
    "\n",
    "    # Load CNN model only once\n",
    "    cnn_model = EfficientNetB0(weights='imagenet', include_top=False, pooling='avg')\n",
    "\n",
    "    # Step 1: Download images\n",
    "    train_df = download_all_images(train_csv, download_folder)\n",
    "\n",
    "    # Step 2: Train the model\n",
    "    reg_model = train_model(train_df, download_folder, cnn_model)\n",
    "\n",
    "    # Step 3: Generate predictions for the test set\n",
    "    if reg_model:\n",
    "        predict_and_generate_output(test_csv, reg_model, download_folder, cnn_model)\n",
    "\n",
    "# Run the pipeline\n",
    "if __name__ == '__main__':\n",
    "    main()"
   ]
  },
  {
   "cell_type": "code",
   "execution_count": 3,
   "id": "9c8b13e3-2fd8-4553-a123-bf5f1dd9d81e",
   "metadata": {},
   "outputs": [
    {
     "name": "stderr",
     "output_type": "stream",
     "text": [
      "100%|█████████████████████████████████████████| 187/187 [00:05<00:00, 32.77it/s]\n"
     ]
    },
    {
     "ename": "ValueError",
     "evalue": "Invalid format in 10 kilogram to 15 kilogram",
     "output_type": "error",
     "traceback": [
      "\u001b[0;31m---------------------------------------------------------------------------\u001b[0m",
      "\u001b[0;31mValueError\u001b[0m                                Traceback (most recent call last)",
      "Cell \u001b[0;32mIn[3], line 43\u001b[0m\n\u001b[1;32m     41\u001b[0m \u001b[38;5;66;03m# Train model\u001b[39;00m\n\u001b[1;32m     42\u001b[0m train_images \u001b[38;5;241m=\u001b[39m [os\u001b[38;5;241m.\u001b[39mpath\u001b[38;5;241m.\u001b[39mjoin(download_folder, Path(link)\u001b[38;5;241m.\u001b[39mname) \u001b[38;5;28;01mfor\u001b[39;00m link \u001b[38;5;129;01min\u001b[39;00m train_df[\u001b[38;5;124m'\u001b[39m\u001b[38;5;124mimage_link\u001b[39m\u001b[38;5;124m'\u001b[39m]]\n\u001b[0;32m---> 43\u001b[0m train_labels \u001b[38;5;241m=\u001b[39m \u001b[43mtrain_df\u001b[49m\u001b[43m[\u001b[49m\u001b[38;5;124;43m'\u001b[39;49m\u001b[38;5;124;43mentity_value\u001b[39;49m\u001b[38;5;124;43m'\u001b[39;49m\u001b[43m]\u001b[49m\u001b[38;5;241;43m.\u001b[39;49m\u001b[43mapply\u001b[49m\u001b[43m(\u001b[49m\u001b[38;5;28;43;01mlambda\u001b[39;49;00m\u001b[43m \u001b[49m\u001b[43mx\u001b[49m\u001b[43m:\u001b[49m\u001b[43m \u001b[49m\u001b[43mparse_string\u001b[49m\u001b[43m(\u001b[49m\u001b[43mx\u001b[49m\u001b[43m)\u001b[49m\u001b[43m[\u001b[49m\u001b[38;5;241;43m1\u001b[39;49m\u001b[43m]\u001b[49m\u001b[43m)\u001b[49m\u001b[38;5;241m.\u001b[39mtolist()\n\u001b[1;32m     44\u001b[0m train_labels \u001b[38;5;241m=\u001b[39m tf\u001b[38;5;241m.\u001b[39mkeras\u001b[38;5;241m.\u001b[39mutils\u001b[38;5;241m.\u001b[39mto_categorical(train_labels, num_classes\u001b[38;5;241m=\u001b[39m\u001b[38;5;28mlen\u001b[39m(allowed_units))\n\u001b[1;32m     46\u001b[0m model\u001b[38;5;241m.\u001b[39mfit(np\u001b[38;5;241m.\u001b[39mconcatenate([preprocess_image(path) \u001b[38;5;28;01mfor\u001b[39;00m path \u001b[38;5;129;01min\u001b[39;00m train_images]),\n\u001b[1;32m     47\u001b[0m           train_labels,\n\u001b[1;32m     48\u001b[0m           epochs\u001b[38;5;241m=\u001b[39m\u001b[38;5;241m10\u001b[39m,\n\u001b[1;32m     49\u001b[0m           batch_size\u001b[38;5;241m=\u001b[39m\u001b[38;5;241m32\u001b[39m,\n\u001b[1;32m     50\u001b[0m           validation_split\u001b[38;5;241m=\u001b[39m\u001b[38;5;241m0.2\u001b[39m)\n",
      "File \u001b[0;32m~/test/notebookenv/lib/python3.8/site-packages/pandas/core/series.py:4630\u001b[0m, in \u001b[0;36mSeries.apply\u001b[0;34m(self, func, convert_dtype, args, **kwargs)\u001b[0m\n\u001b[1;32m   4520\u001b[0m \u001b[38;5;28;01mdef\u001b[39;00m \u001b[38;5;21mapply\u001b[39m(\n\u001b[1;32m   4521\u001b[0m     \u001b[38;5;28mself\u001b[39m,\n\u001b[1;32m   4522\u001b[0m     func: AggFuncType,\n\u001b[0;32m   (...)\u001b[0m\n\u001b[1;32m   4525\u001b[0m     \u001b[38;5;241m*\u001b[39m\u001b[38;5;241m*\u001b[39mkwargs,\n\u001b[1;32m   4526\u001b[0m ) \u001b[38;5;241m-\u001b[39m\u001b[38;5;241m>\u001b[39m DataFrame \u001b[38;5;241m|\u001b[39m Series:\n\u001b[1;32m   4527\u001b[0m \u001b[38;5;250m    \u001b[39m\u001b[38;5;124;03m\"\"\"\u001b[39;00m\n\u001b[1;32m   4528\u001b[0m \u001b[38;5;124;03m    Invoke function on values of Series.\u001b[39;00m\n\u001b[1;32m   4529\u001b[0m \n\u001b[0;32m   (...)\u001b[0m\n\u001b[1;32m   4628\u001b[0m \u001b[38;5;124;03m    dtype: float64\u001b[39;00m\n\u001b[1;32m   4629\u001b[0m \u001b[38;5;124;03m    \"\"\"\u001b[39;00m\n\u001b[0;32m-> 4630\u001b[0m     \u001b[38;5;28;01mreturn\u001b[39;00m \u001b[43mSeriesApply\u001b[49m\u001b[43m(\u001b[49m\u001b[38;5;28;43mself\u001b[39;49m\u001b[43m,\u001b[49m\u001b[43m \u001b[49m\u001b[43mfunc\u001b[49m\u001b[43m,\u001b[49m\u001b[43m \u001b[49m\u001b[43mconvert_dtype\u001b[49m\u001b[43m,\u001b[49m\u001b[43m \u001b[49m\u001b[43margs\u001b[49m\u001b[43m,\u001b[49m\u001b[43m \u001b[49m\u001b[43mkwargs\u001b[49m\u001b[43m)\u001b[49m\u001b[38;5;241;43m.\u001b[39;49m\u001b[43mapply\u001b[49m\u001b[43m(\u001b[49m\u001b[43m)\u001b[49m\n",
      "File \u001b[0;32m~/test/notebookenv/lib/python3.8/site-packages/pandas/core/apply.py:1025\u001b[0m, in \u001b[0;36mSeriesApply.apply\u001b[0;34m(self)\u001b[0m\n\u001b[1;32m   1022\u001b[0m     \u001b[38;5;28;01mreturn\u001b[39;00m \u001b[38;5;28mself\u001b[39m\u001b[38;5;241m.\u001b[39mapply_str()\n\u001b[1;32m   1024\u001b[0m \u001b[38;5;66;03m# self.f is Callable\u001b[39;00m\n\u001b[0;32m-> 1025\u001b[0m \u001b[38;5;28;01mreturn\u001b[39;00m \u001b[38;5;28;43mself\u001b[39;49m\u001b[38;5;241;43m.\u001b[39;49m\u001b[43mapply_standard\u001b[49m\u001b[43m(\u001b[49m\u001b[43m)\u001b[49m\n",
      "File \u001b[0;32m~/test/notebookenv/lib/python3.8/site-packages/pandas/core/apply.py:1076\u001b[0m, in \u001b[0;36mSeriesApply.apply_standard\u001b[0;34m(self)\u001b[0m\n\u001b[1;32m   1074\u001b[0m     \u001b[38;5;28;01melse\u001b[39;00m:\n\u001b[1;32m   1075\u001b[0m         values \u001b[38;5;241m=\u001b[39m obj\u001b[38;5;241m.\u001b[39mastype(\u001b[38;5;28mobject\u001b[39m)\u001b[38;5;241m.\u001b[39m_values\n\u001b[0;32m-> 1076\u001b[0m         mapped \u001b[38;5;241m=\u001b[39m \u001b[43mlib\u001b[49m\u001b[38;5;241;43m.\u001b[39;49m\u001b[43mmap_infer\u001b[49m\u001b[43m(\u001b[49m\n\u001b[1;32m   1077\u001b[0m \u001b[43m            \u001b[49m\u001b[43mvalues\u001b[49m\u001b[43m,\u001b[49m\n\u001b[1;32m   1078\u001b[0m \u001b[43m            \u001b[49m\u001b[43mf\u001b[49m\u001b[43m,\u001b[49m\n\u001b[1;32m   1079\u001b[0m \u001b[43m            \u001b[49m\u001b[43mconvert\u001b[49m\u001b[38;5;241;43m=\u001b[39;49m\u001b[38;5;28;43mself\u001b[39;49m\u001b[38;5;241;43m.\u001b[39;49m\u001b[43mconvert_dtype\u001b[49m\u001b[43m,\u001b[49m\n\u001b[1;32m   1080\u001b[0m \u001b[43m        \u001b[49m\u001b[43m)\u001b[49m\n\u001b[1;32m   1082\u001b[0m \u001b[38;5;28;01mif\u001b[39;00m \u001b[38;5;28mlen\u001b[39m(mapped) \u001b[38;5;129;01mand\u001b[39;00m \u001b[38;5;28misinstance\u001b[39m(mapped[\u001b[38;5;241m0\u001b[39m], ABCSeries):\n\u001b[1;32m   1083\u001b[0m     \u001b[38;5;66;03m# GH#43986 Need to do list(mapped) in order to get treated as nested\u001b[39;00m\n\u001b[1;32m   1084\u001b[0m     \u001b[38;5;66;03m#  See also GH#25959 regarding EA support\u001b[39;00m\n\u001b[1;32m   1085\u001b[0m     \u001b[38;5;28;01mreturn\u001b[39;00m obj\u001b[38;5;241m.\u001b[39m_constructor_expanddim(\u001b[38;5;28mlist\u001b[39m(mapped), index\u001b[38;5;241m=\u001b[39mobj\u001b[38;5;241m.\u001b[39mindex)\n",
      "File \u001b[0;32m~/test/notebookenv/lib/python3.8/site-packages/pandas/_libs/lib.pyx:2834\u001b[0m, in \u001b[0;36mpandas._libs.lib.map_infer\u001b[0;34m()\u001b[0m\n",
      "Cell \u001b[0;32mIn[3], line 43\u001b[0m, in \u001b[0;36m<lambda>\u001b[0;34m(x)\u001b[0m\n\u001b[1;32m     41\u001b[0m \u001b[38;5;66;03m# Train model\u001b[39;00m\n\u001b[1;32m     42\u001b[0m train_images \u001b[38;5;241m=\u001b[39m [os\u001b[38;5;241m.\u001b[39mpath\u001b[38;5;241m.\u001b[39mjoin(download_folder, Path(link)\u001b[38;5;241m.\u001b[39mname) \u001b[38;5;28;01mfor\u001b[39;00m link \u001b[38;5;129;01min\u001b[39;00m train_df[\u001b[38;5;124m'\u001b[39m\u001b[38;5;124mimage_link\u001b[39m\u001b[38;5;124m'\u001b[39m]]\n\u001b[0;32m---> 43\u001b[0m train_labels \u001b[38;5;241m=\u001b[39m train_df[\u001b[38;5;124m'\u001b[39m\u001b[38;5;124mentity_value\u001b[39m\u001b[38;5;124m'\u001b[39m]\u001b[38;5;241m.\u001b[39mapply(\u001b[38;5;28;01mlambda\u001b[39;00m x: \u001b[43mparse_string\u001b[49m\u001b[43m(\u001b[49m\u001b[43mx\u001b[49m\u001b[43m)\u001b[49m[\u001b[38;5;241m1\u001b[39m])\u001b[38;5;241m.\u001b[39mtolist()\n\u001b[1;32m     44\u001b[0m train_labels \u001b[38;5;241m=\u001b[39m tf\u001b[38;5;241m.\u001b[39mkeras\u001b[38;5;241m.\u001b[39mutils\u001b[38;5;241m.\u001b[39mto_categorical(train_labels, num_classes\u001b[38;5;241m=\u001b[39m\u001b[38;5;28mlen\u001b[39m(allowed_units))\n\u001b[1;32m     46\u001b[0m model\u001b[38;5;241m.\u001b[39mfit(np\u001b[38;5;241m.\u001b[39mconcatenate([preprocess_image(path) \u001b[38;5;28;01mfor\u001b[39;00m path \u001b[38;5;129;01min\u001b[39;00m train_images]),\n\u001b[1;32m     47\u001b[0m           train_labels,\n\u001b[1;32m     48\u001b[0m           epochs\u001b[38;5;241m=\u001b[39m\u001b[38;5;241m10\u001b[39m,\n\u001b[1;32m     49\u001b[0m           batch_size\u001b[38;5;241m=\u001b[39m\u001b[38;5;241m32\u001b[39m,\n\u001b[1;32m     50\u001b[0m           validation_split\u001b[38;5;241m=\u001b[39m\u001b[38;5;241m0.2\u001b[39m)\n",
      "File \u001b[0;32m~/test/MLCHALLENGE/utils.py:32\u001b[0m, in \u001b[0;36mparse_string\u001b[0;34m(s)\u001b[0m\n\u001b[1;32m     30\u001b[0m pattern \u001b[38;5;241m=\u001b[39m re\u001b[38;5;241m.\u001b[39mcompile(\u001b[38;5;124mr\u001b[39m\u001b[38;5;124m'\u001b[39m\u001b[38;5;124m^-?\u001b[39m\u001b[38;5;124m\\\u001b[39m\u001b[38;5;124md+(\u001b[39m\u001b[38;5;124m\\\u001b[39m\u001b[38;5;124m.\u001b[39m\u001b[38;5;124m\\\u001b[39m\u001b[38;5;124md+)?\u001b[39m\u001b[38;5;124m\\\u001b[39m\u001b[38;5;124ms+[a-zA-Z\u001b[39m\u001b[38;5;124m\\\u001b[39m\u001b[38;5;124ms]+$\u001b[39m\u001b[38;5;124m'\u001b[39m)\n\u001b[1;32m     31\u001b[0m \u001b[38;5;28;01mif\u001b[39;00m \u001b[38;5;129;01mnot\u001b[39;00m pattern\u001b[38;5;241m.\u001b[39mmatch(s_stripped):\n\u001b[0;32m---> 32\u001b[0m     \u001b[38;5;28;01mraise\u001b[39;00m \u001b[38;5;167;01mValueError\u001b[39;00m(\u001b[38;5;124m\"\u001b[39m\u001b[38;5;124mInvalid format in \u001b[39m\u001b[38;5;132;01m{}\u001b[39;00m\u001b[38;5;124m\"\u001b[39m\u001b[38;5;241m.\u001b[39mformat(s))\n\u001b[1;32m     33\u001b[0m parts \u001b[38;5;241m=\u001b[39m s_stripped\u001b[38;5;241m.\u001b[39msplit(maxsplit\u001b[38;5;241m=\u001b[39m\u001b[38;5;241m1\u001b[39m)\n\u001b[1;32m     34\u001b[0m number \u001b[38;5;241m=\u001b[39m \u001b[38;5;28mfloat\u001b[39m(parts[\u001b[38;5;241m0\u001b[39m])\n",
      "\u001b[0;31mValueError\u001b[0m: Invalid format in 10 kilogram to 15 kilogram"
     ]
    }
   ],
   "source": [
    "import os\n",
    "import pandas as pd\n",
    "from PIL import Image\n",
    "import numpy as np\n",
    "import tensorflow as tf\n",
    "from tensorflow import keras\n",
    "from tensorflow.keras.applications import ResNet50\n",
    "from tensorflow.keras.preprocessing.image import img_to_array\n",
    "from utils import download_images, parse_string\n",
    "from constants import allowed_units\n",
    "from pathlib import Path  # Importing Path\n",
    "\n",
    "# Download images\n",
    "train_df = pd.read_csv('/home/rguktrkvalley/Desktop/train1.csv')\n",
    "test_df = pd.read_csv('/home/rguktrkvalley/Desktop/sample_test.csv')\n",
    "\n",
    "download_folder = '/home/rguktrkvalley/Desktop/images'\n",
    "download_images(train_df['image_link'].tolist() + test_df['image_link'].tolist(), download_folder)\n",
    "\n",
    "# Load model\n",
    "model = ResNet50(weights='imagenet', include_top=False, input_shape=(224, 224, 3))\n",
    "model.trainable = False\n",
    "\n",
    "inputs = keras.layers.Input(shape=(224, 224, 3))\n",
    "x = model(inputs, training=False)\n",
    "x = keras.layers.GlobalAveragePooling2D()(x)\n",
    "outputs = keras.layers.Dense(len(allowed_units), activation='softmax')(x)\n",
    "\n",
    "model = keras.Model(inputs, outputs)\n",
    "model.compile(optimizer='adam', loss='categorical_crossentropy', metrics=['accuracy'])\n",
    "\n",
    "# Preprocess images\n",
    "def preprocess_image(image_path):\n",
    "    image = Image.open(image_path)\n",
    "    image = image.resize((224, 224))\n",
    "    image_array = img_to_array(image)\n",
    "    image_array = np.expand_dims(image_array, axis=0)\n",
    "    image_array = tf.keras.applications.resnet50.preprocess_input(image_array)\n",
    "    return image_array\n",
    "\n",
    "# Train model\n",
    "train_images = [os.path.join(download_folder, Path(link).name) for link in train_df['image_link']]\n",
    "train_labels = train_df['entity_value'].apply(lambda x: parse_string(x)[1]).tolist()\n",
    "train_labels = tf.keras.utils.to_categorical(train_labels, num_classes=len(allowed_units))\n",
    "\n",
    "model.fit(np.concatenate([preprocess_image(path) for path in train_images]),\n",
    "          train_labels,\n",
    "          epochs=10,\n",
    "          batch_size=32,\n",
    "          validation_split=0.2)\n",
    "\n",
    "# Generate predictions\n",
    "test_images = [os.path.join(download_folder, Path(link).name) for link in test_df['image_link']]\n",
    "test_preds = model.predict(np.concatenate([preprocess_image(path) for path in test_images]))\n",
    "\n",
    "# Format output\n",
    "output_df = pd.DataFrame({'index': test_df['index']})\n",
    "output_df['prediction'] = test_preds.argmax(axis=1).apply(lambda x: ' '.join([str(1.0), list(allowed_units.keys())[x]]))\n",
    "output_df.to_csv('/home/rguktrkvalley/Desktop/pertest_out.csv', index=False)\n"
   ]
  },
  {
   "cell_type": "code",
   "execution_count": null,
   "id": "e25f3783-4975-4b19-8746-77eeea847b8c",
   "metadata": {},
   "outputs": [],
   "source": []
  },
  {
   "cell_type": "code",
   "execution_count": null,
   "id": "57b55b4f-7b03-423e-82fa-19e86ac3abd3",
   "metadata": {},
   "outputs": [],
   "source": []
  },
  {
   "cell_type": "code",
   "execution_count": null,
   "id": "9c9472b4-2dfd-47ea-8a21-529c8f6fcb40",
   "metadata": {},
   "outputs": [],
   "source": []
  },
  {
   "cell_type": "code",
   "execution_count": null,
   "id": "ab5ffded-a285-4f92-8149-2f371b6c1276",
   "metadata": {},
   "outputs": [
    {
     "name": "stderr",
     "output_type": "stream",
     "text": [
      "2024-09-16 09:59:25.048197: I tensorflow/tsl/cuda/cudart_stub.cc:28] Could not find cuda drivers on your machine, GPU will not be used.\n",
      "2024-09-16 09:59:31.584457: I tensorflow/tsl/cuda/cudart_stub.cc:28] Could not find cuda drivers on your machine, GPU will not be used.\n",
      "2024-09-16 09:59:32.088365: I tensorflow/core/platform/cpu_feature_guard.cc:182] This TensorFlow binary is optimized to use available CPU instructions in performance-critical operations.\n",
      "To enable the following instructions: AVX2 FMA, in other operations, rebuild TensorFlow with the appropriate compiler flags.\n",
      "2024-09-16 09:59:49.037489: W tensorflow/compiler/tf2tensorrt/utils/py_utils.cc:38] TF-TRT Warning: Could not find TensorRT\n"
     ]
    }
   ],
   "source": [
    "import os\n",
    "import pandas as pd\n",
    "from PIL import Image\n",
    "import numpy as np\n",
    "import tensorflow as tf\n",
    "from tensorflow import keras\n",
    "from tensorflow.keras.applications import ResNet50\n",
    "from tensorflow.keras.preprocessing.image import img_to_array\n",
    "from utils import download_images, parse_string\n",
    "from constants import allowed_units\n",
    "from pathlib import Path\n",
    "\n",
    "# Download images\n",
    "train_df = pd.read_csv('/home/rguktrkvalley/Desktop/train1.csv')\n",
    "test_df = pd.read_csv('/home/rguktrkvalley/Desktop/sample_test.csv')\n",
    "\n",
    "download_folder = '/home/rguktrkvalley/Desktop/images'\n",
    "download_images(train_df['image_link'].tolist() + test_df['image_link'].tolist(), download_folder)\n",
    "\n",
    "# Load model\n",
    "model = ResNet50(weights='imagenet', include_top=False, input_shape=(224, 224, 3))\n",
    "model.trainable = False\n",
    "\n",
    "inputs = keras.layers.Input(shape=(224, 224, 3))\n",
    "x = model(inputs, training=False)\n",
    "x = keras.layers.GlobalAveragePooling2D()(x)\n",
    "outputs = keras.layers.Dense(len(allowed_units), activation='softmax')(x)\n",
    "\n",
    "model = keras.Model(inputs, outputs)\n",
    "model.compile(optimizer='adam', loss='categorical_crossentropy', metrics=['accuracy'])\n",
    "\n",
    "# Preprocess images\n",
    "def preprocess_image(image_path):\n",
    "    try:\n",
    "        image = Image.open(image_path)\n",
    "        image = image.resize((224, 224))\n",
    "        image_array = img_to_array(image)\n",
    "        image_array = np.expand_dims(image_array, axis=0)\n",
    "        image_array = tf.keras.applications.resnet50.preprocess_input(image_array)\n",
    "        return image_array\n",
    "    except Exception as e:\n",
    "        print(f\"Error processing image {image_path}: {e}\")\n",
    "        return None\n",
    "\n",
    "# Prepare training data\n",
    "train_images = [os.path.join(download_folder, Path(link).name) for link in train_df['image_link']]\n",
    "train_labels = train_df['entity_value'].tolist()\n",
    "\n",
    "# Filter out invalid labels\n",
    "valid_labels = []\n",
    "for label in train_labels:\n",
    "    try:\n",
    "        # Skip ranges or invalid formats\n",
    "        if \"to\" in label:\n",
    "            print(f\"Skipping invalid label: {label} - Range not supported\")\n",
    "            continue\n",
    "        number, unit = parse_string(label)\n",
    "        valid_labels.append(unit)  # Only store the unit\n",
    "    except ValueError as e:\n",
    "        print(f\"Skipping invalid label: {label} - {e}\")\n",
    "\n",
    "# Only keep valid images and labels\n",
    "processed_images = []\n",
    "valid_labels_filtered = []\n",
    "\n",
    "for img_path, lbl in zip(train_images, valid_labels):\n",
    "    processed_image = preprocess_image(img_path)\n",
    "    if processed_image is not None:\n",
    "        processed_images.append(processed_image)\n",
    "        valid_labels_filtered.append(lbl)\n",
    "\n",
    "# Convert labels to categorical format\n",
    "train_labels_categorical = tf.keras.utils.to_categorical(\n",
    "    [list(allowed_units).index(lbl) for lbl in valid_labels_filtered if lbl in allowed_units],\n",
    "    num_classes=len(allowed_units)\n",
    ")\n",
    "\n",
    "# Train model\n",
    "if processed_images and len(processed_images) == len(train_labels_categorical):\n",
    "    model.fit(np.concatenate(processed_images),\n",
    "              train_labels_categorical,\n",
    "              epochs=10,\n",
    "              batch_size=32,\n",
    "              validation_split=0.2)\n",
    "else:\n",
    "    print(\"Mismatch in number of processed images and labels. Training aborted.\")\n",
    "\n",
    "# Generate predictions\n",
    "test_images = [os.path.join(download_folder, Path(link).name) for link in test_df['image_link']]\n",
    "test_preds = []\n",
    "\n",
    "for path in test_images:\n",
    "    processed_image = preprocess_image(path)\n",
    "    if processed_image is not None:\n",
    "        test_preds.append(processed_image)\n",
    "\n",
    "# Format output\n",
    "if test_preds:\n",
    "    test_preds_array = model.predict(np.concatenate(test_preds))\n",
    "    output_df = pd.DataFrame({'index': test_df['index']})\n",
    "    output_df['prediction'] = [f\"{1.0} {list(allowed_units)[x]}\" for x in test_preds_array.argmax(axis=1)]\n",
    "    output_df.to_csv('/home/rguktrkvalley/Desktop/pertest_out.csv', index=False)\n",
    "else:\n",
    "    print(\"No valid test images processed. Predictions cannot be generated.\")\n"
   ]
  }
 ],
 "metadata": {
  "kernelspec": {
   "display_name": "Python 3 (ipykernel)",
   "language": "python",
   "name": "python3"
  },
  "language_info": {
   "codemirror_mode": {
    "name": "ipython",
    "version": 3
   },
   "file_extension": ".py",
   "mimetype": "text/x-python",
   "name": "python",
   "nbconvert_exporter": "python",
   "pygments_lexer": "ipython3",
   "version": "3.8.10"
  }
 },
 "nbformat": 4,
 "nbformat_minor": 5
}
