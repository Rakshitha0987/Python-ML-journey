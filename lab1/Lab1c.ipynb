{
 "cells": [
  {
   "cell_type": "code",
   "execution_count": 2,
   "id": "7a2027ac-7e67-45a6-8c4c-802aab9ba1f6",
   "metadata": {},
   "outputs": [
    {
     "name": "stdin",
     "output_type": "stream",
     "text": [
      "enter the color: red\n"
     ]
    },
    {
     "name": "stdout",
     "output_type": "stream",
     "text": [
      "stop\n"
     ]
    }
   ],
   "source": [
    "#program to display the message at traffic signal\n",
    "\n",
    "color=input(\"enter the color:\")\n",
    "if(color==\"red\"):\n",
    "    print(\"stop\")\n",
    "elif(color==\"green\"):\n",
    "    print(\"go\")\n",
    "else:\n",
    "    print(\"wait\")"
   ]
  },
  {
   "cell_type": "code",
   "execution_count": 2,
   "id": "dad36430-d333-4277-bcd8-8ac3c6b42b5d",
   "metadata": {},
   "outputs": [
    {
     "name": "stdout",
     "output_type": "stream",
     "text": [
      "1.Addition \n",
      " 2.Subtraction\n",
      " 3. Multiplication\n",
      " 4.Division\n"
     ]
    },
    {
     "name": "stdin",
     "output_type": "stream",
     "text": [
      "Choose from the above options: 3\n",
      "enter the first number: 3\n",
      "enter the second number: 7\n"
     ]
    },
    {
     "name": "stdout",
     "output_type": "stream",
     "text": [
      "21\n"
     ]
    },
    {
     "name": "stdin",
     "output_type": "stream",
     "text": [
      "Do you want to continue[1:YES 0:NO]: 0\n"
     ]
    }
   ],
   "source": [
    "#program to create simple calculator\n",
    "\n",
    "while(1):\n",
    "    print(\"1.Addition \\n 2.Subtraction\\n 3. Multiplication\\n 4.Division\")\n",
    "    opt=int(input(\"Choose from the above options:\"))\n",
    "    a=int(input(\"enter the first number:\"))\n",
    "    b=int(input(\"enter the second number:\"))\n",
    "    if(opt==1):\n",
    "        print(a+b)\n",
    "    elif(opt==2):\n",
    "        print(a-b)\n",
    "    elif(opt==3):\n",
    "        print(a*b)\n",
    "    elif(opt==4):\n",
    "        print(a/b)\n",
    "    else:\n",
    "        print(\"enter valid number:\")\n",
    "    n=int(input(\"Do you want to continue[1:YES 0:NO]:\"))\n",
    "    if(n==0):\n",
    "            break\n",
    "\n"
   ]
  },
  {
   "cell_type": "code",
   "execution_count": 3,
   "id": "200806b0-14c0-42f7-ad45-f7f6deab86ac",
   "metadata": {},
   "outputs": [
    {
     "name": "stdin",
     "output_type": "stream",
     "text": [
      "please enter the name: kolla\n",
      "please enter your age: 19\n"
     ]
    },
    {
     "name": "stdout",
     "output_type": "stream",
     "text": [
      "kolla is eligible for driving license\n"
     ]
    }
   ],
   "source": [
    "#program to see if eligible for driving license or not\n",
    "\n",
    "name=input(\"please enter the name:\")\n",
    "age=int(input(\"please enter your age:\"))\n",
    "if(age>=18):\n",
    "    print(name,\"is eligible for driving license\")\n",
    "else:\n",
    "    print(name,\"is not eligible for driving license\")\n"
   ]
  },
  {
   "cell_type": "code",
   "execution_count": 4,
   "id": "979704bc-cf0d-47c8-b614-dab05e52cece",
   "metadata": {},
   "outputs": [
    {
     "name": "stdin",
     "output_type": "stream",
     "text": [
      "enter the number: 5\n",
      "enter the number: 34\n",
      "enter the number: 7\n",
      "enter the number: 2\n",
      "enter the number: 6\n"
     ]
    },
    {
     "name": "stdout",
     "output_type": "stream",
     "text": [
      "The maximum number is: 34\n",
      "The minimum number is: 2\n"
     ]
    }
   ],
   "source": [
    "#print min and max of the 5 numbers\n",
    "\n",
    "a=int(input(\"enter the number:\"))\n",
    "max=min=a\n",
    "\n",
    "for i in range(4):\n",
    "    a=int(input(\"enter the number:\"))\n",
    "    if(a<min):\n",
    "        min=a\n",
    "    if(a>max):\n",
    "        max=a\n",
    "print(\"The maximum number is:\",max)\n",
    "print(\"The minimum number is:\",min)\n"
   ]
  },
  {
   "cell_type": "code",
   "execution_count": 4,
   "id": "83bb4041-e6b3-4be8-8809-2711ab96e5e4",
   "metadata": {},
   "outputs": [
    {
     "name": "stdin",
     "output_type": "stream",
     "text": [
      "enter year:  2024\n"
     ]
    },
    {
     "name": "stdout",
     "output_type": "stream",
     "text": [
      "2024  is leap year\n"
     ]
    }
   ],
   "source": [
    "#Leap year or not\n",
    "\n",
    "year=int(input(\"enter year: \"))\n",
    "if (year % 400 == 0) and (year % 100 == 0):\n",
    "    print(year,\" is leap year\")\n",
    "elif (year % 4 == 0) and (year % 100 != 0):\n",
    "    print(year,\" is leap year\")\n",
    "else:\n",
    "    print(year,\" is not leap year\")\n"
   ]
  },
  {
   "cell_type": "code",
   "execution_count": 5,
   "id": "64b658e6-9546-4047-ba33-b9de62a9e7b4",
   "metadata": {},
   "outputs": [
    {
     "name": "stdin",
     "output_type": "stream",
     "text": [
      "Enter the value of n: 7\n"
     ]
    },
    {
     "name": "stdout",
     "output_type": "stream",
     "text": [
      "-5 10 -15 20 -25 30 -35 "
     ]
    }
   ],
   "source": [
    "#generating a sequence -5,10,-15,20.....\n",
    "n=int(input(\"Enter the value of n:\"))\n",
    "for i in range(1,n+1,1):\n",
    "    a=5*i\n",
    "    if(i%2!=0):\n",
    "        print(-a,end=\" \")\n",
    "    else:\n",
    "        print(a,end=\" \")\n"
   ]
  },
  {
   "cell_type": "code",
   "execution_count": 7,
   "id": "ece14d07-f9f6-4052-ae30-d521a9d276d8",
   "metadata": {},
   "outputs": [
    {
     "name": "stdin",
     "output_type": "stream",
     "text": [
      "enter the number: 5\n",
      "enter the number: 7\n",
      "enter the number: -9\n"
     ]
    },
    {
     "name": "stdout",
     "output_type": "stream",
     "text": [
      "The total is: 12\n"
     ]
    }
   ],
   "source": [
    "#sum of all positive number till the negative number\n",
    "\n",
    "sum=0\n",
    "while(1):\n",
    "    a=int(input(\"enter the number:\"))\n",
    "    if(a>=0):\n",
    "        sum=sum+a\n",
    "    else:\n",
    "        break\n",
    "print(\"The total is:\",sum)\n"
   ]
  },
  {
   "cell_type": "code",
   "execution_count": 8,
   "id": "efd8b35b-cc9b-4210-8a49-f0f494092213",
   "metadata": {},
   "outputs": [
    {
     "name": "stdout",
     "output_type": "stream",
     "text": [
      "The prime numbers are:\n",
      "2 3 5 7 11 13 17 19 23 29 31 37 41 43 47 "
     ]
    }
   ],
   "source": [
    "#prime numbers between 2 and 50\n",
    "\n",
    "print(\"The prime numbers are:\")\n",
    "for i in range (2,51,1):\n",
    "    count=0\n",
    "    for j in range(2,i,1):\n",
    "        if (i%j==0):\n",
    "            count=count+1\n",
    "    if(count==0):\n",
    "        print(i,end=\" \")\n"
   ]
  },
  {
   "cell_type": "code",
   "execution_count": 9,
   "id": "565c0c26-8af2-4c45-b20a-31445d6b8f3c",
   "metadata": {},
   "outputs": [
    {
     "name": "stdin",
     "output_type": "stream",
     "text": [
      "enter the number: 67\n"
     ]
    },
    {
     "name": "stdout",
     "output_type": "stream",
     "text": [
      "The factors of the number are:\n",
      "1 67 "
     ]
    }
   ],
   "source": [
    "#factors of a number\n",
    "i=1\n",
    "n=int(input(\"enter the number:\"))\n",
    "print(\"The factors of the number are:\")\n",
    "while(i<=n):\n",
    "    if(n%i==0):\n",
    "        print(i,end=\" \")\n",
    "    i=i+1\n"
   ]
  },
  {
   "cell_type": "code",
   "execution_count": 10,
   "id": "40d62f51-191e-40bc-ba80-4cb3a16f73db",
   "metadata": {},
   "outputs": [
    {
     "name": "stdin",
     "output_type": "stream",
     "text": [
      "enter the no.of values you want: 7\n"
     ]
    },
    {
     "name": "stdout",
     "output_type": "stream",
     "text": [
      "The fibonnaci sequence is:\n",
      "0\n",
      "1\n",
      "1\n",
      "2\n",
      "3\n",
      "5\n",
      "8\n"
     ]
    }
   ],
   "source": [
    "#1.fibonnaci sequence using recursion\n",
    "\n",
    "def fib(n):\n",
    "    if(n<=1):\n",
    "        return n\n",
    "    else:\n",
    "        return fib(n-1)+fib(n-2)\n",
    "n=int(input(\"enter the no.of values you want:\"))\n",
    "if(n<0):\n",
    "    print(\"enter a positive number:\")\n",
    "else:\n",
    "    print(\"The fibonnaci sequence is:\")\n",
    "    for i in range(n):\n",
    "        print(fib(i))\n"
   ]
  },
  {
   "cell_type": "code",
   "execution_count": 11,
   "id": "97f437fa-e631-47be-988d-a4524ef0cb7c",
   "metadata": {},
   "outputs": [
    {
     "name": "stdin",
     "output_type": "stream",
     "text": [
      "enter the value of n: 4\n"
     ]
    },
    {
     "name": "stdout",
     "output_type": "stream",
     "text": [
      "The total is : 10\n"
     ]
    }
   ],
   "source": [
    "#2.sum of n numbers\n",
    "\n",
    "def sum(n):\n",
    "    s=0\n",
    "    for i in range(n+1):\n",
    "        s=s+i\n",
    "    return s\n",
    "n=int(input(\"enter the value of n:\"))\n",
    "total=sum(n)\n",
    "print(\"The total is :\",total)\n"
   ]
  },
  {
   "cell_type": "code",
   "execution_count": 12,
   "id": "2e92c2ad-49a0-4b06-bc90-b06e86814da1",
   "metadata": {},
   "outputs": [
    {
     "name": "stdin",
     "output_type": "stream",
     "text": [
      "enter the no.of values: 4\n",
      "enter the value: 543.9\n",
      "enter the value: 46.0\n",
      "enter the value: 456.8876\n",
      "enter the value: 457.86\n"
     ]
    },
    {
     "name": "stdout",
     "output_type": "stream",
     "text": [
      "The mean of the float values is: 376.16190000000006\n"
     ]
    }
   ],
   "source": [
    "#3.mean of the floating values\n",
    "\n",
    "def mean(list):\n",
    "    total=0\n",
    "    for i in range(len(list)):\n",
    "        total=total+list[i]\n",
    "    mean=total/len(list)\n",
    "    return mean\n",
    "n=int(input(\"enter the no.of values:\"))\n",
    "list=[]\n",
    "for i in range(n):\n",
    "    a=float(input(\"enter the value:\"))\n",
    "    list.append(a)\n",
    "m=mean(list)\n",
    "print(\"The mean of the float values is:\",m)\n"
   ]
  },
  {
   "cell_type": "code",
   "execution_count": 13,
   "id": "439e35aa-1a71-45cd-a791-2d143e32ffe9",
   "metadata": {},
   "outputs": [
    {
     "name": "stdin",
     "output_type": "stream",
     "text": [
      "Please enter the base: 4\n",
      "Please enter the exponent: 2\n"
     ]
    },
    {
     "name": "stdout",
     "output_type": "stream",
     "text": [
      "The answer is: 16\n"
     ]
    }
   ],
   "source": [
    "#4.powers or exponent\n",
    "\n",
    "def power(a,b):\n",
    "    product=1\n",
    "    for i in range(b):\n",
    "        product=product*a\n",
    "    return product\n",
    "b=int(input(\"Please enter the base:\"))\n",
    "e=int(input(\"Please enter the exponent:\"))\n",
    "ans=power(b,e)\n",
    "print(\"The answer is:\",ans)"
   ]
  },
  {
   "cell_type": "code",
   "execution_count": 14,
   "id": "6cbfff80-9c90-4fbd-8c04-ff2a39e19f03",
   "metadata": {},
   "outputs": [
    {
     "name": "stdout",
     "output_type": "stream",
     "text": [
      "the courses offered in all rgukt campuses are: ['p1', 'p2', 'e1-e4']\n",
      "the details of rkv are:\n",
      "the location is: kadapa\n",
      "the strength is: 1000\n"
     ]
    },
    {
     "name": "stdin",
     "output_type": "stream",
     "text": [
      "enter the no.of marks: 54\n"
     ]
    },
    {
     "name": "stdout",
     "output_type": "stream",
     "text": [
      "you will get seat in rgukt branch located in, kadapa\n",
      "the details of ongole rgukt are:\n",
      "the location is: ongole\n",
      "the strength is: 1000\n",
      "the details of nuzvid rgukt are:\n",
      "the location is: nuzvid\n",
      "the strength is: 1000\n",
      "the details of srklm rgukt are:\n",
      "the location is: srikakulam\n",
      "the strength is: 1000\n"
     ]
    },
    {
     "data": {
      "text/plain": [
       "<__main__.rgukt at 0x7f709c555e50>"
      ]
     },
     "execution_count": 14,
     "metadata": {},
     "output_type": "execute_result"
    }
   ],
   "source": [
    "#campuses\n",
    "\n",
    "class rgukt():\n",
    "    def __init__(self,location,strength):\n",
    "        self.location=location\n",
    "        self.strength=strength\n",
    "        print(\"the location is:\",self.location)\n",
    "        print(\"the strength is:\",self.strength)\n",
    "    courses=[\"p1\",\"p2\",\"e1-e4\"]\n",
    "    print(\"the courses offered in all rgukt campuses are:\",courses)\n",
    "    def admission(self,marks):\n",
    "        if(marks>50):\n",
    "            print(\"you will get seat in rgukt branch located in,\",self.location)\n",
    "        else:\n",
    "            print(\"no seat\")\n",
    "    def gender_ratio(self,a):\n",
    "        print(\"the no.of girls out of 1000 are:\",a)\n",
    "        s=(a/self.strength)*100\n",
    "        if(s==50):\n",
    "            print(\"the girls and boys are equal in number.\")\n",
    "        elif(s>50):\n",
    "            print(\"the girls are more in number\")\n",
    "        else:\n",
    "            print(\"the boys are more in number\")\n",
    "print(\"the details of rkv are:\")\n",
    "rkv=rgukt(\"kadapa\",1000)\n",
    "rkv\n",
    "a=int(input(\"enter the no.of marks:\"))\n",
    "rkv.admission(a)\n",
    "print(\"the details of ongole rgukt are:\")\n",
    "ongole=rgukt(\"ongole\",1000)\n",
    "ongole\n",
    "print(\"the details of nuzvid rgukt are:\")\n",
    "nuzvid=rgukt(\"nuzvid\",1000)\n",
    "nuzvid\n",
    "print(\"the details of srklm rgukt are:\")\n",
    "srklm=rgukt(\"srikakulam\",1000)\n",
    "srklm"
   ]
  },
  {
   "cell_type": "code",
   "execution_count": 1,
   "id": "50c0c62b-5d58-48a0-a2ce-f29764e3af5e",
   "metadata": {},
   "outputs": [
    {
     "name": "stdout",
     "output_type": "stream",
     "text": [
      "rakshitha bears an id R20351 and is in the branch: CSE\n",
      "he obtained a percent of 46.7\n",
      "rakshitha obtained D\n",
      "kolla bears an id R200333 and is in the branch: ECE\n",
      "he obtained a percent of 98.0\n",
      "kolla obtained A+\n"
     ]
    }
   ],
   "source": [
    "class student():\n",
    "    def __init__(self,ID,name,branch):\n",
    "        self.ID=ID\n",
    "        self.name=name\n",
    "        self.branch=branch\n",
    "        print(self.name,\"bears an id\",self.ID,\"and is in the branch:\",self.branch)\n",
    "    def percentage(self,total):\n",
    "        percent=(total/1000)*100\n",
    "        return percent\n",
    "    def grade(self,percent):\n",
    "        if(percent>=90):\n",
    "            print(self.name,\"obtained A+\")\n",
    "        elif(80<=percent<90):\n",
    "            print(self.name,\"obtained A\")\n",
    "        elif(70<=percent<80):\n",
    "            print(self.name,\"obtained B+\")\n",
    "        elif(60<=percent<70):\n",
    "             print(self.name,\"obtained B\")\n",
    "        elif(50<=percent<60):\n",
    "             print(self.name,\"obtained C\")\n",
    "        else:\n",
    "             print(self.name,\"obtained D\")\n",
    "arjun=student(\"R20351\",\"rakshitha\",\"CSE\")\n",
    "percent=arjun.percentage(467)\n",
    "print(\"he obtained a percent of\",percent)\n",
    "arjun.grade(percent)\n",
    "aravind=student(\"R200333\",\"kolla\",\"ECE\")\n",
    "percent=aravind.percentage(980)\n",
    "print(\"he obtained a percent of\",percent)\n",
    "aravind.grade(percent)"
   ]
  },
  {
   "cell_type": "code",
   "execution_count": 12,
   "id": "ce404cb8-e3c6-4f5f-88b8-61f123da5017",
   "metadata": {},
   "outputs": [
    {
     "name": "stdout",
     "output_type": "stream",
     "text": [
      "20\n"
     ]
    },
    {
     "name": "stdin",
     "output_type": "stream",
     "text": [
      "enter dfgh\n"
     ]
    },
    {
     "name": "stdout",
     "output_type": "stream",
     "text": [
      "dfgh\n",
      "20\n"
     ]
    },
    {
     "name": "stdin",
     "output_type": "stream",
     "text": [
      "enter asd\n"
     ]
    },
    {
     "name": "stdout",
     "output_type": "stream",
     "text": [
      "asd\n"
     ]
    }
   ],
   "source": [
    "class rgukt():\n",
    "    def print(self):\n",
    "        print(self.age)\n",
    "        name=input(\"enter\")\n",
    "        print(name)\n",
    "obj1=rgukt()\n",
    "obj1.age=20\n",
    "obj1.print()\n",
    "obj1.name=\"rakshi\"\n",
    "obj1.print()"
   ]
  }
 ],
 "metadata": {
  "kernelspec": {
   "display_name": "Python 3 (ipykernel)",
   "language": "python",
   "name": "python3"
  },
  "language_info": {
   "codemirror_mode": {
    "name": "ipython",
    "version": 3
   },
   "file_extension": ".py",
   "mimetype": "text/x-python",
   "name": "python",
   "nbconvert_exporter": "python",
   "pygments_lexer": "ipython3",
   "version": "3.8.10"
  }
 },
 "nbformat": 4,
 "nbformat_minor": 5
}
