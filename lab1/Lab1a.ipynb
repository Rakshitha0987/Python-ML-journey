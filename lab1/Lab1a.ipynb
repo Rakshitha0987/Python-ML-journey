{
 "cells": [
  {
   "cell_type": "code",
   "execution_count": 1,
   "id": "5eeafa71-e554-4062-a92d-84082c45e97a",
   "metadata": {},
   "outputs": [
    {
     "name": "stdin",
     "output_type": "stream",
     "text": [
      "enter string:  hello world\n"
     ]
    },
    {
     "name": "stdout",
     "output_type": "stream",
     "text": [
      "dlrow olleh"
     ]
    }
   ],
   "source": [
    "#reversing string\n",
    "str=input(\"enter string: \")\n",
    "for i in range(len(str)-1,-1,-1):\n",
    "    print(str[i],end=\"\")"
   ]
  },
  {
   "cell_type": "code",
   "execution_count": 37,
   "id": "786e13ce-ff71-4092-a5fa-742370ee21c4",
   "metadata": {},
   "outputs": [
    {
     "name": "stdin",
     "output_type": "stream",
     "text": [
      "Enter string:  hello world good morning\n"
     ]
    },
    {
     "name": "stdout",
     "output_type": "stream",
     "text": [
      "total no of char=  24\n",
      "total no of alphabets= 21\n",
      "total no of degits= 0\n",
      "total no of special char= 0\n",
      "total no of words= 4\n"
     ]
    }
   ],
   "source": [
    "string=input(\"Enter string: \")\n",
    "char=0\n",
    "for i in string:\n",
    "    char+=1\n",
    "print(\"total no of char= \",char)\n",
    "alpha=0\n",
    "for i in string:\n",
    "    if('A' <= i)and(i <= 'Z'):\n",
    "        alpha+=1\n",
    "    elif('a' <= i)and(i <= 'z'):\n",
    "        alpha+=1\n",
    "print(\"total no of alphabets=\",alpha)\n",
    "digit=0\n",
    "for i in string:\n",
    "    if(48<=ord(i))and(ord(i) <= 57):\n",
    "        digit+=1\n",
    "print(\"total no of degits=\",digit)\n",
    "spc=0\n",
    "for i in string:\n",
    "    if i.isalpha():\n",
    "        continue\n",
    "    elif i.isdigit():\n",
    "        continue\n",
    "    elif i.isspace():\n",
    "        continue\n",
    "    else:\n",
    "        spc+=1\n",
    "print(\"total no of special char=\",spc)    \n",
    "list=string.split()\n",
    "words=len(list)\n",
    "print(\"total no of words=\",words)"
   ]
  },
  {
   "cell_type": "code",
   "execution_count": 38,
   "id": "47c0c7bc-9e5e-4b9f-a6f4-1a2809c048e3",
   "metadata": {},
   "outputs": [
    {
     "name": "stdin",
     "output_type": "stream",
     "text": [
      "enter the first number: 20\n",
      "enter the second number: 30\n"
     ]
    },
    {
     "name": "stdout",
     "output_type": "stream",
     "text": [
      "Before swapping\n",
      "The first number is: 20\n",
      "The second number is: 30\n",
      "After swapping:\n",
      "The first number is: 30\n",
      "The second number is: 20\n"
     ]
    }
   ],
   "source": [
    "#swapping\n",
    "\n",
    "a=int(input(\"enter the first number:\"))\n",
    "b=int(input(\"enter the second number:\"))\n",
    "print(\"Before swapping\")\n",
    "print(\"The first number is:\",a)\n",
    "print(\"The second number is:\",b)\n",
    "a=a+b\n",
    "b=a-b\n",
    "a=a-b\n",
    "print(\"After swapping:\")\n",
    "print(\"The first number is:\",a)\n",
    "print(\"The second number is:\",b)"
   ]
  },
  {
   "cell_type": "code",
   "execution_count": 39,
   "id": "1ba0931d-ace8-4024-8be7-b5441c874113",
   "metadata": {},
   "outputs": [
    {
     "name": "stdin",
     "output_type": "stream",
     "text": [
      "enter your name: rakshitha\n",
      "Please enter your age: 19\n"
     ]
    },
    {
     "name": "stdout",
     "output_type": "stream",
     "text": [
      "Considering current year as 2024:\n",
      "rakshitha will be 100 years old in 2105\n"
     ]
    }
   ],
   "source": [
    "#100 years old\n",
    "\n",
    "name=input(\"enter your name:\")\n",
    "age=int(input(\"Please enter your age:\"))\n",
    "print(\"Considering current year as 2024:\")\n",
    "b=100-age\n",
    "print(name,\"will be 100 years old in\",2024+b)"
   ]
  },
  {
   "cell_type": "code",
   "execution_count": 40,
   "id": "63062eaa-5956-4f51-b9bd-45a3509ed608",
   "metadata": {},
   "outputs": [
    {
     "name": "stdout",
     "output_type": "stream",
     "text": [
      "9\n"
     ]
    }
   ],
   "source": [
    "#expression1\n",
    "\n",
    "num1=4\n",
    "num2=3\n",
    "num3=2\n",
    "num1+=num2+num3\n",
    "print(num1)\n"
   ]
  },
  {
   "cell_type": "code",
   "execution_count": 41,
   "id": "e1102f79-f60c-430e-b7a4-faf4311f3e8a",
   "metadata": {},
   "outputs": [
    {
     "name": "stdout",
     "output_type": "stream",
     "text": [
      "1024\n"
     ]
    }
   ],
   "source": [
    "#expression2\n",
    "num1=4\n",
    "num2=3\n",
    "num3=2\n",
    "num1=num1**(num2+num3)\n",
    "print(num1)\n"
   ]
  },
  {
   "cell_type": "code",
   "execution_count": 42,
   "id": "2f31f630-0f1e-42b7-8ba0-c9edaa57358d",
   "metadata": {},
   "outputs": [
    {
     "name": "stdout",
     "output_type": "stream",
     "text": [
      "1024\n"
     ]
    }
   ],
   "source": [
    "#expression3\n",
    "num1=4\n",
    "num2=3\n",
    "num3=2\n",
    "num1**=num2+num3\n",
    "print(num1)\n"
   ]
  },
  {
   "cell_type": "code",
   "execution_count": 43,
   "id": "d150dec9-2511-428e-af64-ac73d72ea5da",
   "metadata": {},
   "outputs": [
    {
     "name": "stdout",
     "output_type": "stream",
     "text": [
      "55\n"
     ]
    }
   ],
   "source": [
    "#expression4\n",
    "\n",
    "num1='5'+'5'\n",
    "print(num1)\n"
   ]
  },
  {
   "cell_type": "code",
   "execution_count": 44,
   "id": "f07ec6fd-87d5-472c-8586-8b20dbfcb459",
   "metadata": {},
   "outputs": [
    {
     "name": "stdout",
     "output_type": "stream",
     "text": [
      "True\n"
     ]
    }
   ],
   "source": [
    "#expression5\n",
    "print(10+6*2**2!=9//4-3 and 29>=29/9)"
   ]
  },
  {
   "cell_type": "code",
   "execution_count": 45,
   "id": "e1117dfb-9481-4441-b9e3-4746daa83f5f",
   "metadata": {},
   "outputs": [
    {
     "name": "stdout",
     "output_type": "stream",
     "text": [
      "True\n"
     ]
    }
   ],
   "source": [
    "#expression6\n",
    "print(5%10+10<50 and 29<=29)"
   ]
  }
 ],
 "metadata": {
  "kernelspec": {
   "display_name": "Python 3 (ipykernel)",
   "language": "python",
   "name": "python3"
  },
  "language_info": {
   "codemirror_mode": {
    "name": "ipython",
    "version": 3
   },
   "file_extension": ".py",
   "mimetype": "text/x-python",
   "name": "python",
   "nbconvert_exporter": "python",
   "pygments_lexer": "ipython3",
   "version": "3.8.10"
  }
 },
 "nbformat": 4,
 "nbformat_minor": 5
}
