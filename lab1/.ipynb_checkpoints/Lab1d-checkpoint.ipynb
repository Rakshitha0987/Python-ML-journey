{
 "cells": [
  {
   "cell_type": "code",
   "execution_count": 6,
   "id": "4c8da65f-c952-41a0-8eb2-3b6c7ca05fd3",
   "metadata": {},
   "outputs": [
    {
     "name": "stdout",
     "output_type": "stream",
     "text": [
      "enter the data:\n"
     ]
    },
    {
     "name": "stdin",
     "output_type": "stream",
     "text": [
      "enter line: hello world\n",
      "Do you want to continue entering the data[1:YES 0:NO]: 1\n",
      "enter line: how r u\n",
      "Do you want to continue entering the data[1:YES 0:NO]: 1\n",
      "enter line: good bye\n",
      "Do you want to continue entering the data[1:YES 0:NO]: 0\n"
     ]
    }
   ],
   "source": [
    "a=open(\"hi.txt\",\"w\")\n",
    "print(\"enter the data:\")\n",
    "while(1):\n",
    "    str=input(\"enter line:\")\n",
    "    a.writelines(str+\"\\n\")\n",
    "    n=int(input(\"Do you want to continue entering the data[1:YES 0:NO]:\"))\n",
    "    if(n==0):\n",
    "        break\n",
    "a.close()"
   ]
  },
  {
   "cell_type": "code",
   "execution_count": 7,
   "id": "6333ce6d-7c45-40e8-959a-9f1c5d55652f",
   "metadata": {},
   "outputs": [
    {
     "name": "stdout",
     "output_type": "stream",
     "text": [
      "['hello world\\n', 'how r u\\n', 'good bye\\n']\n"
     ]
    }
   ],
   "source": [
    "b=open(\"hi.txt\",\"r\")\n",
    "print(b.readlines())\n"
   ]
  },
  {
   "cell_type": "code",
   "execution_count": 8,
   "id": "8d022f64-48d9-4c71-ab42-32cdb6bd6c4e",
   "metadata": {},
   "outputs": [
    {
     "name": "stdin",
     "output_type": "stream",
     "text": [
      "enter the ID of the student: R200351\n",
      "enter the name: RAKSHITHA\n",
      "enter the roll number of the student: 25\n",
      "enter the branch: CSE\n",
      "enter the year of join: 2020\n",
      "enter your address: DHARMAVARAM\n"
     ]
    },
    {
     "name": "stdout",
     "output_type": "stream",
     "text": [
      "['ID:R200351\\n', 'NAME:RAKSHITHA\\n', 'ROLL NO:25\\n', 'BRANCH:CSE\\n', 'YEAR OF JOIN:2020\\n', 'ADDRESS:DHARMAVARAM\\n']\n"
     ]
    }
   ],
   "source": [
    "a=open(\"student.txt\",\"w\")\n",
    "id=input(\"enter the ID of the student:\")\n",
    "name=input(\"enter the name:\")\n",
    "rollnum=input(\"enter the roll number of the student:\")\n",
    "branch=input(\"enter the branch:\")\n",
    "year=input(\"enter the year of join:\")\n",
    "address=input(\"enter your address:\")\n",
    "a.writelines(\"ID:\"+id+\"\\n\")\n",
    "a.writelines(\"NAME:\"+name+\"\\n\")\n",
    "a.writelines(\"ROLL NO:\"+rollnum+\"\\n\")\n",
    "a.writelines(\"BRANCH:\"+branch+\"\\n\")\n",
    "a.writelines(\"YEAR OF JOIN:\"+year+\"\\n\")\n",
    "a.writelines(\"ADDRESS:\"+address+\"\\n\")\n",
    "a.close()\n",
    "b=open(\"student.txt\",\"r\")\n",
    "print(b.readlines())\n"
   ]
  },
  {
   "cell_type": "code",
   "execution_count": 9,
   "id": "395016ad-ab7f-4ced-a98b-3a8bd2c05c46",
   "metadata": {},
   "outputs": [],
   "source": [
    "import pickle as pc"
   ]
  },
  {
   "cell_type": "code",
   "execution_count": 5,
   "id": "90ca85b6-5b3f-45d0-bbb8-426865569a0c",
   "metadata": {},
   "outputs": [
    {
     "name": "stdin",
     "output_type": "stream",
     "text": [
      "enter the ID of the student: R200351\n",
      "enter the name: RAKSHITHA\n",
      "enter the branch: CSE\n",
      "enter the year of join: 2020\n",
      "enter the marks: 90\n"
     ]
    },
    {
     "data": {
      "text/plain": [
       "['R200351', 'RAKSHITHA', 'CSE', '2020', '90']"
      ]
     },
     "execution_count": 5,
     "metadata": {},
     "output_type": "execute_result"
    }
   ],
   "source": [
    "a=open(\"file.bin\",\"wb\")\n",
    "id=input(\"enter the ID of the student:\")\n",
    "name=input(\"enter the name:\")\n",
    "branch=input(\"enter the branch:\")\n",
    "year=input(\"enter the year of join:\")\n",
    "marks=input(\"enter the marks:\")\n",
    "dataobject=[id,name,branch,year,marks]\n",
    "pc.dump(dataobject,a)\n",
    "a.close()\n",
    "b=open(\"file.bin\",\"rb\")\n",
    "pc.load(b)"
   ]
  },
  {
   "cell_type": "code",
   "execution_count": 2,
   "id": "0760b51e-e401-43f3-bee2-acda84599486",
   "metadata": {},
   "outputs": [],
   "source": [
    "import pandas as pd\n",
    "import numpy as np\n",
    "import calendar as cd"
   ]
  },
  {
   "cell_type": "code",
   "execution_count": 10,
   "id": "8eae69b0-472a-466d-a4bf-d90b66e7e9a5",
   "metadata": {},
   "outputs": [
    {
     "name": "stdout",
     "output_type": "stream",
     "text": [
      "Requirement already satisfied: pandas in ./notebookenv/lib/python3.8/site-packages (2.0.3)\n",
      "Requirement already satisfied: python-dateutil>=2.8.2 in ./notebookenv/lib/python3.8/site-packages (from pandas) (2.8.2)\n",
      "Requirement already satisfied: pytz>=2020.1 in ./notebookenv/lib/python3.8/site-packages (from pandas) (2024.1)\n",
      "Requirement already satisfied: tzdata>=2022.1 in ./notebookenv/lib/python3.8/site-packages (from pandas) (2024.1)\n",
      "Requirement already satisfied: numpy>=1.20.3 in ./notebookenv/lib/python3.8/site-packages (from pandas) (1.24.4)\n",
      "Requirement already satisfied: six>=1.5 in ./notebookenv/lib/python3.8/site-packages (from python-dateutil>=2.8.2->pandas) (1.16.0)\n",
      "\n",
      "\u001b[1m[\u001b[0m\u001b[34;49mnotice\u001b[0m\u001b[1;39;49m]\u001b[0m\u001b[39;49m A new release of pip is available: \u001b[0m\u001b[31;49m23.3.1\u001b[0m\u001b[39;49m -> \u001b[0m\u001b[32;49m24.0\u001b[0m\n",
      "\u001b[1m[\u001b[0m\u001b[34;49mnotice\u001b[0m\u001b[1;39;49m]\u001b[0m\u001b[39;49m To update, run: \u001b[0m\u001b[32;49mpip install --upgrade pip\u001b[0m\n",
      "Note: you may need to restart the kernel to use updated packages.\n"
     ]
    }
   ],
   "source": [
    "pip install pandas"
   ]
  },
  {
   "cell_type": "code",
   "execution_count": 3,
   "id": "00123d1d-e58e-4ec4-bf08-86acbcaac321",
   "metadata": {},
   "outputs": [],
   "source": [
    "import pandas as pd\n",
    "import numpy as np\n",
    "import calendar as cd\n"
   ]
  },
  {
   "cell_type": "code",
   "execution_count": 25,
   "id": "f90f5e85-5708-4cfb-a5c2-7c0c71e43d69",
   "metadata": {},
   "outputs": [
    {
     "data": {
      "text/plain": [
       "0     a\n",
       "1     b\n",
       "2     c\n",
       "3     d\n",
       "4     e\n",
       "5     f\n",
       "6     g\n",
       "7     h\n",
       "8     i\n",
       "9     j\n",
       "10    k\n",
       "11    l\n",
       "12    m\n",
       "13    n\n",
       "14    o\n",
       "15    p\n",
       "16    q\n",
       "17    r\n",
       "18    s\n",
       "19    t\n",
       "20    u\n",
       "21    v\n",
       "22    w\n",
       "23    x\n",
       "24    y\n",
       "25    z\n",
       "dtype: object"
      ]
     },
     "execution_count": 25,
     "metadata": {},
     "output_type": "execute_result"
    }
   ],
   "source": [
    "list=[]\n",
    "for i in range(97,123,1):\n",
    "    list.append(chr(i))\n",
    "EngAlph=pd.Series(list)\n",
    "EngAlph\n"
   ]
  },
  {
   "cell_type": "code",
   "execution_count": 15,
   "id": "fff0044d-e740-4be4-8576-563cfe8a8ddc",
   "metadata": {},
   "outputs": [
    {
     "name": "stdout",
     "output_type": "stream",
     "text": [
      "a    0\n",
      "e    0\n",
      "i    0\n",
      "o    0\n",
      "u    0\n",
      "dtype: int64\n",
      "The series is not empty\n"
     ]
    }
   ],
   "source": [
    "a1=np.zeros([5],dtype=int)\n",
    "Vowels=pd.Series(a1,index=[\"a\",\"e\",\"i\",\"o\",\"u\"])\n",
    "print(Vowels)\n",
    "if(Vowels.empty):\n",
    "    print(\"The series is empty\")\n",
    "else:\n",
    "    print(\"The series is not empty\")"
   ]
  },
  {
   "cell_type": "code",
   "execution_count": 4,
   "id": "b704d5c7-7cb3-4fd9-b233-fa75bb49a4c9",
   "metadata": {},
   "outputs": [
    {
     "data": {
      "text/plain": [
       "Rakshi     25\n",
       "Cherry     14\n",
       "Abhi       19\n",
       "Rajitha    13\n",
       "Manasa     36\n",
       "dtype: int64"
      ]
     },
     "execution_count": 4,
     "metadata": {},
     "output_type": "execute_result"
    }
   ],
   "source": [
    "Friends=pd.Series({\"Rakshi\":25,\"Cherry\":14,\"Abhi\":19,\"Rajitha\":13,\"Manasa\":36})\n",
    "Friends"
   ]
  },
  {
   "cell_type": "code",
   "execution_count": 5,
   "id": "a643d2ed-112b-43b3-b887-4cdd482c5294",
   "metadata": {},
   "outputs": [
    {
     "name": "stdout",
     "output_type": "stream",
     "text": [
      "Series([], dtype: object)\n",
      "The series is empty\n"
     ]
    }
   ],
   "source": [
    "MTseries=pd.Series()\n",
    "print(MTseries)\n",
    "\n",
    "if(MTseries.empty):\n",
    "    print(\"The series is empty\")\n",
    "else:\n",
    "    print(\"The series is not empty\")"
   ]
  },
  {
   "cell_type": "code",
   "execution_count": 6,
   "id": "045388f7-b06e-4289-82eb-f96c9f9df33b",
   "metadata": {},
   "outputs": [
    {
     "data": {
      "text/plain": [
       "1     31\n",
       "2     29\n",
       "3     31\n",
       "4     30\n",
       "5     31\n",
       "6     30\n",
       "7     31\n",
       "8     31\n",
       "9     30\n",
       "10    31\n",
       "11    30\n",
       "12    31\n",
       "dtype: int64"
      ]
     },
     "execution_count": 6,
     "metadata": {},
     "output_type": "execute_result"
    }
   ],
   "source": [
    "days=np.array([31,29,31,30,31,30,31,31,30,31,30,31])\n",
    "MonthDays=pd.Series(days,index=[1,2,3,4,5,6,7,8,9,10,11,12])\n",
    "MonthDays"
   ]
  },
  {
   "cell_type": "code",
   "execution_count": 16,
   "id": "ababb349-16fc-4526-a684-2aeee6750ff7",
   "metadata": {},
   "outputs": [
    {
     "data": {
      "text/plain": [
       "a    10\n",
       "e    10\n",
       "i    10\n",
       "o    10\n",
       "u    10\n",
       "dtype: int64"
      ]
     },
     "execution_count": 16,
     "metadata": {},
     "output_type": "execute_result"
    }
   ],
   "source": [
    "Vowels=Vowels+10\n",
    "Vowels"
   ]
  },
  {
   "cell_type": "code",
   "execution_count": 17,
   "id": "e11fa6d8-ab11-48b7-b1ea-cc5c43e9e963",
   "metadata": {},
   "outputs": [
    {
     "data": {
      "text/plain": [
       "a    5.0\n",
       "e    5.0\n",
       "i    5.0\n",
       "o    5.0\n",
       "u    5.0\n",
       "dtype: float64"
      ]
     },
     "execution_count": 17,
     "metadata": {},
     "output_type": "execute_result"
    }
   ],
   "source": [
    "Vowels=Vowels/2\n",
    "Vowels"
   ]
  },
  {
   "cell_type": "code",
   "execution_count": 18,
   "id": "7f013431-9b96-44bd-a05c-deb37f6b5641",
   "metadata": {},
   "outputs": [
    {
     "data": {
      "text/plain": [
       "a    2\n",
       "e    5\n",
       "i    6\n",
       "o    3\n",
       "u    8\n",
       "dtype: int64"
      ]
     },
     "execution_count": 18,
     "metadata": {},
     "output_type": "execute_result"
    }
   ],
   "source": [
    "Vowels1=pd.Series([2,5,6,3,8],index=[\"a\",\"e\",\"i\",\"o\",\"u\"])\n",
    "Vowels1"
   ]
  },
  {
   "cell_type": "code",
   "execution_count": 19,
   "id": "baf40fea-170e-4f26-8f7b-9d11df61bc6f",
   "metadata": {},
   "outputs": [
    {
     "data": {
      "text/plain": [
       "a     7.0\n",
       "e    10.0\n",
       "i    11.0\n",
       "o     8.0\n",
       "u    13.0\n",
       "dtype: float64"
      ]
     },
     "execution_count": 19,
     "metadata": {},
     "output_type": "execute_result"
    }
   ],
   "source": [
    "Vowels3=Vowels+Vowels1\n",
    "Vowels3"
   ]
  },
  {
   "cell_type": "code",
   "execution_count": 20,
   "id": "d05b8c50-b3b8-47a0-bfa7-5527d04adf78",
   "metadata": {},
   "outputs": [
    {
     "name": "stdout",
     "output_type": "stream",
     "text": [
      "a    3.0\n",
      "e    0.0\n",
      "i   -1.0\n",
      "o    2.0\n",
      "u   -3.0\n",
      "dtype: float64\n"
     ]
    }
   ],
   "source": [
    "#Vowels-Vowels1\n",
    "print(Vowels-Vowels1)"
   ]
  },
  {
   "cell_type": "code",
   "execution_count": 21,
   "id": "3f20913b-32c0-4dfc-8e4e-d0bb9981d694",
   "metadata": {},
   "outputs": [
    {
     "data": {
      "text/plain": [
       "a    2.500000\n",
       "e    1.000000\n",
       "i    0.833333\n",
       "o    1.666667\n",
       "u    0.625000\n",
       "dtype: float64"
      ]
     },
     "execution_count": 21,
     "metadata": {},
     "output_type": "execute_result"
    }
   ],
   "source": [
    "Vowels/Vowels1"
   ]
  },
  {
   "cell_type": "code",
   "execution_count": 22,
   "id": "846b2359-8b6c-47f1-96a5-1d5a3e39768f",
   "metadata": {},
   "outputs": [
    {
     "data": {
      "text/plain": [
       "a    10.0\n",
       "e    25.0\n",
       "i    30.0\n",
       "o    15.0\n",
       "u    40.0\n",
       "dtype: float64"
      ]
     },
     "execution_count": 22,
     "metadata": {},
     "output_type": "execute_result"
    }
   ],
   "source": [
    "Vowels*Vowels1"
   ]
  },
  {
   "cell_type": "code",
   "execution_count": 23,
   "id": "e4175db0-f6df-4a30-b6f0-70b433885617",
   "metadata": {},
   "outputs": [
    {
     "data": {
      "text/plain": [
       "A    2\n",
       "E    5\n",
       "I    6\n",
       "O    3\n",
       "U    8\n",
       "dtype: int64"
      ]
     },
     "execution_count": 23,
     "metadata": {},
     "output_type": "execute_result"
    }
   ],
   "source": [
    "Vowels1.index=[\"A\",\"E\",\"I\",\"O\",\"U\"]\n",
    "Vowels1"
   ]
  },
  {
   "cell_type": "code",
   "execution_count": 26,
   "id": "170a16c4-e3ad-4f44-94d4-60b0a4f1d90e",
   "metadata": {},
   "outputs": [
    {
     "name": "stdout",
     "output_type": "stream",
     "text": [
      "The dimensions of the Series EngAlph is 1D\n",
      "The size of the Series EngAlph is: 26\n",
      "The values of the Series EngAlph are: ['a' 'b' 'c' 'd' 'e' 'f' 'g' 'h' 'i' 'j' 'k' 'l' 'm' 'n' 'o' 'p' 'q' 'r'\n",
      " 's' 't' 'u' 'v' 'w' 'x' 'y' 'z']\n"
     ]
    }
   ],
   "source": [
    "print(\"The dimensions of the Series EngAlph is 1D\")\n",
    "print(\"The size of the Series EngAlph is:\",EngAlph.size)\n",
    "print(\"The values of the Series EngAlph are:\",EngAlph.values)"
   ]
  },
  {
   "cell_type": "code",
   "execution_count": 27,
   "id": "e1b39f7b-f4c4-4a9a-8793-7aedeaf58284",
   "metadata": {},
   "outputs": [
    {
     "name": "stdout",
     "output_type": "stream",
     "text": [
      "The dimensions of the Series Vowels is 1D\n",
      "The size of the Series Vowels is: 5\n",
      "The values of the Series Vowles are: [5. 5. 5. 5. 5.]\n"
     ]
    }
   ],
   "source": [
    "print(\"The dimensions of the Series Vowels is 1D\")\n",
    "print(\"The size of the Series Vowels is:\",Vowels.size)\n",
    "print(\"The values of the Series Vowles are:\",Vowels.values)"
   ]
  },
  {
   "cell_type": "code",
   "execution_count": 28,
   "id": "5a32a6ac-2889-4534-be27-21971f654712",
   "metadata": {},
   "outputs": [
    {
     "name": "stdout",
     "output_type": "stream",
     "text": [
      "The dimensions of the Series Friends is 1D\n",
      "The size of the Series Friends is: 5\n",
      "The values of the Series Friends are: [25 14 19 13 36]\n"
     ]
    }
   ],
   "source": [
    "print(\"The dimensions of the Series Friends is 1D\")\n",
    "print(\"The size of the Series Friends is:\",Friends.size)\n",
    "print(\"The values of the Series Friends are:\",Friends.values)"
   ]
  },
  {
   "cell_type": "code",
   "execution_count": 28,
   "id": "efe21824-3c91-4b87-90ad-473d40c62e69",
   "metadata": {},
   "outputs": [
    {
     "name": "stdout",
     "output_type": "stream",
     "text": [
      "The dimensions of the Series MTseries is 1D\n",
      "The size of the Series MTseries is: 0\n",
      "The values of the Series MTseries are: []\n"
     ]
    }
   ],
   "source": [
    "print(\"The dimensions of the Series MTseries is 1D\")\n",
    "print(\"The size of the Series MTseries is:\",MTseries.size)\n",
    "print(\"The values of the Series MTseries are:\",MTseries.values)"
   ]
  },
  {
   "cell_type": "code",
   "execution_count": 29,
   "id": "a09fdf85-428c-44fb-987c-d4f625bb5d9c",
   "metadata": {},
   "outputs": [
    {
     "name": "stdout",
     "output_type": "stream",
     "text": [
      "The dimensions of the Series MonthDaysis 1D\n",
      "The size of the Series MonthDays is: 12\n",
      "The values of the Series MonthDays are: [31 29 31 30 31 30 31 31 30 31 30 31]\n"
     ]
    }
   ],
   "source": [
    "print(\"The dimensions of the Series MonthDaysis 1D\")\n",
    "print(\"The size of the Series MonthDays is:\",MonthDays.size)\n",
    "print(\"The values of the Series MonthDays are:\",MonthDays.values)"
   ]
  },
  {
   "cell_type": "code",
   "execution_count": 30,
   "id": "3c658167-dd02-4c1a-a901-1d22fcc1ab98",
   "metadata": {},
   "outputs": [
    {
     "data": {
      "text/plain": [
       "Series([], Name: SeriesEmpty, dtype: object)"
      ]
     },
     "execution_count": 30,
     "metadata": {},
     "output_type": "execute_result"
    }
   ],
   "source": [
    "MTseries.name=\"SeriesEmpty\"\n",
    "MTseries"
   ]
  },
  {
   "cell_type": "code",
   "execution_count": 31,
   "id": "5bf07144-3b41-41b3-8b37-a58cf12882b1",
   "metadata": {},
   "outputs": [
    {
     "data": {
      "text/plain": [
       "monthno\n",
       "1     31\n",
       "2     29\n",
       "3     31\n",
       "4     30\n",
       "5     31\n",
       "6     30\n",
       "7     31\n",
       "8     31\n",
       "9     30\n",
       "10    31\n",
       "11    30\n",
       "12    31\n",
       "dtype: int64"
      ]
     },
     "execution_count": 31,
     "metadata": {},
     "output_type": "execute_result"
    }
   ],
   "source": [
    "MonthDays.index.name=\"monthno\"\n",
    "MonthDays"
   ]
  },
  {
   "cell_type": "code",
   "execution_count": 31,
   "id": "3e5ad3bc-4a0b-4ef7-8d23-39e011ffc3e0",
   "metadata": {},
   "outputs": [
    {
     "name": "stdout",
     "output_type": "stream",
     "text": [
      "The 3rd and 2nd values of the series Friends are:\n"
     ]
    },
    {
     "data": {
      "text/plain": [
       "Abhi      19\n",
       "Cherry    14\n",
       "dtype: int64"
      ]
     },
     "execution_count": 31,
     "metadata": {},
     "output_type": "execute_result"
    }
   ],
   "source": [
    "print(\"The 3rd and 2nd values of the series Friends are:\")\n",
    "Friends[2:0:-1]"
   ]
  },
  {
   "cell_type": "code",
   "execution_count": 32,
   "id": "77426915-f102-4e43-b689-4cb8e862acfd",
   "metadata": {},
   "outputs": [
    {
     "data": {
      "text/plain": [
       "4     e\n",
       "5     f\n",
       "6     g\n",
       "7     h\n",
       "8     i\n",
       "9     j\n",
       "10    k\n",
       "11    l\n",
       "12    m\n",
       "13    n\n",
       "14    o\n",
       "15    p\n",
       "dtype: object"
      ]
     },
     "execution_count": 32,
     "metadata": {},
     "output_type": "execute_result"
    }
   ],
   "source": [
    "e=pd.Index(EngAlph).get_loc(\"e\")\n",
    "p=pd.Index(EngAlph).get_loc(\"q\")\n",
    "EngAlph[e:p]"
   ]
  },
  {
   "cell_type": "code",
   "execution_count": 33,
   "id": "ca5dec9d-0e62-4c22-8a3b-a6301ce4a94d",
   "metadata": {},
   "outputs": [
    {
     "data": {
      "text/plain": [
       "0    a\n",
       "1    b\n",
       "2    c\n",
       "3    d\n",
       "4    e\n",
       "5    f\n",
       "6    g\n",
       "7    h\n",
       "8    i\n",
       "9    j\n",
       "dtype: object"
      ]
     },
     "execution_count": 33,
     "metadata": {},
     "output_type": "execute_result"
    }
   ],
   "source": [
    "EngAlph.head(10)"
   ]
  },
  {
   "cell_type": "code",
   "execution_count": 34,
   "id": "40145669-6985-4ad1-b131-c063d4bab502",
   "metadata": {},
   "outputs": [
    {
     "data": {
      "text/plain": [
       "16    q\n",
       "17    r\n",
       "18    s\n",
       "19    t\n",
       "20    u\n",
       "21    v\n",
       "22    w\n",
       "23    x\n",
       "24    y\n",
       "25    z\n",
       "dtype: object"
      ]
     },
     "execution_count": 34,
     "metadata": {},
     "output_type": "execute_result"
    }
   ],
   "source": [
    "EngAlph.tail(10)"
   ]
  },
  {
   "cell_type": "code",
   "execution_count": 36,
   "id": "841842e2-1d5d-4631-86cd-38a716bd7072",
   "metadata": {},
   "outputs": [
    {
     "data": {
      "text/plain": [
       "Series([], Name: SeriesEmpty, dtype: object)"
      ]
     },
     "execution_count": 36,
     "metadata": {},
     "output_type": "execute_result"
    }
   ],
   "source": [
    "MTseries"
   ]
  },
  {
   "cell_type": "code",
   "execution_count": 37,
   "id": "e763301a-2ca6-48ed-961b-2a9d7ba2a87f",
   "metadata": {},
   "outputs": [
    {
     "data": {
      "text/plain": [
       "3    March\n",
       "4    April\n",
       "5      May\n",
       "6     June\n",
       "7     July\n",
       "dtype: object"
      ]
     },
     "execution_count": 37,
     "metadata": {},
     "output_type": "execute_result"
    }
   ],
   "source": [
    "list=[]\n",
    "for i in range(3,8):\n",
    "    s=cd.month_name[i]\n",
    "    list.append(s)\n",
    "a={}\n",
    "for i in range(3,8):\n",
    "    a[i]=list[i-3]\n",
    "\n",
    "monthnames=pd.Series(list,index=a.keys())\n",
    "monthnames"
   ]
  },
  {
   "cell_type": "code",
   "execution_count": 35,
   "id": "7ee8f2a6-f2cb-4a25-b9fb-617b07c6d481",
   "metadata": {},
   "outputs": [
    {
     "data": {
      "text/plain": [
       "12    31\n",
       "11    30\n",
       "10    31\n",
       "9     30\n",
       "8     31\n",
       "7     31\n",
       "6     30\n",
       "5     31\n",
       "4     30\n",
       "3     31\n",
       "2     29\n",
       "1     31\n",
       "dtype: int64"
      ]
     },
     "execution_count": 35,
     "metadata": {},
     "output_type": "execute_result"
    }
   ],
   "source": [
    "MonthDays[12::-1]"
   ]
  },
  {
   "cell_type": "code",
   "execution_count": 36,
   "id": "2e7f6ea2-0b49-4ae1-a124-e34c5e082d77",
   "metadata": {},
   "outputs": [
    {
     "name": "stdout",
     "output_type": "stream",
     "text": [
      "      AT1  AT2  AT3  AT4  MID1  MID2\n",
      "sub1    7    8    9    6    13    14\n",
      "sub2    9   10    8    9    14    12\n",
      "sub3    8    9    7    5    15    12\n",
      "sub4    9    9    9   10    15    15\n",
      "sub5    9    8    6    5    14    10\n",
      "      AT1  AT2  AT3  AT4  MID1  MID2\n",
      "DBMS    7    8    9    6    13    14\n",
      "DLD     9   10    8    9    14    12\n",
      "FLAT    8    9    7    5    15    12\n",
      "DAA     9    9    9   10    15    15\n",
      "P&S     9    8    6    5    14    10\n",
      "      AT1  AT2  AT3  AT4  MID1  MID2\n",
      "DBMS    7    8    9    6    13    14\n",
      "DLD     9   10    8    9    14    12\n",
      "      AT1  AT2  AT3  AT4  MID1  MID2\n",
      "DBMS    7    8    9    6    13    14\n",
      "DLD     9   10    8    9    14    12\n",
      "FLAT    8    9    7    5    15    12\n",
      "DAA     9    9    9   10    15    15\n",
      "P&S     9    8    6    5    14    10\n",
      "new     6    4    7    3     9    10\n"
     ]
    }
   ],
   "source": [
    "#internal test marks\n",
    "ind=np.array([\"AT1\",\"AT2\",\"AT3\",\"AT4\",\"MID1\",\"MID2\"])\n",
    "s1=pd.Series([7,8,9,6,13,14],index=ind)\n",
    "s2=pd.Series([9,10,8,9,14,12],index=ind)\n",
    "s3=pd.Series([8,9,7,5,15,12],index=ind)\n",
    "s4=pd.Series([9,9,9,10,15,15],index=ind)\n",
    "s5=pd.Series([9,8,6,5,14,10],index=ind)\n",
    "int_marks=pd.DataFrame([s1,s2,s3,s4,s5],index=[\"sub1\",\"sub2\",\"sub3\",\"sub4\",\"sub5\"])\n",
    "print(int_marks)\n",
    "#performing operations\n",
    "#renaming the row names\n",
    "indices={\"sub1\":\"DBMS\",\"sub2\":\"DLD\",\"sub3\":\"FLAT\",\"sub4\":\"DAA\",\"sub5\":\"P&S\"}\n",
    "int_marks=int_marks.rename(index=indices)\n",
    "print(int_marks)\n",
    "#slicing\n",
    "print(int_marks[0:2])\n",
    "#add new row\n",
    "int_marks.loc[\"new\"]=[6,4,7,3,9,10]\n",
    "print(int_marks)\n"
   ]
  },
  {
   "cell_type": "code",
   "execution_count": 37,
   "id": "a95095b3-afdb-4b5d-aca7-0f7c111e3b9e",
   "metadata": {},
   "outputs": [
    {
     "name": "stdout",
     "output_type": "stream",
     "text": [
      "        Eng   Tel  Math   Sci   Soc    IT  PSPC   CLA  BEEE    EP    DS    DM  \\\n",
      "Tenth  94.0  92.0  99.0  93.0  97.0     -     -     -     -     -     -     -   \n",
      "P1     80.0  76.0  85.0  70.0     -  77.0     -     -     -     -     -     -   \n",
      "P2     88.0  72.0  80.0  79.0     -  80.0     -     -     -     -     -     -   \n",
      "E1S1      -     -     -     -     -     -  79.0  85.0  68.0     -     -     -   \n",
      "E1S2      -     -     -     -     -     -     -     -     -  79.0  80.0  75.0   \n",
      "\n",
      "       MEFA  JAVA  \n",
      "Tenth     -     -  \n",
      "P1        -     -  \n",
      "P2        -     -  \n",
      "E1S1      -     -  \n",
      "E1S2   65.0  60.0  \n"
     ]
    }
   ],
   "source": [
    "#10th,p1,p2 and e1 marks\n",
    "DF=pd.DataFrame([{\"Eng\":94,\"Tel\":92,\"Math\":99,\"Sci\":93,\"Soc\":97},{\"Eng\":80,\"Tel\":76,\"Math\":85,\"Sci\":70,\"IT\":77},{\"Eng\":88,\"Tel\":72,\"Math\":80,\"Sci\":79,\"IT\":80},{\"PSPC\":79,\"CLA\":85,\"BEEE\":68},{\"EP\":79,\"DS\":80,\"DM\":75,\"MEFA\":65,\"JAVA\":60}],index=[\"Tenth\",\"P1\",\"P2\",\"E1S1\",\"E1S2\"])\n",
    "DF.fillna(\"-\",inplace=True)\n",
    "print(DF)"
   ]
  },
  {
   "cell_type": "code",
   "execution_count": 38,
   "id": "3a4294bd-e395-4285-be55-ed4f97c2f1a5",
   "metadata": {},
   "outputs": [
    {
     "data": {
      "text/html": [
       "<div>\n",
       "<style scoped>\n",
       "    .dataframe tbody tr th:only-of-type {\n",
       "        vertical-align: middle;\n",
       "    }\n",
       "\n",
       "    .dataframe tbody tr th {\n",
       "        vertical-align: top;\n",
       "    }\n",
       "\n",
       "    .dataframe thead th {\n",
       "        text-align: right;\n",
       "    }\n",
       "</style>\n",
       "<table border=\"1\" class=\"dataframe\">\n",
       "  <thead>\n",
       "    <tr style=\"text-align: right;\">\n",
       "      <th></th>\n",
       "      <th>DEGREE</th>\n",
       "      <th>INSTITUTE</th>\n",
       "      <th>YEAR_OF_PASSING</th>\n",
       "      <th>PERCENTAGE</th>\n",
       "    </tr>\n",
       "  </thead>\n",
       "  <tbody>\n",
       "    <tr>\n",
       "      <th>1</th>\n",
       "      <td>SSC</td>\n",
       "      <td>ravindhra bharathi</td>\n",
       "      <td>2020</td>\n",
       "      <td>92</td>\n",
       "    </tr>\n",
       "    <tr>\n",
       "      <th>2</th>\n",
       "      <td>INTER</td>\n",
       "      <td>RGUKT-RKV</td>\n",
       "      <td>2022</td>\n",
       "      <td>87</td>\n",
       "    </tr>\n",
       "    <tr>\n",
       "      <th>3</th>\n",
       "      <td>BTECH</td>\n",
       "      <td>RGUKT-RKV</td>\n",
       "      <td>2026</td>\n",
       "      <td>-</td>\n",
       "    </tr>\n",
       "  </tbody>\n",
       "</table>\n",
       "</div>"
      ],
      "text/plain": [
       "  DEGREE           INSTITUTE  YEAR_OF_PASSING PERCENTAGE\n",
       "1    SSC  ravindhra bharathi             2020         92\n",
       "2  INTER           RGUKT-RKV             2022         87\n",
       "3  BTECH           RGUKT-RKV             2026          -"
      ]
     },
     "execution_count": 38,
     "metadata": {},
     "output_type": "execute_result"
    }
   ],
   "source": [
    "#educational background\n",
    "ind=[\"DEGREE\",\"INSTITUTE\",\"YEAR_OF_PASSING\",\"PERCENTAGE\"]\n",
    "ssc=pd.Series([\"SSC\",\"ravindhra bharathi\",2020,92],index=ind)\n",
    "inter=pd.Series([\"INTER\",\"RGUKT-RKV\",2022,87],index=ind)\n",
    "btech=pd.Series([\"BTECH\",\"RGUKT-RKV\",2026,\"-\"],index=ind)\n",
    "EDU_BG=pd.DataFrame([ssc,inter,btech],index=[1,2,3])\n",
    "EDU_BG"
   ]
  },
  {
   "cell_type": "code",
   "execution_count": null,
   "id": "993ed3b3-c52a-4a8a-b18d-d41a4ce80455",
   "metadata": {},
   "outputs": [],
   "source": []
  }
 ],
 "metadata": {
  "kernelspec": {
   "display_name": "Python 3 (ipykernel)",
   "language": "python",
   "name": "python3"
  },
  "language_info": {
   "codemirror_mode": {
    "name": "ipython",
    "version": 3
   },
   "file_extension": ".py",
   "mimetype": "text/x-python",
   "name": "python",
   "nbconvert_exporter": "python",
   "pygments_lexer": "ipython3",
   "version": "3.8.10"
  }
 },
 "nbformat": 4,
 "nbformat_minor": 5
}
