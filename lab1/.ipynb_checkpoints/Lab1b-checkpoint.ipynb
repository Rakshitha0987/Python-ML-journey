{
 "cells": [
  {
   "cell_type": "code",
   "execution_count": 1,
   "id": "c8b7231d-0261-44c1-861e-67f9ed45efec",
   "metadata": {},
   "outputs": [
    {
     "name": "stdin",
     "output_type": "stream",
     "text": [
      "enter the number of values you want to enter: 5\n",
      "enter the element: 2\n",
      "enter the element: 45\n",
      "enter the element: 6\n",
      "enter the element: 2\n",
      "enter the element: 0\n",
      "enter a number to check if it is in the list: -1\n"
     ]
    },
    {
     "name": "stdout",
     "output_type": "stream",
     "text": [
      "The entered element is not present\n"
     ]
    }
   ],
   "source": [
    "#1.number is present in the list or not\n",
    "\n",
    "list=[]\n",
    "n=int(input(\"enter the number of values you want to enter:\"))\n",
    "for i in range(n):\n",
    "    ele=int(input(\"enter the element:\"))\n",
    "    list.append(ele)\n",
    "a=int(input(\"enter a number to check if it is in the list:\"))\n",
    "for i in range(n):\n",
    "    if(list[i]==a):\n",
    "        print(\"The entered element is present at index:\",i)\n",
    "        break\n",
    "print(\"The entered element is not present\")\n"
   ]
  },
  {
   "cell_type": "code",
   "execution_count": 2,
   "id": "920ea100-00b5-4bf6-ab19-5d9c54b4b879",
   "metadata": {},
   "outputs": [
    {
     "name": "stdout",
     "output_type": "stream",
     "text": [
      "The marks percentage is: 90\n",
      "The marks in the 5th subject is: 100\n",
      "The maximum no.of marks is : 100\n",
      "The roll no is: 19\n"
     ]
    },
    {
     "name": "stdin",
     "output_type": "stream",
     "text": [
      "enter the new name: rakshi\n"
     ]
    },
    {
     "name": "stdout",
     "output_type": "stream",
     "text": [
      "['rakshi', 19, [89, 79, 89, 97, 100], 90]\n"
     ]
    }
   ],
   "source": [
    "#2.retrieving student data\n",
    "list=[\"Raju\",19,[89,79,89,97,100],90]\n",
    "print(\"The marks percentage is:\",list[3])\n",
    "print(\"The marks in the 5th subject is:\",list[2][4])\n",
    "max=0\n",
    "l=list[2]\n",
    "for i in range(len(l)):\n",
    "    if(l[i]>=max):\n",
    "        max=l[i]\n",
    "print(\"The maximum no.of marks is :\",max)\n",
    "print(\"The roll no is:\",list[1])\n",
    "a=input(\"enter the new name:\")\n",
    "list[0]=a\n",
    "print(list)\n"
   ]
  },
  {
   "cell_type": "code",
   "execution_count": 1,
   "id": "3548b9b6-502e-42fd-8818-5e1f4845255d",
   "metadata": {},
   "outputs": [
    {
     "name": "stdin",
     "output_type": "stream",
     "text": [
      "enter the no.of integers you want to add: 4\n",
      "enter the integer: -2\n",
      "enter the integer: 1\n",
      "enter the integer: 4\n",
      "enter the integer: -3\n"
     ]
    },
    {
     "name": "stdout",
     "output_type": "stream",
     "text": [
      "The list of all the integers is:\n",
      "-2 1 4 -3 \n",
      "The list of all the negative integers is:\n",
      "-2 -3 \n",
      "The list of all the positive integers is:\n",
      "1 4 "
     ]
    }
   ],
   "source": [
    "#5.lists seperating +ve and -ve integers\n",
    "\n",
    "n=int(input(\"enter the no.of integers you want to add:\"))\n",
    "total=[]\n",
    "positive=[]\n",
    "negative=[]\n",
    "pos=neg=0\n",
    "for i in range(n):\n",
    "    a=int(input(\"enter the integer:\"))\n",
    "    if(a<0):\n",
    "        negative.append(a)\n",
    "        neg=neg+1\n",
    "    else:\n",
    "        positive.append(a)\n",
    "        pos=pos+1\n",
    "    total.append(a)\n",
    "print(\"The list of all the integers is:\")\n",
    "for i in range(n):\n",
    "    print(total[i],end=\" \")\n",
    "print(\"\\nThe list of all the negative integers is:\")\n",
    "for i  in range(neg):\n",
    "    print(negative[i],end=\" \")\n",
    "print(\"\\nThe list of all the positive integers is:\")\n",
    "for i in range(pos):\n",
    "    print(positive[i],end=\" \")\n"
   ]
  },
  {
   "cell_type": "code",
   "execution_count": 3,
   "id": "22a31017-ca89-40f7-b4e2-10d974a0da05",
   "metadata": {},
   "outputs": [
    {
     "name": "stdin",
     "output_type": "stream",
     "text": [
      "no of students:  2\n",
      "enter emain id:  rakshi5289@gmail.com\n",
      "enter emain id:  kolla567@gmial.com\n"
     ]
    },
    {
     "name": "stdout",
     "output_type": "stream",
     "text": [
      "('rakshi5289@gmail.com', 'kolla567@gmial.com')\n",
      "('rakshi5289', 'kolla567')\n",
      "('gmail.com', 'gmial.com')\n"
     ]
    }
   ],
   "source": [
    "#8.creating two tuples for the email username and domain\n",
    "\n",
    "n=int(input(\"no of students: \"))\n",
    "stu=[]\n",
    "for i in range(n):\n",
    "    e=input(\"enter emain id: \")\n",
    "    stu.append(e)\n",
    "t=tuple(stu)\n",
    "l1=[]\n",
    "l2=[]\n",
    "print(t)\n",
    "for i in t:\n",
    "    l=i.split('@')\n",
    "    l1.append(l[0])\n",
    "    l2.append(l[1])\n",
    "t1=tuple(l1)\n",
    "t2=tuple(l2)\n",
    "print(t1)\n",
    "print(t2)\n"
   ]
  },
  {
   "cell_type": "code",
   "execution_count": 4,
   "id": "3ea8d51e-f775-4377-8777-9d2617b9324f",
   "metadata": {},
   "outputs": [
    {
     "name": "stdin",
     "output_type": "stream",
     "text": [
      "enter the no.of students: 3\n",
      "enter the name: kolla\n",
      "enter the name: rakshi\n",
      "enter the name: pravi\n",
      "enter the name that you want to search: hello\n"
     ]
    },
    {
     "name": "stdout",
     "output_type": "stream",
     "text": [
      "The entered name is not present.\n"
     ]
    }
   ],
   "source": [
    "#9.checking if the name is in the tuple or not\n",
    "\n",
    "n=int(input(\"enter the no.of students:\"))\n",
    "list=[]\n",
    "for i in range(n):\n",
    "    a=input(\"enter the name:\")\n",
    "    list.append(a)\n",
    "tuple=tuple(list)\n",
    "check=input(\"enter the name that you want to search:\")\n",
    "ind=0\n",
    "for i in range(n):\n",
    "    if(check==tuple[i]):\n",
    "        ind=1\n",
    "        break\n",
    "if(ind==1):\n",
    "     print(\"The entered name is present.\")\n",
    "else:\n",
    "    print(\"The entered name is not present.\")\n",
    "\n"
   ]
  },
  {
   "cell_type": "code",
   "execution_count": 5,
   "id": "6c92f48d-f7fb-4b31-b816-1498a416aba9",
   "metadata": {},
   "outputs": [
    {
     "name": "stdout",
     "output_type": "stream",
     "text": [
      "{'CHEMICAL', 'EEE', 'CIVIL', 'ECE', 'MME', 'CSE', 'MECHANICAL'}\n",
      "The total no.of branches offered by RGUKT is: 7\n"
     ]
    }
   ],
   "source": [
    "#Sets\n",
    "RGUKT={\"CSE\",\"MECHANICAL\",\"ECE\",\"CIVIL\",\"EEE\",\"CHEMICAL\",\"MME\"}\n",
    "print(RGUKT)\n",
    "a=len(RGUKT)\n",
    "print(\"The total no.of branches offered by RGUKT is:\",a)\n"
   ]
  },
  {
   "cell_type": "code",
   "execution_count": 6,
   "id": "3767b7cd-6f63-411e-bc46-e7907270dbd3",
   "metadata": {},
   "outputs": [
    {
     "name": "stdin",
     "output_type": "stream",
     "text": [
      "enter the name of the employee: kolla\n",
      "enter the salary of that employee: 200000\n",
      "Do you want to continue[1:yes 0:no] 1\n",
      "enter the name of the employee: hello\n",
      "enter the salary of that employee: 50000\n",
      "Do you want to continue[1:yes 0:no] 1\n",
      "enter the name of the employee: pravi\n",
      "enter the salary of that employee: 100000\n",
      "Do you want to continue[1:yes 0:no] 0\n"
     ]
    },
    {
     "name": "stdout",
     "output_type": "stream",
     "text": [
      "3\n",
      "The elements of the dictionary are: dict_items([('kolla', 200000.0), ('hello', 50000.0), ('pravi', 100000.0)])\n"
     ]
    }
   ],
   "source": [
    "#6.employees and their salaries\n",
    "\n",
    "dict={}\n",
    "while(1):\n",
    "    a=input(\"enter the name of the employee:\")\n",
    "    b=float(input(\"enter the salary of that employee:\"))\n",
    "    dict[a]=b\n",
    "    a=int(input(\"Do you want to continue[1:yes 0:no]\"))\n",
    "    if(a==0):\n",
    "        break\n",
    "print(len(dict))\n",
    "print(\"The elements of the dictionary are:\",dict.items())\n"
   ]
  },
  {
   "cell_type": "code",
   "execution_count": 7,
   "id": "939b7062-68b6-4992-b899-922470cb86d4",
   "metadata": {},
   "outputs": [
    {
     "name": "stdin",
     "output_type": "stream",
     "text": [
      "Please enter the number: 1235\n"
     ]
    },
    {
     "name": "stdout",
     "output_type": "stream",
     "text": [
      "One Two Three Five "
     ]
    }
   ],
   "source": [
    "#7.converting number into words\n",
    "\n",
    "dict={\"1\":\"One\",\"2\":\"Two\",\"3\":\"Three\",\"4\":\"Four\",\"5\":\"Five\",\"6\":\"Six\",\"7\":\"Seven\",\"8\":\"Eight\",\"9\":\"Nine\",\"0\":\"Zero\"}\n",
    "a=input(\"Please enter the number:\")\n",
    "for i in range(len(a)):\n",
    "    print(dict[a[i]],end=\" \")\n",
    "\n"
   ]
  },
  {
   "cell_type": "code",
   "execution_count": null,
   "id": "3b9e9401-a76f-4c80-9a70-a0f3bb9d424d",
   "metadata": {},
   "outputs": [],
   "source": []
  }
 ],
 "metadata": {
  "kernelspec": {
   "display_name": "Python 3 (ipykernel)",
   "language": "python",
   "name": "python3"
  },
  "language_info": {
   "codemirror_mode": {
    "name": "ipython",
    "version": 3
   },
   "file_extension": ".py",
   "mimetype": "text/x-python",
   "name": "python",
   "nbconvert_exporter": "python",
   "pygments_lexer": "ipython3",
   "version": "3.8.10"
  }
 },
 "nbformat": 4,
 "nbformat_minor": 5
}
