{
 "cells": [
  {
   "cell_type": "code",
   "execution_count": 2,
   "id": "7c48f43f-6e40-4f68-b320-7fdd4a370f86",
   "metadata": {},
   "outputs": [],
   "source": [
    "import numpy as np"
   ]
  },
  {
   "cell_type": "code",
   "execution_count": 3,
   "id": "0852488d-7d77-4741-bcb2-0799eb69a4f1",
   "metadata": {},
   "outputs": [
    {
     "data": {
      "text/plain": [
       "array(['a', 'e', 'i', 'o', 'u'], dtype='<U1')"
      ]
     },
     "execution_count": 3,
     "metadata": {},
     "output_type": "execute_result"
    }
   ],
   "source": [
    "vowels=np.array(['a','e','i','o','u'])\n",
    "vowels"
   ]
  },
  {
   "cell_type": "code",
   "execution_count": 4,
   "id": "37010aea-3f85-47b1-84f6-7cb390ac644e",
   "metadata": {},
   "outputs": [
    {
     "data": {
      "text/plain": [
       "array([[1, 1, 1, 1, 1],\n",
       "       [1, 1, 1, 1, 1]])"
      ]
     },
     "execution_count": 4,
     "metadata": {},
     "output_type": "execute_result"
    }
   ],
   "source": [
    "ones=np.ones((2,5),dtype=int)\n",
    "ones"
   ]
  },
  {
   "cell_type": "code",
   "execution_count": 5,
   "id": "e23bc3a4-8e17-4c3a-8e06-302470ddff8f",
   "metadata": {},
   "outputs": [
    {
     "data": {
      "text/plain": [
       "array([[  2.7,  -2. , -19. ],\n",
       "       [  0. ,   3.4,  99.9],\n",
       "       [ 10.6,   0. ,  13. ]])"
      ]
     },
     "execution_count": 5,
     "metadata": {},
     "output_type": "execute_result"
    }
   ],
   "source": [
    "myarray1=np.array([[2.7,-2,-19],[0,3.4,99.9],[10.6,0,13]])\n",
    "myarray1"
   ]
  },
  {
   "cell_type": "code",
   "execution_count": 6,
   "id": "6220e07f-8505-4947-a734-51ecfce9d5f7",
   "metadata": {},
   "outputs": [
    {
     "data": {
      "text/plain": [
       "array([[ 4.,  8., 12., 16., 20.],\n",
       "       [24., 28., 32., 36., 40.],\n",
       "       [44., 48., 52., 56., 60.]])"
      ]
     },
     "execution_count": 6,
     "metadata": {},
     "output_type": "execute_result"
    }
   ],
   "source": [
    "array=np.arange(4,64,4,dtype=float)\n",
    "myarray2=array.reshape(3,5)\n",
    "myarray2"
   ]
  },
  {
   "cell_type": "code",
   "execution_count": 7,
   "id": "b3317b9b-65e4-4662-b1d3-be494abc5922",
   "metadata": {},
   "outputs": [
    {
     "data": {
      "text/plain": [
       "[array([[-1.  , -0.75, -0.5 ],\n",
       "        [-0.25,  0.  ,  0.25],\n",
       "        [ 0.5 ,  0.75,  1.  ],\n",
       "        [ 1.25,  1.5 ,  1.75],\n",
       "        [ 2.  ,  2.25,  2.5 ]]),\n",
       " array([[2.75, 3.  , 3.25],\n",
       "        [3.5 , 3.75, 4.  ],\n",
       "        [4.25, 4.5 , 4.75],\n",
       "        [5.  , 5.25, 5.5 ],\n",
       "        [5.75, 6.  , 6.25]]),\n",
       " array([[6.5 , 6.75, 7.  ],\n",
       "        [7.25, 7.5 , 7.75],\n",
       "        [8.  , 8.25, 8.5 ],\n",
       "        [8.75, 9.  , 9.25]])]"
      ]
     },
     "execution_count": 7,
     "metadata": {},
     "output_type": "execute_result"
    }
   ],
   "source": [
    "array1=np.arange(-1,9.50,0.25)\n",
    "myarray4=array1.reshape(14,3)\n",
    "#print(myarray4)\n",
    "splited=np.array_split(myarray4,3)\n",
    "splited"
   ]
  },
  {
   "cell_type": "code",
   "execution_count": 8,
   "id": "b0d2c406-dde4-46fe-8a4c-71c44d247c29",
   "metadata": {},
   "outputs": [
    {
     "name": "stdout",
     "output_type": "stream",
     "text": [
      "[54.25 57.75 61.25]\n"
     ]
    }
   ],
   "source": [
    "print(myarray4.sum(axis=0))"
   ]
  },
  {
   "cell_type": "code",
   "execution_count": 9,
   "id": "b1cb6bbb-d645-49ea-a019-1db00a4dffea",
   "metadata": {},
   "outputs": [
    {
     "data": {
      "text/plain": [
       "9.25"
      ]
     },
     "execution_count": 9,
     "metadata": {},
     "output_type": "execute_result"
    }
   ],
   "source": [
    "myarray4.max()"
   ]
  },
  {
   "cell_type": "code",
   "execution_count": 10,
   "id": "f645bb9e-69f5-4a4d-ac2b-0b519ee882b1",
   "metadata": {},
   "outputs": [
    {
     "data": {
      "text/plain": [
       "array([-1.  , -0.25,  0.5 ,  1.25,  2.  ,  2.75,  3.5 ,  4.25,  5.  ,\n",
       "        5.75,  6.5 ,  7.25,  8.  ,  8.75])"
      ]
     },
     "execution_count": 10,
     "metadata": {},
     "output_type": "execute_result"
    }
   ],
   "source": [
    "myarray4.min(axis=1)"
   ]
  },
  {
   "cell_type": "code",
   "execution_count": 11,
   "id": "a26b014a-000a-45fe-9bd7-aa6fb89e8163",
   "metadata": {},
   "outputs": [
    {
     "data": {
      "text/plain": [
       "array([-0.75,  0.  ,  0.75,  1.5 ,  2.25,  3.  ,  3.75,  4.5 ,  5.25,\n",
       "        6.  ,  6.75,  7.5 ,  8.25,  9.  ])"
      ]
     },
     "execution_count": 11,
     "metadata": {},
     "output_type": "execute_result"
    }
   ],
   "source": [
    "myarray4.mean(axis=1)"
   ]
  },
  {
   "cell_type": "code",
   "execution_count": 12,
   "id": "7f7716ee-b787-4a76-ac06-dfa6b42f057d",
   "metadata": {},
   "outputs": [
    {
     "data": {
      "text/plain": [
       "array([3.02334666, 3.02334666, 3.02334666])"
      ]
     },
     "execution_count": 12,
     "metadata": {},
     "output_type": "execute_result"
    }
   ],
   "source": [
    "myarray4.std(axis=0)"
   ]
  },
  {
   "cell_type": "code",
   "execution_count": 13,
   "id": "2abc722a-00f0-4139-bdef-cfd098b9eecc",
   "metadata": {},
   "outputs": [
    {
     "data": {
      "text/plain": [
       "array([[0.33333333, 0.33333333, 0.33333333, 0.33333333, 0.33333333],\n",
       "       [0.33333333, 0.33333333, 0.33333333, 0.33333333, 0.33333333]])"
      ]
     },
     "execution_count": 13,
     "metadata": {},
     "output_type": "execute_result"
    }
   ],
   "source": [
    "ones/3"
   ]
  },
  {
   "cell_type": "code",
   "execution_count": 14,
   "id": "2469e9f2-bd5e-42d4-9b52-0928f823c84e",
   "metadata": {},
   "outputs": [
    {
     "data": {
      "text/plain": [
       "array([[  6.7,   6. ,  -7. ,  16. ,  20. ],\n",
       "       [ 24. ,  31.4, 131.9,  36. ,  40. ],\n",
       "       [ 54.6,  48. ,  65. ,  56. ,  60. ]])"
      ]
     },
     "execution_count": 14,
     "metadata": {},
     "output_type": "execute_result"
    }
   ],
   "source": [
    "a=np.zeros((3,2))\n",
    "new_array=np.hstack((myarray1,a))\n",
    "new_array+myarray2"
   ]
  },
  {
   "cell_type": "code",
   "execution_count": 15,
   "id": "be7998f6-d689-4e6e-a07f-b7fce580b20f",
   "metadata": {},
   "outputs": [
    {
     "data": {
      "text/plain": [
       "array([[ -1.3, -10. , -31. , -16. , -20. ],\n",
       "       [-24. , -24.6,  67.9, -36. , -40. ],\n",
       "       [-33.4, -48. , -39. , -56. , -60. ]])"
      ]
     },
     "execution_count": 15,
     "metadata": {},
     "output_type": "execute_result"
    }
   ],
   "source": [
    "new=new_array-myarray2\n",
    "new\n"
   ]
  },
  {
   "cell_type": "code",
   "execution_count": 16,
   "id": "7e57d3a9-8480-407e-a79c-8270e54f4d45",
   "metadata": {},
   "outputs": [
    {
     "data": {
      "text/plain": [
       "array([[ -873.2,  -946.4, -1019.6, -1092.8, -1166. ],\n",
       "       [ 4477.2,  4890.4,  5303.6,  5716.8,  6130. ],\n",
       "       [  614.4,   708.8,   803.2,   897.6,   992. ]])"
      ]
     },
     "execution_count": 16,
     "metadata": {},
     "output_type": "execute_result"
    }
   ],
   "source": [
    "myarray3=myarray1@myarray2\n",
    "myarray3"
   ]
  },
  {
   "cell_type": "code",
   "execution_count": null,
   "id": "5e1884f9-9fe0-44f4-9ea3-642b46a10130",
   "metadata": {},
   "outputs": [],
   "source": []
  }
 ],
 "metadata": {
  "kernelspec": {
   "display_name": "Python 3 (ipykernel)",
   "language": "python",
   "name": "python3"
  },
  "language_info": {
   "codemirror_mode": {
    "name": "ipython",
    "version": 3
   },
   "file_extension": ".py",
   "mimetype": "text/x-python",
   "name": "python",
   "nbconvert_exporter": "python",
   "pygments_lexer": "ipython3",
   "version": "3.8.10"
  }
 },
 "nbformat": 4,
 "nbformat_minor": 5
}
