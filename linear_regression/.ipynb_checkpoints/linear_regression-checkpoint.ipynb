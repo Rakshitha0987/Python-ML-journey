{
 "cells": [
  {
   "cell_type": "code",
   "execution_count": 8,
   "metadata": {},
   "outputs": [
    {
     "name": "stdout",
     "output_type": "stream",
     "text": [
      "Mean Squared Error: 0.5583273847560593\n",
      "R-squared: 0.4508688401979144\n",
      "Predicted Weather: drizzle\n"
     ]
    },
    {
     "name": "stderr",
     "output_type": "stream",
     "text": [
      "/home/rgukt123/.local/lib/python3.10/site-packages/sklearn/base.py:493: UserWarning: X does not have valid feature names, but LinearRegression was fitted with feature names\n",
      "  warnings.warn(\n"
     ]
    }
   ],
   "source": [
    "import pandas as pd\n",
    "from sklearn.model_selection import train_test_split\n",
    "from sklearn.linear_model import LinearRegression\n",
    "from sklearn.metrics import mean_squared_error, r2_score\n",
    "\n",
    "# Step 1: Load the data\n",
    "data = pd.read_csv('weather_data.csv')\n",
    "\n",
    "# Step 2: Preprocess the data (convert categorical weather type to numerical values)\n",
    "weather_mapping = {'sun': 0, 'drizzle': 1, 'rain': 2, 'snow': 3}\n",
    "data['weather'] = data['weather'].map(weather_mapping)\n",
    "\n",
    "# Step 3: Handle missing values\n",
    "data.dropna(inplace=True)\n",
    "\n",
    "# Step 4: Select features and target variable\n",
    "features = ['precipitation', 'temp_max', 'temp_min', 'wind']\n",
    "target = 'weather'\n",
    "\n",
    "X = data[features]\n",
    "y = data[target]\n",
    "\n",
    "# Step 5: Split the data into training and testing sets\n",
    "X_train, X_test, y_train, y_test = train_test_split(X, y, test_size=0.2, random_state=42)\n",
    "\n",
    "# Step 6: Train the linear regression model\n",
    "model = LinearRegression()\n",
    "model.fit(X_train, y_train)\n",
    "\n",
    "# Step 7: Evaluate the model\n",
    "y_pred = model.predict(X_test)\n",
    "\n",
    "# Calculate performance metrics\n",
    "mse = mean_squared_error(y_test, y_pred)\n",
    "r2 = r2_score(y_test, y_pred)\n",
    "\n",
    "print(f'Mean Squared Error: {mse}')\n",
    "print(f'R-squared: {r2}')\n",
    "\n",
    "# Function to make a prediction with default values\n",
    "def predict_weather(precipitation, temp_max, temp_min, wind):\n",
    "    input_data = [[precipitation, temp_max, temp_min, wind]]\n",
    "    prediction = model.predict(input_data)[0]\n",
    "    # Find the closest weather type\n",
    "    closest_weather = min(weather_mapping, key=lambda k: abs(weather_mapping[k] - prediction))\n",
    "    return closest_weather\n",
    "\n",
    "# Example: Predict weather with default values\n",
    "default_precipitation = 0.1\n",
    "default_temp_max = 25\n",
    "default_temp_min = 15\n",
    "default_wind = 5\n",
    "\n",
    "predicted_weather = predict_weather(default_precipitation, default_temp_max, default_temp_min, default_wind)\n",
    "print(f'Predicted Weather: {predicted_weather}')\n"
   ]
  },
  {
   "cell_type": "code",
   "execution_count": null,
   "metadata": {},
   "outputs": [],
   "source": []
  }
 ],
 "metadata": {
  "kernelspec": {
   "display_name": "Python 3",
   "language": "python",
   "name": "python3"
  },
  "language_info": {
   "codemirror_mode": {
    "name": "ipython",
    "version": 3
   },
   "file_extension": ".py",
   "mimetype": "text/x-python",
   "name": "python",
   "nbconvert_exporter": "python",
   "pygments_lexer": "ipython3",
   "version": "3.10.12"
  },
  "orig_nbformat": 4
 },
 "nbformat": 4,
 "nbformat_minor": 2
}
